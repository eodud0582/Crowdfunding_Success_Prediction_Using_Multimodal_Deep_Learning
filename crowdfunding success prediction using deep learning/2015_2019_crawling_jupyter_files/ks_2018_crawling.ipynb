{
 "cells": [
  {
   "cell_type": "code",
   "execution_count": 1,
   "metadata": {},
   "outputs": [],
   "source": [
    "import pandas as pd\n",
    "import numpy as np\n",
    "import matplotlib.pyplot as plt\n",
    "import seaborn as sns\n",
    "import os\n",
    "import json\n",
    "from datetime import datetime, timedelta\n",
    "np.random.seed(1)"
   ]
  },
  {
   "cell_type": "code",
   "execution_count": 2,
   "metadata": {},
   "outputs": [],
   "source": [
    "from bs4 import BeautifulSoup\n",
    "import requests\n",
    "import time\n",
    "import random\n",
    "from selenium import webdriver\n",
    "from selenium.webdriver import Chrome\n",
    "from selenium.webdriver import ChromeOptions\n",
    "from selenium.webdriver.common.by import By\n",
    "from selenium.webdriver.support.ui import WebDriverWait\n",
    "from selenium.webdriver.support import expected_conditions as EC"
   ]
  },
  {
   "cell_type": "code",
   "execution_count": null,
   "metadata": {},
   "outputs": [],
   "source": [
    "#2018년 데이터 나머지(오류) 크롤링"
   ]
  },
  {
   "cell_type": "code",
   "execution_count": null,
   "metadata": {},
   "outputs": [],
   "source": [
    "# content 데이터셋 불러오기"
   ]
  },
  {
   "cell_type": "code",
   "execution_count": 5,
   "metadata": {},
   "outputs": [],
   "source": [
    "concat_content_2018 = pd.read_csv('ks_content_crawled_2018.csv')"
   ]
  },
  {
   "cell_type": "code",
   "execution_count": 6,
   "metadata": {},
   "outputs": [
    {
     "data": {
      "text/html": [
       "<div>\n",
       "<style scoped>\n",
       "    .dataframe tbody tr th:only-of-type {\n",
       "        vertical-align: middle;\n",
       "    }\n",
       "\n",
       "    .dataframe tbody tr th {\n",
       "        vertical-align: top;\n",
       "    }\n",
       "\n",
       "    .dataframe thead th {\n",
       "        text-align: right;\n",
       "    }\n",
       "</style>\n",
       "<table border=\"1\" class=\"dataframe\">\n",
       "  <thead>\n",
       "    <tr style=\"text-align: right;\">\n",
       "      <th></th>\n",
       "      <th>index</th>\n",
       "      <th>content</th>\n",
       "      <th>risk_challenge</th>\n",
       "    </tr>\n",
       "  </thead>\n",
       "  <tbody>\n",
       "    <tr>\n",
       "      <td>0</td>\n",
       "      <td>0</td>\n",
       "      <td>['Firstly, thank you for viewing my project.',...</td>\n",
       "      <td></td>\n",
       "    </tr>\n",
       "    <tr>\n",
       "      <td>1</td>\n",
       "      <td>1</td>\n",
       "      <td>[\"This book is a commemoration of 10 years of ...</td>\n",
       "      <td>The biggest challenge is that this project wil...</td>\n",
       "    </tr>\n",
       "    <tr>\n",
       "      <td>2</td>\n",
       "      <td>2</td>\n",
       "      <td>['Who are we?', \"Melbourne City Ballet Theatre...</td>\n",
       "      <td>Starting a new ballet company presents many ch...</td>\n",
       "    </tr>\n",
       "    <tr>\n",
       "      <td>3</td>\n",
       "      <td>3</td>\n",
       "      <td>[\"Hello! My name is J. E. Kestner, and it's a ...</td>\n",
       "      <td>The books listed as rewards are all completely...</td>\n",
       "    </tr>\n",
       "    <tr>\n",
       "      <td>4</td>\n",
       "      <td>4</td>\n",
       "      <td>[\"Hey guys and gals, don't forget to view the ...</td>\n",
       "      <td>Hey guys it's Stephan.\\r\\n\\r\\nThis is my first...</td>\n",
       "    </tr>\n",
       "  </tbody>\n",
       "</table>\n",
       "</div>"
      ],
      "text/plain": [
       "   index                                            content  \\\n",
       "0      0  ['Firstly, thank you for viewing my project.',...   \n",
       "1      1  [\"This book is a commemoration of 10 years of ...   \n",
       "2      2  ['Who are we?', \"Melbourne City Ballet Theatre...   \n",
       "3      3  [\"Hello! My name is J. E. Kestner, and it's a ...   \n",
       "4      4  [\"Hey guys and gals, don't forget to view the ...   \n",
       "\n",
       "                                      risk_challenge  \n",
       "0                                                     \n",
       "1  The biggest challenge is that this project wil...  \n",
       "2  Starting a new ballet company presents many ch...  \n",
       "3  The books listed as rewards are all completely...  \n",
       "4  Hey guys it's Stephan.\\r\\n\\r\\nThis is my first...  "
      ]
     },
     "execution_count": 6,
     "metadata": {},
     "output_type": "execute_result"
    }
   ],
   "source": [
    "concat_content_2018.head()"
   ]
  },
  {
   "cell_type": "code",
   "execution_count": 7,
   "metadata": {},
   "outputs": [
    {
     "name": "stdout",
     "output_type": "stream",
     "text": [
      "<class 'pandas.core.frame.DataFrame'>\n",
      "RangeIndex: 27398 entries, 0 to 27397\n",
      "Data columns (total 3 columns):\n",
      "index             27398 non-null int64\n",
      "content           27397 non-null object\n",
      "risk_challenge    27330 non-null object\n",
      "dtypes: int64(1), object(2)\n",
      "memory usage: 642.3+ KB\n"
     ]
    }
   ],
   "source": [
    "concat_content_2018.info()"
   ]
  },
  {
   "cell_type": "code",
   "execution_count": null,
   "metadata": {},
   "outputs": [],
   "source": [
    "# ks_2018 데이터셋 개수 : 27398\n",
    "# 크롤링 된 2018 데이터셋 개수 : 27398\n",
    "# 개수는 동일"
   ]
  },
  {
   "cell_type": "code",
   "execution_count": 9,
   "metadata": {
    "scrolled": true
   },
   "outputs": [
    {
     "name": "stdout",
     "output_type": "stream",
     "text": [
      "(27398, 3)\n"
     ]
    },
    {
     "data": {
      "text/plain": [
       "index              0\n",
       "content            1\n",
       "risk_challenge    68\n",
       "dtype: int64"
      ]
     },
     "execution_count": 9,
     "metadata": {},
     "output_type": "execute_result"
    }
   ],
   "source": [
    "print(concat_content_2018.shape)\n",
    "concat_content_2018.isna().sum()"
   ]
  },
  {
   "cell_type": "code",
   "execution_count": 11,
   "metadata": {},
   "outputs": [],
   "source": [
    "concat_content_2018.sort_values(by=['index'], inplace=True)"
   ]
  },
  {
   "cell_type": "code",
   "execution_count": 12,
   "metadata": {
    "scrolled": true
   },
   "outputs": [
    {
     "data": {
      "text/html": [
       "<div>\n",
       "<style scoped>\n",
       "    .dataframe tbody tr th:only-of-type {\n",
       "        vertical-align: middle;\n",
       "    }\n",
       "\n",
       "    .dataframe tbody tr th {\n",
       "        vertical-align: top;\n",
       "    }\n",
       "\n",
       "    .dataframe thead th {\n",
       "        text-align: right;\n",
       "    }\n",
       "</style>\n",
       "<table border=\"1\" class=\"dataframe\">\n",
       "  <thead>\n",
       "    <tr style=\"text-align: right;\">\n",
       "      <th></th>\n",
       "      <th>index</th>\n",
       "      <th>content</th>\n",
       "      <th>risk_challenge</th>\n",
       "    </tr>\n",
       "  </thead>\n",
       "  <tbody>\n",
       "    <tr>\n",
       "      <td>0</td>\n",
       "      <td>0</td>\n",
       "      <td>['Firstly, thank you for viewing my project.',...</td>\n",
       "      <td></td>\n",
       "    </tr>\n",
       "    <tr>\n",
       "      <td>1</td>\n",
       "      <td>1</td>\n",
       "      <td>[\"This book is a commemoration of 10 years of ...</td>\n",
       "      <td>The biggest challenge is that this project wil...</td>\n",
       "    </tr>\n",
       "    <tr>\n",
       "      <td>2</td>\n",
       "      <td>2</td>\n",
       "      <td>['Who are we?', \"Melbourne City Ballet Theatre...</td>\n",
       "      <td>Starting a new ballet company presents many ch...</td>\n",
       "    </tr>\n",
       "    <tr>\n",
       "      <td>3</td>\n",
       "      <td>3</td>\n",
       "      <td>[\"Hello! My name is J. E. Kestner, and it's a ...</td>\n",
       "      <td>The books listed as rewards are all completely...</td>\n",
       "    </tr>\n",
       "    <tr>\n",
       "      <td>4</td>\n",
       "      <td>4</td>\n",
       "      <td>[\"Hey guys and gals, don't forget to view the ...</td>\n",
       "      <td>Hey guys it's Stephan.\\r\\n\\r\\nThis is my first...</td>\n",
       "    </tr>\n",
       "    <tr>\n",
       "      <td>...</td>\n",
       "      <td>...</td>\n",
       "      <td>...</td>\n",
       "      <td>...</td>\n",
       "    </tr>\n",
       "    <tr>\n",
       "      <td>27393</td>\n",
       "      <td>27393</td>\n",
       "      <td>['Hello all! \\xa0It is Meredith from TheBasicG...</td>\n",
       "      <td>There are a chance production of the pins can ...</td>\n",
       "    </tr>\n",
       "    <tr>\n",
       "      <td>27394</td>\n",
       "      <td>27394</td>\n",
       "      <td>['Hello from Dunedin New Zealand \\\\m/', 'Demon...</td>\n",
       "      <td>The only challenge we have is the stress in th...</td>\n",
       "    </tr>\n",
       "    <tr>\n",
       "      <td>27395</td>\n",
       "      <td>27395</td>\n",
       "      <td>[\"We're a not-for-profit, zero-waste store, ai...</td>\n",
       "      <td>As with any new business, there's always some ...</td>\n",
       "    </tr>\n",
       "    <tr>\n",
       "      <td>27396</td>\n",
       "      <td>27396</td>\n",
       "      <td>['The funding is being used for the self-publi...</td>\n",
       "      <td>As the book is nearly complete, there is littl...</td>\n",
       "    </tr>\n",
       "    <tr>\n",
       "      <td>27397</td>\n",
       "      <td>27397</td>\n",
       "      <td>[\"Hoerner Bro's Hot Sauce Co. starts with us t...</td>\n",
       "      <td>While there are always risks and challenges th...</td>\n",
       "    </tr>\n",
       "  </tbody>\n",
       "</table>\n",
       "<p>27398 rows × 3 columns</p>\n",
       "</div>"
      ],
      "text/plain": [
       "       index                                            content  \\\n",
       "0          0  ['Firstly, thank you for viewing my project.',...   \n",
       "1          1  [\"This book is a commemoration of 10 years of ...   \n",
       "2          2  ['Who are we?', \"Melbourne City Ballet Theatre...   \n",
       "3          3  [\"Hello! My name is J. E. Kestner, and it's a ...   \n",
       "4          4  [\"Hey guys and gals, don't forget to view the ...   \n",
       "...      ...                                                ...   \n",
       "27393  27393  ['Hello all! \\xa0It is Meredith from TheBasicG...   \n",
       "27394  27394  ['Hello from Dunedin New Zealand \\\\m/', 'Demon...   \n",
       "27395  27395  [\"We're a not-for-profit, zero-waste store, ai...   \n",
       "27396  27396  ['The funding is being used for the self-publi...   \n",
       "27397  27397  [\"Hoerner Bro's Hot Sauce Co. starts with us t...   \n",
       "\n",
       "                                          risk_challenge  \n",
       "0                                                         \n",
       "1      The biggest challenge is that this project wil...  \n",
       "2      Starting a new ballet company presents many ch...  \n",
       "3      The books listed as rewards are all completely...  \n",
       "4      Hey guys it's Stephan.\\r\\n\\r\\nThis is my first...  \n",
       "...                                                  ...  \n",
       "27393  There are a chance production of the pins can ...  \n",
       "27394  The only challenge we have is the stress in th...  \n",
       "27395  As with any new business, there's always some ...  \n",
       "27396  As the book is nearly complete, there is littl...  \n",
       "27397  While there are always risks and challenges th...  \n",
       "\n",
       "[27398 rows x 3 columns]"
      ]
     },
     "execution_count": 12,
     "metadata": {},
     "output_type": "execute_result"
    }
   ],
   "source": [
    "concat_content_2018"
   ]
  },
  {
   "cell_type": "code",
   "execution_count": 7,
   "metadata": {},
   "outputs": [],
   "source": [
    "# just in case:\n",
    "concat_content_2019 = pd.concat([first_content_2019, second_content_2019], ignore_index=True) #수직으로 합치기(concat)\n",
    "concat_content_2019.sort_values(by=['index'], inplace=True) #df.sort_values(by='col1', ascending=False, na_position='first')"
   ]
  },
  {
   "cell_type": "code",
   "execution_count": null,
   "metadata": {},
   "outputs": [],
   "source": []
  },
  {
   "cell_type": "code",
   "execution_count": null,
   "metadata": {},
   "outputs": [],
   "source": [
    "# error 데이터셋 불러오기"
   ]
  },
  {
   "cell_type": "code",
   "execution_count": 19,
   "metadata": {
    "scrolled": true
   },
   "outputs": [
    {
     "name": "stdout",
     "output_type": "stream",
     "text": [
      "(51, 2)\n"
     ]
    },
    {
     "data": {
      "text/html": [
       "<div>\n",
       "<style scoped>\n",
       "    .dataframe tbody tr th:only-of-type {\n",
       "        vertical-align: middle;\n",
       "    }\n",
       "\n",
       "    .dataframe tbody tr th {\n",
       "        vertical-align: top;\n",
       "    }\n",
       "\n",
       "    .dataframe thead th {\n",
       "        text-align: right;\n",
       "    }\n",
       "</style>\n",
       "<table border=\"1\" class=\"dataframe\">\n",
       "  <thead>\n",
       "    <tr style=\"text-align: right;\">\n",
       "      <th></th>\n",
       "      <th>index</th>\n",
       "      <th>error_url</th>\n",
       "    </tr>\n",
       "  </thead>\n",
       "  <tbody>\n",
       "    <tr>\n",
       "      <td>0</td>\n",
       "      <td>151</td>\n",
       "      <td>https://www.kickstarter.com/projects/162985738...</td>\n",
       "    </tr>\n",
       "    <tr>\n",
       "      <td>1</td>\n",
       "      <td>377</td>\n",
       "      <td>https://www.kickstarter.com/projects/143291728...</td>\n",
       "    </tr>\n",
       "    <tr>\n",
       "      <td>2</td>\n",
       "      <td>824</td>\n",
       "      <td>https://www.kickstarter.com/projects/177335557...</td>\n",
       "    </tr>\n",
       "    <tr>\n",
       "      <td>3</td>\n",
       "      <td>935</td>\n",
       "      <td>https://www.kickstarter.com/projects/113048302...</td>\n",
       "    </tr>\n",
       "    <tr>\n",
       "      <td>4</td>\n",
       "      <td>1266</td>\n",
       "      <td>https://www.kickstarter.com/projects/111660649...</td>\n",
       "    </tr>\n",
       "  </tbody>\n",
       "</table>\n",
       "</div>"
      ],
      "text/plain": [
       "   index                                          error_url\n",
       "0    151  https://www.kickstarter.com/projects/162985738...\n",
       "1    377  https://www.kickstarter.com/projects/143291728...\n",
       "2    824  https://www.kickstarter.com/projects/177335557...\n",
       "3    935  https://www.kickstarter.com/projects/113048302...\n",
       "4   1266  https://www.kickstarter.com/projects/111660649..."
      ]
     },
     "execution_count": 19,
     "metadata": {},
     "output_type": "execute_result"
    }
   ],
   "source": [
    "ks_middle_errors_2018 = pd.read_csv('ks_middle_errors_2018.csv')\n",
    "print(ks_middle_errors_2018.shape)\n",
    "ks_middle_errors_2018.head()"
   ]
  },
  {
   "cell_type": "code",
   "execution_count": 20,
   "metadata": {
    "scrolled": true
   },
   "outputs": [
    {
     "name": "stdout",
     "output_type": "stream",
     "text": [
      "<class 'pandas.core.frame.DataFrame'>\n",
      "RangeIndex: 51 entries, 0 to 50\n",
      "Data columns (total 2 columns):\n",
      "index        51 non-null int64\n",
      "error_url    51 non-null object\n",
      "dtypes: int64(1), object(1)\n",
      "memory usage: 944.0+ bytes\n"
     ]
    }
   ],
   "source": [
    "ks_middle_errors_2018.info() #index도 int로 맞게 되어있고"
   ]
  },
  {
   "cell_type": "code",
   "execution_count": null,
   "metadata": {},
   "outputs": [],
   "source": [
    "# just in case:\n",
    "ks_middle_errors_2019['index'].astype(int) #'index'에 문자형인 'index'값들이 들어가 있어 int로 변경이 안 됨"
   ]
  },
  {
   "cell_type": "code",
   "execution_count": 25,
   "metadata": {
    "scrolled": true
   },
   "outputs": [
    {
     "data": {
      "text/html": [
       "<div>\n",
       "<style scoped>\n",
       "    .dataframe tbody tr th:only-of-type {\n",
       "        vertical-align: middle;\n",
       "    }\n",
       "\n",
       "    .dataframe tbody tr th {\n",
       "        vertical-align: top;\n",
       "    }\n",
       "\n",
       "    .dataframe thead th {\n",
       "        text-align: right;\n",
       "    }\n",
       "</style>\n",
       "<table border=\"1\" class=\"dataframe\">\n",
       "  <thead>\n",
       "    <tr style=\"text-align: right;\">\n",
       "      <th></th>\n",
       "      <th>error_url</th>\n",
       "    </tr>\n",
       "    <tr>\n",
       "      <th>index</th>\n",
       "      <th></th>\n",
       "    </tr>\n",
       "  </thead>\n",
       "  <tbody>\n",
       "    <tr>\n",
       "      <td>151</td>\n",
       "      <td>https://www.kickstarter.com/projects/162985738...</td>\n",
       "    </tr>\n",
       "    <tr>\n",
       "      <td>377</td>\n",
       "      <td>https://www.kickstarter.com/projects/143291728...</td>\n",
       "    </tr>\n",
       "    <tr>\n",
       "      <td>824</td>\n",
       "      <td>https://www.kickstarter.com/projects/177335557...</td>\n",
       "    </tr>\n",
       "    <tr>\n",
       "      <td>935</td>\n",
       "      <td>https://www.kickstarter.com/projects/113048302...</td>\n",
       "    </tr>\n",
       "    <tr>\n",
       "      <td>1266</td>\n",
       "      <td>https://www.kickstarter.com/projects/111660649...</td>\n",
       "    </tr>\n",
       "    <tr>\n",
       "      <td>1331</td>\n",
       "      <td>https://www.kickstarter.com/projects/kittynaut...</td>\n",
       "    </tr>\n",
       "    <tr>\n",
       "      <td>1794</td>\n",
       "      <td>https://www.kickstarter.com/projects/297090558...</td>\n",
       "    </tr>\n",
       "    <tr>\n",
       "      <td>1985</td>\n",
       "      <td>https://www.kickstarter.com/projects/810974932...</td>\n",
       "    </tr>\n",
       "    <tr>\n",
       "      <td>2093</td>\n",
       "      <td>https://www.kickstarter.com/projects/linzy/a-l...</td>\n",
       "    </tr>\n",
       "    <tr>\n",
       "      <td>2413</td>\n",
       "      <td>https://www.kickstarter.com/projects/421570632...</td>\n",
       "    </tr>\n",
       "    <tr>\n",
       "      <td>2523</td>\n",
       "      <td>https://www.kickstarter.com/projects/196057510...</td>\n",
       "    </tr>\n",
       "    <tr>\n",
       "      <td>2631</td>\n",
       "      <td>https://www.kickstarter.com/projects/patrickhe...</td>\n",
       "    </tr>\n",
       "    <tr>\n",
       "      <td>2739</td>\n",
       "      <td>https://www.kickstarter.com/projects/189678655...</td>\n",
       "    </tr>\n",
       "    <tr>\n",
       "      <td>3059</td>\n",
       "      <td>https://www.kickstarter.com/projects/116589164...</td>\n",
       "    </tr>\n",
       "    <tr>\n",
       "      <td>3615</td>\n",
       "      <td>https://www.kickstarter.com/projects/118636798...</td>\n",
       "    </tr>\n",
       "    <tr>\n",
       "      <td>3943</td>\n",
       "      <td>https://www.kickstarter.com/projects/223013583...</td>\n",
       "    </tr>\n",
       "    <tr>\n",
       "      <td>4050</td>\n",
       "      <td>https://www.kickstarter.com/projects/idlehands...</td>\n",
       "    </tr>\n",
       "    <tr>\n",
       "      <td>4727</td>\n",
       "      <td>https://www.kickstarter.com/projects/popericha...</td>\n",
       "    </tr>\n",
       "    <tr>\n",
       "      <td>4937</td>\n",
       "      <td>https://www.kickstarter.com/projects/950796189...</td>\n",
       "    </tr>\n",
       "    <tr>\n",
       "      <td>5050</td>\n",
       "      <td>https://www.kickstarter.com/projects/theankhli...</td>\n",
       "    </tr>\n",
       "    <tr>\n",
       "      <td>5283</td>\n",
       "      <td>https://www.kickstarter.com/projects/91903271/...</td>\n",
       "    </tr>\n",
       "    <tr>\n",
       "      <td>5393</td>\n",
       "      <td>https://www.kickstarter.com/projects/9207618/h...</td>\n",
       "    </tr>\n",
       "    <tr>\n",
       "      <td>5501</td>\n",
       "      <td>https://www.kickstarter.com/projects/61713640/...</td>\n",
       "    </tr>\n",
       "    <tr>\n",
       "      <td>5608</td>\n",
       "      <td>https://www.kickstarter.com/projects/211652069...</td>\n",
       "    </tr>\n",
       "    <tr>\n",
       "      <td>5717</td>\n",
       "      <td>https://www.kickstarter.com/projects/530169337...</td>\n",
       "    </tr>\n",
       "    <tr>\n",
       "      <td>6132</td>\n",
       "      <td>https://www.kickstarter.com/projects/206827054...</td>\n",
       "    </tr>\n",
       "    <tr>\n",
       "      <td>6235</td>\n",
       "      <td>https://www.kickstarter.com/projects/188825563...</td>\n",
       "    </tr>\n",
       "    <tr>\n",
       "      <td>6460</td>\n",
       "      <td>https://www.kickstarter.com/projects/166117412...</td>\n",
       "    </tr>\n",
       "    <tr>\n",
       "      <td>6682</td>\n",
       "      <td>https://www.kickstarter.com/projects/243535299...</td>\n",
       "    </tr>\n",
       "    <tr>\n",
       "      <td>6788</td>\n",
       "      <td>https://www.kickstarter.com/projects/echolyle/...</td>\n",
       "    </tr>\n",
       "    <tr>\n",
       "      <td>6894</td>\n",
       "      <td>https://www.kickstarter.com/projects/kawaiistu...</td>\n",
       "    </tr>\n",
       "    <tr>\n",
       "      <td>7003</td>\n",
       "      <td>https://www.kickstarter.com/projects/181423341...</td>\n",
       "    </tr>\n",
       "    <tr>\n",
       "      <td>7106</td>\n",
       "      <td>https://www.kickstarter.com/projects/718218802...</td>\n",
       "    </tr>\n",
       "    <tr>\n",
       "      <td>8137</td>\n",
       "      <td>https://www.kickstarter.com/projects/sgnrobb/t...</td>\n",
       "    </tr>\n",
       "    <tr>\n",
       "      <td>8243</td>\n",
       "      <td>https://www.kickstarter.com/projects/207980354...</td>\n",
       "    </tr>\n",
       "    <tr>\n",
       "      <td>8570</td>\n",
       "      <td>https://www.kickstarter.com/projects/199408660...</td>\n",
       "    </tr>\n",
       "    <tr>\n",
       "      <td>8670</td>\n",
       "      <td>https://www.kickstarter.com/projects/786746880...</td>\n",
       "    </tr>\n",
       "    <tr>\n",
       "      <td>9124</td>\n",
       "      <td>https://www.kickstarter.com/projects/188130891...</td>\n",
       "    </tr>\n",
       "    <tr>\n",
       "      <td>9229</td>\n",
       "      <td>https://www.kickstarter.com/projects/137218600...</td>\n",
       "    </tr>\n",
       "    <tr>\n",
       "      <td>9323</td>\n",
       "      <td>https://www.kickstarter.com/projects/4010357/c...</td>\n",
       "    </tr>\n",
       "    <tr>\n",
       "      <td>9668</td>\n",
       "      <td>https://www.kickstarter.com/projects/commune/c...</td>\n",
       "    </tr>\n",
       "    <tr>\n",
       "      <td>10227</td>\n",
       "      <td>https://www.kickstarter.com/projects/507736258...</td>\n",
       "    </tr>\n",
       "    <tr>\n",
       "      <td>10330</td>\n",
       "      <td>https://www.kickstarter.com/projects/patrickma...</td>\n",
       "    </tr>\n",
       "    <tr>\n",
       "      <td>10558</td>\n",
       "      <td>https://www.kickstarter.com/projects/196302429...</td>\n",
       "    </tr>\n",
       "    <tr>\n",
       "      <td>11001</td>\n",
       "      <td>https://www.kickstarter.com/projects/103691273...</td>\n",
       "    </tr>\n",
       "    <tr>\n",
       "      <td>11207</td>\n",
       "      <td>https://www.kickstarter.com/projects/islandspo...</td>\n",
       "    </tr>\n",
       "    <tr>\n",
       "      <td>11310</td>\n",
       "      <td>https://www.kickstarter.com/projects/8898540/p...</td>\n",
       "    </tr>\n",
       "    <tr>\n",
       "      <td>11879</td>\n",
       "      <td>https://www.kickstarter.com/projects/algoflame...</td>\n",
       "    </tr>\n",
       "    <tr>\n",
       "      <td>14197</td>\n",
       "      <td>https://www.kickstarter.com/projects/kittynaut...</td>\n",
       "    </tr>\n",
       "    <tr>\n",
       "      <td>14872</td>\n",
       "      <td>https://www.kickstarter.com/projects/118197605...</td>\n",
       "    </tr>\n",
       "    <tr>\n",
       "      <td>16750</td>\n",
       "      <td>https://www.kickstarter.com/projects/sweetfuck...</td>\n",
       "    </tr>\n",
       "  </tbody>\n",
       "</table>\n",
       "</div>"
      ],
      "text/plain": [
       "                                               error_url\n",
       "index                                                   \n",
       "151    https://www.kickstarter.com/projects/162985738...\n",
       "377    https://www.kickstarter.com/projects/143291728...\n",
       "824    https://www.kickstarter.com/projects/177335557...\n",
       "935    https://www.kickstarter.com/projects/113048302...\n",
       "1266   https://www.kickstarter.com/projects/111660649...\n",
       "1331   https://www.kickstarter.com/projects/kittynaut...\n",
       "1794   https://www.kickstarter.com/projects/297090558...\n",
       "1985   https://www.kickstarter.com/projects/810974932...\n",
       "2093   https://www.kickstarter.com/projects/linzy/a-l...\n",
       "2413   https://www.kickstarter.com/projects/421570632...\n",
       "2523   https://www.kickstarter.com/projects/196057510...\n",
       "2631   https://www.kickstarter.com/projects/patrickhe...\n",
       "2739   https://www.kickstarter.com/projects/189678655...\n",
       "3059   https://www.kickstarter.com/projects/116589164...\n",
       "3615   https://www.kickstarter.com/projects/118636798...\n",
       "3943   https://www.kickstarter.com/projects/223013583...\n",
       "4050   https://www.kickstarter.com/projects/idlehands...\n",
       "4727   https://www.kickstarter.com/projects/popericha...\n",
       "4937   https://www.kickstarter.com/projects/950796189...\n",
       "5050   https://www.kickstarter.com/projects/theankhli...\n",
       "5283   https://www.kickstarter.com/projects/91903271/...\n",
       "5393   https://www.kickstarter.com/projects/9207618/h...\n",
       "5501   https://www.kickstarter.com/projects/61713640/...\n",
       "5608   https://www.kickstarter.com/projects/211652069...\n",
       "5717   https://www.kickstarter.com/projects/530169337...\n",
       "6132   https://www.kickstarter.com/projects/206827054...\n",
       "6235   https://www.kickstarter.com/projects/188825563...\n",
       "6460   https://www.kickstarter.com/projects/166117412...\n",
       "6682   https://www.kickstarter.com/projects/243535299...\n",
       "6788   https://www.kickstarter.com/projects/echolyle/...\n",
       "6894   https://www.kickstarter.com/projects/kawaiistu...\n",
       "7003   https://www.kickstarter.com/projects/181423341...\n",
       "7106   https://www.kickstarter.com/projects/718218802...\n",
       "8137   https://www.kickstarter.com/projects/sgnrobb/t...\n",
       "8243   https://www.kickstarter.com/projects/207980354...\n",
       "8570   https://www.kickstarter.com/projects/199408660...\n",
       "8670   https://www.kickstarter.com/projects/786746880...\n",
       "9124   https://www.kickstarter.com/projects/188130891...\n",
       "9229   https://www.kickstarter.com/projects/137218600...\n",
       "9323   https://www.kickstarter.com/projects/4010357/c...\n",
       "9668   https://www.kickstarter.com/projects/commune/c...\n",
       "10227  https://www.kickstarter.com/projects/507736258...\n",
       "10330  https://www.kickstarter.com/projects/patrickma...\n",
       "10558  https://www.kickstarter.com/projects/196302429...\n",
       "11001  https://www.kickstarter.com/projects/103691273...\n",
       "11207  https://www.kickstarter.com/projects/islandspo...\n",
       "11310  https://www.kickstarter.com/projects/8898540/p...\n",
       "11879  https://www.kickstarter.com/projects/algoflame...\n",
       "14197  https://www.kickstarter.com/projects/kittynaut...\n",
       "14872  https://www.kickstarter.com/projects/118197605...\n",
       "16750  https://www.kickstarter.com/projects/sweetfuck..."
      ]
     },
     "execution_count": 25,
     "metadata": {},
     "output_type": "execute_result"
    }
   ],
   "source": [
    "errors_index_set = ks_middle_errors_2018.set_index('index')\n",
    "errors_index_set"
   ]
  },
  {
   "cell_type": "code",
   "execution_count": 26,
   "metadata": {},
   "outputs": [
    {
     "data": {
      "text/plain": [
       "Int64Index([  151,   377,   824,   935,  1266,  1331,  1794,  1985,  2093,\n",
       "             2413,  2523,  2631,  2739,  3059,  3615,  3943,  4050,  4727,\n",
       "             4937,  5050,  5283,  5393,  5501,  5608,  5717,  6132,  6235,\n",
       "             6460,  6682,  6788,  6894,  7003,  7106,  8137,  8243,  8570,\n",
       "             8670,  9124,  9229,  9323,  9668, 10227, 10330, 10558, 11001,\n",
       "            11207, 11310, 11879, 14197, 14872, 16750],\n",
       "           dtype='int64', name='index')"
      ]
     },
     "execution_count": 26,
     "metadata": {},
     "output_type": "execute_result"
    }
   ],
   "source": [
    "errors_index_set.index"
   ]
  },
  {
   "cell_type": "code",
   "execution_count": 29,
   "metadata": {
    "scrolled": true
   },
   "outputs": [
    {
     "data": {
      "text/html": [
       "<div>\n",
       "<style scoped>\n",
       "    .dataframe tbody tr th:only-of-type {\n",
       "        vertical-align: middle;\n",
       "    }\n",
       "\n",
       "    .dataframe tbody tr th {\n",
       "        vertical-align: top;\n",
       "    }\n",
       "\n",
       "    .dataframe thead th {\n",
       "        text-align: right;\n",
       "    }\n",
       "</style>\n",
       "<table border=\"1\" class=\"dataframe\">\n",
       "  <thead>\n",
       "    <tr style=\"text-align: right;\">\n",
       "      <th></th>\n",
       "      <th>index</th>\n",
       "      <th>content</th>\n",
       "      <th>risk_challenge</th>\n",
       "    </tr>\n",
       "  </thead>\n",
       "  <tbody>\n",
       "    <tr>\n",
       "      <td>0</td>\n",
       "      <td>0</td>\n",
       "      <td>['Firstly, thank you for viewing my project.',...</td>\n",
       "      <td></td>\n",
       "    </tr>\n",
       "    <tr>\n",
       "      <td>1</td>\n",
       "      <td>1</td>\n",
       "      <td>[\"This book is a commemoration of 10 years of ...</td>\n",
       "      <td>The biggest challenge is that this project wil...</td>\n",
       "    </tr>\n",
       "    <tr>\n",
       "      <td>2</td>\n",
       "      <td>2</td>\n",
       "      <td>['Who are we?', \"Melbourne City Ballet Theatre...</td>\n",
       "      <td>Starting a new ballet company presents many ch...</td>\n",
       "    </tr>\n",
       "    <tr>\n",
       "      <td>3</td>\n",
       "      <td>3</td>\n",
       "      <td>[\"Hello! My name is J. E. Kestner, and it's a ...</td>\n",
       "      <td>The books listed as rewards are all completely...</td>\n",
       "    </tr>\n",
       "    <tr>\n",
       "      <td>4</td>\n",
       "      <td>4</td>\n",
       "      <td>[\"Hey guys and gals, don't forget to view the ...</td>\n",
       "      <td>Hey guys it's Stephan.\\r\\n\\r\\nThis is my first...</td>\n",
       "    </tr>\n",
       "    <tr>\n",
       "      <td>...</td>\n",
       "      <td>...</td>\n",
       "      <td>...</td>\n",
       "      <td>...</td>\n",
       "    </tr>\n",
       "    <tr>\n",
       "      <td>27393</td>\n",
       "      <td>27393</td>\n",
       "      <td>['Hello all! \\xa0It is Meredith from TheBasicG...</td>\n",
       "      <td>There are a chance production of the pins can ...</td>\n",
       "    </tr>\n",
       "    <tr>\n",
       "      <td>27394</td>\n",
       "      <td>27394</td>\n",
       "      <td>['Hello from Dunedin New Zealand \\\\m/', 'Demon...</td>\n",
       "      <td>The only challenge we have is the stress in th...</td>\n",
       "    </tr>\n",
       "    <tr>\n",
       "      <td>27395</td>\n",
       "      <td>27395</td>\n",
       "      <td>[\"We're a not-for-profit, zero-waste store, ai...</td>\n",
       "      <td>As with any new business, there's always some ...</td>\n",
       "    </tr>\n",
       "    <tr>\n",
       "      <td>27396</td>\n",
       "      <td>27396</td>\n",
       "      <td>['The funding is being used for the self-publi...</td>\n",
       "      <td>As the book is nearly complete, there is littl...</td>\n",
       "    </tr>\n",
       "    <tr>\n",
       "      <td>27397</td>\n",
       "      <td>27397</td>\n",
       "      <td>[\"Hoerner Bro's Hot Sauce Co. starts with us t...</td>\n",
       "      <td>While there are always risks and challenges th...</td>\n",
       "    </tr>\n",
       "  </tbody>\n",
       "</table>\n",
       "<p>27347 rows × 3 columns</p>\n",
       "</div>"
      ],
      "text/plain": [
       "       index                                            content  \\\n",
       "0          0  ['Firstly, thank you for viewing my project.',...   \n",
       "1          1  [\"This book is a commemoration of 10 years of ...   \n",
       "2          2  ['Who are we?', \"Melbourne City Ballet Theatre...   \n",
       "3          3  [\"Hello! My name is J. E. Kestner, and it's a ...   \n",
       "4          4  [\"Hey guys and gals, don't forget to view the ...   \n",
       "...      ...                                                ...   \n",
       "27393  27393  ['Hello all! \\xa0It is Meredith from TheBasicG...   \n",
       "27394  27394  ['Hello from Dunedin New Zealand \\\\m/', 'Demon...   \n",
       "27395  27395  [\"We're a not-for-profit, zero-waste store, ai...   \n",
       "27396  27396  ['The funding is being used for the self-publi...   \n",
       "27397  27397  [\"Hoerner Bro's Hot Sauce Co. starts with us t...   \n",
       "\n",
       "                                          risk_challenge  \n",
       "0                                                         \n",
       "1      The biggest challenge is that this project wil...  \n",
       "2      Starting a new ballet company presents many ch...  \n",
       "3      The books listed as rewards are all completely...  \n",
       "4      Hey guys it's Stephan.\\r\\n\\r\\nThis is my first...  \n",
       "...                                                  ...  \n",
       "27393  There are a chance production of the pins can ...  \n",
       "27394  The only challenge we have is the stress in th...  \n",
       "27395  As with any new business, there's always some ...  \n",
       "27396  As the book is nearly complete, there is littl...  \n",
       "27397  While there are always risks and challenges th...  \n",
       "\n",
       "[27347 rows x 3 columns]"
      ]
     },
     "execution_count": 29,
     "metadata": {},
     "output_type": "execute_result"
    }
   ],
   "source": [
    "content_2018_removed_errors = concat_content_2018.drop(errors_index_set.index, axis=0) #오류였던 행들 제거\n",
    "content_2018_removed_errors"
   ]
  },
  {
   "cell_type": "code",
   "execution_count": 38,
   "metadata": {},
   "outputs": [
    {
     "data": {
      "text/plain": [
       "27347"
      ]
     },
     "execution_count": 38,
     "metadata": {},
     "output_type": "execute_result"
    }
   ],
   "source": [
    "27398-51"
   ]
  },
  {
   "cell_type": "code",
   "execution_count": 30,
   "metadata": {},
   "outputs": [],
   "source": [
    "content_2018_removed_errors.to_csv('edited_content_2018.csv', index=False, encoding='utf-8')"
   ]
  },
  {
   "cell_type": "code",
   "execution_count": null,
   "metadata": {},
   "outputs": [],
   "source": [
    "#error index들 다 제거한 crawled content csv파일을 새로 생성했으며, error였던 url들 다시 크롤링 할 때 이 csv에다가 append 할 것이다"
   ]
  },
  {
   "cell_type": "code",
   "execution_count": 37,
   "metadata": {},
   "outputs": [
    {
     "data": {
      "text/html": [
       "<div>\n",
       "<style scoped>\n",
       "    .dataframe tbody tr th:only-of-type {\n",
       "        vertical-align: middle;\n",
       "    }\n",
       "\n",
       "    .dataframe tbody tr th {\n",
       "        vertical-align: top;\n",
       "    }\n",
       "\n",
       "    .dataframe thead th {\n",
       "        text-align: right;\n",
       "    }\n",
       "</style>\n",
       "<table border=\"1\" class=\"dataframe\">\n",
       "  <thead>\n",
       "    <tr style=\"text-align: right;\">\n",
       "      <th></th>\n",
       "      <th>index</th>\n",
       "      <th>error_url</th>\n",
       "    </tr>\n",
       "  </thead>\n",
       "  <tbody>\n",
       "    <tr>\n",
       "      <td>0</td>\n",
       "      <td>151</td>\n",
       "      <td>https://www.kickstarter.com/projects/162985738...</td>\n",
       "    </tr>\n",
       "    <tr>\n",
       "      <td>1</td>\n",
       "      <td>377</td>\n",
       "      <td>https://www.kickstarter.com/projects/143291728...</td>\n",
       "    </tr>\n",
       "    <tr>\n",
       "      <td>2</td>\n",
       "      <td>824</td>\n",
       "      <td>https://www.kickstarter.com/projects/177335557...</td>\n",
       "    </tr>\n",
       "    <tr>\n",
       "      <td>3</td>\n",
       "      <td>935</td>\n",
       "      <td>https://www.kickstarter.com/projects/113048302...</td>\n",
       "    </tr>\n",
       "    <tr>\n",
       "      <td>4</td>\n",
       "      <td>1266</td>\n",
       "      <td>https://www.kickstarter.com/projects/111660649...</td>\n",
       "    </tr>\n",
       "  </tbody>\n",
       "</table>\n",
       "</div>"
      ],
      "text/plain": [
       "   index                                          error_url\n",
       "0    151  https://www.kickstarter.com/projects/162985738...\n",
       "1    377  https://www.kickstarter.com/projects/143291728...\n",
       "2    824  https://www.kickstarter.com/projects/177335557...\n",
       "3    935  https://www.kickstarter.com/projects/113048302...\n",
       "4   1266  https://www.kickstarter.com/projects/111660649..."
      ]
     },
     "execution_count": 37,
     "metadata": {},
     "output_type": "execute_result"
    }
   ],
   "source": [
    "ks_middle_errors_2018.head()"
   ]
  },
  {
   "cell_type": "code",
   "execution_count": 35,
   "metadata": {
    "scrolled": true
   },
   "outputs": [
    {
     "data": {
      "text/plain": [
       "151"
      ]
     },
     "execution_count": 35,
     "metadata": {},
     "output_type": "execute_result"
    }
   ],
   "source": [
    "ks_middle_errors_2018['index'][0]"
   ]
  },
  {
   "cell_type": "code",
   "execution_count": 33,
   "metadata": {
    "scrolled": true
   },
   "outputs": [
    {
     "data": {
      "text/plain": [
       "51"
      ]
     },
     "execution_count": 33,
     "metadata": {},
     "output_type": "execute_result"
    }
   ],
   "source": [
    "len(ks_middle_errors_2018['error_url'])"
   ]
  },
  {
   "cell_type": "code",
   "execution_count": null,
   "metadata": {},
   "outputs": [],
   "source": []
  },
  {
   "cell_type": "code",
   "execution_count": 40,
   "metadata": {
    "scrolled": true
   },
   "outputs": [
    {
     "name": "stdout",
     "output_type": "stream",
     "text": [
      "row:6 index:1794\n",
      "Unexpected error at 1985 'NoneType' object has no attribute 'select'\n",
      "Retrying: 0\n",
      "Error while retrying: 'NoneType' object has no attribute 'select'\n",
      "Retrying: 1\n",
      "Error while retrying: 'NoneType' object has no attribute 'select'\n",
      "Retrying: 2\n",
      "Error while retrying: 'NoneType' object has no attribute 'select'\n",
      "Retrying: 3\n",
      "Error while retrying: 'NoneType' object has no attribute 'select'\n",
      "row:8 index:2093\n",
      "row:9 index:2413\n",
      "row:10 index:2523\n",
      "row:11 index:2631\n",
      "row:12 index:2739\n",
      "row:13 index:3059\n",
      "row:14 index:3615\n",
      "row:15 index:3943\n",
      "row:16 index:4050\n",
      "row:17 index:4727\n",
      "row:18 index:4937\n",
      "row:19 index:5050\n",
      "row:20 index:5283\n",
      "row:21 index:5393\n",
      "row:22 index:5501\n",
      "row:23 index:5608\n",
      "row:24 index:5717\n",
      "Unexpected error at 6132 'NoneType' object has no attribute 'select'\n",
      "Retrying: 0\n",
      "Error while retrying: 'NoneType' object has no attribute 'select'\n",
      "Retrying: 1\n",
      "Error while retrying: 'NoneType' object has no attribute 'select'\n",
      "Retrying: 2\n",
      "Error while retrying: 'NoneType' object has no attribute 'select'\n",
      "Retrying: 3\n",
      "Error while retrying: 'NoneType' object has no attribute 'select'\n",
      "row:26 index:6235\n",
      "row:27 index:6460\n",
      "row:28 index:6682\n",
      "row:29 index:6788\n",
      "row:30 index:6894\n",
      "row:31 index:7003\n",
      "row:32 index:7106\n",
      "row:33 index:8137\n",
      "row:34 index:8243\n",
      "row:35 index:8570\n",
      "row:36 index:8670\n",
      "row:37 index:9124\n",
      "row:38 index:9229\n",
      "row:39 index:9323\n",
      "row:40 index:9668\n",
      "row:41 index:10227\n",
      "row:42 index:10330\n",
      "row:43 index:10558\n",
      "row:44 index:11001\n",
      "row:45 index:11207\n",
      "row:46 index:11310\n",
      "row:47 index:11879\n",
      "Unexpected error at 14197 'NoneType' object has no attribute 'select'\n",
      "Retrying: 0\n",
      "Error while retrying: 'NoneType' object has no attribute 'select'\n",
      "Retrying: 1\n",
      "Error while retrying: 'NoneType' object has no attribute 'select'\n",
      "Retrying: 2\n",
      "Error while retrying: 'NoneType' object has no attribute 'select'\n",
      "Retrying: 3\n",
      "Error while retrying: 'NoneType' object has no attribute 'select'\n",
      "row:49 index:14872\n",
      "Unexpected error at 16750 'NoneType' object has no attribute 'select'\n",
      "Retrying: 0\n",
      "Error while retrying: 'NoneType' object has no attribute 'select'\n",
      "Retrying: 1\n",
      "Error while retrying: 'NoneType' object has no attribute 'select'\n",
      "Retrying: 2\n",
      "Error while retrying: 'NoneType' object has no attribute 'select'\n",
      "Retrying: 3\n",
      "Error while retrying: 'NoneType' object has no attribute 'select'\n"
     ]
    }
   ],
   "source": [
    "options = ChromeOptions()\n",
    "options.add_argument('headless')\n",
    "options.add_argument(\"--user-agent=Mozilla/5.0 (Windows NT 10.0; Win64; x64) AppleWebKit/537.36 (KHTML, like Gecko) Chrome/79.0.3945.117 Safari/537.36\")\n",
    "#path = '/Users/DaeyoungKim/Python/Final_Project/Kickstarter_2019-12-12/chromedriver' #chromedriver 위치\n",
    "#driver = Chrome(executable_path=path, options=options) #컴퓨터에 Path 환경변수 설정 안 했을 때엔 여기서 이렇게 해줄 수 있음\n",
    "driver = Chrome(options=options)\n",
    "\n",
    "filename_contents = 'edited_content_2018.csv'\n",
    "filename_errors = 'new_errors_2018.csv'\n",
    "content_list = []\n",
    "\n",
    "for row, url in enumerate(ks_middle_errors_2018['error_url'][6:], start=6):\n",
    "    idx = ks_middle_errors_2018['index'][row]\n",
    "    \n",
    "    driver.get(url)\n",
    "    time.sleep(random.uniform(8,20))\n",
    "    req = driver.page_source\n",
    "    soup = BeautifulSoup(req, 'lxml')\n",
    "    try:\n",
    "        content_tag = soup.select_one('div.rte__content')\n",
    "        contents = content_tag.select('p')\n",
    "        contents_collected = []\n",
    "        for c in contents:\n",
    "            content = c.get_text().strip()\n",
    "            contents_collected.append(content)\n",
    "        \n",
    "        try:\n",
    "            risk_challenge_tag = soup.select_one('div#risksAndChallenges')\n",
    "            risk_challenge_list = risk_challenge_tag.select('p.js-risks-text.text-preline')\n",
    "            for rc in risk_challenge_list:\n",
    "                risk_challenge = rc.get_text().strip()\n",
    "        except:\n",
    "            risk_challenge=\" \" #또는 np.nan\n",
    "        \n",
    "        #오류 나기 전까지 저장되어 있는 content_list에는 이어서 append하고; 그래서 content_list에 모으는 것도 유지할 수 있도록\n",
    "        content_list.append([idx, contents_collected, risk_challenge])\n",
    "        \n",
    "        #오류 난 후부턴 다시 크롤링 할 때, 매 페이지 긁어온 것마다 바로바로 csv파일에 한줄씩 append 할 것이다\n",
    "        content_list_since_error = []\n",
    "        content_list_since_error.append([idx, contents_collected, risk_challenge])\n",
    "        pd.DataFrame(content_list_since_error, columns=['index','content','risk_challenge']).to_csv(filename_contents, index=False, header=False, mode='a', encoding='UTF-8')\n",
    "        print(\"row:{}\".format(row), \"index:{}\".format(idx))\n",
    "        \n",
    "    except Exception as ex:\n",
    "        print(\"Unexpected error at {}\".format(idx), ex)\n",
    "        error_url = url\n",
    "        count = 0\n",
    "        while count < 4: #11에서 4로 변경\n",
    "            print(\"Retrying:\", count)\n",
    "            driver.get(error_url)\n",
    "            time.sleep(random.uniform(8,20))\n",
    "            req = driver.page_source\n",
    "            soup = BeautifulSoup(req, 'lxml')\n",
    "            try:\n",
    "                content_tag = soup.select_one('div.rte__content')\n",
    "                contents = content_tag.select('p')\n",
    "                contents_collected = []\n",
    "                for c in contents:\n",
    "                    content = c.get_text().strip()\n",
    "                    contents_collected.append(content)\n",
    "                \n",
    "                try:\n",
    "                    risk_challenge_tag = soup.select_one('div#risksAndChallenges')\n",
    "                    risk_challenge_list = risk_challenge_tag.select('p.js-risks-text.text-preline')\n",
    "                    for rc in risk_challenge_list:\n",
    "                        risk_challenge = rc.get_text().strip()\n",
    "                except:\n",
    "                    risk_challenge=\" \" #또는 np.nan\n",
    "                \n",
    "                content_list.append([idx, contents_collected, risk_challenge])\n",
    "\n",
    "                content_list_since_error = []\n",
    "                content_list_since_error.append([idx, contents_collected, risk_challenge])\n",
    "                pd.DataFrame(content_list_since_error, columns=['index','content','risk_challenge']).to_csv(filename_contents, index=False, header=False, mode='a', encoding='UTF-8')\n",
    "                print(\"row:{}\".format(row), \"index:{}\".format(idx))\n",
    "                break\n",
    "                \n",
    "            except Exception as et:\n",
    "                print(\"Error while retrying:\", et)\n",
    "                time.sleep(random.uniform(100,130))\n",
    "                count += 1\n",
    "                continue\n",
    "        \n",
    "        #만약 재시도를 10번 했는데도 크롤링에 실패한다면, 원래 했던대로 오류 index, url, nan값을 csv파일들에 저장\n",
    "        if count == 4:\n",
    "            content_list.append([idx, error_url, np.nan])\n",
    "        \n",
    "            error_into_saved_csv = []\n",
    "            error_into_saved_csv.append([idx, error_url, np.nan])\n",
    "            pd.DataFrame(error_into_saved_csv, columns=['index','content','risk_challenge']).to_csv(filename_contents, index=False, header=False, mode='a', encoding='UTF-8')\n",
    "            \n",
    "            error_list = []\n",
    "            error_list.append([idx, error_url])\n",
    "            pd.DataFrame(error_list, columns=['index','error_url']).to_csv(filename_errors, index=False, header=False, mode='a', encoding='UTF-8')\n",
    "            \n",
    "        continue\n",
    "    \n",
    "driver.close()"
   ]
  },
  {
   "cell_type": "code",
   "execution_count": null,
   "metadata": {},
   "outputs": [],
   "source": [
    "# 도달해야 할 row : 51"
   ]
  },
  {
   "cell_type": "code",
   "execution_count": null,
   "metadata": {},
   "outputs": [],
   "source": [
    "index 1985 : hidden\n",
    "index 6132 : hidden\n",
    "index 14197 : hidden\n",
    "index 16750 : hidden"
   ]
  },
  {
   "cell_type": "code",
   "execution_count": null,
   "metadata": {},
   "outputs": [],
   "source": [
    "#content에는 총 6개(전부터 돌렸었던 기존 csv파일에 결측치 1개 만들었던 것, 여기서 다시 크롤링 했을 때 중간에 결측치 1개, \n",
    "# 그리고 위에 결측치 4개 --> 그래서 총 6개의 결측치가 있어야 함"
   ]
  },
  {
   "cell_type": "code",
   "execution_count": 41,
   "metadata": {},
   "outputs": [],
   "source": [
    "edited_content_2018 = pd.read_csv('edited_content_2018.csv')"
   ]
  },
  {
   "cell_type": "code",
   "execution_count": 42,
   "metadata": {},
   "outputs": [
    {
     "data": {
      "text/plain": [
       "index              0\n",
       "content            6\n",
       "risk_challenge    22\n",
       "dtype: int64"
      ]
     },
     "execution_count": 42,
     "metadata": {},
     "output_type": "execute_result"
    }
   ],
   "source": [
    "edited_content_2018.isna().sum()"
   ]
  },
  {
   "cell_type": "code",
   "execution_count": null,
   "metadata": {},
   "outputs": [],
   "source": []
  },
  {
   "cell_type": "code",
   "execution_count": null,
   "metadata": {},
   "outputs": [],
   "source": []
  }
 ],
 "metadata": {
  "kernelspec": {
   "display_name": "Python 3",
   "language": "python",
   "name": "python3"
  },
  "language_info": {
   "codemirror_mode": {
    "name": "ipython",
    "version": 3
   },
   "file_extension": ".py",
   "mimetype": "text/x-python",
   "name": "python",
   "nbconvert_exporter": "python",
   "pygments_lexer": "ipython3",
   "version": "3.7.5"
  },
  "toc": {
   "base_numbering": 1,
   "nav_menu": {},
   "number_sections": true,
   "sideBar": true,
   "skip_h1_title": false,
   "title_cell": "Table of Contents",
   "title_sidebar": "Contents",
   "toc_cell": false,
   "toc_position": {},
   "toc_section_display": true,
   "toc_window_display": false
  }
 },
 "nbformat": 4,
 "nbformat_minor": 4
}
