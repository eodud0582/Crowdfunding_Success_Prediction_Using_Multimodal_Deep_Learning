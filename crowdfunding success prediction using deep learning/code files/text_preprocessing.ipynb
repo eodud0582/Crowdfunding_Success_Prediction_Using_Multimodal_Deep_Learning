{
 "cells": [
  {
   "cell_type": "markdown",
   "metadata": {},
   "source": [
    "# 텍스트 데이터 전처리 및 분석"
   ]
  },
  {
   "cell_type": "markdown",
   "metadata": {},
   "source": [
    "## 텍스트 분석 수행 프로세스\n",
    "#### 1. 텍스트 전처리\n",
    "- 클렌징(cleansing)\n",
    "    - 특수문자, 기호 필요없는 문자 제거\n",
    "    - 대소문자 변경 (보통은 소문자로 바꾼다)\n",
    "- stop word(분석에 필요 없는 토큰) 제거\n",
    "    - 우리가 분석하려는 문장에서 필요없는 단어들; 의미와 관련 없는 단어/글자들\n",
    "    - 예) 문법적으로 들어가는 단어들 (조사, 전치사 등) -- 이런것들은 의미와는 관련이 없기에 제거한다\n",
    "- 텍스트 토큰화\n",
    "    - 분석의 최소단위로 나누는/분류하는 작업 --> 이 쪼개진 애들을 '토큰'이라고 한다\n",
    "    - 토큰의 단위는 정해진 것이 없다 -- 우리가 정하기 나름\n",
    "    - 단어가 최소단위일 수도 있고, 알파벳글자 하나가 최소단위일 수도 있고\n",
    "    - 보통 단어단위나 글자단위로 나눈다.\n",
    "- 어근 추출(Stemming/Lemmatization)을 통한 텍스트 정규화 작업\n",
    "    - 같은 글자인데 다르게 나오는 경우 (동사인데 과겨형이면 뒤에 ed가 붙거나, 3인칭일때 s가 붙는 것처럼; work = works 사실상 같은 의미인데) --> 그렇다면 글자를 통일시키는게 필요할 텐데 이런 작업을 어근추출이라고 한다\n",
    "\n",
    "#### 2. Feature vectorization\n",
    "- 문자열 비정형 데이터인 텍스트를 숫자타입의 정형데이터로 만드는 작업 (텍스트 --> 숫자)\n",
    "- 단어 하나하나가 컬럼이 되고, 거기에 있는 값들은 내가 뭘 넣느냐엑 따라 달라질 수 있다 (그 단어 개수가 될 수도 있고, 그 단어가 있는지 없는지를 나타내는 것일 수도 있고, etc.)\n",
    "- BOW와 Word2Vec\n",
    "\n",
    "#### 3. 머신러닝 모델 수립, 학습, 예측, 평가"
   ]
  },
  {
   "cell_type": "markdown",
   "metadata": {},
   "source": [
    "## 수집한 텍스트 데이터 불러오기"
   ]
  },
  {
   "cell_type": "code",
   "execution_count": 1,
   "metadata": {},
   "outputs": [],
   "source": [
    "import pandas as pd\n",
    "import numpy as np\n",
    "import matplotlib.pyplot as plt\n",
    "import seaborn as sns\n",
    "from datetime import datetime, timedelta\n",
    "np.random.seed(1)"
   ]
  },
  {
   "cell_type": "code",
   "execution_count": 216,
   "metadata": {},
   "outputs": [],
   "source": [
    "text_dataset = pd.read_csv('./data_2015_2019/text_dataset_2015_2019.csv')"
   ]
  },
  {
   "cell_type": "code",
   "execution_count": 217,
   "metadata": {},
   "outputs": [
    {
     "name": "stdout",
     "output_type": "stream",
     "text": [
      "<class 'pandas.core.frame.DataFrame'>\n",
      "RangeIndex: 153576 entries, 0 to 153575\n",
      "Data columns (total 4 columns):\n",
      "name              153576 non-null object\n",
      "blurb             153574 non-null object\n",
      "content           153549 non-null object\n",
      "risk_challenge    153387 non-null object\n",
      "dtypes: object(4)\n",
      "memory usage: 4.7+ MB\n"
     ]
    }
   ],
   "source": [
    "text_dataset.info()"
   ]
  },
  {
   "cell_type": "code",
   "execution_count": null,
   "metadata": {},
   "outputs": [],
   "source": [
    "# name 컬럼 : 펀딩 제목\n",
    "# blurb 컬럼 : 펀딩 부제목; 펀딩에 대한 간략한 소개글\n",
    "# content 컬럼 : 펀딩에 대한 설명/본문\n",
    "# risk_challenge : 펀딩 관련 리스크나 위험 요소"
   ]
  },
  {
   "cell_type": "code",
   "execution_count": 218,
   "metadata": {},
   "outputs": [],
   "source": [
    "text_dataset.reset_index(inplace=True)"
   ]
  },
  {
   "cell_type": "code",
   "execution_count": 219,
   "metadata": {},
   "outputs": [
    {
     "data": {
      "text/html": [
       "<div>\n",
       "<style scoped>\n",
       "    .dataframe tbody tr th:only-of-type {\n",
       "        vertical-align: middle;\n",
       "    }\n",
       "\n",
       "    .dataframe tbody tr th {\n",
       "        vertical-align: top;\n",
       "    }\n",
       "\n",
       "    .dataframe thead th {\n",
       "        text-align: right;\n",
       "    }\n",
       "</style>\n",
       "<table border=\"1\" class=\"dataframe\">\n",
       "  <thead>\n",
       "    <tr style=\"text-align: right;\">\n",
       "      <th></th>\n",
       "      <th>index</th>\n",
       "      <th>name</th>\n",
       "      <th>blurb</th>\n",
       "      <th>content</th>\n",
       "      <th>risk_challenge</th>\n",
       "    </tr>\n",
       "  </thead>\n",
       "  <tbody>\n",
       "    <tr>\n",
       "      <th>0</th>\n",
       "      <td>0</td>\n",
       "      <td>Strange Wit, an original graphic novel about J...</td>\n",
       "      <td>The true biography of the historical figure, w...</td>\n",
       "      <td>['Meet Jane Bowles: incredible author, inspiri...</td>\n",
       "      <td>The main obstacles this book faces are the siz...</td>\n",
       "    </tr>\n",
       "  </tbody>\n",
       "</table>\n",
       "</div>"
      ],
      "text/plain": [
       "   index                                               name  \\\n",
       "0      0  Strange Wit, an original graphic novel about J...   \n",
       "\n",
       "                                               blurb  \\\n",
       "0  The true biography of the historical figure, w...   \n",
       "\n",
       "                                             content  \\\n",
       "0  ['Meet Jane Bowles: incredible author, inspiri...   \n",
       "\n",
       "                                      risk_challenge  \n",
       "0  The main obstacles this book faces are the siz...  "
      ]
     },
     "execution_count": 219,
     "metadata": {},
     "output_type": "execute_result"
    }
   ],
   "source": [
    "text_dataset.head(1)"
   ]
  },
  {
   "cell_type": "code",
   "execution_count": 220,
   "metadata": {},
   "outputs": [
    {
     "data": {
      "text/plain": [
       "index               0\n",
       "name                0\n",
       "blurb               2\n",
       "content            27\n",
       "risk_challenge    189\n",
       "dtype: int64"
      ]
     },
     "execution_count": 220,
     "metadata": {},
     "output_type": "execute_result"
    }
   ],
   "source": [
    "# 결측치 조회\n",
    "text_dataset.isna().sum()"
   ]
  },
  {
   "cell_type": "markdown",
   "metadata": {},
   "source": [
    "## 텍스트 데이터 결측치 및 잡음(노이즈) 처리\n",
    "- 공백이나 특수문자만 있는 데이터 조회 및 처리"
   ]
  },
  {
   "cell_type": "code",
   "execution_count": 221,
   "metadata": {},
   "outputs": [
    {
     "data": {
      "text/html": [
       "<div>\n",
       "<style scoped>\n",
       "    .dataframe tbody tr th:only-of-type {\n",
       "        vertical-align: middle;\n",
       "    }\n",
       "\n",
       "    .dataframe tbody tr th {\n",
       "        vertical-align: top;\n",
       "    }\n",
       "\n",
       "    .dataframe thead th {\n",
       "        text-align: right;\n",
       "    }\n",
       "</style>\n",
       "<table border=\"1\" class=\"dataframe\">\n",
       "  <thead>\n",
       "    <tr style=\"text-align: right;\">\n",
       "      <th></th>\n",
       "      <th>index</th>\n",
       "      <th>name</th>\n",
       "      <th>blurb</th>\n",
       "      <th>content</th>\n",
       "      <th>risk_challenge</th>\n",
       "    </tr>\n",
       "  </thead>\n",
       "  <tbody>\n",
       "  </tbody>\n",
       "</table>\n",
       "</div>"
      ],
      "text/plain": [
       "Empty DataFrame\n",
       "Columns: [index, name, blurb, content, risk_challenge]\n",
       "Index: []"
      ]
     },
     "execution_count": 221,
     "metadata": {},
     "output_type": "execute_result"
    }
   ],
   "source": [
    "# name 컬럼 조회\n",
    "noise_list = [\"[ ]\", \"[]\", \"['']\", '[\\\\]', '[|]', '[?]', '[/]', '[=]', '[+]', '[_]', '[~]', '[`]', '[-]', '[,]', '[.]', \"''\", \"\", \" \", \".\", \"..\", \"...\", \"......\", \"-\", \"_\", \"\\'\", \"\\\"\", \"=\", \"+\", \"()\", \"{}\", \"\\\\\", \"|\", \",\", \"/\", \"~\", \"`\", \"!\", \"@\", \"#\", \"$\", \"%\", \"^\", \"^^\", \"&\", \"*\", \"<\", \">\"]\n",
    "text_dataset[text_dataset['name'].isin(noise_list)]"
   ]
  },
  {
   "cell_type": "code",
   "execution_count": 222,
   "metadata": {
    "scrolled": true
   },
   "outputs": [
    {
     "data": {
      "text/html": [
       "<div>\n",
       "<style scoped>\n",
       "    .dataframe tbody tr th:only-of-type {\n",
       "        vertical-align: middle;\n",
       "    }\n",
       "\n",
       "    .dataframe tbody tr th {\n",
       "        vertical-align: top;\n",
       "    }\n",
       "\n",
       "    .dataframe thead th {\n",
       "        text-align: right;\n",
       "    }\n",
       "</style>\n",
       "<table border=\"1\" class=\"dataframe\">\n",
       "  <thead>\n",
       "    <tr style=\"text-align: right;\">\n",
       "      <th></th>\n",
       "      <th>index</th>\n",
       "      <th>name</th>\n",
       "      <th>blurb</th>\n",
       "      <th>content</th>\n",
       "      <th>risk_challenge</th>\n",
       "    </tr>\n",
       "  </thead>\n",
       "  <tbody>\n",
       "    <tr>\n",
       "      <th>59131</th>\n",
       "      <td>59131</td>\n",
       "      <td>Cancelled</td>\n",
       "      <td>-</td>\n",
       "      <td>[\"II'm raising funds to be able to create 2 cu...</td>\n",
       "      <td>The challenges I face during this project is m...</td>\n",
       "    </tr>\n",
       "    <tr>\n",
       "      <th>77435</th>\n",
       "      <td>77435</td>\n",
       "      <td>XXX</td>\n",
       "      <td>-</td>\n",
       "      <td>['xxxxxx']</td>\n",
       "      <td>xxxxx</td>\n",
       "    </tr>\n",
       "    <tr>\n",
       "      <th>89219</th>\n",
       "      <td>89219</td>\n",
       "      <td>Kicked Out</td>\n",
       "      <td>.</td>\n",
       "      <td>['The winner gets a once in a lifetime chance ...</td>\n",
       "      <td>.</td>\n",
       "    </tr>\n",
       "    <tr>\n",
       "      <th>92414</th>\n",
       "      <td>92414</td>\n",
       "      <td>Beacons To Guide Me Home - a new album by Gayl...</td>\n",
       "      <td>.</td>\n",
       "      <td>[\"So ... I've got this new album and I'd reall...</td>\n",
       "      <td>I don't foresee any risks to this project.  Al...</td>\n",
       "    </tr>\n",
       "    <tr>\n",
       "      <th>92450</th>\n",
       "      <td>92450</td>\n",
       "      <td>B1</td>\n",
       "      <td>.</td>\n",
       "      <td>['.']</td>\n",
       "      <td>You can download now narrator in app store.</td>\n",
       "    </tr>\n",
       "    <tr>\n",
       "      <th>110374</th>\n",
       "      <td>110374</td>\n",
       "      <td>Beacons To Guide Me Home - a new album by Gayl...</td>\n",
       "      <td>.</td>\n",
       "      <td>[\"So ... I've got this new album and I'd reall...</td>\n",
       "      <td>I don't foresee any risks to this project.  Al...</td>\n",
       "    </tr>\n",
       "  </tbody>\n",
       "</table>\n",
       "</div>"
      ],
      "text/plain": [
       "         index                                               name blurb  \\\n",
       "59131    59131                                          Cancelled     -   \n",
       "77435    77435                                                XXX     -   \n",
       "89219    89219                                         Kicked Out     .   \n",
       "92414    92414  Beacons To Guide Me Home - a new album by Gayl...     .   \n",
       "92450    92450                                                 B1     .   \n",
       "110374  110374  Beacons To Guide Me Home - a new album by Gayl...     .   \n",
       "\n",
       "                                                  content  \\\n",
       "59131   [\"II'm raising funds to be able to create 2 cu...   \n",
       "77435                                          ['xxxxxx']   \n",
       "89219   ['The winner gets a once in a lifetime chance ...   \n",
       "92414   [\"So ... I've got this new album and I'd reall...   \n",
       "92450                                               ['.']   \n",
       "110374  [\"So ... I've got this new album and I'd reall...   \n",
       "\n",
       "                                           risk_challenge  \n",
       "59131   The challenges I face during this project is m...  \n",
       "77435                                               xxxxx  \n",
       "89219                                                   .  \n",
       "92414   I don't foresee any risks to this project.  Al...  \n",
       "92450         You can download now narrator in app store.  \n",
       "110374  I don't foresee any risks to this project.  Al...  "
      ]
     },
     "execution_count": 222,
     "metadata": {},
     "output_type": "execute_result"
    }
   ],
   "source": [
    "# blurb 컬럼 조회\n",
    "noise_list = [\"[ ]\", \"[]\", \"['']\", '[\\\\]', '[|]', '[?]', '[/]', '[=]', '[+]', '[_]', '[~]', '[`]', '[-]', '[,]', '[.]', \"''\", \"\", \" \", \".\", \"..\", \"...\", \"......\", \"-\", \"_\", \"\\'\", \"\\\"\", \"=\", \"+\", \"()\", \"{}\", \"\\\\\", \"|\", \",\", \"/\", \"~\", \"`\", \"!\", \"@\", \"#\", \"$\", \"%\", \"^\", \"^^\", \"&\", \"*\", \"<\", \">\"]\n",
    "blurb_noise = text_dataset[text_dataset['blurb'].isin(noise_list)]\n",
    "blurb_noise"
   ]
  },
  {
   "cell_type": "code",
   "execution_count": 223,
   "metadata": {},
   "outputs": [
    {
     "name": "stdout",
     "output_type": "stream",
     "text": [
      "6\n"
     ]
    },
    {
     "data": {
      "text/plain": [
       "Int64Index([59131, 77435, 89219, 92414, 92450, 110374], dtype='int64')"
      ]
     },
     "execution_count": 223,
     "metadata": {},
     "output_type": "execute_result"
    }
   ],
   "source": [
    "print(len(blurb_noise))\n",
    "blurb_noise.index"
   ]
  },
  {
   "cell_type": "code",
   "execution_count": 121,
   "metadata": {},
   "outputs": [],
   "source": [
    "# blurb 컬럼\n",
    "# 결측치 (2) --> 공백으로 변경\n",
    "# 특수문자 (6) --> 공백"
   ]
  },
  {
   "cell_type": "code",
   "execution_count": 224,
   "metadata": {},
   "outputs": [],
   "source": [
    "# 결측치 처리\n",
    "text_dataset['blurb'].fillna(' ', inplace=True)"
   ]
  },
  {
   "cell_type": "code",
   "execution_count": 225,
   "metadata": {},
   "outputs": [],
   "source": [
    "# 잡음 처리\n",
    "text_dataset.loc[blurb_noise.index, 'blurb'] = ' '"
   ]
  },
  {
   "cell_type": "code",
   "execution_count": 234,
   "metadata": {},
   "outputs": [
    {
     "name": "stdout",
     "output_type": "stream",
     "text": [
      "결측치: 0\n",
      "False    150944\n",
      "True          8\n",
      "Name: blurb, dtype: int64\n"
     ]
    },
    {
     "data": {
      "text/html": [
       "<div>\n",
       "<style scoped>\n",
       "    .dataframe tbody tr th:only-of-type {\n",
       "        vertical-align: middle;\n",
       "    }\n",
       "\n",
       "    .dataframe tbody tr th {\n",
       "        vertical-align: top;\n",
       "    }\n",
       "\n",
       "    .dataframe thead th {\n",
       "        text-align: right;\n",
       "    }\n",
       "</style>\n",
       "<table border=\"1\" class=\"dataframe\">\n",
       "  <thead>\n",
       "    <tr style=\"text-align: right;\">\n",
       "      <th></th>\n",
       "      <th>index</th>\n",
       "      <th>name</th>\n",
       "      <th>blurb</th>\n",
       "      <th>content</th>\n",
       "      <th>risk_challenge</th>\n",
       "    </tr>\n",
       "  </thead>\n",
       "  <tbody>\n",
       "    <tr>\n",
       "      <th>59131</th>\n",
       "      <td>59131</td>\n",
       "      <td>Cancelled</td>\n",
       "      <td></td>\n",
       "      <td>[\"II'm raising funds to be able to create 2 cu...</td>\n",
       "      <td>The challenges I face during this project is m...</td>\n",
       "    </tr>\n",
       "    <tr>\n",
       "      <th>77435</th>\n",
       "      <td>77435</td>\n",
       "      <td>XXX</td>\n",
       "      <td></td>\n",
       "      <td>['xxxxxx']</td>\n",
       "      <td>xxxxx</td>\n",
       "    </tr>\n",
       "    <tr>\n",
       "      <th>87701</th>\n",
       "      <td>87701</td>\n",
       "      <td>awlsies</td>\n",
       "      <td></td>\n",
       "      <td>['n/a']</td>\n",
       "      <td>NaN</td>\n",
       "    </tr>\n",
       "    <tr>\n",
       "      <th>88902</th>\n",
       "      <td>88902</td>\n",
       "      <td>Ready to wear</td>\n",
       "      <td></td>\n",
       "      <td>['Sorry, due to some issues I had to delete th...</td>\n",
       "      <td>&lt;N/A&gt;</td>\n",
       "    </tr>\n",
       "    <tr>\n",
       "      <th>89219</th>\n",
       "      <td>89219</td>\n",
       "      <td>Kicked Out</td>\n",
       "      <td></td>\n",
       "      <td>['The winner gets a once in a lifetime chance ...</td>\n",
       "      <td>.</td>\n",
       "    </tr>\n",
       "  </tbody>\n",
       "</table>\n",
       "</div>"
      ],
      "text/plain": [
       "       index           name blurb  \\\n",
       "59131  59131      Cancelled         \n",
       "77435  77435            XXX         \n",
       "87701  87701        awlsies         \n",
       "88902  88902  Ready to wear         \n",
       "89219  89219     Kicked Out         \n",
       "\n",
       "                                                 content  \\\n",
       "59131  [\"II'm raising funds to be able to create 2 cu...   \n",
       "77435                                         ['xxxxxx']   \n",
       "87701                                            ['n/a']   \n",
       "88902  ['Sorry, due to some issues I had to delete th...   \n",
       "89219  ['The winner gets a once in a lifetime chance ...   \n",
       "\n",
       "                                          risk_challenge  \n",
       "59131  The challenges I face during this project is m...  \n",
       "77435                                              xxxxx  \n",
       "87701                                                NaN  \n",
       "88902                                              <N/A>  \n",
       "89219                                                  .  "
      ]
     },
     "execution_count": 234,
     "metadata": {},
     "output_type": "execute_result"
    }
   ],
   "source": [
    "# 변경 확인\n",
    "print(\"결측치:\", text_dataset['blurb'].isna().sum())\n",
    "noise_list = [\"[ ]\", \"[]\", \"['']\", '[\\\\]', '[|]', '[?]', '[/]', '[=]', '[+]', '[_]', '[~]', '[`]', '[-]', '[,]', '[.]', \"''\", \"\", \" \", \".\", \"..\", \"...\", \"......\", \"-\", \"_\", \"\\'\", \"\\\"\", \"=\", \"+\", \"()\", \"{}\", \"\\\\\", \"|\", \",\", \"/\", \"~\", \"`\", \"!\", \"@\", \"#\", \"$\", \"%\", \"^\", \"^^\", \"&\", \"*\", \"<\", \">\"]\n",
    "print(text_dataset['blurb'].isin(noise_list).value_counts())\n",
    "    # 총 8개를 ' '로 변경했으니 맞음\n",
    "blurb_processed = text_dataset[text_dataset['blurb'].isin(noise_list)]\n",
    "blurb_processed.head()"
   ]
  },
  {
   "cell_type": "code",
   "execution_count": null,
   "metadata": {},
   "outputs": [],
   "source": []
  },
  {
   "cell_type": "code",
   "execution_count": 227,
   "metadata": {
    "scrolled": true
   },
   "outputs": [
    {
     "data": {
      "text/html": [
       "<div>\n",
       "<style scoped>\n",
       "    .dataframe tbody tr th:only-of-type {\n",
       "        vertical-align: middle;\n",
       "    }\n",
       "\n",
       "    .dataframe tbody tr th {\n",
       "        vertical-align: top;\n",
       "    }\n",
       "\n",
       "    .dataframe thead th {\n",
       "        text-align: right;\n",
       "    }\n",
       "</style>\n",
       "<table border=\"1\" class=\"dataframe\">\n",
       "  <thead>\n",
       "    <tr style=\"text-align: right;\">\n",
       "      <th></th>\n",
       "      <th>index</th>\n",
       "      <th>name</th>\n",
       "      <th>blurb</th>\n",
       "      <th>content</th>\n",
       "      <th>risk_challenge</th>\n",
       "    </tr>\n",
       "  </thead>\n",
       "  <tbody>\n",
       "    <tr>\n",
       "      <th>34</th>\n",
       "      <td>34</td>\n",
       "      <td>HELPING PETEY NATURE GET TO THE NEXT LEVEL</td>\n",
       "      <td>HELP A NEW NATIONAL RECORDING ARTIST OF FAITH ...</td>\n",
       "      <td>[]</td>\n",
       "      <td>No challenges and no obstacles\\r\\nThis is very...</td>\n",
       "    </tr>\n",
       "    <tr>\n",
       "      <th>44</th>\n",
       "      <td>44</td>\n",
       "      <td>Remote Island Fish Camp</td>\n",
       "      <td>Rooting our children in their native culture b...</td>\n",
       "      <td>[]</td>\n",
       "      <td>Challenges:\\r\\n\\r\\nFinding a suitable parcel o...</td>\n",
       "    </tr>\n",
       "    <tr>\n",
       "      <th>85</th>\n",
       "      <td>85</td>\n",
       "      <td>Guns &amp; Grams</td>\n",
       "      <td>A story about the Sicilian Mob coming to the u...</td>\n",
       "      <td>[]</td>\n",
       "      <td>I am a member Of the Screen Actors Union and a...</td>\n",
       "    </tr>\n",
       "    <tr>\n",
       "      <th>172</th>\n",
       "      <td>172</td>\n",
       "      <td>Travel to Italy with Michael Belardo</td>\n",
       "      <td>DON'T MISS THIS OPPORTUNITY TO BACK THIS BOOK....</td>\n",
       "      <td>[]</td>\n",
       "      <td>After a lifetime of travel in Italy, 25 years ...</td>\n",
       "    </tr>\n",
       "    <tr>\n",
       "      <th>195</th>\n",
       "      <td>195</td>\n",
       "      <td>\"A Favor for A Favor\" by Vincent VenaCava</td>\n",
       "      <td>After his wife's infidelity, Jacob resolves to...</td>\n",
       "      <td>[]</td>\n",
       "      <td>The only risks that we really face are technol...</td>\n",
       "    </tr>\n",
       "    <tr>\n",
       "      <th>...</th>\n",
       "      <td>...</td>\n",
       "      <td>...</td>\n",
       "      <td>...</td>\n",
       "      <td>...</td>\n",
       "      <td>...</td>\n",
       "    </tr>\n",
       "    <tr>\n",
       "      <th>153489</th>\n",
       "      <td>153489</td>\n",
       "      <td>Get us back into the studio to Record Souls Ta...</td>\n",
       "      <td>Blood Luxury will be recording their ep ... wh...</td>\n",
       "      <td>[]</td>\n",
       "      <td>This wont be an ongoing diatripe, I need the h...</td>\n",
       "    </tr>\n",
       "    <tr>\n",
       "      <th>153498</th>\n",
       "      <td>153498</td>\n",
       "      <td>WAO NYLONG SHOES</td>\n",
       "      <td>Transforming Trash into Treasure</td>\n",
       "      <td>[]</td>\n",
       "      <td>Our bigger challenge is to reach the minimum a...</td>\n",
       "    </tr>\n",
       "    <tr>\n",
       "      <th>153499</th>\n",
       "      <td>153499</td>\n",
       "      <td>Adventures in RandyLand</td>\n",
       "      <td>A travel adventure documentary series for YouT...</td>\n",
       "      <td>[]</td>\n",
       "      <td>Some locations will be more difficult to acces...</td>\n",
       "    </tr>\n",
       "    <tr>\n",
       "      <th>153500</th>\n",
       "      <td>153500</td>\n",
       "      <td>Ento Superfoods</td>\n",
       "      <td>We farm healthy and sustainable protein for th...</td>\n",
       "      <td>[]</td>\n",
       "      <td>Ento has worked extremely hard to reduce as mu...</td>\n",
       "    </tr>\n",
       "    <tr>\n",
       "      <th>153575</th>\n",
       "      <td>153575</td>\n",
       "      <td>Unpacked Urban Tote</td>\n",
       "      <td>Artist Designed Urban Tote\\nPunKin Apparel by ...</td>\n",
       "      <td>[]</td>\n",
       "      <td>Any potential risks or challenges to this camp...</td>\n",
       "    </tr>\n",
       "  </tbody>\n",
       "</table>\n",
       "<p>2597 rows × 5 columns</p>\n",
       "</div>"
      ],
      "text/plain": [
       "         index                                               name  \\\n",
       "34          34         HELPING PETEY NATURE GET TO THE NEXT LEVEL   \n",
       "44          44                            Remote Island Fish Camp   \n",
       "85          85                                       Guns & Grams   \n",
       "172        172               Travel to Italy with Michael Belardo   \n",
       "195        195          \"A Favor for A Favor\" by Vincent VenaCava   \n",
       "...        ...                                                ...   \n",
       "153489  153489  Get us back into the studio to Record Souls Ta...   \n",
       "153498  153498                                   WAO NYLONG SHOES   \n",
       "153499  153499                            Adventures in RandyLand   \n",
       "153500  153500                                    Ento Superfoods   \n",
       "153575  153575                                Unpacked Urban Tote   \n",
       "\n",
       "                                                    blurb content  \\\n",
       "34      HELP A NEW NATIONAL RECORDING ARTIST OF FAITH ...      []   \n",
       "44      Rooting our children in their native culture b...      []   \n",
       "85      A story about the Sicilian Mob coming to the u...      []   \n",
       "172     DON'T MISS THIS OPPORTUNITY TO BACK THIS BOOK....      []   \n",
       "195     After his wife's infidelity, Jacob resolves to...      []   \n",
       "...                                                   ...     ...   \n",
       "153489  Blood Luxury will be recording their ep ... wh...      []   \n",
       "153498                   Transforming Trash into Treasure      []   \n",
       "153499  A travel adventure documentary series for YouT...      []   \n",
       "153500  We farm healthy and sustainable protein for th...      []   \n",
       "153575  Artist Designed Urban Tote\\nPunKin Apparel by ...      []   \n",
       "\n",
       "                                           risk_challenge  \n",
       "34      No challenges and no obstacles\\r\\nThis is very...  \n",
       "44      Challenges:\\r\\n\\r\\nFinding a suitable parcel o...  \n",
       "85      I am a member Of the Screen Actors Union and a...  \n",
       "172     After a lifetime of travel in Italy, 25 years ...  \n",
       "195     The only risks that we really face are technol...  \n",
       "...                                                   ...  \n",
       "153489  This wont be an ongoing diatripe, I need the h...  \n",
       "153498  Our bigger challenge is to reach the minimum a...  \n",
       "153499  Some locations will be more difficult to acces...  \n",
       "153500  Ento has worked extremely hard to reduce as mu...  \n",
       "153575  Any potential risks or challenges to this camp...  \n",
       "\n",
       "[2597 rows x 5 columns]"
      ]
     },
     "execution_count": 227,
     "metadata": {},
     "output_type": "execute_result"
    }
   ],
   "source": [
    "# content 컬럼 조회\n",
    "noise_list = [\"[ ]\", \"[]\", \"['']\", '[\\\\]', '[|]', '[?]', '[/]', '[=]', '[+]', '[_]', '[~]', '[`]', '[-]', '[,]', '[.]', \"''\", \"\", \" \", \".\", \"..\", \"...\", \"......\", \"-\", \"_\", \"\\'\", \"\\\"\", \"=\", \"+\", \"()\", \"{}\", \"\\\\\", \"|\", \",\", \"/\", \"~\", \"`\", \"!\", \"@\", \"#\", \"$\", \"%\", \"^\", \"^^\", \"&\", \"*\", \"<\", \">\"]\n",
    "content_noise = text_dataset[text_dataset['content'].isin(noise_list)]\n",
    "content_noise"
   ]
  },
  {
   "cell_type": "code",
   "execution_count": 228,
   "metadata": {},
   "outputs": [
    {
     "name": "stdout",
     "output_type": "stream",
     "text": [
      "2597\n"
     ]
    },
    {
     "data": {
      "text/plain": [
       "Int64Index([    34,     44,     85,    172,    195,    219,    245,    301,\n",
       "               370,    374,\n",
       "            ...\n",
       "            153375, 153419, 153426, 153427, 153441, 153489, 153498, 153499,\n",
       "            153500, 153575],\n",
       "           dtype='int64', length=2597)"
      ]
     },
     "execution_count": 228,
     "metadata": {},
     "output_type": "execute_result"
    }
   ],
   "source": [
    "print(len(content_noise))\n",
    "content_noise.index"
   ]
  },
  {
   "cell_type": "code",
   "execution_count": null,
   "metadata": {},
   "outputs": [],
   "source": [
    "# content 컬럼\n",
    "# 결측치 (27) --> 제거\n",
    "# 특수문자 (2597) --> 제거\n",
    "# 153576 - (27+2597)"
   ]
  },
  {
   "cell_type": "code",
   "execution_count": 229,
   "metadata": {},
   "outputs": [],
   "source": [
    "# 결측치 처리\n",
    "text_dataset.dropna(axis=0, subset=['content'], inplace=True)"
   ]
  },
  {
   "cell_type": "code",
   "execution_count": 230,
   "metadata": {},
   "outputs": [],
   "source": [
    "# 잡음 처리\n",
    "text_dataset.drop(index=content_noise.index, inplace=True)"
   ]
  },
  {
   "cell_type": "code",
   "execution_count": 204,
   "metadata": {},
   "outputs": [
    {
     "name": "stdout",
     "output_type": "stream",
     "text": [
      "2624\n"
     ]
    },
    {
     "data": {
      "text/plain": [
       "150952"
      ]
     },
     "execution_count": 204,
     "metadata": {},
     "output_type": "execute_result"
    }
   ],
   "source": [
    "print(27+2597)\n",
    "153576 - (27+2597)"
   ]
  },
  {
   "cell_type": "code",
   "execution_count": 235,
   "metadata": {},
   "outputs": [
    {
     "name": "stdout",
     "output_type": "stream",
     "text": [
      "결측치: 0\n",
      "False    150952\n",
      "Name: content, dtype: int64\n"
     ]
    },
    {
     "data": {
      "text/html": [
       "<div>\n",
       "<style scoped>\n",
       "    .dataframe tbody tr th:only-of-type {\n",
       "        vertical-align: middle;\n",
       "    }\n",
       "\n",
       "    .dataframe tbody tr th {\n",
       "        vertical-align: top;\n",
       "    }\n",
       "\n",
       "    .dataframe thead th {\n",
       "        text-align: right;\n",
       "    }\n",
       "</style>\n",
       "<table border=\"1\" class=\"dataframe\">\n",
       "  <thead>\n",
       "    <tr style=\"text-align: right;\">\n",
       "      <th></th>\n",
       "      <th>index</th>\n",
       "      <th>name</th>\n",
       "      <th>blurb</th>\n",
       "      <th>content</th>\n",
       "      <th>risk_challenge</th>\n",
       "    </tr>\n",
       "  </thead>\n",
       "  <tbody>\n",
       "  </tbody>\n",
       "</table>\n",
       "</div>"
      ],
      "text/plain": [
       "Empty DataFrame\n",
       "Columns: [index, name, blurb, content, risk_challenge]\n",
       "Index: []"
      ]
     },
     "execution_count": 235,
     "metadata": {},
     "output_type": "execute_result"
    }
   ],
   "source": [
    "# 변경 확인\n",
    "print(\"결측치:\", text_dataset['content'].isna().sum())\n",
    "noise_list = [\"[ ]\", \"[]\", \"['']\", '[\\\\]', '[|]', '[?]', '[/]', '[=]', '[+]', '[_]', '[~]', '[`]', '[-]', '[,]', '[.]', \"''\", \"\", \" \", \".\", \"..\", \"...\", \"......\", \"-\", \"_\", \"\\'\", \"\\\"\", \"=\", \"+\", \"()\", \"{}\", \"\\\\\", \"|\", \",\", \"/\", \"~\", \"`\", \"!\", \"@\", \"#\", \"$\", \"%\", \"^\", \"^^\", \"&\", \"*\", \"<\", \">\"]\n",
    "print(text_dataset['content'].isin(noise_list).value_counts())\n",
    "content_processed = text_dataset[text_dataset['content'].isin(noise_list)]\n",
    "content_processed.head()"
   ]
  },
  {
   "cell_type": "code",
   "execution_count": null,
   "metadata": {},
   "outputs": [],
   "source": []
  },
  {
   "cell_type": "code",
   "execution_count": 236,
   "metadata": {
    "scrolled": true
   },
   "outputs": [
    {
     "data": {
      "text/html": [
       "<div>\n",
       "<style scoped>\n",
       "    .dataframe tbody tr th:only-of-type {\n",
       "        vertical-align: middle;\n",
       "    }\n",
       "\n",
       "    .dataframe tbody tr th {\n",
       "        vertical-align: top;\n",
       "    }\n",
       "\n",
       "    .dataframe thead th {\n",
       "        text-align: right;\n",
       "    }\n",
       "</style>\n",
       "<table border=\"1\" class=\"dataframe\">\n",
       "  <thead>\n",
       "    <tr style=\"text-align: right;\">\n",
       "      <th></th>\n",
       "      <th>index</th>\n",
       "      <th>name</th>\n",
       "      <th>blurb</th>\n",
       "      <th>content</th>\n",
       "      <th>risk_challenge</th>\n",
       "    </tr>\n",
       "  </thead>\n",
       "  <tbody>\n",
       "    <tr>\n",
       "      <th>1349</th>\n",
       "      <td>1349</td>\n",
       "      <td>Geschichten sollen leben</td>\n",
       "      <td>19 Theaterstücke des Schnuppe Figurentheaters ...</td>\n",
       "      <td>['Hallo liebe Interessierte,', 'mein Name ist ...</td>\n",
       "      <td>-</td>\n",
       "    </tr>\n",
       "    <tr>\n",
       "      <th>3311</th>\n",
       "      <td>3311</td>\n",
       "      <td>Wotever DIY Film Festival</td>\n",
       "      <td>WDIYFF is a London based film festival by and ...</td>\n",
       "      <td>[\"Started in 2012 as a one evening event, the ...</td>\n",
       "      <td>.</td>\n",
       "    </tr>\n",
       "    <tr>\n",
       "      <th>4207</th>\n",
       "      <td>4207</td>\n",
       "      <td>ORCA LEATHERCRAFT :  Handcrafted Leather Boots...</td>\n",
       "      <td>A versatile, durable, and waterproof premium f...</td>\n",
       "      <td>['The Orca Leathercraft footwear\\xa0is traditi...</td>\n",
       "      <td>.</td>\n",
       "    </tr>\n",
       "    <tr>\n",
       "      <th>4575</th>\n",
       "      <td>4575</td>\n",
       "      <td>Dunλmis BackPack</td>\n",
       "      <td>No more worrying about being disconnected from...</td>\n",
       "      <td>['How is that ?', 'It is a BackPack manufactur...</td>\n",
       "      <td>.</td>\n",
       "    </tr>\n",
       "    <tr>\n",
       "      <th>5034</th>\n",
       "      <td>5034</td>\n",
       "      <td>New York Symphony Orchestra: Concert</td>\n",
       "      <td>The concert will take place on Nov 7, 2015 at ...</td>\n",
       "      <td>['In\\xa0Beethoven Symphony No. 6, a contrast i...</td>\n",
       "      <td>.</td>\n",
       "    </tr>\n",
       "    <tr>\n",
       "      <th>...</th>\n",
       "      <td>...</td>\n",
       "      <td>...</td>\n",
       "      <td>...</td>\n",
       "      <td>...</td>\n",
       "      <td>...</td>\n",
       "    </tr>\n",
       "    <tr>\n",
       "      <th>152672</th>\n",
       "      <td>152672</td>\n",
       "      <td>THE ETERNAL CALENDAR</td>\n",
       "      <td>Beauty and sustainability meets in the design ...</td>\n",
       "      <td>['The ETERNAL CALENDAR is an  architecturally ...</td>\n",
       "      <td></td>\n",
       "    </tr>\n",
       "    <tr>\n",
       "      <th>152873</th>\n",
       "      <td>152873</td>\n",
       "      <td>ROMBO Picks - The new generation of guitar picks</td>\n",
       "      <td>eco-conscious. stylish. functional.</td>\n",
       "      <td>['Guitar picks are the bridge between you and ...</td>\n",
       "      <td></td>\n",
       "    </tr>\n",
       "    <tr>\n",
       "      <th>153043</th>\n",
       "      <td>153043</td>\n",
       "      <td>FAEMARKET - A Fantasy RPG Anthology</td>\n",
       "      <td>Faemarket is a collaborative anthology with fi...</td>\n",
       "      <td>['You arrive in the first town you’ve seen all...</td>\n",
       "      <td>-</td>\n",
       "    </tr>\n",
       "    <tr>\n",
       "      <th>153073</th>\n",
       "      <td>153073</td>\n",
       "      <td>Euphoria</td>\n",
       "      <td>Euphoria is a short ﬁlm documenting the life o...</td>\n",
       "      <td>['Euphoria is a short ﬁlm documenting the life...</td>\n",
       "      <td>.</td>\n",
       "    </tr>\n",
       "    <tr>\n",
       "      <th>153339</th>\n",
       "      <td>153339</td>\n",
       "      <td>FunTooth | Bottle Cap Catapults</td>\n",
       "      <td>Open bottles and flip off the caps for outrage...</td>\n",
       "      <td>['FunTooth Bottle Cap Catapults are the best w...</td>\n",
       "      <td></td>\n",
       "    </tr>\n",
       "  </tbody>\n",
       "</table>\n",
       "<p>4143 rows × 5 columns</p>\n",
       "</div>"
      ],
      "text/plain": [
       "         index                                               name  \\\n",
       "1349      1349                           Geschichten sollen leben   \n",
       "3311      3311                          Wotever DIY Film Festival   \n",
       "4207      4207  ORCA LEATHERCRAFT :  Handcrafted Leather Boots...   \n",
       "4575      4575                                   Dunλmis BackPack   \n",
       "5034      5034               New York Symphony Orchestra: Concert   \n",
       "...        ...                                                ...   \n",
       "152672  152672                               THE ETERNAL CALENDAR   \n",
       "152873  152873   ROMBO Picks - The new generation of guitar picks   \n",
       "153043  153043                FAEMARKET - A Fantasy RPG Anthology   \n",
       "153073  153073                                           Euphoria   \n",
       "153339  153339                    FunTooth | Bottle Cap Catapults   \n",
       "\n",
       "                                                    blurb  \\\n",
       "1349    19 Theaterstücke des Schnuppe Figurentheaters ...   \n",
       "3311    WDIYFF is a London based film festival by and ...   \n",
       "4207    A versatile, durable, and waterproof premium f...   \n",
       "4575    No more worrying about being disconnected from...   \n",
       "5034    The concert will take place on Nov 7, 2015 at ...   \n",
       "...                                                   ...   \n",
       "152672  Beauty and sustainability meets in the design ...   \n",
       "152873                eco-conscious. stylish. functional.   \n",
       "153043  Faemarket is a collaborative anthology with fi...   \n",
       "153073  Euphoria is a short ﬁlm documenting the life o...   \n",
       "153339  Open bottles and flip off the caps for outrage...   \n",
       "\n",
       "                                                  content risk_challenge  \n",
       "1349    ['Hallo liebe Interessierte,', 'mein Name ist ...              -  \n",
       "3311    [\"Started in 2012 as a one evening event, the ...              .  \n",
       "4207    ['The Orca Leathercraft footwear\\xa0is traditi...              .  \n",
       "4575    ['How is that ?', 'It is a BackPack manufactur...              .  \n",
       "5034    ['In\\xa0Beethoven Symphony No. 6, a contrast i...              .  \n",
       "...                                                   ...            ...  \n",
       "152672  ['The ETERNAL CALENDAR is an  architecturally ...                 \n",
       "152873  ['Guitar picks are the bridge between you and ...                 \n",
       "153043  ['You arrive in the first town you’ve seen all...              -  \n",
       "153073  ['Euphoria is a short ﬁlm documenting the life...              .  \n",
       "153339  ['FunTooth Bottle Cap Catapults are the best w...                 \n",
       "\n",
       "[4143 rows x 5 columns]"
      ]
     },
     "execution_count": 236,
     "metadata": {},
     "output_type": "execute_result"
    }
   ],
   "source": [
    "# risk_challenge 컬럼 조회\n",
    "noise_list = [\"[ ]\", \"[]\", \"['']\", '[\\\\]', '[|]', '[?]', '[/]', '[=]', '[+]', '[_]', '[~]', '[`]', '[-]', '[,]', '[.]', \"''\", \"\", \" \", \".\", \"..\", \"...\", \"......\", \"-\", \"_\", \"\\'\", \"\\\"\", \"=\", \"+\", \"()\", \"{}\", \"\\\\\", \"|\", \",\", \"/\", \"~\", \"`\", \"!\", \"@\", \"#\", \"$\", \"%\", \"^\", \"^^\", \"&\", \"*\", \"<\", \">\"]\n",
    "risk_noise = text_dataset[text_dataset['risk_challenge'].isin(noise_list)]\n",
    "risk_noise"
   ]
  },
  {
   "cell_type": "code",
   "execution_count": 237,
   "metadata": {},
   "outputs": [
    {
     "name": "stdout",
     "output_type": "stream",
     "text": [
      "4143\n"
     ]
    },
    {
     "data": {
      "text/plain": [
       "Int64Index([  1349,   3311,   4207,   4575,   5034,   5178,  10258,  10947,\n",
       "             11387,  12544,\n",
       "            ...\n",
       "            152079, 152088, 152432, 152636, 152644, 152672, 152873, 153043,\n",
       "            153073, 153339],\n",
       "           dtype='int64', length=4143)"
      ]
     },
     "execution_count": 237,
     "metadata": {},
     "output_type": "execute_result"
    }
   ],
   "source": [
    "print(len(risk_noise))\n",
    "risk_noise.index"
   ]
  },
  {
   "cell_type": "code",
   "execution_count": null,
   "metadata": {},
   "outputs": [],
   "source": [
    "# risk_challenge 컬럼\n",
    "# 결측치 (189) --> 공백\n",
    "# 특수문자 (4143) --> 공백"
   ]
  },
  {
   "cell_type": "code",
   "execution_count": 238,
   "metadata": {},
   "outputs": [],
   "source": [
    "# 결측치 처리\n",
    "text_dataset['risk_challenge'].fillna(' ', inplace=True)"
   ]
  },
  {
   "cell_type": "code",
   "execution_count": 239,
   "metadata": {},
   "outputs": [],
   "source": [
    "# 잡음 처리\n",
    "text_dataset.loc[risk_noise.index, 'risk_challenge'] = ' '"
   ]
  },
  {
   "cell_type": "code",
   "execution_count": 240,
   "metadata": {},
   "outputs": [
    {
     "name": "stdout",
     "output_type": "stream",
     "text": [
      "결측치: 0\n",
      "False    146651\n",
      "True       4301\n",
      "Name: risk_challenge, dtype: int64\n"
     ]
    },
    {
     "data": {
      "text/html": [
       "<div>\n",
       "<style scoped>\n",
       "    .dataframe tbody tr th:only-of-type {\n",
       "        vertical-align: middle;\n",
       "    }\n",
       "\n",
       "    .dataframe tbody tr th {\n",
       "        vertical-align: top;\n",
       "    }\n",
       "\n",
       "    .dataframe thead th {\n",
       "        text-align: right;\n",
       "    }\n",
       "</style>\n",
       "<table border=\"1\" class=\"dataframe\">\n",
       "  <thead>\n",
       "    <tr style=\"text-align: right;\">\n",
       "      <th></th>\n",
       "      <th>index</th>\n",
       "      <th>name</th>\n",
       "      <th>blurb</th>\n",
       "      <th>content</th>\n",
       "      <th>risk_challenge</th>\n",
       "    </tr>\n",
       "  </thead>\n",
       "  <tbody>\n",
       "    <tr>\n",
       "      <th>420</th>\n",
       "      <td>420</td>\n",
       "      <td>PALS MAGAZINE</td>\n",
       "      <td>PALS MAGAZINE is an ode to the beauty of frien...</td>\n",
       "      <td>[\"WHAT IS PALS MAGAZINE?It will be published e...</td>\n",
       "      <td></td>\n",
       "    </tr>\n",
       "    <tr>\n",
       "      <th>596</th>\n",
       "      <td>596</td>\n",
       "      <td>Sochi 2014</td>\n",
       "      <td>Sacked. Arrested. Beaten. Kidnapped. Tortured....</td>\n",
       "      <td>[\"A play directed by Josh Whatsize for IYAF in...</td>\n",
       "      <td></td>\n",
       "    </tr>\n",
       "    <tr>\n",
       "      <th>1349</th>\n",
       "      <td>1349</td>\n",
       "      <td>Geschichten sollen leben</td>\n",
       "      <td>19 Theaterstücke des Schnuppe Figurentheaters ...</td>\n",
       "      <td>['Hallo liebe Interessierte,', 'mein Name ist ...</td>\n",
       "      <td></td>\n",
       "    </tr>\n",
       "    <tr>\n",
       "      <th>1616</th>\n",
       "      <td>1616</td>\n",
       "      <td>High in Shanghai: business, blogging, exploring</td>\n",
       "      <td>Greek student in Germany gonna be in Shanghai ...</td>\n",
       "      <td>[\"Ladies and Gent's,\", \"As we know - time is m...</td>\n",
       "      <td></td>\n",
       "    </tr>\n",
       "    <tr>\n",
       "      <th>3311</th>\n",
       "      <td>3311</td>\n",
       "      <td>Wotever DIY Film Festival</td>\n",
       "      <td>WDIYFF is a London based film festival by and ...</td>\n",
       "      <td>[\"Started in 2012 as a one evening event, the ...</td>\n",
       "      <td></td>\n",
       "    </tr>\n",
       "  </tbody>\n",
       "</table>\n",
       "</div>"
      ],
      "text/plain": [
       "      index                                             name  \\\n",
       "420     420                                    PALS MAGAZINE   \n",
       "596     596                                       Sochi 2014   \n",
       "1349   1349                         Geschichten sollen leben   \n",
       "1616   1616  High in Shanghai: business, blogging, exploring   \n",
       "3311   3311                        Wotever DIY Film Festival   \n",
       "\n",
       "                                                  blurb  \\\n",
       "420   PALS MAGAZINE is an ode to the beauty of frien...   \n",
       "596   Sacked. Arrested. Beaten. Kidnapped. Tortured....   \n",
       "1349  19 Theaterstücke des Schnuppe Figurentheaters ...   \n",
       "1616  Greek student in Germany gonna be in Shanghai ...   \n",
       "3311  WDIYFF is a London based film festival by and ...   \n",
       "\n",
       "                                                content risk_challenge  \n",
       "420   [\"WHAT IS PALS MAGAZINE?It will be published e...                 \n",
       "596   [\"A play directed by Josh Whatsize for IYAF in...                 \n",
       "1349  ['Hallo liebe Interessierte,', 'mein Name ist ...                 \n",
       "1616  [\"Ladies and Gent's,\", \"As we know - time is m...                 \n",
       "3311  [\"Started in 2012 as a one evening event, the ...                 "
      ]
     },
     "execution_count": 240,
     "metadata": {},
     "output_type": "execute_result"
    }
   ],
   "source": [
    "# 변경 확인\n",
    "print(\"결측치:\", text_dataset['risk_challenge'].isna().sum())\n",
    "noise_list = [\"[ ]\", \"[]\", \"['']\", '[\\\\]', '[|]', '[?]', '[/]', '[=]', '[+]', '[_]', '[~]', '[`]', '[-]', '[,]', '[.]', \"''\", \"\", \" \", \".\", \"..\", \"...\", \"......\", \"-\", \"_\", \"\\'\", \"\\\"\", \"=\", \"+\", \"()\", \"{}\", \"\\\\\", \"|\", \",\", \"/\", \"~\", \"`\", \"!\", \"@\", \"#\", \"$\", \"%\", \"^\", \"^^\", \"&\", \"*\", \"<\", \">\"]\n",
    "print(text_dataset['risk_challenge'].isin(noise_list).value_counts())\n",
    "    # 총 4301개 ' '로 변환\n",
    "risk_processed = text_dataset[text_dataset['risk_challenge'].isin(noise_list)]\n",
    "risk_processed.head()"
   ]
  },
  {
   "cell_type": "code",
   "execution_count": 242,
   "metadata": {},
   "outputs": [
    {
     "data": {
      "text/plain": [
       "index             0\n",
       "name              0\n",
       "blurb             0\n",
       "content           0\n",
       "risk_challenge    0\n",
       "dtype: int64"
      ]
     },
     "execution_count": 242,
     "metadata": {},
     "output_type": "execute_result"
    }
   ],
   "source": [
    "# 결측치 처리 후 조회\n",
    "text_dataset.isna().sum()"
   ]
  },
  {
   "cell_type": "code",
   "execution_count": 244,
   "metadata": {},
   "outputs": [
    {
     "data": {
      "text/plain": [
       "(150952, 5)"
      ]
     },
     "execution_count": 244,
     "metadata": {},
     "output_type": "execute_result"
    }
   ],
   "source": [
    "# 결측치 및 잡음 처리후 데이터 수\n",
    "text_dataset.shape"
   ]
  },
  {
   "cell_type": "code",
   "execution_count": null,
   "metadata": {},
   "outputs": [],
   "source": []
  },
  {
   "cell_type": "code",
   "execution_count": 260,
   "metadata": {},
   "outputs": [
    {
     "name": "stdout",
     "output_type": "stream",
     "text": [
      "['Meet Jan\n"
     ]
    }
   ],
   "source": [
    "# conent 컬럼 데이터는 웹크롤링 시 리스트([ ])로 묶어서 가져왔기에\n",
    "# 모든 content 컬럼 데이터는 [ ]에 쌓여 있다\n",
    "print(text_dataset['content'][0][:10])"
   ]
  },
  {
   "cell_type": "code",
   "execution_count": 267,
   "metadata": {},
   "outputs": [],
   "source": [
    "# content 컬럼 --> 대괄호 [ ] 제거\n",
    "text_dataset['content'] = text_dataset['content'].apply(lambda x: x.replace('[', '').replace(']', ''))"
   ]
  },
  {
   "cell_type": "code",
   "execution_count": 268,
   "metadata": {},
   "outputs": [
    {
     "name": "stdout",
     "output_type": "stream",
     "text": [
      "'Meet Jane\n",
      "kstarter.\"\n"
     ]
    }
   ],
   "source": [
    "# 변경 확인\n",
    "print(text_dataset['content'][0][:10])\n",
    "print(text_dataset['content'][0][-10:])"
   ]
  },
  {
   "cell_type": "code",
   "execution_count": 270,
   "metadata": {},
   "outputs": [
    {
     "data": {
      "text/html": [
       "<div>\n",
       "<style scoped>\n",
       "    .dataframe tbody tr th:only-of-type {\n",
       "        vertical-align: middle;\n",
       "    }\n",
       "\n",
       "    .dataframe tbody tr th {\n",
       "        vertical-align: top;\n",
       "    }\n",
       "\n",
       "    .dataframe thead th {\n",
       "        text-align: right;\n",
       "    }\n",
       "</style>\n",
       "<table border=\"1\" class=\"dataframe\">\n",
       "  <thead>\n",
       "    <tr style=\"text-align: right;\">\n",
       "      <th></th>\n",
       "      <th>index</th>\n",
       "      <th>name</th>\n",
       "      <th>blurb</th>\n",
       "      <th>content</th>\n",
       "      <th>risk_challenge</th>\n",
       "    </tr>\n",
       "  </thead>\n",
       "  <tbody>\n",
       "    <tr>\n",
       "      <th>0</th>\n",
       "      <td>0</td>\n",
       "      <td>Strange Wit, an original graphic novel about J...</td>\n",
       "      <td>The true biography of the historical figure, w...</td>\n",
       "      <td>'Meet Jane Bowles: incredible author, inspirin...</td>\n",
       "      <td>The main obstacles this book faces are the siz...</td>\n",
       "    </tr>\n",
       "  </tbody>\n",
       "</table>\n",
       "</div>"
      ],
      "text/plain": [
       "   index                                               name  \\\n",
       "0      0  Strange Wit, an original graphic novel about J...   \n",
       "\n",
       "                                               blurb  \\\n",
       "0  The true biography of the historical figure, w...   \n",
       "\n",
       "                                             content  \\\n",
       "0  'Meet Jane Bowles: incredible author, inspirin...   \n",
       "\n",
       "                                      risk_challenge  \n",
       "0  The main obstacles this book faces are the siz...  "
      ]
     },
     "execution_count": 270,
     "metadata": {},
     "output_type": "execute_result"
    }
   ],
   "source": [
    "text_dataset.head(1)"
   ]
  },
  {
   "cell_type": "code",
   "execution_count": 271,
   "metadata": {},
   "outputs": [],
   "source": [
    "#text_dataset.to_csv('./data_2015_2019/text_dataset_cleaned.csv', index=False, encoding='utf-8')"
   ]
  },
  {
   "cell_type": "code",
   "execution_count": null,
   "metadata": {},
   "outputs": [],
   "source": []
  },
  {
   "cell_type": "code",
   "execution_count": null,
   "metadata": {},
   "outputs": [],
   "source": [
    "# content 컬럼과 risk_challenge 컬럼의 택스트 데이터를 합치고, 그 합쳐진 것으로 전처리 및 모델에 적용\n",
    "# content 컬럼 + risk_challenge 컬럼 결합 후 따로 DataFrame으로 만들어 저장"
   ]
  },
  {
   "cell_type": "code",
   "execution_count": 284,
   "metadata": {},
   "outputs": [
    {
     "data": {
      "text/html": [
       "<div>\n",
       "<style scoped>\n",
       "    .dataframe tbody tr th:only-of-type {\n",
       "        vertical-align: middle;\n",
       "    }\n",
       "\n",
       "    .dataframe tbody tr th {\n",
       "        vertical-align: top;\n",
       "    }\n",
       "\n",
       "    .dataframe thead th {\n",
       "        text-align: right;\n",
       "    }\n",
       "</style>\n",
       "<table border=\"1\" class=\"dataframe\">\n",
       "  <thead>\n",
       "    <tr style=\"text-align: right;\">\n",
       "      <th></th>\n",
       "      <th>index</th>\n",
       "      <th>content_risk_merged</th>\n",
       "    </tr>\n",
       "  </thead>\n",
       "  <tbody>\n",
       "    <tr>\n",
       "      <th>0</th>\n",
       "      <td>0</td>\n",
       "      <td>'Meet Jane Bowles: incredible author, inspirin...</td>\n",
       "    </tr>\n",
       "    <tr>\n",
       "      <th>1</th>\n",
       "      <td>1</td>\n",
       "      <td>\"I've always been passionate about efficiency,...</td>\n",
       "    </tr>\n",
       "    <tr>\n",
       "      <th>2</th>\n",
       "      <td>2</td>\n",
       "      <td>'Billet Dice', 'Billet Dice are made from bill...</td>\n",
       "    </tr>\n",
       "    <tr>\n",
       "      <th>3</th>\n",
       "      <td>3</td>\n",
       "      <td>'With this film we want to entertain you in an...</td>\n",
       "    </tr>\n",
       "    <tr>\n",
       "      <th>4</th>\n",
       "      <td>4</td>\n",
       "      <td>'The Splash Drone is a fully waterproof quad c...</td>\n",
       "    </tr>\n",
       "    <tr>\n",
       "      <th>...</th>\n",
       "      <td>...</td>\n",
       "      <td>...</td>\n",
       "    </tr>\n",
       "    <tr>\n",
       "      <th>150947</th>\n",
       "      <td>153570</td>\n",
       "      <td>'Vivian is a New York–based design label start...</td>\n",
       "    </tr>\n",
       "    <tr>\n",
       "      <th>150948</th>\n",
       "      <td>153571</td>\n",
       "      <td>'Hello there! My name is Chloe and I’m the art...</td>\n",
       "    </tr>\n",
       "    <tr>\n",
       "      <th>150949</th>\n",
       "      <td>153572</td>\n",
       "      <td>\"For the relaunch of the Beastly Boutique, I w...</td>\n",
       "    </tr>\n",
       "    <tr>\n",
       "      <th>150950</th>\n",
       "      <td>153573</td>\n",
       "      <td>'Your application to become a Produce Social M...</td>\n",
       "    </tr>\n",
       "    <tr>\n",
       "      <th>150951</th>\n",
       "      <td>153574</td>\n",
       "      <td>\"I'm a Contemporary Christian artist. I want m...</td>\n",
       "    </tr>\n",
       "  </tbody>\n",
       "</table>\n",
       "<p>150952 rows × 2 columns</p>\n",
       "</div>"
      ],
      "text/plain": [
       "         index                                content_risk_merged\n",
       "0            0  'Meet Jane Bowles: incredible author, inspirin...\n",
       "1            1  \"I've always been passionate about efficiency,...\n",
       "2            2  'Billet Dice', 'Billet Dice are made from bill...\n",
       "3            3  'With this film we want to entertain you in an...\n",
       "4            4  'The Splash Drone is a fully waterproof quad c...\n",
       "...        ...                                                ...\n",
       "150947  153570  'Vivian is a New York–based design label start...\n",
       "150948  153571  'Hello there! My name is Chloe and I’m the art...\n",
       "150949  153572  \"For the relaunch of the Beastly Boutique, I w...\n",
       "150950  153573  'Your application to become a Produce Social M...\n",
       "150951  153574  \"I'm a Contemporary Christian artist. I want m...\n",
       "\n",
       "[150952 rows x 2 columns]"
      ]
     },
     "execution_count": 284,
     "metadata": {},
     "output_type": "execute_result"
    }
   ],
   "source": [
    "content_risk_merged = text_dataset['content']+text_dataset['risk_challenge']\n",
    "content_risk_merged_df = pd.DataFrame(content_risk_merged, columns=['content_risk_merged']).reset_index()\n",
    "content_risk_merged_df"
   ]
  },
  {
   "cell_type": "code",
   "execution_count": 285,
   "metadata": {},
   "outputs": [],
   "source": [
    "#content_risk_merged_df.to_csv('./data_2015_2019/content_risk_merged.csv', index=False, encoding='utf-8')"
   ]
  },
  {
   "cell_type": "code",
   "execution_count": null,
   "metadata": {},
   "outputs": [],
   "source": []
  },
  {
   "cell_type": "markdown",
   "metadata": {},
   "source": [
    "## 수집한 텍스트 데이터 전처리"
   ]
  },
  {
   "cell_type": "code",
   "execution_count": 1,
   "metadata": {},
   "outputs": [],
   "source": [
    "import pandas as pd\n",
    "import numpy as np\n",
    "import nltk\n",
    "from nltk.corpus import stopwords\n",
    "from nltk.stem import PorterStemmer, LancasterStemmer, SnowballStemmer\n",
    "from nltk.stem import WordNetLemmatizer\n",
    "from nltk.tokenize import word_tokenize\n",
    "from nltk.tokenize import sent_tokenize\n",
    "from nltk import Text, FreqDist\n",
    "import tensorflow as tf\n",
    "from tensorflow.keras.preprocessing.text import Tokenizer\n",
    "from tensorflow.keras.utils import to_categorical\n",
    "import sklearn\n",
    "import string\n",
    "import re"
   ]
  },
  {
   "cell_type": "code",
   "execution_count": 4,
   "metadata": {},
   "outputs": [
    {
     "data": {
      "text/plain": [
       "'2.1.0'"
      ]
     },
     "execution_count": 4,
     "metadata": {},
     "output_type": "execute_result"
    }
   ],
   "source": [
    "tf.__version__"
   ]
  },
  {
   "cell_type": "code",
   "execution_count": 6,
   "metadata": {},
   "outputs": [
    {
     "name": "stdout",
     "output_type": "stream",
     "text": [
      "True\n",
      "[PhysicalDevice(name='/physical_device:GPU:0', device_type='GPU')]\n"
     ]
    }
   ],
   "source": [
    "# GPU 사용 여부 확인\n",
    "print(tf.test.is_built_with_cuda())\n",
    "print(tf.config.list_physical_devices('GPU'))"
   ]
  },
  {
   "cell_type": "code",
   "execution_count": 1,
   "metadata": {},
   "outputs": [],
   "source": [
    "import pandas as pd\n",
    "import numpy as np\n",
    "\n",
    "content_risk_merged_df = pd.read_csv('./content_risk_merged.csv')"
   ]
  },
  {
   "cell_type": "code",
   "execution_count": 2,
   "metadata": {},
   "outputs": [
    {
     "data": {
      "text/plain": [
       "(150952, 2)"
      ]
     },
     "execution_count": 2,
     "metadata": {},
     "output_type": "execute_result"
    }
   ],
   "source": [
    "content_risk_merged_df.shape"
   ]
  },
  {
   "cell_type": "code",
   "execution_count": 5,
   "metadata": {},
   "outputs": [
    {
     "data": {
      "text/html": [
       "<div>\n",
       "<style scoped>\n",
       "    .dataframe tbody tr th:only-of-type {\n",
       "        vertical-align: middle;\n",
       "    }\n",
       "\n",
       "    .dataframe tbody tr th {\n",
       "        vertical-align: top;\n",
       "    }\n",
       "\n",
       "    .dataframe thead th {\n",
       "        text-align: right;\n",
       "    }\n",
       "</style>\n",
       "<table border=\"1\" class=\"dataframe\">\n",
       "  <thead>\n",
       "    <tr style=\"text-align: right;\">\n",
       "      <th></th>\n",
       "      <th>index</th>\n",
       "      <th>content_risk_merged</th>\n",
       "    </tr>\n",
       "  </thead>\n",
       "  <tbody>\n",
       "    <tr>\n",
       "      <th>0</th>\n",
       "      <td>0</td>\n",
       "      <td>'Meet Jane Bowles: incredible author, inspirin...</td>\n",
       "    </tr>\n",
       "    <tr>\n",
       "      <th>1</th>\n",
       "      <td>1</td>\n",
       "      <td>\"I've always been passionate about efficiency,...</td>\n",
       "    </tr>\n",
       "    <tr>\n",
       "      <th>2</th>\n",
       "      <td>2</td>\n",
       "      <td>'Billet Dice', 'Billet Dice are made from bill...</td>\n",
       "    </tr>\n",
       "    <tr>\n",
       "      <th>3</th>\n",
       "      <td>3</td>\n",
       "      <td>'With this film we want to entertain you in an...</td>\n",
       "    </tr>\n",
       "    <tr>\n",
       "      <th>4</th>\n",
       "      <td>4</td>\n",
       "      <td>'The Splash Drone is a fully waterproof quad c...</td>\n",
       "    </tr>\n",
       "  </tbody>\n",
       "</table>\n",
       "</div>"
      ],
      "text/plain": [
       "   index                                content_risk_merged\n",
       "0      0  'Meet Jane Bowles: incredible author, inspirin...\n",
       "1      1  \"I've always been passionate about efficiency,...\n",
       "2      2  'Billet Dice', 'Billet Dice are made from bill...\n",
       "3      3  'With this film we want to entertain you in an...\n",
       "4      4  'The Splash Drone is a fully waterproof quad c..."
      ]
     },
     "execution_count": 5,
     "metadata": {},
     "output_type": "execute_result"
    }
   ],
   "source": [
    "content_risk_merged_df.head()"
   ]
  },
  {
   "cell_type": "code",
   "execution_count": 7,
   "metadata": {},
   "outputs": [
    {
     "data": {
      "text/plain": [
       "Index                        128\n",
       "index                    1207616\n",
       "content_risk_merged    975025472\n",
       "dtype: int64"
      ]
     },
     "execution_count": 7,
     "metadata": {},
     "output_type": "execute_result"
    }
   ],
   "source": [
    "content_risk_merged_df.memory_usage(deep=True)"
   ]
  },
  {
   "cell_type": "code",
   "execution_count": 8,
   "metadata": {},
   "outputs": [
    {
     "name": "stderr",
     "output_type": "stream",
     "text": [
      "[nltk_data] Downloading package punkt to /home/eodud0582/nltk_data...\n",
      "[nltk_data]   Unzipping tokenizers/punkt.zip.\n",
      "[nltk_data] Downloading package stopwords to\n",
      "[nltk_data]     /home/eodud0582/nltk_data...\n",
      "[nltk_data]   Unzipping corpora/stopwords.zip.\n",
      "[nltk_data] Downloading package wordnet to\n",
      "[nltk_data]     /home/eodud0582/nltk_data...\n",
      "[nltk_data]   Unzipping corpora/wordnet.zip.\n",
      "[nltk_data] Downloading package tagsets to\n",
      "[nltk_data]     /home/eodud0582/nltk_data...\n",
      "[nltk_data]   Unzipping help/tagsets.zip.\n",
      "[nltk_data] Downloading package averaged_perceptron_tagger to\n",
      "[nltk_data]     /home/eodud0582/nltk_data...\n",
      "[nltk_data]   Unzipping taggers/averaged_perceptron_tagger.zip.\n"
     ]
    },
    {
     "data": {
      "text/plain": [
       "True"
      ]
     },
     "execution_count": 8,
     "metadata": {},
     "output_type": "execute_result"
    }
   ],
   "source": [
    "#nltk.download('추가패키지명')\n",
    "\n",
    "nltk.download('punkt')\n",
    "nltk.download('stopwords')\n",
    "nltk.download('wordnet')\n",
    "nltk.download('tagsets')\n",
    "nltk.download('averaged_perceptron_tagger')"
   ]
  },
  {
   "cell_type": "code",
   "execution_count": null,
   "metadata": {},
   "outputs": [],
   "source": [
    "nltk.sent_tokenize(text) #문장 단위 토큰화\n",
    "nltk.word_tokenize(text) #단어 단위 토큰화\n",
    "nltk.regexp_tokenize(text, '\\d') #숫자만 토큰화\n",
    "nltk.regexp_tokenize(text, '\\w') #철자/글자(letter) 단위 토큰화\n",
    "nltk.regexp_tokenize(text, r'\\w+') #단어 단위 토큰화"
   ]
  },
  {
   "cell_type": "code",
   "execution_count": null,
   "metadata": {},
   "outputs": [],
   "source": [
    "stopwords.fileids() #nltk가 지원하는 stopword 언어 조회\n",
    "'''\n",
    "['arabic','azerbaijani','danish','dutch','english','finnish',\n",
    "'french','german','greek','hungarian','indonesian','italian',\n",
    "'kazakh','nepali','norwegian','portuguese','romanian','russian',\n",
    "'slovene','spanish','swedish','tajik','turkish']\n",
    "'''\n",
    "stopwords.words('언어') #지원되는 언어의 stopwords 조회"
   ]
  },
  {
   "cell_type": "code",
   "execution_count": null,
   "metadata": {},
   "outputs": [],
   "source": [
    "content_risk_merged_df['content_risk_merged'][0]"
   ]
  },
  {
   "cell_type": "code",
   "execution_count": 335,
   "metadata": {},
   "outputs": [
    {
     "data": {
      "text/plain": [
       "True"
      ]
     },
     "execution_count": 335,
     "metadata": {},
     "output_type": "execute_result"
    }
   ],
   "source": [
    "'\\\\xa0' in content_risk_merged_df['content_risk_merged'][0] "
   ]
  },
  {
   "cell_type": "code",
   "execution_count": 338,
   "metadata": {},
   "outputs": [
    {
     "data": {
      "text/plain": [
       "True"
      ]
     },
     "execution_count": 338,
     "metadata": {},
     "output_type": "execute_result"
    }
   ],
   "source": [
    "'\\\\t' in content_risk_merged_df['content_risk_merged'][0]"
   ]
  },
  {
   "cell_type": "code",
   "execution_count": 324,
   "metadata": {},
   "outputs": [
    {
     "data": {
      "text/plain": [
       "'!\"#$%&\\'()*+,-./:;<=>?@[\\\\]^_`{|}~'"
      ]
     },
     "execution_count": 324,
     "metadata": {},
     "output_type": "execute_result"
    }
   ],
   "source": [
    "string.punctuation"
   ]
  },
  {
   "cell_type": "code",
   "execution_count": 329,
   "metadata": {},
   "outputs": [
    {
     "data": {
      "text/plain": [
       "True"
      ]
     },
     "execution_count": 329,
     "metadata": {},
     "output_type": "execute_result"
    }
   ],
   "source": [
    "'\\\\' in string.punctuation"
   ]
  },
  {
   "cell_type": "code",
   "execution_count": 10,
   "metadata": {},
   "outputs": [
    {
     "data": {
      "text/plain": [
       "6800"
      ]
     },
     "execution_count": 10,
     "metadata": {},
     "output_type": "execute_result"
    }
   ],
   "source": [
    "# Kickstarter 크라우드펀딩은 국가 분포는 영어권이 다수이지만, 다른 언어권의 펀딩들도 있기에 \n",
    "# nltk가 지원하는 stopword 언어의 모든 stopwords를 사용할 것이다\n",
    "len(stopwords.words(stopwords.fileids()))"
   ]
  },
  {
   "cell_type": "code",
   "execution_count": 71,
   "metadata": {},
   "outputs": [
    {
     "data": {
      "text/plain": [
       "'0123456789'"
      ]
     },
     "execution_count": 71,
     "metadata": {},
     "output_type": "execute_result"
    }
   ],
   "source": [
    "string.digits"
   ]
  },
  {
   "cell_type": "code",
   "execution_count": 3,
   "metadata": {},
   "outputs": [],
   "source": [
    "# 텍스트 전처리 함수\n",
    "def text_preprocessing(document):\n",
    "    #소문자 변환\n",
    "    document = document.lower()\n",
    "    \n",
    "    #추가로 발견한 노이즈 제거\n",
    "    document = document.replace('\\\\xa0', ' ')\n",
    "    document = document.replace('\\\\t', ' ')\n",
    "    document = document.replace('\\\\n', ' ')\n",
    "    \n",
    "    #특수문자 제거\n",
    "    punct_pattern = '[{}]'.format(string.punctuation)\n",
    "    document = re.sub(punct_pattern, ' ', document)\n",
    "    \n",
    "    #숫자 제거\n",
    "    document = re.sub(r'\\d+', ' ', document)\n",
    "        #digit_pattern = '[{}]'.format(string.digits)\n",
    "        #document = re.sub(digit_pattern, ' ', document)\n",
    "    \n",
    "    #stopword 제거, stemming 처리 및 토큰화\n",
    "    stop_words = stopwords.words(stopwords.fileids()) #지원되는 모든 stopwords\n",
    "    stop_words.extend(['“','”','‘','’','•']) #추가로 발견한 특수문자\n",
    "    stemmer = PorterStemmer() #어간 추출\n",
    "    word_token = nltk.word_tokenize(document)\n",
    "    result_token = [stemmer.stem(word) for word in word_token if word not in stop_words and len(word) > 2]\n",
    "        # 불용어이고 문자/철자 수가 2개 이하인 단어는 제거\n",
    "    \n",
    "    return result_token # ' '.join(result_token)"
   ]
  },
  {
   "cell_type": "code",
   "execution_count": null,
   "metadata": {},
   "outputs": [],
   "source": [
    "# 토크나이즈\n",
    "preprocessed_result_token = content_risk_merged_df['content_risk_merged'].apply(text_preprocessing)"
   ]
  },
  {
   "cell_type": "code",
   "execution_count": null,
   "metadata": {},
   "outputs": [],
   "source": [
    "#preprocessed_result_token.to_pickle('preprocessed_result_token.pkl')"
   ]
  },
  {
   "cell_type": "code",
   "execution_count": null,
   "metadata": {},
   "outputs": [],
   "source": []
  },
  {
   "cell_type": "code",
   "execution_count": 1,
   "metadata": {},
   "outputs": [
    {
     "data": {
      "text/html": [
       "<div>\n",
       "<style scoped>\n",
       "    .dataframe tbody tr th:only-of-type {\n",
       "        vertical-align: middle;\n",
       "    }\n",
       "\n",
       "    .dataframe tbody tr th {\n",
       "        vertical-align: top;\n",
       "    }\n",
       "\n",
       "    .dataframe thead th {\n",
       "        text-align: right;\n",
       "    }\n",
       "</style>\n",
       "<table border=\"1\" class=\"dataframe\">\n",
       "  <thead>\n",
       "    <tr style=\"text-align: right;\">\n",
       "      <th></th>\n",
       "      <th>index</th>\n",
       "      <th>result_token</th>\n",
       "    </tr>\n",
       "  </thead>\n",
       "  <tbody>\n",
       "    <tr>\n",
       "      <th>0</th>\n",
       "      <td>0</td>\n",
       "      <td>[meet, jane, bowl, incred, author, inspir, wom...</td>\n",
       "    </tr>\n",
       "    <tr>\n",
       "      <th>1</th>\n",
       "      <td>1</td>\n",
       "      <td>[alway, passion, effici, sinc, discov, tini, h...</td>\n",
       "    </tr>\n",
       "    <tr>\n",
       "      <th>2</th>\n",
       "      <td>2</td>\n",
       "      <td>[billet, dice, billet, dice, made, billet, alu...</td>\n",
       "    </tr>\n",
       "    <tr>\n",
       "      <th>3</th>\n",
       "      <td>3</td>\n",
       "      <td>[film, entertain, entic, film, see, show, dire...</td>\n",
       "    </tr>\n",
       "    <tr>\n",
       "      <th>4</th>\n",
       "      <td>4</td>\n",
       "      <td>[splash, drone, fulli, waterproof, quad, copte...</td>\n",
       "    </tr>\n",
       "    <tr>\n",
       "      <th>...</th>\n",
       "      <td>...</td>\n",
       "      <td>...</td>\n",
       "    </tr>\n",
       "    <tr>\n",
       "      <th>150947</th>\n",
       "      <td>153570</td>\n",
       "      <td>[vivian, new, york–bas, design, label, start, ...</td>\n",
       "    </tr>\n",
       "    <tr>\n",
       "      <th>150948</th>\n",
       "      <td>153571</td>\n",
       "      <td>[hello, chloe, artist, behind, plant, suppli, ...</td>\n",
       "    </tr>\n",
       "    <tr>\n",
       "      <th>150949</th>\n",
       "      <td>153572</td>\n",
       "      <td>[relaunch, beastli, boutiqu, want, someth, spe...</td>\n",
       "    </tr>\n",
       "    <tr>\n",
       "      <th>150950</th>\n",
       "      <td>153573</td>\n",
       "      <td>[applic, becom, produc, social, media, social,...</td>\n",
       "    </tr>\n",
       "    <tr>\n",
       "      <th>150951</th>\n",
       "      <td>153574</td>\n",
       "      <td>[contemporari, christian, artist, music, creat...</td>\n",
       "    </tr>\n",
       "  </tbody>\n",
       "</table>\n",
       "<p>150952 rows × 2 columns</p>\n",
       "</div>"
      ],
      "text/plain": [
       "         index                                       result_token\n",
       "0            0  [meet, jane, bowl, incred, author, inspir, wom...\n",
       "1            1  [alway, passion, effici, sinc, discov, tini, h...\n",
       "2            2  [billet, dice, billet, dice, made, billet, alu...\n",
       "3            3  [film, entertain, entic, film, see, show, dire...\n",
       "4            4  [splash, drone, fulli, waterproof, quad, copte...\n",
       "...        ...                                                ...\n",
       "150947  153570  [vivian, new, york–bas, design, label, start, ...\n",
       "150948  153571  [hello, chloe, artist, behind, plant, suppli, ...\n",
       "150949  153572  [relaunch, beastli, boutiqu, want, someth, spe...\n",
       "150950  153573  [applic, becom, produc, social, media, social,...\n",
       "150951  153574  [contemporari, christian, artist, music, creat...\n",
       "\n",
       "[150952 rows x 2 columns]"
      ]
     },
     "execution_count": 1,
     "metadata": {},
     "output_type": "execute_result"
    }
   ],
   "source": [
    "# 불러온 (토큰화 완료된) result_token --> 우선 원본 DataFrame에 한 컬럼으로 추가 한 후 (index 번호를 가지기 위해) 토큰화 하기 전의 텍스트 컬럼은 제거\n",
    "import pandas as pd\n",
    "import numpy as np\n",
    "\n",
    "content_risk_merged_df = pd.read_csv('./content_risk_merged.csv')\n",
    "preprocessed_result_token = pd.read_pickle('preprocessed_result_token.pkl')\n",
    "content_risk_merged_df['result_token'] = preprocessed_result_token\n",
    "df_result_token = content_risk_merged_df.drop(columns=['content_risk_merged'])\n",
    "df_result_token"
   ]
  },
  {
   "cell_type": "code",
   "execution_count": 2,
   "metadata": {},
   "outputs": [],
   "source": [
    "# 피클로 저장\n",
    "df_result_token.to_pickle('preprocessed_result_token.pkl')"
   ]
  },
  {
   "cell_type": "markdown",
   "metadata": {},
   "source": [
    "## 데이터 크기가 너무너무 크다..."
   ]
  },
  {
   "cell_type": "code",
   "execution_count": 33,
   "metadata": {},
   "outputs": [
    {
     "data": {
      "text/plain": [
       "36141     4277\n",
       "97891     3048\n",
       "130653    3046\n",
       "17821     2995\n",
       "67256     2926\n",
       "          ... \n",
       "96568     1545\n",
       "117532    1545\n",
       "104905    1544\n",
       "121145    1544\n",
       "12758     1544\n",
       "Name: content_risk_merged, Length: 1000, dtype: int64"
      ]
     },
     "execution_count": 33,
     "metadata": {},
     "output_type": "execute_result"
    }
   ],
   "source": [
    "# 분포 확인\n",
    "token_length = df_result_token['content_risk_merged'].apply(lambda x: len(x)) # lambda 사용\n",
    "token_length.sort_values(ascending=False)[:1000]\n",
    "#오름차순으로 1000개까지 확인 결과 상대적으로 작은 길이의 doc이 많은 듯\n",
    "#내림차순으로 조회시 길이가 2000 이상인 doc은 300여개 정도 있음"
   ]
  },
  {
   "cell_type": "code",
   "execution_count": 21,
   "metadata": {},
   "outputs": [
    {
     "name": "stdout",
     "output_type": "stream",
     "text": [
      "29091\n",
      "1375\n"
     ]
    }
   ],
   "source": [
    "print(len(df_result_token[(df_result_token['result_token'].map(len) > 500)])) # map(len) 사용\n",
    "print(len(df_result_token[(df_result_token['result_token'].map(len) < 30)]))"
   ]
  },
  {
   "cell_type": "code",
   "execution_count": 2,
   "metadata": {},
   "outputs": [
    {
     "data": {
      "text/plain": [
       "120486"
      ]
     },
     "execution_count": 2,
     "metadata": {},
     "output_type": "execute_result"
    }
   ],
   "source": [
    "# 토큰 개수가/길이를 조건으로 하여 데이터셋 규모 줄이기\n",
    "df_result_token_reduced = df_result_token[(df_result_token['result_token'].map(len) < 501) & \\\n",
    "                                          (df_result_token['result_token'].map(len) > 29)]\n",
    "len(df_result_token_reduced)\n",
    "# 길이가 1000 이하, 50 이상인 doc만 가져와 DataFrame 생성"
   ]
  },
  {
   "cell_type": "code",
   "execution_count": 5,
   "metadata": {},
   "outputs": [
    {
     "data": {
      "text/html": [
       "<div>\n",
       "<style scoped>\n",
       "    .dataframe tbody tr th:only-of-type {\n",
       "        vertical-align: middle;\n",
       "    }\n",
       "\n",
       "    .dataframe tbody tr th {\n",
       "        vertical-align: top;\n",
       "    }\n",
       "\n",
       "    .dataframe thead th {\n",
       "        text-align: right;\n",
       "    }\n",
       "</style>\n",
       "<table border=\"1\" class=\"dataframe\">\n",
       "  <thead>\n",
       "    <tr style=\"text-align: right;\">\n",
       "      <th></th>\n",
       "      <th>index</th>\n",
       "      <th>content_risk_merged</th>\n",
       "    </tr>\n",
       "  </thead>\n",
       "  <tbody>\n",
       "    <tr>\n",
       "      <th>1</th>\n",
       "      <td>1</td>\n",
       "      <td>[alway, passion, effici, sinc, discov, tini, h...</td>\n",
       "    </tr>\n",
       "    <tr>\n",
       "      <th>2</th>\n",
       "      <td>2</td>\n",
       "      <td>[billet, dice, billet, dice, made, billet, alu...</td>\n",
       "    </tr>\n",
       "    <tr>\n",
       "      <th>3</th>\n",
       "      <td>3</td>\n",
       "      <td>[film, entertain, entic, film, see, show, dire...</td>\n",
       "    </tr>\n",
       "    <tr>\n",
       "      <th>5</th>\n",
       "      <td>5</td>\n",
       "      <td>[writer, sinc, could, hold, crayon, like, brea...</td>\n",
       "    </tr>\n",
       "    <tr>\n",
       "      <th>7</th>\n",
       "      <td>7</td>\n",
       "      <td>[year, flagship, magazin, bunburi, magazin, tu...</td>\n",
       "    </tr>\n",
       "    <tr>\n",
       "      <th>...</th>\n",
       "      <td>...</td>\n",
       "      <td>...</td>\n",
       "    </tr>\n",
       "    <tr>\n",
       "      <th>150947</th>\n",
       "      <td>150947</td>\n",
       "      <td>[vivian, new, york–bas, design, label, start, ...</td>\n",
       "    </tr>\n",
       "    <tr>\n",
       "      <th>150948</th>\n",
       "      <td>150948</td>\n",
       "      <td>[hello, chloe, artist, behind, plant, suppli, ...</td>\n",
       "    </tr>\n",
       "    <tr>\n",
       "      <th>150949</th>\n",
       "      <td>150949</td>\n",
       "      <td>[relaunch, beastli, boutiqu, want, someth, spe...</td>\n",
       "    </tr>\n",
       "    <tr>\n",
       "      <th>150950</th>\n",
       "      <td>150950</td>\n",
       "      <td>[applic, becom, produc, social, media, social,...</td>\n",
       "    </tr>\n",
       "    <tr>\n",
       "      <th>150951</th>\n",
       "      <td>150951</td>\n",
       "      <td>[contemporari, christian, artist, music, creat...</td>\n",
       "    </tr>\n",
       "  </tbody>\n",
       "</table>\n",
       "<p>87681 rows × 2 columns</p>\n",
       "</div>"
      ],
      "text/plain": [
       "         index                                content_risk_merged\n",
       "1            1  [alway, passion, effici, sinc, discov, tini, h...\n",
       "2            2  [billet, dice, billet, dice, made, billet, alu...\n",
       "3            3  [film, entertain, entic, film, see, show, dire...\n",
       "5            5  [writer, sinc, could, hold, crayon, like, brea...\n",
       "7            7  [year, flagship, magazin, bunburi, magazin, tu...\n",
       "...        ...                                                ...\n",
       "150947  150947  [vivian, new, york–bas, design, label, start, ...\n",
       "150948  150948  [hello, chloe, artist, behind, plant, suppli, ...\n",
       "150949  150949  [relaunch, beastli, boutiqu, want, someth, spe...\n",
       "150950  150950  [applic, becom, produc, social, media, social,...\n",
       "150951  150951  [contemporari, christian, artist, music, creat...\n",
       "\n",
       "[87681 rows x 2 columns]"
      ]
     },
     "execution_count": 5,
     "metadata": {},
     "output_type": "execute_result"
    }
   ],
   "source": [
    "df_result_token_reduced"
   ]
  },
  {
   "cell_type": "code",
   "execution_count": 40,
   "metadata": {},
   "outputs": [
    {
     "data": {
      "text/plain": [
       "Int64Index([0, 2, 3, 4, 5, 6, 7, 11, 13, 14], dtype='int64')"
      ]
     },
     "execution_count": 40,
     "metadata": {},
     "output_type": "execute_result"
    }
   ],
   "source": [
    "# 인덱스 번호는 따로 뽑아 놓았다가 나중에 텍스트 처리 과정이 다 끝나고 이미지 데이터와 메타 데이터와 합칠 때, 이 인덱스를 base로 --> 이 인덱스의 행들만 남겨두고 나머지는 다 지워야 함\n",
    "df_result_token_reduced.index[0:10]"
   ]
  },
  {
   "cell_type": "code",
   "execution_count": 3,
   "metadata": {},
   "outputs": [
    {
     "data": {
      "text/html": [
       "<div>\n",
       "<style scoped>\n",
       "    .dataframe tbody tr th:only-of-type {\n",
       "        vertical-align: middle;\n",
       "    }\n",
       "\n",
       "    .dataframe tbody tr th {\n",
       "        vertical-align: top;\n",
       "    }\n",
       "\n",
       "    .dataframe thead th {\n",
       "        text-align: right;\n",
       "    }\n",
       "</style>\n",
       "<table border=\"1\" class=\"dataframe\">\n",
       "  <thead>\n",
       "    <tr style=\"text-align: right;\">\n",
       "      <th></th>\n",
       "      <th>index</th>\n",
       "      <th>result_token</th>\n",
       "    </tr>\n",
       "  </thead>\n",
       "  <tbody>\n",
       "    <tr>\n",
       "      <th>73097</th>\n",
       "      <td>74306</td>\n",
       "      <td>[gelant, sinnvollen, ide, bereit, prototyp, re...</td>\n",
       "    </tr>\n",
       "    <tr>\n",
       "      <th>73098</th>\n",
       "      <td>74307</td>\n",
       "      <td>[hallo, freund, ide, einfach, simpl, gilt, web...</td>\n",
       "    </tr>\n",
       "    <tr>\n",
       "      <th>73099</th>\n",
       "      <td>74308</td>\n",
       "      <td>[gypsi, fur, brother, jake, shi, want, quietli...</td>\n",
       "    </tr>\n",
       "    <tr>\n",
       "      <th>73100</th>\n",
       "      <td>74309</td>\n",
       "      <td>[self, publish, self, design, go, self, print,...</td>\n",
       "    </tr>\n",
       "    <tr>\n",
       "      <th>73101</th>\n",
       "      <td>74310</td>\n",
       "      <td>[project, updat, final, stretch, hey, friend, ...</td>\n",
       "    </tr>\n",
       "    <tr>\n",
       "      <th>...</th>\n",
       "      <td>...</td>\n",
       "      <td>...</td>\n",
       "    </tr>\n",
       "    <tr>\n",
       "      <th>150947</th>\n",
       "      <td>153570</td>\n",
       "      <td>[vivian, new, york–bas, design, label, start, ...</td>\n",
       "    </tr>\n",
       "    <tr>\n",
       "      <th>150948</th>\n",
       "      <td>153571</td>\n",
       "      <td>[hello, chloe, artist, behind, plant, suppli, ...</td>\n",
       "    </tr>\n",
       "    <tr>\n",
       "      <th>150949</th>\n",
       "      <td>153572</td>\n",
       "      <td>[relaunch, beastli, boutiqu, want, someth, spe...</td>\n",
       "    </tr>\n",
       "    <tr>\n",
       "      <th>150950</th>\n",
       "      <td>153573</td>\n",
       "      <td>[applic, becom, produc, social, media, social,...</td>\n",
       "    </tr>\n",
       "    <tr>\n",
       "      <th>150951</th>\n",
       "      <td>153574</td>\n",
       "      <td>[contemporari, christian, artist, music, creat...</td>\n",
       "    </tr>\n",
       "  </tbody>\n",
       "</table>\n",
       "<p>60486 rows × 2 columns</p>\n",
       "</div>"
      ],
      "text/plain": [
       "         index                                       result_token\n",
       "73097    74306  [gelant, sinnvollen, ide, bereit, prototyp, re...\n",
       "73098    74307  [hallo, freund, ide, einfach, simpl, gilt, web...\n",
       "73099    74308  [gypsi, fur, brother, jake, shi, want, quietli...\n",
       "73100    74309  [self, publish, self, design, go, self, print,...\n",
       "73101    74310  [project, updat, final, stretch, hey, friend, ...\n",
       "...        ...                                                ...\n",
       "150947  153570  [vivian, new, york–bas, design, label, start, ...\n",
       "150948  153571  [hello, chloe, artist, behind, plant, suppli, ...\n",
       "150949  153572  [relaunch, beastli, boutiqu, want, someth, spe...\n",
       "150950  153573  [applic, becom, produc, social, media, social,...\n",
       "150951  153574  [contemporari, christian, artist, music, creat...\n",
       "\n",
       "[60486 rows x 2 columns]"
      ]
     },
     "execution_count": 3,
     "metadata": {},
     "output_type": "execute_result"
    }
   ],
   "source": [
    "# 60000개 제거...\n",
    "df_result_token_reduced_more = df_result_token_reduced.drop(df_result_token_reduced.index[0:60000])\n",
    "df_result_token_reduced_more"
   ]
  },
  {
   "cell_type": "code",
   "execution_count": 3,
   "metadata": {},
   "outputs": [
    {
     "data": {
      "text/plain": [
       "(60952, 2)"
      ]
     },
     "execution_count": 3,
     "metadata": {},
     "output_type": "execute_result"
    }
   ],
   "source": [
    "# 그냥 token length를 줄이지 말고 데이터 양(행 수)를 줄여야 하나?\n",
    "df_result_token_reduced = df_result_token.drop(df_result_token.index[0:90000])\n",
    "df_result_token_reduced.shape"
   ]
  },
  {
   "cell_type": "code",
   "execution_count": null,
   "metadata": {},
   "outputs": [],
   "source": [
    "# 위 DataFrame으로 정수 인코딩 다시 실행"
   ]
  },
  {
   "cell_type": "markdown",
   "metadata": {},
   "source": [
    "## 정수 인코딩(Integer Encoding)"
   ]
  },
  {
   "cell_type": "code",
   "execution_count": 4,
   "metadata": {},
   "outputs": [],
   "source": [
    "import tensorflow as tf\n",
    "from tensorflow.keras.preprocessing.text import Tokenizer\n",
    "from tensorflow.keras.preprocessing.sequence import pad_sequences\n",
    "from tensorflow.keras.models import Sequential\n",
    "from tensorflow.keras.layers import Conv1D, SeparableConv1D, MaxPooling1D, GlobalMaxPooling1D, GlobalAveragePooling1D\n",
    "from tensorflow.keras.layers import Embedding, Dropout, Flatten, Dense"
   ]
  },
  {
   "cell_type": "code",
   "execution_count": 5,
   "metadata": {},
   "outputs": [],
   "source": [
    "# 메모리 부족 문제 해결을 위한 Tensorflow GPU 사용 설정 변경\n",
    "import tensorflow as tf\n",
    "\n",
    "config = tf.compat.v1.ConfigProto()\n",
    "config.gpu_options.allow_growth = True\n",
    "sess = tf.compat.v1.Session(config=config)"
   ]
  },
  {
   "cell_type": "code",
   "execution_count": 20,
   "metadata": {},
   "outputs": [
    {
     "name": "stdout",
     "output_type": "stream",
     "text": [
      "Device mapping:\n",
      "/job:localhost/replica:0/task:0/device:XLA_CPU:0 -> device: XLA_CPU device\n",
      "/job:localhost/replica:0/task:0/device:XLA_GPU:0 -> device: XLA_GPU device\n",
      "/job:localhost/replica:0/task:0/device:GPU:0 -> device: 0, name: Tesla K80, pci bus id: 0000:00:04.0, compute capability: 3.7\n",
      "\n"
     ]
    }
   ],
   "source": [
    "# 이건 무시해도 됨\n",
    "config = tf.compat.v1.ConfigProto(log_device_placement=True)\n",
    "config.gpu_options.per_process_gpu_memory_fraction = 0.333\n",
    "session = tf.compat.v1.Session(config=config)"
   ]
  },
  {
   "cell_type": "code",
   "execution_count": 9,
   "metadata": {},
   "outputs": [
    {
     "name": "stdout",
     "output_type": "stream",
     "text": [
      "Executing op MatMul in device /job:localhost/replica:0/task:0/device:GPU:0\n",
      "tf.Tensor(\n",
      "[[22. 28.]\n",
      " [49. 64.]], shape=(2, 2), dtype=float32)\n"
     ]
    }
   ],
   "source": [
    "# 이것도 무시해도 됨\n",
    "# Place tensors on the CPU\n",
    "import tensorflow as tf\n",
    "tf.debugging.set_log_device_placement(True)\n",
    "\n",
    "with tf.device('/CPU:0'):\n",
    "    a = tf.constant([[1.0, 2.0, 3.0], [4.0, 5.0, 6.0]])\n",
    "    b = tf.constant([[1.0, 2.0], [3.0, 4.0], [5.0, 6.0]])\n",
    "\n",
    "c = tf.matmul(a, b)\n",
    "print(c)"
   ]
  },
  {
   "cell_type": "code",
   "execution_count": null,
   "metadata": {},
   "outputs": [],
   "source": []
  },
  {
   "cell_type": "code",
   "execution_count": null,
   "metadata": {},
   "outputs": [],
   "source": [
    "# 정수 인코딩 시작"
   ]
  },
  {
   "cell_type": "code",
   "execution_count": 6,
   "metadata": {},
   "outputs": [
    {
     "name": "stdout",
     "output_type": "stream",
     "text": [
      "<class 'pandas.core.series.Series'>\n",
      "(60486,)\n",
      "73097    [gelant, sinnvollen, ide, bereit, prototyp, re...\n",
      "73098    [hallo, freund, ide, einfach, simpl, gilt, web...\n",
      "73099    [gypsi, fur, brother, jake, shi, want, quietli...\n",
      "73100    [self, publish, self, design, go, self, print,...\n",
      "73101    [project, updat, final, stretch, hey, friend, ...\n",
      "Name: result_token, dtype: object\n"
     ]
    }
   ],
   "source": [
    "# 우선 데이터 프레임에서 인덱스 컬럼은 두고 토큰 컬럼만 가져오기\n",
    "result_token = df_result_token_reduced_more['result_token']\n",
    "print(type(result_token))\n",
    "print(result_token.shape)\n",
    "print(result_token.head())"
   ]
  },
  {
   "cell_type": "code",
   "execution_count": 7,
   "metadata": {},
   "outputs": [],
   "source": [
    "# define documents\n",
    "docs = result_token.tolist() # nltk tokenizer로 토큰화한 각 document/행별 단어 토큰 리스트를 하나의 큰 리스트로 묶었다"
   ]
  },
  {
   "cell_type": "code",
   "execution_count": 8,
   "metadata": {},
   "outputs": [
    {
     "name": "stdout",
     "output_type": "stream",
     "text": [
      "210164\n"
     ]
    }
   ],
   "source": [
    "# Keras의 Tokenizer() 사용\n",
    "t = Tokenizer()\n",
    "t.fit_on_texts(docs) # 코퍼스(리스트)를 입력으로 하면 빈도수를 기준으로 단어 집합을 생성\n",
    "    # ([docs]) -- 만약 전 단계에서 list로 안 만들었다면 리스트 []로\n",
    "vocab_size = len(t.word_index) + 1 \n",
    "print(vocab_size) # 각 단어 index\n",
    "#print(t.word_index) # 각 단어에 대한 (index)인코딩 결과 출력\n",
    "#print(t.word_counts) # 각 단어 개수 (문서별))\n",
    "\n",
    "# 각 문장에 대해 정수 인코딩 수행 (integer encode the documents)\n",
    "encoded_docs = t.texts_to_sequences(docs)\n",
    "#print(encoded_docs[0][:10])"
   ]
  },
  {
   "cell_type": "code",
   "execution_count": 9,
   "metadata": {},
   "outputs": [
    {
     "name": "stdout",
     "output_type": "stream",
     "text": [
      "3048\n"
     ]
    }
   ],
   "source": [
    "# 가장 길이가 긴 doc의 길이\n",
    "max_length = max(len(l) for l in encoded_docs)\n",
    "print(max_length) #문서 중에서 가장 길이가 긴 문서의 길이는 1188"
   ]
  },
  {
   "cell_type": "code",
   "execution_count": 9,
   "metadata": {},
   "outputs": [],
   "source": [
    "max_length = 500 #(바로 위의 과정을 생략하고) 메모리를 아끼기 위해 그냥 직접 변수 설정"
   ]
  },
  {
   "cell_type": "code",
   "execution_count": 10,
   "metadata": {},
   "outputs": [
    {
     "name": "stdout",
     "output_type": "stream",
     "text": [
      "(60486, 500)\n"
     ]
    }
   ],
   "source": [
    "# 모든 문서 패딩하여 max_length(가장 길이가 긴 문서 길이)에 길이 맞추기 (pad documents to the max length)\n",
    "padded_docs = pad_sequences(encoded_docs, maxlen=max_length, padding='post')\n",
    "print(padded_docs.shape)\n",
    "#print(padded_docs)\n",
    "\n",
    "# 텍스트 데이터에 대한 전처리(토큰화,패딩)는 완료"
   ]
  },
  {
   "cell_type": "code",
   "execution_count": 13,
   "metadata": {},
   "outputs": [
    {
     "name": "stdout",
     "output_type": "stream",
     "text": [
      "[[   91   220  1199 ...     0     0     0]\n",
      " [12817  1427 12817 ...     0     0     0]\n",
      " [   25   640  4975 ...     0     0     0]\n",
      " [  490   151    94 ...     0     0     0]\n",
      " [   11  5620   521 ...     0     0     0]]\n"
     ]
    }
   ],
   "source": [
    "print(padded_docs[0:5])"
   ]
  },
  {
   "cell_type": "code",
   "execution_count": null,
   "metadata": {},
   "outputs": [],
   "source": []
  },
  {
   "cell_type": "code",
   "execution_count": 20,
   "metadata": {},
   "outputs": [
    {
     "name": "stdout",
     "output_type": "stream",
     "text": [
      "(10, 1092, 1306)\n"
     ]
    }
   ],
   "source": [
    "#[Test] 원-핫 인코딩 (One-hot encoding)\n",
    "# 너무나 많은 데이터 양과 필요한 공간\n",
    "one_hot_docs = to_categorical(padded_docs)\n",
    "print(one_hot_docs.shape)\n",
    "#print(one_hot_docs)\n",
    "#print(one_hot_docs.flatten()) #메모리 터짐\n",
    "#print(len(one_hot_docs.flatten())) "
   ]
  },
  {
   "cell_type": "code",
   "execution_count": null,
   "metadata": {},
   "outputs": [],
   "source": [
    "# 단어의 잠재 의미를 반영하여 다차원 공간에 벡터화 하는 기법 중\n",
    "# 단어를 밀집 벡터(dense vector)의 형태로 표현하는 방법인 워드 임베딩 사용"
   ]
  },
  {
   "cell_type": "markdown",
   "metadata": {},
   "source": [
    "## 임베딩(Embedding)\n",
    "### Pre-trained GloVe 사용"
   ]
  },
  {
   "cell_type": "code",
   "execution_count": 11,
   "metadata": {},
   "outputs": [
    {
     "name": "stdout",
     "output_type": "stream",
     "text": [
      "Loaded embedding vectors: 400000\n"
     ]
    }
   ],
   "source": [
    "# Pre-trained Glove 읽어오기\n",
    "# Load all the word embeddings from the pre-trained GloVe\n",
    "\n",
    "embedding_dict = dict()\n",
    "\n",
    "f = open('./glove.6B.50d.txt', encoding='utf-8')\n",
    "for line in f:\n",
    "    word_vector = line.split()  # 각 줄을 읽어와서 word_vector에 저장\n",
    "    #print(word_vector) # 각 줄을 출력\n",
    "    word = word_vector[0] # word_vector에서 첫번째 값만 저장 -- 단어\n",
    "    #print(word) # word_vector의 첫번째 값만 출력\n",
    "    word_vector_arr = np.asarray(word_vector[1:], dtype='float32') # -- 임베딩 벡터\n",
    "    embedding_dict[word] = word_vector_arr\n",
    "    #break\n",
    "f.close()\n",
    "\n",
    "print(\"Loaded embedding vectors:\", len(embedding_dict))"
   ]
  },
  {
   "cell_type": "code",
   "execution_count": null,
   "metadata": {},
   "outputs": [],
   "source": [
    "# 잠깐 GloVe 벡터 구경을 해보자"
   ]
  },
  {
   "cell_type": "code",
   "execution_count": 21,
   "metadata": {},
   "outputs": [
    {
     "name": "stdout",
     "output_type": "stream",
     "text": [
      "[-0.049773   0.19903    0.10585    0.1391    -0.32395    0.44053\n",
      "  0.3947    -0.22805   -0.25793    0.49768    0.15384   -0.08831\n",
      "  0.0782    -0.8299    -0.037788   0.16772   -0.45197   -0.17085\n",
      "  0.74756    0.98256    0.81872    0.28507    0.16178   -0.48626\n",
      " -0.006265  -0.92469   -0.30625   -0.067318  -0.046762  -0.76291\n",
      " -0.0025264 -0.018795   0.12882   -0.52457    0.3586     0.43119\n",
      " -0.89477   -0.057421  -0.53724    0.25587    0.55195    0.44698\n",
      " -0.24252    0.29946    0.25776   -0.8717     0.68426   -0.05688\n",
      " -0.1848    -0.59352   -0.11227   -0.57692   -0.013593   0.18488\n",
      " -0.32507   -0.90171    0.17672    0.075601   0.54896   -0.21488\n",
      " -0.54018   -0.45882   -0.79536    0.26331    0.18879   -0.16363\n",
      "  0.3975     0.1099     0.1164    -0.083499   0.50159    0.35802\n",
      "  0.25677    0.088546   0.42108    0.28674   -0.71285   -0.82915\n",
      "  0.15297   -0.82712    0.022112   1.067     -0.31776    0.1211\n",
      " -0.069755  -0.61327    0.27308   -0.42638   -0.085084  -0.17694\n",
      " -0.0090944  0.1109     0.62543   -0.23682   -0.44928   -0.3667\n",
      " -0.21616   -0.19187   -0.032502   0.38025  ]\n",
      "100\n"
     ]
    }
   ],
   "source": [
    "# 임의의 단어 'respectable'에 대한 임베딩 벡터 출력\n",
    "print(embedding_dict['respectable'])\n",
    "print(len(embedding_dict['respectable']))"
   ]
  },
  {
   "cell_type": "code",
   "execution_count": null,
   "metadata": {},
   "outputs": [],
   "source": [
    "# 벡터값이 출력 되면서 길이는 100인 것 확인"
   ]
  },
  {
   "cell_type": "code",
   "execution_count": null,
   "metadata": {},
   "outputs": [],
   "source": [
    "print(t.word_index.items()) # 모든 단어와 해당 index의 집합\n",
    "'''\n",
    "dict_items([('http', 1), ('garner', 2), ('eric', 3), ('famili', 4), ('end', 5), ('today', 6), \n",
    "('www', 7), ('song', 8), ('releas', 9), ('2015', 10), ('make', 11), ...])\n",
    "'''"
   ]
  },
  {
   "cell_type": "code",
   "execution_count": 35,
   "metadata": {},
   "outputs": [
    {
     "data": {
      "image/png": "[encoded data removed]",
      "text/plain": [
       "<Figure size 720x720 with 1 Axes>"
      ]
     },
     "metadata": {
      "needs_background": "light"
     },
     "output_type": "display_data"
    }
   ],
   "source": [
    "# Pre-trained GloVe 임베딩 벡터 시각화 : sklearn의 TSNE 사용\n",
    "\n",
    "tsne = TSNE(n_components=2, random_state=0)\n",
    "words = list(embedding_dict.keys())\n",
    "vectors = [embedding_dict[word] for word in words]\n",
    "\n",
    "Y = tsne.fit_transform(vectors[:500]) #400,000개 중 500개만 조회\n",
    "plt.figure(figsize=(10,10))\n",
    "plt.scatter(Y[:, 0], Y[:, 1])\n",
    "for label, x, y in zip(words, Y[:, 0], Y[:, 1]):\n",
    "    plt.annotate(label, xy=(x, y), xytext=(0, 0), textcoords=\"offset points\")\n",
    "plt.show()"
   ]
  },
  {
   "cell_type": "code",
   "execution_count": null,
   "metadata": {},
   "outputs": [],
   "source": []
  },
  {
   "cell_type": "code",
   "execution_count": null,
   "metadata": {},
   "outputs": [],
   "source": [
    "# 다시 임베딩 과정 계속"
   ]
  },
  {
   "cell_type": "code",
   "execution_count": 12,
   "metadata": {},
   "outputs": [],
   "source": [
    "# Create a weight matrix for words in docs\n",
    "# 훈련 데이터의 단어 집합의 모든 단어에 대해서 사전 훈련된 GloVe의 임베딩 벡터들을 맵핑\n",
    "# 단어의 index 부분에 해당 vector 값을 꺼내어 넣어주기\n",
    "embedding_matrix = np.zeros((vocab_size, 50)) # 단어 집합 크기의 행과 100개의 열을 가지는 행렬 생성; 값은 전부 0으로 채워진다\n",
    "\n",
    "for word, index in t.word_index.items(): # 훈련 데이터의 단어 집합에서 단어를 1개씩 꺼내온다.\n",
    "    if index > vocab_size - 1:\n",
    "        break\n",
    "    else:\n",
    "        embedding_vector = embedding_dict.get(word) # 단어(key)에 해당되는 임베딩 벡터의 100개의 값(value)를 임시 변수에 저장\n",
    "        if embedding_vector is not None: # 만약 임시 변수(임베딩 벡터) 값이 있다면\n",
    "            embedding_matrix[index] = embedding_vector # 임시 변수의 값을 단어와 맵핑되는 인덱스의 행에 삽입"
   ]
  },
  {
   "cell_type": "code",
   "execution_count": 13,
   "metadata": {},
   "outputs": [],
   "source": [
    "# 임베딩 1 -- Keras의 Embedding() 사용\n",
    "from tensorflow.keras.layers import Embedding\n",
    "\n",
    "embedding = Embedding(vocab_size, 50, weights=[embedding_matrix], input_length=max_length, trainable=False)\n",
    "    # input_dim = vocab_size; output_dim = 100; input_length는 최대 문장 길이;\n",
    "    # trainable false인 경우에는 pre-trained된 vector값이 변하지 않음 (사전 훈련된 워드 임베딩을 그대로 사용할 것이므로, 별도로 더 이상 훈련을 하지 않는다는 옵션)"
   ]
  },
  {
   "cell_type": "code",
   "execution_count": null,
   "metadata": {},
   "outputs": [],
   "source": [
    "# nvidia-smi\n",
    "# watch -n 0.1 nvidia-smi"
   ]
  },
  {
   "cell_type": "code",
   "execution_count": 19,
   "metadata": {},
   "outputs": [
    {
     "data": {
      "text/plain": [
       "(80952, 3048)"
      ]
     },
     "execution_count": 19,
     "metadata": {},
     "output_type": "execute_result"
    }
   ],
   "source": [
    "padded_docs.shape"
   ]
  },
  {
   "cell_type": "code",
   "execution_count": 20,
   "metadata": {},
   "outputs": [
    {
     "name": "stdout",
     "output_type": "stream",
     "text": [
      "Failed copying input tensor from /job:localhost/replica:0/task:0/device:CPU:0 to /job:localhost/replica:0/task:0/device:GPU:0 in order to run Identity: Dst tensor is not initialized. [Op:Identity]\n"
     ]
    }
   ],
   "source": [
    "try:\n",
    "    embedding_result = embedding(tf.constant(padded_docs))\n",
    "    print(embedding_result.shape)\n",
    "except Exception as ex:\n",
    "    print(ex)\n",
    "\n",
    "# 메모리 오류가 났다"
   ]
  },
  {
   "cell_type": "code",
   "execution_count": 14,
   "metadata": {},
   "outputs": [
    {
     "name": "stdout",
     "output_type": "stream",
     "text": [
      "(60486, 500, 50)\n"
     ]
    }
   ],
   "source": [
    "# 데이터 양을 대폭 줄인 것으로 다시 임베딩\n",
    "try:\n",
    "    embedding_result = embedding(tf.constant(padded_docs))\n",
    "    print(embedding_result.shape)\n",
    "except Exception as ex:\n",
    "    print(ex)\n",
    "    \n",
    "# 겨우 성공..."
   ]
  },
  {
   "cell_type": "code",
   "execution_count": null,
   "metadata": {},
   "outputs": [],
   "source": []
  },
  {
   "cell_type": "markdown",
   "metadata": {},
   "source": [
    "## CNN 사용\n",
    "- CNN은 보통 image에서 많이 사용된다고 알려져 있지만, 텍스트에서도 좋은 효과를 낼 수 있다는 것을 “Convolutional Neural Network for Sentence Classification” (Yoon Kim, NYU, 2014) 에서 입증\n",
    "- RNN이 단어의 입력 순서를 중요하게 반영한다면, CNN은 문장의 지역정보를 보존하면서 각 문장 성분(단어/표현)의 등장(순서) 정보를 학습에 반영하는 구조로 풀어간다; 학습할 때 각 필터 크기를 조절하면서 언어의 특징 값을 추출\n",
    "- RNN은 계산량이 너무 많음; 텍스트 분류나 시계열 예측 같은 간단한 문제에는 1D convnet이 RNN을 대신하여 더 적은 비용으로 빠르게 처리 가능; 전반적 순서가 의미가 없다면 1D convnet이 적어도 동일한 성능을 내면서 비용도 적음\n",
    "- 1D convnet과 RNN 결합 --> CNN읜 속도와 경량함을 RNN의 순서 감지 능력과 결합하여, CNN을 RNN 이전에 전처리 단계로 사용하고 수천 개의 step을 가지는 긴 시퀀스를 다룰 때 경제적이면서도 빠른 응답 속도를 가지게 할 수 있음"
   ]
  },
  {
   "cell_type": "code",
   "execution_count": null,
   "metadata": {},
   "outputs": [],
   "source": [
    "# 자연어 처리 분야에선 합성곱 연산의 경우 주로 케라스 모듈 중 Conv1D를 사용\n",
    "# MaxPooling1D 함께 활용\n",
    "# 합성곱의 방향 : 한 방향(가로); 출력값 : 1-D Array(Vector)\n",
    "# 일렬로 쭉 늘어졌기 때문에"
   ]
  },
  {
   "cell_type": "code",
   "execution_count": null,
   "metadata": {},
   "outputs": [],
   "source": [
    "# label/target을 아직 여기선 사용하지 않을 것이기에 훈련을 시킬 수 없다\n",
    "# 그렇기에 이런 식의 layer을 쌓아 model 생성 X\n",
    "model = Sequential()\n",
    "model.add(Conv1D(64, 5, activation='relu'))\n",
    "model.add(MaxPooling1D(pool_size=4))\n",
    "model.add(Dropout(0.2))\n",
    "model.add(LSTM(100))\n",
    "model.compile()\n",
    "model.fit()"
   ]
  },
  {
   "cell_type": "code",
   "execution_count": 1,
   "metadata": {},
   "outputs": [],
   "source": [
    "import pandas as pd\n",
    "import numpy as np\n",
    "import pickle"
   ]
  },
  {
   "cell_type": "code",
   "execution_count": 2,
   "metadata": {},
   "outputs": [],
   "source": [
    "import tensorflow as tf\n",
    "from tensorflow.keras.models import Sequential\n",
    "from tensorflow.keras.layers import Conv1D, SeparableConv1D, MaxPooling1D, GlobalMaxPooling1D, GlobalAveragePooling1D\n",
    "from tensorflow.keras.layers import Embedding, Dropout, Flatten, Dense\n",
    "from tensorflow.keras.layers import LSTM, GRU\n",
    "from tensorflow.keras.utils import to_categorical\n",
    "from sklearn.manifold import TSNE"
   ]
  },
  {
   "cell_type": "code",
   "execution_count": 3,
   "metadata": {},
   "outputs": [],
   "source": [
    "#config = tf.compat.v1.ConfigProto()\n",
    "#config.gpu_options.allow_growth = True\n",
    "#sess = tf.compat.v1.Session(config=config)"
   ]
  },
  {
   "cell_type": "code",
   "execution_count": null,
   "metadata": {},
   "outputs": [],
   "source": [
    "# Keras 딥러닝 layer에서 사용 가능한 기능들을 manually 적용"
   ]
  },
  {
   "cell_type": "markdown",
   "metadata": {},
   "source": [
    "### 다양한 모델 시도 및 실험"
   ]
  },
  {
   "cell_type": "code",
   "execution_count": 22,
   "metadata": {},
   "outputs": [
    {
     "name": "stdout",
     "output_type": "stream",
     "text": [
      "(10, 272, 64)\n",
      "(10, 67, 128)\n",
      "(10, 15, 256)\n",
      "(10, 3840)\n",
      "tf.Tensor(\n",
      "[[0.1820065  0.         0.         ... 0.         0.         0.        ]\n",
      " [0.         0.         0.         ... 0.         0.         0.        ]\n",
      " [0.31844628 0.         0.         ... 0.         0.         0.        ]\n",
      " ...\n",
      " [0.26216236 0.         0.         ... 0.         0.         0.        ]\n",
      " [0.34001914 0.         0.         ... 0.84466124 0.2953177  0.        ]\n",
      " [0.04820913 0.         0.04454558 ... 0.         0.         0.        ]], shape=(10, 3840), dtype=float32)\n"
     ]
    }
   ],
   "source": [
    "# CNN 적용 : Conv1D + MaxPooling1D\n",
    "\n",
    "# 1번째 layer\n",
    "first_conv_applied = Conv1D(64, 5, activation='relu')(test_embedding_result)\n",
    "    # filters=64: 필터 갯수, 출력의 차원수를 의미\n",
    "    # kernel_size=5: 필터의 크기; 리스트 혹은 튜플 형태로 지정; 합성곱이 적용되는 윈도우의 길이를 나타냄\n",
    "first_max_pool_applied = MaxPooling1D(pool_size=4)(first_conv_applied)\n",
    "first_drop_out_applied = Dropout(0.3)(first_max_pool_applied)\n",
    "print(first_drop_out_applied.shape)\n",
    "#print(first_drop_out_applied)\n",
    "\n",
    "# 2번째 layer\n",
    "second_conv_applied = Conv1D(128, 5, activation='relu')(first_drop_out_applied)\n",
    "second_max_pool_applied = MaxPooling1D(pool_size=4)(second_conv_applied)\n",
    "second_drop_out_applied = Dropout(0.3)(second_max_pool_applied)\n",
    "print(second_drop_out_applied.shape)\n",
    "#print(second_drop_out_applied)\n",
    "\n",
    "# 3번째 layer\n",
    "third_conv_applied = Conv1D(256, 5, activation='relu')(second_drop_out_applied)\n",
    "third_max_pool_applied = MaxPooling1D(pool_size=4)(third_conv_applied)\n",
    "third_drop_out_applied = Dropout(0.3)(third_max_pool_applied)\n",
    "print(third_drop_out_applied.shape)\n",
    "#print(third_drop_out_applied)\n",
    "\n",
    "# CNN은 전역풀링층(Global Average/Max Pooling) 또는 Flatten()으로 마무리\n",
    "# Flatten() 사용하여 1차원으로 펴주기\n",
    "text_data_flattened = Flatten()(third_drop_out_applied)\n",
    "print(text_data_flattened.shape)\n",
    "print(text_data_flattened)"
   ]
  },
  {
   "cell_type": "code",
   "execution_count": 23,
   "metadata": {},
   "outputs": [
    {
     "name": "stdout",
     "output_type": "stream",
     "text": [
      "(10, 272, 64)\n",
      "(10, 67, 128)\n",
      "(10, 15, 256)\n",
      "(10, 3840)\n",
      "tf.Tensor(\n",
      "[[1.5234390e-03 0.0000000e+00 0.0000000e+00 ... 0.0000000e+00\n",
      "  0.0000000e+00 0.0000000e+00]\n",
      " [7.8502035e-04 2.4610682e-04 0.0000000e+00 ... 0.0000000e+00\n",
      "  0.0000000e+00 0.0000000e+00]\n",
      " [1.7211036e-03 0.0000000e+00 0.0000000e+00 ... 0.0000000e+00\n",
      "  0.0000000e+00 0.0000000e+00]\n",
      " ...\n",
      " [1.4059035e-03 0.0000000e+00 0.0000000e+00 ... 0.0000000e+00\n",
      "  0.0000000e+00 0.0000000e+00]\n",
      " [1.1366272e-03 0.0000000e+00 0.0000000e+00 ... 1.0796952e-03\n",
      "  0.0000000e+00 5.7935624e-05]\n",
      " [9.0714160e-04 2.0068536e-04 0.0000000e+00 ... 0.0000000e+00\n",
      "  0.0000000e+00 0.0000000e+00]], shape=(10, 3840), dtype=float32)\n"
     ]
    }
   ],
   "source": [
    "# SeparableConv1D 사용\n",
    "# 일반적인 합성곱이 동일하지만 더 빠르고 가볍고 효율적으로 표현을 학습하는 깊이별 분할 합성곱(depthwise separable convolution)\n",
    "# 입력 채널별로 따로따로 공간 방향의 합성곱을 수행\n",
    "\n",
    "from tensorflow.keras.layers import SeparableConv1D, MaxPooling1D, Dropout, Flatten\n",
    "\n",
    "# 1번째 layer\n",
    "first_conv_applied = SeparableConv1D(64, 5, activation='relu')(test_embedding_result)\n",
    "first_max_pool_applied = MaxPooling1D(pool_size=4)(first_conv_applied)\n",
    "first_drop_out_applied = Dropout(0.3)(first_max_pool_applied)\n",
    "print(first_drop_out_applied.shape)\n",
    "\n",
    "# 2번째 layer\n",
    "second_conv_applied = SeparableConv1D(128, 5, activation='relu')(first_drop_out_applied)\n",
    "second_max_pool_applied = MaxPooling1D(pool_size=4)(second_conv_applied)\n",
    "second_drop_out_applied = Dropout(0.3)(second_max_pool_applied)\n",
    "print(second_drop_out_applied.shape)\n",
    "\n",
    "# 3번째 layer\n",
    "third_conv_applied = SeparableConv1D(256, 5, activation='relu')(second_drop_out_applied)\n",
    "third_max_pool_applied = MaxPooling1D(pool_size=4)(third_conv_applied)\n",
    "third_drop_out_applied = Dropout(0.3)(third_max_pool_applied)\n",
    "print(third_drop_out_applied.shape)\n",
    "\n",
    "# 전역풀링층(Global Average/Max Pooling) 또는 Flatten()으로 마무리\n",
    "# Flatten() 사용하여 1차원으로 펴주기\n",
    "text_data_flattened = Flatten()(third_drop_out_applied)\n",
    "print(text_data_flattened.shape)\n",
    "print(text_data_flattened)"
   ]
  },
  {
   "cell_type": "code",
   "execution_count": 20,
   "metadata": {},
   "outputs": [
    {
     "name": "stdout",
     "output_type": "stream",
     "text": [
      "(10, 272, 64)\n",
      "(10, 67, 128)\n",
      "(10, 256)\n",
      "(10, 256)\n"
     ]
    }
   ],
   "source": [
    "# Global Average/Max Pooling (전역 풀링) 사용\n",
    "\n",
    "# 1번째 layer\n",
    "first_conv_applied = SeparableConv1D(64, 5, activation='relu')(test_embedding_result)\n",
    "first_max_pool_applied = MaxPooling1D(pool_size=4)(first_conv_applied)\n",
    "first_drop_out_applied = Dropout(0.3)(first_max_pool_applied)\n",
    "print(first_drop_out_applied.shape)\n",
    "\n",
    "# 2번째 layer\n",
    "second_conv_applied = SeparableConv1D(128, 5, activation='relu')(first_drop_out_applied)\n",
    "second_max_pool_applied = MaxPooling1D(pool_size=4)(second_conv_applied)\n",
    "second_drop_out_applied = Dropout(0.3)(second_max_pool_applied)\n",
    "print(second_drop_out_applied.shape)\n",
    "\n",
    "# 3번째 layer\n",
    "third_conv_applied = SeparableConv1D(256, 5, activation='relu')(second_drop_out_applied)\n",
    "\n",
    "# GlobalMaxPooling1D()\n",
    "glob_max_pool_applied = GlobalMaxPooling1D()(third_conv_applied)\n",
    "print(glob_max_pool_applied.shape)\n",
    "# GlobalAveragePooling1D()\n",
    "glob_avg_pool_applied = GlobalAveragePooling1D()(third_conv_applied)\n",
    "print(glob_avg_pool_applied.shape)"
   ]
  },
  {
   "cell_type": "code",
   "execution_count": 148,
   "metadata": {},
   "outputs": [
    {
     "name": "stdout",
     "output_type": "stream",
     "text": [
      "(10, 272, 64)\n",
      "(10, 67, 128)\n",
      "(10, 15, 256)\n",
      "(10, 256)\n",
      "tf.Tensor(\n",
      "[[-8.0843289e-05 -3.6791270e-04 -6.4249733e-05 ... -9.0546535e-05\n",
      "   1.9519238e-04  2.2823896e-04]\n",
      " [-1.8632451e-06 -1.3478514e-05 -2.8256502e-06 ... -6.8535737e-06\n",
      "   4.0166401e-06  1.3835316e-05]\n",
      " [-1.2373234e-05 -5.5111785e-05 -1.9395839e-05 ... -1.8369885e-05\n",
      "   2.8549550e-05  3.7947448e-05]\n",
      " ...\n",
      " [-1.1913069e-05 -7.4201555e-05 -2.3536721e-05 ... -1.8782310e-05\n",
      "   3.7651029e-05  4.0657756e-05]\n",
      " [-4.2961264e-04 -1.0359280e-03 -5.8856835e-06 ... -2.3490742e-04\n",
      "   1.0445771e-03  7.7025243e-04]\n",
      " [-4.2689721e-06 -1.0308417e-05 -4.8424795e-06 ... -4.3052778e-06\n",
      "   3.2704640e-06  1.0627952e-05]], shape=(10, 256), dtype=float32)\n",
      "(10, 256)\n",
      "tf.Tensor(\n",
      "[[ 3.13869641e-05 -7.74973068e-06 -4.09812455e-05 ... -3.52541292e-07\n",
      "   2.04782937e-05  2.06051282e-05]\n",
      " [-1.24546249e-08  1.48813740e-07 -8.24400530e-08 ...  1.30438735e-07\n",
      "   8.62759748e-08  1.92516580e-07]\n",
      " [ 4.46658362e-07  6.88172804e-07 -9.00181988e-07 ...  1.46629404e-07\n",
      "   1.17761749e-06  6.79096615e-07]\n",
      " ...\n",
      " [ 9.67839014e-07  5.48755622e-07 -1.38348855e-06 ...  7.59092487e-08\n",
      "   1.13404587e-06  1.16904857e-06]\n",
      " [-5.14777435e-04 -8.72660195e-04 -7.39187119e-04 ...  5.26100979e-04\n",
      "   4.27892955e-04  1.21686244e-04]\n",
      " [ 3.25174199e-08  1.63533528e-07  5.08897990e-09 ...  1.21701589e-07\n",
      "   2.22413775e-07  1.99634272e-07]], shape=(10, 256), dtype=float32)\n"
     ]
    }
   ],
   "source": [
    "# CNN + Recurrent Neural Network(RNN) 사용\n",
    "\n",
    "# 1번째 layer\n",
    "first_conv_applied = SeparableConv1D(64, 5, activation='relu')(test_embedding_result)\n",
    "first_max_pool_applied = MaxPooling1D(pool_size=4)(first_conv_applied)\n",
    "first_drop_out_applied = Dropout(0.3)(first_max_pool_applied)\n",
    "print(first_drop_out_applied.shape)\n",
    "\n",
    "# 2번째 layer\n",
    "second_conv_applied = SeparableConv1D(128, 5, activation='relu')(first_drop_out_applied)\n",
    "second_max_pool_applied = MaxPooling1D(pool_size=4)(second_conv_applied)\n",
    "second_drop_out_applied = Dropout(0.3)(second_max_pool_applied)\n",
    "print(second_drop_out_applied.shape)\n",
    "\n",
    "# 3번째 layer\n",
    "third_conv_applied = SeparableConv1D(256, 5, activation='relu')(second_drop_out_applied)\n",
    "third_max_pool_applied = MaxPooling1D(pool_size=4)(third_conv_applied)\n",
    "third_drop_out_applied = Dropout(0.3)(third_max_pool_applied)\n",
    "print(third_drop_out_applied.shape)\n",
    "\n",
    "# Recurrent Neural Network(RNN)\n",
    "# Long Short Term Memory(LSTM) 사용\n",
    "lstm_applied = LSTM(256)(third_drop_out_applied)\n",
    "print(lstm_applied.shape)\n",
    "print(lstm_applied)\n",
    "# Gated Recurrent Unit(Gated Recurrent Unit) 사용\n",
    "gru_applied = GRU(256)(third_drop_out_applied)\n",
    "print(gru_applied.shape)\n",
    "print(gru_applied)"
   ]
  },
  {
   "cell_type": "markdown",
   "metadata": {},
   "source": [
    "### 본격적으로 데이터셋을 모델에 적용\n",
    "- 그나마 가벼울 것 같은 SeparableConv1D 사용"
   ]
  },
  {
   "cell_type": "code",
   "execution_count": 15,
   "metadata": {},
   "outputs": [
    {
     "ename": "ResourceExhaustedError",
     "evalue": "OOM when allocating tensor with shape[60486,1,498,32] and type float on /job:localhost/replica:0/task:0/device:GPU:0 by allocator GPU_0_bfc [Op:Conv2D] name: separable_conv1d/separable_conv2d/",
     "output_type": "error",
     "traceback": [
      "\u001b[0;31m---------------------------------------------------------------------------\u001b[0m",
      "\u001b[0;31mResourceExhaustedError\u001b[0m                    Traceback (most recent call last)",
      "\u001b[0;32m<ipython-input-15-4b572eae6b1f>\u001b[0m in \u001b[0;36m<module>\u001b[0;34m\u001b[0m\n\u001b[1;32m      1\u001b[0m \u001b[0;31m# [실제 적용] 불러온 임베딩 벡터 데이터 적용\u001b[0m\u001b[0;34m\u001b[0m\u001b[0;34m\u001b[0m\u001b[0;34m\u001b[0m\u001b[0m\n\u001b[1;32m      2\u001b[0m \u001b[0;31m# 1번째 layer\u001b[0m\u001b[0;34m\u001b[0m\u001b[0;34m\u001b[0m\u001b[0;34m\u001b[0m\u001b[0m\n\u001b[0;32m----> 3\u001b[0;31m \u001b[0mfirst_conv_applied\u001b[0m \u001b[0;34m=\u001b[0m \u001b[0mSeparableConv1D\u001b[0m\u001b[0;34m(\u001b[0m\u001b[0;36m32\u001b[0m\u001b[0;34m,\u001b[0m \u001b[0;36m3\u001b[0m\u001b[0;34m,\u001b[0m \u001b[0mactivation\u001b[0m\u001b[0;34m=\u001b[0m\u001b[0;34m'relu'\u001b[0m\u001b[0;34m)\u001b[0m\u001b[0;34m(\u001b[0m\u001b[0membedding_result\u001b[0m\u001b[0;34m)\u001b[0m\u001b[0;34m\u001b[0m\u001b[0;34m\u001b[0m\u001b[0m\n\u001b[0m\u001b[1;32m      4\u001b[0m \u001b[0mfirst_max_pool_applied\u001b[0m \u001b[0;34m=\u001b[0m \u001b[0mMaxPooling1D\u001b[0m\u001b[0;34m(\u001b[0m\u001b[0mpool_size\u001b[0m\u001b[0;34m=\u001b[0m\u001b[0;36m2\u001b[0m\u001b[0;34m)\u001b[0m\u001b[0;34m(\u001b[0m\u001b[0mfirst_conv_applied\u001b[0m\u001b[0;34m)\u001b[0m\u001b[0;34m\u001b[0m\u001b[0;34m\u001b[0m\u001b[0m\n\u001b[1;32m      5\u001b[0m \u001b[0mfirst_drop_out_applied\u001b[0m \u001b[0;34m=\u001b[0m \u001b[0mDropout\u001b[0m\u001b[0;34m(\u001b[0m\u001b[0;36m0.3\u001b[0m\u001b[0;34m)\u001b[0m\u001b[0;34m(\u001b[0m\u001b[0mfirst_max_pool_applied\u001b[0m\u001b[0;34m)\u001b[0m\u001b[0;34m\u001b[0m\u001b[0;34m\u001b[0m\u001b[0m\n",
      "\u001b[0;32m~/anaconda3/envs/tensorflow/lib/python3.7/site-packages/tensorflow_core/python/keras/engine/base_layer.py\u001b[0m in \u001b[0;36m__call__\u001b[0;34m(self, inputs, *args, **kwargs)\u001b[0m\n\u001b[1;32m    820\u001b[0m           with base_layer_utils.autocast_context_manager(\n\u001b[1;32m    821\u001b[0m               self._compute_dtype):\n\u001b[0;32m--> 822\u001b[0;31m             \u001b[0moutputs\u001b[0m \u001b[0;34m=\u001b[0m \u001b[0mself\u001b[0m\u001b[0;34m.\u001b[0m\u001b[0mcall\u001b[0m\u001b[0;34m(\u001b[0m\u001b[0mcast_inputs\u001b[0m\u001b[0;34m,\u001b[0m \u001b[0;34m*\u001b[0m\u001b[0margs\u001b[0m\u001b[0;34m,\u001b[0m \u001b[0;34m**\u001b[0m\u001b[0mkwargs\u001b[0m\u001b[0;34m)\u001b[0m\u001b[0;34m\u001b[0m\u001b[0;34m\u001b[0m\u001b[0m\n\u001b[0m\u001b[1;32m    823\u001b[0m           \u001b[0mself\u001b[0m\u001b[0;34m.\u001b[0m\u001b[0m_handle_activity_regularization\u001b[0m\u001b[0;34m(\u001b[0m\u001b[0minputs\u001b[0m\u001b[0;34m,\u001b[0m \u001b[0moutputs\u001b[0m\u001b[0;34m)\u001b[0m\u001b[0;34m\u001b[0m\u001b[0;34m\u001b[0m\u001b[0m\n\u001b[1;32m    824\u001b[0m           \u001b[0mself\u001b[0m\u001b[0;34m.\u001b[0m\u001b[0m_set_mask_metadata\u001b[0m\u001b[0;34m(\u001b[0m\u001b[0minputs\u001b[0m\u001b[0;34m,\u001b[0m \u001b[0moutputs\u001b[0m\u001b[0;34m,\u001b[0m \u001b[0minput_masks\u001b[0m\u001b[0;34m)\u001b[0m\u001b[0;34m\u001b[0m\u001b[0;34m\u001b[0m\u001b[0m\n",
      "\u001b[0;32m~/anaconda3/envs/tensorflow/lib/python3.7/site-packages/tensorflow_core/python/keras/layers/convolutional.py\u001b[0m in \u001b[0;36mcall\u001b[0;34m(self, inputs)\u001b[0m\n\u001b[1;32m   1536\u001b[0m         \u001b[0mpadding\u001b[0m\u001b[0;34m=\u001b[0m\u001b[0mop_padding\u001b[0m\u001b[0;34m.\u001b[0m\u001b[0mupper\u001b[0m\u001b[0;34m(\u001b[0m\u001b[0;34m)\u001b[0m\u001b[0;34m,\u001b[0m\u001b[0;34m\u001b[0m\u001b[0;34m\u001b[0m\u001b[0m\n\u001b[1;32m   1537\u001b[0m         \u001b[0mrate\u001b[0m\u001b[0;34m=\u001b[0m\u001b[0mdilation_rate\u001b[0m\u001b[0;34m,\u001b[0m\u001b[0;34m\u001b[0m\u001b[0;34m\u001b[0m\u001b[0m\n\u001b[0;32m-> 1538\u001b[0;31m         data_format=conv_utils.convert_data_format(self.data_format, ndim=4))\n\u001b[0m\u001b[1;32m   1539\u001b[0m \u001b[0;34m\u001b[0m\u001b[0m\n\u001b[1;32m   1540\u001b[0m     \u001b[0;32mif\u001b[0m \u001b[0mself\u001b[0m\u001b[0;34m.\u001b[0m\u001b[0muse_bias\u001b[0m\u001b[0;34m:\u001b[0m\u001b[0;34m\u001b[0m\u001b[0;34m\u001b[0m\u001b[0m\n",
      "\u001b[0;32m~/anaconda3/envs/tensorflow/lib/python3.7/site-packages/tensorflow_core/python/ops/nn_impl.py\u001b[0m in \u001b[0;36mseparable_conv2d\u001b[0;34m(input, depthwise_filter, pointwise_filter, strides, padding, rate, name, data_format, dilations)\u001b[0m\n\u001b[1;32m    978\u001b[0m         \u001b[0mpadding\u001b[0m\u001b[0;34m=\u001b[0m\u001b[0;34m\"VALID\"\u001b[0m\u001b[0;34m,\u001b[0m\u001b[0;34m\u001b[0m\u001b[0;34m\u001b[0m\u001b[0m\n\u001b[1;32m    979\u001b[0m         \u001b[0mdata_format\u001b[0m\u001b[0;34m=\u001b[0m\u001b[0mdata_format\u001b[0m\u001b[0;34m,\u001b[0m\u001b[0;34m\u001b[0m\u001b[0;34m\u001b[0m\u001b[0m\n\u001b[0;32m--> 980\u001b[0;31m         name=name)\n\u001b[0m\u001b[1;32m    981\u001b[0m \u001b[0;34m\u001b[0m\u001b[0m\n\u001b[1;32m    982\u001b[0m \u001b[0;34m\u001b[0m\u001b[0m\n",
      "\u001b[0;32m~/anaconda3/envs/tensorflow/lib/python3.7/site-packages/tensorflow_core/python/ops/nn_ops.py\u001b[0m in \u001b[0;36mconv2d\u001b[0;34m(input, filter, strides, padding, use_cudnn_on_gpu, data_format, dilations, name, filters)\u001b[0m\n\u001b[1;32m   2009\u001b[0m                            \u001b[0mdata_format\u001b[0m\u001b[0;34m=\u001b[0m\u001b[0mdata_format\u001b[0m\u001b[0;34m,\u001b[0m\u001b[0;34m\u001b[0m\u001b[0;34m\u001b[0m\u001b[0m\n\u001b[1;32m   2010\u001b[0m                            \u001b[0mdilations\u001b[0m\u001b[0;34m=\u001b[0m\u001b[0mdilations\u001b[0m\u001b[0;34m,\u001b[0m\u001b[0;34m\u001b[0m\u001b[0;34m\u001b[0m\u001b[0m\n\u001b[0;32m-> 2011\u001b[0;31m                            name=name)\n\u001b[0m\u001b[1;32m   2012\u001b[0m \u001b[0;34m\u001b[0m\u001b[0m\n\u001b[1;32m   2013\u001b[0m \u001b[0;34m\u001b[0m\u001b[0m\n",
      "\u001b[0;32m~/anaconda3/envs/tensorflow/lib/python3.7/site-packages/tensorflow_core/python/ops/gen_nn_ops.py\u001b[0m in \u001b[0;36mconv2d\u001b[0;34m(input, filter, strides, padding, use_cudnn_on_gpu, explicit_paddings, data_format, dilations, name)\u001b[0m\n\u001b[1;32m    935\u001b[0m         \u001b[0;32mpass\u001b[0m  \u001b[0;31m# Add nodes to the TensorFlow graph.\u001b[0m\u001b[0;34m\u001b[0m\u001b[0;34m\u001b[0m\u001b[0m\n\u001b[1;32m    936\u001b[0m     \u001b[0;32mexcept\u001b[0m \u001b[0m_core\u001b[0m\u001b[0;34m.\u001b[0m\u001b[0m_NotOkStatusException\u001b[0m \u001b[0;32mas\u001b[0m \u001b[0me\u001b[0m\u001b[0;34m:\u001b[0m\u001b[0;34m\u001b[0m\u001b[0;34m\u001b[0m\u001b[0m\n\u001b[0;32m--> 937\u001b[0;31m       \u001b[0m_ops\u001b[0m\u001b[0;34m.\u001b[0m\u001b[0mraise_from_not_ok_status\u001b[0m\u001b[0;34m(\u001b[0m\u001b[0me\u001b[0m\u001b[0;34m,\u001b[0m \u001b[0mname\u001b[0m\u001b[0;34m)\u001b[0m\u001b[0;34m\u001b[0m\u001b[0;34m\u001b[0m\u001b[0m\n\u001b[0m\u001b[1;32m    938\u001b[0m   \u001b[0;31m# Add nodes to the TensorFlow graph.\u001b[0m\u001b[0;34m\u001b[0m\u001b[0;34m\u001b[0m\u001b[0;34m\u001b[0m\u001b[0m\n\u001b[1;32m    939\u001b[0m   \u001b[0;32mif\u001b[0m \u001b[0;32mnot\u001b[0m \u001b[0misinstance\u001b[0m\u001b[0;34m(\u001b[0m\u001b[0mstrides\u001b[0m\u001b[0;34m,\u001b[0m \u001b[0;34m(\u001b[0m\u001b[0mlist\u001b[0m\u001b[0;34m,\u001b[0m \u001b[0mtuple\u001b[0m\u001b[0;34m)\u001b[0m\u001b[0;34m)\u001b[0m\u001b[0;34m:\u001b[0m\u001b[0;34m\u001b[0m\u001b[0;34m\u001b[0m\u001b[0m\n",
      "\u001b[0;32m~/anaconda3/envs/tensorflow/lib/python3.7/site-packages/tensorflow_core/python/framework/ops.py\u001b[0m in \u001b[0;36mraise_from_not_ok_status\u001b[0;34m(e, name)\u001b[0m\n\u001b[1;32m   6604\u001b[0m   \u001b[0mmessage\u001b[0m \u001b[0;34m=\u001b[0m \u001b[0me\u001b[0m\u001b[0;34m.\u001b[0m\u001b[0mmessage\u001b[0m \u001b[0;34m+\u001b[0m \u001b[0;34m(\u001b[0m\u001b[0;34m\" name: \"\u001b[0m \u001b[0;34m+\u001b[0m \u001b[0mname\u001b[0m \u001b[0;32mif\u001b[0m \u001b[0mname\u001b[0m \u001b[0;32mis\u001b[0m \u001b[0;32mnot\u001b[0m \u001b[0;32mNone\u001b[0m \u001b[0;32melse\u001b[0m \u001b[0;34m\"\"\u001b[0m\u001b[0;34m)\u001b[0m\u001b[0;34m\u001b[0m\u001b[0;34m\u001b[0m\u001b[0m\n\u001b[1;32m   6605\u001b[0m   \u001b[0;31m# pylint: disable=protected-access\u001b[0m\u001b[0;34m\u001b[0m\u001b[0;34m\u001b[0m\u001b[0;34m\u001b[0m\u001b[0m\n\u001b[0;32m-> 6606\u001b[0;31m   \u001b[0msix\u001b[0m\u001b[0;34m.\u001b[0m\u001b[0mraise_from\u001b[0m\u001b[0;34m(\u001b[0m\u001b[0mcore\u001b[0m\u001b[0;34m.\u001b[0m\u001b[0m_status_to_exception\u001b[0m\u001b[0;34m(\u001b[0m\u001b[0me\u001b[0m\u001b[0;34m.\u001b[0m\u001b[0mcode\u001b[0m\u001b[0;34m,\u001b[0m \u001b[0mmessage\u001b[0m\u001b[0;34m)\u001b[0m\u001b[0;34m,\u001b[0m \u001b[0;32mNone\u001b[0m\u001b[0;34m)\u001b[0m\u001b[0;34m\u001b[0m\u001b[0;34m\u001b[0m\u001b[0m\n\u001b[0m\u001b[1;32m   6607\u001b[0m   \u001b[0;31m# pylint: enable=protected-access\u001b[0m\u001b[0;34m\u001b[0m\u001b[0;34m\u001b[0m\u001b[0;34m\u001b[0m\u001b[0m\n\u001b[1;32m   6608\u001b[0m \u001b[0;34m\u001b[0m\u001b[0m\n",
      "\u001b[0;32m~/anaconda3/envs/tensorflow/lib/python3.7/site-packages/six.py\u001b[0m in \u001b[0;36mraise_from\u001b[0;34m(value, from_value)\u001b[0m\n",
      "\u001b[0;31mResourceExhaustedError\u001b[0m: OOM when allocating tensor with shape[60486,1,498,32] and type float on /job:localhost/replica:0/task:0/device:GPU:0 by allocator GPU_0_bfc [Op:Conv2D] name: separable_conv1d/separable_conv2d/"
     ]
    }
   ],
   "source": [
    "# [실제 적용] 불러온 임베딩 벡터 데이터 적용\n",
    "# 1번째 layer\n",
    "first_conv_applied = SeparableConv1D(32, 3, activation='relu')(embedding_result)\n",
    "first_max_pool_applied = MaxPooling1D(pool_size=2)(first_conv_applied)\n",
    "first_drop_out_applied = Dropout(0.3)(first_max_pool_applied)\n",
    "print(first_drop_out_applied.shape)\n",
    "\n",
    "# 2번째 layer\n",
    "second_conv_applied = SeparableConv1D(32, 3, activation='relu')(first_drop_out_applied)\n",
    "second_max_pool_applied = MaxPooling1D(pool_size=2)(second_conv_applied)\n",
    "second_drop_out_applied = Dropout(0.3)(second_max_pool_applied)\n",
    "print(second_drop_out_applied.shape)\n",
    "\n",
    "# 3번째 layer\n",
    "third_conv_applied = SeparableConv1D(32, 3, activation='relu')(second_drop_out_applied)\n",
    "\n",
    "# GlobalMaxPooling1D()\n",
    "#glob_max_pool_applied = GlobalMaxPooling1D()(third_conv_applied)\n",
    "#print(glob_max_pool_applied.shape)\n",
    "\n",
    "# GlobalAveragePooling1D()\n",
    "glob_avg_pool_applied = GlobalAveragePooling1D()(third_conv_applied)\n",
    "print(glob_avg_pool_applied.shape)"
   ]
  },
  {
   "cell_type": "code",
   "execution_count": null,
   "metadata": {},
   "outputs": [],
   "source": [
    "# 계속 실패...\n",
    "# 메모리 오류를 해결해야 합니다. 데이터 양이 너무 많은게 문제입니다. 데이터 크기가 너무 커요."
   ]
  },
  {
   "cell_type": "code",
   "execution_count": null,
   "metadata": {},
   "outputs": [],
   "source": [
    "# 여기까지도 사실 데이터양을 엄청나게 줄이고 줄인 것이지만, 결국 계속 메모리 오류 발생"
   ]
  },
  {
   "cell_type": "code",
   "execution_count": null,
   "metadata": {},
   "outputs": [],
   "source": [
    "# 이 이전에도 수많은 메모리 오류를 겪고 해결하고나면, 또 다른 메모리 문제들을 마주하네요. 도저히 어떻게 해결을 못 하겠습니다."
   ]
  },
  {
   "cell_type": "code",
   "execution_count": null,
   "metadata": {},
   "outputs": [],
   "source": [
    "# 데이터 양을 대폭 줄이면 가능은 합니다.\n",
    "# 진짜 많은 것을 포기하고 데이터 양을 대폭 줄이는 것이 답일 것 같은데, 그것은 여러분께 맡길게요.\n",
    "# 왜냐하면 이미지 처리한 데이터와 메타 데이터 처리한 데이터와 합쳐야 하는데, 결국 여기 텍스트 처리에서 많은 데이터를 줄이게 되면 다른 데이터들도 같이 줄여야 하니까요."
   ]
  },
  {
   "cell_type": "code",
   "execution_count": null,
   "metadata": {},
   "outputs": [],
   "source": []
  }
 ],
 "metadata": {
  "kernelspec": {
   "display_name": "Python 3",
   "language": "python",
   "name": "python3"
  },
  "language_info": {
   "codemirror_mode": {
    "name": "ipython",
    "version": 3
   },
   "file_extension": ".py",
   "mimetype": "text/x-python",
   "name": "python",
   "nbconvert_exporter": "python",
   "pygments_lexer": "ipython3",
   "version": "3.8.10"
  }
 },
 "nbformat": 4,
 "nbformat_minor": 4
}
