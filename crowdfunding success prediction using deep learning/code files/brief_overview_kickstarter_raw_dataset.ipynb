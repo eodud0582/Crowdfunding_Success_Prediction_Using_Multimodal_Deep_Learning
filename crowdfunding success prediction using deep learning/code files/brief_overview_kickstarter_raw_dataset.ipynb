{
 "cells": [
  {
   "cell_type": "markdown",
   "metadata": {},
   "source": [
    "# **딥러닝을 이용한 크라우드펀딩 성공 예측**\n",
    "## 문제\n",
    "- NGO, NPO, CBO, CSO, 사회적 기업, 소셜 벤처 등 운영 또는 프로그램/사업 수행 자금 및 재정 문제\n",
    "- 특히 비영리적 성격이 강하거나 완전한 비영리인 경우 이러한 문제는 고질적\n",
    "- 하지만 정부 지원, 재단 후원, 기업의 투자, 협력 사업 등을 통한 자금 지원을 얻는 것엔 한계나 어려움이 항상 있음\n",
    "\n",
    "## 해결\n",
    "- **크라우드펀딩**을 통한 모금\n",
    "- 크라우드펀딩 성공을 미리 예측하는 것이 펀딩 성공에 큰 도움이 될 것으로 판단\n",
    "\n",
    "## 설명\n",
    "- 세계 최대 크라우드펀딩 플랫폼 **Kistarter** 데이터 수집\n",
    "    - 17만개 이상의 성공적인 펀드레이징, 1,700만명 이상의 후원자, 4조 8천억원의 총 모금액\n",
    "    - 방대한 양의 데이터를 통해 다양한 인사이트를 얻을 수 있을 것으로 판단\n",
    "- **펀딩 런칭 전(pre-launch)** 관련 요인/특성 데이터만 사용\n",
    "    - 지금까지의 크라우드펀딩 예측 관련 연구나 논문들은 펀딩 런칭 후(post-launch)에 발생하는 요인, 결과 또는 역학(dynamics)을 분석한 펀딩 결과 예측이 대부분 (ex: 댓글, 답글, 소셜미디어/온라인 상의 전파, 파급력, 공유 횟수, 후원자 수 등)\n",
    "    - 하지만 이러한 펀딩 런칭 후 발생하는 요인과 결과는 모금을 하는 대상이 그 결과를 만들어내거나 제어 할 수 없는 또는 한계가 큰 요인인 것이 대부분이며, 이러한 런칭 후 발생하는 요인을 이용한 결과 예측은 런칭 후 일정 시간이 지난 뒤에야 펀딩 결과를 예측을 할 수 있거나 시기적절하게 결과를 예측 할 수 없고 펀딩을 수정하거나 개선하는 것에도 어려움과 한계가 있음\n",
    "    - 하지만 펀딩 런칭 전(pre-launch)과 관련된 요인들은 직접 설정과 제어를 할 수 있으며, 그리고 펀딩 런칭 전에 펀딩 성공/성공율을 미리 예측 할 수 있다면 무엇이 문제일지 고민하고 파악할 수 있고 성공율을 더 높이는 방향으로 펀딩 프로젝트를 수정/개선해 갈 수 있고, 이렇게 사전에 미리 잘 준비하고 퀄리티 있는 프로젝트를 만들 수 있다면 펀딩 성공율은 크게 증가할 것\n",
    "    - 한 마디로, 펀딩을 런칭하기 전에 미리 펑딩에 성공 할 수 있는 펀딩 프로젝트를 만드는 것\n",
    "- 탐색적 분석 및 **딥러닝**을 활용한 펀딩 성공 예측 모델링\n",
    "\n",
    "## 기대 효과\n",
    "- 성공 할 수 있는 또는 가능성이 큰 크라우드펀딩 프로젝트를 만들 수 있다면:\n",
    "    1. 대중에게 기업/기관 또는 개인의 일과 분야에 대해 알릴 수 있고 대중의 관심을 이끌어내거나 대중의 인식을 높일 수 있으며\n",
    "    2. 모금을 통해 필요한 자원/자금 또한 얻을 수 있음"
   ]
  },
  {
   "cell_type": "markdown",
   "metadata": {},
   "source": [
    "# 데이터셋\n",
    "- 기본 프로필 데이터/메타 데이터\n",
    "    - 목표 모금액, 모금기간 등 펀딩에 대한 다양한 설정\n",
    "- 이미지 데이터\n",
    "    - 펀딩 프로젝트에 사용된 메인 사진\n",
    "    - 웹사이트 메뉴나 펀딩 페이지 상에서 가장 먼저 눈에 보임\n",
    "- 텍스트(text) 데이터\n",
    "    - 펀딩 제목, 부제목(펀딩에 대한 간략한 설명글), 본문"
   ]
  },
  {
   "cell_type": "markdown",
   "metadata": {},
   "source": [
    "# 분석 방향\n",
    "- 탐색적 분석 및 복합적/다각적 딥러닝 모델 구현\n",
    "- 메타 데이터, 이미지 데이터, 텍스트 데이터를 전처리 및 가공한 결과를 결합하여 딥러닝 모델에 적용"
   ]
  },
  {
   "cell_type": "markdown",
   "metadata": {},
   "source": [
    "## 1. 전체 메타 데이터셋(프로필 데이터) 읽기"
   ]
  },
  {
   "cell_type": "code",
   "execution_count": 3,
   "metadata": {
    "colab": {},
    "colab_type": "code",
    "id": "4L-pw8HSAG-F"
   },
   "outputs": [],
   "source": [
    "import pandas as pd\n",
    "import numpy as np\n",
    "import matplotlib.pyplot as plt\n",
    "import seaborn as sns\n",
    "from datetime import datetime, timedelta\n",
    "import os\n",
    "import json\n",
    "import time\n",
    "import random\n",
    "np.random.seed(1)"
   ]
  },
  {
   "cell_type": "code",
   "execution_count": 5,
   "metadata": {
    "colab": {},
    "colab_type": "code",
    "id": "dN-A49WpAG-L"
   },
   "outputs": [],
   "source": [
    "# 40여개 csv파일로 나뉘어져 있는 데이터셋\n",
    "# 모든 데이터셋 파일 하나로 합쳐서 가져오기\n",
    "import os\n",
    "import glob\n",
    "\n",
    "path = r'/Users/DaeyoungKim/Python/Final_Project/Kickstarter_2019-12-12'\n",
    "all_files = glob.glob(os.path.join(path, \"*.csv\")) #glob.iglob --> returns iterator, instead of a list\n",
    "\n",
    "df_from_each_file = (pd.read_csv(f) for f in all_files)\n",
    "concatenated_df = pd.concat(df_from_each_file, ignore_index=True)\n",
    "\n",
    "#df = pd.concat(map(pd.read_csv, glob.glob(os.path.join('', \"my_files*.csv\"))))"
   ]
  },
  {
   "cell_type": "code",
   "execution_count": 73,
   "metadata": {
    "colab": {},
    "colab_type": "code",
    "id": "xQgcrcJMAG-U",
    "outputId": "3d81c5dc-e47d-4c64-b0ef-0210310eeb54"
   },
   "outputs": [
    {
     "data": {
      "text/html": [
       "<div>\n",
       "<style scoped>\n",
       "    .dataframe tbody tr th:only-of-type {\n",
       "        vertical-align: middle;\n",
       "    }\n",
       "\n",
       "    .dataframe tbody tr th {\n",
       "        vertical-align: top;\n",
       "    }\n",
       "\n",
       "    .dataframe thead th {\n",
       "        text-align: right;\n",
       "    }\n",
       "</style>\n",
       "<table border=\"1\" class=\"dataframe\">\n",
       "  <thead>\n",
       "    <tr style=\"text-align: right;\">\n",
       "      <th></th>\n",
       "      <th>backers_count</th>\n",
       "      <th>blurb</th>\n",
       "      <th>category</th>\n",
       "      <th>converted_pledged_amount</th>\n",
       "      <th>country</th>\n",
       "      <th>country_displayable_name</th>\n",
       "      <th>created_at</th>\n",
       "      <th>creator</th>\n",
       "      <th>currency</th>\n",
       "      <th>currency_symbol</th>\n",
       "      <th>...</th>\n",
       "      <th>slug</th>\n",
       "      <th>source_url</th>\n",
       "      <th>spotlight</th>\n",
       "      <th>staff_pick</th>\n",
       "      <th>state</th>\n",
       "      <th>state_changed_at</th>\n",
       "      <th>static_usd_rate</th>\n",
       "      <th>urls</th>\n",
       "      <th>usd_pledged</th>\n",
       "      <th>usd_type</th>\n",
       "    </tr>\n",
       "  </thead>\n",
       "  <tbody>\n",
       "    <tr>\n",
       "      <th>0</th>\n",
       "      <td>31</td>\n",
       "      <td>Un livre enfant pour l’apprentissage des émoti...</td>\n",
       "      <td>{\"id\":46,\"name\":\"Children's Books\",\"slug\":\"pub...</td>\n",
       "      <td>709</td>\n",
       "      <td>FR</td>\n",
       "      <td>France</td>\n",
       "      <td>1561554849</td>\n",
       "      <td>{\"id\":469036700,\"name\":\"Camille de Germond\",\"i...</td>\n",
       "      <td>EUR</td>\n",
       "      <td>€</td>\n",
       "      <td>...</td>\n",
       "      <td>louli-a-lecole</td>\n",
       "      <td>https://www.kickstarter.com/discover/categorie...</td>\n",
       "      <td>True</td>\n",
       "      <td>False</td>\n",
       "      <td>successful</td>\n",
       "      <td>1566744397</td>\n",
       "      <td>1.140661</td>\n",
       "      <td>{\"web\":{\"project\":\"https://www.kickstarter.com...</td>\n",
       "      <td>719.756813</td>\n",
       "      <td>domestic</td>\n",
       "    </tr>\n",
       "  </tbody>\n",
       "</table>\n",
       "<p>1 rows × 38 columns</p>\n",
       "</div>"
      ],
      "text/plain": [
       "   backers_count                                              blurb  \\\n",
       "0             31  Un livre enfant pour l’apprentissage des émoti...   \n",
       "\n",
       "                                            category  \\\n",
       "0  {\"id\":46,\"name\":\"Children's Books\",\"slug\":\"pub...   \n",
       "\n",
       "   converted_pledged_amount country country_displayable_name  created_at  \\\n",
       "0                       709      FR                   France  1561554849   \n",
       "\n",
       "                                             creator currency currency_symbol  \\\n",
       "0  {\"id\":469036700,\"name\":\"Camille de Germond\",\"i...      EUR               €   \n",
       "\n",
       "   ...            slug                                         source_url  \\\n",
       "0  ...  louli-a-lecole  https://www.kickstarter.com/discover/categorie...   \n",
       "\n",
       "   spotlight  staff_pick       state  state_changed_at  static_usd_rate  \\\n",
       "0       True       False  successful        1566744397         1.140661   \n",
       "\n",
       "                                                urls usd_pledged  usd_type  \n",
       "0  {\"web\":{\"project\":\"https://www.kickstarter.com...  719.756813  domestic  \n",
       "\n",
       "[1 rows x 38 columns]"
      ]
     },
     "execution_count": 73,
     "metadata": {},
     "output_type": "execute_result"
    }
   ],
   "source": [
    "concatenated_df.head(1)"
   ]
  },
  {
   "cell_type": "code",
   "execution_count": 74,
   "metadata": {
    "colab": {},
    "colab_type": "code",
    "id": "qS4HYgH_AG-Y",
    "outputId": "d6e65be6-5a4b-45ee-af7a-41a0b7c50b58",
    "scrolled": true
   },
   "outputs": [
    {
     "name": "stdout",
     "output_type": "stream",
     "text": [
      "<class 'pandas.core.frame.DataFrame'>\n",
      "RangeIndex: 215800 entries, 0 to 215799\n",
      "Data columns (total 38 columns):\n",
      "backers_count               215800 non-null int64\n",
      "blurb                       215792 non-null object\n",
      "category                    215800 non-null object\n",
      "converted_pledged_amount    215800 non-null int64\n",
      "country                     215800 non-null object\n",
      "country_displayable_name    215800 non-null object\n",
      "created_at                  215800 non-null int64\n",
      "creator                     215800 non-null object\n",
      "currency                    215800 non-null object\n",
      "currency_symbol             215800 non-null object\n",
      "currency_trailing_code      215800 non-null bool\n",
      "current_currency            215800 non-null object\n",
      "deadline                    215800 non-null int64\n",
      "disable_communication       215800 non-null bool\n",
      "friends                     252 non-null object\n",
      "fx_rate                     215800 non-null float64\n",
      "goal                        215800 non-null float64\n",
      "id                          215800 non-null int64\n",
      "is_backing                  252 non-null object\n",
      "is_starrable                215800 non-null bool\n",
      "is_starred                  252 non-null object\n",
      "launched_at                 215800 non-null int64\n",
      "location                    215583 non-null object\n",
      "name                        215800 non-null object\n",
      "permissions                 252 non-null object\n",
      "photo                       215800 non-null object\n",
      "pledged                     215800 non-null float64\n",
      "profile                     215800 non-null object\n",
      "slug                        215800 non-null object\n",
      "source_url                  215800 non-null object\n",
      "spotlight                   215800 non-null bool\n",
      "staff_pick                  215800 non-null bool\n",
      "state                       215800 non-null object\n",
      "state_changed_at            215800 non-null int64\n",
      "static_usd_rate             215800 non-null float64\n",
      "urls                        215800 non-null object\n",
      "usd_pledged                 215800 non-null float64\n",
      "usd_type                    215656 non-null object\n",
      "dtypes: bool(5), float64(5), int64(7), object(21)\n",
      "memory usage: 55.4+ MB\n"
     ]
    }
   ],
   "source": [
    "concatenated_df.info()"
   ]
  },
  {
   "cell_type": "markdown",
   "metadata": {},
   "source": [
    "## 데이터 크기:\n",
    "- 현재 데이터 행 수: **215,799**\n",
    "- 현재 데이터 열(컬럼) 수: **38**"
   ]
  },
  {
   "cell_type": "markdown",
   "metadata": {},
   "source": [
    "## 2. 메타 데이터의 모든 컬럼 조회/탐색 및 1차 전처리/가공"
   ]
  },
  {
   "cell_type": "markdown",
   "metadata": {},
   "source": [
    "## backers_count\n",
    "- 해당 펀딩 프로젝트의 후원자 수"
   ]
  },
  {
   "cell_type": "code",
   "execution_count": 54,
   "metadata": {},
   "outputs": [
    {
     "name": "stdout",
     "output_type": "stream",
     "text": [
      "unique values:  3284\n",
      "data size:  215800\n",
      "dtype:  <class 'numpy.int64'>\n",
      "null/nan 수:  0\n",
      "-----------------------------\n",
      "데이터 형태 예시\n",
      "\n",
      "31\n"
     ]
    }
   ],
   "source": [
    "column_to_look = 'backers_count'\n",
    "print(\"unique values: \", kickstarter_dataset[column_to_look].nunique())\n",
    "#print(\"unique value별 개수:\\n\", kickstarter_dataset[column_to_look].value_counts()) #normalize=True -- 비율 집계\n",
    "print(\"data size: \", kickstarter_dataset[column_to_look].size)\n",
    "print(\"dtype: \", type(kickstarter_dataset[column_to_look][0]))\n",
    "print(\"null/nan 수: \", kickstarter_dataset[column_to_look].isna().sum())\n",
    "print(\"-----------------------------\")\n",
    "print(\"데이터 형태 예시\\n\")\n",
    "print(kickstarter_dataset[column_to_look][0])"
   ]
  },
  {
   "cell_type": "markdown",
   "metadata": {},
   "source": [
    "## blurb\n",
    "- 펀딩의 부제목; 프로젝트 관련 짤막한 promotiional 설명글"
   ]
  },
  {
   "cell_type": "code",
   "execution_count": 53,
   "metadata": {},
   "outputs": [
    {
     "name": "stdout",
     "output_type": "stream",
     "text": [
      "unique values:  186790\n",
      "data size:  215800\n",
      "dtype:  <class 'str'>\n",
      "null/nan 수:  8\n",
      "-----------------------------\n",
      "데이터 형태 예시\n",
      "\n",
      "Un livre enfant pour l’apprentissage des émotions.\n"
     ]
    }
   ],
   "source": [
    "column_to_look = 'blurb'\n",
    "print(\"unique values: \", kickstarter_dataset[column_to_look].nunique())\n",
    "#print(\"unique value별 개수:\\n\", kickstarter_dataset[column_to_look].value_counts()) #normalize=True -- 비율 집계\n",
    "print(\"data size: \", kickstarter_dataset[column_to_look].size)\n",
    "print(\"dtype: \", type(kickstarter_dataset[column_to_look][0]))\n",
    "print(\"null/nan 수: \", kickstarter_dataset[column_to_look].isna().sum())\n",
    "print(\"-----------------------------\")\n",
    "print(\"데이터 형태 예시\\n\")\n",
    "print(kickstarter_dataset[column_to_look][0])"
   ]
  },
  {
   "cell_type": "markdown",
   "metadata": {},
   "source": [
    "## category\n",
    "- 펀딩(제품/서비스) 유형"
   ]
  },
  {
   "cell_type": "code",
   "execution_count": 52,
   "metadata": {},
   "outputs": [
    {
     "name": "stdout",
     "output_type": "stream",
     "text": [
      "unique values:  170\n",
      "data size:  215800\n",
      "dtype:  <class 'str'>\n",
      "null/nan 수:  0\n",
      "-----------------------------\n",
      "데이터 형태 예시\n",
      "\n",
      "{'id': 46, 'name': \"Children's Books\", 'slug': \"publishing/children's books\", 'position': 5, 'parent_id': 18, 'color': 14867664, 'urls': {'web': {'discover': \"http://www.kickstarter.com/discover/categories/publishing/children's%20books\"}}}\n"
     ]
    }
   ],
   "source": [
    "column_to_look = 'category'\n",
    "print(\"unique values: \", kickstarter_dataset[column_to_look].nunique())\n",
    "#print(\"unique value별 개수:\\n\", kickstarter_dataset[column_to_look].value_counts()) #normalize=True -- 비율 집계\n",
    "print(\"data size: \", kickstarter_dataset[column_to_look].size)\n",
    "print(\"dtype: \", type(kickstarter_dataset[column_to_look][0]))\n",
    "print(\"null/nan 수: \", kickstarter_dataset[column_to_look].isna().sum())\n",
    "print(\"-----------------------------\")\n",
    "print(\"데이터 형태 예시\\n\")\n",
    "print(kickstarter_dataset[column_to_look][0])"
   ]
  },
  {
   "cell_type": "code",
   "execution_count": null,
   "metadata": {},
   "outputs": [],
   "source": [
    "# 'category'컬럼이 생긴 형태는 dictionary이지만, dtype은 string\n",
    "# --> dictionary 기능을 하도록 실제 dictionary로 변경"
   ]
  },
  {
   "cell_type": "code",
   "execution_count": 75,
   "metadata": {
    "colab": {
     "base_uri": "https://localhost:8080/",
     "height": 34
    },
    "colab_type": "code",
    "executionInfo": {
     "elapsed": 695,
     "status": "ok",
     "timestamp": 1578817038591,
     "user": {
      "displayName": "Daeyoung Kim",
      "photoUrl": "",
      "userId": "04286772270888871359"
     },
     "user_tz": -540
    },
    "id": "gFADHqVGo7bB",
    "outputId": "552aacfe-5726-48f5-a972-920307c193ee"
   },
   "outputs": [
    {
     "data": {
      "text/plain": [
       "str"
      ]
     },
     "execution_count": 75,
     "metadata": {
      "tags": []
     },
     "output_type": "execute_result"
    }
   ],
   "source": [
    "category_dic = kickstarter_data #작업할 변수 생성\n",
    "type(category_dic['category'][0]) #기존 category컬럼 = string"
   ]
  },
  {
   "cell_type": "code",
   "execution_count": 67,
   "metadata": {
    "colab": {
     "base_uri": "https://localhost:8080/",
     "height": 119
    },
    "colab_type": "code",
    "executionInfo": {
     "elapsed": 9413,
     "status": "ok",
     "timestamp": 1578815684840,
     "user": {
      "displayName": "Daeyoung Kim",
      "photoUrl": "",
      "userId": "04286772270888871359"
     },
     "user_tz": -540
    },
    "id": "JeYRZ0N7o7nz",
    "outputId": "8a55acf3-36af-4c0d-d25f-e37787f2ca6f"
   },
   "outputs": [
    {
     "data": {
      "text/plain": [
       "0    {'id': 46, 'name': 'Children's Books', 'slug':...\n",
       "1    {'id': 252, 'name': 'Graphic Novels', 'slug': ...\n",
       "2    {'id': 332, 'name': 'Apps', 'slug': 'technolog...\n",
       "3    {'id': 252, 'name': 'Graphic Novels', 'slug': ...\n",
       "4    {'id': 49, 'name': 'Periodicals', 'slug': 'pub...\n",
       "Name: category, dtype: object"
      ]
     },
     "execution_count": 67,
     "metadata": {
      "tags": []
     },
     "output_type": "execute_result"
    }
   ],
   "source": [
    "import ast\n",
    "category_dic1 = category_dic['category'].apply(lambda x: ast.literal_eval(x))\n",
    "category_dic1.head() #category 컬럼의 모든 값들을 dictionary로 변경한 새로운 시리즈 생성 (category 컬럼을 이걸로 대체하자)"
   ]
  },
  {
   "cell_type": "code",
   "execution_count": null,
   "metadata": {
    "colab": {},
    "colab_type": "code",
    "id": "Gm21tpJP1ITG"
   },
   "outputs": [],
   "source": [
    "#기존 category컬럼 --> dictionary로 바꾼 category컬럼으로 대체\n",
    "category_dic['category'] = category_dic1"
   ]
  },
  {
   "cell_type": "code",
   "execution_count": 77,
   "metadata": {
    "colab": {
     "base_uri": "https://localhost:8080/",
     "height": 34
    },
    "colab_type": "code",
    "executionInfo": {
     "elapsed": 766,
     "status": "ok",
     "timestamp": 1578817097358,
     "user": {
      "displayName": "Daeyoung Kim",
      "photoUrl": "",
      "userId": "04286772270888871359"
     },
     "user_tz": -540
    },
    "id": "bASyYHwF1IsW",
    "outputId": "773d99f2-2210-4e84-a8dd-66f09a7079df"
   },
   "outputs": [
    {
     "data": {
      "text/plain": [
       "dict"
      ]
     },
     "execution_count": 77,
     "metadata": {
      "tags": []
     },
     "output_type": "execute_result"
    }
   ],
   "source": [
    "type(category_dic['category'][0]) #dictionary로 바뀐 것 확인"
   ]
  },
  {
   "cell_type": "code",
   "execution_count": 72,
   "metadata": {
    "colab": {
     "base_uri": "https://localhost:8080/",
     "height": 119
    },
    "colab_type": "code",
    "executionInfo": {
     "elapsed": 735,
     "status": "ok",
     "timestamp": 1578816260438,
     "user": {
      "displayName": "Daeyoung Kim",
      "photoUrl": "",
      "userId": "04286772270888871359"
     },
     "user_tz": -540
    },
    "id": "nuK5TAqRpArk",
    "outputId": "db65fde3-f0e2-4034-aa6d-d2bac3d9ec8a"
   },
   "outputs": [
    {
     "data": {
      "text/plain": [
       "0    Children's Books\n",
       "1      Graphic Novels\n",
       "2                Apps\n",
       "3      Graphic Novels\n",
       "4         Periodicals\n",
       "Name: category, dtype: object"
      ]
     },
     "execution_count": 72,
     "metadata": {
      "tags": []
     },
     "output_type": "execute_result"
    }
   ],
   "source": [
    "# 이제 'category'컬럼의 모든 값은 dictionary\n",
    "# category dictionary에서 'name' key만 추출\n",
    "category_name = category_dic1.apply(lambda x: x['name'])\n",
    "category_name.head()"
   ]
  },
  {
   "cell_type": "code",
   "execution_count": 73,
   "metadata": {
    "colab": {
     "base_uri": "https://localhost:8080/",
     "height": 119
    },
    "colab_type": "code",
    "executionInfo": {
     "elapsed": 614,
     "status": "ok",
     "timestamp": 1578816407790,
     "user": {
      "displayName": "Daeyoung Kim",
      "photoUrl": "",
      "userId": "04286772270888871359"
     },
     "user_tz": -540
    },
    "id": "LwmCSBdEo_1j",
    "outputId": "b9e190c8-e3ff-4ada-f285-74e670ce601c"
   },
   "outputs": [
    {
     "data": {
      "text/plain": [
       "0    publishing/children's books\n",
       "1          comics/graphic novels\n",
       "2                technology/apps\n",
       "3          comics/graphic novels\n",
       "4         publishing/periodicals\n",
       "Name: category, dtype: object"
      ]
     },
     "execution_count": 73,
     "metadata": {
      "tags": []
     },
     "output_type": "execute_result"
    }
   ],
   "source": [
    "# category dictionary에서 'slug' key만 추출\n",
    "category_specific = category_dic1.apply(lambda x: x['slug'])\n",
    "category_specific.head()"
   ]
  },
  {
   "cell_type": "code",
   "execution_count": null,
   "metadata": {
    "colab": {},
    "colab_type": "code",
    "id": "qS2dA30G1rUh"
   },
   "outputs": [],
   "source": [
    "#기존 dataframe에 category_name, category_specific 새 컬럼으로 삽입\n",
    "category_dic.insert(3, 'category_name', category_name)\n",
    "category_dic.insert(4, 'category_specific', category_specific)"
   ]
  },
  {
   "cell_type": "markdown",
   "metadata": {},
   "source": [
    "## category_name\n",
    "- 펀딩 유형 이름"
   ]
  },
  {
   "cell_type": "code",
   "execution_count": 51,
   "metadata": {},
   "outputs": [
    {
     "name": "stdout",
     "output_type": "stream",
     "text": [
      "unique values:  160\n",
      "unique value별 개수:\n",
      " Web                4644\n",
      "Product Design     4403\n",
      "Tabletop Games     4047\n",
      "Accessories        3651\n",
      "Comic Books        3543\n",
      "                   ... \n",
      "Games                99\n",
      "Letterpress          75\n",
      "Chiptune             51\n",
      "Social Practice      49\n",
      "Taxidermy            18\n",
      "Name: category_name, Length: 160, dtype: int64\n",
      "data size:  215800\n",
      "dtype:  <class 'str'>\n",
      "null/nan 수:  0\n",
      "-----------------------------\n",
      "데이터 형태 예시\n",
      "\n",
      "Children's Books\n"
     ]
    }
   ],
   "source": [
    "column_to_look = 'category_name'\n",
    "print(\"unique values: \", kickstarter_dataset[column_to_look].nunique())\n",
    "print(\"unique value별 개수:\\n\", kickstarter_dataset[column_to_look].value_counts()) #normalize=True -- 비율 집계\n",
    "print(\"data size: \", kickstarter_dataset[column_to_look].size)\n",
    "print(\"dtype: \", type(kickstarter_dataset[column_to_look][0]))\n",
    "print(\"null/nan 수: \", kickstarter_dataset[column_to_look].isna().sum())\n",
    "print(\"-----------------------------\")\n",
    "print(\"데이터 형태 예시\\n\")\n",
    "print(kickstarter_dataset[column_to_look][0])"
   ]
  },
  {
   "cell_type": "markdown",
   "metadata": {},
   "source": [
    "## category_specific\n",
    "- 해당 펀딩의 분류/유형에 대한 slug (접근하기 위한 root -- url 가장 뒤에 붙는다)\n",
    "- 펀딩의 상위 유형(분류) 포함 (value 형태: 큰 유형/세부 유형)"
   ]
  },
  {
   "cell_type": "code",
   "execution_count": 55,
   "metadata": {},
   "outputs": [
    {
     "name": "stdout",
     "output_type": "stream",
     "text": [
      "unique values:  170\n",
      "unique value별 개수:\n",
      " design/product design     4403\n",
      "games/tabletop games      4047\n",
      "fashion/accessories       3651\n",
      "comics/comic books        3543\n",
      "art/illustration          3117\n",
      "                          ... \n",
      "music/comedy                84\n",
      "publishing/letterpress      75\n",
      "music/chiptune              51\n",
      "art/social practice         49\n",
      "crafts/taxidermy            18\n",
      "Name: category_specific, Length: 170, dtype: int64\n",
      "data size:  215800\n",
      "dtype:  <class 'str'>\n",
      "null/nan 수:  0\n",
      "-----------------------------\n",
      "데이터 형태 예시\n",
      "\n",
      "publishing/children's books\n"
     ]
    }
   ],
   "source": [
    "column_to_look = 'category_specific'\n",
    "print(\"unique values: \", kickstarter_dataset[column_to_look].nunique())\n",
    "print(\"unique value별 개수:\\n\", kickstarter_dataset[column_to_look].value_counts()) #normalize=True -- 비율 집계\n",
    "print(\"data size: \", kickstarter_dataset[column_to_look].size)\n",
    "print(\"dtype: \", type(kickstarter_dataset[column_to_look][0]))\n",
    "print(\"null/nan 수: \", kickstarter_dataset[column_to_look].isna().sum())\n",
    "print(\"-----------------------------\")\n",
    "print(\"데이터 형태 예시\\n\")\n",
    "print(kickstarter_dataset[column_to_look][0])"
   ]
  },
  {
   "cell_type": "code",
   "execution_count": 6,
   "metadata": {},
   "outputs": [
    {
     "data": {
      "text/plain": [
       "159"
      ]
     },
     "execution_count": 6,
     "metadata": {},
     "output_type": "execute_result"
    }
   ],
   "source": [
    "#2019년 데이터만 뽑아서 category 관련 컬럼들 탐색 시도\n",
    "df_2019['category_name'].nunique()"
   ]
  },
  {
   "cell_type": "code",
   "execution_count": 7,
   "metadata": {},
   "outputs": [
    {
     "data": {
      "text/plain": [
       "169"
      ]
     },
     "execution_count": 7,
     "metadata": {},
     "output_type": "execute_result"
    }
   ],
   "source": [
    "df_2019['category_specific'].nunique()"
   ]
  },
  {
   "cell_type": "code",
   "execution_count": null,
   "metadata": {},
   "outputs": [],
   "source": [
    "#처음엔 이 두 컬럼의 유일값(unique)이 같을 것으로 기대했지만\n",
    "#조회 결과 두 컬럼의 값이 다르다"
   ]
  },
  {
   "cell_type": "code",
   "execution_count": 115,
   "metadata": {},
   "outputs": [
    {
     "data": {
      "text/html": [
       "<div>\n",
       "<style scoped>\n",
       "    .dataframe tbody tr th:only-of-type {\n",
       "        vertical-align: middle;\n",
       "    }\n",
       "\n",
       "    .dataframe tbody tr th {\n",
       "        vertical-align: top;\n",
       "    }\n",
       "\n",
       "    .dataframe thead th {\n",
       "        text-align: right;\n",
       "    }\n",
       "</style>\n",
       "<table border=\"1\" class=\"dataframe\">\n",
       "  <thead>\n",
       "    <tr style=\"text-align: right;\">\n",
       "      <th></th>\n",
       "      <th>count</th>\n",
       "      <th>unique</th>\n",
       "      <th>top</th>\n",
       "      <th>freq</th>\n",
       "    </tr>\n",
       "    <tr>\n",
       "      <th>category_name</th>\n",
       "      <th></th>\n",
       "      <th></th>\n",
       "      <th></th>\n",
       "      <th></th>\n",
       "    </tr>\n",
       "  </thead>\n",
       "  <tbody>\n",
       "    <tr>\n",
       "      <th>3D Printing</th>\n",
       "      <td>108</td>\n",
       "      <td>1</td>\n",
       "      <td>technology/3d printing</td>\n",
       "      <td>108</td>\n",
       "    </tr>\n",
       "    <tr>\n",
       "      <th>Academic</th>\n",
       "      <td>152</td>\n",
       "      <td>1</td>\n",
       "      <td>publishing/academic</td>\n",
       "      <td>152</td>\n",
       "    </tr>\n",
       "    <tr>\n",
       "      <th>Accessories</th>\n",
       "      <td>1584</td>\n",
       "      <td>1</td>\n",
       "      <td>fashion/accessories</td>\n",
       "      <td>1584</td>\n",
       "    </tr>\n",
       "    <tr>\n",
       "      <th>Action</th>\n",
       "      <td>101</td>\n",
       "      <td>1</td>\n",
       "      <td>film &amp; video/action</td>\n",
       "      <td>101</td>\n",
       "    </tr>\n",
       "    <tr>\n",
       "      <th>Animals</th>\n",
       "      <td>25</td>\n",
       "      <td>1</td>\n",
       "      <td>photography/animals</td>\n",
       "      <td>25</td>\n",
       "    </tr>\n",
       "    <tr>\n",
       "      <th>...</th>\n",
       "      <td>...</td>\n",
       "      <td>...</td>\n",
       "      <td>...</td>\n",
       "      <td>...</td>\n",
       "    </tr>\n",
       "    <tr>\n",
       "      <th>Woodworking</th>\n",
       "      <td>157</td>\n",
       "      <td>1</td>\n",
       "      <td>crafts/woodworking</td>\n",
       "      <td>157</td>\n",
       "    </tr>\n",
       "    <tr>\n",
       "      <th>Workshops</th>\n",
       "      <td>14</td>\n",
       "      <td>1</td>\n",
       "      <td>dance/workshops</td>\n",
       "      <td>14</td>\n",
       "    </tr>\n",
       "    <tr>\n",
       "      <th>World Music</th>\n",
       "      <td>232</td>\n",
       "      <td>1</td>\n",
       "      <td>music/world music</td>\n",
       "      <td>232</td>\n",
       "    </tr>\n",
       "    <tr>\n",
       "      <th>Young Adult</th>\n",
       "      <td>148</td>\n",
       "      <td>1</td>\n",
       "      <td>publishing/young adult</td>\n",
       "      <td>148</td>\n",
       "    </tr>\n",
       "    <tr>\n",
       "      <th>Zines</th>\n",
       "      <td>152</td>\n",
       "      <td>1</td>\n",
       "      <td>publishing/zines</td>\n",
       "      <td>152</td>\n",
       "    </tr>\n",
       "  </tbody>\n",
       "</table>\n",
       "<p>159 rows × 4 columns</p>\n",
       "</div>"
      ],
      "text/plain": [
       "              count unique                     top  freq\n",
       "category_name                                           \n",
       "3D Printing     108      1  technology/3d printing   108\n",
       "Academic        152      1     publishing/academic   152\n",
       "Accessories    1584      1     fashion/accessories  1584\n",
       "Action          101      1     film & video/action   101\n",
       "Animals          25      1     photography/animals    25\n",
       "...             ...    ...                     ...   ...\n",
       "Woodworking     157      1      crafts/woodworking   157\n",
       "Workshops        14      1         dance/workshops    14\n",
       "World Music     232      1       music/world music   232\n",
       "Young Adult     148      1  publishing/young adult   148\n",
       "Zines           152      1        publishing/zines   152\n",
       "\n",
       "[159 rows x 4 columns]"
      ]
     },
     "execution_count": 115,
     "metadata": {},
     "output_type": "execute_result"
    }
   ],
   "source": [
    "category_df = df_2019['category_specific'].groupby(df_2019['category_name'])\n",
    "c_df1 = category_df.describe()\n",
    "c_df1"
   ]
  },
  {
   "cell_type": "code",
   "execution_count": 128,
   "metadata": {},
   "outputs": [
    {
     "data": {
      "text/html": [
       "<div>\n",
       "<style scoped>\n",
       "    .dataframe tbody tr th:only-of-type {\n",
       "        vertical-align: middle;\n",
       "    }\n",
       "\n",
       "    .dataframe tbody tr th {\n",
       "        vertical-align: top;\n",
       "    }\n",
       "\n",
       "    .dataframe thead th {\n",
       "        text-align: right;\n",
       "    }\n",
       "</style>\n",
       "<table border=\"1\" class=\"dataframe\">\n",
       "  <thead>\n",
       "    <tr style=\"text-align: right;\">\n",
       "      <th></th>\n",
       "      <th>count</th>\n",
       "      <th>unique</th>\n",
       "      <th>top</th>\n",
       "      <th>freq</th>\n",
       "    </tr>\n",
       "    <tr>\n",
       "      <th>category_name</th>\n",
       "      <th></th>\n",
       "      <th></th>\n",
       "      <th></th>\n",
       "      <th></th>\n",
       "    </tr>\n",
       "  </thead>\n",
       "  <tbody>\n",
       "    <tr>\n",
       "      <th>Anthologies</th>\n",
       "      <td>416</td>\n",
       "      <td>2</td>\n",
       "      <td>comics/anthologies</td>\n",
       "      <td>243</td>\n",
       "    </tr>\n",
       "    <tr>\n",
       "      <th>Comedy</th>\n",
       "      <td>581</td>\n",
       "      <td>4</td>\n",
       "      <td>film &amp; video/comedy</td>\n",
       "      <td>362</td>\n",
       "    </tr>\n",
       "    <tr>\n",
       "      <th>Events</th>\n",
       "      <td>93</td>\n",
       "      <td>2</td>\n",
       "      <td>food/events</td>\n",
       "      <td>52</td>\n",
       "    </tr>\n",
       "    <tr>\n",
       "      <th>Experimental</th>\n",
       "      <td>148</td>\n",
       "      <td>2</td>\n",
       "      <td>film &amp; video/experimental</td>\n",
       "      <td>85</td>\n",
       "    </tr>\n",
       "    <tr>\n",
       "      <th>Festivals</th>\n",
       "      <td>160</td>\n",
       "      <td>2</td>\n",
       "      <td>theater/festivals</td>\n",
       "      <td>115</td>\n",
       "    </tr>\n",
       "    <tr>\n",
       "      <th>Spaces</th>\n",
       "      <td>157</td>\n",
       "      <td>3</td>\n",
       "      <td>food/spaces</td>\n",
       "      <td>91</td>\n",
       "    </tr>\n",
       "    <tr>\n",
       "      <th>Web</th>\n",
       "      <td>480</td>\n",
       "      <td>2</td>\n",
       "      <td>technology/web</td>\n",
       "      <td>279</td>\n",
       "    </tr>\n",
       "  </tbody>\n",
       "</table>\n",
       "</div>"
      ],
      "text/plain": [
       "              count unique                        top freq\n",
       "category_name                                             \n",
       "Anthologies     416      2         comics/anthologies  243\n",
       "Comedy          581      4        film & video/comedy  362\n",
       "Events           93      2                food/events   52\n",
       "Experimental    148      2  film & video/experimental   85\n",
       "Festivals       160      2          theater/festivals  115\n",
       "Spaces          157      3                food/spaces   91\n",
       "Web             480      2             technology/web  279"
      ]
     },
     "execution_count": 128,
     "metadata": {},
     "output_type": "execute_result"
    }
   ],
   "source": [
    "c_df1[c_df1['unique'] > 1]"
   ]
  },
  {
   "cell_type": "code",
   "execution_count": null,
   "metadata": {},
   "outputs": [],
   "source": [
    "# 조회 결과 아래의 Anthologies, Comdedy, Events 등의 category는 더 큰 분류에서 보면 1개 이상이다\n",
    "# Comedy를 예로 들면, music/comedy, publishing/comedy, theater/comedy, film & video/comedy 이렇게 4개의 큰 카테고리들이 다 comedy라는 subcategory가 있음\n",
    "# Spaces도 예로 들면, dance/spaces, food/spaces, theater/spaces에 각 spaces라는 subcategory가 있다"
   ]
  },
  {
   "cell_type": "code",
   "execution_count": 124,
   "metadata": {},
   "outputs": [
    {
     "data": {
      "text/html": [
       "<div>\n",
       "<style scoped>\n",
       "    .dataframe tbody tr th:only-of-type {\n",
       "        vertical-align: middle;\n",
       "    }\n",
       "\n",
       "    .dataframe tbody tr th {\n",
       "        vertical-align: top;\n",
       "    }\n",
       "\n",
       "    .dataframe thead th {\n",
       "        text-align: right;\n",
       "    }\n",
       "</style>\n",
       "<table border=\"1\" class=\"dataframe\">\n",
       "  <thead>\n",
       "    <tr style=\"text-align: right;\">\n",
       "      <th></th>\n",
       "      <th>count</th>\n",
       "      <th>unique</th>\n",
       "      <th>top</th>\n",
       "      <th>freq</th>\n",
       "    </tr>\n",
       "    <tr>\n",
       "      <th>category_specific</th>\n",
       "      <th></th>\n",
       "      <th></th>\n",
       "      <th></th>\n",
       "      <th></th>\n",
       "    </tr>\n",
       "  </thead>\n",
       "  <tbody>\n",
       "    <tr>\n",
       "      <th>art</th>\n",
       "      <td>1001</td>\n",
       "      <td>1</td>\n",
       "      <td>Art</td>\n",
       "      <td>1001</td>\n",
       "    </tr>\n",
       "    <tr>\n",
       "      <th>art/ceramics</th>\n",
       "      <td>83</td>\n",
       "      <td>1</td>\n",
       "      <td>Ceramics</td>\n",
       "      <td>83</td>\n",
       "    </tr>\n",
       "    <tr>\n",
       "      <th>art/conceptual art</th>\n",
       "      <td>131</td>\n",
       "      <td>1</td>\n",
       "      <td>Conceptual Art</td>\n",
       "      <td>131</td>\n",
       "    </tr>\n",
       "    <tr>\n",
       "      <th>art/digital art</th>\n",
       "      <td>480</td>\n",
       "      <td>1</td>\n",
       "      <td>Digital Art</td>\n",
       "      <td>480</td>\n",
       "    </tr>\n",
       "    <tr>\n",
       "      <th>art/illustration</th>\n",
       "      <td>1503</td>\n",
       "      <td>1</td>\n",
       "      <td>Illustration</td>\n",
       "      <td>1503</td>\n",
       "    </tr>\n",
       "    <tr>\n",
       "      <th>...</th>\n",
       "      <td>...</td>\n",
       "      <td>...</td>\n",
       "      <td>...</td>\n",
       "      <td>...</td>\n",
       "    </tr>\n",
       "    <tr>\n",
       "      <th>theater/festivals</th>\n",
       "      <td>115</td>\n",
       "      <td>1</td>\n",
       "      <td>Festivals</td>\n",
       "      <td>115</td>\n",
       "    </tr>\n",
       "    <tr>\n",
       "      <th>theater/immersive</th>\n",
       "      <td>64</td>\n",
       "      <td>1</td>\n",
       "      <td>Immersive</td>\n",
       "      <td>64</td>\n",
       "    </tr>\n",
       "    <tr>\n",
       "      <th>theater/musical</th>\n",
       "      <td>160</td>\n",
       "      <td>1</td>\n",
       "      <td>Musical</td>\n",
       "      <td>160</td>\n",
       "    </tr>\n",
       "    <tr>\n",
       "      <th>theater/plays</th>\n",
       "      <td>252</td>\n",
       "      <td>1</td>\n",
       "      <td>Plays</td>\n",
       "      <td>252</td>\n",
       "    </tr>\n",
       "    <tr>\n",
       "      <th>theater/spaces</th>\n",
       "      <td>36</td>\n",
       "      <td>1</td>\n",
       "      <td>Spaces</td>\n",
       "      <td>36</td>\n",
       "    </tr>\n",
       "  </tbody>\n",
       "</table>\n",
       "<p>169 rows × 4 columns</p>\n",
       "</div>"
      ],
      "text/plain": [
       "                   count unique             top  freq\n",
       "category_specific                                    \n",
       "art                 1001      1             Art  1001\n",
       "art/ceramics          83      1        Ceramics    83\n",
       "art/conceptual art   131      1  Conceptual Art   131\n",
       "art/digital art      480      1     Digital Art   480\n",
       "art/illustration    1503      1    Illustration  1503\n",
       "...                  ...    ...             ...   ...\n",
       "theater/festivals    115      1       Festivals   115\n",
       "theater/immersive     64      1       Immersive    64\n",
       "theater/musical      160      1         Musical   160\n",
       "theater/plays        252      1           Plays   252\n",
       "theater/spaces        36      1          Spaces    36\n",
       "\n",
       "[169 rows x 4 columns]"
      ]
     },
     "execution_count": 124,
     "metadata": {},
     "output_type": "execute_result"
    }
   ],
   "source": [
    "test2 = df_2019['category_name'].groupby(df_2019['category_specific'])\n",
    "c_df2 = test2.describe()\n",
    "c_df2"
   ]
  },
  {
   "cell_type": "code",
   "execution_count": 129,
   "metadata": {},
   "outputs": [
    {
     "data": {
      "text/html": [
       "<div>\n",
       "<style scoped>\n",
       "    .dataframe tbody tr th:only-of-type {\n",
       "        vertical-align: middle;\n",
       "    }\n",
       "\n",
       "    .dataframe tbody tr th {\n",
       "        vertical-align: top;\n",
       "    }\n",
       "\n",
       "    .dataframe thead th {\n",
       "        text-align: right;\n",
       "    }\n",
       "</style>\n",
       "<table border=\"1\" class=\"dataframe\">\n",
       "  <thead>\n",
       "    <tr style=\"text-align: right;\">\n",
       "      <th></th>\n",
       "      <th>count</th>\n",
       "      <th>unique</th>\n",
       "      <th>top</th>\n",
       "      <th>freq</th>\n",
       "    </tr>\n",
       "    <tr>\n",
       "      <th>category_specific</th>\n",
       "      <th></th>\n",
       "      <th></th>\n",
       "      <th></th>\n",
       "      <th></th>\n",
       "    </tr>\n",
       "  </thead>\n",
       "  <tbody>\n",
       "  </tbody>\n",
       "</table>\n",
       "</div>"
      ],
      "text/plain": [
       "Empty DataFrame\n",
       "Columns: [count, unique, top, freq]\n",
       "Index: []"
      ]
     },
     "execution_count": 129,
     "metadata": {},
     "output_type": "execute_result"
    }
   ],
   "source": [
    "#c_df2[c_df2['count'] != c_df2['freq']]\n",
    "c_df2[c_df2['unique'] > 1]\n",
    "\n",
    "#이건 category_specific이랑 category_name 개수가 맞다"
   ]
  },
  {
   "cell_type": "code",
   "execution_count": 72,
   "metadata": {
    "scrolled": true
   },
   "outputs": [
    {
     "data": {
      "text/plain": [
       "array(['art', 'art/ceramics', 'art/conceptual art', 'art/digital art',\n",
       "       'art/illustration', 'art/installations', 'art/mixed media',\n",
       "       'art/painting', 'art/performance art', 'art/public art',\n",
       "       'art/sculpture', 'art/social practice', 'art/textiles',\n",
       "       'art/video art', 'comics', 'comics/anthologies',\n",
       "       'comics/comic books', 'comics/events', 'comics/graphic novels',\n",
       "       'comics/webcomics', 'crafts', 'crafts/candles', 'crafts/crochet',\n",
       "       'crafts/diy', 'crafts/embroidery', 'crafts/glass',\n",
       "       'crafts/knitting', 'crafts/pottery', 'crafts/printing',\n",
       "       'crafts/quilts', 'crafts/stationery', 'crafts/weaving',\n",
       "       'crafts/woodworking', 'dance', 'dance/performances',\n",
       "       'dance/residencies', 'dance/spaces', 'dance/workshops', 'design',\n",
       "       'design/architecture', 'design/civic design',\n",
       "       'design/graphic design', 'design/interactive design',\n",
       "       'design/product design', 'design/typography', 'fashion',\n",
       "       'fashion/accessories', 'fashion/apparel', 'fashion/childrenswear',\n",
       "       'fashion/couture', 'fashion/footwear', 'fashion/jewelry',\n",
       "       'fashion/pet fashion', 'fashion/ready-to-wear', 'film & video',\n",
       "       'film & video/action', 'film & video/animation',\n",
       "       'film & video/comedy', 'film & video/documentary',\n",
       "       'film & video/drama', 'film & video/experimental',\n",
       "       'film & video/family', 'film & video/fantasy',\n",
       "       'film & video/festivals', 'film & video/horror',\n",
       "       'film & video/movie theaters', 'film & video/music videos',\n",
       "       'film & video/narrative film', 'film & video/romance',\n",
       "       'film & video/science fiction', 'film & video/shorts',\n",
       "       'film & video/television', 'film & video/thrillers',\n",
       "       'film & video/webseries', 'food', 'food/bacon',\n",
       "       'food/community gardens', 'food/cookbooks', 'food/drinks',\n",
       "       'food/events', \"food/farmer's markets\", 'food/farms',\n",
       "       'food/food trucks', 'food/restaurants', 'food/small batch',\n",
       "       'food/spaces', 'food/vegan', 'games', 'games/gaming hardware',\n",
       "       'games/live games', 'games/mobile games', 'games/playing cards',\n",
       "       'games/puzzles', 'games/tabletop games', 'games/video games',\n",
       "       'journalism', 'journalism/audio', 'journalism/photo',\n",
       "       'journalism/print', 'journalism/video', 'journalism/web', 'music',\n",
       "       'music/blues', 'music/chiptune', 'music/classical music',\n",
       "       'music/comedy', 'music/country & folk', 'music/electronic music',\n",
       "       'music/faith', 'music/hip-hop', 'music/indie rock', 'music/jazz',\n",
       "       'music/kids', 'music/latin', 'music/metal', 'music/pop',\n",
       "       'music/punk', 'music/r&b', 'music/rock', 'music/world music',\n",
       "       'photography', 'photography/animals', 'photography/fine art',\n",
       "       'photography/nature', 'photography/people',\n",
       "       'photography/photobooks', 'photography/places', 'publishing',\n",
       "       'publishing/academic', 'publishing/anthologies',\n",
       "       'publishing/art books', 'publishing/calendars',\n",
       "       \"publishing/children's books\", 'publishing/comedy',\n",
       "       'publishing/fiction', 'publishing/letterpress',\n",
       "       'publishing/literary journals', 'publishing/literary spaces',\n",
       "       'publishing/nonfiction', 'publishing/periodicals',\n",
       "       'publishing/poetry', 'publishing/radio & podcasts',\n",
       "       'publishing/translations', 'publishing/young adult',\n",
       "       'publishing/zines', 'technology', 'technology/3d printing',\n",
       "       'technology/apps', 'technology/camera equipment',\n",
       "       'technology/diy electronics', 'technology/fabrication tools',\n",
       "       'technology/flight', 'technology/gadgets', 'technology/hardware',\n",
       "       'technology/makerspaces', 'technology/robots',\n",
       "       'technology/software', 'technology/sound',\n",
       "       'technology/space exploration', 'technology/wearables',\n",
       "       'technology/web', 'theater', 'theater/comedy',\n",
       "       'theater/experimental', 'theater/festivals', 'theater/immersive',\n",
       "       'theater/musical', 'theater/plays', 'theater/spaces'], dtype=object)"
      ]
     },
     "execution_count": 72,
     "metadata": {},
     "output_type": "execute_result"
    }
   ],
   "source": [
    "np.unique(df_2019['category_specific'].values)"
   ]
  },
  {
   "cell_type": "code",
   "execution_count": 79,
   "metadata": {
    "scrolled": true
   },
   "outputs": [
    {
     "data": {
      "text/plain": [
       "dict_keys(['3D Printing', 'Academic', 'Accessories', 'Action', 'Animals', 'Animation', 'Anthologies', 'Apparel', 'Apps', 'Architecture', 'Art', 'Art Books', 'Audio', 'Bacon', 'Blues', 'Calendars', 'Camera Equipment', 'Candles', 'Ceramics', \"Children's Books\", 'Childrenswear', 'Chiptune', 'Civic Design', 'Classical Music', 'Comedy', 'Comic Books', 'Comics', 'Community Gardens', 'Conceptual Art', 'Cookbooks', 'Country & Folk', 'Couture', 'Crafts', 'Crochet', 'DIY', 'DIY Electronics', 'Dance', 'Design', 'Digital Art', 'Documentary', 'Drama', 'Drinks', 'Electronic Music', 'Embroidery', 'Events', 'Experimental', 'Fabrication Tools', 'Faith', 'Family', 'Fantasy', \"Farmer's Markets\", 'Farms', 'Fashion', 'Festivals', 'Fiction', 'Film & Video', 'Fine Art', 'Flight', 'Food', 'Food Trucks', 'Footwear', 'Gadgets', 'Games', 'Gaming Hardware', 'Glass', 'Graphic Design', 'Graphic Novels', 'Hardware', 'Hip-Hop', 'Horror', 'Illustration', 'Immersive', 'Indie Rock', 'Installations', 'Interactive Design', 'Jazz', 'Jewelry', 'Journalism', 'Kids', 'Knitting', 'Latin', 'Letterpress', 'Literary Journals', 'Literary Spaces', 'Live Games', 'Makerspaces', 'Metal', 'Mixed Media', 'Mobile Games', 'Movie Theaters', 'Music', 'Music Videos', 'Musical', 'Narrative Film', 'Nature', 'Nonfiction', 'Painting', 'People', 'Performance Art', 'Performances', 'Periodicals', 'Pet Fashion', 'Photo', 'Photobooks', 'Photography', 'Places', 'Playing Cards', 'Plays', 'Poetry', 'Pop', 'Pottery', 'Print', 'Printing', 'Product Design', 'Public Art', 'Publishing', 'Punk', 'Puzzles', 'Quilts', 'R&B', 'Radio & Podcasts', 'Ready-to-wear', 'Residencies', 'Restaurants', 'Robots', 'Rock', 'Romance', 'Science Fiction', 'Sculpture', 'Shorts', 'Small Batch', 'Social Practice', 'Software', 'Sound', 'Space Exploration', 'Spaces', 'Stationery', 'Tabletop Games', 'Technology', 'Television', 'Textiles', 'Theater', 'Thrillers', 'Translations', 'Typography', 'Vegan', 'Video', 'Video Art', 'Video Games', 'Wearables', 'Weaving', 'Web', 'Webcomics', 'Webseries', 'Woodworking', 'Workshops', 'World Music', 'Young Adult', 'Zines'])"
      ]
     },
     "execution_count": 79,
     "metadata": {},
     "output_type": "execute_result"
    }
   ],
   "source": [
    "test = df_2019.groupby('category_name')\n",
    "test.groups.keys()"
   ]
  },
  {
   "cell_type": "code",
   "execution_count": null,
   "metadata": {},
   "outputs": [],
   "source": [
    "# 어떤 프로젝트들은 category_name, category_specific 둘 다 같은 것이 있다; 예)art, comics, crafts 등\n",
    "# 이런 프로젝트들은 main category는 설정 했지만 subcategory는 설정 안 했기 때문일 것으로 판단"
   ]
  },
  {
   "cell_type": "markdown",
   "metadata": {},
   "source": [
    "## converted_pledged_amount\n",
    "- 단위 변환된 모금액수"
   ]
  },
  {
   "cell_type": "code",
   "execution_count": 56,
   "metadata": {},
   "outputs": [
    {
     "name": "stdout",
     "output_type": "stream",
     "text": [
      "unique values:  32379\n",
      "data size:  215800\n",
      "dtype:  <class 'numpy.int64'>\n",
      "null/nan 수:  0\n",
      "-----------------------------\n",
      "데이터 형태 예시\n",
      "\n",
      "709\n"
     ]
    }
   ],
   "source": [
    "column_to_look = 'converted_pledged_amount'\n",
    "print(\"unique values: \", kickstarter_dataset[column_to_look].nunique())\n",
    "#print(\"unique value별 개수:\\n\", kickstarter_dataset[column_to_look].value_counts()) #normalize=True -- 비율 집계\n",
    "print(\"data size: \", kickstarter_dataset[column_to_look].size)\n",
    "print(\"dtype: \", type(kickstarter_dataset[column_to_look][0]))\n",
    "print(\"null/nan 수: \", kickstarter_dataset[column_to_look].isna().sum())\n",
    "print(\"-----------------------------\")\n",
    "print(\"데이터 형태 예시\\n\")\n",
    "print(kickstarter_dataset[column_to_look][0])"
   ]
  },
  {
   "cell_type": "markdown",
   "metadata": {},
   "source": [
    "## country\n",
    "- 국가 코드"
   ]
  },
  {
   "cell_type": "code",
   "execution_count": 57,
   "metadata": {},
   "outputs": [
    {
     "name": "stdout",
     "output_type": "stream",
     "text": [
      "unique values:  22\n",
      "unique value별 개수:\n",
      " US    149987\n",
      "GB     24540\n",
      "CA     10162\n",
      "AU      5228\n",
      "DE      3822\n",
      "FR      3007\n",
      "MX      2880\n",
      "IT      2666\n",
      "ES      2276\n",
      "NL      1881\n",
      "SE      1550\n",
      "HK      1376\n",
      "NZ       978\n",
      "DK       958\n",
      "SG       801\n",
      "CH       735\n",
      "IE       683\n",
      "BE       632\n",
      "AT       546\n",
      "NO       521\n",
      "JP       504\n",
      "LU        67\n",
      "Name: country, dtype: int64\n",
      "data size:  215800\n",
      "dtype:  <class 'str'>\n",
      "null/nan 수:  0\n",
      "-----------------------------\n",
      "데이터 형태 예시\n",
      "\n",
      "FR\n"
     ]
    }
   ],
   "source": [
    "column_to_look = 'country'\n",
    "print(\"unique values: \", kickstarter_dataset[column_to_look].nunique())\n",
    "print(\"unique value별 개수:\\n\", kickstarter_dataset[column_to_look].value_counts()) #normalize=True -- 비율 집계\n",
    "print(\"data size: \", kickstarter_dataset[column_to_look].size)\n",
    "print(\"dtype: \", type(kickstarter_dataset[column_to_look][0]))\n",
    "print(\"null/nan 수: \", kickstarter_dataset[column_to_look].isna().sum())\n",
    "print(\"-----------------------------\")\n",
    "print(\"데이터 형태 예시\\n\")\n",
    "print(kickstarter_dataset[column_to_look][0])"
   ]
  },
  {
   "cell_type": "markdown",
   "metadata": {},
   "source": [
    "## country_displayable_name\n",
    "- 국가명"
   ]
  },
  {
   "cell_type": "code",
   "execution_count": 58,
   "metadata": {},
   "outputs": [
    {
     "name": "stdout",
     "output_type": "stream",
     "text": [
      "unique values:  22\n",
      "unique value별 개수:\n",
      " the United States     149987\n",
      "the United Kingdom     24540\n",
      "Canada                 10162\n",
      "Australia               5228\n",
      "Germany                 3822\n",
      "France                  3007\n",
      "Mexico                  2880\n",
      "Italy                   2666\n",
      "Spain                   2276\n",
      "the Netherlands         1881\n",
      "Sweden                  1550\n",
      "Hong Kong               1376\n",
      "New Zealand              978\n",
      "Denmark                  958\n",
      "Singapore                801\n",
      "Switzerland              735\n",
      "Ireland                  683\n",
      "Belgium                  632\n",
      "Austria                  546\n",
      "Norway                   521\n",
      "Japan                    504\n",
      "Luxembourg                67\n",
      "Name: country_displayable_name, dtype: int64\n",
      "data size:  215800\n",
      "dtype:  <class 'str'>\n",
      "null/nan 수:  0\n",
      "-----------------------------\n",
      "데이터 형태 예시\n",
      "\n",
      "France\n"
     ]
    }
   ],
   "source": [
    "column_to_look = 'country_displayable_name'\n",
    "print(\"unique values: \", kickstarter_dataset[column_to_look].nunique())\n",
    "print(\"unique value별 개수:\\n\", kickstarter_dataset[column_to_look].value_counts()) #normalize=True -- 비율 집계\n",
    "print(\"data size: \", kickstarter_dataset[column_to_look].size)\n",
    "print(\"dtype: \", type(kickstarter_dataset[column_to_look][0]))\n",
    "print(\"null/nan 수: \", kickstarter_dataset[column_to_look].isna().sum())\n",
    "print(\"-----------------------------\")\n",
    "print(\"데이터 형태 예시\\n\")\n",
    "print(kickstarter_dataset[column_to_look][0])"
   ]
  },
  {
   "cell_type": "markdown",
   "metadata": {},
   "source": [
    "## created_at\n",
    "- 펀딩 프로젝트가 만들어진 시간 (milliseconds)"
   ]
  },
  {
   "cell_type": "code",
   "execution_count": 59,
   "metadata": {},
   "outputs": [
    {
     "name": "stdout",
     "output_type": "stream",
     "text": [
      "unique values:  188280\n",
      "data size:  215800\n",
      "dtype:  <class 'numpy.int64'>\n",
      "null/nan 수:  0\n",
      "-----------------------------\n",
      "데이터 형태 예시\n",
      "\n",
      "1561554849\n"
     ]
    }
   ],
   "source": [
    "column_to_look = 'created_at'\n",
    "print(\"unique values: \", kickstarter_dataset[column_to_look].nunique())\n",
    "#print(\"unique value별 개수:\\n\", kickstarter_dataset[column_to_look].value_counts()) #normalize=True -- 비율 집계\n",
    "print(\"data size: \", kickstarter_dataset[column_to_look].size)\n",
    "print(\"dtype: \", type(kickstarter_dataset[column_to_look][0]))\n",
    "print(\"null/nan 수: \", kickstarter_dataset[column_to_look].isna().sum())\n",
    "print(\"-----------------------------\")\n",
    "print(\"데이터 형태 예시\\n\")\n",
    "print(kickstarter_dataset[column_to_look][0])"
   ]
  },
  {
   "cell_type": "code",
   "execution_count": null,
   "metadata": {
    "colab": {},
    "colab_type": "code",
    "id": "4kgI5rO5AG-l",
    "outputId": "ba9f021c-21b3-4657-ebad-b77ebb41db37"
   },
   "outputs": [
    {
     "name": "stdout",
     "output_type": "stream",
     "text": [
      "0   2019-06-26 13:14:09\n",
      "1   2015-08-05 02:11:53\n",
      "2   2018-06-07 19:53:22\n",
      "Name: created_at, dtype: datetime64[ns]\n",
      "215797   2019-05-16 19:20:15\n",
      "215798   2014-07-08 22:35:09\n",
      "215799   2013-06-08 14:12:57\n",
      "Name: created_at, dtype: datetime64[ns]\n",
      "first project:  2009-04-22 02:11:10\n",
      "last project:  2019-12-12 02:42:36\n"
     ]
    }
   ],
   "source": [
    "#'created_at' 컬럼 datetime형식으로 변경\n",
    "date_created_s = concatenated_df['created_at']\n",
    "date_created = pd.to_datetime(date_created_s, unit='s')\n",
    "print(date_created.head(3))\n",
    "print(date_created.tail(3))\n",
    "print(\"first project: \", date_created.min())\n",
    "print(\"last project: \", date_created.max())"
   ]
  },
  {
   "cell_type": "code",
   "execution_count": null,
   "metadata": {},
   "outputs": [],
   "source": [
    "#생성한 datetime 컬럼 dataframe에 삽입\n",
    "concatenated_df.insert(7, 'date_created', date_created)"
   ]
  },
  {
   "cell_type": "markdown",
   "metadata": {},
   "source": [
    "## date_created\n",
    "- 펀딩 프로젝트가 만들어진 날짜 (datetime 형태)"
   ]
  },
  {
   "cell_type": "code",
   "execution_count": 60,
   "metadata": {},
   "outputs": [
    {
     "name": "stdout",
     "output_type": "stream",
     "text": [
      "unique values:  188280\n",
      "data size:  215800\n",
      "dtype:  <class 'pandas._libs.tslibs.timestamps.Timestamp'>\n",
      "null/nan 수:  0\n",
      "-----------------------------\n",
      "데이터 형태 예시\n",
      "\n",
      "2019-06-26 13:14:09\n"
     ]
    }
   ],
   "source": [
    "column_to_look = 'date_created'\n",
    "print(\"unique values: \", kickstarter_dataset[column_to_look].nunique())\n",
    "#print(\"unique value별 개수:\\n\", kickstarter_dataset[column_to_look].value_counts()) #normalize=True -- 비율 집계\n",
    "print(\"data size: \", kickstarter_dataset[column_to_look].size)\n",
    "print(\"dtype: \", type(kickstarter_dataset[column_to_look][0]))\n",
    "print(\"null/nan 수: \", kickstarter_dataset[column_to_look].isna().sum())\n",
    "print(\"-----------------------------\")\n",
    "print(\"데이터 형태 예시\\n\")\n",
    "print(kickstarter_dataset[column_to_look][0])"
   ]
  },
  {
   "cell_type": "markdown",
   "metadata": {},
   "source": [
    "## creator\n",
    "- 펀딩 프로젝트 만든이 정보 (dictionary 형태)"
   ]
  },
  {
   "cell_type": "code",
   "execution_count": 61,
   "metadata": {},
   "outputs": [
    {
     "name": "stdout",
     "output_type": "stream",
     "text": [
      "unique values:  215165\n",
      "data size:  215800\n",
      "dtype:  <class 'str'>\n",
      "null/nan 수:  0\n",
      "-----------------------------\n",
      "데이터 형태 예시\n",
      "\n",
      "{\"id\":469036700,\"name\":\"Camille de Germond\",\"is_registered\":null,\"chosen_currency\":null,\"is_superbacker\":null,\"avatar\":{\"thumb\":\"https://ksr-ugc.imgix.net/assets/025/618/811/ca566ff21d110f9cbe451cc60e5f6c81_original.jpeg?ixlib=rb-2.1.0&w=40&h=40&fit=crop&v=1561558757&auto=format&frame=1&q=92&s=81691e924e37a2ffca7b5e901ff944d6\",\"small\":\"https://ksr-ugc.imgix.net/assets/025/618/811/ca566ff21d110f9cbe451cc60e5f6c81_original.jpeg?ixlib=rb-2.1.0&w=160&h=160&fit=crop&v=1561558757&auto=format&frame=1&q=92&s=4ff5ad957532e8b7ffa9268d15f3ffb1\",\"medium\":\"https://ksr-ugc.imgix.net/assets/025/618/811/ca566ff21d110f9cbe451cc60e5f6c81_original.jpeg?ixlib=rb-2.1.0&w=160&h=160&fit=crop&v=1561558757&auto=format&frame=1&q=92&s=4ff5ad957532e8b7ffa9268d15f3ffb1\"},\"urls\":{\"web\":{\"user\":\"https://www.kickstarter.com/profile/469036700\"},\"api\":{\"user\":\"https://api.kickstarter.com/v1/users/469036700?signature=1576212594.3913eae0433e83a23dfa9662805147a43a5cedf1\"}}}\n"
     ]
    }
   ],
   "source": [
    "column_to_look = 'creator'\n",
    "print(\"unique values: \", kickstarter_dataset[column_to_look].nunique())\n",
    "#print(\"unique value별 개수:\\n\", kickstarter_dataset[column_to_look].value_counts()) #normalize=True -- 비율 집계\n",
    "print(\"data size: \", kickstarter_dataset[column_to_look].size)\n",
    "print(\"dtype: \", type(kickstarter_dataset[column_to_look][0]))\n",
    "print(\"null/nan 수: \", kickstarter_dataset[column_to_look].isna().sum())\n",
    "print(\"-----------------------------\")\n",
    "print(\"데이터 형태 예시\\n\")\n",
    "print(kickstarter_dataset[column_to_look][0])"
   ]
  },
  {
   "cell_type": "markdown",
   "metadata": {},
   "source": [
    "## currency\n",
    "- 펀딩 프로젝트에 설정된 돈 단위"
   ]
  },
  {
   "cell_type": "code",
   "execution_count": 63,
   "metadata": {},
   "outputs": [
    {
     "name": "stdout",
     "output_type": "stream",
     "text": [
      "unique values:  14\n",
      "unique value별 개수:\n",
      " USD    149987\n",
      "GBP     24540\n",
      "EUR     15580\n",
      "CAD     10162\n",
      "AUD      5228\n",
      "MXN      2880\n",
      "SEK      1550\n",
      "HKD      1376\n",
      "NZD       978\n",
      "DKK       958\n",
      "SGD       801\n",
      "CHF       735\n",
      "NOK       521\n",
      "JPY       504\n",
      "Name: currency, dtype: int64\n",
      "data size:  215800\n",
      "dtype:  <class 'str'>\n",
      "null/nan 수:  0\n",
      "-----------------------------\n",
      "데이터 형태 예시\n",
      "\n",
      "EUR\n"
     ]
    }
   ],
   "source": [
    "column_to_look = 'currency'\n",
    "print(\"unique values: \", kickstarter_dataset[column_to_look].nunique())\n",
    "print(\"unique value별 개수:\\n\", kickstarter_dataset[column_to_look].value_counts()) #normalize=True -- 비율 집계\n",
    "print(\"data size: \", kickstarter_dataset[column_to_look].size)\n",
    "print(\"dtype: \", type(kickstarter_dataset[column_to_look][0]))\n",
    "print(\"null/nan 수: \", kickstarter_dataset[column_to_look].isna().sum())\n",
    "print(\"-----------------------------\")\n",
    "print(\"데이터 형태 예시\\n\")\n",
    "print(kickstarter_dataset[column_to_look][0])"
   ]
  },
  {
   "cell_type": "markdown",
   "metadata": {},
   "source": [
    "## currency_symbol\n",
    "- 펀딩 프로젝트에 설정된 돈 단위 상징"
   ]
  },
  {
   "cell_type": "code",
   "execution_count": 65,
   "metadata": {},
   "outputs": [
    {
     "name": "stdout",
     "output_type": "stream",
     "text": [
      "unique values:  6\n",
      "unique value별 개수:\n",
      " $      171412\n",
      "£       24540\n",
      "€       15580\n",
      "kr       3029\n",
      "Fr        735\n",
      "¥         504\n",
      "Name: currency_symbol, dtype: int64\n",
      "data size:  215800\n",
      "dtype:  <class 'str'>\n",
      "null/nan 수:  0\n",
      "-----------------------------\n",
      "데이터 형태 예시\n",
      "\n",
      "€\n"
     ]
    }
   ],
   "source": [
    "column_to_look = 'currency_symbol'\n",
    "print(\"unique values: \", kickstarter_dataset[column_to_look].nunique())\n",
    "print(\"unique value별 개수:\\n\", kickstarter_dataset[column_to_look].value_counts()) #normalize=True -- 비율 집계\n",
    "print(\"data size: \", kickstarter_dataset[column_to_look].size)\n",
    "print(\"dtype: \", type(kickstarter_dataset[column_to_look][0]))\n",
    "print(\"null/nan 수: \", kickstarter_dataset[column_to_look].isna().sum())\n",
    "print(\"-----------------------------\")\n",
    "print(\"데이터 형태 예시\\n\")\n",
    "print(kickstarter_dataset[column_to_look][0])"
   ]
  },
  {
   "cell_type": "markdown",
   "metadata": {},
   "source": [
    "## currency_trailing_code"
   ]
  },
  {
   "cell_type": "code",
   "execution_count": 66,
   "metadata": {},
   "outputs": [
    {
     "name": "stdout",
     "output_type": "stream",
     "text": [
      "unique values:  2\n",
      "unique value별 개수:\n",
      " True     174441\n",
      "False     41359\n",
      "Name: currency_trailing_code, dtype: int64\n",
      "data size:  215800\n",
      "dtype:  <class 'numpy.bool_'>\n",
      "null/nan 수:  0\n",
      "-----------------------------\n",
      "데이터 형태 예시\n",
      "\n",
      "False\n"
     ]
    }
   ],
   "source": [
    "column_to_look = 'currency_trailing_code'\n",
    "print(\"unique values: \", kickstarter_dataset[column_to_look].nunique())\n",
    "print(\"unique value별 개수:\\n\", kickstarter_dataset[column_to_look].value_counts()) #normalize=True -- 비율 집계\n",
    "print(\"data size: \", kickstarter_dataset[column_to_look].size)\n",
    "print(\"dtype: \", type(kickstarter_dataset[column_to_look][0]))\n",
    "print(\"null/nan 수: \", kickstarter_dataset[column_to_look].isna().sum())\n",
    "print(\"-----------------------------\")\n",
    "print(\"데이터 형태 예시\\n\")\n",
    "print(kickstarter_dataset[column_to_look][0])"
   ]
  },
  {
   "cell_type": "markdown",
   "metadata": {},
   "source": [
    "## current_currency\n",
    "- 단위 변환 후의 현재 돈 단위"
   ]
  },
  {
   "cell_type": "code",
   "execution_count": 68,
   "metadata": {},
   "outputs": [
    {
     "name": "stdout",
     "output_type": "stream",
     "text": [
      "unique values:  5\n",
      "unique value별 개수:\n",
      " USD    215656\n",
      "GBP        48\n",
      "CAD        48\n",
      "AUD        36\n",
      "EUR        12\n",
      "Name: current_currency, dtype: int64\n",
      "data size:  215800\n",
      "dtype:  <class 'str'>\n",
      "null/nan 수:  0\n",
      "-----------------------------\n",
      "데이터 형태 예시\n",
      "\n",
      "USD\n"
     ]
    }
   ],
   "source": [
    "column_to_look = 'current_currency'\n",
    "print(\"unique values: \", kickstarter_dataset[column_to_look].nunique())\n",
    "print(\"unique value별 개수:\\n\", kickstarter_dataset[column_to_look].value_counts()) #normalize=True -- 비율 집계\n",
    "print(\"data size: \", kickstarter_dataset[column_to_look].size)\n",
    "print(\"dtype: \", type(kickstarter_dataset[column_to_look][0]))\n",
    "print(\"null/nan 수: \", kickstarter_dataset[column_to_look].isna().sum())\n",
    "print(\"-----------------------------\")\n",
    "print(\"데이터 형태 예시\\n\")\n",
    "print(kickstarter_dataset[column_to_look][0])"
   ]
  },
  {
   "cell_type": "code",
   "execution_count": null,
   "metadata": {},
   "outputs": [],
   "source": [
    "#다른 label이 5개나 있다\n",
    "#만약 필요하다면 currency는 다 통일"
   ]
  },
  {
   "cell_type": "markdown",
   "metadata": {},
   "source": [
    "## deadline\n",
    "- 펀딩 마감 시간 (milliseconds)"
   ]
  },
  {
   "cell_type": "code",
   "execution_count": 69,
   "metadata": {},
   "outputs": [
    {
     "name": "stdout",
     "output_type": "stream",
     "text": [
      "unique values:  176815\n",
      "data size:  215800\n",
      "dtype:  <class 'numpy.int64'>\n",
      "null/nan 수:  0\n",
      "-----------------------------\n",
      "데이터 형태 예시\n",
      "\n",
      "1566744397\n"
     ]
    }
   ],
   "source": [
    "column_to_look = 'deadline'\n",
    "print(\"unique values: \", kickstarter_dataset[column_to_look].nunique())\n",
    "#print(\"unique value별 개수:\\n\", kickstarter_dataset[column_to_look].value_counts()) #normalize=True -- 비율 집계\n",
    "print(\"data size: \", kickstarter_dataset[column_to_look].size)\n",
    "print(\"dtype: \", type(kickstarter_dataset[column_to_look][0]))\n",
    "print(\"null/nan 수: \", kickstarter_dataset[column_to_look].isna().sum())\n",
    "print(\"-----------------------------\")\n",
    "print(\"데이터 형태 예시\\n\")\n",
    "print(kickstarter_dataset[column_to_look][0])"
   ]
  },
  {
   "cell_type": "code",
   "execution_count": null,
   "metadata": {
    "colab": {},
    "colab_type": "code",
    "id": "fwYGyflgAG-z",
    "outputId": "f99e16ad-3310-4063-d9ce-6386ea0f826b"
   },
   "outputs": [
    {
     "name": "stdout",
     "output_type": "stream",
     "text": [
      "0   2019-08-25 14:46:37\n",
      "1   2015-09-14 04:19:27\n",
      "2   2018-08-18 15:43:54\n",
      "Name: deadline, dtype: datetime64[ns]\n",
      "215797   2019-07-16 06:59:00\n",
      "215798   2014-08-31 22:35:00\n",
      "215799   2015-04-08 17:20:06\n",
      "Name: deadline, dtype: datetime64[ns]\n",
      "first project:  2009-05-16 09:59:00\n",
      "last project:  2020-02-10 04:37:15\n"
     ]
    }
   ],
   "source": [
    "#'deadline' 컬럼 datetime형식으로 변경\n",
    "deadline_s = concatenated_df['deadline']\n",
    "date_deadline = pd.to_datetime(deadline_s, unit='s')\n",
    "print(date_deadline.head(3))\n",
    "print(date_deadline.tail(3))\n",
    "print(\"first project: \", date_deadline.min())\n",
    "print(\"last project: \", date_deadline.max())"
   ]
  },
  {
   "cell_type": "code",
   "execution_count": null,
   "metadata": {},
   "outputs": [],
   "source": [
    "#생성한 datetime 컬럼 dataframe에 삽입\n",
    "concatenated_df.insert(14, 'date_deadline', date_deadline)"
   ]
  },
  {
   "cell_type": "markdown",
   "metadata": {},
   "source": [
    "## date_deadline\n",
    "- 펀딩 마감 날짜 (datetime 형태)"
   ]
  },
  {
   "cell_type": "code",
   "execution_count": 70,
   "metadata": {},
   "outputs": [
    {
     "name": "stdout",
     "output_type": "stream",
     "text": [
      "unique values:  176815\n",
      "data size:  215800\n",
      "dtype:  <class 'pandas._libs.tslibs.timestamps.Timestamp'>\n",
      "null/nan 수:  0\n",
      "-----------------------------\n",
      "데이터 형태 예시\n",
      "\n",
      "2019-08-25 14:46:37\n"
     ]
    }
   ],
   "source": [
    "column_to_look = 'date_deadline'\n",
    "print(\"unique values: \", kickstarter_dataset[column_to_look].nunique())\n",
    "#print(\"unique value별 개수:\\n\", kickstarter_dataset[column_to_look].value_counts()) #normalize=True -- 비율 집계\n",
    "print(\"data size: \", kickstarter_dataset[column_to_look].size)\n",
    "print(\"dtype: \", type(kickstarter_dataset[column_to_look][0]))\n",
    "print(\"null/nan 수: \", kickstarter_dataset[column_to_look].isna().sum())\n",
    "print(\"-----------------------------\")\n",
    "print(\"데이터 형태 예시\\n\")\n",
    "print(kickstarter_dataset[column_to_look][0])"
   ]
  },
  {
   "cell_type": "markdown",
   "metadata": {},
   "source": [
    "## disable_communication\n",
    "- 펀딩 크리에이터와의 커뮤니케이션 가능 유무"
   ]
  },
  {
   "cell_type": "code",
   "execution_count": 109,
   "metadata": {},
   "outputs": [
    {
     "name": "stdout",
     "output_type": "stream",
     "text": [
      "unique values:  2\n",
      "unique value별 개수:\n",
      " False    215152\n",
      "True        648\n",
      "Name: disable_communication, dtype: int64\n",
      "data size:  215800\n",
      "dtype:  <class 'numpy.bool_'>\n",
      "null/nan 수:  0\n",
      "-----------------------------\n",
      "데이터 형태 예시\n",
      "\n",
      "False    215152\n",
      "True        648\n",
      "Name: disable_communication, dtype: int64\n"
     ]
    }
   ],
   "source": [
    "column_to_look = 'disable_communication'\n",
    "print(\"unique values: \", kickstarter_dataset[column_to_look].nunique())\n",
    "print(\"unique value별 개수:\\n\", kickstarter_dataset[column_to_look].value_counts()) #normalize=True -- 비율 집계\n",
    "print(\"data size: \", kickstarter_dataset[column_to_look].size)\n",
    "print(\"dtype: \", type(kickstarter_dataset[column_to_look][0]))\n",
    "print(\"null/nan 수: \", kickstarter_dataset[column_to_look].isna().sum())\n",
    "print(\"-----------------------------\")\n",
    "print(\"데이터 형태 예시\\n\")\n",
    "print(kickstarter_dataset[column_to_look].value_counts())"
   ]
  },
  {
   "cell_type": "markdown",
   "metadata": {},
   "source": [
    "## friends"
   ]
  },
  {
   "cell_type": "code",
   "execution_count": 85,
   "metadata": {},
   "outputs": [
    {
     "name": "stdout",
     "output_type": "stream",
     "text": [
      "unique values:  27\n",
      "data size:  215800\n",
      "dtype:  <class 'float'>\n",
      "null/nan 수:  215548\n",
      "-----------------------------\n",
      "데이터 형태 예시\n",
      "\n",
      "[{\"id\":1528750001,\"name\":\"Blacklist Games\",\"slug\":\"blacklistgames\",\"is_registered\":null,\"chosen_currency\":null,\"is_superbacker\":null,\"avatar\":{\"thumb\":\"https://ksr-ugc.imgix.net/assets/012/512/828/b761b350a991b24b42622274f46bb375_original.png?ixlib=rb-2.1.0&w=40&h=40&fit=crop&v=1464152704&auto=format&frame=1&q=92&s=0761c36aa7a5a934c927d9ca41f332c1\",\"small\":\"https://ksr-ugc.imgix.net/assets/012/512/828/b761b350a991b24b42622274f46bb375_original.png?ixlib=rb-2.1.0&w=160&h=160&fit=crop&v=1464152704&auto=format&frame=1&q=92&s=ca895cc6d08253e9d9eb56e2b5ab9f3a\",\"medium\":\"https://ksr-ugc.imgix.net/assets/012/512/828/b761b350a991b24b42622274f46bb375_original.png?ixlib=rb-2.1.0&w=160&h=160&fit=crop&v=1464152704&auto=format&frame=1&q=92&s=ca895cc6d08253e9d9eb56e2b5ab9f3a\"},\"urls\":{\"web\":{\"user\":\"https://www.kickstarter.com/profile/blacklistgames\"},\"api\":{\"user\":\"https://api.kickstarter.com/v1/users/1528750001?signature=1576211015.2dbb000da9ab5d21d717071215b1b9b44463f1db\"}}}]    1\n",
      "Name: friends, dtype: int64\n"
     ]
    }
   ],
   "source": [
    "column_to_look = 'friends'\n",
    "print(\"unique values: \", kickstarter_dataset[column_to_look].nunique())\n",
    "#print(\"unique value별 개수:\\n\", kickstarter_dataset[column_to_look].value_counts()) #normalize=True -- 비율 집계\n",
    "print(\"data size: \", kickstarter_dataset[column_to_look].size)\n",
    "print(\"dtype: \", type(kickstarter_dataset[column_to_look][0]))\n",
    "print(\"null/nan 수: \", kickstarter_dataset[column_to_look].isna().sum())\n",
    "print(\"-----------------------------\")\n",
    "print(\"데이터 형태 예시\\n\")\n",
    "print(kickstarter_dataset[column_to_look].value_counts()[1:2])"
   ]
  },
  {
   "cell_type": "markdown",
   "metadata": {},
   "source": [
    "## fx_rate\n",
    "- 환율 (Foreign Exchange Rate)"
   ]
  },
  {
   "cell_type": "code",
   "execution_count": 90,
   "metadata": {},
   "outputs": [
    {
     "name": "stdout",
     "output_type": "stream",
     "text": [
      "unique values:  56\n",
      "data size:  215800\n",
      "dtype:  <class 'numpy.float64'>\n",
      "null/nan 수:  0\n",
      "-----------------------------\n",
      "데이터 형태 예시\n",
      "\n",
      "1.000000    149922\n",
      "1.313810     14535\n",
      "1.321770      9993\n",
      "1.108973      9648\n",
      "0.755601      6216\n",
      "Name: fx_rate, dtype: int64\n"
     ]
    }
   ],
   "source": [
    "column_to_look = 'fx_rate'\n",
    "print(\"unique values: \", kickstarter_dataset[column_to_look].nunique())\n",
    "#print(\"unique value별 개수:\\n\", kickstarter_dataset[column_to_look].value_counts()) #normalize=True -- 비율 집계\n",
    "print(\"data size: \", kickstarter_dataset[column_to_look].size)\n",
    "print(\"dtype: \", type(kickstarter_dataset[column_to_look][0]))\n",
    "print(\"null/nan 수: \", kickstarter_dataset[column_to_look].isna().sum())\n",
    "print(\"-----------------------------\")\n",
    "print(\"데이터 형태 예시\\n\")\n",
    "print(kickstarter_dataset[column_to_look].value_counts().head())"
   ]
  },
  {
   "cell_type": "markdown",
   "metadata": {},
   "source": [
    "## goal\n",
    "- 목표 모금액 (in local currency)"
   ]
  },
  {
   "cell_type": "code",
   "execution_count": 91,
   "metadata": {},
   "outputs": [
    {
     "name": "stdout",
     "output_type": "stream",
     "text": [
      "unique values:  5370\n",
      "data size:  215800\n",
      "dtype:  <class 'numpy.float64'>\n",
      "null/nan 수:  0\n",
      "-----------------------------\n",
      "데이터 형태 예시\n",
      "\n",
      "600.0\n"
     ]
    }
   ],
   "source": [
    "column_to_look = 'goal'\n",
    "print(\"unique values: \", kickstarter_dataset[column_to_look].nunique())\n",
    "#print(\"unique value별 개수:\\n\", kickstarter_dataset[column_to_look].value_counts()) #normalize=True -- 비율 집계\n",
    "print(\"data size: \", kickstarter_dataset[column_to_look].size)\n",
    "print(\"dtype: \", type(kickstarter_dataset[column_to_look][0]))\n",
    "print(\"null/nan 수: \", kickstarter_dataset[column_to_look].isna().sum())\n",
    "print(\"-----------------------------\")\n",
    "print(\"데이터 형태 예시\\n\")\n",
    "print(kickstarter_dataset[column_to_look][0])"
   ]
  },
  {
   "cell_type": "markdown",
   "metadata": {},
   "source": [
    "## id\n",
    "- 펀딩 프로젝트 ID"
   ]
  },
  {
   "cell_type": "code",
   "execution_count": 92,
   "metadata": {},
   "outputs": [
    {
     "name": "stdout",
     "output_type": "stream",
     "text": [
      "unique values:  188385\n",
      "data size:  215800\n",
      "dtype:  <class 'numpy.int64'>\n",
      "null/nan 수:  0\n",
      "-----------------------------\n",
      "데이터 형태 예시\n",
      "\n",
      "1458932991\n"
     ]
    }
   ],
   "source": [
    "column_to_look = 'id'\n",
    "print(\"unique values: \", kickstarter_dataset[column_to_look].nunique())\n",
    "#print(\"unique value별 개수:\\n\", kickstarter_dataset[column_to_look].value_counts()) #normalize=True -- 비율 집계\n",
    "print(\"data size: \", kickstarter_dataset[column_to_look].size)\n",
    "print(\"dtype: \", type(kickstarter_dataset[column_to_look][0]))\n",
    "print(\"null/nan 수: \", kickstarter_dataset[column_to_look].isna().sum())\n",
    "print(\"-----------------------------\")\n",
    "print(\"데이터 형태 예시\\n\")\n",
    "print(kickstarter_dataset[column_to_look][0])"
   ]
  },
  {
   "cell_type": "markdown",
   "metadata": {},
   "source": [
    "## is_backing"
   ]
  },
  {
   "cell_type": "code",
   "execution_count": 108,
   "metadata": {},
   "outputs": [
    {
     "name": "stdout",
     "output_type": "stream",
     "text": [
      "unique values:  2\n",
      "unique value별 개수:\n",
      " False    251\n",
      "True       1\n",
      "Name: is_backing, dtype: int64\n",
      "data size:  215800\n",
      "dtype:  <class 'float'>\n",
      "null/nan 수:  215548\n",
      "-----------------------------\n",
      "데이터 형태 예시\n",
      "\n",
      "False    251\n",
      "True       1\n",
      "Name: is_backing, dtype: int64\n"
     ]
    }
   ],
   "source": [
    "column_to_look = 'is_backing'\n",
    "print(\"unique values: \", kickstarter_dataset[column_to_look].nunique())\n",
    "print(\"unique value별 개수:\\n\", kickstarter_dataset[column_to_look].value_counts()) #normalize=True -- 비율 집계\n",
    "print(\"data size: \", kickstarter_dataset[column_to_look].size)\n",
    "print(\"dtype: \", type(kickstarter_dataset[column_to_look][0]))\n",
    "print(\"null/nan 수: \", kickstarter_dataset[column_to_look].isna().sum())\n",
    "print(\"-----------------------------\")\n",
    "print(\"데이터 형태 예시\\n\")\n",
    "print(kickstarter_dataset[column_to_look].value_counts())"
   ]
  },
  {
   "cell_type": "markdown",
   "metadata": {},
   "source": [
    "## is_starrable\n",
    "- 관심있는 펀딩 프로젝트에 등록 가능 유무 (관심 프로젝트로 등록하면 해당 펀딩 프로젝트의 진행과정을 계속 업데이트 받거나 추적할 수 있음)"
   ]
  },
  {
   "cell_type": "code",
   "execution_count": 107,
   "metadata": {},
   "outputs": [
    {
     "name": "stdout",
     "output_type": "stream",
     "text": [
      "unique values:  2\n",
      "unique value별 개수:\n",
      " False    210245\n",
      "True       5555\n",
      "Name: is_starrable, dtype: int64\n",
      "data size:  215800\n",
      "dtype:  <class 'numpy.bool_'>\n",
      "null/nan 수:  0\n",
      "-----------------------------\n",
      "데이터 형태 예시\n",
      "\n",
      "False    210245\n",
      "True       5555\n",
      "Name: is_starrable, dtype: int64\n"
     ]
    }
   ],
   "source": [
    "column_to_look = 'is_starrable'\n",
    "print(\"unique values: \", kickstarter_dataset[column_to_look].nunique())\n",
    "print(\"unique value별 개수:\\n\", kickstarter_dataset[column_to_look].value_counts()) #normalize=True -- 비율 집계\n",
    "print(\"data size: \", kickstarter_dataset[column_to_look].size)\n",
    "print(\"dtype: \", type(kickstarter_dataset[column_to_look][0]))\n",
    "print(\"null/nan 수: \", kickstarter_dataset[column_to_look].isna().sum())\n",
    "print(\"-----------------------------\")\n",
    "print(\"데이터 형태 예시\\n\")\n",
    "print(kickstarter_dataset[column_to_look].value_counts())"
   ]
  },
  {
   "cell_type": "markdown",
   "metadata": {},
   "source": [
    "## is_starred\n",
    "- 관심 프로젝트로 등록이 되었는지 유무"
   ]
  },
  {
   "cell_type": "code",
   "execution_count": 106,
   "metadata": {},
   "outputs": [
    {
     "name": "stdout",
     "output_type": "stream",
     "text": [
      "unique values:  2\n",
      "unique value별 개수:\n",
      " False    236\n",
      "True      16\n",
      "Name: is_starred, dtype: int64\n",
      "data size:  215800\n",
      "dtype:  <class 'float'>\n",
      "null/nan 수:  215548\n",
      "-----------------------------\n",
      "데이터 형태 예시\n",
      "\n",
      "False    236\n",
      "True      16\n",
      "Name: is_starred, dtype: int64\n"
     ]
    }
   ],
   "source": [
    "column_to_look = 'is_starred'\n",
    "print(\"unique values: \", kickstarter_dataset[column_to_look].nunique())\n",
    "print(\"unique value별 개수:\\n\", kickstarter_dataset[column_to_look].value_counts()) #normalize=True -- 비율 집계\n",
    "print(\"data size: \", kickstarter_dataset[column_to_look].size)\n",
    "print(\"dtype: \", type(kickstarter_dataset[column_to_look][0]))\n",
    "print(\"null/nan 수: \", kickstarter_dataset[column_to_look].isna().sum())\n",
    "print(\"-----------------------------\")\n",
    "print(\"데이터 형태 예시\\n\")\n",
    "print(kickstarter_dataset[column_to_look].value_counts())"
   ]
  },
  {
   "cell_type": "markdown",
   "metadata": {},
   "source": [
    "## launched_at\n",
    "- 펀딩 프로젝트 런칭 시간 (milliseconds)"
   ]
  },
  {
   "cell_type": "code",
   "execution_count": 111,
   "metadata": {},
   "outputs": [
    {
     "name": "stdout",
     "output_type": "stream",
     "text": [
      "unique values:  188222\n",
      "data size:  215800\n",
      "dtype:  <class 'numpy.int64'>\n",
      "null/nan 수:  0\n",
      "-----------------------------\n",
      "데이터 형태 예시\n",
      "\n",
      "1561560397\n"
     ]
    }
   ],
   "source": [
    "column_to_look = 'launched_at'\n",
    "print(\"unique values: \", kickstarter_dataset[column_to_look].nunique())\n",
    "#print(\"unique value별 개수:\\n\", kickstarter_dataset[column_to_look].value_counts()) #normalize=True -- 비율 집계\n",
    "print(\"data size: \", kickstarter_dataset[column_to_look].size)\n",
    "print(\"dtype: \", type(kickstarter_dataset[column_to_look][0]))\n",
    "print(\"null/nan 수: \", kickstarter_dataset[column_to_look].isna().sum())\n",
    "print(\"-----------------------------\")\n",
    "print(\"데이터 형태 예시\\n\")\n",
    "print(kickstarter_dataset[column_to_look][0])"
   ]
  },
  {
   "cell_type": "code",
   "execution_count": null,
   "metadata": {
    "colab": {},
    "colab_type": "code",
    "id": "WRjAmeNBAG-q",
    "outputId": "0d53fff9-787a-44b0-e03c-a8885a3cb294"
   },
   "outputs": [
    {
     "name": "stdout",
     "output_type": "stream",
     "text": [
      "0   2019-06-26 14:46:37\n",
      "1   2015-08-15 04:19:27\n",
      "2   2018-06-19 15:43:54\n",
      "Name: launched_at, dtype: datetime64[ns]\n",
      "215797   2019-06-15 12:54:21\n",
      "215798   2014-07-21 20:01:35\n",
      "215799   2015-03-09 17:20:06\n",
      "Name: launched_at, dtype: datetime64[ns]\n",
      "first project:  2009-04-25 15:36:21\n",
      "last project:  2019-12-12 05:10:43\n"
     ]
    }
   ],
   "source": [
    "#'launched_at' 컬럼 datetime형식으로 변경\n",
    "launch_date_s = concatenated_df['launched_at']\n",
    "date_launched = pd.to_datetime(launch_date_s, unit='s')\n",
    "print(date_launched.head(3))\n",
    "print(date_launched.tail(3))\n",
    "print(\"first project: \", date_launched.min())\n",
    "print(\"last project: \", date_launched.max())\n",
    "# profile이 created된 날짜랑 launched된 날짜가 다른 것들 존재"
   ]
  },
  {
   "cell_type": "code",
   "execution_count": null,
   "metadata": {},
   "outputs": [],
   "source": [
    "#생성한 datetime 컬럼 dataframe에 삽입\n",
    "concatenated_df.insert(24, 'date_launched', date_launched)"
   ]
  },
  {
   "cell_type": "markdown",
   "metadata": {},
   "source": [
    "## date_launched\n",
    "- 펀딩 런칭 날짜 (datetime 형태)"
   ]
  },
  {
   "cell_type": "code",
   "execution_count": 113,
   "metadata": {},
   "outputs": [
    {
     "name": "stdout",
     "output_type": "stream",
     "text": [
      "unique values:  188222\n",
      "data size:  215800\n",
      "dtype:  <class 'pandas._libs.tslibs.timestamps.Timestamp'>\n",
      "null/nan 수:  0\n",
      "-----------------------------\n",
      "데이터 형태 예시\n",
      "\n",
      "2019-06-26 14:46:37\n"
     ]
    }
   ],
   "source": [
    "column_to_look = 'date_launched'\n",
    "print(\"unique values: \", kickstarter_dataset[column_to_look].nunique())\n",
    "#print(\"unique value별 개수:\\n\", kickstarter_dataset[column_to_look].value_counts()) #normalize=True -- 비율 집계\n",
    "print(\"data size: \", kickstarter_dataset[column_to_look].size)\n",
    "print(\"dtype: \", type(kickstarter_dataset[column_to_look][0]))\n",
    "print(\"null/nan 수: \", kickstarter_dataset[column_to_look].isna().sum())\n",
    "print(\"-----------------------------\")\n",
    "print(\"데이터 형태 예시\\n\")\n",
    "print(kickstarter_dataset[column_to_look][0])"
   ]
  },
  {
   "cell_type": "markdown",
   "metadata": {},
   "source": [
    "## location\n",
    "- 펀딩 위치/지역 정보"
   ]
  },
  {
   "cell_type": "code",
   "execution_count": 115,
   "metadata": {},
   "outputs": [
    {
     "name": "stdout",
     "output_type": "stream",
     "text": [
      "unique values:  15473\n",
      "data size:  215800\n",
      "dtype:  <class 'str'>\n",
      "null/nan 수:  217\n",
      "-----------------------------\n",
      "데이터 형태 예시\n",
      "\n",
      "{'id': 12665488, 'name': 'Ste.-Maxime', 'slug': 'ste-maxime-var-fr', 'short_name': 'Ste.-Maxime, France', 'displayable_name': 'Ste.-Maxime, France', 'localized_name': 'Ste.-Maxime', 'country': 'FR', 'state': \"Provence-Alpes-Cote d'Azur\", 'type': 'LocalAdmin', 'is_root': False, 'expanded_country': 'France', 'urls': {'web': {'discover': 'https://www.kickstarter.com/discover/places/ste-maxime-var-fr', 'location': 'https://www.kickstarter.com/locations/ste-maxime-var-fr'}, 'api': {'nearby_projects': 'https://api.kickstarter.com/v1/discover?signature=1576191242.5a0210773ec3677f3f235ec1f32cc75d563f4be5&woe_id=12665488'}}}\n"
     ]
    }
   ],
   "source": [
    "column_to_look = 'location'\n",
    "print(\"unique values: \", kickstarter_dataset[column_to_look].nunique())\n",
    "#print(\"unique value별 개수:\\n\", kickstarter_dataset[column_to_look].value_counts()) #normalize=True -- 비율 집계\n",
    "print(\"data size: \", kickstarter_dataset[column_to_look].size)\n",
    "print(\"dtype: \", type(kickstarter_dataset[column_to_look][0]))\n",
    "print(\"null/nan 수: \", kickstarter_dataset[column_to_look].isna().sum())\n",
    "print(\"-----------------------------\")\n",
    "print(\"데이터 형태 예시\\n\")\n",
    "print(kickstarter_dataset[column_to_look][0])"
   ]
  },
  {
   "cell_type": "code",
   "execution_count": null,
   "metadata": {},
   "outputs": [],
   "source": [
    "#'location'컬럼 또한 형태만 dictionary이지만 타입이 string이다"
   ]
  },
  {
   "cell_type": "code",
   "execution_count": null,
   "metadata": {},
   "outputs": [],
   "source": [
    "#정규표현식(regular expression)으로 location 'name: ... ' 부분만 추출 시도\n",
    "import re\n",
    "\n",
    "def search_location(x):\n",
    "    s_l = re.search(r\"(\\\"name\\\"):(\\\".+?\\\")\", x)\n",
    "    print(s_l.group(2))\n",
    "\n",
    "location_re = kickstarter_dataset['location'].apply(lambda x: search_location(x))\n",
    "\n",
    "# 결측치로 인하여 오류"
   ]
  },
  {
   "cell_type": "code",
   "execution_count": null,
   "metadata": {},
   "outputs": [],
   "source": [
    "# 결측치는 나중에 전처리 과정에서 처리하고\n",
    "# 우선 'location'컬럼 string --> dictionary로 전환\n",
    "# 결측치의 존재로 json.loads()과 eval() 둘 다 안 되기에, 다른 방법 시도"
   ]
  },
  {
   "cell_type": "code",
   "execution_count": 61,
   "metadata": {},
   "outputs": [
    {
     "data": {
      "text/plain": [
       "0    {'id': 12665488, 'name': 'Ste.-Maxime', 'slug'...\n",
       "1    {'id': 2452078, 'name': 'Minneapolis', 'slug':...\n",
       "2    {'id': 44418, 'name': 'London', 'slug': 'londo...\n",
       "3    {'id': 2459115, 'name': 'New York', 'slug': 'n...\n",
       "4    {'id': 2441116, 'name': 'Logan', 'slug': 'loga...\n",
       "Name: location, dtype: object"
      ]
     },
     "execution_count": 61,
     "metadata": {},
     "output_type": "execute_result"
    }
   ],
   "source": [
    "#결측치 부분은 그냥 스킵하고 json.loads될 수 있도록 설계\n",
    "import json\n",
    "\n",
    "def json_loads(x):\n",
    "    if pd.isna(x) == False:\n",
    "        j = json.loads(x)\n",
    "        return j\n",
    "\n",
    "location_dic = kickstarter_dataset['location'].apply(lambda x: json_loads(x))\n",
    "location_dic.head()"
   ]
  },
  {
   "cell_type": "code",
   "execution_count": 62,
   "metadata": {},
   "outputs": [
    {
     "name": "stdout",
     "output_type": "stream",
     "text": [
      "<class 'dict'>\n",
      "217\n"
     ]
    }
   ],
   "source": [
    "print(type(location_dic[0])) #데이터 타입이 dict로 바뀜"
   ]
  },
  {
   "cell_type": "code",
   "execution_count": 63,
   "metadata": {},
   "outputs": [
    {
     "data": {
      "text/plain": [
       "'Ste.-Maxime'"
      ]
     },
     "execution_count": 63,
     "metadata": {},
     "output_type": "execute_result"
    }
   ],
   "source": [
    "location_dic[0]['name'] #key 값 조회 가능"
   ]
  },
  {
   "cell_type": "code",
   "execution_count": 86,
   "metadata": {},
   "outputs": [],
   "source": [
    "kickstarter_data['location'] = location_dic #컬럼 대체"
   ]
  },
  {
   "cell_type": "code",
   "execution_count": 148,
   "metadata": {},
   "outputs": [
    {
     "name": "stdout",
     "output_type": "stream",
     "text": [
      "215800\n",
      "<class 'str'>\n",
      "217\n"
     ]
    },
    {
     "data": {
      "text/plain": [
       "'Ste.-Maxime'"
      ]
     },
     "execution_count": 148,
     "metadata": {},
     "output_type": "execute_result"
    }
   ],
   "source": [
    "#'location' dictionary에서 'name' key만 추출 (지역 이름)\n",
    "def get_loc_name(x):\n",
    "    if pd.isna(x) == False:\n",
    "        loc_name = x['name']\n",
    "        return loc_name\n",
    "\n",
    "location_name = kickstarter_data['location'].apply(lambda x: get_loc_name(x))\n",
    "\n",
    "print(location_name.size)\n",
    "print(type(location_name[0]))\n",
    "print(location_name.isna().sum())\n",
    "location_name[0]"
   ]
  },
  {
   "cell_type": "code",
   "execution_count": null,
   "metadata": {},
   "outputs": [],
   "source": [
    "#추출한 location_name --> 데이터셋에 새 컬럼으로 삽입\n",
    "kickstarter_data.insert(28, 'location_name', location_name)"
   ]
  },
  {
   "cell_type": "markdown",
   "metadata": {},
   "source": [
    "## location_name\n",
    "- 펀딩 위치/지역 이름"
   ]
  },
  {
   "cell_type": "code",
   "execution_count": 116,
   "metadata": {},
   "outputs": [
    {
     "name": "stdout",
     "output_type": "stream",
     "text": [
      "unique values:  13060\n",
      "unique value별 개수:\n",
      " Los Angeles           9771\n",
      "London                8458\n",
      "New York              8124\n",
      "Chicago               3886\n",
      "San Francisco         3378\n",
      "                      ... \n",
      "Chetek                   1\n",
      "Kawaihae                 1\n",
      "St.-Lievens-Houtem       1\n",
      "East Bloomfield          1\n",
      "30005                    1\n",
      "Name: location_name, Length: 13060, dtype: int64\n",
      "data size:  215800\n",
      "dtype:  <class 'str'>\n",
      "null/nan 수:  217\n",
      "-----------------------------\n",
      "데이터 형태 예시\n",
      "\n",
      "Ste.-Maxime\n"
     ]
    }
   ],
   "source": [
    "column_to_look = 'location_name'\n",
    "print(\"unique values: \", kickstarter_dataset[column_to_look].nunique())\n",
    "print(\"unique value별 개수:\\n\", kickstarter_dataset[column_to_look].value_counts()) #normalize=True -- 비율 집계\n",
    "print(\"data size: \", kickstarter_dataset[column_to_look].size)\n",
    "print(\"dtype: \", type(kickstarter_dataset[column_to_look][0]))\n",
    "print(\"null/nan 수: \", kickstarter_dataset[column_to_look].isna().sum())\n",
    "print(\"-----------------------------\")\n",
    "print(\"데이터 형태 예시\\n\")\n",
    "print(kickstarter_dataset[column_to_look][0])"
   ]
  },
  {
   "cell_type": "markdown",
   "metadata": {},
   "source": [
    "## name\n",
    "- 펀딩 프로젝트 이름/제목"
   ]
  },
  {
   "cell_type": "code",
   "execution_count": 117,
   "metadata": {},
   "outputs": [
    {
     "name": "stdout",
     "output_type": "stream",
     "text": [
      "unique values:  187774\n",
      "unique value별 개수:\n",
      " Debut Album                                           8\n",
      "Home                                                  8\n",
      "A Midsummer Night's Dream                             7\n",
      "Reflections                                           6\n",
      "The Other Side                                        6\n",
      "                                                     ..\n",
      "Milan Mode (Canceled)                                 1\n",
      "Get Rat Ruckus Out of the Woods!                      1\n",
      "\"THE PRESENT” - a short brought to you by SkyCorp®    1\n",
      "AMONG WOLVES • Doc film about wild horses & bikers    1\n",
      "Tumbling Bones' First Full-Length Album               1\n",
      "Name: name, Length: 187774, dtype: int64\n",
      "data size:  215800\n",
      "dtype:  <class 'str'>\n",
      "null/nan 수:  0\n",
      "-----------------------------\n",
      "데이터 형태 예시\n",
      "\n",
      "Louli à l’école\n"
     ]
    }
   ],
   "source": [
    "column_to_look = 'name'\n",
    "print(\"unique values: \", kickstarter_dataset[column_to_look].nunique())\n",
    "print(\"unique value별 개수:\\n\", kickstarter_dataset[column_to_look].value_counts()) #normalize=True -- 비율 집계\n",
    "print(\"data size: \", kickstarter_dataset[column_to_look].size)\n",
    "print(\"dtype: \", type(kickstarter_dataset[column_to_look][0]))\n",
    "print(\"null/nan 수: \", kickstarter_dataset[column_to_look].isna().sum())\n",
    "print(\"-----------------------------\")\n",
    "print(\"데이터 형태 예시\\n\")\n",
    "print(kickstarter_dataset[column_to_look][0])"
   ]
  },
  {
   "cell_type": "markdown",
   "metadata": {},
   "source": [
    "## permissions"
   ]
  },
  {
   "cell_type": "code",
   "execution_count": 119,
   "metadata": {},
   "outputs": [
    {
     "name": "stdout",
     "output_type": "stream",
     "text": [
      "unique values:  1\n",
      "unique value별 개수:\n",
      " []    252\n",
      "Name: permissions, dtype: int64\n",
      "data size:  215800\n",
      "dtype:  <class 'float'>\n",
      "null/nan 수:  215548\n",
      "-----------------------------\n",
      "데이터 형태 예시\n",
      "\n",
      "nan\n"
     ]
    }
   ],
   "source": [
    "column_to_look = 'permissions'\n",
    "print(\"unique values: \", kickstarter_dataset[column_to_look].nunique())\n",
    "print(\"unique value별 개수:\\n\", kickstarter_dataset[column_to_look].value_counts()) #normalize=True -- 비율 집계\n",
    "print(\"data size: \", kickstarter_dataset[column_to_look].size)\n",
    "print(\"dtype: \", type(kickstarter_dataset[column_to_look][0]))\n",
    "print(\"null/nan 수: \", kickstarter_dataset[column_to_look].isna().sum())\n",
    "print(\"-----------------------------\")\n",
    "print(\"데이터 형태 예시\\n\")\n",
    "print(kickstarter_dataset[column_to_look][0])"
   ]
  },
  {
   "cell_type": "code",
   "execution_count": null,
   "metadata": {},
   "outputs": [],
   "source": []
  },
  {
   "cell_type": "markdown",
   "metadata": {},
   "source": [
    "## photo\n",
    "- 메인 이미지 정보"
   ]
  },
  {
   "cell_type": "code",
   "execution_count": 120,
   "metadata": {},
   "outputs": [
    {
     "name": "stdout",
     "output_type": "stream",
     "text": [
      "unique values:  188375\n",
      "data size:  215800\n",
      "dtype:  <class 'str'>\n",
      "null/nan 수:  0\n",
      "-----------------------------\n",
      "데이터 형태 예시\n",
      "\n",
      "{'key': 'assets/025/618/188/1ee876a3b9923c72e2e44204021d747f_original.png', 'full': 'https://ksr-ugc.imgix.net/assets/025/618/188/1ee876a3b9923c72e2e44204021d747f_original.png?ixlib=rb-2.1.0&crop=faces&w=560&h=315&fit=crop&v=1561555002&auto=format&frame=1&q=92&s=a0e9ad6ed015ce4a5413939a086210ac', 'ed': 'https://ksr-ugc.imgix.net/assets/025/618/188/1ee876a3b9923c72e2e44204021d747f_original.png?ixlib=rb-2.1.0&crop=faces&w=352&h=198&fit=crop&v=1561555002&auto=format&frame=1&q=92&s=409695b0864128d046d911045e9a46b1', 'med': 'https://ksr-ugc.imgix.net/assets/025/618/188/1ee876a3b9923c72e2e44204021d747f_original.png?ixlib=rb-2.1.0&crop=faces&w=272&h=153&fit=crop&v=1561555002&auto=format&frame=1&q=92&s=efba74ea8eb8f861704d243622e14af4', 'little': 'https://ksr-ugc.imgix.net/assets/025/618/188/1ee876a3b9923c72e2e44204021d747f_original.png?ixlib=rb-2.1.0&crop=faces&w=208&h=117&fit=crop&v=1561555002&auto=format&frame=1&q=92&s=f83a4a720aacf79a13576b9153fec385', 'small': 'https://ksr-ugc.imgix.net/assets/025/618/188/1ee876a3b9923c72e2e44204021d747f_original.png?ixlib=rb-2.1.0&crop=faces&w=160&h=90&fit=crop&v=1561555002&auto=format&frame=1&q=92&s=266bc438753183005d088f26abad1093', 'thumb': 'https://ksr-ugc.imgix.net/assets/025/618/188/1ee876a3b9923c72e2e44204021d747f_original.png?ixlib=rb-2.1.0&crop=faces&w=48&h=27&fit=crop&v=1561555002&auto=format&frame=1&q=92&s=0e552a8c7467ff6b43e50c6752a5bf61', '1024x576': 'https://ksr-ugc.imgix.net/assets/025/618/188/1ee876a3b9923c72e2e44204021d747f_original.png?ixlib=rb-2.1.0&crop=faces&w=1024&h=576&fit=crop&v=1561555002&auto=format&frame=1&q=92&s=e58d01a541355ca1fe4b7916af90970d', '1536x864': 'https://ksr-ugc.imgix.net/assets/025/618/188/1ee876a3b9923c72e2e44204021d747f_original.png?ixlib=rb-2.1.0&crop=faces&w=1552&h=873&fit=crop&v=1561555002&auto=format&frame=1&q=92&s=8a4db126a54868018443d312ffdc0952'}\n"
     ]
    }
   ],
   "source": [
    "column_to_look = 'photo'\n",
    "print(\"unique values: \", kickstarter_dataset[column_to_look].nunique())\n",
    "#print(\"unique value별 개수:\\n\", kickstarter_dataset[column_to_look].value_counts()) #normalize=True -- 비율 집계\n",
    "print(\"data size: \", kickstarter_dataset[column_to_look].size)\n",
    "print(\"dtype: \", type(kickstarter_dataset[column_to_look][0]))\n",
    "print(\"null/nan 수: \", kickstarter_dataset[column_to_look].isna().sum())\n",
    "print(\"-----------------------------\")\n",
    "print(\"데이터 형태 예시\\n\")\n",
    "print(kickstarter_dataset[column_to_look][0])"
   ]
  },
  {
   "cell_type": "code",
   "execution_count": 104,
   "metadata": {},
   "outputs": [
    {
     "name": "stdout",
     "output_type": "stream",
     "text": [
      "<class 'dict'>\n",
      "0\n"
     ]
    },
    {
     "data": {
      "text/plain": [
       "{'key': 'assets/025/618/188/1ee876a3b9923c72e2e44204021d747f_original.png',\n",
       " 'full': 'https://ksr-ugc.imgix.net/assets/025/618/188/1ee876a3b9923c72e2e44204021d747f_original.png?ixlib=rb-2.1.0&crop=faces&w=560&h=315&fit=crop&v=1561555002&auto=format&frame=1&q=92&s=a0e9ad6ed015ce4a5413939a086210ac',\n",
       " 'ed': 'https://ksr-ugc.imgix.net/assets/025/618/188/1ee876a3b9923c72e2e44204021d747f_original.png?ixlib=rb-2.1.0&crop=faces&w=352&h=198&fit=crop&v=1561555002&auto=format&frame=1&q=92&s=409695b0864128d046d911045e9a46b1',\n",
       " 'med': 'https://ksr-ugc.imgix.net/assets/025/618/188/1ee876a3b9923c72e2e44204021d747f_original.png?ixlib=rb-2.1.0&crop=faces&w=272&h=153&fit=crop&v=1561555002&auto=format&frame=1&q=92&s=efba74ea8eb8f861704d243622e14af4',\n",
       " 'little': 'https://ksr-ugc.imgix.net/assets/025/618/188/1ee876a3b9923c72e2e44204021d747f_original.png?ixlib=rb-2.1.0&crop=faces&w=208&h=117&fit=crop&v=1561555002&auto=format&frame=1&q=92&s=f83a4a720aacf79a13576b9153fec385',\n",
       " 'small': 'https://ksr-ugc.imgix.net/assets/025/618/188/1ee876a3b9923c72e2e44204021d747f_original.png?ixlib=rb-2.1.0&crop=faces&w=160&h=90&fit=crop&v=1561555002&auto=format&frame=1&q=92&s=266bc438753183005d088f26abad1093',\n",
       " 'thumb': 'https://ksr-ugc.imgix.net/assets/025/618/188/1ee876a3b9923c72e2e44204021d747f_original.png?ixlib=rb-2.1.0&crop=faces&w=48&h=27&fit=crop&v=1561555002&auto=format&frame=1&q=92&s=0e552a8c7467ff6b43e50c6752a5bf61',\n",
       " '1024x576': 'https://ksr-ugc.imgix.net/assets/025/618/188/1ee876a3b9923c72e2e44204021d747f_original.png?ixlib=rb-2.1.0&crop=faces&w=1024&h=576&fit=crop&v=1561555002&auto=format&frame=1&q=92&s=e58d01a541355ca1fe4b7916af90970d',\n",
       " '1536x864': 'https://ksr-ugc.imgix.net/assets/025/618/188/1ee876a3b9923c72e2e44204021d747f_original.png?ixlib=rb-2.1.0&crop=faces&w=1552&h=873&fit=crop&v=1561555002&auto=format&frame=1&q=92&s=8a4db126a54868018443d312ffdc0952'}"
      ]
     },
     "execution_count": 104,
     "metadata": {},
     "output_type": "execute_result"
    }
   ],
   "source": [
    "#'photo'컬럼 string --> dictionary 전환\n",
    "photo_dic = kickstarter_data['photo'].apply(lambda x: json.loads(x))\n",
    "\n",
    "print(type(photo_dic[0]))\n",
    "print(photo_dic.isna().sum())\n",
    "photo_dic[0]"
   ]
  },
  {
   "cell_type": "code",
   "execution_count": null,
   "metadata": {},
   "outputs": [],
   "source": [
    "kickstarter_data['photo'] = photo_dic #전환한 컬럼으로 대체"
   ]
  },
  {
   "cell_type": "code",
   "execution_count": 232,
   "metadata": {},
   "outputs": [
    {
     "data": {
      "text/plain": [
       "'https://ksr-ugc.imgix.net/assets/025/618/188/1ee876a3b9923c72e2e44204021d747f_original.png?ixlib=rb-2.1.0&crop=faces&w=560&h=315&fit=crop&v=1561555002&auto=format&frame=1&q=92&s=a0e9ad6ed015ce4a5413939a086210ac'"
      ]
     },
     "execution_count": 232,
     "metadata": {},
     "output_type": "execute_result"
    }
   ],
   "source": [
    "# 'photo'컬럼 string --> dictionary로 변환\n",
    "# 이미지 크롤링 때 사용할 url('full' key)만 뽑아서 새 컬럼 생성\n",
    "photo_link = kickstarter_data['photo'].apply(lambda x: x['full'])\n",
    "print(photo_link[0])\n",
    "kickstarter_data.insert(32, 'photo_link', photo_link)"
   ]
  },
  {
   "cell_type": "markdown",
   "metadata": {},
   "source": [
    "## pledged\n",
    "- 총 모금액 (in 현지 통화)"
   ]
  },
  {
   "cell_type": "code",
   "execution_count": 121,
   "metadata": {},
   "outputs": [
    {
     "name": "stdout",
     "output_type": "stream",
     "text": [
      "unique values:  47030\n",
      "data size:  215800\n",
      "dtype:  <class 'numpy.float64'>\n",
      "null/nan 수:  0\n",
      "-----------------------------\n",
      "데이터 형태 예시\n",
      "\n",
      "631.0\n"
     ]
    }
   ],
   "source": [
    "column_to_look = 'pledged'\n",
    "print(\"unique values: \", kickstarter_dataset[column_to_look].nunique())\n",
    "#print(\"unique value별 개수:\\n\", kickstarter_dataset[column_to_look].value_counts()) #normalize=True -- 비율 집계\n",
    "print(\"data size: \", kickstarter_dataset[column_to_look].size)\n",
    "print(\"dtype: \", type(kickstarter_dataset[column_to_look][0]))\n",
    "print(\"null/nan 수: \", kickstarter_dataset[column_to_look].isna().sum())\n",
    "print(\"-----------------------------\")\n",
    "print(\"데이터 형태 예시\\n\")\n",
    "print(kickstarter_dataset[column_to_look][0])"
   ]
  },
  {
   "cell_type": "markdown",
   "metadata": {},
   "source": [
    "## profile\n",
    "- 펀딩 프로젝트 프로필 정보"
   ]
  },
  {
   "cell_type": "code",
   "execution_count": 123,
   "metadata": {},
   "outputs": [
    {
     "name": "stdout",
     "output_type": "stream",
     "text": [
      "unique values:  188390\n",
      "data size:  215800\n",
      "dtype:  <class 'str'>\n",
      "null/nan 수:  0\n",
      "-----------------------------\n",
      "데이터 형태 예시\n",
      "\n",
      "{\"id\":3761403,\"project_id\":3761403,\"state\":\"inactive\",\"state_changed_at\":1561554849,\"name\":null,\"blurb\":null,\"background_color\":null,\"text_color\":null,\"link_background_color\":null,\"link_text_color\":null,\"link_text\":null,\"link_url\":null,\"show_feature_image\":false,\"background_image_opacity\":0.8,\"should_show_feature_image_section\":true,\"feature_image_attributes\":{\"image_urls\":{\"default\":\"https://ksr-ugc.imgix.net/assets/025/618/188/1ee876a3b9923c72e2e44204021d747f_original.png?ixlib=rb-2.1.0&crop=faces&w=1552&h=873&fit=crop&v=1561555002&auto=format&frame=1&q=92&s=8a4db126a54868018443d312ffdc0952\",\"baseball_card\":\"https://ksr-ugc.imgix.net/assets/025/618/188/1ee876a3b9923c72e2e44204021d747f_original.png?ixlib=rb-2.1.0&crop=faces&w=560&h=315&fit=crop&v=1561555002&auto=format&frame=1&q=92&s=a0e9ad6ed015ce4a5413939a086210ac\"}}}\n"
     ]
    }
   ],
   "source": [
    "column_to_look = 'profile'\n",
    "print(\"unique values: \", kickstarter_dataset[column_to_look].nunique())\n",
    "#print(\"unique value별 개수:\\n\", kickstarter_dataset[column_to_look].value_counts()) #normalize=True -- 비율 집계\n",
    "print(\"data size: \", kickstarter_dataset[column_to_look].size)\n",
    "print(\"dtype: \", type(kickstarter_dataset[column_to_look][0]))\n",
    "print(\"null/nan 수: \", kickstarter_dataset[column_to_look].isna().sum())\n",
    "print(\"-----------------------------\")\n",
    "print(\"데이터 형태 예시\\n\")\n",
    "print(kickstarter_dataset[column_to_look][0])"
   ]
  },
  {
   "cell_type": "code",
   "execution_count": null,
   "metadata": {},
   "outputs": [],
   "source": [
    "#profile 컬럼 string --> dictionary 변환\n",
    "profile_dic = kickstarter_data['profile'].apply(lambda x: json_loads(x))"
   ]
  },
  {
   "cell_type": "markdown",
   "metadata": {},
   "source": [
    "## slug\n",
    "- 해당 펀딩 페이지에 대한 접근 url root (url 가장 뒤에 붙는다)\n",
    "- 프로젝트의 상품/서비스에 대한 간략한 설명의 구문"
   ]
  },
  {
   "cell_type": "code",
   "execution_count": 127,
   "metadata": {},
   "outputs": [
    {
     "name": "stdout",
     "output_type": "stream",
     "text": [
      "unique values:  188385\n",
      "data size:  215800\n",
      "dtype:  <class 'str'>\n",
      "null/nan 수:  0\n",
      "-----------------------------\n",
      "데이터 형태 예시\n",
      "\n",
      "simon-bisley-2018-art-book                            2\n",
      "make-100-guinevere-and-the-divinity-factory-1-sket    2\n",
      "the-female-samurai-a-dance-research-about-japanese    2\n",
      "blues-k9-kitchen                                      2\n",
      "reanimated-a-short-film-based-on-the-works-of-hp-l    2\n",
      "Name: slug, dtype: int64\n"
     ]
    }
   ],
   "source": [
    "column_to_look = 'slug'\n",
    "print(\"unique values: \", kickstarter_dataset[column_to_look].nunique())\n",
    "#print(\"unique value별 개수:\\n\", kickstarter_dataset[column_to_look].value_counts()) #normalize=True -- 비율 집계\n",
    "print(\"data size: \", kickstarter_dataset[column_to_look].size)\n",
    "print(\"dtype: \", type(kickstarter_dataset[column_to_look][0]))\n",
    "print(\"null/nan 수: \", kickstarter_dataset[column_to_look].isna().sum())\n",
    "print(\"-----------------------------\")\n",
    "print(\"데이터 형태 예시\\n\")\n",
    "print(kickstarter_dataset[column_to_look].value_counts().head())"
   ]
  },
  {
   "cell_type": "markdown",
   "metadata": {},
   "source": [
    "## source_url\n",
    "- Kickstarter 웹사이트에서의 펀딩 유형/분류 별 링크"
   ]
  },
  {
   "cell_type": "code",
   "execution_count": 129,
   "metadata": {},
   "outputs": [
    {
     "name": "stdout",
     "output_type": "stream",
     "text": [
      "unique values:  170\n",
      "data size:  215800\n",
      "dtype:  <class 'str'>\n",
      "null/nan 수:  0\n",
      "-----------------------------\n",
      "데이터 형태 예시\n",
      "\n",
      "https://www.kickstarter.com/discover/categories/publishing\n"
     ]
    }
   ],
   "source": [
    "column_to_look = 'source_url'\n",
    "print(\"unique values: \", kickstarter_dataset[column_to_look].nunique())\n",
    "#print(\"unique value별 개수:\\n\", kickstarter_dataset[column_to_look].value_counts()) #normalize=True -- 비율 집계\n",
    "print(\"data size: \", kickstarter_dataset[column_to_look].size)\n",
    "print(\"dtype: \", type(kickstarter_dataset[column_to_look][0]))\n",
    "print(\"null/nan 수: \", kickstarter_dataset[column_to_look].isna().sum())\n",
    "print(\"-----------------------------\")\n",
    "print(\"데이터 형태 예시\\n\")\n",
    "print(kickstarter_dataset[column_to_look][0])"
   ]
  },
  {
   "cell_type": "markdown",
   "metadata": {},
   "source": [
    "## spotlight\n",
    "- spotlight(편딩 성공 후 해당 크리에이터가 그 펀딩 페이지를 계속해서 관리하고 뉴스, 소식, 홍보 등을 지속적으로 업데이트 할 수 있는 서비스)을 시행하고 있는지 유무"
   ]
  },
  {
   "cell_type": "code",
   "execution_count": 130,
   "metadata": {},
   "outputs": [
    {
     "name": "stdout",
     "output_type": "stream",
     "text": [
      "unique values:  2\n",
      "unique value별 개수:\n",
      " True     124272\n",
      "False     91528\n",
      "Name: spotlight, dtype: int64\n",
      "data size:  215800\n",
      "dtype:  <class 'numpy.bool_'>\n",
      "null/nan 수:  0\n",
      "-----------------------------\n",
      "데이터 형태 예시\n",
      "\n",
      "True\n"
     ]
    }
   ],
   "source": [
    "column_to_look = 'spotlight'\n",
    "print(\"unique values: \", kickstarter_dataset[column_to_look].nunique())\n",
    "print(\"unique value별 개수:\\n\", kickstarter_dataset[column_to_look].value_counts()) #normalize=True -- 비율 집계\n",
    "print(\"data size: \", kickstarter_dataset[column_to_look].size)\n",
    "print(\"dtype: \", type(kickstarter_dataset[column_to_look][0]))\n",
    "print(\"null/nan 수: \", kickstarter_dataset[column_to_look].isna().sum())\n",
    "print(\"-----------------------------\")\n",
    "print(\"데이터 형태 예시\\n\")\n",
    "print(kickstarter_dataset[column_to_look][0])"
   ]
  },
  {
   "cell_type": "markdown",
   "metadata": {},
   "source": [
    "## staff_pick\n",
    "- “Project we love”(Kickstarter 플랫폼 제공자/웹사이트가 선택한/추천하는 프로젝트)에 선택 되었는지 여부"
   ]
  },
  {
   "cell_type": "code",
   "execution_count": 132,
   "metadata": {},
   "outputs": [
    {
     "name": "stdout",
     "output_type": "stream",
     "text": [
      "unique values:  2\n",
      "unique value별 개수:\n",
      " False    187867\n",
      "True      27933\n",
      "Name: staff_pick, dtype: int64\n",
      "data size:  215800\n",
      "dtype:  <class 'numpy.bool_'>\n",
      "null/nan 수:  0\n",
      "-----------------------------\n",
      "데이터 형태 예시\n",
      "\n",
      "False\n"
     ]
    }
   ],
   "source": [
    "column_to_look = 'staff_pick'\n",
    "print(\"unique values: \", kickstarter_dataset[column_to_look].nunique())\n",
    "print(\"unique value별 개수:\\n\", kickstarter_dataset[column_to_look].value_counts()) #normalize=True -- 비율 집계\n",
    "print(\"data size: \", kickstarter_dataset[column_to_look].size)\n",
    "print(\"dtype: \", type(kickstarter_dataset[column_to_look][0]))\n",
    "print(\"null/nan 수: \", kickstarter_dataset[column_to_look].isna().sum())\n",
    "print(\"-----------------------------\")\n",
    "print(\"데이터 형태 예시\\n\")\n",
    "print(kickstarter_dataset[column_to_look][0])"
   ]
  },
  {
   "cell_type": "markdown",
   "metadata": {},
   "source": [
    "## state\n",
    "- 펀딩 프로젝트 상태 (성공함, 실패함, 취소됨, 현재 진행중, 강제 중단됨)\n",
    "- Target(종속변수)로 사용할 변수: 성광, 실패"
   ]
  },
  {
   "cell_type": "code",
   "execution_count": 134,
   "metadata": {},
   "outputs": [
    {
     "name": "stdout",
     "output_type": "stream",
     "text": [
      "unique values:  5\n",
      "unique value별 개수:\n",
      " successful    124272\n",
      "failed         75960\n",
      "canceled        8857\n",
      "live            6063\n",
      "suspended        648\n",
      "Name: state, dtype: int64\n",
      "data size:  215800\n",
      "dtype:  <class 'str'>\n",
      "null/nan 수:  0\n",
      "-----------------------------\n",
      "데이터 형태 예시\n",
      "\n",
      "successful\n"
     ]
    }
   ],
   "source": [
    "column_to_look = 'state'\n",
    "print(\"unique values: \", kickstarter_dataset[column_to_look].nunique())\n",
    "print(\"unique value별 개수:\\n\", kickstarter_dataset[column_to_look].value_counts()) #normalize=True -- 비율 집계\n",
    "print(\"data size: \", kickstarter_dataset[column_to_look].size)\n",
    "print(\"dtype: \", type(kickstarter_dataset[column_to_look][0]))\n",
    "print(\"null/nan 수: \", kickstarter_dataset[column_to_look].isna().sum())\n",
    "print(\"-----------------------------\")\n",
    "print(\"데이터 형태 예시\\n\")\n",
    "print(kickstarter_dataset[column_to_look][0])"
   ]
  },
  {
   "cell_type": "markdown",
   "metadata": {},
   "source": [
    "## state_changed_at\n",
    "- 프로젝트 상태 변경 시간 (milliseconds)"
   ]
  },
  {
   "cell_type": "code",
   "execution_count": 135,
   "metadata": {},
   "outputs": [
    {
     "name": "stdout",
     "output_type": "stream",
     "text": [
      "unique values:  177894\n",
      "data size:  215800\n",
      "dtype:  <class 'numpy.int64'>\n",
      "null/nan 수:  0\n",
      "-----------------------------\n",
      "데이터 형태 예시\n",
      "\n",
      "1566744397\n"
     ]
    }
   ],
   "source": [
    "column_to_look = 'state_changed_at'\n",
    "print(\"unique values: \", kickstarter_dataset[column_to_look].nunique())\n",
    "#print(\"unique value별 개수:\\n\", kickstarter_dataset[column_to_look].value_counts()) #normalize=True -- 비율 집계\n",
    "print(\"data size: \", kickstarter_dataset[column_to_look].size)\n",
    "print(\"dtype: \", type(kickstarter_dataset[column_to_look][0]))\n",
    "print(\"null/nan 수: \", kickstarter_dataset[column_to_look].isna().sum())\n",
    "print(\"-----------------------------\")\n",
    "print(\"데이터 형태 예시\\n\")\n",
    "print(kickstarter_dataset[column_to_look][0])"
   ]
  },
  {
   "cell_type": "code",
   "execution_count": null,
   "metadata": {
    "colab": {},
    "colab_type": "code",
    "id": "ICJxbXWuAG-1",
    "outputId": "daca4255-2c8b-435a-e814-8f8c74bd7e62"
   },
   "outputs": [
    {
     "name": "stdout",
     "output_type": "stream",
     "text": [
      "0   2019-08-25 14:46:37\n",
      "1   2015-09-14 04:19:28\n",
      "2   2018-08-18 15:43:54\n",
      "Name: state_changed_at, dtype: datetime64[ns]\n",
      "215797   2019-07-16 06:59:00\n",
      "215798   2014-08-31 22:35:00\n",
      "215799   2015-04-08 17:20:08\n",
      "Name: state_changed_at, dtype: datetime64[ns]\n",
      "first project:  2009-05-16 10:00:25\n",
      "last project:  2019-12-12 05:30:24\n"
     ]
    }
   ],
   "source": [
    "#'state_changed_at' 컬럼 datetime형식으로 변경\n",
    "state_changed_at_s = concatenated_df['state_changed_at']\n",
    "date_ended = pd.to_datetime(state_changed_at_s, unit='s')\n",
    "print(date_ended.head(3))\n",
    "print(date_ended.tail(3))\n",
    "print(\"first project: \", date_ended.min())\n",
    "print(\"last project: \", date_ended.max())"
   ]
  },
  {
   "cell_type": "code",
   "execution_count": null,
   "metadata": {},
   "outputs": [],
   "source": [
    "#생성한 datetime 컬럼 dataframe에 삽입\n",
    "concatenated_df.insert(37, 'date_ended', date_ended)"
   ]
  },
  {
   "cell_type": "markdown",
   "metadata": {},
   "source": [
    "## date_ended\n",
    "- 프로젝트 상태가 바뀐 날짜 (datetime 형태)"
   ]
  },
  {
   "cell_type": "code",
   "execution_count": 136,
   "metadata": {},
   "outputs": [
    {
     "name": "stdout",
     "output_type": "stream",
     "text": [
      "unique values:  177894\n",
      "data size:  215800\n",
      "dtype:  <class 'pandas._libs.tslibs.timestamps.Timestamp'>\n",
      "null/nan 수:  0\n",
      "-----------------------------\n",
      "데이터 형태 예시\n",
      "\n",
      "2019-08-25 14:46:37\n"
     ]
    }
   ],
   "source": [
    "column_to_look = 'date_ended'\n",
    "print(\"unique values: \", kickstarter_dataset[column_to_look].nunique())\n",
    "#print(\"unique value별 개수:\\n\", kickstarter_dataset[column_to_look].value_counts()) #normalize=True -- 비율 집계\n",
    "print(\"data size: \", kickstarter_dataset[column_to_look].size)\n",
    "print(\"dtype: \", type(kickstarter_dataset[column_to_look][0]))\n",
    "print(\"null/nan 수: \", kickstarter_dataset[column_to_look].isna().sum())\n",
    "print(\"-----------------------------\")\n",
    "print(\"데이터 형태 예시\\n\")\n",
    "print(kickstarter_dataset[column_to_look][0])"
   ]
  },
  {
   "cell_type": "markdown",
   "metadata": {},
   "source": [
    "## static_usd_rate\n",
    "- 미국 달러 환율 (미국 달러로 변환할 수 있는 값 제공)"
   ]
  },
  {
   "cell_type": "code",
   "execution_count": 138,
   "metadata": {},
   "outputs": [
    {
     "name": "stdout",
     "output_type": "stream",
     "text": [
      "unique values:  12742\n",
      "data size:  215800\n",
      "dtype:  <class 'numpy.float64'>\n",
      "null/nan 수:  0\n",
      "-----------------------------\n",
      "데이터 형태 예시\n",
      "\n",
      "1.000000    149988\n",
      "1.133748        58\n",
      "1.228667        57\n",
      "1.215900        56\n",
      "1.115888        54\n",
      "Name: static_usd_rate, dtype: int64\n"
     ]
    }
   ],
   "source": [
    "column_to_look = 'static_usd_rate'\n",
    "print(\"unique values: \", kickstarter_dataset[column_to_look].nunique())\n",
    "#print(\"unique value별 개수:\\n\", kickstarter_dataset[column_to_look].value_counts()) #normalize=True -- 비율 집계\n",
    "print(\"data size: \", kickstarter_dataset[column_to_look].size)\n",
    "print(\"dtype: \", type(kickstarter_dataset[column_to_look][0]))\n",
    "print(\"null/nan 수: \", kickstarter_dataset[column_to_look].isna().sum())\n",
    "print(\"-----------------------------\")\n",
    "print(\"데이터 형태 예시\\n\")\n",
    "print(kickstarter_dataset[column_to_look].value_counts().head())"
   ]
  },
  {
   "cell_type": "markdown",
   "metadata": {},
   "source": [
    "## urls\n",
    "- 펀딩 페이지에 대한 url 주소 정보\n",
    "- keys: 'web' 그리고 'api' 두 종류"
   ]
  },
  {
   "cell_type": "code",
   "execution_count": 142,
   "metadata": {},
   "outputs": [
    {
     "name": "stdout",
     "output_type": "stream",
     "text": [
      "unique values:  188634\n",
      "data size:  215800\n",
      "dtype:  <class 'str'>\n",
      "null/nan 수:  0\n",
      "-----------------------------\n",
      "데이터 형태 예시\n",
      "\n",
      "{'web': {'project': 'https://www.kickstarter.com/projects/469036700/louli-a-lecole?ref=discovery_category_newest', 'rewards': 'https://www.kickstarter.com/projects/469036700/louli-a-lecole/rewards'}}\n"
     ]
    }
   ],
   "source": [
    "column_to_look = 'urls'\n",
    "print(\"unique values: \", kickstarter_dataset[column_to_look].nunique())\n",
    "#print(\"unique value별 개수:\\n\", kickstarter_dataset[column_to_look].value_counts()) #normalize=True -- 비율 집계\n",
    "print(\"data size: \", kickstarter_dataset[column_to_look].size)\n",
    "print(\"dtype: \", type(kickstarter_dataset[column_to_look][0]))\n",
    "print(\"null/nan 수: \", kickstarter_dataset[column_to_look].isna().sum())\n",
    "print(\"-----------------------------\")\n",
    "print(\"데이터 형태 예시\\n\")\n",
    "print(kickstarter_dataset[column_to_look][0])"
   ]
  },
  {
   "cell_type": "code",
   "execution_count": 107,
   "metadata": {},
   "outputs": [
    {
     "name": "stdout",
     "output_type": "stream",
     "text": [
      "<class 'dict'>\n",
      "0\n"
     ]
    },
    {
     "data": {
      "text/plain": [
       "{'web': {'project': 'https://www.kickstarter.com/projects/469036700/louli-a-lecole?ref=discovery_category_newest',\n",
       "  'rewards': 'https://www.kickstarter.com/projects/469036700/louli-a-lecole/rewards'}}"
      ]
     },
     "execution_count": 107,
     "metadata": {},
     "output_type": "execute_result"
    }
   ],
   "source": [
    "#'urls' 컬럼 string --> dictionary변환\n",
    "urls_dic = kickstarter_data['urls'].apply(lambda x: json.loads(x))\n",
    "\n",
    "print(type(urls_dic[0]))\n",
    "print(urls_dic.isna().sum())\n",
    "urls_dic[0]"
   ]
  },
  {
   "cell_type": "code",
   "execution_count": 115,
   "metadata": {},
   "outputs": [
    {
     "data": {
      "text/plain": [
       "{'project': 'https://www.kickstarter.com/projects/469036700/louli-a-lecole?ref=discovery_category_newest',\n",
       " 'rewards': 'https://www.kickstarter.com/projects/469036700/louli-a-lecole/rewards'}"
      ]
     },
     "execution_count": 115,
     "metadata": {},
     "output_type": "execute_result"
    }
   ],
   "source": [
    "kickstarter_data['urls'] = urls_dic\n",
    "kickstarter_data['urls'][0]['web']"
   ]
  },
  {
   "cell_type": "code",
   "execution_count": 120,
   "metadata": {},
   "outputs": [
    {
     "data": {
      "text/plain": [
       "(web)         215547\n",
       "(api, web)       251\n",
       "(web)              1\n",
       "(api, web)         1\n",
       "Name: urls, dtype: int64"
      ]
     },
     "execution_count": 120,
     "metadata": {},
     "output_type": "execute_result"
    }
   ],
   "source": [
    "#'urls_dic'컬럼의 값인 dictionary안에 또 2개의 dict로 구성\n",
    "#'web'외에 다른 key도 있는 것 확인\n",
    "urls_keys = kickstarter_data['urls'].apply(lambda x: x.keys())\n",
    "urls_keys.value_counts() # 'api' key도 있다"
   ]
  },
  {
   "cell_type": "code",
   "execution_count": 131,
   "metadata": {},
   "outputs": [
    {
     "name": "stdout",
     "output_type": "stream",
     "text": [
      "215800\n",
      "<class 'dict'>\n",
      "0\n"
     ]
    },
    {
     "data": {
      "text/plain": [
       "{'project': 'https://www.kickstarter.com/projects/469036700/louli-a-lecole?ref=discovery_category_newest',\n",
       " 'rewards': 'https://www.kickstarter.com/projects/469036700/louli-a-lecole/rewards'}"
      ]
     },
     "execution_count": 131,
     "metadata": {},
     "output_type": "execute_result"
    }
   ],
   "source": [
    "# 'web' key 값들만 가져와 하나의 컬럼으로 만들기\n",
    "urls_web = kickstarter_data['urls'].apply(lambda x: x['web'])\n",
    "print(urls_web.size) #데이터 수 변경 없음\n",
    "print(type(urls_web[0]))\n",
    "print(urls_web.isna().sum())\n",
    "urls_web[0]"
   ]
  },
  {
   "cell_type": "code",
   "execution_count": 135,
   "metadata": {},
   "outputs": [],
   "source": [
    "#'urls_web' 새 컬럼으로 데이터셋에 삽입\n",
    "kickstarter_data.insert(42, 'urls_web', urls_web)"
   ]
  },
  {
   "cell_type": "markdown",
   "metadata": {},
   "source": [
    "## urls_web\n",
    "- 프로젝트 링크 정보\n",
    "- 'web' key 정보들만 가져와서 만듬 컬럼\n",
    "- 'web' key안에도 'project'와 'reward' 두 종류가 있음\n",
    "- 이 컬럼은 굳이 안 써도 됨"
   ]
  },
  {
   "cell_type": "code",
   "execution_count": 143,
   "metadata": {},
   "outputs": [
    {
     "name": "stdout",
     "output_type": "stream",
     "text": [
      "unique values:  188634\n",
      "data size:  215800\n",
      "dtype:  <class 'str'>\n",
      "null/nan 수:  0\n",
      "-----------------------------\n",
      "데이터 형태 예시\n",
      "\n",
      "{'project': 'https://www.kickstarter.com/projects/469036700/louli-a-lecole?ref=discovery_category_newest', 'rewards': 'https://www.kickstarter.com/projects/469036700/louli-a-lecole/rewards'}\n"
     ]
    }
   ],
   "source": [
    "column_to_look = 'urls_web'\n",
    "print(\"unique values: \", kickstarter_dataset[column_to_look].nunique())\n",
    "#print(\"unique value별 개수:\\n\", kickstarter_dataset[column_to_look].value_counts()) #normalize=True -- 비율 집계\n",
    "print(\"data size: \", kickstarter_dataset[column_to_look].size)\n",
    "print(\"dtype: \", type(kickstarter_dataset[column_to_look][0]))\n",
    "print(\"null/nan 수: \", kickstarter_dataset[column_to_look].isna().sum())\n",
    "print(\"-----------------------------\")\n",
    "print(\"데이터 형태 예시\\n\")\n",
    "print(kickstarter_dataset[column_to_look][0])"
   ]
  },
  {
   "cell_type": "code",
   "execution_count": 133,
   "metadata": {},
   "outputs": [
    {
     "name": "stdout",
     "output_type": "stream",
     "text": [
      "215800\n",
      "<class 'str'>\n",
      "0\n"
     ]
    },
    {
     "data": {
      "text/plain": [
       "'https://www.kickstarter.com/projects/469036700/louli-a-lecole?ref=discovery_category_newest'"
      ]
     },
     "execution_count": 133,
     "metadata": {},
     "output_type": "execute_result"
    }
   ],
   "source": [
    "#이번엔 urls_web에서 'project' key 값들만 뽑아 컬럼 생성하기\n",
    "urls_project = urls_web.apply(lambda x: x['project'])\n",
    "print(urls_project.size)\n",
    "print(type(urls_project[0]))\n",
    "print(urls_project.isna().sum())\n",
    "urls_project[0]"
   ]
  },
  {
   "cell_type": "markdown",
   "metadata": {},
   "source": [
    "## url_project\n",
    "- 프로젝트 메인 페이지 링크"
   ]
  },
  {
   "cell_type": "code",
   "execution_count": 144,
   "metadata": {},
   "outputs": [
    {
     "name": "stdout",
     "output_type": "stream",
     "text": [
      "unique values:  188385\n",
      "data size:  215800\n",
      "dtype:  <class 'str'>\n",
      "null/nan 수:  0\n",
      "-----------------------------\n",
      "데이터 형태 예시\n",
      "\n",
      "https://www.kickstarter.com/projects/469036700/louli-a-lecole?ref=discovery_category_newest\n"
     ]
    }
   ],
   "source": [
    "column_to_look = 'url_project'\n",
    "print(\"unique values: \", kickstarter_dataset[column_to_look].nunique())\n",
    "#print(\"unique value별 개수:\\n\", kickstarter_dataset[column_to_look].value_counts()) #normalize=True -- 비율 집계\n",
    "print(\"data size: \", kickstarter_dataset[column_to_look].size)\n",
    "print(\"dtype: \", type(kickstarter_dataset[column_to_look][0]))\n",
    "print(\"null/nan 수: \", kickstarter_dataset[column_to_look].isna().sum())\n",
    "print(\"-----------------------------\")\n",
    "print(\"데이터 형태 예시\\n\")\n",
    "print(kickstarter_dataset[column_to_look][0])"
   ]
  },
  {
   "cell_type": "code",
   "execution_count": 138,
   "metadata": {},
   "outputs": [
    {
     "name": "stdout",
     "output_type": "stream",
     "text": [
      "215800\n",
      "<class 'str'>\n",
      "0\n"
     ]
    },
    {
     "data": {
      "text/plain": [
       "'https://www.kickstarter.com/projects/469036700/louli-a-lecole/rewards'"
      ]
     },
     "execution_count": 138,
     "metadata": {},
     "output_type": "execute_result"
    }
   ],
   "source": [
    "#urls_web에서 'rewards' key만 추출하여 새 컬럼 생성하기\n",
    "urls_rewards = urls_web.apply(lambda x: x['rewards'])\n",
    "print(urls_rewards.size)\n",
    "print(type(urls_rewards[0]))\n",
    "print(urls_rewards.isna().sum())\n",
    "urls_rewards[0]"
   ]
  },
  {
   "cell_type": "code",
   "execution_count": 142,
   "metadata": {},
   "outputs": [],
   "source": [
    "# 'urls_rewards' 데이터셋에 컬럼으로 삽입\n",
    "kickstarter_data.insert(44, 'url_reward', urls_rewards)"
   ]
  },
  {
   "cell_type": "markdown",
   "metadata": {},
   "source": [
    "## url_reward\n",
    "- 프로젝트 reward 페이지 링크"
   ]
  },
  {
   "cell_type": "code",
   "execution_count": 145,
   "metadata": {},
   "outputs": [
    {
     "name": "stdout",
     "output_type": "stream",
     "text": [
      "unique values:  188385\n",
      "data size:  215800\n",
      "dtype:  <class 'str'>\n",
      "null/nan 수:  0\n",
      "-----------------------------\n",
      "데이터 형태 예시\n",
      "\n",
      "https://www.kickstarter.com/projects/469036700/louli-a-lecole/rewards\n"
     ]
    }
   ],
   "source": [
    "column_to_look = 'url_reward'\n",
    "print(\"unique values: \", kickstarter_dataset[column_to_look].nunique())\n",
    "#print(\"unique value별 개수:\\n\", kickstarter_dataset[column_to_look].value_counts()) #normalize=True -- 비율 집계\n",
    "print(\"data size: \", kickstarter_dataset[column_to_look].size)\n",
    "print(\"dtype: \", type(kickstarter_dataset[column_to_look][0]))\n",
    "print(\"null/nan 수: \", kickstarter_dataset[column_to_look].isna().sum())\n",
    "print(\"-----------------------------\")\n",
    "print(\"데이터 형태 예시\\n\")\n",
    "print(kickstarter_dataset[column_to_look][0])"
   ]
  },
  {
   "cell_type": "markdown",
   "metadata": {},
   "source": [
    "## usd_pledged\n",
    "- 총 모금액 (in 미국 달러 USD)"
   ]
  },
  {
   "cell_type": "code",
   "execution_count": 146,
   "metadata": {},
   "outputs": [
    {
     "name": "stdout",
     "output_type": "stream",
     "text": [
      "unique values:  84043\n",
      "data size:  215800\n",
      "dtype:  <class 'numpy.float64'>\n",
      "null/nan 수:  0\n",
      "-----------------------------\n",
      "데이터 형태 예시\n",
      "\n",
      "719.75681336\n"
     ]
    }
   ],
   "source": [
    "column_to_look = 'usd_pledged'\n",
    "print(\"unique values: \", kickstarter_dataset[column_to_look].nunique())\n",
    "#print(\"unique value별 개수:\\n\", kickstarter_dataset[column_to_look].value_counts()) #normalize=True -- 비율 집계\n",
    "print(\"data size: \", kickstarter_dataset[column_to_look].size)\n",
    "print(\"dtype: \", type(kickstarter_dataset[column_to_look][0]))\n",
    "print(\"null/nan 수: \", kickstarter_dataset[column_to_look].isna().sum())\n",
    "print(\"-----------------------------\")\n",
    "print(\"데이터 형태 예시\\n\")\n",
    "print(kickstarter_dataset[column_to_look][0])"
   ]
  },
  {
   "cell_type": "markdown",
   "metadata": {},
   "source": [
    "## usd_type"
   ]
  },
  {
   "cell_type": "code",
   "execution_count": 148,
   "metadata": {},
   "outputs": [
    {
     "name": "stdout",
     "output_type": "stream",
     "text": [
      "unique values:  2\n",
      "unique value별 개수:\n",
      " domestic         164253\n",
      "international     51403\n",
      "Name: usd_type, dtype: int64\n",
      "data size:  215800\n",
      "dtype:  <class 'str'>\n",
      "null/nan 수:  144\n",
      "-----------------------------\n",
      "데이터 형태 예시\n",
      "\n",
      "domestic\n"
     ]
    }
   ],
   "source": [
    "column_to_look = 'usd_type'\n",
    "print(\"unique values: \", kickstarter_dataset[column_to_look].nunique())\n",
    "print(\"unique value별 개수:\\n\", kickstarter_dataset[column_to_look].value_counts()) #normalize=True -- 비율 집계\n",
    "print(\"data size: \", kickstarter_dataset[column_to_look].size)\n",
    "print(\"dtype: \", type(kickstarter_dataset[column_to_look][0]))\n",
    "print(\"null/nan 수: \", kickstarter_dataset[column_to_look].isna().sum())\n",
    "print(\"-----------------------------\")\n",
    "print(\"데이터 형태 예시\\n\")\n",
    "print(kickstarter_dataset[column_to_look][0])"
   ]
  },
  {
   "cell_type": "markdown",
   "metadata": {},
   "source": [
    "## 1차 탐색 후 데이터 크기:\n",
    "- 데이터 행 수: **215,800**\n",
    "- 데이터 열(컬럼) 수: **49**"
   ]
  },
  {
   "cell_type": "code",
   "execution_count": 234,
   "metadata": {},
   "outputs": [
    {
     "name": "stdout",
     "output_type": "stream",
     "text": [
      "<class 'pandas.core.frame.DataFrame'>\n",
      "RangeIndex: 215800 entries, 0 to 215799\n",
      "Data columns (total 49 columns):\n",
      "backers_count               215800 non-null int64\n",
      "blurb                       215792 non-null object\n",
      "category                    215800 non-null object\n",
      "category_name               215800 non-null object\n",
      "category_specific           215800 non-null object\n",
      "converted_pledged_amount    215800 non-null int64\n",
      "country                     215800 non-null object\n",
      "country_displayable_name    215800 non-null object\n",
      "created_at                  215800 non-null int64\n",
      "date_created                215800 non-null datetime64[ns]\n",
      "creator                     215800 non-null object\n",
      "currency                    215800 non-null object\n",
      "currency_symbol             215800 non-null object\n",
      "currency_trailing_code      215800 non-null bool\n",
      "current_currency            215800 non-null object\n",
      "deadline                    215800 non-null int64\n",
      "date_deadline               215800 non-null datetime64[ns]\n",
      "disable_communication       215800 non-null bool\n",
      "friends                     252 non-null object\n",
      "fx_rate                     215800 non-null float64\n",
      "goal                        215800 non-null float64\n",
      "id                          215800 non-null int64\n",
      "is_backing                  252 non-null object\n",
      "is_starrable                215800 non-null bool\n",
      "is_starred                  252 non-null object\n",
      "launched_at                 215800 non-null int64\n",
      "date_launched               215800 non-null datetime64[ns]\n",
      "location                    215583 non-null object\n",
      "location_name               215583 non-null object\n",
      "name                        215800 non-null object\n",
      "permissions                 252 non-null object\n",
      "photo                       215800 non-null object\n",
      "photo_link                  215800 non-null object\n",
      "pledged                     215800 non-null float64\n",
      "profile                     215800 non-null object\n",
      "slug                        215800 non-null object\n",
      "source_url                  215800 non-null object\n",
      "spotlight                   215800 non-null bool\n",
      "staff_pick                  215800 non-null bool\n",
      "state                       215800 non-null object\n",
      "state_changed_at            215800 non-null int64\n",
      "date_ended                  215800 non-null datetime64[ns]\n",
      "static_usd_rate             215800 non-null float64\n",
      "urls                        215800 non-null object\n",
      "urls_web                    215800 non-null object\n",
      "url_project                 215800 non-null object\n",
      "url_reward                  215800 non-null object\n",
      "usd_pledged                 215800 non-null float64\n",
      "usd_type                    215656 non-null object\n",
      "dtypes: bool(5), datetime64[ns](4), float64(5), int64(7), object(28)\n",
      "memory usage: 73.5+ MB\n"
     ]
    }
   ],
   "source": [
    "kickstarter_dataset.info()"
   ]
  },
  {
   "cell_type": "code",
   "execution_count": 235,
   "metadata": {},
   "outputs": [],
   "source": [
    "# csv파일 저장\n",
    "kickstarter_dataset.to_csv('kickstarter_dataset_updated.csv', index=False, encoding='utf-8')"
   ]
  },
  {
   "cell_type": "code",
   "execution_count": 60,
   "metadata": {},
   "outputs": [
    {
     "name": "stdout",
     "output_type": "stream",
     "text": [
      "2019    44158\n",
      "2015    37169\n",
      "2016    29066\n",
      "2018    28437\n",
      "2017    28134\n",
      "2014    25742\n",
      "2013    10089\n",
      "2012     7594\n",
      "2011     3811\n",
      "2010     1374\n",
      "2009      226\n",
      "Name: date_launched, dtype: int64\n"
     ]
    },
    {
     "data": {
      "text/plain": [
       "2019    0.204625\n",
       "2015    0.172238\n",
       "2016    0.134690\n",
       "2018    0.131775\n",
       "2017    0.130371\n",
       "2014    0.119286\n",
       "2013    0.046752\n",
       "2012    0.035190\n",
       "2011    0.017660\n",
       "2010    0.006367\n",
       "2009    0.001047\n",
       "Name: date_launched, dtype: float64"
      ]
     },
     "execution_count": 60,
     "metadata": {},
     "output_type": "execute_result"
    }
   ],
   "source": [
    "# '런칭 날짜'에서 연도만 조회 및 새 컬럼 생성 \n",
    "date_launched_year = kickstarter_dataset['date_launched'].dt.year\n",
    "print(date_launched_year.value_counts())\n",
    "date_launched_year.value_counts(normalize=True)"
   ]
  },
  {
   "cell_type": "code",
   "execution_count": 19,
   "metadata": {},
   "outputs": [],
   "source": [
    "kickstarter_dataset.insert(27, 'date_launched_year', date_launched_year)"
   ]
  },
  {
   "cell_type": "code",
   "execution_count": 124,
   "metadata": {
    "scrolled": true
   },
   "outputs": [
    {
     "data": {
      "text/plain": [
       "date_launched_year  state     \n",
       "2009                successful      177\n",
       "                    failed           38\n",
       "                    canceled         11\n",
       "2010                successful     1019\n",
       "                    failed          306\n",
       "                    canceled         49\n",
       "2011                successful     2942\n",
       "                    failed          744\n",
       "                    canceled        120\n",
       "                    suspended         5\n",
       "2012                successful     5868\n",
       "                    failed         1606\n",
       "                    canceled        119\n",
       "                    suspended         1\n",
       "2013                successful     7978\n",
       "                    failed         1938\n",
       "                    canceled        173\n",
       "2014                successful    13176\n",
       "                    failed        10864\n",
       "                    canceled       1614\n",
       "                    suspended        88\n",
       "2015                failed        18491\n",
       "                    successful    16205\n",
       "                    canceled       2178\n",
       "                    suspended       295\n",
       "2016                successful    14250\n",
       "                    failed        13163\n",
       "                    canceled       1568\n",
       "                    suspended        85\n",
       "2017                successful    14595\n",
       "                    failed        12271\n",
       "                    canceled       1203\n",
       "                    suspended        65\n",
       "2018                successful    18060\n",
       "                    failed         9338\n",
       "                    canceled        977\n",
       "                    suspended        62\n",
       "2019                successful    30002\n",
       "                    failed         7201\n",
       "                    live           6063\n",
       "                    canceled        845\n",
       "                    suspended        47\n",
       "Name: state, dtype: int64"
      ]
     },
     "execution_count": 124,
     "metadata": {},
     "output_type": "execute_result"
    }
   ],
   "source": [
    "#연도별 펀딩결과('state') 수 조회\n",
    "kickstarter_dataset.groupby('date_launched_year')['state'].value_counts()"
   ]
  },
  {
   "cell_type": "code",
   "execution_count": 84,
   "metadata": {
    "scrolled": true
   },
   "outputs": [
    {
     "data": {
      "text/plain": [
       "date_launched_year  state     \n",
       "2009                successful    0.783186\n",
       "                    failed        0.168142\n",
       "                    canceled      0.048673\n",
       "2010                successful    0.741630\n",
       "                    failed        0.222707\n",
       "                    canceled      0.035662\n",
       "2011                successful    0.771976\n",
       "                    failed        0.195224\n",
       "                    canceled      0.031488\n",
       "                    suspended     0.001312\n",
       "2012                successful    0.772715\n",
       "                    failed        0.211483\n",
       "                    canceled      0.015670\n",
       "                    suspended     0.000132\n",
       "2013                successful    0.790762\n",
       "                    failed        0.192090\n",
       "                    canceled      0.017147\n",
       "2014                successful    0.511848\n",
       "                    failed        0.422034\n",
       "                    canceled      0.062699\n",
       "                    suspended     0.003419\n",
       "2015                failed        0.497484\n",
       "                    successful    0.435982\n",
       "                    canceled      0.058597\n",
       "                    suspended     0.007937\n",
       "2016                successful    0.490264\n",
       "                    failed        0.452866\n",
       "                    canceled      0.053946\n",
       "                    suspended     0.002924\n",
       "2017                successful    0.518767\n",
       "                    failed        0.436163\n",
       "                    canceled      0.042760\n",
       "                    suspended     0.002310\n",
       "2018                successful    0.635088\n",
       "                    failed        0.328375\n",
       "                    canceled      0.034357\n",
       "                    suspended     0.002180\n",
       "2019                successful    0.679424\n",
       "                    failed        0.163074\n",
       "                    live          0.137302\n",
       "                    canceled      0.019136\n",
       "                    suspended     0.001064\n",
       "Name: state, dtype: float64"
      ]
     },
     "execution_count": 84,
     "metadata": {},
     "output_type": "execute_result"
    }
   ],
   "source": [
    "#연도별 펀딩결과('state') 비율 조회\n",
    "kickstarter_dataset.groupby('date_launched_year')['state'].value_counts(normalize=True)"
   ]
  },
  {
   "cell_type": "markdown",
   "metadata": {},
   "source": [
    "### 추가적인 파생변/컬럼 생성\n",
    "- 크라우드펀딩 성공에 영향을 줄 수 있을 것 같은 파생변수 생성\n",
    "- 일반적인 데이터 탐색에 쓰일 수 있는 파생변수 생성"
   ]
  },
  {
   "cell_type": "code",
   "execution_count": 22,
   "metadata": {},
   "outputs": [
    {
     "data": {
      "text/plain": [
       "(200232,)"
      ]
     },
     "execution_count": 22,
     "metadata": {},
     "output_type": "execute_result"
    }
   ],
   "source": [
    "# 설정된 펀딩 기간 (데드라인 - 런칭날짜)\n",
    "set_fundraising_period = kickstarter_dataset['deadline']-kickstarter_dataset['launched_at']\n",
    "set_fundraising_period.shape"
   ]
  },
  {
   "cell_type": "code",
   "execution_count": 24,
   "metadata": {},
   "outputs": [
    {
     "data": {
      "text/plain": [
       "(200232,)"
      ]
     },
     "execution_count": 24,
     "metadata": {},
     "output_type": "execute_result"
    }
   ],
   "source": [
    "# 런칭 날짜 (월))\n",
    "date_launched_month = kickstarter_dataset['date_launched'].dt.month\n",
    "date_launched_month.shape"
   ]
  },
  {
   "cell_type": "code",
   "execution_count": 28,
   "metadata": {},
   "outputs": [
    {
     "data": {
      "text/plain": [
       "(200232,)"
      ]
     },
     "execution_count": 28,
     "metadata": {},
     "output_type": "execute_result"
    }
   ],
   "source": [
    "# 런칭 지연 시간 (런칭날짜 - 펀딩생성날짜)\n",
    "launching_delay_time = kickstarter_dataset['launched_at']-kickstarter_dataset['created_at'] # in seconds\n",
    "launching_delay_time.shape"
   ]
  },
  {
   "cell_type": "code",
   "execution_count": 30,
   "metadata": {},
   "outputs": [
    {
     "data": {
      "text/plain": [
       "(200232,)"
      ]
     },
     "execution_count": 30,
     "metadata": {},
     "output_type": "execute_result"
    }
   ],
   "source": [
    "# 펀딩 목표액 in local currency --> in USD\n",
    "# currency는 하나로 통일하는게 낫다고 판단\n",
    "usd_goal = kickstarter_dataset['goal']*kickstarter_dataset['static_usd_rate']\n",
    "usd_goal.shape"
   ]
  },
  {
   "cell_type": "code",
   "execution_count": 35,
   "metadata": {},
   "outputs": [
    {
     "data": {
      "text/plain": [
       "(200232,)"
      ]
     },
     "execution_count": 35,
     "metadata": {},
     "output_type": "execute_result"
    }
   ],
   "source": [
    "# 펀딩 목표액과 설정한 펀딩 기간 비율 (펀딩 목표액/설정된 런칭 기간)\n",
    "# 펀딩기간 대비 펀딩 목표액을 적절히 설정 했는지가 펀딩 성공에 영향을 줄 수 있다고 판단\n",
    "target_goal_period_rate = kickstarter_dataset['usd_goal']/set_fundraising_period\n",
    "target_goal_period_rate.shape"
   ]
  },
  {
   "cell_type": "code",
   "execution_count": 42,
   "metadata": {},
   "outputs": [
    {
     "data": {
      "text/plain": [
       "0    5184000\n",
       "1    2592001\n",
       "2    5184000\n",
       "3    2565470\n",
       "4    2592000\n",
       "dtype: int64"
      ]
     },
     "execution_count": 42,
     "metadata": {},
     "output_type": "execute_result"
    }
   ],
   "source": [
    "# 펀딩 종료까지 실제 걸린 시간 (펀딩상태변경날짜 - 펀딩런칭날짜)\n",
    "actual_time_taken = kickstarter_dataset['state_changed_at']-kickstarter_dataset['launched_at']\n",
    "actual_time_taken.head()"
   ]
  },
  {
   "cell_type": "code",
   "execution_count": null,
   "metadata": {},
   "outputs": [],
   "source": [
    "# 새로운 특성/파생변수 --> 데이터프레임 삽입 완료"
   ]
  }
 ],
 "metadata": {
  "colab": {
   "collapsed_sections": [],
   "name": "Kickstarter.ipynb",
   "provenance": []
  },
  "kernelspec": {
   "display_name": "Python 3",
   "language": "python",
   "name": "python3"
  },
  "language_info": {
   "codemirror_mode": {
    "name": "ipython",
    "version": 3
   },
   "file_extension": ".py",
   "mimetype": "text/x-python",
   "name": "python",
   "nbconvert_exporter": "python",
   "pygments_lexer": "ipython3",
   "version": "3.8.10"
  }
 },
 "nbformat": 4,
 "nbformat_minor": 4
}
