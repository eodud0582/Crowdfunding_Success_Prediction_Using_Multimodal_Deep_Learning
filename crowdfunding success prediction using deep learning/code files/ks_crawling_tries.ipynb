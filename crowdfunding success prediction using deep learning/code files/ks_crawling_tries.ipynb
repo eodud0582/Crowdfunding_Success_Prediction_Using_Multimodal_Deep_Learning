{
 "cells": [
  {
   "cell_type": "code",
   "execution_count": 1,
   "metadata": {},
   "outputs": [],
   "source": [
    "import pandas as pd\n",
    "import numpy as np\n",
    "import matplotlib.pyplot as plt\n",
    "import seaborn as sns\n",
    "import os\n",
    "import json\n",
    "from datetime import datetime\n",
    "np.random.seed(1)"
   ]
  },
  {
   "cell_type": "code",
   "execution_count": 2,
   "metadata": {
    "scrolled": true
   },
   "outputs": [],
   "source": [
    "ks_2019 = pd.read_csv('./kickstarter_2019.csv')"
   ]
  },
  {
   "cell_type": "code",
   "execution_count": 13,
   "metadata": {},
   "outputs": [
    {
     "name": "stdout",
     "output_type": "stream",
     "text": [
      "<class 'pandas.core.frame.DataFrame'>\n",
      "RangeIndex: 44158 entries, 0 to 44157\n",
      "Data columns (total 50 columns):\n",
      "backers_count               44158 non-null int64\n",
      "blurb                       44158 non-null object\n",
      "category                    44158 non-null object\n",
      "category_name               44158 non-null object\n",
      "category_specific           44158 non-null object\n",
      "converted_pledged_amount    44158 non-null int64\n",
      "country                     44158 non-null object\n",
      "country_displayable_name    44158 non-null object\n",
      "created_at                  44158 non-null int64\n",
      "date_created                44158 non-null object\n",
      "creator                     44158 non-null object\n",
      "currency                    44158 non-null object\n",
      "currency_symbol             44158 non-null object\n",
      "currency_trailing_code      44158 non-null bool\n",
      "current_currency            44158 non-null object\n",
      "deadline                    44158 non-null int64\n",
      "date_deadline               44158 non-null object\n",
      "disable_communication       44158 non-null bool\n",
      "friends                     252 non-null object\n",
      "fx_rate                     44158 non-null float64\n",
      "goal                        44158 non-null float64\n",
      "id                          44158 non-null int64\n",
      "is_backing                  252 non-null object\n",
      "is_starrable                44158 non-null bool\n",
      "is_starred                  252 non-null object\n",
      "launched_at                 44158 non-null int64\n",
      "date_launched               44158 non-null object\n",
      "date_launched_year          44158 non-null int64\n",
      "location                    44158 non-null object\n",
      "location_name               44158 non-null object\n",
      "name                        44158 non-null object\n",
      "permissions                 252 non-null object\n",
      "photo                       44158 non-null object\n",
      "photo_link                  44158 non-null object\n",
      "pledged                     44158 non-null float64\n",
      "profile                     44158 non-null object\n",
      "slug                        44158 non-null object\n",
      "source_url                  44158 non-null object\n",
      "spotlight                   44158 non-null bool\n",
      "staff_pick                  44158 non-null bool\n",
      "state                       44158 non-null object\n",
      "state_changed_at            44158 non-null int64\n",
      "date_ended                  44158 non-null object\n",
      "static_usd_rate             44158 non-null float64\n",
      "urls                        44158 non-null object\n",
      "urls_web                    44158 non-null object\n",
      "url_project                 44158 non-null object\n",
      "url_reward                  44158 non-null object\n",
      "usd_pledged                 44158 non-null float64\n",
      "usd_type                    44014 non-null object\n",
      "dtypes: bool(5), float64(5), int64(8), object(32)\n",
      "memory usage: 15.4+ MB\n"
     ]
    }
   ],
   "source": [
    "ks_2019.info()"
   ]
  },
  {
   "cell_type": "code",
   "execution_count": 3,
   "metadata": {},
   "outputs": [
    {
     "data": {
      "text/plain": [
       "(44158, 50)"
      ]
     },
     "execution_count": 3,
     "metadata": {},
     "output_type": "execute_result"
    }
   ],
   "source": [
    "ks_2019.shape"
   ]
  },
  {
   "cell_type": "code",
   "execution_count": 16,
   "metadata": {},
   "outputs": [
    {
     "data": {
      "text/plain": [
       "USD    26087\n",
       "GBP     6101\n",
       "EUR     4703\n",
       "CAD     2351\n",
       "AUD     1273\n",
       "MXN     1038\n",
       "HKD      747\n",
       "SEK      433\n",
       "SGD      339\n",
       "JPY      291\n",
       "NZD      235\n",
       "DKK      231\n",
       "CHF      222\n",
       "NOK      107\n",
       "Name: currency, dtype: int64"
      ]
     },
     "execution_count": 16,
     "metadata": {},
     "output_type": "execute_result"
    }
   ],
   "source": [
    "ks_2019['currency'].value_counts()"
   ]
  },
  {
   "cell_type": "code",
   "execution_count": 31,
   "metadata": {},
   "outputs": [
    {
     "data": {
      "text/plain": [
       "'https://www.kickstarter.com/projects/469036700/louli-a-lecole?ref=discovery_category_newest'"
      ]
     },
     "execution_count": 31,
     "metadata": {},
     "output_type": "execute_result"
    }
   ],
   "source": [
    "ks_2019['url_project'][0]"
   ]
  },
  {
   "cell_type": "code",
   "execution_count": 34,
   "metadata": {},
   "outputs": [
    {
     "data": {
      "text/html": [
       "<div>\n",
       "<style scoped>\n",
       "    .dataframe tbody tr th:only-of-type {\n",
       "        vertical-align: middle;\n",
       "    }\n",
       "\n",
       "    .dataframe tbody tr th {\n",
       "        vertical-align: top;\n",
       "    }\n",
       "\n",
       "    .dataframe thead th {\n",
       "        text-align: right;\n",
       "    }\n",
       "</style>\n",
       "<table border=\"1\" class=\"dataframe\">\n",
       "  <thead>\n",
       "    <tr style=\"text-align: right;\">\n",
       "      <th></th>\n",
       "      <th>currency</th>\n",
       "      <th>current_currency</th>\n",
       "      <th>goal</th>\n",
       "      <th>pledged</th>\n",
       "      <th>converted_pledged_amount</th>\n",
       "      <th>url_project</th>\n",
       "    </tr>\n",
       "  </thead>\n",
       "  <tbody>\n",
       "    <tr>\n",
       "      <th>0</th>\n",
       "      <td>EUR</td>\n",
       "      <td>USD</td>\n",
       "      <td>600.0</td>\n",
       "      <td>631.0</td>\n",
       "      <td>709</td>\n",
       "      <td>https://www.kickstarter.com/projects/469036700...</td>\n",
       "    </tr>\n",
       "    <tr>\n",
       "      <th>1</th>\n",
       "      <td>USD</td>\n",
       "      <td>USD</td>\n",
       "      <td>30000.0</td>\n",
       "      <td>82.0</td>\n",
       "      <td>82</td>\n",
       "      <td>https://www.kickstarter.com/projects/gplive/gp...</td>\n",
       "    </tr>\n",
       "    <tr>\n",
       "      <th>2</th>\n",
       "      <td>GBP</td>\n",
       "      <td>USD</td>\n",
       "      <td>782.0</td>\n",
       "      <td>889.0</td>\n",
       "      <td>1153</td>\n",
       "      <td>https://www.kickstarter.com/projects/281093153...</td>\n",
       "    </tr>\n",
       "    <tr>\n",
       "      <th>3</th>\n",
       "      <td>USD</td>\n",
       "      <td>USD</td>\n",
       "      <td>7000.0</td>\n",
       "      <td>7415.0</td>\n",
       "      <td>7415</td>\n",
       "      <td>https://www.kickstarter.com/projects/genesisfi...</td>\n",
       "    </tr>\n",
       "    <tr>\n",
       "      <th>4</th>\n",
       "      <td>USD</td>\n",
       "      <td>USD</td>\n",
       "      <td>10000.0</td>\n",
       "      <td>1.0</td>\n",
       "      <td>1</td>\n",
       "      <td>https://www.kickstarter.com/projects/recoverym...</td>\n",
       "    </tr>\n",
       "  </tbody>\n",
       "</table>\n",
       "</div>"
      ],
      "text/plain": [
       "  currency current_currency     goal  pledged  converted_pledged_amount  \\\n",
       "0      EUR              USD    600.0    631.0                       709   \n",
       "1      USD              USD  30000.0     82.0                        82   \n",
       "2      GBP              USD    782.0    889.0                      1153   \n",
       "3      USD              USD   7000.0   7415.0                      7415   \n",
       "4      USD              USD  10000.0      1.0                         1   \n",
       "\n",
       "                                         url_project  \n",
       "0  https://www.kickstarter.com/projects/469036700...  \n",
       "1  https://www.kickstarter.com/projects/gplive/gp...  \n",
       "2  https://www.kickstarter.com/projects/281093153...  \n",
       "3  https://www.kickstarter.com/projects/genesisfi...  \n",
       "4  https://www.kickstarter.com/projects/recoverym...  "
      ]
     },
     "execution_count": 34,
     "metadata": {},
     "output_type": "execute_result"
    }
   ],
   "source": [
    "ks_2019[['currency','current_currency','goal','pledged','converted_pledged_amount','url_project']].head()"
   ]
  },
  {
   "cell_type": "code",
   "execution_count": 15,
   "metadata": {
    "scrolled": true
   },
   "outputs": [
    {
     "data": {
      "text/plain": [
       "USD    44014\n",
       "CAD       48\n",
       "GBP       48\n",
       "AUD       36\n",
       "EUR       12\n",
       "Name: current_currency, dtype: int64"
      ]
     },
     "execution_count": 15,
     "metadata": {},
     "output_type": "execute_result"
    }
   ],
   "source": [
    "ks_2019['current_currency'].value_counts()"
   ]
  },
  {
   "cell_type": "code",
   "execution_count": 12,
   "metadata": {
    "scrolled": true
   },
   "outputs": [
    {
     "data": {
      "text/plain": [
       "$      32070\n",
       "£       6101\n",
       "€       4703\n",
       "kr       771\n",
       "¥        291\n",
       "Fr       222\n",
       "Name: currency_symbol, dtype: int64"
      ]
     },
     "execution_count": 12,
     "metadata": {},
     "output_type": "execute_result"
    }
   ],
   "source": [
    "ks_2019['currency_symbol'].value_counts()"
   ]
  },
  {
   "cell_type": "code",
   "execution_count": 18,
   "metadata": {},
   "outputs": [
    {
     "data": {
      "text/plain": [
       "0     709\n",
       "1      82\n",
       "2    1153\n",
       "3    7415\n",
       "4       1\n",
       "Name: converted_pledged_amount, dtype: int64"
      ]
     },
     "execution_count": 18,
     "metadata": {},
     "output_type": "execute_result"
    }
   ],
   "source": [
    "ks_2019['converted_pledged_amount'].head()"
   ]
  },
  {
   "cell_type": "code",
   "execution_count": 4,
   "metadata": {
    "scrolled": true
   },
   "outputs": [
    {
     "data": {
      "text/plain": [
       "successful    30002\n",
       "failed         7201\n",
       "live           6063\n",
       "canceled        845\n",
       "suspended        47\n",
       "Name: state, dtype: int64"
      ]
     },
     "execution_count": 4,
     "metadata": {},
     "output_type": "execute_result"
    }
   ],
   "source": [
    "ks_2019['state'].value_counts()"
   ]
  },
  {
   "cell_type": "code",
   "execution_count": 5,
   "metadata": {},
   "outputs": [
    {
     "data": {
      "text/plain": [
       "(37203, 50)"
      ]
     },
     "execution_count": 5,
     "metadata": {},
     "output_type": "execute_result"
    }
   ],
   "source": [
    "success_failed_ks_2019 = ks_2019.loc[ks_2019['state'].isin(['successful','failed'])] #성공, 실패 프로젝트 데이터들만 가져오기\n",
    "success_failed_ks_2019.shape"
   ]
  },
  {
   "cell_type": "code",
   "execution_count": 6,
   "metadata": {},
   "outputs": [
    {
     "data": {
      "text/plain": [
       "0    https://www.kickstarter.com/projects/469036700...\n",
       "1    https://www.kickstarter.com/projects/gplive/gp...\n",
       "2    https://www.kickstarter.com/projects/281093153...\n",
       "3    https://www.kickstarter.com/projects/genesisfi...\n",
       "5    https://www.kickstarter.com/projects/gtsa/free...\n",
       "Name: url_project, dtype: object"
      ]
     },
     "execution_count": 6,
     "metadata": {},
     "output_type": "execute_result"
    }
   ],
   "source": [
    "success_failed_ks_2019['url_project'].head()"
   ]
  },
  {
   "cell_type": "code",
   "execution_count": 7,
   "metadata": {},
   "outputs": [],
   "source": [
    "success_failed_url = success_failed_ks_2019['url_project']"
   ]
  },
  {
   "cell_type": "code",
   "execution_count": 8,
   "metadata": {},
   "outputs": [
    {
     "data": {
      "text/plain": [
       "'https://www.kickstarter.com/projects/469036700/louli-a-lecole?ref=discovery_category_newest'"
      ]
     },
     "execution_count": 8,
     "metadata": {},
     "output_type": "execute_result"
    }
   ],
   "source": [
    "success_failed_url[0]"
   ]
  },
  {
   "cell_type": "code",
   "execution_count": 9,
   "metadata": {},
   "outputs": [
    {
     "data": {
      "text/plain": [
       "pandas.core.series.Series"
      ]
     },
     "execution_count": 9,
     "metadata": {},
     "output_type": "execute_result"
    }
   ],
   "source": [
    "type(success_failed_url)"
   ]
  },
  {
   "cell_type": "code",
   "execution_count": null,
   "metadata": {},
   "outputs": [],
   "source": []
  },
  {
   "cell_type": "code",
   "execution_count": 21,
   "metadata": {},
   "outputs": [],
   "source": [
    "failed_url_df = pd.read_csv('./failed_project_url_2019.csv', header=None, names=['url'])"
   ]
  },
  {
   "cell_type": "code",
   "execution_count": 22,
   "metadata": {},
   "outputs": [],
   "source": [
    "failed_url = failed_url_df['url']"
   ]
  },
  {
   "cell_type": "code",
   "execution_count": 23,
   "metadata": {},
   "outputs": [
    {
     "name": "stdout",
     "output_type": "stream",
     "text": [
      "<class 'pandas.core.series.Series'>\n"
     ]
    },
    {
     "data": {
      "text/plain": [
       "0    https://www.kickstarter.com/projects/gplive/gp...\n",
       "1    https://www.kickstarter.com/projects/gtsa/free...\n",
       "2    https://www.kickstarter.com/projects/2rate/2ra...\n",
       "3    https://www.kickstarter.com/projects/945795009...\n",
       "4    https://www.kickstarter.com/projects/sloproces...\n",
       "Name: url, dtype: object"
      ]
     },
     "execution_count": 23,
     "metadata": {},
     "output_type": "execute_result"
    }
   ],
   "source": [
    "print(type(failed_url))\n",
    "failed_url.head()"
   ]
  },
  {
   "cell_type": "code",
   "execution_count": 2,
   "metadata": {},
   "outputs": [],
   "source": [
    "from bs4 import BeautifulSoup\n",
    "import requests\n",
    "import time\n",
    "import random\n",
    "from selenium import webdriver\n",
    "from selenium.webdriver import Chrome\n",
    "from selenium.webdriver import ChromeOptions\n",
    "from selenium.webdriver.common.by import By\n",
    "from selenium.webdriver.support.ui import WebDriverWait\n",
    "from selenium.webdriver.support import expected_conditions as EC"
   ]
  },
  {
   "cell_type": "code",
   "execution_count": 27,
   "metadata": {},
   "outputs": [],
   "source": [
    "#test\n",
    "path = '/Users/DaeyoungKim/Python/Final_Project/Kickstarter_2019-12-12/chromedriver'\n",
    "test_driver = webdriver.Chrome(path)\n",
    "test_driver.get(\"https://www.naver.com\")\n",
    "time.sleep(5)\n",
    "test_driver.quit()"
   ]
  },
  {
   "cell_type": "code",
   "execution_count": 30,
   "metadata": {
    "scrolled": true
   },
   "outputs": [
    {
     "name": "stdout",
     "output_type": "stream",
     "text": [
      "0\n",
      "1\n",
      "2\n",
      "3\n",
      "4\n",
      "5\n",
      "6\n",
      "7\n",
      "8\n",
      "9\n",
      "10\n",
      "11\n",
      "12\n",
      "13\n",
      "14\n",
      "15\n",
      "16\n",
      "17\n",
      "18\n",
      "19\n",
      "20\n",
      "21\n",
      "22\n",
      "23\n",
      "24\n",
      "25\n",
      "26\n",
      "27\n",
      "28\n",
      "Unexpected error at 29 'NoneType' object has no attribute 'select'\n"
     ]
    }
   ],
   "source": [
    "#크롤링을 시작하는 것일 때 사용\n",
    "\n",
    "options = ChromeOptions()\n",
    "options.add_argument('headless')\n",
    "options.add_argument(\"--user-agent=Mozilla/5.0 (Macintosh; Intel Mac OS X 10_15_2) AppleWebKit/537.36 (KHTML, like Gecko) Chrome/79.0.3945.117 Safari/537.36\")\n",
    "path = '/Users/DaeyoungKim/Python/Final_Project/Kickstarter_2019-12-12/chromedriver'\n",
    "driver = Chrome(executable_path=path, options=options)\n",
    "content_list = []\n",
    "\n",
    "for idx, url in enumerate(url_list):\n",
    "    driver.get(url)\n",
    "    time.sleep(random.uniform(1,10))\n",
    "    req = driver.page_source\n",
    "    soup = BeautifulSoup(req, 'lxml')\n",
    "    try:\n",
    "        content_tag = soup.select_one('div.rte__content')\n",
    "        contents = content_tag.select('p')\n",
    "        contents_collected = []\n",
    "        for c in contents:\n",
    "            content = c.get_text().strip()\n",
    "            contents_collected.append(content) #한 프로젝트의 페이지 내 모든 설명/내용들을 하나로 모으고\n",
    "        \n",
    "        try:\n",
    "            risk_challenge_tag = soup.select_one('div#risksAndChallenges')\n",
    "            risk_challenge_list = risk_challenge_tag.select('p.js-risks-text.text-preline')\n",
    "            for rc in risk_challenge_list:\n",
    "                risk_challenge = rc.get_text().strip()\n",
    "        except:\n",
    "            risk_challenge=\" \" #np.nan\n",
    "        \n",
    "        #설명/내용 모은 것을 risk_challenge 모은 것과 index번호와 같이 종합적인 리스트인 content_list에 저장\n",
    "        content_list.append([idx, contents_collected, risk_challenge])\n",
    "        df_content = pd.DataFrame(content_list, columns=['index','content','risk_challenge']) #종합 리스트를 dataframe으로 만들고\n",
    "        df_content.to_csv('failed_ks_content_crawled.csv', index=False, mode='w', encoding='UTF-8') #csv파일로 저장\n",
    "        print(idx) #한 url에 대한 크롤링이 끝날 때마다 해당 index번호 출력\n",
    "        \n",
    "    except Exception as ex:\n",
    "        print(\"Unexpected error at {}\".format(idx), ex) #오류 내용 출력\n",
    "        \n",
    "        error_list = [] #오류난 곳의 index와 url을 담을 리스트\n",
    "        error_list.append([idx, url]) #오류가 난다면 해당 오류의 index와 url을 리스트로 묶어, dataframe변환 및 csv파일 저장\n",
    "        pd.DataFrame(error_list, columns=['index','error_url']).to_csv('failed_ks_middle_errors.csv', index=False, mode='w', encoding='UTF-8')\n",
    "        break #크롤링 중단\n",
    "    \n",
    "    #time.sleep(1)\n",
    "    \n",
    "driver.close()\n",
    "\n",
    "#만약 에러가 났을 시, 아래의 코드로 실행"
   ]
  },
  {
   "cell_type": "code",
   "execution_count": 195,
   "metadata": {},
   "outputs": [],
   "source": [
    "from bs4 import BeautifulSoup\n",
    "import requests\n",
    "import time\n",
    "import random\n",
    "from selenium import webdriver\n",
    "from selenium.webdriver import Chrome\n",
    "from selenium.webdriver import ChromeOptions\n",
    "from selenium.webdriver.common.by import By\n",
    "from selenium.webdriver.support.ui import WebDriverWait\n",
    "from selenium.webdriver.support import expected_conditions as EC"
   ]
  },
  {
   "cell_type": "code",
   "execution_count": 33,
   "metadata": {
    "scrolled": true
   },
   "outputs": [
    {
     "name": "stdout",
     "output_type": "stream",
     "text": [
      "132\n",
      "133\n",
      "134\n",
      "135\n",
      "136\n",
      "137\n",
      "138\n",
      "139\n",
      "140\n",
      "141\n",
      "142\n",
      "143\n",
      "144\n",
      "145\n",
      "146\n",
      "147\n",
      "148\n",
      "149\n",
      "150\n",
      "151\n",
      "152\n",
      "153\n",
      "154\n",
      "155\n",
      "156\n",
      "157\n",
      "158\n",
      "159\n",
      "160\n",
      "161\n",
      "162\n",
      "163\n",
      "164\n",
      "165\n",
      "166\n",
      "167\n",
      "168\n",
      "169\n",
      "170\n",
      "171\n",
      "172\n",
      "173\n",
      "174\n",
      "175\n",
      "176\n",
      "177\n",
      "178\n",
      "179\n",
      "180\n",
      "181\n",
      "182\n",
      "183\n",
      "184\n",
      "185\n",
      "186\n",
      "187\n",
      "188\n",
      "189\n",
      "190\n",
      "191\n",
      "192\n",
      "193\n",
      "194\n",
      "195\n",
      "196\n",
      "197\n",
      "198\n",
      "199\n",
      "200\n"
     ]
    },
    {
     "ename": "WebDriverException",
     "evalue": "Message: disconnected: Unable to receive message from renderer\n  (Session info: headless chrome=79.0.3945.117)\n",
     "output_type": "error",
     "traceback": [
      "\u001b[0;31m---------------------------------------------------------------------------\u001b[0m",
      "\u001b[0;31mWebDriverException\u001b[0m                        Traceback (most recent call last)",
      "\u001b[0;32m<ipython-input-33-02988e4df32d>\u001b[0m in \u001b[0;36m<module>\u001b[0;34m\u001b[0m\n\u001b[1;32m     12\u001b[0m \u001b[0;34m\u001b[0m\u001b[0m\n\u001b[1;32m     13\u001b[0m \u001b[0;32mfor\u001b[0m \u001b[0midx\u001b[0m\u001b[0;34m,\u001b[0m \u001b[0murl\u001b[0m \u001b[0;32min\u001b[0m \u001b[0menumerate\u001b[0m\u001b[0;34m(\u001b[0m\u001b[0mfailed_url\u001b[0m\u001b[0;34m[\u001b[0m\u001b[0;36m132\u001b[0m\u001b[0;34m:\u001b[0m\u001b[0;34m]\u001b[0m\u001b[0;34m,\u001b[0m \u001b[0mstart\u001b[0m\u001b[0;34m=\u001b[0m\u001b[0;36m132\u001b[0m\u001b[0;34m)\u001b[0m\u001b[0;34m:\u001b[0m \u001b[0;31m#오류나면 오류난 부분 index 번호를 [ :]와 start= 에 넣으세요\u001b[0m\u001b[0;34m\u001b[0m\u001b[0;34m\u001b[0m\u001b[0m\n\u001b[0;32m---> 14\u001b[0;31m     \u001b[0mdriver\u001b[0m\u001b[0;34m.\u001b[0m\u001b[0mget\u001b[0m\u001b[0;34m(\u001b[0m\u001b[0murl\u001b[0m\u001b[0;34m)\u001b[0m\u001b[0;34m\u001b[0m\u001b[0;34m\u001b[0m\u001b[0m\n\u001b[0m\u001b[1;32m     15\u001b[0m     \u001b[0mtime\u001b[0m\u001b[0;34m.\u001b[0m\u001b[0msleep\u001b[0m\u001b[0;34m(\u001b[0m\u001b[0mrandom\u001b[0m\u001b[0;34m.\u001b[0m\u001b[0muniform\u001b[0m\u001b[0;34m(\u001b[0m\u001b[0;36m1\u001b[0m\u001b[0;34m,\u001b[0m\u001b[0;36m10\u001b[0m\u001b[0;34m)\u001b[0m\u001b[0;34m)\u001b[0m\u001b[0;34m\u001b[0m\u001b[0;34m\u001b[0m\u001b[0m\n\u001b[1;32m     16\u001b[0m     \u001b[0mreq\u001b[0m \u001b[0;34m=\u001b[0m \u001b[0mdriver\u001b[0m\u001b[0;34m.\u001b[0m\u001b[0mpage_source\u001b[0m\u001b[0;34m\u001b[0m\u001b[0;34m\u001b[0m\u001b[0m\n",
      "\u001b[0;32m/opt/anaconda3/envs/tf/lib/python3.7/site-packages/selenium/webdriver/remote/webdriver.py\u001b[0m in \u001b[0;36mget\u001b[0;34m(self, url)\u001b[0m\n\u001b[1;32m    331\u001b[0m         \u001b[0mLoads\u001b[0m \u001b[0ma\u001b[0m \u001b[0mweb\u001b[0m \u001b[0mpage\u001b[0m \u001b[0;32min\u001b[0m \u001b[0mthe\u001b[0m \u001b[0mcurrent\u001b[0m \u001b[0mbrowser\u001b[0m \u001b[0msession\u001b[0m\u001b[0;34m.\u001b[0m\u001b[0;34m\u001b[0m\u001b[0;34m\u001b[0m\u001b[0m\n\u001b[1;32m    332\u001b[0m         \"\"\"\n\u001b[0;32m--> 333\u001b[0;31m         \u001b[0mself\u001b[0m\u001b[0;34m.\u001b[0m\u001b[0mexecute\u001b[0m\u001b[0;34m(\u001b[0m\u001b[0mCommand\u001b[0m\u001b[0;34m.\u001b[0m\u001b[0mGET\u001b[0m\u001b[0;34m,\u001b[0m \u001b[0;34m{\u001b[0m\u001b[0;34m'url'\u001b[0m\u001b[0;34m:\u001b[0m \u001b[0murl\u001b[0m\u001b[0;34m}\u001b[0m\u001b[0;34m)\u001b[0m\u001b[0;34m\u001b[0m\u001b[0;34m\u001b[0m\u001b[0m\n\u001b[0m\u001b[1;32m    334\u001b[0m \u001b[0;34m\u001b[0m\u001b[0m\n\u001b[1;32m    335\u001b[0m     \u001b[0;34m@\u001b[0m\u001b[0mproperty\u001b[0m\u001b[0;34m\u001b[0m\u001b[0;34m\u001b[0m\u001b[0m\n",
      "\u001b[0;32m/opt/anaconda3/envs/tf/lib/python3.7/site-packages/selenium/webdriver/remote/webdriver.py\u001b[0m in \u001b[0;36mexecute\u001b[0;34m(self, driver_command, params)\u001b[0m\n\u001b[1;32m    319\u001b[0m         \u001b[0mresponse\u001b[0m \u001b[0;34m=\u001b[0m \u001b[0mself\u001b[0m\u001b[0;34m.\u001b[0m\u001b[0mcommand_executor\u001b[0m\u001b[0;34m.\u001b[0m\u001b[0mexecute\u001b[0m\u001b[0;34m(\u001b[0m\u001b[0mdriver_command\u001b[0m\u001b[0;34m,\u001b[0m \u001b[0mparams\u001b[0m\u001b[0;34m)\u001b[0m\u001b[0;34m\u001b[0m\u001b[0;34m\u001b[0m\u001b[0m\n\u001b[1;32m    320\u001b[0m         \u001b[0;32mif\u001b[0m \u001b[0mresponse\u001b[0m\u001b[0;34m:\u001b[0m\u001b[0;34m\u001b[0m\u001b[0;34m\u001b[0m\u001b[0m\n\u001b[0;32m--> 321\u001b[0;31m             \u001b[0mself\u001b[0m\u001b[0;34m.\u001b[0m\u001b[0merror_handler\u001b[0m\u001b[0;34m.\u001b[0m\u001b[0mcheck_response\u001b[0m\u001b[0;34m(\u001b[0m\u001b[0mresponse\u001b[0m\u001b[0;34m)\u001b[0m\u001b[0;34m\u001b[0m\u001b[0;34m\u001b[0m\u001b[0m\n\u001b[0m\u001b[1;32m    322\u001b[0m             response['value'] = self._unwrap_value(\n\u001b[1;32m    323\u001b[0m                 response.get('value', None))\n",
      "\u001b[0;32m/opt/anaconda3/envs/tf/lib/python3.7/site-packages/selenium/webdriver/remote/errorhandler.py\u001b[0m in \u001b[0;36mcheck_response\u001b[0;34m(self, response)\u001b[0m\n\u001b[1;32m    240\u001b[0m                 \u001b[0malert_text\u001b[0m \u001b[0;34m=\u001b[0m \u001b[0mvalue\u001b[0m\u001b[0;34m[\u001b[0m\u001b[0;34m'alert'\u001b[0m\u001b[0;34m]\u001b[0m\u001b[0;34m.\u001b[0m\u001b[0mget\u001b[0m\u001b[0;34m(\u001b[0m\u001b[0;34m'text'\u001b[0m\u001b[0;34m)\u001b[0m\u001b[0;34m\u001b[0m\u001b[0;34m\u001b[0m\u001b[0m\n\u001b[1;32m    241\u001b[0m             \u001b[0;32mraise\u001b[0m \u001b[0mexception_class\u001b[0m\u001b[0;34m(\u001b[0m\u001b[0mmessage\u001b[0m\u001b[0;34m,\u001b[0m \u001b[0mscreen\u001b[0m\u001b[0;34m,\u001b[0m \u001b[0mstacktrace\u001b[0m\u001b[0;34m,\u001b[0m \u001b[0malert_text\u001b[0m\u001b[0;34m)\u001b[0m\u001b[0;34m\u001b[0m\u001b[0;34m\u001b[0m\u001b[0m\n\u001b[0;32m--> 242\u001b[0;31m         \u001b[0;32mraise\u001b[0m \u001b[0mexception_class\u001b[0m\u001b[0;34m(\u001b[0m\u001b[0mmessage\u001b[0m\u001b[0;34m,\u001b[0m \u001b[0mscreen\u001b[0m\u001b[0;34m,\u001b[0m \u001b[0mstacktrace\u001b[0m\u001b[0;34m)\u001b[0m\u001b[0;34m\u001b[0m\u001b[0;34m\u001b[0m\u001b[0m\n\u001b[0m\u001b[1;32m    243\u001b[0m \u001b[0;34m\u001b[0m\u001b[0m\n\u001b[1;32m    244\u001b[0m     \u001b[0;32mdef\u001b[0m \u001b[0m_value_or_default\u001b[0m\u001b[0;34m(\u001b[0m\u001b[0mself\u001b[0m\u001b[0;34m,\u001b[0m \u001b[0mobj\u001b[0m\u001b[0;34m,\u001b[0m \u001b[0mkey\u001b[0m\u001b[0;34m,\u001b[0m \u001b[0mdefault\u001b[0m\u001b[0;34m)\u001b[0m\u001b[0;34m:\u001b[0m\u001b[0;34m\u001b[0m\u001b[0;34m\u001b[0m\u001b[0m\n",
      "\u001b[0;31mWebDriverException\u001b[0m: Message: disconnected: Unable to receive message from renderer\n  (Session info: headless chrome=79.0.3945.117)\n"
     ]
    }
   ],
   "source": [
    "#오류 난 곳부터 크롤링은 이것 사용\n",
    "\n",
    "#content_list = [] : 오류가 나기 전까지의 크롤링 된 내용들은 여기에 이미 저장되어 있다. 이걸 시행하게 되면 이 리스트가 초기화된다;\n",
    "#하지만 우린 데이터를 이어서 append할 것이기에, 이 실행문에선 content_list = [] 빼고 아래에서 실행 돌리면서 이어서 append 할 것이다\n",
    "\n",
    "options = ChromeOptions()\n",
    "options.add_argument('headless')\n",
    "options.add_argument(\"--user-agent=Mozilla/5.0 (Macintosh; Intel Mac OS X 10_15_2) AppleWebKit/537.36 (KHTML, like Gecko) Chrome/79.0.3945.117 Safari/537.36\")\n",
    "#path = '/Users/DaeyoungKim/Python/Final_Project/Kickstarter_2019-12-12/chromedriver' #chromedriver 위치\n",
    "#driver = Chrome(executable_path=path, options=options) #컴퓨터에 Path 환경변수 설정 안 했을 때엔 여기서 이렇게 해줄 수 있음\n",
    "driver = Chrome(options=options)\n",
    "\n",
    "#content_list = []\n",
    "\n",
    "for idx, url in enumerate(url_list[200:], start=200): #오류나면 오류난 부분 index 번호를 [ :]와 start= 에 넣으세요\n",
    "    driver.get(url)\n",
    "    time.sleep(random.uniform(1,10))\n",
    "    req = driver.page_source\n",
    "    soup = BeautifulSoup(req, 'lxml')\n",
    "    try:\n",
    "        content_tag = soup.select_one('div.rte__content')\n",
    "        contents = content_tag.select('p')\n",
    "        contents_collected = []\n",
    "        for c in contents:\n",
    "            content = c.get_text().strip()\n",
    "            contents_collected.append(content)\n",
    "        \n",
    "        try:\n",
    "            risk_challenge_tag = soup.select_one('div#risksAndChallenges')\n",
    "            risk_challenge_list = risk_challenge_tag.select('p.js-risks-text.text-preline')\n",
    "            for rc in risk_challenge_list:\n",
    "                risk_challenge = rc.get_text().strip()\n",
    "        except:\n",
    "            risk_challenge=\" \" #np.nan\n",
    "        \n",
    "        #오류난 곳 부터 다시 크롤링 할 때,\n",
    "        #오류 나기 전까지의 데이터들이 다 저장되어 있는 종합적인 리스트인 content_list 변수에는 계속 이어서 크롤링 되는 것 append하고\n",
    "        #content_list에 모으는 것 유지할 수 있도록\n",
    "        content_list.append([idx, contents_collected, risk_challenge])\n",
    "        \n",
    "        #매 페이지 긁어온 것마다 바로바로 content csv파일에 append 할 것이다\n",
    "        content_list_since_error = []\n",
    "        content_list_since_error.append([idx, contents_collected, risk_challenge])\n",
    "        pd.DataFrame(content_list_since_error, columns=['index','content','risk_challenge']).to_csv('ks_content_crawled.csv', index=False, header=False, mode='a', encoding='UTF-8')\n",
    "        #with open('ks_content_crawled.csv', 'a', encoding='utf-8') as fc:\n",
    "        #    df_content.to_csv(fc, index=False, header=False, encoding='UTF-8')\n",
    "        print(idx)\n",
    "        \n",
    "    except Exception as ex:\n",
    "        #오류가 난다면, 일단 무슨 오류가 어디서 났는지 알리고\n",
    "        print(\"Unexpected error at {}\".format(idx), ex)\n",
    "        \n",
    "        #오류가 나면 크롤링을 중지시킬 것이기에, index와 url을 담은 csv 파일을 매번 새로 만들것이다 (append가 아닌 덮어쓰기 처럼 된다)\n",
    "        error_list = [] #오류가 난 곳부터 다시 크롤링을 하는 것이기에, 새로 뜨는 오류를 담을 리스트 새로 생성\n",
    "        error_list.append([idx, url]) #그리고 리스트로 묶어 오류를 저장할 새 csv파일 생성 및 저장\n",
    "        pd.DataFrame(error_list, columns=['index','error_url']).to_csv('ks_middle_errors.csv', index=False, mode='w', encoding='UTF-8')\n",
    "        #with open('ks_middle_errors.csv', 'a', encoding='utf-8') as fe:\n",
    "        #    df_content.to_csv(fe, index=False, encoding='UTF-8')\n",
    "        break\n",
    "    \n",
    "    #time.sleep(1)\n",
    "    \n",
    "driver.close()"
   ]
  },
  {
   "cell_type": "code",
   "execution_count": null,
   "metadata": {},
   "outputs": [],
   "source": []
  },
  {
   "cell_type": "code",
   "execution_count": null,
   "metadata": {},
   "outputs": [],
   "source": [
    "#크롤링이 계속(continue)되도록 돌릴 때 사용\n",
    "\n",
    "options = ChromeOptions()\n",
    "options.add_argument('headless')\n",
    "options.add_argument(\"--user-agent=Mozilla/5.0 (Macintosh; Intel Mac OS X 10_15_2) AppleWebKit/537.36 (KHTML, like Gecko) Chrome/79.0.3945.117 Safari/537.36\")\n",
    "#path = '/Users/DaeyoungKim/Python/Final_Project/Kickstarter_2019-12-12/chromedriver' #chromedriver 위치\n",
    "#driver = Chrome(executable_path=path, options=options) #컴퓨터에 Path 환경변수 설정 안 했을 때엔 여기서 이렇게 해줄 수 있음\n",
    "driver = Chrome(options=options)\n",
    "\n",
    "#content_list = []\n",
    "\n",
    "for idx, url in enumerate(url_list):\n",
    "    driver.get(url)\n",
    "    time.sleep(random.uniform(8,20))\n",
    "    req = driver.page_source\n",
    "    soup = BeautifulSoup(req, 'lxml')\n",
    "    try:\n",
    "        content_tag = soup.select_one('div.rte__content')\n",
    "        contents = content_tag.select('p')\n",
    "        contents_collected = []\n",
    "        for c in contents:\n",
    "            content = c.get_text().strip()\n",
    "            contents_collected.append(content)\n",
    "        \n",
    "        try:\n",
    "            risk_challenge_tag = soup.select_one('div#risksAndChallenges')\n",
    "            risk_challenge_list = risk_challenge_tag.select('p.js-risks-text.text-preline')\n",
    "            for rc in risk_challenge_list:\n",
    "                risk_challenge = rc.get_text().strip()\n",
    "        except:\n",
    "            risk_challenge=\" \" #결측치 처리 전엔 --> np.nan \n",
    "        \n",
    "        #오류 나기 전까지 저장되어 있는 content_list에는 이어서 append하고; 그래서 content_list에 모으는 것도 유지할 수 있도록\n",
    "        content_list.append([idx, contents_collected, risk_challenge])\n",
    "        \n",
    "        #오류 난 후부턴 다시 크롤링 할 때, 매 페이지 긁어온 것마다 바로바로 csv파일에 한줄씩 append 할 것이다\n",
    "        content_list_since_error = []\n",
    "        content_list_since_error.append([idx, contents_collected, risk_challenge])\n",
    "        pd.DataFrame(content_list_since_error, columns=['index','content','risk_challenge']).to_csv('ks_content_crawled.csv', index=False, header=False, mode='a', encoding='UTF-8')\n",
    "        print(idx)\n",
    "        \n",
    "    except Exception as ex:\n",
    "        #오류가 난다면, 일단 무슨 오류가 어디서 났는지 알리고\n",
    "        print(\"Unexpected error at {}\".format(idx), ex)\n",
    "        \n",
    "        #오류 부분의 index와 url은 오류만 모으는 csv파일에 계속 append 되도록 하고\n",
    "        error_list = []\n",
    "        error_list.append([idx, url])\n",
    "        pd.DataFrame(error_list, columns=['index','error_url']).to_csv('ks_middle_errors.csv', index=False, header=False, mode='a', encoding='UTF-8')\n",
    "        \n",
    "        #따로 계속 모으던 content_list 변수엔 index, url, nan/null값을 대신 넣을거다\n",
    "        content_list.append([idx, url, np.nan]) #contents_collected 자리엔 오류난 곳 url을, risk_challenge자리엔 nan/null값을 대신 삽입\n",
    "        \n",
    "        #content모으는 csv파일에도 에러난 곳은 index, url, nan/null값이 대신 들어가게 하자\n",
    "        error_into_saved_csv = []\n",
    "        error_into_saved_csv.append([idx, url, np.nan]) #오류난 곳의 index와 url 그리고 null값을 묶어서 리스트에 전달하고, 이어서 content csv파일에 append 및 저장\n",
    "        pd.DataFrame(error_into_saved_csv, columns=['index','content','risk_challenge']).to_csv('failed_ks_content_crawled.csv', index=False, header=False, mode='a', encoding='UTF-8')\n",
    "        \n",
    "        continue\n",
    "    \n",
    "    #time.sleep(1)\n",
    "    \n",
    "driver.close()"
   ]
  },
  {
   "cell_type": "code",
   "execution_count": 197,
   "metadata": {},
   "outputs": [
    {
     "data": {
      "text/plain": [
       "nan"
      ]
     },
     "execution_count": 197,
     "metadata": {},
     "output_type": "execute_result"
    }
   ],
   "source": [
    "risk = np.nan\n",
    "risk"
   ]
  },
  {
   "cell_type": "code",
   "execution_count": 198,
   "metadata": {},
   "outputs": [
    {
     "data": {
      "text/plain": [
       "'https://www.kickstarter.com/projects/gtsa/free-global-transport-sharing-app?ref=discovery_category_newest'"
      ]
     },
     "execution_count": 198,
     "metadata": {},
     "output_type": "execute_result"
    }
   ],
   "source": [
    "test = pd.read_csv('test.csv', header=None, names=['url'])\n",
    "test_url = test['url']\n",
    "test_url[1]"
   ]
  },
  {
   "cell_type": "code",
   "execution_count": null,
   "metadata": {},
   "outputs": [],
   "source": [
    "#크롤링 block 당했거나 오류가 났을 때, continue하고 다음 url로 바로 넘어가는게 아니라 약 2분 정도 간격으로 10번까지 찔러보다가 되면 scrape하고 안 되면 continue되도록 한다\n",
    "\n",
    "options = ChromeOptions()\n",
    "options.add_argument('headless')\n",
    "options.add_argument(\"--user-agent=Mozilla/5.0 (Windows NT 10.0; Win64; x64) AppleWebKit/537.36 (KHTML, like Gecko) Chrome/79.0.3945.117 Safari/537.36\")\n",
    "#path = '/Users/DaeyoungKim/Python/Final_Project/Kickstarter_2019-12-12/chromedriver' #chromedriver 위치\n",
    "#driver = Chrome(executable_path=path, options=options) #컴퓨터에 Path 환경변수 설정 안 했을 때엔 여기서 이렇게 해줄 수 있음\n",
    "driver = Chrome(options=options)\n",
    "\n",
    "content_list = []\n",
    "\n",
    "for idx, url in enumerate(test):\n",
    "    driver.get(url)\n",
    "    time.sleep(random.uniform(8,20))\n",
    "    req = driver.page_source\n",
    "    soup = BeautifulSoup(req, 'lxml')\n",
    "    try:\n",
    "        content_tag = soup.select_one('div.rte__content')\n",
    "        contents = content_tag.select('p')\n",
    "        contents_collected = []\n",
    "        for c in contents:\n",
    "            content = c.get_text().strip()\n",
    "            contents_collected.append(content)\n",
    "        \n",
    "        try:\n",
    "            risk_challenge_tag = soup.select_one('div#risksAndChallenges')\n",
    "            risk_challenge_list = risk_challenge_tag.select('p.js-risks-text.text-preline')\n",
    "            for rc in risk_challenge_list:\n",
    "                risk_challenge = rc.get_text().strip()\n",
    "        except:\n",
    "            risk_challenge=\" \" #또는 np.nan\n",
    "        \n",
    "        #오류 나기 전까지 저장되어 있는 content_list에는 이어서 append하고; 그래서 content_list에 모으는 것도 유지할 수 있도록\n",
    "        content_list.append([idx, contents_collected, risk_challenge])\n",
    "        \n",
    "        #오류 난 후부턴 다시 크롤링 할 때, 매 페이지 긁어온 것마다 바로바로 csv파일에 한줄씩 append 할 것이다\n",
    "        content_list_since_error = []\n",
    "        content_list_since_error.append([idx, contents_collected, risk_challenge])\n",
    "        pd.DataFrame(content_list_since_error, columns=['index','content','risk_challenge']).to_csv('failed_ks_content_crawled.csv', index=False, header=False, mode='a', encoding='UTF-8')\n",
    "        print(idx)\n",
    "        \n",
    "    except Exception as ex:\n",
    "        print(\"Unexpected error at {}\".format(idx), ex)\n",
    "        error_url = url\n",
    "        count = 0\n",
    "        while count < 11:\n",
    "            print(\"Retrying:\", count)\n",
    "            driver.get(error_url)\n",
    "            time.sleep(random.uniform(8,20))\n",
    "            req = driver.page_source\n",
    "            soup = BeautifulSoup(req, 'lxml')\n",
    "            try:\n",
    "                content_tag = soup.select_one('div.rte__content')\n",
    "                contents = content_tag.select('p')\n",
    "                contents_collected = []\n",
    "                for c in contents:\n",
    "                    content = c.get_text().strip()\n",
    "                    contents_collected.append(content)\n",
    "                \n",
    "                try:\n",
    "                    risk_challenge_tag = soup.select_one('div#risksAndChallenges')\n",
    "                    risk_challenge_list = risk_challenge_tag.select('p.js-risks-text.text-preline')\n",
    "                    for rc in risk_challenge_list:\n",
    "                        risk_challenge = rc.get_text().strip()\n",
    "                except:\n",
    "                    risk_challenge=\" \" #또는 np.nan\n",
    "                \n",
    "                content_list.append([idx, contents_collected, risk_challenge])\n",
    "\n",
    "                content_list_since_error = []\n",
    "                content_list_since_error.append([idx, contents_collected, risk_challenge])\n",
    "                pd.DataFrame(content_list_since_error, columns=['index','content','risk_challenge']).to_csv('ks_content_crawled.csv', index=False, header=False, mode='a', encoding='UTF-8')\n",
    "                print(idx)\n",
    "                break\n",
    "                \n",
    "            except Exception as et:\n",
    "                print(\"Error while retrying:\", et)\n",
    "                time.sleep(random.uniform(100,130))\n",
    "                count += 1\n",
    "                continue\n",
    "        \n",
    "        #만약 재시도를 10번 했는데도 크롤링에 실패한다면, 원래 했던대로 오류 index, url, nan값을 csv파일들에 저장\n",
    "        if count == 11:\n",
    "            error_list = []\n",
    "            error_list.append([idx, error_url])\n",
    "            pd.DataFrame(error_list, columns=['index','error_url']).to_csv('ks_middle_errors.csv', index=False, header=False, mode='a', encoding='UTF-8')\n",
    "        \n",
    "            content_list.append([idx, error_url, np.nan])\n",
    "        \n",
    "            error_into_saved_csv = []\n",
    "            error_into_saved_csv.append([idx, error_url, np.nan])\n",
    "            pd.DataFrame(error_into_saved_csv, columns=['index','content','risk_challenge']).to_csv('ks_content_crawled.csv', index=False, header=False, mode='a', encoding='UTF-8')\n",
    "        \n",
    "        continue\n",
    "    \n",
    "driver.close()"
   ]
  },
  {
   "cell_type": "code",
   "execution_count": null,
   "metadata": {},
   "outputs": [],
   "source": []
  },
  {
   "cell_type": "code",
   "execution_count": null,
   "metadata": {},
   "outputs": [],
   "source": []
  }
 ],
 "metadata": {
  "kernelspec": {
   "display_name": "Python 3",
   "language": "python",
   "name": "python3"
  },
  "language_info": {
   "codemirror_mode": {
    "name": "ipython",
    "version": 3
   },
   "file_extension": ".py",
   "mimetype": "text/x-python",
   "name": "python",
   "nbconvert_exporter": "python",
   "pygments_lexer": "ipython3",
   "version": "3.8.10"
  },
  "toc": {
   "base_numbering": 1,
   "nav_menu": {},
   "number_sections": true,
   "sideBar": true,
   "skip_h1_title": false,
   "title_cell": "Table of Contents",
   "title_sidebar": "Contents",
   "toc_cell": false,
   "toc_position": {},
   "toc_section_display": true,
   "toc_window_display": false
  }
 },
 "nbformat": 4,
 "nbformat_minor": 4
}
