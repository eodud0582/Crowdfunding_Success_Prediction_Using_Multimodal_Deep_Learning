{
 "cells": [
  {
   "cell_type": "markdown",
   "metadata": {},
   "source": [
    "# **딥러닝을 이용한 크라우드펀딩 성공 예측**"
   ]
  },
  {
   "cell_type": "markdown",
   "metadata": {},
   "source": [
    "# 목차\n",
    "* [0. 프로젝트 설명](#c0)\n",
    "* [1. 메타 데이터(정형 데이터) 처리 - 1차 탐색 및 전처리](#c1)\n",
    "* [2. 메타 데이터 처리 - 모델링에 사용할 예측변수 EDA 및 2차 전처리](#c2)\n",
    "* [3. 이미지 데이터 처리 - 전이 학습 및 특성 추출](#c3)\n",
    "* [4. 텍스트 데이터 처리 - 데이터 수집/크롤링](#c4)\n",
    "* [5. 데이터셋 정리 - 텍스트 데이터 분리 및 결합](#c5)\n",
    "* [6. 자연어 처리 - 텍스트 데이터 처리 및 CNN 적용](#c6)\n",
    "* [7. (문제 해결 후) 처리된 메타, 이미지, 텍스트 데이터 결합, 딥러닝 학습 및 모델링](#c7)"
   ]
  },
  {
   "cell_type": "markdown",
   "metadata": {},
   "source": []
  },
  {
   "cell_type": "markdown",
   "metadata": {},
   "source": [
    "# 0. 프로젝트 설명<a class=\"anchor\" id = \"c0\"> </a>"
   ]
  },
  {
   "cell_type": "markdown",
   "metadata": {},
   "source": [
    "## 문제\n",
    "- NGO, NPO, CBO, CSO, 사회적 기업, 소셜 벤처 등 운영 또는 프로그램/사업 수행 자금 및 재정 문제\n",
    "- 특히 비영리적 성격이 강하거나 완전한 비영리인 경우 이러한 문제는 고질적\n",
    "- 하지만 정부 지원, 재단 후원, 기업의 투자, 협력 사업 등을 통한 자금 지원을 얻는 것엔 한계나 어려움이 항상 있음\n",
    "\n",
    "## 해결\n",
    "- **크라우드펀딩**을 통한 모금\n",
    "- 크라우드펀딩 성공을 미리 예측하는 것이 펀딩 성공에 큰 도움이 될 것으로 판단\n",
    "\n",
    "## 설명\n",
    "- 세계 최대 크라우드펀딩 플랫폼 **Kistarter** 데이터 수집\n",
    "    - 17만개 이상의 성공적인 펀드레이징, 1,700만명 이상의 후원자, 4조 8천억원의 총 모금액\n",
    "    - 방대한 양의 데이터를 통해 다양한 인사이트를 얻을 수 있을 것으로 판단\n",
    "- **펀딩 런칭 전(pre-launch)** 관련 요인/특성 데이터만 사용\n",
    "    - 지금까지의 크라우드펀딩 예측 관련 연구나 논문들은 펀딩 런칭 후(post-launch)에 발생하는 요인, 결과 또는 역학(dynamics)을 분석한 펀딩 결과 예측이 대부분 (ex: 댓글, 답글, 소셜미디어/온라인 상의 전파, 파급력, 공유 횟수, 후원자 수 등)\n",
    "    - 하지만 이러한 펀딩 런칭 후 발생하는 요인과 결과는 모금을 하는 대상이 그 결과를 만들어내거나 제어 할 수 없는 또는 한계가 큰 요인인 것이 대부분이며, 이러한 런칭 후 발생하는 요인을 이용한 결과 예측은 런칭 후 일정 시간이 지난 뒤에야 펀딩 결과를 예측을 할 수 있거나 시기적절하게 결과를 예측 할 수 없고 펀딩을 수정하거나 개선하는 것에도 어려움과 한계가 있음\n",
    "    - 하지만 펀딩 런칭 전(pre-launch)과 관련된 요인들은 직접 설정과 제어를 할 수 있으며, 그리고 펀딩 런칭 전에 펀딩 성공/성공율을 미리 예측 할 수 있다면 무엇이 문제일지 고민하고 파악할 수 있고 성공율을 더 높이는 방향으로 펀딩 프로젝트를 수정/개선해 갈 수 있고, 이렇게 사전에 미리 잘 준비하고 퀄리티 있는 프로젝트를 만들 수 있다면 펀딩 성공율은 크게 증가할 것\n",
    "    - 한 마디로, 펀딩을 런칭하기 전에 미리 펑딩에 성공 할 수 있는 펀딩 프로젝트를 만드는 것\n",
    "- 탐색적 분석 및 **딥러닝**을 활용한 펀딩 성공 예측 모델링\n",
    "\n",
    "## 기대 효과\n",
    "- 성공 할 수 있는 또는 가능성이 큰 크라우드펀딩 프로젝트를 만들 수 있다면:\n",
    "    1. 대중에게 기업/기관 또는 개인의 일과 분야에 대해 알릴 수 있고 대중의 관심을 이끌어내거나 대중의 인식을 높일 수 있으며\n",
    "    2. 모금을 통해 필요한 자원/자금 또한 얻을 수 있음"
   ]
  },
  {
   "cell_type": "markdown",
   "metadata": {},
   "source": [
    "## 데이터셋\n",
    "- 메타 데이터(크라우드펀딩 상품 프로필 데이터)\n",
    "    - 정형 데이터\n",
    "    - 목표 모금액, 모금기간 등 펀딩에 대한 다양한 설정\n",
    "- 이미지 데이터\n",
    "    - 펀딩 프로젝트에 사용된 메인 사진\n",
    "    - 웹사이트 메뉴나 펀딩 페이지 상에서 가장 먼저 눈에 보임\n",
    "- 텍스트(text) 데이터\n",
    "    - 펀딩 제목, 부제목(펀딩에 대한 간략한 설명글), 본문"
   ]
  },
  {
   "cell_type": "markdown",
   "metadata": {},
   "source": [
    "## 분석 환경\n",
    "- Google Clound Platform (GCP)\n",
    "- Python"
   ]
  },
  {
   "cell_type": "markdown",
   "metadata": {},
   "source": [
    "## 분석 방향\n",
    "- 탐색적 분석 및 복합적/다각적 딥러닝 모델 구현\n",
    "- 수집한 메타 데이터(정형데이터), 이미지 데이터, 텍스트 데이터 각각을 예측 모델링에 적합하게 전처리 및 가공\n",
    "    - 단계 :\n",
    "        1. 메타 데이터 처리\n",
    "        2. 이미지 데이터 처리\n",
    "        3. 텍스트 데이터 처리\n",
    "- 그 세 처리 결과를 하나로 결합 후 딥러닝 모델에 학습시켜 모델링, 검증 및 평가\n",
    "- 이후 웹어플리케이션으로 구현"
   ]
  },
  {
   "cell_type": "markdown",
   "metadata": {},
   "source": []
  },
  {
   "cell_type": "markdown",
   "metadata": {},
   "source": [
    "# 1. 메타 데이터(정형 데이터) 처리 - 1차 탐색 및 전처리 <a class=\"anchor\" id=\"c1\"></a>\n",
    "---"
   ]
  },
  {
   "cell_type": "code",
   "execution_count": 3,
   "metadata": {
    "colab": {},
    "colab_type": "code",
    "id": "4L-pw8HSAG-F"
   },
   "outputs": [],
   "source": [
    "import pandas as pd\n",
    "import numpy as np\n",
    "import matplotlib.pyplot as plt\n",
    "import seaborn as sns\n",
    "from datetime import datetime, timedelta\n",
    "import os\n",
    "import json\n",
    "import time\n",
    "import random\n",
    "np.random.seed(1)"
   ]
  },
  {
   "cell_type": "code",
   "execution_count": 5,
   "metadata": {
    "colab": {},
    "colab_type": "code",
    "id": "dN-A49WpAG-L"
   },
   "outputs": [],
   "source": [
    "# 40여개 csv파일로 나뉘어져 있는 데이터셋\n",
    "# 모든 데이터셋 파일 하나로 합쳐서 가져오기\n",
    "import os\n",
    "import glob\n",
    "\n",
    "path = r'/Users/DaeyoungKim/Python/Final_Project/Kickstarter_2019-12-12'\n",
    "all_files = glob.glob(os.path.join(path, \"*.csv\")) #glob.iglob --> returns iterator, instead of a list\n",
    "\n",
    "df_from_each_file = (pd.read_csv(f) for f in all_files)\n",
    "concatenated_df = pd.concat(df_from_each_file, ignore_index=True)\n",
    "\n",
    "#df = pd.concat(map(pd.read_csv, glob.glob(os.path.join('', \"my_files*.csv\"))))"
   ]
  },
  {
   "cell_type": "code",
   "execution_count": 73,
   "metadata": {
    "colab": {},
    "colab_type": "code",
    "id": "xQgcrcJMAG-U",
    "outputId": "3d81c5dc-e47d-4c64-b0ef-0210310eeb54"
   },
   "outputs": [
    {
     "data": {
      "text/html": [
       "<div>\n",
       "<style scoped>\n",
       "    .dataframe tbody tr th:only-of-type {\n",
       "        vertical-align: middle;\n",
       "    }\n",
       "\n",
       "    .dataframe tbody tr th {\n",
       "        vertical-align: top;\n",
       "    }\n",
       "\n",
       "    .dataframe thead th {\n",
       "        text-align: right;\n",
       "    }\n",
       "</style>\n",
       "<table border=\"1\" class=\"dataframe\">\n",
       "  <thead>\n",
       "    <tr style=\"text-align: right;\">\n",
       "      <th></th>\n",
       "      <th>backers_count</th>\n",
       "      <th>blurb</th>\n",
       "      <th>category</th>\n",
       "      <th>converted_pledged_amount</th>\n",
       "      <th>country</th>\n",
       "      <th>country_displayable_name</th>\n",
       "      <th>created_at</th>\n",
       "      <th>creator</th>\n",
       "      <th>currency</th>\n",
       "      <th>currency_symbol</th>\n",
       "      <th>...</th>\n",
       "      <th>slug</th>\n",
       "      <th>source_url</th>\n",
       "      <th>spotlight</th>\n",
       "      <th>staff_pick</th>\n",
       "      <th>state</th>\n",
       "      <th>state_changed_at</th>\n",
       "      <th>static_usd_rate</th>\n",
       "      <th>urls</th>\n",
       "      <th>usd_pledged</th>\n",
       "      <th>usd_type</th>\n",
       "    </tr>\n",
       "  </thead>\n",
       "  <tbody>\n",
       "    <tr>\n",
       "      <th>0</th>\n",
       "      <td>31</td>\n",
       "      <td>Un livre enfant pour l’apprentissage des émoti...</td>\n",
       "      <td>{\"id\":46,\"name\":\"Children's Books\",\"slug\":\"pub...</td>\n",
       "      <td>709</td>\n",
       "      <td>FR</td>\n",
       "      <td>France</td>\n",
       "      <td>1561554849</td>\n",
       "      <td>{\"id\":469036700,\"name\":\"Camille de Germond\",\"i...</td>\n",
       "      <td>EUR</td>\n",
       "      <td>€</td>\n",
       "      <td>...</td>\n",
       "      <td>louli-a-lecole</td>\n",
       "      <td>https://www.kickstarter.com/discover/categorie...</td>\n",
       "      <td>True</td>\n",
       "      <td>False</td>\n",
       "      <td>successful</td>\n",
       "      <td>1566744397</td>\n",
       "      <td>1.140661</td>\n",
       "      <td>{\"web\":{\"project\":\"https://www.kickstarter.com...</td>\n",
       "      <td>719.756813</td>\n",
       "      <td>domestic</td>\n",
       "    </tr>\n",
       "  </tbody>\n",
       "</table>\n",
       "<p>1 rows × 38 columns</p>\n",
       "</div>"
      ],
      "text/plain": [
       "   backers_count                                              blurb  \\\n",
       "0             31  Un livre enfant pour l’apprentissage des émoti...   \n",
       "\n",
       "                                            category  \\\n",
       "0  {\"id\":46,\"name\":\"Children's Books\",\"slug\":\"pub...   \n",
       "\n",
       "   converted_pledged_amount country country_displayable_name  created_at  \\\n",
       "0                       709      FR                   France  1561554849   \n",
       "\n",
       "                                             creator currency currency_symbol  \\\n",
       "0  {\"id\":469036700,\"name\":\"Camille de Germond\",\"i...      EUR               €   \n",
       "\n",
       "   ...            slug                                         source_url  \\\n",
       "0  ...  louli-a-lecole  https://www.kickstarter.com/discover/categorie...   \n",
       "\n",
       "   spotlight  staff_pick       state  state_changed_at  static_usd_rate  \\\n",
       "0       True       False  successful        1566744397         1.140661   \n",
       "\n",
       "                                                urls usd_pledged  usd_type  \n",
       "0  {\"web\":{\"project\":\"https://www.kickstarter.com...  719.756813  domestic  \n",
       "\n",
       "[1 rows x 38 columns]"
      ]
     },
     "execution_count": 73,
     "metadata": {},
     "output_type": "execute_result"
    }
   ],
   "source": [
    "concatenated_df.head(1)"
   ]
  },
  {
   "cell_type": "code",
   "execution_count": 74,
   "metadata": {
    "colab": {},
    "colab_type": "code",
    "id": "qS4HYgH_AG-Y",
    "outputId": "d6e65be6-5a4b-45ee-af7a-41a0b7c50b58",
    "scrolled": true
   },
   "outputs": [
    {
     "name": "stdout",
     "output_type": "stream",
     "text": [
      "<class 'pandas.core.frame.DataFrame'>\n",
      "RangeIndex: 215800 entries, 0 to 215799\n",
      "Data columns (total 38 columns):\n",
      "backers_count               215800 non-null int64\n",
      "blurb                       215792 non-null object\n",
      "category                    215800 non-null object\n",
      "converted_pledged_amount    215800 non-null int64\n",
      "country                     215800 non-null object\n",
      "country_displayable_name    215800 non-null object\n",
      "created_at                  215800 non-null int64\n",
      "creator                     215800 non-null object\n",
      "currency                    215800 non-null object\n",
      "currency_symbol             215800 non-null object\n",
      "currency_trailing_code      215800 non-null bool\n",
      "current_currency            215800 non-null object\n",
      "deadline                    215800 non-null int64\n",
      "disable_communication       215800 non-null bool\n",
      "friends                     252 non-null object\n",
      "fx_rate                     215800 non-null float64\n",
      "goal                        215800 non-null float64\n",
      "id                          215800 non-null int64\n",
      "is_backing                  252 non-null object\n",
      "is_starrable                215800 non-null bool\n",
      "is_starred                  252 non-null object\n",
      "launched_at                 215800 non-null int64\n",
      "location                    215583 non-null object\n",
      "name                        215800 non-null object\n",
      "permissions                 252 non-null object\n",
      "photo                       215800 non-null object\n",
      "pledged                     215800 non-null float64\n",
      "profile                     215800 non-null object\n",
      "slug                        215800 non-null object\n",
      "source_url                  215800 non-null object\n",
      "spotlight                   215800 non-null bool\n",
      "staff_pick                  215800 non-null bool\n",
      "state                       215800 non-null object\n",
      "state_changed_at            215800 non-null int64\n",
      "static_usd_rate             215800 non-null float64\n",
      "urls                        215800 non-null object\n",
      "usd_pledged                 215800 non-null float64\n",
      "usd_type                    215656 non-null object\n",
      "dtypes: bool(5), float64(5), int64(7), object(21)\n",
      "memory usage: 55.4+ MB\n"
     ]
    }
   ],
   "source": [
    "concatenated_df.info()"
   ]
  },
  {
   "cell_type": "markdown",
   "metadata": {},
   "source": [
    "## 데이터 크기:\n",
    "- 현재 데이터 행 수: **215,799**\n",
    "- 현재 데이터 열(컬럼) 수: **38**"
   ]
  },
  {
   "cell_type": "markdown",
   "metadata": {},
   "source": [
    "## - 메타 데이터의 모든 컬럼 조회/탐색 및 1차 전처리/가공"
   ]
  },
  {
   "cell_type": "markdown",
   "metadata": {},
   "source": [
    "## backers_count\n",
    "- 해당 펀딩 프로젝트의 후원자 수"
   ]
  },
  {
   "cell_type": "code",
   "execution_count": 54,
   "metadata": {},
   "outputs": [
    {
     "name": "stdout",
     "output_type": "stream",
     "text": [
      "unique values:  3284\n",
      "data size:  215800\n",
      "dtype:  <class 'numpy.int64'>\n",
      "null/nan 수:  0\n",
      "-----------------------------\n",
      "데이터 형태 예시\n",
      "\n",
      "31\n"
     ]
    }
   ],
   "source": [
    "column_to_look = 'backers_count'\n",
    "print(\"unique values: \", kickstarter_dataset[column_to_look].nunique())\n",
    "#print(\"unique value별 개수:\\n\", kickstarter_dataset[column_to_look].value_counts()) #normalize=True -- 비율 집계\n",
    "print(\"data size: \", kickstarter_dataset[column_to_look].size)\n",
    "print(\"dtype: \", type(kickstarter_dataset[column_to_look][0]))\n",
    "print(\"null/nan 수: \", kickstarter_dataset[column_to_look].isna().sum())\n",
    "print(\"-----------------------------\")\n",
    "print(\"데이터 형태 예시\\n\")\n",
    "print(kickstarter_dataset[column_to_look][0])"
   ]
  },
  {
   "cell_type": "markdown",
   "metadata": {},
   "source": [
    "## blurb\n",
    "- 펀딩의 부제목; 프로젝트 관련 짤막한 promotiional 설명글"
   ]
  },
  {
   "cell_type": "code",
   "execution_count": 53,
   "metadata": {},
   "outputs": [
    {
     "name": "stdout",
     "output_type": "stream",
     "text": [
      "unique values:  186790\n",
      "data size:  215800\n",
      "dtype:  <class 'str'>\n",
      "null/nan 수:  8\n",
      "-----------------------------\n",
      "데이터 형태 예시\n",
      "\n",
      "Un livre enfant pour l’apprentissage des émotions.\n"
     ]
    }
   ],
   "source": [
    "column_to_look = 'blurb'\n",
    "print(\"unique values: \", kickstarter_dataset[column_to_look].nunique())\n",
    "#print(\"unique value별 개수:\\n\", kickstarter_dataset[column_to_look].value_counts()) #normalize=True -- 비율 집계\n",
    "print(\"data size: \", kickstarter_dataset[column_to_look].size)\n",
    "print(\"dtype: \", type(kickstarter_dataset[column_to_look][0]))\n",
    "print(\"null/nan 수: \", kickstarter_dataset[column_to_look].isna().sum())\n",
    "print(\"-----------------------------\")\n",
    "print(\"데이터 형태 예시\\n\")\n",
    "print(kickstarter_dataset[column_to_look][0])"
   ]
  },
  {
   "cell_type": "markdown",
   "metadata": {},
   "source": [
    "## category\n",
    "- 펀딩(제품/서비스) 유형"
   ]
  },
  {
   "cell_type": "code",
   "execution_count": 52,
   "metadata": {},
   "outputs": [
    {
     "name": "stdout",
     "output_type": "stream",
     "text": [
      "unique values:  170\n",
      "data size:  215800\n",
      "dtype:  <class 'str'>\n",
      "null/nan 수:  0\n",
      "-----------------------------\n",
      "데이터 형태 예시\n",
      "\n",
      "{'id': 46, 'name': \"Children's Books\", 'slug': \"publishing/children's books\", 'position': 5, 'parent_id': 18, 'color': 14867664, 'urls': {'web': {'discover': \"http://www.kickstarter.com/discover/categories/publishing/children's%20books\"}}}\n"
     ]
    }
   ],
   "source": [
    "column_to_look = 'category'\n",
    "print(\"unique values: \", kickstarter_dataset[column_to_look].nunique())\n",
    "#print(\"unique value별 개수:\\n\", kickstarter_dataset[column_to_look].value_counts()) #normalize=True -- 비율 집계\n",
    "print(\"data size: \", kickstarter_dataset[column_to_look].size)\n",
    "print(\"dtype: \", type(kickstarter_dataset[column_to_look][0]))\n",
    "print(\"null/nan 수: \", kickstarter_dataset[column_to_look].isna().sum())\n",
    "print(\"-----------------------------\")\n",
    "print(\"데이터 형태 예시\\n\")\n",
    "print(kickstarter_dataset[column_to_look][0])"
   ]
  },
  {
   "cell_type": "code",
   "execution_count": null,
   "metadata": {},
   "outputs": [],
   "source": [
    "# 'category'컬럼이 생긴 형태는 dictionary이지만, dtype은 string\n",
    "# --> dictionary 기능을 하도록 실제 dictionary로 변경"
   ]
  },
  {
   "cell_type": "code",
   "execution_count": 75,
   "metadata": {
    "colab": {
     "base_uri": "https://localhost:8080/",
     "height": 34
    },
    "colab_type": "code",
    "executionInfo": {
     "elapsed": 695,
     "status": "ok",
     "timestamp": 1578817038591,
     "user": {
      "displayName": "Daeyoung Kim",
      "photoUrl": "",
      "userId": "04286772270888871359"
     },
     "user_tz": -540
    },
    "id": "gFADHqVGo7bB",
    "outputId": "552aacfe-5726-48f5-a972-920307c193ee"
   },
   "outputs": [
    {
     "data": {
      "text/plain": [
       "str"
      ]
     },
     "execution_count": 75,
     "metadata": {
      "tags": []
     },
     "output_type": "execute_result"
    }
   ],
   "source": [
    "category_dic = kickstarter_data #작업할 변수 생성\n",
    "type(category_dic['category'][0]) #기존 category컬럼 = string"
   ]
  },
  {
   "cell_type": "code",
   "execution_count": 67,
   "metadata": {
    "colab": {
     "base_uri": "https://localhost:8080/",
     "height": 119
    },
    "colab_type": "code",
    "executionInfo": {
     "elapsed": 9413,
     "status": "ok",
     "timestamp": 1578815684840,
     "user": {
      "displayName": "Daeyoung Kim",
      "photoUrl": "",
      "userId": "04286772270888871359"
     },
     "user_tz": -540
    },
    "id": "JeYRZ0N7o7nz",
    "outputId": "8a55acf3-36af-4c0d-d25f-e37787f2ca6f"
   },
   "outputs": [
    {
     "data": {
      "text/plain": [
       "0    {'id': 46, 'name': 'Children's Books', 'slug':...\n",
       "1    {'id': 252, 'name': 'Graphic Novels', 'slug': ...\n",
       "2    {'id': 332, 'name': 'Apps', 'slug': 'technolog...\n",
       "3    {'id': 252, 'name': 'Graphic Novels', 'slug': ...\n",
       "4    {'id': 49, 'name': 'Periodicals', 'slug': 'pub...\n",
       "Name: category, dtype: object"
      ]
     },
     "execution_count": 67,
     "metadata": {
      "tags": []
     },
     "output_type": "execute_result"
    }
   ],
   "source": [
    "import ast\n",
    "category_dic1 = category_dic['category'].apply(lambda x: ast.literal_eval(x))\n",
    "category_dic1.head() #category 컬럼의 모든 값들을 dictionary로 변경한 새로운 시리즈 생성 (category 컬럼을 이걸로 대체하자)"
   ]
  },
  {
   "cell_type": "code",
   "execution_count": null,
   "metadata": {
    "colab": {},
    "colab_type": "code",
    "id": "Gm21tpJP1ITG"
   },
   "outputs": [],
   "source": [
    "#기존 category컬럼 --> dictionary로 바꾼 category컬럼으로 대체\n",
    "category_dic['category'] = category_dic1"
   ]
  },
  {
   "cell_type": "code",
   "execution_count": 77,
   "metadata": {
    "colab": {
     "base_uri": "https://localhost:8080/",
     "height": 34
    },
    "colab_type": "code",
    "executionInfo": {
     "elapsed": 766,
     "status": "ok",
     "timestamp": 1578817097358,
     "user": {
      "displayName": "Daeyoung Kim",
      "photoUrl": "",
      "userId": "04286772270888871359"
     },
     "user_tz": -540
    },
    "id": "bASyYHwF1IsW",
    "outputId": "773d99f2-2210-4e84-a8dd-66f09a7079df"
   },
   "outputs": [
    {
     "data": {
      "text/plain": [
       "dict"
      ]
     },
     "execution_count": 77,
     "metadata": {
      "tags": []
     },
     "output_type": "execute_result"
    }
   ],
   "source": [
    "type(category_dic['category'][0]) #dictionary로 바뀐 것 확인"
   ]
  },
  {
   "cell_type": "code",
   "execution_count": 72,
   "metadata": {
    "colab": {
     "base_uri": "https://localhost:8080/",
     "height": 119
    },
    "colab_type": "code",
    "executionInfo": {
     "elapsed": 735,
     "status": "ok",
     "timestamp": 1578816260438,
     "user": {
      "displayName": "Daeyoung Kim",
      "photoUrl": "",
      "userId": "04286772270888871359"
     },
     "user_tz": -540
    },
    "id": "nuK5TAqRpArk",
    "outputId": "db65fde3-f0e2-4034-aa6d-d2bac3d9ec8a"
   },
   "outputs": [
    {
     "data": {
      "text/plain": [
       "0    Children's Books\n",
       "1      Graphic Novels\n",
       "2                Apps\n",
       "3      Graphic Novels\n",
       "4         Periodicals\n",
       "Name: category, dtype: object"
      ]
     },
     "execution_count": 72,
     "metadata": {
      "tags": []
     },
     "output_type": "execute_result"
    }
   ],
   "source": [
    "# 이제 'category'컬럼의 모든 값은 dictionary\n",
    "# category dictionary에서 'name' key만 추출\n",
    "category_name = category_dic1.apply(lambda x: x['name'])\n",
    "category_name.head()"
   ]
  },
  {
   "cell_type": "code",
   "execution_count": 73,
   "metadata": {
    "colab": {
     "base_uri": "https://localhost:8080/",
     "height": 119
    },
    "colab_type": "code",
    "executionInfo": {
     "elapsed": 614,
     "status": "ok",
     "timestamp": 1578816407790,
     "user": {
      "displayName": "Daeyoung Kim",
      "photoUrl": "",
      "userId": "04286772270888871359"
     },
     "user_tz": -540
    },
    "id": "LwmCSBdEo_1j",
    "outputId": "b9e190c8-e3ff-4ada-f285-74e670ce601c"
   },
   "outputs": [
    {
     "data": {
      "text/plain": [
       "0    publishing/children's books\n",
       "1          comics/graphic novels\n",
       "2                technology/apps\n",
       "3          comics/graphic novels\n",
       "4         publishing/periodicals\n",
       "Name: category, dtype: object"
      ]
     },
     "execution_count": 73,
     "metadata": {
      "tags": []
     },
     "output_type": "execute_result"
    }
   ],
   "source": [
    "# category dictionary에서 'slug' key만 추출\n",
    "category_specific = category_dic1.apply(lambda x: x['slug'])\n",
    "category_specific.head()"
   ]
  },
  {
   "cell_type": "code",
   "execution_count": null,
   "metadata": {
    "colab": {},
    "colab_type": "code",
    "id": "qS2dA30G1rUh"
   },
   "outputs": [],
   "source": [
    "#기존 dataframe에 category_name, category_specific 새 컬럼으로 삽입\n",
    "category_dic.insert(3, 'category_name', category_name)\n",
    "category_dic.insert(4, 'category_specific', category_specific)"
   ]
  },
  {
   "cell_type": "markdown",
   "metadata": {},
   "source": [
    "## category_name\n",
    "- 펀딩 유형 이름"
   ]
  },
  {
   "cell_type": "code",
   "execution_count": 51,
   "metadata": {},
   "outputs": [
    {
     "name": "stdout",
     "output_type": "stream",
     "text": [
      "unique values:  160\n",
      "unique value별 개수:\n",
      " Web                4644\n",
      "Product Design     4403\n",
      "Tabletop Games     4047\n",
      "Accessories        3651\n",
      "Comic Books        3543\n",
      "                   ... \n",
      "Games                99\n",
      "Letterpress          75\n",
      "Chiptune             51\n",
      "Social Practice      49\n",
      "Taxidermy            18\n",
      "Name: category_name, Length: 160, dtype: int64\n",
      "data size:  215800\n",
      "dtype:  <class 'str'>\n",
      "null/nan 수:  0\n",
      "-----------------------------\n",
      "데이터 형태 예시\n",
      "\n",
      "Children's Books\n"
     ]
    }
   ],
   "source": [
    "column_to_look = 'category_name'\n",
    "print(\"unique values: \", kickstarter_dataset[column_to_look].nunique())\n",
    "print(\"unique value별 개수:\\n\", kickstarter_dataset[column_to_look].value_counts()) #normalize=True -- 비율 집계\n",
    "print(\"data size: \", kickstarter_dataset[column_to_look].size)\n",
    "print(\"dtype: \", type(kickstarter_dataset[column_to_look][0]))\n",
    "print(\"null/nan 수: \", kickstarter_dataset[column_to_look].isna().sum())\n",
    "print(\"-----------------------------\")\n",
    "print(\"데이터 형태 예시\\n\")\n",
    "print(kickstarter_dataset[column_to_look][0])"
   ]
  },
  {
   "cell_type": "markdown",
   "metadata": {},
   "source": [
    "## category_specific\n",
    "- 해당 펀딩의 분류/유형에 대한 slug (접근하기 위한 root -- url 가장 뒤에 붙는다)\n",
    "- 펀딩의 상위 유형(분류) 포함 (value 형태: 큰 유형/세부 유형)"
   ]
  },
  {
   "cell_type": "code",
   "execution_count": 55,
   "metadata": {},
   "outputs": [
    {
     "name": "stdout",
     "output_type": "stream",
     "text": [
      "unique values:  170\n",
      "unique value별 개수:\n",
      " design/product design     4403\n",
      "games/tabletop games      4047\n",
      "fashion/accessories       3651\n",
      "comics/comic books        3543\n",
      "art/illustration          3117\n",
      "                          ... \n",
      "music/comedy                84\n",
      "publishing/letterpress      75\n",
      "music/chiptune              51\n",
      "art/social practice         49\n",
      "crafts/taxidermy            18\n",
      "Name: category_specific, Length: 170, dtype: int64\n",
      "data size:  215800\n",
      "dtype:  <class 'str'>\n",
      "null/nan 수:  0\n",
      "-----------------------------\n",
      "데이터 형태 예시\n",
      "\n",
      "publishing/children's books\n"
     ]
    }
   ],
   "source": [
    "column_to_look = 'category_specific'\n",
    "print(\"unique values: \", kickstarter_dataset[column_to_look].nunique())\n",
    "print(\"unique value별 개수:\\n\", kickstarter_dataset[column_to_look].value_counts()) #normalize=True -- 비율 집계\n",
    "print(\"data size: \", kickstarter_dataset[column_to_look].size)\n",
    "print(\"dtype: \", type(kickstarter_dataset[column_to_look][0]))\n",
    "print(\"null/nan 수: \", kickstarter_dataset[column_to_look].isna().sum())\n",
    "print(\"-----------------------------\")\n",
    "print(\"데이터 형태 예시\\n\")\n",
    "print(kickstarter_dataset[column_to_look][0])"
   ]
  },
  {
   "cell_type": "code",
   "execution_count": 6,
   "metadata": {},
   "outputs": [
    {
     "data": {
      "text/plain": [
       "159"
      ]
     },
     "execution_count": 6,
     "metadata": {},
     "output_type": "execute_result"
    }
   ],
   "source": [
    "#2019년 데이터만 뽑아서 category 관련 컬럼들 탐색 시도\n",
    "df_2019['category_name'].nunique()"
   ]
  },
  {
   "cell_type": "code",
   "execution_count": 7,
   "metadata": {},
   "outputs": [
    {
     "data": {
      "text/plain": [
       "169"
      ]
     },
     "execution_count": 7,
     "metadata": {},
     "output_type": "execute_result"
    }
   ],
   "source": [
    "df_2019['category_specific'].nunique()"
   ]
  },
  {
   "cell_type": "code",
   "execution_count": null,
   "metadata": {},
   "outputs": [],
   "source": [
    "#처음엔 이 두 컬럼의 유일값(unique)이 같을 것으로 기대했지만\n",
    "#조회 결과 두 컬럼의 값이 다르다"
   ]
  },
  {
   "cell_type": "code",
   "execution_count": 115,
   "metadata": {},
   "outputs": [
    {
     "data": {
      "text/html": [
       "<div>\n",
       "<style scoped>\n",
       "    .dataframe tbody tr th:only-of-type {\n",
       "        vertical-align: middle;\n",
       "    }\n",
       "\n",
       "    .dataframe tbody tr th {\n",
       "        vertical-align: top;\n",
       "    }\n",
       "\n",
       "    .dataframe thead th {\n",
       "        text-align: right;\n",
       "    }\n",
       "</style>\n",
       "<table border=\"1\" class=\"dataframe\">\n",
       "  <thead>\n",
       "    <tr style=\"text-align: right;\">\n",
       "      <th></th>\n",
       "      <th>count</th>\n",
       "      <th>unique</th>\n",
       "      <th>top</th>\n",
       "      <th>freq</th>\n",
       "    </tr>\n",
       "    <tr>\n",
       "      <th>category_name</th>\n",
       "      <th></th>\n",
       "      <th></th>\n",
       "      <th></th>\n",
       "      <th></th>\n",
       "    </tr>\n",
       "  </thead>\n",
       "  <tbody>\n",
       "    <tr>\n",
       "      <th>3D Printing</th>\n",
       "      <td>108</td>\n",
       "      <td>1</td>\n",
       "      <td>technology/3d printing</td>\n",
       "      <td>108</td>\n",
       "    </tr>\n",
       "    <tr>\n",
       "      <th>Academic</th>\n",
       "      <td>152</td>\n",
       "      <td>1</td>\n",
       "      <td>publishing/academic</td>\n",
       "      <td>152</td>\n",
       "    </tr>\n",
       "    <tr>\n",
       "      <th>Accessories</th>\n",
       "      <td>1584</td>\n",
       "      <td>1</td>\n",
       "      <td>fashion/accessories</td>\n",
       "      <td>1584</td>\n",
       "    </tr>\n",
       "    <tr>\n",
       "      <th>Action</th>\n",
       "      <td>101</td>\n",
       "      <td>1</td>\n",
       "      <td>film &amp; video/action</td>\n",
       "      <td>101</td>\n",
       "    </tr>\n",
       "    <tr>\n",
       "      <th>Animals</th>\n",
       "      <td>25</td>\n",
       "      <td>1</td>\n",
       "      <td>photography/animals</td>\n",
       "      <td>25</td>\n",
       "    </tr>\n",
       "    <tr>\n",
       "      <th>...</th>\n",
       "      <td>...</td>\n",
       "      <td>...</td>\n",
       "      <td>...</td>\n",
       "      <td>...</td>\n",
       "    </tr>\n",
       "    <tr>\n",
       "      <th>Woodworking</th>\n",
       "      <td>157</td>\n",
       "      <td>1</td>\n",
       "      <td>crafts/woodworking</td>\n",
       "      <td>157</td>\n",
       "    </tr>\n",
       "    <tr>\n",
       "      <th>Workshops</th>\n",
       "      <td>14</td>\n",
       "      <td>1</td>\n",
       "      <td>dance/workshops</td>\n",
       "      <td>14</td>\n",
       "    </tr>\n",
       "    <tr>\n",
       "      <th>World Music</th>\n",
       "      <td>232</td>\n",
       "      <td>1</td>\n",
       "      <td>music/world music</td>\n",
       "      <td>232</td>\n",
       "    </tr>\n",
       "    <tr>\n",
       "      <th>Young Adult</th>\n",
       "      <td>148</td>\n",
       "      <td>1</td>\n",
       "      <td>publishing/young adult</td>\n",
       "      <td>148</td>\n",
       "    </tr>\n",
       "    <tr>\n",
       "      <th>Zines</th>\n",
       "      <td>152</td>\n",
       "      <td>1</td>\n",
       "      <td>publishing/zines</td>\n",
       "      <td>152</td>\n",
       "    </tr>\n",
       "  </tbody>\n",
       "</table>\n",
       "<p>159 rows × 4 columns</p>\n",
       "</div>"
      ],
      "text/plain": [
       "              count unique                     top  freq\n",
       "category_name                                           \n",
       "3D Printing     108      1  technology/3d printing   108\n",
       "Academic        152      1     publishing/academic   152\n",
       "Accessories    1584      1     fashion/accessories  1584\n",
       "Action          101      1     film & video/action   101\n",
       "Animals          25      1     photography/animals    25\n",
       "...             ...    ...                     ...   ...\n",
       "Woodworking     157      1      crafts/woodworking   157\n",
       "Workshops        14      1         dance/workshops    14\n",
       "World Music     232      1       music/world music   232\n",
       "Young Adult     148      1  publishing/young adult   148\n",
       "Zines           152      1        publishing/zines   152\n",
       "\n",
       "[159 rows x 4 columns]"
      ]
     },
     "execution_count": 115,
     "metadata": {},
     "output_type": "execute_result"
    }
   ],
   "source": [
    "category_df = df_2019['category_specific'].groupby(df_2019['category_name'])\n",
    "c_df1 = category_df.describe()\n",
    "c_df1"
   ]
  },
  {
   "cell_type": "code",
   "execution_count": 128,
   "metadata": {},
   "outputs": [
    {
     "data": {
      "text/html": [
       "<div>\n",
       "<style scoped>\n",
       "    .dataframe tbody tr th:only-of-type {\n",
       "        vertical-align: middle;\n",
       "    }\n",
       "\n",
       "    .dataframe tbody tr th {\n",
       "        vertical-align: top;\n",
       "    }\n",
       "\n",
       "    .dataframe thead th {\n",
       "        text-align: right;\n",
       "    }\n",
       "</style>\n",
       "<table border=\"1\" class=\"dataframe\">\n",
       "  <thead>\n",
       "    <tr style=\"text-align: right;\">\n",
       "      <th></th>\n",
       "      <th>count</th>\n",
       "      <th>unique</th>\n",
       "      <th>top</th>\n",
       "      <th>freq</th>\n",
       "    </tr>\n",
       "    <tr>\n",
       "      <th>category_name</th>\n",
       "      <th></th>\n",
       "      <th></th>\n",
       "      <th></th>\n",
       "      <th></th>\n",
       "    </tr>\n",
       "  </thead>\n",
       "  <tbody>\n",
       "    <tr>\n",
       "      <th>Anthologies</th>\n",
       "      <td>416</td>\n",
       "      <td>2</td>\n",
       "      <td>comics/anthologies</td>\n",
       "      <td>243</td>\n",
       "    </tr>\n",
       "    <tr>\n",
       "      <th>Comedy</th>\n",
       "      <td>581</td>\n",
       "      <td>4</td>\n",
       "      <td>film &amp; video/comedy</td>\n",
       "      <td>362</td>\n",
       "    </tr>\n",
       "    <tr>\n",
       "      <th>Events</th>\n",
       "      <td>93</td>\n",
       "      <td>2</td>\n",
       "      <td>food/events</td>\n",
       "      <td>52</td>\n",
       "    </tr>\n",
       "    <tr>\n",
       "      <th>Experimental</th>\n",
       "      <td>148</td>\n",
       "      <td>2</td>\n",
       "      <td>film &amp; video/experimental</td>\n",
       "      <td>85</td>\n",
       "    </tr>\n",
       "    <tr>\n",
       "      <th>Festivals</th>\n",
       "      <td>160</td>\n",
       "      <td>2</td>\n",
       "      <td>theater/festivals</td>\n",
       "      <td>115</td>\n",
       "    </tr>\n",
       "    <tr>\n",
       "      <th>Spaces</th>\n",
       "      <td>157</td>\n",
       "      <td>3</td>\n",
       "      <td>food/spaces</td>\n",
       "      <td>91</td>\n",
       "    </tr>\n",
       "    <tr>\n",
       "      <th>Web</th>\n",
       "      <td>480</td>\n",
       "      <td>2</td>\n",
       "      <td>technology/web</td>\n",
       "      <td>279</td>\n",
       "    </tr>\n",
       "  </tbody>\n",
       "</table>\n",
       "</div>"
      ],
      "text/plain": [
       "              count unique                        top freq\n",
       "category_name                                             \n",
       "Anthologies     416      2         comics/anthologies  243\n",
       "Comedy          581      4        film & video/comedy  362\n",
       "Events           93      2                food/events   52\n",
       "Experimental    148      2  film & video/experimental   85\n",
       "Festivals       160      2          theater/festivals  115\n",
       "Spaces          157      3                food/spaces   91\n",
       "Web             480      2             technology/web  279"
      ]
     },
     "execution_count": 128,
     "metadata": {},
     "output_type": "execute_result"
    }
   ],
   "source": [
    "c_df1[c_df1['unique'] > 1]"
   ]
  },
  {
   "cell_type": "code",
   "execution_count": null,
   "metadata": {},
   "outputs": [],
   "source": [
    "# 조회 결과 아래의 Anthologies, Comdedy, Events 등의 category는 더 큰 분류에서 보면 1개 이상이다\n",
    "# Comedy를 예로 들면, music/comedy, publishing/comedy, theater/comedy, film & video/comedy 이렇게 4개의 큰 카테고리들이 다 comedy라는 subcategory가 있음\n",
    "# Spaces도 예로 들면, dance/spaces, food/spaces, theater/spaces에 각 spaces라는 subcategory가 있다"
   ]
  },
  {
   "cell_type": "code",
   "execution_count": 124,
   "metadata": {},
   "outputs": [
    {
     "data": {
      "text/html": [
       "<div>\n",
       "<style scoped>\n",
       "    .dataframe tbody tr th:only-of-type {\n",
       "        vertical-align: middle;\n",
       "    }\n",
       "\n",
       "    .dataframe tbody tr th {\n",
       "        vertical-align: top;\n",
       "    }\n",
       "\n",
       "    .dataframe thead th {\n",
       "        text-align: right;\n",
       "    }\n",
       "</style>\n",
       "<table border=\"1\" class=\"dataframe\">\n",
       "  <thead>\n",
       "    <tr style=\"text-align: right;\">\n",
       "      <th></th>\n",
       "      <th>count</th>\n",
       "      <th>unique</th>\n",
       "      <th>top</th>\n",
       "      <th>freq</th>\n",
       "    </tr>\n",
       "    <tr>\n",
       "      <th>category_specific</th>\n",
       "      <th></th>\n",
       "      <th></th>\n",
       "      <th></th>\n",
       "      <th></th>\n",
       "    </tr>\n",
       "  </thead>\n",
       "  <tbody>\n",
       "    <tr>\n",
       "      <th>art</th>\n",
       "      <td>1001</td>\n",
       "      <td>1</td>\n",
       "      <td>Art</td>\n",
       "      <td>1001</td>\n",
       "    </tr>\n",
       "    <tr>\n",
       "      <th>art/ceramics</th>\n",
       "      <td>83</td>\n",
       "      <td>1</td>\n",
       "      <td>Ceramics</td>\n",
       "      <td>83</td>\n",
       "    </tr>\n",
       "    <tr>\n",
       "      <th>art/conceptual art</th>\n",
       "      <td>131</td>\n",
       "      <td>1</td>\n",
       "      <td>Conceptual Art</td>\n",
       "      <td>131</td>\n",
       "    </tr>\n",
       "    <tr>\n",
       "      <th>art/digital art</th>\n",
       "      <td>480</td>\n",
       "      <td>1</td>\n",
       "      <td>Digital Art</td>\n",
       "      <td>480</td>\n",
       "    </tr>\n",
       "    <tr>\n",
       "      <th>art/illustration</th>\n",
       "      <td>1503</td>\n",
       "      <td>1</td>\n",
       "      <td>Illustration</td>\n",
       "      <td>1503</td>\n",
       "    </tr>\n",
       "    <tr>\n",
       "      <th>...</th>\n",
       "      <td>...</td>\n",
       "      <td>...</td>\n",
       "      <td>...</td>\n",
       "      <td>...</td>\n",
       "    </tr>\n",
       "    <tr>\n",
       "      <th>theater/festivals</th>\n",
       "      <td>115</td>\n",
       "      <td>1</td>\n",
       "      <td>Festivals</td>\n",
       "      <td>115</td>\n",
       "    </tr>\n",
       "    <tr>\n",
       "      <th>theater/immersive</th>\n",
       "      <td>64</td>\n",
       "      <td>1</td>\n",
       "      <td>Immersive</td>\n",
       "      <td>64</td>\n",
       "    </tr>\n",
       "    <tr>\n",
       "      <th>theater/musical</th>\n",
       "      <td>160</td>\n",
       "      <td>1</td>\n",
       "      <td>Musical</td>\n",
       "      <td>160</td>\n",
       "    </tr>\n",
       "    <tr>\n",
       "      <th>theater/plays</th>\n",
       "      <td>252</td>\n",
       "      <td>1</td>\n",
       "      <td>Plays</td>\n",
       "      <td>252</td>\n",
       "    </tr>\n",
       "    <tr>\n",
       "      <th>theater/spaces</th>\n",
       "      <td>36</td>\n",
       "      <td>1</td>\n",
       "      <td>Spaces</td>\n",
       "      <td>36</td>\n",
       "    </tr>\n",
       "  </tbody>\n",
       "</table>\n",
       "<p>169 rows × 4 columns</p>\n",
       "</div>"
      ],
      "text/plain": [
       "                   count unique             top  freq\n",
       "category_specific                                    \n",
       "art                 1001      1             Art  1001\n",
       "art/ceramics          83      1        Ceramics    83\n",
       "art/conceptual art   131      1  Conceptual Art   131\n",
       "art/digital art      480      1     Digital Art   480\n",
       "art/illustration    1503      1    Illustration  1503\n",
       "...                  ...    ...             ...   ...\n",
       "theater/festivals    115      1       Festivals   115\n",
       "theater/immersive     64      1       Immersive    64\n",
       "theater/musical      160      1         Musical   160\n",
       "theater/plays        252      1           Plays   252\n",
       "theater/spaces        36      1          Spaces    36\n",
       "\n",
       "[169 rows x 4 columns]"
      ]
     },
     "execution_count": 124,
     "metadata": {},
     "output_type": "execute_result"
    }
   ],
   "source": [
    "test2 = df_2019['category_name'].groupby(df_2019['category_specific'])\n",
    "c_df2 = test2.describe()\n",
    "c_df2"
   ]
  },
  {
   "cell_type": "code",
   "execution_count": 129,
   "metadata": {},
   "outputs": [
    {
     "data": {
      "text/html": [
       "<div>\n",
       "<style scoped>\n",
       "    .dataframe tbody tr th:only-of-type {\n",
       "        vertical-align: middle;\n",
       "    }\n",
       "\n",
       "    .dataframe tbody tr th {\n",
       "        vertical-align: top;\n",
       "    }\n",
       "\n",
       "    .dataframe thead th {\n",
       "        text-align: right;\n",
       "    }\n",
       "</style>\n",
       "<table border=\"1\" class=\"dataframe\">\n",
       "  <thead>\n",
       "    <tr style=\"text-align: right;\">\n",
       "      <th></th>\n",
       "      <th>count</th>\n",
       "      <th>unique</th>\n",
       "      <th>top</th>\n",
       "      <th>freq</th>\n",
       "    </tr>\n",
       "    <tr>\n",
       "      <th>category_specific</th>\n",
       "      <th></th>\n",
       "      <th></th>\n",
       "      <th></th>\n",
       "      <th></th>\n",
       "    </tr>\n",
       "  </thead>\n",
       "  <tbody>\n",
       "  </tbody>\n",
       "</table>\n",
       "</div>"
      ],
      "text/plain": [
       "Empty DataFrame\n",
       "Columns: [count, unique, top, freq]\n",
       "Index: []"
      ]
     },
     "execution_count": 129,
     "metadata": {},
     "output_type": "execute_result"
    }
   ],
   "source": [
    "#c_df2[c_df2['count'] != c_df2['freq']]\n",
    "c_df2[c_df2['unique'] > 1]\n",
    "\n",
    "#이건 category_specific이랑 category_name 개수가 맞다"
   ]
  },
  {
   "cell_type": "code",
   "execution_count": 72,
   "metadata": {
    "scrolled": true
   },
   "outputs": [
    {
     "data": {
      "text/plain": [
       "array(['art', 'art/ceramics', 'art/conceptual art', 'art/digital art',\n",
       "       'art/illustration', 'art/installations', 'art/mixed media',\n",
       "       'art/painting', 'art/performance art', 'art/public art',\n",
       "       'art/sculpture', 'art/social practice', 'art/textiles',\n",
       "       'art/video art', 'comics', 'comics/anthologies',\n",
       "       'comics/comic books', 'comics/events', 'comics/graphic novels',\n",
       "       'comics/webcomics', 'crafts', 'crafts/candles', 'crafts/crochet',\n",
       "       'crafts/diy', 'crafts/embroidery', 'crafts/glass',\n",
       "       'crafts/knitting', 'crafts/pottery', 'crafts/printing',\n",
       "       'crafts/quilts', 'crafts/stationery', 'crafts/weaving',\n",
       "       'crafts/woodworking', 'dance', 'dance/performances',\n",
       "       'dance/residencies', 'dance/spaces', 'dance/workshops', 'design',\n",
       "       'design/architecture', 'design/civic design',\n",
       "       'design/graphic design', 'design/interactive design',\n",
       "       'design/product design', 'design/typography', 'fashion',\n",
       "       'fashion/accessories', 'fashion/apparel', 'fashion/childrenswear',\n",
       "       'fashion/couture', 'fashion/footwear', 'fashion/jewelry',\n",
       "       'fashion/pet fashion', 'fashion/ready-to-wear', 'film & video',\n",
       "       'film & video/action', 'film & video/animation',\n",
       "       'film & video/comedy', 'film & video/documentary',\n",
       "       'film & video/drama', 'film & video/experimental',\n",
       "       'film & video/family', 'film & video/fantasy',\n",
       "       'film & video/festivals', 'film & video/horror',\n",
       "       'film & video/movie theaters', 'film & video/music videos',\n",
       "       'film & video/narrative film', 'film & video/romance',\n",
       "       'film & video/science fiction', 'film & video/shorts',\n",
       "       'film & video/television', 'film & video/thrillers',\n",
       "       'film & video/webseries', 'food', 'food/bacon',\n",
       "       'food/community gardens', 'food/cookbooks', 'food/drinks',\n",
       "       'food/events', \"food/farmer's markets\", 'food/farms',\n",
       "       'food/food trucks', 'food/restaurants', 'food/small batch',\n",
       "       'food/spaces', 'food/vegan', 'games', 'games/gaming hardware',\n",
       "       'games/live games', 'games/mobile games', 'games/playing cards',\n",
       "       'games/puzzles', 'games/tabletop games', 'games/video games',\n",
       "       'journalism', 'journalism/audio', 'journalism/photo',\n",
       "       'journalism/print', 'journalism/video', 'journalism/web', 'music',\n",
       "       'music/blues', 'music/chiptune', 'music/classical music',\n",
       "       'music/comedy', 'music/country & folk', 'music/electronic music',\n",
       "       'music/faith', 'music/hip-hop', 'music/indie rock', 'music/jazz',\n",
       "       'music/kids', 'music/latin', 'music/metal', 'music/pop',\n",
       "       'music/punk', 'music/r&b', 'music/rock', 'music/world music',\n",
       "       'photography', 'photography/animals', 'photography/fine art',\n",
       "       'photography/nature', 'photography/people',\n",
       "       'photography/photobooks', 'photography/places', 'publishing',\n",
       "       'publishing/academic', 'publishing/anthologies',\n",
       "       'publishing/art books', 'publishing/calendars',\n",
       "       \"publishing/children's books\", 'publishing/comedy',\n",
       "       'publishing/fiction', 'publishing/letterpress',\n",
       "       'publishing/literary journals', 'publishing/literary spaces',\n",
       "       'publishing/nonfiction', 'publishing/periodicals',\n",
       "       'publishing/poetry', 'publishing/radio & podcasts',\n",
       "       'publishing/translations', 'publishing/young adult',\n",
       "       'publishing/zines', 'technology', 'technology/3d printing',\n",
       "       'technology/apps', 'technology/camera equipment',\n",
       "       'technology/diy electronics', 'technology/fabrication tools',\n",
       "       'technology/flight', 'technology/gadgets', 'technology/hardware',\n",
       "       'technology/makerspaces', 'technology/robots',\n",
       "       'technology/software', 'technology/sound',\n",
       "       'technology/space exploration', 'technology/wearables',\n",
       "       'technology/web', 'theater', 'theater/comedy',\n",
       "       'theater/experimental', 'theater/festivals', 'theater/immersive',\n",
       "       'theater/musical', 'theater/plays', 'theater/spaces'], dtype=object)"
      ]
     },
     "execution_count": 72,
     "metadata": {},
     "output_type": "execute_result"
    }
   ],
   "source": [
    "np.unique(df_2019['category_specific'].values)"
   ]
  },
  {
   "cell_type": "code",
   "execution_count": 79,
   "metadata": {
    "scrolled": true
   },
   "outputs": [
    {
     "data": {
      "text/plain": [
       "dict_keys(['3D Printing', 'Academic', 'Accessories', 'Action', 'Animals', 'Animation', 'Anthologies', 'Apparel', 'Apps', 'Architecture', 'Art', 'Art Books', 'Audio', 'Bacon', 'Blues', 'Calendars', 'Camera Equipment', 'Candles', 'Ceramics', \"Children's Books\", 'Childrenswear', 'Chiptune', 'Civic Design', 'Classical Music', 'Comedy', 'Comic Books', 'Comics', 'Community Gardens', 'Conceptual Art', 'Cookbooks', 'Country & Folk', 'Couture', 'Crafts', 'Crochet', 'DIY', 'DIY Electronics', 'Dance', 'Design', 'Digital Art', 'Documentary', 'Drama', 'Drinks', 'Electronic Music', 'Embroidery', 'Events', 'Experimental', 'Fabrication Tools', 'Faith', 'Family', 'Fantasy', \"Farmer's Markets\", 'Farms', 'Fashion', 'Festivals', 'Fiction', 'Film & Video', 'Fine Art', 'Flight', 'Food', 'Food Trucks', 'Footwear', 'Gadgets', 'Games', 'Gaming Hardware', 'Glass', 'Graphic Design', 'Graphic Novels', 'Hardware', 'Hip-Hop', 'Horror', 'Illustration', 'Immersive', 'Indie Rock', 'Installations', 'Interactive Design', 'Jazz', 'Jewelry', 'Journalism', 'Kids', 'Knitting', 'Latin', 'Letterpress', 'Literary Journals', 'Literary Spaces', 'Live Games', 'Makerspaces', 'Metal', 'Mixed Media', 'Mobile Games', 'Movie Theaters', 'Music', 'Music Videos', 'Musical', 'Narrative Film', 'Nature', 'Nonfiction', 'Painting', 'People', 'Performance Art', 'Performances', 'Periodicals', 'Pet Fashion', 'Photo', 'Photobooks', 'Photography', 'Places', 'Playing Cards', 'Plays', 'Poetry', 'Pop', 'Pottery', 'Print', 'Printing', 'Product Design', 'Public Art', 'Publishing', 'Punk', 'Puzzles', 'Quilts', 'R&B', 'Radio & Podcasts', 'Ready-to-wear', 'Residencies', 'Restaurants', 'Robots', 'Rock', 'Romance', 'Science Fiction', 'Sculpture', 'Shorts', 'Small Batch', 'Social Practice', 'Software', 'Sound', 'Space Exploration', 'Spaces', 'Stationery', 'Tabletop Games', 'Technology', 'Television', 'Textiles', 'Theater', 'Thrillers', 'Translations', 'Typography', 'Vegan', 'Video', 'Video Art', 'Video Games', 'Wearables', 'Weaving', 'Web', 'Webcomics', 'Webseries', 'Woodworking', 'Workshops', 'World Music', 'Young Adult', 'Zines'])"
      ]
     },
     "execution_count": 79,
     "metadata": {},
     "output_type": "execute_result"
    }
   ],
   "source": [
    "test = df_2019.groupby('category_name')\n",
    "test.groups.keys()"
   ]
  },
  {
   "cell_type": "code",
   "execution_count": null,
   "metadata": {},
   "outputs": [],
   "source": [
    "# 어떤 프로젝트들은 category_name, category_specific 둘 다 같은 것이 있다; 예)art, comics, crafts 등\n",
    "# 이런 프로젝트들은 main category는 설정 했지만 subcategory는 설정 안 했기 때문일 것으로 판단"
   ]
  },
  {
   "cell_type": "markdown",
   "metadata": {},
   "source": [
    "## converted_pledged_amount\n",
    "- 단위 변환된 모금액수"
   ]
  },
  {
   "cell_type": "code",
   "execution_count": 56,
   "metadata": {},
   "outputs": [
    {
     "name": "stdout",
     "output_type": "stream",
     "text": [
      "unique values:  32379\n",
      "data size:  215800\n",
      "dtype:  <class 'numpy.int64'>\n",
      "null/nan 수:  0\n",
      "-----------------------------\n",
      "데이터 형태 예시\n",
      "\n",
      "709\n"
     ]
    }
   ],
   "source": [
    "column_to_look = 'converted_pledged_amount'\n",
    "print(\"unique values: \", kickstarter_dataset[column_to_look].nunique())\n",
    "#print(\"unique value별 개수:\\n\", kickstarter_dataset[column_to_look].value_counts()) #normalize=True -- 비율 집계\n",
    "print(\"data size: \", kickstarter_dataset[column_to_look].size)\n",
    "print(\"dtype: \", type(kickstarter_dataset[column_to_look][0]))\n",
    "print(\"null/nan 수: \", kickstarter_dataset[column_to_look].isna().sum())\n",
    "print(\"-----------------------------\")\n",
    "print(\"데이터 형태 예시\\n\")\n",
    "print(kickstarter_dataset[column_to_look][0])"
   ]
  },
  {
   "cell_type": "markdown",
   "metadata": {},
   "source": [
    "## country\n",
    "- 국가 코드"
   ]
  },
  {
   "cell_type": "code",
   "execution_count": 57,
   "metadata": {},
   "outputs": [
    {
     "name": "stdout",
     "output_type": "stream",
     "text": [
      "unique values:  22\n",
      "unique value별 개수:\n",
      " US    149987\n",
      "GB     24540\n",
      "CA     10162\n",
      "AU      5228\n",
      "DE      3822\n",
      "FR      3007\n",
      "MX      2880\n",
      "IT      2666\n",
      "ES      2276\n",
      "NL      1881\n",
      "SE      1550\n",
      "HK      1376\n",
      "NZ       978\n",
      "DK       958\n",
      "SG       801\n",
      "CH       735\n",
      "IE       683\n",
      "BE       632\n",
      "AT       546\n",
      "NO       521\n",
      "JP       504\n",
      "LU        67\n",
      "Name: country, dtype: int64\n",
      "data size:  215800\n",
      "dtype:  <class 'str'>\n",
      "null/nan 수:  0\n",
      "-----------------------------\n",
      "데이터 형태 예시\n",
      "\n",
      "FR\n"
     ]
    }
   ],
   "source": [
    "column_to_look = 'country'\n",
    "print(\"unique values: \", kickstarter_dataset[column_to_look].nunique())\n",
    "print(\"unique value별 개수:\\n\", kickstarter_dataset[column_to_look].value_counts()) #normalize=True -- 비율 집계\n",
    "print(\"data size: \", kickstarter_dataset[column_to_look].size)\n",
    "print(\"dtype: \", type(kickstarter_dataset[column_to_look][0]))\n",
    "print(\"null/nan 수: \", kickstarter_dataset[column_to_look].isna().sum())\n",
    "print(\"-----------------------------\")\n",
    "print(\"데이터 형태 예시\\n\")\n",
    "print(kickstarter_dataset[column_to_look][0])"
   ]
  },
  {
   "cell_type": "markdown",
   "metadata": {},
   "source": [
    "## country_displayable_name\n",
    "- 국가명"
   ]
  },
  {
   "cell_type": "code",
   "execution_count": 58,
   "metadata": {},
   "outputs": [
    {
     "name": "stdout",
     "output_type": "stream",
     "text": [
      "unique values:  22\n",
      "unique value별 개수:\n",
      " the United States     149987\n",
      "the United Kingdom     24540\n",
      "Canada                 10162\n",
      "Australia               5228\n",
      "Germany                 3822\n",
      "France                  3007\n",
      "Mexico                  2880\n",
      "Italy                   2666\n",
      "Spain                   2276\n",
      "the Netherlands         1881\n",
      "Sweden                  1550\n",
      "Hong Kong               1376\n",
      "New Zealand              978\n",
      "Denmark                  958\n",
      "Singapore                801\n",
      "Switzerland              735\n",
      "Ireland                  683\n",
      "Belgium                  632\n",
      "Austria                  546\n",
      "Norway                   521\n",
      "Japan                    504\n",
      "Luxembourg                67\n",
      "Name: country_displayable_name, dtype: int64\n",
      "data size:  215800\n",
      "dtype:  <class 'str'>\n",
      "null/nan 수:  0\n",
      "-----------------------------\n",
      "데이터 형태 예시\n",
      "\n",
      "France\n"
     ]
    }
   ],
   "source": [
    "column_to_look = 'country_displayable_name'\n",
    "print(\"unique values: \", kickstarter_dataset[column_to_look].nunique())\n",
    "print(\"unique value별 개수:\\n\", kickstarter_dataset[column_to_look].value_counts()) #normalize=True -- 비율 집계\n",
    "print(\"data size: \", kickstarter_dataset[column_to_look].size)\n",
    "print(\"dtype: \", type(kickstarter_dataset[column_to_look][0]))\n",
    "print(\"null/nan 수: \", kickstarter_dataset[column_to_look].isna().sum())\n",
    "print(\"-----------------------------\")\n",
    "print(\"데이터 형태 예시\\n\")\n",
    "print(kickstarter_dataset[column_to_look][0])"
   ]
  },
  {
   "cell_type": "markdown",
   "metadata": {},
   "source": [
    "## created_at\n",
    "- 펀딩 프로젝트가 만들어진 시간 (milliseconds)"
   ]
  },
  {
   "cell_type": "code",
   "execution_count": 59,
   "metadata": {},
   "outputs": [
    {
     "name": "stdout",
     "output_type": "stream",
     "text": [
      "unique values:  188280\n",
      "data size:  215800\n",
      "dtype:  <class 'numpy.int64'>\n",
      "null/nan 수:  0\n",
      "-----------------------------\n",
      "데이터 형태 예시\n",
      "\n",
      "1561554849\n"
     ]
    }
   ],
   "source": [
    "column_to_look = 'created_at'\n",
    "print(\"unique values: \", kickstarter_dataset[column_to_look].nunique())\n",
    "#print(\"unique value별 개수:\\n\", kickstarter_dataset[column_to_look].value_counts()) #normalize=True -- 비율 집계\n",
    "print(\"data size: \", kickstarter_dataset[column_to_look].size)\n",
    "print(\"dtype: \", type(kickstarter_dataset[column_to_look][0]))\n",
    "print(\"null/nan 수: \", kickstarter_dataset[column_to_look].isna().sum())\n",
    "print(\"-----------------------------\")\n",
    "print(\"데이터 형태 예시\\n\")\n",
    "print(kickstarter_dataset[column_to_look][0])"
   ]
  },
  {
   "cell_type": "code",
   "execution_count": null,
   "metadata": {
    "colab": {},
    "colab_type": "code",
    "id": "4kgI5rO5AG-l",
    "outputId": "ba9f021c-21b3-4657-ebad-b77ebb41db37"
   },
   "outputs": [
    {
     "name": "stdout",
     "output_type": "stream",
     "text": [
      "0   2019-06-26 13:14:09\n",
      "1   2015-08-05 02:11:53\n",
      "2   2018-06-07 19:53:22\n",
      "Name: created_at, dtype: datetime64[ns]\n",
      "215797   2019-05-16 19:20:15\n",
      "215798   2014-07-08 22:35:09\n",
      "215799   2013-06-08 14:12:57\n",
      "Name: created_at, dtype: datetime64[ns]\n",
      "first project:  2009-04-22 02:11:10\n",
      "last project:  2019-12-12 02:42:36\n"
     ]
    }
   ],
   "source": [
    "#'created_at' 컬럼 datetime형식으로 변경\n",
    "date_created_s = concatenated_df['created_at']\n",
    "date_created = pd.to_datetime(date_created_s, unit='s')\n",
    "print(date_created.head(3))\n",
    "print(date_created.tail(3))\n",
    "print(\"first project: \", date_created.min())\n",
    "print(\"last project: \", date_created.max())"
   ]
  },
  {
   "cell_type": "code",
   "execution_count": null,
   "metadata": {},
   "outputs": [],
   "source": [
    "#생성한 datetime 컬럼 dataframe에 삽입\n",
    "concatenated_df.insert(7, 'date_created', date_created)"
   ]
  },
  {
   "cell_type": "markdown",
   "metadata": {},
   "source": [
    "## date_created\n",
    "- 펀딩 프로젝트가 만들어진 날짜 (datetime 형태)"
   ]
  },
  {
   "cell_type": "code",
   "execution_count": 60,
   "metadata": {},
   "outputs": [
    {
     "name": "stdout",
     "output_type": "stream",
     "text": [
      "unique values:  188280\n",
      "data size:  215800\n",
      "dtype:  <class 'pandas._libs.tslibs.timestamps.Timestamp'>\n",
      "null/nan 수:  0\n",
      "-----------------------------\n",
      "데이터 형태 예시\n",
      "\n",
      "2019-06-26 13:14:09\n"
     ]
    }
   ],
   "source": [
    "column_to_look = 'date_created'\n",
    "print(\"unique values: \", kickstarter_dataset[column_to_look].nunique())\n",
    "#print(\"unique value별 개수:\\n\", kickstarter_dataset[column_to_look].value_counts()) #normalize=True -- 비율 집계\n",
    "print(\"data size: \", kickstarter_dataset[column_to_look].size)\n",
    "print(\"dtype: \", type(kickstarter_dataset[column_to_look][0]))\n",
    "print(\"null/nan 수: \", kickstarter_dataset[column_to_look].isna().sum())\n",
    "print(\"-----------------------------\")\n",
    "print(\"데이터 형태 예시\\n\")\n",
    "print(kickstarter_dataset[column_to_look][0])"
   ]
  },
  {
   "cell_type": "markdown",
   "metadata": {},
   "source": [
    "## creator\n",
    "- 펀딩 프로젝트 만든이 정보 (dictionary 형태)"
   ]
  },
  {
   "cell_type": "code",
   "execution_count": 61,
   "metadata": {},
   "outputs": [
    {
     "name": "stdout",
     "output_type": "stream",
     "text": [
      "unique values:  215165\n",
      "data size:  215800\n",
      "dtype:  <class 'str'>\n",
      "null/nan 수:  0\n",
      "-----------------------------\n",
      "데이터 형태 예시\n",
      "\n",
      "{\"id\":469036700,\"name\":\"Camille de Germond\",\"is_registered\":null,\"chosen_currency\":null,\"is_superbacker\":null,\"avatar\":{\"thumb\":\"https://ksr-ugc.imgix.net/assets/025/618/811/ca566ff21d110f9cbe451cc60e5f6c81_original.jpeg?ixlib=rb-2.1.0&w=40&h=40&fit=crop&v=1561558757&auto=format&frame=1&q=92&s=81691e924e37a2ffca7b5e901ff944d6\",\"small\":\"https://ksr-ugc.imgix.net/assets/025/618/811/ca566ff21d110f9cbe451cc60e5f6c81_original.jpeg?ixlib=rb-2.1.0&w=160&h=160&fit=crop&v=1561558757&auto=format&frame=1&q=92&s=4ff5ad957532e8b7ffa9268d15f3ffb1\",\"medium\":\"https://ksr-ugc.imgix.net/assets/025/618/811/ca566ff21d110f9cbe451cc60e5f6c81_original.jpeg?ixlib=rb-2.1.0&w=160&h=160&fit=crop&v=1561558757&auto=format&frame=1&q=92&s=4ff5ad957532e8b7ffa9268d15f3ffb1\"},\"urls\":{\"web\":{\"user\":\"https://www.kickstarter.com/profile/469036700\"},\"api\":{\"user\":\"https://api.kickstarter.com/v1/users/469036700?signature=1576212594.3913eae0433e83a23dfa9662805147a43a5cedf1\"}}}\n"
     ]
    }
   ],
   "source": [
    "column_to_look = 'creator'\n",
    "print(\"unique values: \", kickstarter_dataset[column_to_look].nunique())\n",
    "#print(\"unique value별 개수:\\n\", kickstarter_dataset[column_to_look].value_counts()) #normalize=True -- 비율 집계\n",
    "print(\"data size: \", kickstarter_dataset[column_to_look].size)\n",
    "print(\"dtype: \", type(kickstarter_dataset[column_to_look][0]))\n",
    "print(\"null/nan 수: \", kickstarter_dataset[column_to_look].isna().sum())\n",
    "print(\"-----------------------------\")\n",
    "print(\"데이터 형태 예시\\n\")\n",
    "print(kickstarter_dataset[column_to_look][0])"
   ]
  },
  {
   "cell_type": "markdown",
   "metadata": {},
   "source": [
    "## currency\n",
    "- 펀딩 프로젝트에 설정된 돈 단위"
   ]
  },
  {
   "cell_type": "code",
   "execution_count": 63,
   "metadata": {},
   "outputs": [
    {
     "name": "stdout",
     "output_type": "stream",
     "text": [
      "unique values:  14\n",
      "unique value별 개수:\n",
      " USD    149987\n",
      "GBP     24540\n",
      "EUR     15580\n",
      "CAD     10162\n",
      "AUD      5228\n",
      "MXN      2880\n",
      "SEK      1550\n",
      "HKD      1376\n",
      "NZD       978\n",
      "DKK       958\n",
      "SGD       801\n",
      "CHF       735\n",
      "NOK       521\n",
      "JPY       504\n",
      "Name: currency, dtype: int64\n",
      "data size:  215800\n",
      "dtype:  <class 'str'>\n",
      "null/nan 수:  0\n",
      "-----------------------------\n",
      "데이터 형태 예시\n",
      "\n",
      "EUR\n"
     ]
    }
   ],
   "source": [
    "column_to_look = 'currency'\n",
    "print(\"unique values: \", kickstarter_dataset[column_to_look].nunique())\n",
    "print(\"unique value별 개수:\\n\", kickstarter_dataset[column_to_look].value_counts()) #normalize=True -- 비율 집계\n",
    "print(\"data size: \", kickstarter_dataset[column_to_look].size)\n",
    "print(\"dtype: \", type(kickstarter_dataset[column_to_look][0]))\n",
    "print(\"null/nan 수: \", kickstarter_dataset[column_to_look].isna().sum())\n",
    "print(\"-----------------------------\")\n",
    "print(\"데이터 형태 예시\\n\")\n",
    "print(kickstarter_dataset[column_to_look][0])"
   ]
  },
  {
   "cell_type": "markdown",
   "metadata": {},
   "source": [
    "## currency_symbol\n",
    "- 펀딩 프로젝트에 설정된 돈 단위 상징"
   ]
  },
  {
   "cell_type": "code",
   "execution_count": 65,
   "metadata": {},
   "outputs": [
    {
     "name": "stdout",
     "output_type": "stream",
     "text": [
      "unique values:  6\n",
      "unique value별 개수:\n",
      " $      171412\n",
      "£       24540\n",
      "€       15580\n",
      "kr       3029\n",
      "Fr        735\n",
      "¥         504\n",
      "Name: currency_symbol, dtype: int64\n",
      "data size:  215800\n",
      "dtype:  <class 'str'>\n",
      "null/nan 수:  0\n",
      "-----------------------------\n",
      "데이터 형태 예시\n",
      "\n",
      "€\n"
     ]
    }
   ],
   "source": [
    "column_to_look = 'currency_symbol'\n",
    "print(\"unique values: \", kickstarter_dataset[column_to_look].nunique())\n",
    "print(\"unique value별 개수:\\n\", kickstarter_dataset[column_to_look].value_counts()) #normalize=True -- 비율 집계\n",
    "print(\"data size: \", kickstarter_dataset[column_to_look].size)\n",
    "print(\"dtype: \", type(kickstarter_dataset[column_to_look][0]))\n",
    "print(\"null/nan 수: \", kickstarter_dataset[column_to_look].isna().sum())\n",
    "print(\"-----------------------------\")\n",
    "print(\"데이터 형태 예시\\n\")\n",
    "print(kickstarter_dataset[column_to_look][0])"
   ]
  },
  {
   "cell_type": "markdown",
   "metadata": {},
   "source": [
    "## currency_trailing_code"
   ]
  },
  {
   "cell_type": "code",
   "execution_count": 66,
   "metadata": {},
   "outputs": [
    {
     "name": "stdout",
     "output_type": "stream",
     "text": [
      "unique values:  2\n",
      "unique value별 개수:\n",
      " True     174441\n",
      "False     41359\n",
      "Name: currency_trailing_code, dtype: int64\n",
      "data size:  215800\n",
      "dtype:  <class 'numpy.bool_'>\n",
      "null/nan 수:  0\n",
      "-----------------------------\n",
      "데이터 형태 예시\n",
      "\n",
      "False\n"
     ]
    }
   ],
   "source": [
    "column_to_look = 'currency_trailing_code'\n",
    "print(\"unique values: \", kickstarter_dataset[column_to_look].nunique())\n",
    "print(\"unique value별 개수:\\n\", kickstarter_dataset[column_to_look].value_counts()) #normalize=True -- 비율 집계\n",
    "print(\"data size: \", kickstarter_dataset[column_to_look].size)\n",
    "print(\"dtype: \", type(kickstarter_dataset[column_to_look][0]))\n",
    "print(\"null/nan 수: \", kickstarter_dataset[column_to_look].isna().sum())\n",
    "print(\"-----------------------------\")\n",
    "print(\"데이터 형태 예시\\n\")\n",
    "print(kickstarter_dataset[column_to_look][0])"
   ]
  },
  {
   "cell_type": "markdown",
   "metadata": {},
   "source": [
    "## current_currency\n",
    "- 단위 변환 후의 현재 돈 단위"
   ]
  },
  {
   "cell_type": "code",
   "execution_count": 68,
   "metadata": {},
   "outputs": [
    {
     "name": "stdout",
     "output_type": "stream",
     "text": [
      "unique values:  5\n",
      "unique value별 개수:\n",
      " USD    215656\n",
      "GBP        48\n",
      "CAD        48\n",
      "AUD        36\n",
      "EUR        12\n",
      "Name: current_currency, dtype: int64\n",
      "data size:  215800\n",
      "dtype:  <class 'str'>\n",
      "null/nan 수:  0\n",
      "-----------------------------\n",
      "데이터 형태 예시\n",
      "\n",
      "USD\n"
     ]
    }
   ],
   "source": [
    "column_to_look = 'current_currency'\n",
    "print(\"unique values: \", kickstarter_dataset[column_to_look].nunique())\n",
    "print(\"unique value별 개수:\\n\", kickstarter_dataset[column_to_look].value_counts()) #normalize=True -- 비율 집계\n",
    "print(\"data size: \", kickstarter_dataset[column_to_look].size)\n",
    "print(\"dtype: \", type(kickstarter_dataset[column_to_look][0]))\n",
    "print(\"null/nan 수: \", kickstarter_dataset[column_to_look].isna().sum())\n",
    "print(\"-----------------------------\")\n",
    "print(\"데이터 형태 예시\\n\")\n",
    "print(kickstarter_dataset[column_to_look][0])"
   ]
  },
  {
   "cell_type": "code",
   "execution_count": null,
   "metadata": {},
   "outputs": [],
   "source": [
    "#다른 label이 5개나 있다\n",
    "#만약 필요하다면 currency는 다 통일"
   ]
  },
  {
   "cell_type": "markdown",
   "metadata": {},
   "source": [
    "## deadline\n",
    "- 펀딩 마감 시간 (milliseconds)"
   ]
  },
  {
   "cell_type": "code",
   "execution_count": 69,
   "metadata": {},
   "outputs": [
    {
     "name": "stdout",
     "output_type": "stream",
     "text": [
      "unique values:  176815\n",
      "data size:  215800\n",
      "dtype:  <class 'numpy.int64'>\n",
      "null/nan 수:  0\n",
      "-----------------------------\n",
      "데이터 형태 예시\n",
      "\n",
      "1566744397\n"
     ]
    }
   ],
   "source": [
    "column_to_look = 'deadline'\n",
    "print(\"unique values: \", kickstarter_dataset[column_to_look].nunique())\n",
    "#print(\"unique value별 개수:\\n\", kickstarter_dataset[column_to_look].value_counts()) #normalize=True -- 비율 집계\n",
    "print(\"data size: \", kickstarter_dataset[column_to_look].size)\n",
    "print(\"dtype: \", type(kickstarter_dataset[column_to_look][0]))\n",
    "print(\"null/nan 수: \", kickstarter_dataset[column_to_look].isna().sum())\n",
    "print(\"-----------------------------\")\n",
    "print(\"데이터 형태 예시\\n\")\n",
    "print(kickstarter_dataset[column_to_look][0])"
   ]
  },
  {
   "cell_type": "code",
   "execution_count": null,
   "metadata": {
    "colab": {},
    "colab_type": "code",
    "id": "fwYGyflgAG-z",
    "outputId": "f99e16ad-3310-4063-d9ce-6386ea0f826b"
   },
   "outputs": [
    {
     "name": "stdout",
     "output_type": "stream",
     "text": [
      "0   2019-08-25 14:46:37\n",
      "1   2015-09-14 04:19:27\n",
      "2   2018-08-18 15:43:54\n",
      "Name: deadline, dtype: datetime64[ns]\n",
      "215797   2019-07-16 06:59:00\n",
      "215798   2014-08-31 22:35:00\n",
      "215799   2015-04-08 17:20:06\n",
      "Name: deadline, dtype: datetime64[ns]\n",
      "first project:  2009-05-16 09:59:00\n",
      "last project:  2020-02-10 04:37:15\n"
     ]
    }
   ],
   "source": [
    "#'deadline' 컬럼 datetime형식으로 변경\n",
    "deadline_s = concatenated_df['deadline']\n",
    "date_deadline = pd.to_datetime(deadline_s, unit='s')\n",
    "print(date_deadline.head(3))\n",
    "print(date_deadline.tail(3))\n",
    "print(\"first project: \", date_deadline.min())\n",
    "print(\"last project: \", date_deadline.max())"
   ]
  },
  {
   "cell_type": "code",
   "execution_count": null,
   "metadata": {},
   "outputs": [],
   "source": [
    "#생성한 datetime 컬럼 dataframe에 삽입\n",
    "concatenated_df.insert(14, 'date_deadline', date_deadline)"
   ]
  },
  {
   "cell_type": "markdown",
   "metadata": {},
   "source": [
    "## date_deadline\n",
    "- 펀딩 마감 날짜 (datetime 형태)"
   ]
  },
  {
   "cell_type": "code",
   "execution_count": 70,
   "metadata": {},
   "outputs": [
    {
     "name": "stdout",
     "output_type": "stream",
     "text": [
      "unique values:  176815\n",
      "data size:  215800\n",
      "dtype:  <class 'pandas._libs.tslibs.timestamps.Timestamp'>\n",
      "null/nan 수:  0\n",
      "-----------------------------\n",
      "데이터 형태 예시\n",
      "\n",
      "2019-08-25 14:46:37\n"
     ]
    }
   ],
   "source": [
    "column_to_look = 'date_deadline'\n",
    "print(\"unique values: \", kickstarter_dataset[column_to_look].nunique())\n",
    "#print(\"unique value별 개수:\\n\", kickstarter_dataset[column_to_look].value_counts()) #normalize=True -- 비율 집계\n",
    "print(\"data size: \", kickstarter_dataset[column_to_look].size)\n",
    "print(\"dtype: \", type(kickstarter_dataset[column_to_look][0]))\n",
    "print(\"null/nan 수: \", kickstarter_dataset[column_to_look].isna().sum())\n",
    "print(\"-----------------------------\")\n",
    "print(\"데이터 형태 예시\\n\")\n",
    "print(kickstarter_dataset[column_to_look][0])"
   ]
  },
  {
   "cell_type": "markdown",
   "metadata": {},
   "source": [
    "## disable_communication\n",
    "- 펀딩 크리에이터와의 커뮤니케이션 가능 유무"
   ]
  },
  {
   "cell_type": "code",
   "execution_count": 109,
   "metadata": {},
   "outputs": [
    {
     "name": "stdout",
     "output_type": "stream",
     "text": [
      "unique values:  2\n",
      "unique value별 개수:\n",
      " False    215152\n",
      "True        648\n",
      "Name: disable_communication, dtype: int64\n",
      "data size:  215800\n",
      "dtype:  <class 'numpy.bool_'>\n",
      "null/nan 수:  0\n",
      "-----------------------------\n",
      "데이터 형태 예시\n",
      "\n",
      "False    215152\n",
      "True        648\n",
      "Name: disable_communication, dtype: int64\n"
     ]
    }
   ],
   "source": [
    "column_to_look = 'disable_communication'\n",
    "print(\"unique values: \", kickstarter_dataset[column_to_look].nunique())\n",
    "print(\"unique value별 개수:\\n\", kickstarter_dataset[column_to_look].value_counts()) #normalize=True -- 비율 집계\n",
    "print(\"data size: \", kickstarter_dataset[column_to_look].size)\n",
    "print(\"dtype: \", type(kickstarter_dataset[column_to_look][0]))\n",
    "print(\"null/nan 수: \", kickstarter_dataset[column_to_look].isna().sum())\n",
    "print(\"-----------------------------\")\n",
    "print(\"데이터 형태 예시\\n\")\n",
    "print(kickstarter_dataset[column_to_look].value_counts())"
   ]
  },
  {
   "cell_type": "markdown",
   "metadata": {},
   "source": [
    "## friends"
   ]
  },
  {
   "cell_type": "code",
   "execution_count": 85,
   "metadata": {},
   "outputs": [
    {
     "name": "stdout",
     "output_type": "stream",
     "text": [
      "unique values:  27\n",
      "data size:  215800\n",
      "dtype:  <class 'float'>\n",
      "null/nan 수:  215548\n",
      "-----------------------------\n",
      "데이터 형태 예시\n",
      "\n",
      "[{\"id\":1528750001,\"name\":\"Blacklist Games\",\"slug\":\"blacklistgames\",\"is_registered\":null,\"chosen_currency\":null,\"is_superbacker\":null,\"avatar\":{\"thumb\":\"https://ksr-ugc.imgix.net/assets/012/512/828/b761b350a991b24b42622274f46bb375_original.png?ixlib=rb-2.1.0&w=40&h=40&fit=crop&v=1464152704&auto=format&frame=1&q=92&s=0761c36aa7a5a934c927d9ca41f332c1\",\"small\":\"https://ksr-ugc.imgix.net/assets/012/512/828/b761b350a991b24b42622274f46bb375_original.png?ixlib=rb-2.1.0&w=160&h=160&fit=crop&v=1464152704&auto=format&frame=1&q=92&s=ca895cc6d08253e9d9eb56e2b5ab9f3a\",\"medium\":\"https://ksr-ugc.imgix.net/assets/012/512/828/b761b350a991b24b42622274f46bb375_original.png?ixlib=rb-2.1.0&w=160&h=160&fit=crop&v=1464152704&auto=format&frame=1&q=92&s=ca895cc6d08253e9d9eb56e2b5ab9f3a\"},\"urls\":{\"web\":{\"user\":\"https://www.kickstarter.com/profile/blacklistgames\"},\"api\":{\"user\":\"https://api.kickstarter.com/v1/users/1528750001?signature=1576211015.2dbb000da9ab5d21d717071215b1b9b44463f1db\"}}}]    1\n",
      "Name: friends, dtype: int64\n"
     ]
    }
   ],
   "source": [
    "column_to_look = 'friends'\n",
    "print(\"unique values: \", kickstarter_dataset[column_to_look].nunique())\n",
    "#print(\"unique value별 개수:\\n\", kickstarter_dataset[column_to_look].value_counts()) #normalize=True -- 비율 집계\n",
    "print(\"data size: \", kickstarter_dataset[column_to_look].size)\n",
    "print(\"dtype: \", type(kickstarter_dataset[column_to_look][0]))\n",
    "print(\"null/nan 수: \", kickstarter_dataset[column_to_look].isna().sum())\n",
    "print(\"-----------------------------\")\n",
    "print(\"데이터 형태 예시\\n\")\n",
    "print(kickstarter_dataset[column_to_look].value_counts()[1:2])"
   ]
  },
  {
   "cell_type": "markdown",
   "metadata": {},
   "source": [
    "## fx_rate\n",
    "- 환율 (Foreign Exchange Rate)"
   ]
  },
  {
   "cell_type": "code",
   "execution_count": 90,
   "metadata": {},
   "outputs": [
    {
     "name": "stdout",
     "output_type": "stream",
     "text": [
      "unique values:  56\n",
      "data size:  215800\n",
      "dtype:  <class 'numpy.float64'>\n",
      "null/nan 수:  0\n",
      "-----------------------------\n",
      "데이터 형태 예시\n",
      "\n",
      "1.000000    149922\n",
      "1.313810     14535\n",
      "1.321770      9993\n",
      "1.108973      9648\n",
      "0.755601      6216\n",
      "Name: fx_rate, dtype: int64\n"
     ]
    }
   ],
   "source": [
    "column_to_look = 'fx_rate'\n",
    "print(\"unique values: \", kickstarter_dataset[column_to_look].nunique())\n",
    "#print(\"unique value별 개수:\\n\", kickstarter_dataset[column_to_look].value_counts()) #normalize=True -- 비율 집계\n",
    "print(\"data size: \", kickstarter_dataset[column_to_look].size)\n",
    "print(\"dtype: \", type(kickstarter_dataset[column_to_look][0]))\n",
    "print(\"null/nan 수: \", kickstarter_dataset[column_to_look].isna().sum())\n",
    "print(\"-----------------------------\")\n",
    "print(\"데이터 형태 예시\\n\")\n",
    "print(kickstarter_dataset[column_to_look].value_counts().head())"
   ]
  },
  {
   "cell_type": "markdown",
   "metadata": {},
   "source": [
    "## goal\n",
    "- 목표 모금액 (in local currency)"
   ]
  },
  {
   "cell_type": "code",
   "execution_count": 91,
   "metadata": {},
   "outputs": [
    {
     "name": "stdout",
     "output_type": "stream",
     "text": [
      "unique values:  5370\n",
      "data size:  215800\n",
      "dtype:  <class 'numpy.float64'>\n",
      "null/nan 수:  0\n",
      "-----------------------------\n",
      "데이터 형태 예시\n",
      "\n",
      "600.0\n"
     ]
    }
   ],
   "source": [
    "column_to_look = 'goal'\n",
    "print(\"unique values: \", kickstarter_dataset[column_to_look].nunique())\n",
    "#print(\"unique value별 개수:\\n\", kickstarter_dataset[column_to_look].value_counts()) #normalize=True -- 비율 집계\n",
    "print(\"data size: \", kickstarter_dataset[column_to_look].size)\n",
    "print(\"dtype: \", type(kickstarter_dataset[column_to_look][0]))\n",
    "print(\"null/nan 수: \", kickstarter_dataset[column_to_look].isna().sum())\n",
    "print(\"-----------------------------\")\n",
    "print(\"데이터 형태 예시\\n\")\n",
    "print(kickstarter_dataset[column_to_look][0])"
   ]
  },
  {
   "cell_type": "markdown",
   "metadata": {},
   "source": [
    "## id\n",
    "- 펀딩 프로젝트 ID"
   ]
  },
  {
   "cell_type": "code",
   "execution_count": 92,
   "metadata": {},
   "outputs": [
    {
     "name": "stdout",
     "output_type": "stream",
     "text": [
      "unique values:  188385\n",
      "data size:  215800\n",
      "dtype:  <class 'numpy.int64'>\n",
      "null/nan 수:  0\n",
      "-----------------------------\n",
      "데이터 형태 예시\n",
      "\n",
      "1458932991\n"
     ]
    }
   ],
   "source": [
    "column_to_look = 'id'\n",
    "print(\"unique values: \", kickstarter_dataset[column_to_look].nunique())\n",
    "#print(\"unique value별 개수:\\n\", kickstarter_dataset[column_to_look].value_counts()) #normalize=True -- 비율 집계\n",
    "print(\"data size: \", kickstarter_dataset[column_to_look].size)\n",
    "print(\"dtype: \", type(kickstarter_dataset[column_to_look][0]))\n",
    "print(\"null/nan 수: \", kickstarter_dataset[column_to_look].isna().sum())\n",
    "print(\"-----------------------------\")\n",
    "print(\"데이터 형태 예시\\n\")\n",
    "print(kickstarter_dataset[column_to_look][0])"
   ]
  },
  {
   "cell_type": "markdown",
   "metadata": {},
   "source": [
    "## is_backing"
   ]
  },
  {
   "cell_type": "code",
   "execution_count": 108,
   "metadata": {},
   "outputs": [
    {
     "name": "stdout",
     "output_type": "stream",
     "text": [
      "unique values:  2\n",
      "unique value별 개수:\n",
      " False    251\n",
      "True       1\n",
      "Name: is_backing, dtype: int64\n",
      "data size:  215800\n",
      "dtype:  <class 'float'>\n",
      "null/nan 수:  215548\n",
      "-----------------------------\n",
      "데이터 형태 예시\n",
      "\n",
      "False    251\n",
      "True       1\n",
      "Name: is_backing, dtype: int64\n"
     ]
    }
   ],
   "source": [
    "column_to_look = 'is_backing'\n",
    "print(\"unique values: \", kickstarter_dataset[column_to_look].nunique())\n",
    "print(\"unique value별 개수:\\n\", kickstarter_dataset[column_to_look].value_counts()) #normalize=True -- 비율 집계\n",
    "print(\"data size: \", kickstarter_dataset[column_to_look].size)\n",
    "print(\"dtype: \", type(kickstarter_dataset[column_to_look][0]))\n",
    "print(\"null/nan 수: \", kickstarter_dataset[column_to_look].isna().sum())\n",
    "print(\"-----------------------------\")\n",
    "print(\"데이터 형태 예시\\n\")\n",
    "print(kickstarter_dataset[column_to_look].value_counts())"
   ]
  },
  {
   "cell_type": "markdown",
   "metadata": {},
   "source": [
    "## is_starrable\n",
    "- 관심있는 펀딩 프로젝트에 등록 가능 유무 (관심 프로젝트로 등록하면 해당 펀딩 프로젝트의 진행과정을 계속 업데이트 받거나 추적할 수 있음)"
   ]
  },
  {
   "cell_type": "code",
   "execution_count": 107,
   "metadata": {},
   "outputs": [
    {
     "name": "stdout",
     "output_type": "stream",
     "text": [
      "unique values:  2\n",
      "unique value별 개수:\n",
      " False    210245\n",
      "True       5555\n",
      "Name: is_starrable, dtype: int64\n",
      "data size:  215800\n",
      "dtype:  <class 'numpy.bool_'>\n",
      "null/nan 수:  0\n",
      "-----------------------------\n",
      "데이터 형태 예시\n",
      "\n",
      "False    210245\n",
      "True       5555\n",
      "Name: is_starrable, dtype: int64\n"
     ]
    }
   ],
   "source": [
    "column_to_look = 'is_starrable'\n",
    "print(\"unique values: \", kickstarter_dataset[column_to_look].nunique())\n",
    "print(\"unique value별 개수:\\n\", kickstarter_dataset[column_to_look].value_counts()) #normalize=True -- 비율 집계\n",
    "print(\"data size: \", kickstarter_dataset[column_to_look].size)\n",
    "print(\"dtype: \", type(kickstarter_dataset[column_to_look][0]))\n",
    "print(\"null/nan 수: \", kickstarter_dataset[column_to_look].isna().sum())\n",
    "print(\"-----------------------------\")\n",
    "print(\"데이터 형태 예시\\n\")\n",
    "print(kickstarter_dataset[column_to_look].value_counts())"
   ]
  },
  {
   "cell_type": "markdown",
   "metadata": {},
   "source": [
    "## is_starred\n",
    "- 관심 프로젝트로 등록이 되었는지 유무"
   ]
  },
  {
   "cell_type": "code",
   "execution_count": 106,
   "metadata": {},
   "outputs": [
    {
     "name": "stdout",
     "output_type": "stream",
     "text": [
      "unique values:  2\n",
      "unique value별 개수:\n",
      " False    236\n",
      "True      16\n",
      "Name: is_starred, dtype: int64\n",
      "data size:  215800\n",
      "dtype:  <class 'float'>\n",
      "null/nan 수:  215548\n",
      "-----------------------------\n",
      "데이터 형태 예시\n",
      "\n",
      "False    236\n",
      "True      16\n",
      "Name: is_starred, dtype: int64\n"
     ]
    }
   ],
   "source": [
    "column_to_look = 'is_starred'\n",
    "print(\"unique values: \", kickstarter_dataset[column_to_look].nunique())\n",
    "print(\"unique value별 개수:\\n\", kickstarter_dataset[column_to_look].value_counts()) #normalize=True -- 비율 집계\n",
    "print(\"data size: \", kickstarter_dataset[column_to_look].size)\n",
    "print(\"dtype: \", type(kickstarter_dataset[column_to_look][0]))\n",
    "print(\"null/nan 수: \", kickstarter_dataset[column_to_look].isna().sum())\n",
    "print(\"-----------------------------\")\n",
    "print(\"데이터 형태 예시\\n\")\n",
    "print(kickstarter_dataset[column_to_look].value_counts())"
   ]
  },
  {
   "cell_type": "markdown",
   "metadata": {},
   "source": [
    "## launched_at\n",
    "- 펀딩 프로젝트 런칭 시간 (milliseconds)"
   ]
  },
  {
   "cell_type": "code",
   "execution_count": 111,
   "metadata": {},
   "outputs": [
    {
     "name": "stdout",
     "output_type": "stream",
     "text": [
      "unique values:  188222\n",
      "data size:  215800\n",
      "dtype:  <class 'numpy.int64'>\n",
      "null/nan 수:  0\n",
      "-----------------------------\n",
      "데이터 형태 예시\n",
      "\n",
      "1561560397\n"
     ]
    }
   ],
   "source": [
    "column_to_look = 'launched_at'\n",
    "print(\"unique values: \", kickstarter_dataset[column_to_look].nunique())\n",
    "#print(\"unique value별 개수:\\n\", kickstarter_dataset[column_to_look].value_counts()) #normalize=True -- 비율 집계\n",
    "print(\"data size: \", kickstarter_dataset[column_to_look].size)\n",
    "print(\"dtype: \", type(kickstarter_dataset[column_to_look][0]))\n",
    "print(\"null/nan 수: \", kickstarter_dataset[column_to_look].isna().sum())\n",
    "print(\"-----------------------------\")\n",
    "print(\"데이터 형태 예시\\n\")\n",
    "print(kickstarter_dataset[column_to_look][0])"
   ]
  },
  {
   "cell_type": "code",
   "execution_count": null,
   "metadata": {
    "colab": {},
    "colab_type": "code",
    "id": "WRjAmeNBAG-q",
    "outputId": "0d53fff9-787a-44b0-e03c-a8885a3cb294"
   },
   "outputs": [
    {
     "name": "stdout",
     "output_type": "stream",
     "text": [
      "0   2019-06-26 14:46:37\n",
      "1   2015-08-15 04:19:27\n",
      "2   2018-06-19 15:43:54\n",
      "Name: launched_at, dtype: datetime64[ns]\n",
      "215797   2019-06-15 12:54:21\n",
      "215798   2014-07-21 20:01:35\n",
      "215799   2015-03-09 17:20:06\n",
      "Name: launched_at, dtype: datetime64[ns]\n",
      "first project:  2009-04-25 15:36:21\n",
      "last project:  2019-12-12 05:10:43\n"
     ]
    }
   ],
   "source": [
    "#'launched_at' 컬럼 datetime형식으로 변경\n",
    "launch_date_s = concatenated_df['launched_at']\n",
    "date_launched = pd.to_datetime(launch_date_s, unit='s')\n",
    "print(date_launched.head(3))\n",
    "print(date_launched.tail(3))\n",
    "print(\"first project: \", date_launched.min())\n",
    "print(\"last project: \", date_launched.max())\n",
    "# profile이 created된 날짜랑 launched된 날짜가 다른 것들 존재"
   ]
  },
  {
   "cell_type": "code",
   "execution_count": null,
   "metadata": {},
   "outputs": [],
   "source": [
    "#생성한 datetime 컬럼 dataframe에 삽입\n",
    "concatenated_df.insert(24, 'date_launched', date_launched)"
   ]
  },
  {
   "cell_type": "markdown",
   "metadata": {},
   "source": [
    "## date_launched\n",
    "- 펀딩 런칭 날짜 (datetime 형태)"
   ]
  },
  {
   "cell_type": "code",
   "execution_count": 113,
   "metadata": {},
   "outputs": [
    {
     "name": "stdout",
     "output_type": "stream",
     "text": [
      "unique values:  188222\n",
      "data size:  215800\n",
      "dtype:  <class 'pandas._libs.tslibs.timestamps.Timestamp'>\n",
      "null/nan 수:  0\n",
      "-----------------------------\n",
      "데이터 형태 예시\n",
      "\n",
      "2019-06-26 14:46:37\n"
     ]
    }
   ],
   "source": [
    "column_to_look = 'date_launched'\n",
    "print(\"unique values: \", kickstarter_dataset[column_to_look].nunique())\n",
    "#print(\"unique value별 개수:\\n\", kickstarter_dataset[column_to_look].value_counts()) #normalize=True -- 비율 집계\n",
    "print(\"data size: \", kickstarter_dataset[column_to_look].size)\n",
    "print(\"dtype: \", type(kickstarter_dataset[column_to_look][0]))\n",
    "print(\"null/nan 수: \", kickstarter_dataset[column_to_look].isna().sum())\n",
    "print(\"-----------------------------\")\n",
    "print(\"데이터 형태 예시\\n\")\n",
    "print(kickstarter_dataset[column_to_look][0])"
   ]
  },
  {
   "cell_type": "markdown",
   "metadata": {},
   "source": [
    "## location\n",
    "- 펀딩 위치/지역 정보"
   ]
  },
  {
   "cell_type": "code",
   "execution_count": 115,
   "metadata": {},
   "outputs": [
    {
     "name": "stdout",
     "output_type": "stream",
     "text": [
      "unique values:  15473\n",
      "data size:  215800\n",
      "dtype:  <class 'str'>\n",
      "null/nan 수:  217\n",
      "-----------------------------\n",
      "데이터 형태 예시\n",
      "\n",
      "{'id': 12665488, 'name': 'Ste.-Maxime', 'slug': 'ste-maxime-var-fr', 'short_name': 'Ste.-Maxime, France', 'displayable_name': 'Ste.-Maxime, France', 'localized_name': 'Ste.-Maxime', 'country': 'FR', 'state': \"Provence-Alpes-Cote d'Azur\", 'type': 'LocalAdmin', 'is_root': False, 'expanded_country': 'France', 'urls': {'web': {'discover': 'https://www.kickstarter.com/discover/places/ste-maxime-var-fr', 'location': 'https://www.kickstarter.com/locations/ste-maxime-var-fr'}, 'api': {'nearby_projects': 'https://api.kickstarter.com/v1/discover?signature=1576191242.5a0210773ec3677f3f235ec1f32cc75d563f4be5&woe_id=12665488'}}}\n"
     ]
    }
   ],
   "source": [
    "column_to_look = 'location'\n",
    "print(\"unique values: \", kickstarter_dataset[column_to_look].nunique())\n",
    "#print(\"unique value별 개수:\\n\", kickstarter_dataset[column_to_look].value_counts()) #normalize=True -- 비율 집계\n",
    "print(\"data size: \", kickstarter_dataset[column_to_look].size)\n",
    "print(\"dtype: \", type(kickstarter_dataset[column_to_look][0]))\n",
    "print(\"null/nan 수: \", kickstarter_dataset[column_to_look].isna().sum())\n",
    "print(\"-----------------------------\")\n",
    "print(\"데이터 형태 예시\\n\")\n",
    "print(kickstarter_dataset[column_to_look][0])"
   ]
  },
  {
   "cell_type": "code",
   "execution_count": null,
   "metadata": {},
   "outputs": [],
   "source": [
    "#'location'컬럼 또한 형태만 dictionary이지만 타입이 string이다"
   ]
  },
  {
   "cell_type": "code",
   "execution_count": null,
   "metadata": {},
   "outputs": [],
   "source": [
    "#정규표현식(regular expression)으로 location 'name: ... ' 부분만 추출 시도\n",
    "import re\n",
    "\n",
    "def search_location(x):\n",
    "    s_l = re.search(r\"(\\\"name\\\"):(\\\".+?\\\")\", x)\n",
    "    print(s_l.group(2))\n",
    "\n",
    "location_re = kickstarter_dataset['location'].apply(lambda x: search_location(x))\n",
    "\n",
    "# 결측치로 인하여 오류"
   ]
  },
  {
   "cell_type": "code",
   "execution_count": null,
   "metadata": {},
   "outputs": [],
   "source": [
    "# 결측치는 나중에 전처리 과정에서 처리하고\n",
    "# 우선 'location'컬럼 string --> dictionary로 전환\n",
    "# 결측치의 존재로 json.loads()과 eval() 둘 다 안 되기에, 다른 방법 시도"
   ]
  },
  {
   "cell_type": "code",
   "execution_count": 61,
   "metadata": {},
   "outputs": [
    {
     "data": {
      "text/plain": [
       "0    {'id': 12665488, 'name': 'Ste.-Maxime', 'slug'...\n",
       "1    {'id': 2452078, 'name': 'Minneapolis', 'slug':...\n",
       "2    {'id': 44418, 'name': 'London', 'slug': 'londo...\n",
       "3    {'id': 2459115, 'name': 'New York', 'slug': 'n...\n",
       "4    {'id': 2441116, 'name': 'Logan', 'slug': 'loga...\n",
       "Name: location, dtype: object"
      ]
     },
     "execution_count": 61,
     "metadata": {},
     "output_type": "execute_result"
    }
   ],
   "source": [
    "#결측치 부분은 그냥 스킵하고 json.loads될 수 있도록 설계\n",
    "import json\n",
    "\n",
    "def json_loads(x):\n",
    "    if pd.isna(x) == False:\n",
    "        j = json.loads(x)\n",
    "        return j\n",
    "\n",
    "location_dic = kickstarter_dataset['location'].apply(lambda x: json_loads(x))\n",
    "location_dic.head()"
   ]
  },
  {
   "cell_type": "code",
   "execution_count": 62,
   "metadata": {},
   "outputs": [
    {
     "name": "stdout",
     "output_type": "stream",
     "text": [
      "<class 'dict'>\n",
      "217\n"
     ]
    }
   ],
   "source": [
    "print(type(location_dic[0])) #데이터 타입이 dict로 바뀜"
   ]
  },
  {
   "cell_type": "code",
   "execution_count": 63,
   "metadata": {},
   "outputs": [
    {
     "data": {
      "text/plain": [
       "'Ste.-Maxime'"
      ]
     },
     "execution_count": 63,
     "metadata": {},
     "output_type": "execute_result"
    }
   ],
   "source": [
    "location_dic[0]['name'] #key 값 조회 가능"
   ]
  },
  {
   "cell_type": "code",
   "execution_count": 86,
   "metadata": {},
   "outputs": [],
   "source": [
    "kickstarter_data['location'] = location_dic #컬럼 대체"
   ]
  },
  {
   "cell_type": "code",
   "execution_count": 148,
   "metadata": {},
   "outputs": [
    {
     "name": "stdout",
     "output_type": "stream",
     "text": [
      "215800\n",
      "<class 'str'>\n",
      "217\n"
     ]
    },
    {
     "data": {
      "text/plain": [
       "'Ste.-Maxime'"
      ]
     },
     "execution_count": 148,
     "metadata": {},
     "output_type": "execute_result"
    }
   ],
   "source": [
    "#'location' dictionary에서 'name' key만 추출 (지역 이름)\n",
    "def get_loc_name(x):\n",
    "    if pd.isna(x) == False:\n",
    "        loc_name = x['name']\n",
    "        return loc_name\n",
    "\n",
    "location_name = kickstarter_data['location'].apply(lambda x: get_loc_name(x))\n",
    "\n",
    "print(location_name.size)\n",
    "print(type(location_name[0]))\n",
    "print(location_name.isna().sum())\n",
    "location_name[0]"
   ]
  },
  {
   "cell_type": "code",
   "execution_count": null,
   "metadata": {},
   "outputs": [],
   "source": [
    "#추출한 location_name --> 데이터셋에 새 컬럼으로 삽입\n",
    "kickstarter_data.insert(28, 'location_name', location_name)"
   ]
  },
  {
   "cell_type": "markdown",
   "metadata": {},
   "source": [
    "## location_name\n",
    "- 펀딩 위치/지역 이름"
   ]
  },
  {
   "cell_type": "code",
   "execution_count": 116,
   "metadata": {},
   "outputs": [
    {
     "name": "stdout",
     "output_type": "stream",
     "text": [
      "unique values:  13060\n",
      "unique value별 개수:\n",
      " Los Angeles           9771\n",
      "London                8458\n",
      "New York              8124\n",
      "Chicago               3886\n",
      "San Francisco         3378\n",
      "                      ... \n",
      "Chetek                   1\n",
      "Kawaihae                 1\n",
      "St.-Lievens-Houtem       1\n",
      "East Bloomfield          1\n",
      "30005                    1\n",
      "Name: location_name, Length: 13060, dtype: int64\n",
      "data size:  215800\n",
      "dtype:  <class 'str'>\n",
      "null/nan 수:  217\n",
      "-----------------------------\n",
      "데이터 형태 예시\n",
      "\n",
      "Ste.-Maxime\n"
     ]
    }
   ],
   "source": [
    "column_to_look = 'location_name'\n",
    "print(\"unique values: \", kickstarter_dataset[column_to_look].nunique())\n",
    "print(\"unique value별 개수:\\n\", kickstarter_dataset[column_to_look].value_counts()) #normalize=True -- 비율 집계\n",
    "print(\"data size: \", kickstarter_dataset[column_to_look].size)\n",
    "print(\"dtype: \", type(kickstarter_dataset[column_to_look][0]))\n",
    "print(\"null/nan 수: \", kickstarter_dataset[column_to_look].isna().sum())\n",
    "print(\"-----------------------------\")\n",
    "print(\"데이터 형태 예시\\n\")\n",
    "print(kickstarter_dataset[column_to_look][0])"
   ]
  },
  {
   "cell_type": "markdown",
   "metadata": {},
   "source": [
    "## name\n",
    "- 펀딩 프로젝트 이름/제목"
   ]
  },
  {
   "cell_type": "code",
   "execution_count": 117,
   "metadata": {},
   "outputs": [
    {
     "name": "stdout",
     "output_type": "stream",
     "text": [
      "unique values:  187774\n",
      "unique value별 개수:\n",
      " Debut Album                                           8\n",
      "Home                                                  8\n",
      "A Midsummer Night's Dream                             7\n",
      "Reflections                                           6\n",
      "The Other Side                                        6\n",
      "                                                     ..\n",
      "Milan Mode (Canceled)                                 1\n",
      "Get Rat Ruckus Out of the Woods!                      1\n",
      "\"THE PRESENT” - a short brought to you by SkyCorp®    1\n",
      "AMONG WOLVES • Doc film about wild horses & bikers    1\n",
      "Tumbling Bones' First Full-Length Album               1\n",
      "Name: name, Length: 187774, dtype: int64\n",
      "data size:  215800\n",
      "dtype:  <class 'str'>\n",
      "null/nan 수:  0\n",
      "-----------------------------\n",
      "데이터 형태 예시\n",
      "\n",
      "Louli à l’école\n"
     ]
    }
   ],
   "source": [
    "column_to_look = 'name'\n",
    "print(\"unique values: \", kickstarter_dataset[column_to_look].nunique())\n",
    "print(\"unique value별 개수:\\n\", kickstarter_dataset[column_to_look].value_counts()) #normalize=True -- 비율 집계\n",
    "print(\"data size: \", kickstarter_dataset[column_to_look].size)\n",
    "print(\"dtype: \", type(kickstarter_dataset[column_to_look][0]))\n",
    "print(\"null/nan 수: \", kickstarter_dataset[column_to_look].isna().sum())\n",
    "print(\"-----------------------------\")\n",
    "print(\"데이터 형태 예시\\n\")\n",
    "print(kickstarter_dataset[column_to_look][0])"
   ]
  },
  {
   "cell_type": "markdown",
   "metadata": {},
   "source": [
    "## permissions"
   ]
  },
  {
   "cell_type": "code",
   "execution_count": 119,
   "metadata": {},
   "outputs": [
    {
     "name": "stdout",
     "output_type": "stream",
     "text": [
      "unique values:  1\n",
      "unique value별 개수:\n",
      " []    252\n",
      "Name: permissions, dtype: int64\n",
      "data size:  215800\n",
      "dtype:  <class 'float'>\n",
      "null/nan 수:  215548\n",
      "-----------------------------\n",
      "데이터 형태 예시\n",
      "\n",
      "nan\n"
     ]
    }
   ],
   "source": [
    "column_to_look = 'permissions'\n",
    "print(\"unique values: \", kickstarter_dataset[column_to_look].nunique())\n",
    "print(\"unique value별 개수:\\n\", kickstarter_dataset[column_to_look].value_counts()) #normalize=True -- 비율 집계\n",
    "print(\"data size: \", kickstarter_dataset[column_to_look].size)\n",
    "print(\"dtype: \", type(kickstarter_dataset[column_to_look][0]))\n",
    "print(\"null/nan 수: \", kickstarter_dataset[column_to_look].isna().sum())\n",
    "print(\"-----------------------------\")\n",
    "print(\"데이터 형태 예시\\n\")\n",
    "print(kickstarter_dataset[column_to_look][0])"
   ]
  },
  {
   "cell_type": "markdown",
   "metadata": {},
   "source": [
    "## photo\n",
    "- 메인 이미지 정보"
   ]
  },
  {
   "cell_type": "code",
   "execution_count": 120,
   "metadata": {},
   "outputs": [
    {
     "name": "stdout",
     "output_type": "stream",
     "text": [
      "unique values:  188375\n",
      "data size:  215800\n",
      "dtype:  <class 'str'>\n",
      "null/nan 수:  0\n",
      "-----------------------------\n",
      "데이터 형태 예시\n",
      "\n",
      "{'key': 'assets/025/618/188/1ee876a3b9923c72e2e44204021d747f_original.png', 'full': 'https://ksr-ugc.imgix.net/assets/025/618/188/1ee876a3b9923c72e2e44204021d747f_original.png?ixlib=rb-2.1.0&crop=faces&w=560&h=315&fit=crop&v=1561555002&auto=format&frame=1&q=92&s=a0e9ad6ed015ce4a5413939a086210ac', 'ed': 'https://ksr-ugc.imgix.net/assets/025/618/188/1ee876a3b9923c72e2e44204021d747f_original.png?ixlib=rb-2.1.0&crop=faces&w=352&h=198&fit=crop&v=1561555002&auto=format&frame=1&q=92&s=409695b0864128d046d911045e9a46b1', 'med': 'https://ksr-ugc.imgix.net/assets/025/618/188/1ee876a3b9923c72e2e44204021d747f_original.png?ixlib=rb-2.1.0&crop=faces&w=272&h=153&fit=crop&v=1561555002&auto=format&frame=1&q=92&s=efba74ea8eb8f861704d243622e14af4', 'little': 'https://ksr-ugc.imgix.net/assets/025/618/188/1ee876a3b9923c72e2e44204021d747f_original.png?ixlib=rb-2.1.0&crop=faces&w=208&h=117&fit=crop&v=1561555002&auto=format&frame=1&q=92&s=f83a4a720aacf79a13576b9153fec385', 'small': 'https://ksr-ugc.imgix.net/assets/025/618/188/1ee876a3b9923c72e2e44204021d747f_original.png?ixlib=rb-2.1.0&crop=faces&w=160&h=90&fit=crop&v=1561555002&auto=format&frame=1&q=92&s=266bc438753183005d088f26abad1093', 'thumb': 'https://ksr-ugc.imgix.net/assets/025/618/188/1ee876a3b9923c72e2e44204021d747f_original.png?ixlib=rb-2.1.0&crop=faces&w=48&h=27&fit=crop&v=1561555002&auto=format&frame=1&q=92&s=0e552a8c7467ff6b43e50c6752a5bf61', '1024x576': 'https://ksr-ugc.imgix.net/assets/025/618/188/1ee876a3b9923c72e2e44204021d747f_original.png?ixlib=rb-2.1.0&crop=faces&w=1024&h=576&fit=crop&v=1561555002&auto=format&frame=1&q=92&s=e58d01a541355ca1fe4b7916af90970d', '1536x864': 'https://ksr-ugc.imgix.net/assets/025/618/188/1ee876a3b9923c72e2e44204021d747f_original.png?ixlib=rb-2.1.0&crop=faces&w=1552&h=873&fit=crop&v=1561555002&auto=format&frame=1&q=92&s=8a4db126a54868018443d312ffdc0952'}\n"
     ]
    }
   ],
   "source": [
    "column_to_look = 'photo'\n",
    "print(\"unique values: \", kickstarter_dataset[column_to_look].nunique())\n",
    "#print(\"unique value별 개수:\\n\", kickstarter_dataset[column_to_look].value_counts()) #normalize=True -- 비율 집계\n",
    "print(\"data size: \", kickstarter_dataset[column_to_look].size)\n",
    "print(\"dtype: \", type(kickstarter_dataset[column_to_look][0]))\n",
    "print(\"null/nan 수: \", kickstarter_dataset[column_to_look].isna().sum())\n",
    "print(\"-----------------------------\")\n",
    "print(\"데이터 형태 예시\\n\")\n",
    "print(kickstarter_dataset[column_to_look][0])"
   ]
  },
  {
   "cell_type": "code",
   "execution_count": 104,
   "metadata": {},
   "outputs": [
    {
     "name": "stdout",
     "output_type": "stream",
     "text": [
      "<class 'dict'>\n",
      "0\n"
     ]
    },
    {
     "data": {
      "text/plain": [
       "{'key': 'assets/025/618/188/1ee876a3b9923c72e2e44204021d747f_original.png',\n",
       " 'full': 'https://ksr-ugc.imgix.net/assets/025/618/188/1ee876a3b9923c72e2e44204021d747f_original.png?ixlib=rb-2.1.0&crop=faces&w=560&h=315&fit=crop&v=1561555002&auto=format&frame=1&q=92&s=a0e9ad6ed015ce4a5413939a086210ac',\n",
       " 'ed': 'https://ksr-ugc.imgix.net/assets/025/618/188/1ee876a3b9923c72e2e44204021d747f_original.png?ixlib=rb-2.1.0&crop=faces&w=352&h=198&fit=crop&v=1561555002&auto=format&frame=1&q=92&s=409695b0864128d046d911045e9a46b1',\n",
       " 'med': 'https://ksr-ugc.imgix.net/assets/025/618/188/1ee876a3b9923c72e2e44204021d747f_original.png?ixlib=rb-2.1.0&crop=faces&w=272&h=153&fit=crop&v=1561555002&auto=format&frame=1&q=92&s=efba74ea8eb8f861704d243622e14af4',\n",
       " 'little': 'https://ksr-ugc.imgix.net/assets/025/618/188/1ee876a3b9923c72e2e44204021d747f_original.png?ixlib=rb-2.1.0&crop=faces&w=208&h=117&fit=crop&v=1561555002&auto=format&frame=1&q=92&s=f83a4a720aacf79a13576b9153fec385',\n",
       " 'small': 'https://ksr-ugc.imgix.net/assets/025/618/188/1ee876a3b9923c72e2e44204021d747f_original.png?ixlib=rb-2.1.0&crop=faces&w=160&h=90&fit=crop&v=1561555002&auto=format&frame=1&q=92&s=266bc438753183005d088f26abad1093',\n",
       " 'thumb': 'https://ksr-ugc.imgix.net/assets/025/618/188/1ee876a3b9923c72e2e44204021d747f_original.png?ixlib=rb-2.1.0&crop=faces&w=48&h=27&fit=crop&v=1561555002&auto=format&frame=1&q=92&s=0e552a8c7467ff6b43e50c6752a5bf61',\n",
       " '1024x576': 'https://ksr-ugc.imgix.net/assets/025/618/188/1ee876a3b9923c72e2e44204021d747f_original.png?ixlib=rb-2.1.0&crop=faces&w=1024&h=576&fit=crop&v=1561555002&auto=format&frame=1&q=92&s=e58d01a541355ca1fe4b7916af90970d',\n",
       " '1536x864': 'https://ksr-ugc.imgix.net/assets/025/618/188/1ee876a3b9923c72e2e44204021d747f_original.png?ixlib=rb-2.1.0&crop=faces&w=1552&h=873&fit=crop&v=1561555002&auto=format&frame=1&q=92&s=8a4db126a54868018443d312ffdc0952'}"
      ]
     },
     "execution_count": 104,
     "metadata": {},
     "output_type": "execute_result"
    }
   ],
   "source": [
    "#'photo'컬럼 string --> dictionary 전환\n",
    "photo_dic = kickstarter_data['photo'].apply(lambda x: json.loads(x))\n",
    "\n",
    "print(type(photo_dic[0]))\n",
    "print(photo_dic.isna().sum())\n",
    "photo_dic[0]"
   ]
  },
  {
   "cell_type": "code",
   "execution_count": null,
   "metadata": {},
   "outputs": [],
   "source": [
    "kickstarter_data['photo'] = photo_dic #전환한 컬럼으로 대체"
   ]
  },
  {
   "cell_type": "code",
   "execution_count": 232,
   "metadata": {},
   "outputs": [
    {
     "data": {
      "text/plain": [
       "'https://ksr-ugc.imgix.net/assets/025/618/188/1ee876a3b9923c72e2e44204021d747f_original.png?ixlib=rb-2.1.0&crop=faces&w=560&h=315&fit=crop&v=1561555002&auto=format&frame=1&q=92&s=a0e9ad6ed015ce4a5413939a086210ac'"
      ]
     },
     "execution_count": 232,
     "metadata": {},
     "output_type": "execute_result"
    }
   ],
   "source": [
    "# 'photo'컬럼 string --> dictionary로 변환\n",
    "# 이미지 크롤링 때 사용할 url('full' key)만 뽑아서 새 컬럼 생성\n",
    "photo_link = kickstarter_data['photo'].apply(lambda x: x['full'])\n",
    "print(photo_link[0])\n",
    "kickstarter_data.insert(32, 'photo_link', photo_link)"
   ]
  },
  {
   "cell_type": "markdown",
   "metadata": {},
   "source": [
    "## pledged\n",
    "- 총 모금액 (in 현지 통화)"
   ]
  },
  {
   "cell_type": "code",
   "execution_count": 121,
   "metadata": {},
   "outputs": [
    {
     "name": "stdout",
     "output_type": "stream",
     "text": [
      "unique values:  47030\n",
      "data size:  215800\n",
      "dtype:  <class 'numpy.float64'>\n",
      "null/nan 수:  0\n",
      "-----------------------------\n",
      "데이터 형태 예시\n",
      "\n",
      "631.0\n"
     ]
    }
   ],
   "source": [
    "column_to_look = 'pledged'\n",
    "print(\"unique values: \", kickstarter_dataset[column_to_look].nunique())\n",
    "#print(\"unique value별 개수:\\n\", kickstarter_dataset[column_to_look].value_counts()) #normalize=True -- 비율 집계\n",
    "print(\"data size: \", kickstarter_dataset[column_to_look].size)\n",
    "print(\"dtype: \", type(kickstarter_dataset[column_to_look][0]))\n",
    "print(\"null/nan 수: \", kickstarter_dataset[column_to_look].isna().sum())\n",
    "print(\"-----------------------------\")\n",
    "print(\"데이터 형태 예시\\n\")\n",
    "print(kickstarter_dataset[column_to_look][0])"
   ]
  },
  {
   "cell_type": "markdown",
   "metadata": {},
   "source": [
    "## profile\n",
    "- 펀딩 프로젝트 프로필 정보"
   ]
  },
  {
   "cell_type": "code",
   "execution_count": 123,
   "metadata": {},
   "outputs": [
    {
     "name": "stdout",
     "output_type": "stream",
     "text": [
      "unique values:  188390\n",
      "data size:  215800\n",
      "dtype:  <class 'str'>\n",
      "null/nan 수:  0\n",
      "-----------------------------\n",
      "데이터 형태 예시\n",
      "\n",
      "{\"id\":3761403,\"project_id\":3761403,\"state\":\"inactive\",\"state_changed_at\":1561554849,\"name\":null,\"blurb\":null,\"background_color\":null,\"text_color\":null,\"link_background_color\":null,\"link_text_color\":null,\"link_text\":null,\"link_url\":null,\"show_feature_image\":false,\"background_image_opacity\":0.8,\"should_show_feature_image_section\":true,\"feature_image_attributes\":{\"image_urls\":{\"default\":\"https://ksr-ugc.imgix.net/assets/025/618/188/1ee876a3b9923c72e2e44204021d747f_original.png?ixlib=rb-2.1.0&crop=faces&w=1552&h=873&fit=crop&v=1561555002&auto=format&frame=1&q=92&s=8a4db126a54868018443d312ffdc0952\",\"baseball_card\":\"https://ksr-ugc.imgix.net/assets/025/618/188/1ee876a3b9923c72e2e44204021d747f_original.png?ixlib=rb-2.1.0&crop=faces&w=560&h=315&fit=crop&v=1561555002&auto=format&frame=1&q=92&s=a0e9ad6ed015ce4a5413939a086210ac\"}}}\n"
     ]
    }
   ],
   "source": [
    "column_to_look = 'profile'\n",
    "print(\"unique values: \", kickstarter_dataset[column_to_look].nunique())\n",
    "#print(\"unique value별 개수:\\n\", kickstarter_dataset[column_to_look].value_counts()) #normalize=True -- 비율 집계\n",
    "print(\"data size: \", kickstarter_dataset[column_to_look].size)\n",
    "print(\"dtype: \", type(kickstarter_dataset[column_to_look][0]))\n",
    "print(\"null/nan 수: \", kickstarter_dataset[column_to_look].isna().sum())\n",
    "print(\"-----------------------------\")\n",
    "print(\"데이터 형태 예시\\n\")\n",
    "print(kickstarter_dataset[column_to_look][0])"
   ]
  },
  {
   "cell_type": "code",
   "execution_count": null,
   "metadata": {},
   "outputs": [],
   "source": [
    "#profile 컬럼 string --> dictionary 변환\n",
    "profile_dic = kickstarter_data['profile'].apply(lambda x: json_loads(x))"
   ]
  },
  {
   "cell_type": "markdown",
   "metadata": {},
   "source": [
    "## slug\n",
    "- 해당 펀딩 페이지에 대한 접근 url root (url 가장 뒤에 붙는다)\n",
    "- 프로젝트의 상품/서비스에 대한 간략한 설명의 구문"
   ]
  },
  {
   "cell_type": "code",
   "execution_count": 127,
   "metadata": {},
   "outputs": [
    {
     "name": "stdout",
     "output_type": "stream",
     "text": [
      "unique values:  188385\n",
      "data size:  215800\n",
      "dtype:  <class 'str'>\n",
      "null/nan 수:  0\n",
      "-----------------------------\n",
      "데이터 형태 예시\n",
      "\n",
      "simon-bisley-2018-art-book                            2\n",
      "make-100-guinevere-and-the-divinity-factory-1-sket    2\n",
      "the-female-samurai-a-dance-research-about-japanese    2\n",
      "blues-k9-kitchen                                      2\n",
      "reanimated-a-short-film-based-on-the-works-of-hp-l    2\n",
      "Name: slug, dtype: int64\n"
     ]
    }
   ],
   "source": [
    "column_to_look = 'slug'\n",
    "print(\"unique values: \", kickstarter_dataset[column_to_look].nunique())\n",
    "#print(\"unique value별 개수:\\n\", kickstarter_dataset[column_to_look].value_counts()) #normalize=True -- 비율 집계\n",
    "print(\"data size: \", kickstarter_dataset[column_to_look].size)\n",
    "print(\"dtype: \", type(kickstarter_dataset[column_to_look][0]))\n",
    "print(\"null/nan 수: \", kickstarter_dataset[column_to_look].isna().sum())\n",
    "print(\"-----------------------------\")\n",
    "print(\"데이터 형태 예시\\n\")\n",
    "print(kickstarter_dataset[column_to_look].value_counts().head())"
   ]
  },
  {
   "cell_type": "markdown",
   "metadata": {},
   "source": [
    "## source_url\n",
    "- Kickstarter 웹사이트에서의 펀딩 유형/분류 별 링크"
   ]
  },
  {
   "cell_type": "code",
   "execution_count": 129,
   "metadata": {},
   "outputs": [
    {
     "name": "stdout",
     "output_type": "stream",
     "text": [
      "unique values:  170\n",
      "data size:  215800\n",
      "dtype:  <class 'str'>\n",
      "null/nan 수:  0\n",
      "-----------------------------\n",
      "데이터 형태 예시\n",
      "\n",
      "https://www.kickstarter.com/discover/categories/publishing\n"
     ]
    }
   ],
   "source": [
    "column_to_look = 'source_url'\n",
    "print(\"unique values: \", kickstarter_dataset[column_to_look].nunique())\n",
    "#print(\"unique value별 개수:\\n\", kickstarter_dataset[column_to_look].value_counts()) #normalize=True -- 비율 집계\n",
    "print(\"data size: \", kickstarter_dataset[column_to_look].size)\n",
    "print(\"dtype: \", type(kickstarter_dataset[column_to_look][0]))\n",
    "print(\"null/nan 수: \", kickstarter_dataset[column_to_look].isna().sum())\n",
    "print(\"-----------------------------\")\n",
    "print(\"데이터 형태 예시\\n\")\n",
    "print(kickstarter_dataset[column_to_look][0])"
   ]
  },
  {
   "cell_type": "markdown",
   "metadata": {},
   "source": [
    "## spotlight\n",
    "- spotlight(편딩 성공 후 해당 크리에이터가 그 펀딩 페이지를 계속해서 관리하고 뉴스, 소식, 홍보 등을 지속적으로 업데이트 할 수 있는 서비스)을 시행하고 있는지 유무"
   ]
  },
  {
   "cell_type": "code",
   "execution_count": 130,
   "metadata": {},
   "outputs": [
    {
     "name": "stdout",
     "output_type": "stream",
     "text": [
      "unique values:  2\n",
      "unique value별 개수:\n",
      " True     124272\n",
      "False     91528\n",
      "Name: spotlight, dtype: int64\n",
      "data size:  215800\n",
      "dtype:  <class 'numpy.bool_'>\n",
      "null/nan 수:  0\n",
      "-----------------------------\n",
      "데이터 형태 예시\n",
      "\n",
      "True\n"
     ]
    }
   ],
   "source": [
    "column_to_look = 'spotlight'\n",
    "print(\"unique values: \", kickstarter_dataset[column_to_look].nunique())\n",
    "print(\"unique value별 개수:\\n\", kickstarter_dataset[column_to_look].value_counts()) #normalize=True -- 비율 집계\n",
    "print(\"data size: \", kickstarter_dataset[column_to_look].size)\n",
    "print(\"dtype: \", type(kickstarter_dataset[column_to_look][0]))\n",
    "print(\"null/nan 수: \", kickstarter_dataset[column_to_look].isna().sum())\n",
    "print(\"-----------------------------\")\n",
    "print(\"데이터 형태 예시\\n\")\n",
    "print(kickstarter_dataset[column_to_look][0])"
   ]
  },
  {
   "cell_type": "markdown",
   "metadata": {},
   "source": [
    "## staff_pick\n",
    "- “Project we love”(Kickstarter 플랫폼 제공자/웹사이트가 선택한/추천하는 프로젝트)에 선택 되었는지 여부"
   ]
  },
  {
   "cell_type": "code",
   "execution_count": 132,
   "metadata": {},
   "outputs": [
    {
     "name": "stdout",
     "output_type": "stream",
     "text": [
      "unique values:  2\n",
      "unique value별 개수:\n",
      " False    187867\n",
      "True      27933\n",
      "Name: staff_pick, dtype: int64\n",
      "data size:  215800\n",
      "dtype:  <class 'numpy.bool_'>\n",
      "null/nan 수:  0\n",
      "-----------------------------\n",
      "데이터 형태 예시\n",
      "\n",
      "False\n"
     ]
    }
   ],
   "source": [
    "column_to_look = 'staff_pick'\n",
    "print(\"unique values: \", kickstarter_dataset[column_to_look].nunique())\n",
    "print(\"unique value별 개수:\\n\", kickstarter_dataset[column_to_look].value_counts()) #normalize=True -- 비율 집계\n",
    "print(\"data size: \", kickstarter_dataset[column_to_look].size)\n",
    "print(\"dtype: \", type(kickstarter_dataset[column_to_look][0]))\n",
    "print(\"null/nan 수: \", kickstarter_dataset[column_to_look].isna().sum())\n",
    "print(\"-----------------------------\")\n",
    "print(\"데이터 형태 예시\\n\")\n",
    "print(kickstarter_dataset[column_to_look][0])"
   ]
  },
  {
   "cell_type": "markdown",
   "metadata": {},
   "source": [
    "## state\n",
    "- 펀딩 프로젝트 상태 (성공함, 실패함, 취소됨, 현재 진행중, 강제 중단됨)\n",
    "- Target(종속변수)로 사용할 변수: 성광, 실패"
   ]
  },
  {
   "cell_type": "code",
   "execution_count": 134,
   "metadata": {},
   "outputs": [
    {
     "name": "stdout",
     "output_type": "stream",
     "text": [
      "unique values:  5\n",
      "unique value별 개수:\n",
      " successful    124272\n",
      "failed         75960\n",
      "canceled        8857\n",
      "live            6063\n",
      "suspended        648\n",
      "Name: state, dtype: int64\n",
      "data size:  215800\n",
      "dtype:  <class 'str'>\n",
      "null/nan 수:  0\n",
      "-----------------------------\n",
      "데이터 형태 예시\n",
      "\n",
      "successful\n"
     ]
    }
   ],
   "source": [
    "column_to_look = 'state'\n",
    "print(\"unique values: \", kickstarter_dataset[column_to_look].nunique())\n",
    "print(\"unique value별 개수:\\n\", kickstarter_dataset[column_to_look].value_counts()) #normalize=True -- 비율 집계\n",
    "print(\"data size: \", kickstarter_dataset[column_to_look].size)\n",
    "print(\"dtype: \", type(kickstarter_dataset[column_to_look][0]))\n",
    "print(\"null/nan 수: \", kickstarter_dataset[column_to_look].isna().sum())\n",
    "print(\"-----------------------------\")\n",
    "print(\"데이터 형태 예시\\n\")\n",
    "print(kickstarter_dataset[column_to_look][0])"
   ]
  },
  {
   "cell_type": "markdown",
   "metadata": {},
   "source": [
    "## state_changed_at\n",
    "- 프로젝트 상태 변경 시간 (milliseconds)"
   ]
  },
  {
   "cell_type": "code",
   "execution_count": 135,
   "metadata": {},
   "outputs": [
    {
     "name": "stdout",
     "output_type": "stream",
     "text": [
      "unique values:  177894\n",
      "data size:  215800\n",
      "dtype:  <class 'numpy.int64'>\n",
      "null/nan 수:  0\n",
      "-----------------------------\n",
      "데이터 형태 예시\n",
      "\n",
      "1566744397\n"
     ]
    }
   ],
   "source": [
    "column_to_look = 'state_changed_at'\n",
    "print(\"unique values: \", kickstarter_dataset[column_to_look].nunique())\n",
    "#print(\"unique value별 개수:\\n\", kickstarter_dataset[column_to_look].value_counts()) #normalize=True -- 비율 집계\n",
    "print(\"data size: \", kickstarter_dataset[column_to_look].size)\n",
    "print(\"dtype: \", type(kickstarter_dataset[column_to_look][0]))\n",
    "print(\"null/nan 수: \", kickstarter_dataset[column_to_look].isna().sum())\n",
    "print(\"-----------------------------\")\n",
    "print(\"데이터 형태 예시\\n\")\n",
    "print(kickstarter_dataset[column_to_look][0])"
   ]
  },
  {
   "cell_type": "code",
   "execution_count": null,
   "metadata": {
    "colab": {},
    "colab_type": "code",
    "id": "ICJxbXWuAG-1",
    "outputId": "daca4255-2c8b-435a-e814-8f8c74bd7e62"
   },
   "outputs": [
    {
     "name": "stdout",
     "output_type": "stream",
     "text": [
      "0   2019-08-25 14:46:37\n",
      "1   2015-09-14 04:19:28\n",
      "2   2018-08-18 15:43:54\n",
      "Name: state_changed_at, dtype: datetime64[ns]\n",
      "215797   2019-07-16 06:59:00\n",
      "215798   2014-08-31 22:35:00\n",
      "215799   2015-04-08 17:20:08\n",
      "Name: state_changed_at, dtype: datetime64[ns]\n",
      "first project:  2009-05-16 10:00:25\n",
      "last project:  2019-12-12 05:30:24\n"
     ]
    }
   ],
   "source": [
    "#'state_changed_at' 컬럼 datetime형식으로 변경\n",
    "state_changed_at_s = concatenated_df['state_changed_at']\n",
    "date_ended = pd.to_datetime(state_changed_at_s, unit='s')\n",
    "print(date_ended.head(3))\n",
    "print(date_ended.tail(3))\n",
    "print(\"first project: \", date_ended.min())\n",
    "print(\"last project: \", date_ended.max())"
   ]
  },
  {
   "cell_type": "code",
   "execution_count": null,
   "metadata": {},
   "outputs": [],
   "source": [
    "#생성한 datetime 컬럼 dataframe에 삽입\n",
    "concatenated_df.insert(37, 'date_ended', date_ended)"
   ]
  },
  {
   "cell_type": "markdown",
   "metadata": {},
   "source": [
    "## date_ended\n",
    "- 프로젝트 상태가 바뀐 날짜 (datetime 형태)"
   ]
  },
  {
   "cell_type": "code",
   "execution_count": 136,
   "metadata": {},
   "outputs": [
    {
     "name": "stdout",
     "output_type": "stream",
     "text": [
      "unique values:  177894\n",
      "data size:  215800\n",
      "dtype:  <class 'pandas._libs.tslibs.timestamps.Timestamp'>\n",
      "null/nan 수:  0\n",
      "-----------------------------\n",
      "데이터 형태 예시\n",
      "\n",
      "2019-08-25 14:46:37\n"
     ]
    }
   ],
   "source": [
    "column_to_look = 'date_ended'\n",
    "print(\"unique values: \", kickstarter_dataset[column_to_look].nunique())\n",
    "#print(\"unique value별 개수:\\n\", kickstarter_dataset[column_to_look].value_counts()) #normalize=True -- 비율 집계\n",
    "print(\"data size: \", kickstarter_dataset[column_to_look].size)\n",
    "print(\"dtype: \", type(kickstarter_dataset[column_to_look][0]))\n",
    "print(\"null/nan 수: \", kickstarter_dataset[column_to_look].isna().sum())\n",
    "print(\"-----------------------------\")\n",
    "print(\"데이터 형태 예시\\n\")\n",
    "print(kickstarter_dataset[column_to_look][0])"
   ]
  },
  {
   "cell_type": "markdown",
   "metadata": {},
   "source": [
    "## static_usd_rate\n",
    "- 미국 달러 환율 (미국 달러로 변환할 수 있는 값 제공)"
   ]
  },
  {
   "cell_type": "code",
   "execution_count": 138,
   "metadata": {},
   "outputs": [
    {
     "name": "stdout",
     "output_type": "stream",
     "text": [
      "unique values:  12742\n",
      "data size:  215800\n",
      "dtype:  <class 'numpy.float64'>\n",
      "null/nan 수:  0\n",
      "-----------------------------\n",
      "데이터 형태 예시\n",
      "\n",
      "1.000000    149988\n",
      "1.133748        58\n",
      "1.228667        57\n",
      "1.215900        56\n",
      "1.115888        54\n",
      "Name: static_usd_rate, dtype: int64\n"
     ]
    }
   ],
   "source": [
    "column_to_look = 'static_usd_rate'\n",
    "print(\"unique values: \", kickstarter_dataset[column_to_look].nunique())\n",
    "#print(\"unique value별 개수:\\n\", kickstarter_dataset[column_to_look].value_counts()) #normalize=True -- 비율 집계\n",
    "print(\"data size: \", kickstarter_dataset[column_to_look].size)\n",
    "print(\"dtype: \", type(kickstarter_dataset[column_to_look][0]))\n",
    "print(\"null/nan 수: \", kickstarter_dataset[column_to_look].isna().sum())\n",
    "print(\"-----------------------------\")\n",
    "print(\"데이터 형태 예시\\n\")\n",
    "print(kickstarter_dataset[column_to_look].value_counts().head())"
   ]
  },
  {
   "cell_type": "markdown",
   "metadata": {},
   "source": [
    "## urls\n",
    "- 펀딩 페이지에 대한 url 주소 정보\n",
    "- keys: 'web' 그리고 'api' 두 종류"
   ]
  },
  {
   "cell_type": "code",
   "execution_count": 142,
   "metadata": {},
   "outputs": [
    {
     "name": "stdout",
     "output_type": "stream",
     "text": [
      "unique values:  188634\n",
      "data size:  215800\n",
      "dtype:  <class 'str'>\n",
      "null/nan 수:  0\n",
      "-----------------------------\n",
      "데이터 형태 예시\n",
      "\n",
      "{'web': {'project': 'https://www.kickstarter.com/projects/469036700/louli-a-lecole?ref=discovery_category_newest', 'rewards': 'https://www.kickstarter.com/projects/469036700/louli-a-lecole/rewards'}}\n"
     ]
    }
   ],
   "source": [
    "column_to_look = 'urls'\n",
    "print(\"unique values: \", kickstarter_dataset[column_to_look].nunique())\n",
    "#print(\"unique value별 개수:\\n\", kickstarter_dataset[column_to_look].value_counts()) #normalize=True -- 비율 집계\n",
    "print(\"data size: \", kickstarter_dataset[column_to_look].size)\n",
    "print(\"dtype: \", type(kickstarter_dataset[column_to_look][0]))\n",
    "print(\"null/nan 수: \", kickstarter_dataset[column_to_look].isna().sum())\n",
    "print(\"-----------------------------\")\n",
    "print(\"데이터 형태 예시\\n\")\n",
    "print(kickstarter_dataset[column_to_look][0])"
   ]
  },
  {
   "cell_type": "code",
   "execution_count": 107,
   "metadata": {},
   "outputs": [
    {
     "name": "stdout",
     "output_type": "stream",
     "text": [
      "<class 'dict'>\n",
      "0\n"
     ]
    },
    {
     "data": {
      "text/plain": [
       "{'web': {'project': 'https://www.kickstarter.com/projects/469036700/louli-a-lecole?ref=discovery_category_newest',\n",
       "  'rewards': 'https://www.kickstarter.com/projects/469036700/louli-a-lecole/rewards'}}"
      ]
     },
     "execution_count": 107,
     "metadata": {},
     "output_type": "execute_result"
    }
   ],
   "source": [
    "#'urls' 컬럼 string --> dictionary변환\n",
    "urls_dic = kickstarter_data['urls'].apply(lambda x: json.loads(x))\n",
    "\n",
    "print(type(urls_dic[0]))\n",
    "print(urls_dic.isna().sum())\n",
    "urls_dic[0]"
   ]
  },
  {
   "cell_type": "code",
   "execution_count": 115,
   "metadata": {},
   "outputs": [
    {
     "data": {
      "text/plain": [
       "{'project': 'https://www.kickstarter.com/projects/469036700/louli-a-lecole?ref=discovery_category_newest',\n",
       " 'rewards': 'https://www.kickstarter.com/projects/469036700/louli-a-lecole/rewards'}"
      ]
     },
     "execution_count": 115,
     "metadata": {},
     "output_type": "execute_result"
    }
   ],
   "source": [
    "kickstarter_data['urls'] = urls_dic\n",
    "kickstarter_data['urls'][0]['web']"
   ]
  },
  {
   "cell_type": "code",
   "execution_count": 120,
   "metadata": {},
   "outputs": [
    {
     "data": {
      "text/plain": [
       "(web)         215547\n",
       "(api, web)       251\n",
       "(web)              1\n",
       "(api, web)         1\n",
       "Name: urls, dtype: int64"
      ]
     },
     "execution_count": 120,
     "metadata": {},
     "output_type": "execute_result"
    }
   ],
   "source": [
    "#'urls_dic'컬럼의 값인 dictionary안에 또 2개의 dict로 구성\n",
    "#'web'외에 다른 key도 있는 것 확인\n",
    "urls_keys = kickstarter_data['urls'].apply(lambda x: x.keys())\n",
    "urls_keys.value_counts() # 'api' key도 있다"
   ]
  },
  {
   "cell_type": "code",
   "execution_count": 131,
   "metadata": {},
   "outputs": [
    {
     "name": "stdout",
     "output_type": "stream",
     "text": [
      "215800\n",
      "<class 'dict'>\n",
      "0\n"
     ]
    },
    {
     "data": {
      "text/plain": [
       "{'project': 'https://www.kickstarter.com/projects/469036700/louli-a-lecole?ref=discovery_category_newest',\n",
       " 'rewards': 'https://www.kickstarter.com/projects/469036700/louli-a-lecole/rewards'}"
      ]
     },
     "execution_count": 131,
     "metadata": {},
     "output_type": "execute_result"
    }
   ],
   "source": [
    "# 'web' key 값들만 가져와 하나의 컬럼으로 만들기\n",
    "urls_web = kickstarter_data['urls'].apply(lambda x: x['web'])\n",
    "print(urls_web.size) #데이터 수 변경 없음\n",
    "print(type(urls_web[0]))\n",
    "print(urls_web.isna().sum())\n",
    "urls_web[0]"
   ]
  },
  {
   "cell_type": "code",
   "execution_count": 135,
   "metadata": {},
   "outputs": [],
   "source": [
    "#'urls_web' 새 컬럼으로 데이터셋에 삽입\n",
    "kickstarter_data.insert(42, 'urls_web', urls_web)"
   ]
  },
  {
   "cell_type": "markdown",
   "metadata": {},
   "source": [
    "## urls_web\n",
    "- 프로젝트 링크 정보\n",
    "- 'web' key 정보들만 가져와서 만듬 컬럼\n",
    "- 'web' key안에도 'project'와 'reward' 두 종류가 있음\n",
    "- 이 컬럼은 굳이 안 써도 됨"
   ]
  },
  {
   "cell_type": "code",
   "execution_count": 143,
   "metadata": {},
   "outputs": [
    {
     "name": "stdout",
     "output_type": "stream",
     "text": [
      "unique values:  188634\n",
      "data size:  215800\n",
      "dtype:  <class 'str'>\n",
      "null/nan 수:  0\n",
      "-----------------------------\n",
      "데이터 형태 예시\n",
      "\n",
      "{'project': 'https://www.kickstarter.com/projects/469036700/louli-a-lecole?ref=discovery_category_newest', 'rewards': 'https://www.kickstarter.com/projects/469036700/louli-a-lecole/rewards'}\n"
     ]
    }
   ],
   "source": [
    "column_to_look = 'urls_web'\n",
    "print(\"unique values: \", kickstarter_dataset[column_to_look].nunique())\n",
    "#print(\"unique value별 개수:\\n\", kickstarter_dataset[column_to_look].value_counts()) #normalize=True -- 비율 집계\n",
    "print(\"data size: \", kickstarter_dataset[column_to_look].size)\n",
    "print(\"dtype: \", type(kickstarter_dataset[column_to_look][0]))\n",
    "print(\"null/nan 수: \", kickstarter_dataset[column_to_look].isna().sum())\n",
    "print(\"-----------------------------\")\n",
    "print(\"데이터 형태 예시\\n\")\n",
    "print(kickstarter_dataset[column_to_look][0])"
   ]
  },
  {
   "cell_type": "code",
   "execution_count": 133,
   "metadata": {},
   "outputs": [
    {
     "name": "stdout",
     "output_type": "stream",
     "text": [
      "215800\n",
      "<class 'str'>\n",
      "0\n"
     ]
    },
    {
     "data": {
      "text/plain": [
       "'https://www.kickstarter.com/projects/469036700/louli-a-lecole?ref=discovery_category_newest'"
      ]
     },
     "execution_count": 133,
     "metadata": {},
     "output_type": "execute_result"
    }
   ],
   "source": [
    "#이번엔 urls_web에서 'project' key 값들만 뽑아 컬럼 생성하기\n",
    "urls_project = urls_web.apply(lambda x: x['project'])\n",
    "print(urls_project.size)\n",
    "print(type(urls_project[0]))\n",
    "print(urls_project.isna().sum())\n",
    "urls_project[0]"
   ]
  },
  {
   "cell_type": "markdown",
   "metadata": {},
   "source": [
    "## url_project\n",
    "- 프로젝트 메인 페이지 링크"
   ]
  },
  {
   "cell_type": "code",
   "execution_count": 144,
   "metadata": {},
   "outputs": [
    {
     "name": "stdout",
     "output_type": "stream",
     "text": [
      "unique values:  188385\n",
      "data size:  215800\n",
      "dtype:  <class 'str'>\n",
      "null/nan 수:  0\n",
      "-----------------------------\n",
      "데이터 형태 예시\n",
      "\n",
      "https://www.kickstarter.com/projects/469036700/louli-a-lecole?ref=discovery_category_newest\n"
     ]
    }
   ],
   "source": [
    "column_to_look = 'url_project'\n",
    "print(\"unique values: \", kickstarter_dataset[column_to_look].nunique())\n",
    "#print(\"unique value별 개수:\\n\", kickstarter_dataset[column_to_look].value_counts()) #normalize=True -- 비율 집계\n",
    "print(\"data size: \", kickstarter_dataset[column_to_look].size)\n",
    "print(\"dtype: \", type(kickstarter_dataset[column_to_look][0]))\n",
    "print(\"null/nan 수: \", kickstarter_dataset[column_to_look].isna().sum())\n",
    "print(\"-----------------------------\")\n",
    "print(\"데이터 형태 예시\\n\")\n",
    "print(kickstarter_dataset[column_to_look][0])"
   ]
  },
  {
   "cell_type": "code",
   "execution_count": 138,
   "metadata": {},
   "outputs": [
    {
     "name": "stdout",
     "output_type": "stream",
     "text": [
      "215800\n",
      "<class 'str'>\n",
      "0\n"
     ]
    },
    {
     "data": {
      "text/plain": [
       "'https://www.kickstarter.com/projects/469036700/louli-a-lecole/rewards'"
      ]
     },
     "execution_count": 138,
     "metadata": {},
     "output_type": "execute_result"
    }
   ],
   "source": [
    "#urls_web에서 'rewards' key만 추출하여 새 컬럼 생성하기\n",
    "urls_rewards = urls_web.apply(lambda x: x['rewards'])\n",
    "print(urls_rewards.size)\n",
    "print(type(urls_rewards[0]))\n",
    "print(urls_rewards.isna().sum())\n",
    "urls_rewards[0]"
   ]
  },
  {
   "cell_type": "code",
   "execution_count": 142,
   "metadata": {},
   "outputs": [],
   "source": [
    "# 'urls_rewards' 데이터셋에 컬럼으로 삽입\n",
    "kickstarter_data.insert(44, 'url_reward', urls_rewards)"
   ]
  },
  {
   "cell_type": "markdown",
   "metadata": {},
   "source": [
    "## url_reward\n",
    "- 프로젝트 reward 페이지 링크"
   ]
  },
  {
   "cell_type": "code",
   "execution_count": 145,
   "metadata": {},
   "outputs": [
    {
     "name": "stdout",
     "output_type": "stream",
     "text": [
      "unique values:  188385\n",
      "data size:  215800\n",
      "dtype:  <class 'str'>\n",
      "null/nan 수:  0\n",
      "-----------------------------\n",
      "데이터 형태 예시\n",
      "\n",
      "https://www.kickstarter.com/projects/469036700/louli-a-lecole/rewards\n"
     ]
    }
   ],
   "source": [
    "column_to_look = 'url_reward'\n",
    "print(\"unique values: \", kickstarter_dataset[column_to_look].nunique())\n",
    "#print(\"unique value별 개수:\\n\", kickstarter_dataset[column_to_look].value_counts()) #normalize=True -- 비율 집계\n",
    "print(\"data size: \", kickstarter_dataset[column_to_look].size)\n",
    "print(\"dtype: \", type(kickstarter_dataset[column_to_look][0]))\n",
    "print(\"null/nan 수: \", kickstarter_dataset[column_to_look].isna().sum())\n",
    "print(\"-----------------------------\")\n",
    "print(\"데이터 형태 예시\\n\")\n",
    "print(kickstarter_dataset[column_to_look][0])"
   ]
  },
  {
   "cell_type": "markdown",
   "metadata": {},
   "source": [
    "## usd_pledged\n",
    "- 총 모금액 (in 미국 달러 USD)"
   ]
  },
  {
   "cell_type": "code",
   "execution_count": 146,
   "metadata": {},
   "outputs": [
    {
     "name": "stdout",
     "output_type": "stream",
     "text": [
      "unique values:  84043\n",
      "data size:  215800\n",
      "dtype:  <class 'numpy.float64'>\n",
      "null/nan 수:  0\n",
      "-----------------------------\n",
      "데이터 형태 예시\n",
      "\n",
      "719.75681336\n"
     ]
    }
   ],
   "source": [
    "column_to_look = 'usd_pledged'\n",
    "print(\"unique values: \", kickstarter_dataset[column_to_look].nunique())\n",
    "#print(\"unique value별 개수:\\n\", kickstarter_dataset[column_to_look].value_counts()) #normalize=True -- 비율 집계\n",
    "print(\"data size: \", kickstarter_dataset[column_to_look].size)\n",
    "print(\"dtype: \", type(kickstarter_dataset[column_to_look][0]))\n",
    "print(\"null/nan 수: \", kickstarter_dataset[column_to_look].isna().sum())\n",
    "print(\"-----------------------------\")\n",
    "print(\"데이터 형태 예시\\n\")\n",
    "print(kickstarter_dataset[column_to_look][0])"
   ]
  },
  {
   "cell_type": "markdown",
   "metadata": {},
   "source": [
    "## usd_type"
   ]
  },
  {
   "cell_type": "code",
   "execution_count": 148,
   "metadata": {},
   "outputs": [
    {
     "name": "stdout",
     "output_type": "stream",
     "text": [
      "unique values:  2\n",
      "unique value별 개수:\n",
      " domestic         164253\n",
      "international     51403\n",
      "Name: usd_type, dtype: int64\n",
      "data size:  215800\n",
      "dtype:  <class 'str'>\n",
      "null/nan 수:  144\n",
      "-----------------------------\n",
      "데이터 형태 예시\n",
      "\n",
      "domestic\n"
     ]
    }
   ],
   "source": [
    "column_to_look = 'usd_type'\n",
    "print(\"unique values: \", kickstarter_dataset[column_to_look].nunique())\n",
    "print(\"unique value별 개수:\\n\", kickstarter_dataset[column_to_look].value_counts()) #normalize=True -- 비율 집계\n",
    "print(\"data size: \", kickstarter_dataset[column_to_look].size)\n",
    "print(\"dtype: \", type(kickstarter_dataset[column_to_look][0]))\n",
    "print(\"null/nan 수: \", kickstarter_dataset[column_to_look].isna().sum())\n",
    "print(\"-----------------------------\")\n",
    "print(\"데이터 형태 예시\\n\")\n",
    "print(kickstarter_dataset[column_to_look][0])"
   ]
  },
  {
   "cell_type": "markdown",
   "metadata": {},
   "source": [
    "## - 모든 컬럼 1차 탐색 및 전처리/가공 후 데이터 크기:\n",
    "- 데이터 행 수: **215,800**\n",
    "- 데이터 열(컬럼) 수: **49**"
   ]
  },
  {
   "cell_type": "code",
   "execution_count": 234,
   "metadata": {},
   "outputs": [
    {
     "name": "stdout",
     "output_type": "stream",
     "text": [
      "<class 'pandas.core.frame.DataFrame'>\n",
      "RangeIndex: 215800 entries, 0 to 215799\n",
      "Data columns (total 49 columns):\n",
      "backers_count               215800 non-null int64\n",
      "blurb                       215792 non-null object\n",
      "category                    215800 non-null object\n",
      "category_name               215800 non-null object\n",
      "category_specific           215800 non-null object\n",
      "converted_pledged_amount    215800 non-null int64\n",
      "country                     215800 non-null object\n",
      "country_displayable_name    215800 non-null object\n",
      "created_at                  215800 non-null int64\n",
      "date_created                215800 non-null datetime64[ns]\n",
      "creator                     215800 non-null object\n",
      "currency                    215800 non-null object\n",
      "currency_symbol             215800 non-null object\n",
      "currency_trailing_code      215800 non-null bool\n",
      "current_currency            215800 non-null object\n",
      "deadline                    215800 non-null int64\n",
      "date_deadline               215800 non-null datetime64[ns]\n",
      "disable_communication       215800 non-null bool\n",
      "friends                     252 non-null object\n",
      "fx_rate                     215800 non-null float64\n",
      "goal                        215800 non-null float64\n",
      "id                          215800 non-null int64\n",
      "is_backing                  252 non-null object\n",
      "is_starrable                215800 non-null bool\n",
      "is_starred                  252 non-null object\n",
      "launched_at                 215800 non-null int64\n",
      "date_launched               215800 non-null datetime64[ns]\n",
      "location                    215583 non-null object\n",
      "location_name               215583 non-null object\n",
      "name                        215800 non-null object\n",
      "permissions                 252 non-null object\n",
      "photo                       215800 non-null object\n",
      "photo_link                  215800 non-null object\n",
      "pledged                     215800 non-null float64\n",
      "profile                     215800 non-null object\n",
      "slug                        215800 non-null object\n",
      "source_url                  215800 non-null object\n",
      "spotlight                   215800 non-null bool\n",
      "staff_pick                  215800 non-null bool\n",
      "state                       215800 non-null object\n",
      "state_changed_at            215800 non-null int64\n",
      "date_ended                  215800 non-null datetime64[ns]\n",
      "static_usd_rate             215800 non-null float64\n",
      "urls                        215800 non-null object\n",
      "urls_web                    215800 non-null object\n",
      "url_project                 215800 non-null object\n",
      "url_reward                  215800 non-null object\n",
      "usd_pledged                 215800 non-null float64\n",
      "usd_type                    215656 non-null object\n",
      "dtypes: bool(5), datetime64[ns](4), float64(5), int64(7), object(28)\n",
      "memory usage: 73.5+ MB\n"
     ]
    }
   ],
   "source": [
    "kickstarter_dataset.info()"
   ]
  },
  {
   "cell_type": "code",
   "execution_count": 235,
   "metadata": {},
   "outputs": [],
   "source": [
    "# csv파일 저장\n",
    "kickstarter_dataset.to_csv('kickstarter_dataset_updated.csv', index=False, encoding='utf-8')"
   ]
  },
  {
   "cell_type": "code",
   "execution_count": 60,
   "metadata": {},
   "outputs": [
    {
     "name": "stdout",
     "output_type": "stream",
     "text": [
      "2019    44158\n",
      "2015    37169\n",
      "2016    29066\n",
      "2018    28437\n",
      "2017    28134\n",
      "2014    25742\n",
      "2013    10089\n",
      "2012     7594\n",
      "2011     3811\n",
      "2010     1374\n",
      "2009      226\n",
      "Name: date_launched, dtype: int64\n"
     ]
    },
    {
     "data": {
      "text/plain": [
       "2019    0.204625\n",
       "2015    0.172238\n",
       "2016    0.134690\n",
       "2018    0.131775\n",
       "2017    0.130371\n",
       "2014    0.119286\n",
       "2013    0.046752\n",
       "2012    0.035190\n",
       "2011    0.017660\n",
       "2010    0.006367\n",
       "2009    0.001047\n",
       "Name: date_launched, dtype: float64"
      ]
     },
     "execution_count": 60,
     "metadata": {},
     "output_type": "execute_result"
    }
   ],
   "source": [
    "# '런칭 날짜'에서 연도만 조회 및 새 컬럼 생성 \n",
    "date_launched_year = kickstarter_dataset['date_launched'].dt.year\n",
    "print(date_launched_year.value_counts())\n",
    "date_launched_year.value_counts(normalize=True)"
   ]
  },
  {
   "cell_type": "code",
   "execution_count": 19,
   "metadata": {},
   "outputs": [],
   "source": [
    "kickstarter_dataset.insert(27, 'date_launched_year', date_launched_year)"
   ]
  },
  {
   "cell_type": "code",
   "execution_count": 124,
   "metadata": {
    "scrolled": true
   },
   "outputs": [
    {
     "data": {
      "text/plain": [
       "date_launched_year  state     \n",
       "2009                successful      177\n",
       "                    failed           38\n",
       "                    canceled         11\n",
       "2010                successful     1019\n",
       "                    failed          306\n",
       "                    canceled         49\n",
       "2011                successful     2942\n",
       "                    failed          744\n",
       "                    canceled        120\n",
       "                    suspended         5\n",
       "2012                successful     5868\n",
       "                    failed         1606\n",
       "                    canceled        119\n",
       "                    suspended         1\n",
       "2013                successful     7978\n",
       "                    failed         1938\n",
       "                    canceled        173\n",
       "2014                successful    13176\n",
       "                    failed        10864\n",
       "                    canceled       1614\n",
       "                    suspended        88\n",
       "2015                failed        18491\n",
       "                    successful    16205\n",
       "                    canceled       2178\n",
       "                    suspended       295\n",
       "2016                successful    14250\n",
       "                    failed        13163\n",
       "                    canceled       1568\n",
       "                    suspended        85\n",
       "2017                successful    14595\n",
       "                    failed        12271\n",
       "                    canceled       1203\n",
       "                    suspended        65\n",
       "2018                successful    18060\n",
       "                    failed         9338\n",
       "                    canceled        977\n",
       "                    suspended        62\n",
       "2019                successful    30002\n",
       "                    failed         7201\n",
       "                    live           6063\n",
       "                    canceled        845\n",
       "                    suspended        47\n",
       "Name: state, dtype: int64"
      ]
     },
     "execution_count": 124,
     "metadata": {},
     "output_type": "execute_result"
    }
   ],
   "source": [
    "#연도별 펀딩결과('state') 수 조회\n",
    "kickstarter_dataset.groupby('date_launched_year')['state'].value_counts()"
   ]
  },
  {
   "cell_type": "code",
   "execution_count": 84,
   "metadata": {
    "scrolled": true
   },
   "outputs": [
    {
     "data": {
      "text/plain": [
       "date_launched_year  state     \n",
       "2009                successful    0.783186\n",
       "                    failed        0.168142\n",
       "                    canceled      0.048673\n",
       "2010                successful    0.741630\n",
       "                    failed        0.222707\n",
       "                    canceled      0.035662\n",
       "2011                successful    0.771976\n",
       "                    failed        0.195224\n",
       "                    canceled      0.031488\n",
       "                    suspended     0.001312\n",
       "2012                successful    0.772715\n",
       "                    failed        0.211483\n",
       "                    canceled      0.015670\n",
       "                    suspended     0.000132\n",
       "2013                successful    0.790762\n",
       "                    failed        0.192090\n",
       "                    canceled      0.017147\n",
       "2014                successful    0.511848\n",
       "                    failed        0.422034\n",
       "                    canceled      0.062699\n",
       "                    suspended     0.003419\n",
       "2015                failed        0.497484\n",
       "                    successful    0.435982\n",
       "                    canceled      0.058597\n",
       "                    suspended     0.007937\n",
       "2016                successful    0.490264\n",
       "                    failed        0.452866\n",
       "                    canceled      0.053946\n",
       "                    suspended     0.002924\n",
       "2017                successful    0.518767\n",
       "                    failed        0.436163\n",
       "                    canceled      0.042760\n",
       "                    suspended     0.002310\n",
       "2018                successful    0.635088\n",
       "                    failed        0.328375\n",
       "                    canceled      0.034357\n",
       "                    suspended     0.002180\n",
       "2019                successful    0.679424\n",
       "                    failed        0.163074\n",
       "                    live          0.137302\n",
       "                    canceled      0.019136\n",
       "                    suspended     0.001064\n",
       "Name: state, dtype: float64"
      ]
     },
     "execution_count": 84,
     "metadata": {},
     "output_type": "execute_result"
    }
   ],
   "source": [
    "#연도별 펀딩결과('state') 비율 조회\n",
    "kickstarter_dataset.groupby('date_launched_year')['state'].value_counts(normalize=True)"
   ]
  },
  {
   "cell_type": "markdown",
   "metadata": {},
   "source": [
    "## - 추가적인 특성/파생변수 생성\n",
    "- 크라우드펀딩 성공에 영향을 줄 수 있을 것 같은 파생변수 생성\n",
    "- 일반적인 데이터 탐색에 쓰일 수 있는 파생변수 생성"
   ]
  },
  {
   "cell_type": "code",
   "execution_count": 22,
   "metadata": {},
   "outputs": [
    {
     "data": {
      "text/plain": [
       "(200232,)"
      ]
     },
     "execution_count": 22,
     "metadata": {},
     "output_type": "execute_result"
    }
   ],
   "source": [
    "# 설정된 펀딩 기간 (데드라인 - 런칭날짜)\n",
    "set_fundraising_period = kickstarter_dataset['deadline']-kickstarter_dataset['launched_at']\n",
    "set_fundraising_period.shape"
   ]
  },
  {
   "cell_type": "code",
   "execution_count": 24,
   "metadata": {},
   "outputs": [
    {
     "data": {
      "text/plain": [
       "(200232,)"
      ]
     },
     "execution_count": 24,
     "metadata": {},
     "output_type": "execute_result"
    }
   ],
   "source": [
    "# 런칭 날짜 (월))\n",
    "date_launched_month = kickstarter_dataset['date_launched'].dt.month\n",
    "date_launched_month.shape"
   ]
  },
  {
   "cell_type": "code",
   "execution_count": 28,
   "metadata": {},
   "outputs": [
    {
     "data": {
      "text/plain": [
       "(200232,)"
      ]
     },
     "execution_count": 28,
     "metadata": {},
     "output_type": "execute_result"
    }
   ],
   "source": [
    "# 런칭 지연 시간 (런칭날짜 - 펀딩생성날짜)\n",
    "launching_delay_time = kickstarter_dataset['launched_at']-kickstarter_dataset['created_at'] # in seconds\n",
    "launching_delay_time.shape"
   ]
  },
  {
   "cell_type": "code",
   "execution_count": 30,
   "metadata": {},
   "outputs": [
    {
     "data": {
      "text/plain": [
       "(200232,)"
      ]
     },
     "execution_count": 30,
     "metadata": {},
     "output_type": "execute_result"
    }
   ],
   "source": [
    "# 펀딩 목표액 in local currency --> in USD\n",
    "# currency는 하나로 통일하는게 낫다고 판단\n",
    "usd_goal = kickstarter_dataset['goal']*kickstarter_dataset['static_usd_rate']\n",
    "usd_goal.shape"
   ]
  },
  {
   "cell_type": "code",
   "execution_count": 35,
   "metadata": {},
   "outputs": [
    {
     "data": {
      "text/plain": [
       "(200232,)"
      ]
     },
     "execution_count": 35,
     "metadata": {},
     "output_type": "execute_result"
    }
   ],
   "source": [
    "# 펀딩 목표액과 설정한 펀딩 기간 비율 (펀딩 목표액/설정된 런칭 기간)\n",
    "# 펀딩기간 대비 펀딩 목표액을 적절히 설정 했는지가 펀딩 성공에 영향을 줄 수 있다고 판단\n",
    "target_goal_period_rate = kickstarter_dataset['usd_goal']/set_fundraising_period\n",
    "target_goal_period_rate.shape"
   ]
  },
  {
   "cell_type": "code",
   "execution_count": 42,
   "metadata": {},
   "outputs": [
    {
     "data": {
      "text/plain": [
       "0    5184000\n",
       "1    2592001\n",
       "2    5184000\n",
       "3    2565470\n",
       "4    2592000\n",
       "dtype: int64"
      ]
     },
     "execution_count": 42,
     "metadata": {},
     "output_type": "execute_result"
    }
   ],
   "source": [
    "# 펀딩 종료까지 실제 걸린 시간 (펀딩상태변경날짜 - 펀딩런칭날짜)\n",
    "actual_time_taken = kickstarter_dataset['state_changed_at']-kickstarter_dataset['launched_at']\n",
    "actual_time_taken.head()"
   ]
  },
  {
   "cell_type": "code",
   "execution_count": null,
   "metadata": {},
   "outputs": [],
   "source": [
    "# 새로운 특성/파생변수 --> 데이터프레임 삽입 완료"
   ]
  },
  {
   "cell_type": "code",
   "execution_count": 50,
   "metadata": {},
   "outputs": [],
   "source": [
    "# 크라우든펀딩 성공에 영향을 주는/의미가 있는 컬럼만 가져와 저장\n",
    "ks_meta_feature_dataset = kickstarter_dataset[['category_name','location_name','country_displayable_name','usd_goal',\n",
    "                                              'set_fundraising_period','target_goal_period_rate','date_launched_month',\n",
    "                                              'launching_delay_time','disable_communication','is_starrable','state']]\n",
    "# 펀딩 프로젝트 제목(name), 부제목/간략한소개(blurb)는 메타데이터셋에선 제외하고 이후 텍스트 분석/자연어 처리 과정에서 함께 처리"
   ]
  },
  {
   "cell_type": "markdown",
   "metadata": {},
   "source": []
  },
  {
   "cell_type": "markdown",
   "metadata": {},
   "source": [
    "# 2. 메타 데이터 처리 - 모델링에 사용할 예측변수 EDA 및 2차 전처리 <a class=\"anchor\" id = \"c2\"> </a>\n",
    "---"
   ]
  },
  {
   "cell_type": "code",
   "execution_count": 1,
   "metadata": {},
   "outputs": [],
   "source": [
    "import pandas as pd\n",
    "import numpy as np\n",
    "import matplotlib.pyplot as plt\n",
    "import seaborn as sns\n",
    "import time\n",
    "import random\n",
    "from datetime import datetime, timedelta\n",
    "np.random.seed(1)"
   ]
  },
  {
   "cell_type": "code",
   "execution_count": 3,
   "metadata": {},
   "outputs": [],
   "source": [
    "meta_dataset = pd.read_csv('./data_2015_2019/meta_dataset_2015_2019.csv')"
   ]
  },
  {
   "cell_type": "code",
   "execution_count": 3,
   "metadata": {},
   "outputs": [
    {
     "data": {
      "text/html": [
       "<div>\n",
       "<style scoped>\n",
       "    .dataframe tbody tr th:only-of-type {\n",
       "        vertical-align: middle;\n",
       "    }\n",
       "\n",
       "    .dataframe tbody tr th {\n",
       "        vertical-align: top;\n",
       "    }\n",
       "\n",
       "    .dataframe thead th {\n",
       "        text-align: right;\n",
       "    }\n",
       "</style>\n",
       "<table border=\"1\" class=\"dataframe\">\n",
       "  <thead>\n",
       "    <tr style=\"text-align: right;\">\n",
       "      <th></th>\n",
       "      <th>category_name</th>\n",
       "      <th>location_name</th>\n",
       "      <th>country_displayable_name</th>\n",
       "      <th>usd_goal</th>\n",
       "      <th>set_fundraising_period</th>\n",
       "      <th>target_goal_period_rate</th>\n",
       "      <th>date_launched_year</th>\n",
       "      <th>date_launched_month</th>\n",
       "      <th>launching_delay_time</th>\n",
       "      <th>disable_communication</th>\n",
       "      <th>is_starrable</th>\n",
       "      <th>state</th>\n",
       "    </tr>\n",
       "  </thead>\n",
       "  <tbody>\n",
       "    <tr>\n",
       "      <th>0</th>\n",
       "      <td>Graphic Novels</td>\n",
       "      <td>Minneapolis</td>\n",
       "      <td>the United States</td>\n",
       "      <td>12000.000000</td>\n",
       "      <td>2592000</td>\n",
       "      <td>0.004630</td>\n",
       "      <td>2015</td>\n",
       "      <td>8</td>\n",
       "      <td>871654</td>\n",
       "      <td>False</td>\n",
       "      <td>False</td>\n",
       "      <td>successful</td>\n",
       "    </tr>\n",
       "    <tr>\n",
       "      <th>1</th>\n",
       "      <td>Architecture</td>\n",
       "      <td>New York</td>\n",
       "      <td>the United States</td>\n",
       "      <td>500.000000</td>\n",
       "      <td>2588400</td>\n",
       "      <td>0.000193</td>\n",
       "      <td>2015</td>\n",
       "      <td>2</td>\n",
       "      <td>1407876</td>\n",
       "      <td>False</td>\n",
       "      <td>False</td>\n",
       "      <td>successful</td>\n",
       "    </tr>\n",
       "    <tr>\n",
       "      <th>2</th>\n",
       "      <td>Gaming Hardware</td>\n",
       "      <td>Oshkosh</td>\n",
       "      <td>the United States</td>\n",
       "      <td>10000.000000</td>\n",
       "      <td>3884400</td>\n",
       "      <td>0.002574</td>\n",
       "      <td>2015</td>\n",
       "      <td>2</td>\n",
       "      <td>16110</td>\n",
       "      <td>False</td>\n",
       "      <td>False</td>\n",
       "      <td>successful</td>\n",
       "    </tr>\n",
       "    <tr>\n",
       "      <th>3</th>\n",
       "      <td>Drama</td>\n",
       "      <td>Manchester</td>\n",
       "      <td>the United Kingdom</td>\n",
       "      <td>998.226229</td>\n",
       "      <td>2306670</td>\n",
       "      <td>0.000433</td>\n",
       "      <td>2015</td>\n",
       "      <td>3</td>\n",
       "      <td>8063</td>\n",
       "      <td>False</td>\n",
       "      <td>False</td>\n",
       "      <td>failed</td>\n",
       "    </tr>\n",
       "    <tr>\n",
       "      <th>4</th>\n",
       "      <td>Flight</td>\n",
       "      <td>South Florida</td>\n",
       "      <td>the United States</td>\n",
       "      <td>17500.000000</td>\n",
       "      <td>3020400</td>\n",
       "      <td>0.005794</td>\n",
       "      <td>2015</td>\n",
       "      <td>3</td>\n",
       "      <td>1965192</td>\n",
       "      <td>False</td>\n",
       "      <td>False</td>\n",
       "      <td>successful</td>\n",
       "    </tr>\n",
       "    <tr>\n",
       "      <th>...</th>\n",
       "      <td>...</td>\n",
       "      <td>...</td>\n",
       "      <td>...</td>\n",
       "      <td>...</td>\n",
       "      <td>...</td>\n",
       "      <td>...</td>\n",
       "      <td>...</td>\n",
       "      <td>...</td>\n",
       "      <td>...</td>\n",
       "      <td>...</td>\n",
       "      <td>...</td>\n",
       "      <td>...</td>\n",
       "    </tr>\n",
       "    <tr>\n",
       "      <th>153571</th>\n",
       "      <td>Accessories</td>\n",
       "      <td>Sydney</td>\n",
       "      <td>Australia</td>\n",
       "      <td>393.166059</td>\n",
       "      <td>2592000</td>\n",
       "      <td>0.000152</td>\n",
       "      <td>2019</td>\n",
       "      <td>3</td>\n",
       "      <td>655598</td>\n",
       "      <td>False</td>\n",
       "      <td>False</td>\n",
       "      <td>successful</td>\n",
       "    </tr>\n",
       "    <tr>\n",
       "      <th>153572</th>\n",
       "      <td>Accessories</td>\n",
       "      <td>London</td>\n",
       "      <td>the United Kingdom</td>\n",
       "      <td>1305.500070</td>\n",
       "      <td>2592000</td>\n",
       "      <td>0.000504</td>\n",
       "      <td>2019</td>\n",
       "      <td>4</td>\n",
       "      <td>171726</td>\n",
       "      <td>False</td>\n",
       "      <td>False</td>\n",
       "      <td>successful</td>\n",
       "    </tr>\n",
       "    <tr>\n",
       "      <th>153573</th>\n",
       "      <td>Web</td>\n",
       "      <td>Prague</td>\n",
       "      <td>Germany</td>\n",
       "      <td>7893.879210</td>\n",
       "      <td>1728000</td>\n",
       "      <td>0.004568</td>\n",
       "      <td>2019</td>\n",
       "      <td>4</td>\n",
       "      <td>245102</td>\n",
       "      <td>False</td>\n",
       "      <td>False</td>\n",
       "      <td>failed</td>\n",
       "    </tr>\n",
       "    <tr>\n",
       "      <th>153574</th>\n",
       "      <td>Faith</td>\n",
       "      <td>Washington</td>\n",
       "      <td>the United States</td>\n",
       "      <td>20000.000000</td>\n",
       "      <td>5011887</td>\n",
       "      <td>0.003991</td>\n",
       "      <td>2019</td>\n",
       "      <td>4</td>\n",
       "      <td>2599879</td>\n",
       "      <td>False</td>\n",
       "      <td>False</td>\n",
       "      <td>failed</td>\n",
       "    </tr>\n",
       "    <tr>\n",
       "      <th>153575</th>\n",
       "      <td>Textiles</td>\n",
       "      <td>Seattle</td>\n",
       "      <td>the United States</td>\n",
       "      <td>700.000000</td>\n",
       "      <td>2657079</td>\n",
       "      <td>0.000263</td>\n",
       "      <td>2019</td>\n",
       "      <td>6</td>\n",
       "      <td>2568846</td>\n",
       "      <td>False</td>\n",
       "      <td>False</td>\n",
       "      <td>failed</td>\n",
       "    </tr>\n",
       "  </tbody>\n",
       "</table>\n",
       "<p>153576 rows × 12 columns</p>\n",
       "</div>"
      ],
      "text/plain": [
       "          category_name  location_name country_displayable_name      usd_goal  \\\n",
       "0        Graphic Novels    Minneapolis        the United States  12000.000000   \n",
       "1          Architecture       New York        the United States    500.000000   \n",
       "2       Gaming Hardware        Oshkosh        the United States  10000.000000   \n",
       "3                 Drama     Manchester       the United Kingdom    998.226229   \n",
       "4                Flight  South Florida        the United States  17500.000000   \n",
       "...                 ...            ...                      ...           ...   \n",
       "153571      Accessories         Sydney                Australia    393.166059   \n",
       "153572      Accessories         London       the United Kingdom   1305.500070   \n",
       "153573              Web         Prague                  Germany   7893.879210   \n",
       "153574            Faith     Washington        the United States  20000.000000   \n",
       "153575         Textiles        Seattle        the United States    700.000000   \n",
       "\n",
       "        set_fundraising_period  target_goal_period_rate  date_launched_year  \\\n",
       "0                      2592000                 0.004630                2015   \n",
       "1                      2588400                 0.000193                2015   \n",
       "2                      3884400                 0.002574                2015   \n",
       "3                      2306670                 0.000433                2015   \n",
       "4                      3020400                 0.005794                2015   \n",
       "...                        ...                      ...                 ...   \n",
       "153571                 2592000                 0.000152                2019   \n",
       "153572                 2592000                 0.000504                2019   \n",
       "153573                 1728000                 0.004568                2019   \n",
       "153574                 5011887                 0.003991                2019   \n",
       "153575                 2657079                 0.000263                2019   \n",
       "\n",
       "        date_launched_month  launching_delay_time  disable_communication  \\\n",
       "0                         8                871654                  False   \n",
       "1                         2               1407876                  False   \n",
       "2                         2                 16110                  False   \n",
       "3                         3                  8063                  False   \n",
       "4                         3               1965192                  False   \n",
       "...                     ...                   ...                    ...   \n",
       "153571                    3                655598                  False   \n",
       "153572                    4                171726                  False   \n",
       "153573                    4                245102                  False   \n",
       "153574                    4               2599879                  False   \n",
       "153575                    6               2568846                  False   \n",
       "\n",
       "        is_starrable       state  \n",
       "0              False  successful  \n",
       "1              False  successful  \n",
       "2              False  successful  \n",
       "3              False      failed  \n",
       "4              False  successful  \n",
       "...              ...         ...  \n",
       "153571         False  successful  \n",
       "153572         False  successful  \n",
       "153573         False      failed  \n",
       "153574         False      failed  \n",
       "153575         False      failed  \n",
       "\n",
       "[153576 rows x 12 columns]"
      ]
     },
     "execution_count": 3,
     "metadata": {},
     "output_type": "execute_result"
    }
   ],
   "source": [
    "meta_dataset"
   ]
  },
  {
   "cell_type": "markdown",
   "metadata": {},
   "source": [
    "## - 추려낸 메타 데이터 EDA"
   ]
  },
  {
   "cell_type": "code",
   "execution_count": 5,
   "metadata": {},
   "outputs": [
    {
     "name": "stdout",
     "output_type": "stream",
     "text": [
      "<class 'pandas.core.frame.DataFrame'>\n",
      "RangeIndex: 153576 entries, 0 to 153575\n",
      "Data columns (total 12 columns):\n",
      " #   Column                    Non-Null Count   Dtype  \n",
      "---  ------                    --------------   -----  \n",
      " 0   category_name             153576 non-null  object \n",
      " 1   location_name             153576 non-null  object \n",
      " 2   country_displayable_name  153576 non-null  object \n",
      " 3   usd_goal                  153576 non-null  float64\n",
      " 4   set_fundraising_period    153576 non-null  int64  \n",
      " 5   target_goal_period_rate   153576 non-null  float64\n",
      " 6   date_launched_year        153576 non-null  int64  \n",
      " 7   date_launched_month       153576 non-null  int64  \n",
      " 8   launching_delay_time      153576 non-null  int64  \n",
      " 9   disable_communication     153576 non-null  bool   \n",
      " 10  is_starrable              153576 non-null  bool   \n",
      " 11  state                     153576 non-null  object \n",
      "dtypes: bool(2), float64(2), int64(4), object(4)\n",
      "memory usage: 12.0+ MB\n"
     ]
    }
   ],
   "source": [
    "meta_dataset.info()"
   ]
  },
  {
   "cell_type": "code",
   "execution_count": 6,
   "metadata": {
    "scrolled": true
   },
   "outputs": [
    {
     "data": {
      "text/plain": [
       "category_name               0\n",
       "location_name               0\n",
       "country_displayable_name    0\n",
       "usd_goal                    0\n",
       "set_fundraising_period      0\n",
       "target_goal_period_rate     0\n",
       "date_launched_year          0\n",
       "date_launched_month         0\n",
       "launching_delay_time        0\n",
       "disable_communication       0\n",
       "is_starrable                0\n",
       "state                       0\n",
       "dtype: int64"
      ]
     },
     "execution_count": 6,
     "metadata": {},
     "output_type": "execute_result"
    }
   ],
   "source": [
    "# 결측치 확인\n",
    "meta_dataset.isna().sum()"
   ]
  },
  {
   "cell_type": "code",
   "execution_count": 24,
   "metadata": {},
   "outputs": [
    {
     "name": "stdout",
     "output_type": "stream",
     "text": [
      "successful    93112\n",
      "failed        60464\n",
      "Name: state, dtype: int64\n",
      "successful    0.606293\n",
      "failed        0.393707\n",
      "Name: state, dtype: float64\n"
     ]
    }
   ],
   "source": [
    "# 타깃('state') 분포 확인\n",
    "print(meta_dataset['state'].value_counts())\n",
    "print(meta_dataset['state'].value_counts(normalize=True))"
   ]
  },
  {
   "cell_type": "code",
   "execution_count": null,
   "metadata": {},
   "outputs": [],
   "source": [
    "# 데이터 불균형은 크지 않지만, 이후 모델 학습과 검증를 진행하면서 문제가 된다고 판단시 해결"
   ]
  },
  {
   "cell_type": "code",
   "execution_count": 110,
   "metadata": {
    "scrolled": true
   },
   "outputs": [
    {
     "data": {
      "text/plain": [
       "Web                 3989\n",
       "Product Design      3773\n",
       "Tabletop Games      3615\n",
       "Accessories         3493\n",
       "Comic Books         3430\n",
       "Illustration        2953\n",
       "Graphic Novels      2744\n",
       "Documentary         2703\n",
       "Comedy              2693\n",
       "Gadgets             2682\n",
       "Drinks              2662\n",
       "Children's Books    2581\n",
       "Restaurants         2553\n",
       "Apparel             2461\n",
       "Playing Cards       2421\n",
       "Photobooks          2357\n",
       "Drama               2340\n",
       "Apps                2324\n",
       "Shorts              2278\n",
       "Software            2016\n",
       "Hip-Hop             2006\n",
       "Video Games         2000\n",
       "Art Books           1928\n",
       "Plays               1904\n",
       "Hardware            1862\n",
       "Small Batch         1803\n",
       "Painting            1711\n",
       "Country & Folk      1592\n",
       "Mixed Media         1590\n",
       "Food Trucks         1579\n",
       "Nonfiction          1540\n",
       "Mobile Games        1530\n",
       "Performances        1501\n",
       "Fiction             1478\n",
       "Jewelry             1424\n",
       "Woodworking         1418\n",
       "Animation           1338\n",
       "Pop                 1329\n",
       "Graphic Design      1320\n",
       "Anthologies         1309\n",
       "Horror              1275\n",
       "Rock                1267\n",
       "Public Art          1262\n",
       "Classical Music     1248\n",
       "DIY                 1237\n",
       "Electronic Music    1222\n",
       "Wearables           1218\n",
       "Digital Art         1217\n",
       "Webseries           1173\n",
       "Musical             1164\n",
       "Name: category_name, dtype: int64"
      ]
     },
     "execution_count": 110,
     "metadata": {},
     "output_type": "execute_result"
    }
   ],
   "source": [
    "# 카테고리(유형)별 펀딩 프로젝트 수 (상위 50개)\n",
    "category_counts = meta_dataset['category_name'].value_counts().head(50)\n",
    "category_counts"
   ]
  },
  {
   "cell_type": "code",
   "execution_count": 114,
   "metadata": {},
   "outputs": [
    {
     "data": {
      "image/png": "[encoded data removed]",
      "text/plain": [
       "<Figure size 936x576 with 1 Axes>"
      ]
     },
     "metadata": {
      "needs_background": "light"
     },
     "output_type": "display_data"
    }
   ],
   "source": [
    "# 카테고리(유형)별 펀딩 프로젝트 수 그래프\n",
    "plt.figure(figsize=(13,8))\n",
    "sns.barplot(x=category_counts.values, y=category_counts.index, alpha=0.6)\n",
    "plt.title(\"Number of Projects by Category\", fontsize=14)\n",
    "plt.xlabel(\"Number of Projects\", fontsize=10)\n",
    "plt.ylabel(\"Category\", fontsize=10)\n",
    "plt.show()"
   ]
  },
  {
   "cell_type": "code",
   "execution_count": null,
   "metadata": {},
   "outputs": [],
   "source": [
    "# 가장 수가 많은 펀딩 카테고리(유형) top 6: Web, Product Design, Tabletop Games, Accessories, Comic Books, Illustration"
   ]
  },
  {
   "cell_type": "code",
   "execution_count": 116,
   "metadata": {},
   "outputs": [
    {
     "data": {
      "text/plain": [
       "state       category_name  \n",
       "failed      Web                3318\n",
       "            Apps               1801\n",
       "            Restaurants        1752\n",
       "            Hip-Hop            1704\n",
       "            Software           1696\n",
       "                               ... \n",
       "successful  Quilts               26\n",
       "            Chiptune             25\n",
       "            Social Practice      23\n",
       "            Bacon                15\n",
       "            Taxidermy             4\n",
       "Name: category_name, Length: 292, dtype: int64"
      ]
     },
     "execution_count": 116,
     "metadata": {},
     "output_type": "execute_result"
    }
   ],
   "source": [
    "# 성공/실패별 펀딩 프로젝트 유형\n",
    "state_category = meta_dataset.groupby('state')['category_name'].value_counts()\n",
    "state_category"
   ]
  },
  {
   "cell_type": "code",
   "execution_count": 129,
   "metadata": {},
   "outputs": [
    {
     "data": {
      "text/plain": [
       "Text(0, 0.5, 'Categories')"
      ]
     },
     "execution_count": 129,
     "metadata": {},
     "output_type": "execute_result"
    },
    {
     "data": {
      "image/png": "[encoded data removed]",
      "text/plain": [
       "<Figure size 720x720 with 2 Axes>"
      ]
     },
     "metadata": {
      "needs_background": "light"
     },
     "output_type": "display_data"
    }
   ],
   "source": [
    "# 성공/실패별 펀딩 프로젝트 그래프 (상위 12개)\n",
    "plt.figure(figsize=(10,10))\n",
    "\n",
    "plt.subplot(2,1,1)\n",
    "a1 = sns.barplot(y=state_category['successful'].index[:12], x=state_category['successful'].values[:12], alpha=0.6)\n",
    "a1.set_title(\"Successful Funding Projects by Category\", fontsize=14)\n",
    "a1.set_xlabel(\"Numbers\", fontsize=10)\n",
    "a1.set_ylabel(\"Categories\", fontsize=10)\n",
    "\n",
    "plt.subplot(2,1,2)\n",
    "a2 = sns.barplot(y=state_category['failed'].index[:12], x=state_category['failed'].values[:12], alpha=0.6)\n",
    "a2.set_title(\"Failed Funding Projects by Category\", fontsize=14)\n",
    "a2.set_xlabel(\"Numbers\", fontsize=10)\n",
    "a2.set_ylabel(\"Categories\", fontsize=10)"
   ]
  },
  {
   "cell_type": "code",
   "execution_count": null,
   "metadata": {},
   "outputs": [],
   "source": [
    "# 모금에 성공한 펀딩 유형에는 Product Design, Tabletop Games, Accessories, Comic Books, Illustration 순으로 많았고\n",
    "# 모금에 실패한 펀딩 유형에는 Web, Apps, Restaurants, Hip-Hop, Software, Drinks 순으로 많았음"
   ]
  },
  {
   "cell_type": "code",
   "execution_count": 15,
   "metadata": {},
   "outputs": [
    {
     "data": {
      "image/png": "[encoded data removed]",
      "text/plain": [
       "<Figure size 936x576 with 1 Axes>"
      ]
     },
     "metadata": {
      "needs_background": "light"
     },
     "output_type": "display_data"
    }
   ],
   "source": [
    "# 펀딩 프로젝트 개수 by 국가\n",
    "country_counts = meta_dataset['country_displayable_name'].value_counts()\n",
    "plt.figure(figsize=(13,8))\n",
    "sns.barplot(x=country_counts.values, y=country_counts.index, alpha=0.6)\n",
    "plt.title(\"Number of Projects by Country\", fontsize=14)\n",
    "plt.xlabel(\"Number of Projects\", fontsize=10)\n",
    "plt.ylabel(\"Country\", fontsize=10)\n",
    "plt.show()"
   ]
  },
  {
   "cell_type": "code",
   "execution_count": 18,
   "metadata": {},
   "outputs": [
    {
     "data": {
      "text/plain": [
       "2015    34696\n",
       "2016    27413\n",
       "2017    26866\n",
       "2018    27398\n",
       "2019    37203\n",
       "Name: date_launched_year, dtype: int64"
      ]
     },
     "execution_count": 18,
     "metadata": {},
     "output_type": "execute_result"
    }
   ],
   "source": [
    "# 연도 별 펀딩 프로젝트 개수\n",
    "meta_dataset['date_launched_year'].value_counts().sort_index()\n",
    "\n",
    "# 평균적으로 매년 30000개 정도의 성공/실패 펀딩 프로젝트가 있다"
   ]
  },
  {
   "cell_type": "code",
   "execution_count": 28,
   "metadata": {},
   "outputs": [
    {
     "data": {
      "text/plain": [
       "3     14933\n",
       "10    14902\n",
       "5     14132\n",
       "6     13706\n",
       "4     13606\n",
       "9     13028\n",
       "2     12931\n",
       "8     12833\n",
       "7     12790\n",
       "1     12105\n",
       "11    11937\n",
       "12     6673\n",
       "Name: date_launched_month, dtype: int64"
      ]
     },
     "execution_count": 28,
     "metadata": {},
     "output_type": "execute_result"
    }
   ],
   "source": [
    "# 월별 펀딩 프로젝트 수\n",
    "meta_dataset['date_launched_month'].value_counts()\n",
    "\n",
    "#3,10,5월에 펀딩이 가장 많고, 12월은 유독 적다 "
   ]
  },
  {
   "cell_type": "code",
   "execution_count": 34,
   "metadata": {},
   "outputs": [
    {
     "data": {
      "text/plain": [
       "state       date_launched_month\n",
       "failed      3                      5795\n",
       "            5                      5643\n",
       "            4                      5447\n",
       "            2                      5381\n",
       "            1                      5351\n",
       "            6                      5322\n",
       "            8                      5018\n",
       "            10                     5006\n",
       "            7                      4960\n",
       "            9                      4818\n",
       "            11                     4539\n",
       "            12                     3184\n",
       "successful  10                     9896\n",
       "            3                      9138\n",
       "            5                      8489\n",
       "            6                      8384\n",
       "            9                      8210\n",
       "            4                      8159\n",
       "            7                      7830\n",
       "            8                      7815\n",
       "            2                      7550\n",
       "            11                     7398\n",
       "            1                      6754\n",
       "            12                     3489\n",
       "Name: date_launched_month, dtype: int64"
      ]
     },
     "execution_count": 34,
     "metadata": {},
     "output_type": "execute_result"
    }
   ],
   "source": [
    "# 성공/실패별 월별 펀딩 개수\n",
    "meta_dataset.groupby(meta_dataset['state'])['date_launched_month'].value_counts()\n",
    "\n",
    "#성공한 펀딩이 가장 많은 달은 10월, 3월, 5월 순\n",
    "#실패한 펀딩이 가장 많은 달은 3월, 5월, 4월 순\n",
    "# 월은 성공/실패에 영향을 준다고 보기 어렵다"
   ]
  },
  {
   "cell_type": "code",
   "execution_count": 47,
   "metadata": {},
   "outputs": [
    {
     "data": {
      "image/png": "[encoded data removed]",
      "text/plain": [
       "<Figure size 432x288 with 1 Axes>"
      ]
     },
     "metadata": {
      "needs_background": "light"
     },
     "output_type": "display_data"
    }
   ],
   "source": [
    "# 설정된 펀딩 기간 분포 확인\n",
    "plt.scatter(x=meta_dataset['set_fundraising_period'].index, y=meta_dataset['set_fundraising_period'].values)\n",
    "plt.show()"
   ]
  },
  {
   "cell_type": "code",
   "execution_count": 48,
   "metadata": {},
   "outputs": [
    {
     "data": {
      "image/png": "[encoded data removed]",
      "text/plain": [
       "<Figure size 432x288 with 1 Axes>"
      ]
     },
     "metadata": {
      "needs_background": "light"
     },
     "output_type": "display_data"
    }
   ],
   "source": [
    "# 런칭 딜레이 기간 분포 확인\n",
    "plt.scatter(x=meta_dataset['launching_delay_time'].index, y=meta_dataset['launching_delay_time'].values)\n",
    "plt.show()"
   ]
  },
  {
   "cell_type": "code",
   "execution_count": 5,
   "metadata": {},
   "outputs": [
    {
     "data": {
      "image/png": "[encoded data removed]",
      "text/plain": [
       "<Figure size 432x288 with 1 Axes>"
      ]
     },
     "metadata": {
      "needs_background": "light"
     },
     "output_type": "display_data"
    }
   ],
   "source": [
    "# 펀딩 목표액 분포 확인\n",
    "plt.scatter(x=meta_dataset['usd_goal'].index, y=meta_dataset['usd_goal'].values)\n",
    "plt.show()"
   ]
  },
  {
   "cell_type": "code",
   "execution_count": 10,
   "metadata": {},
   "outputs": [
    {
     "data": {
      "image/png": "[encoded data removed]",
      "text/plain": [
       "<Figure size 432x432 with 1 Axes>"
      ]
     },
     "metadata": {
      "needs_background": "light"
     },
     "output_type": "display_data"
    }
   ],
   "source": [
    "plt.figure(figsize=(6,6))\n",
    "red_square = dict(markerfacecolor='r', marker='s')\n",
    "plt.boxplot(meta_dataset['usd_goal'].sort_values(ascending=False)[10000:], flierprops=red_square, vert=False, whis=1.5)\n",
    "plt.show()"
   ]
  },
  {
   "cell_type": "code",
   "execution_count": 11,
   "metadata": {},
   "outputs": [
    {
     "data": {
      "image/png": "[encoded data removed]",
      "text/plain": [
       "<Figure size 432x288 with 1 Axes>"
      ]
     },
     "metadata": {
      "needs_background": "light"
     },
     "output_type": "display_data"
    }
   ],
   "source": [
    "# 설정된 펀딩 기간대비 펀딩 목표액 비율 분포 확인\n",
    "plt.scatter(x=meta_dataset['target_goal_period_rate'].index, y=meta_dataset['target_goal_period_rate'].values)\n",
    "plt.show()"
   ]
  },
  {
   "cell_type": "code",
   "execution_count": 12,
   "metadata": {},
   "outputs": [
    {
     "data": {
      "image/png": "[encoded data removed]",
      "text/plain": [
       "<Figure size 432x432 with 1 Axes>"
      ]
     },
     "metadata": {
      "needs_background": "light"
     },
     "output_type": "display_data"
    }
   ],
   "source": [
    "plt.figure(figsize=(6,6))\n",
    "red_square = dict(markerfacecolor='r', marker='s')\n",
    "plt.boxplot(meta_dataset['target_goal_period_rate'].sort_values(ascending=False)[10000:], flierprops=red_square, vert=False, whis=1.5)\n",
    "plt.show()"
   ]
  },
  {
   "cell_type": "markdown",
   "metadata": {},
   "source": [
    "## - 이상치 확인 및 처리"
   ]
  },
  {
   "cell_type": "code",
   "execution_count": 39,
   "metadata": {},
   "outputs": [],
   "source": [
    "#IQR 기반 이상치 검출\n",
    "#IQR : 3분위수-1분위수\n",
    "#이상치 기준 (rate는 일반적으로 1.5사용)\n",
    "#1분위수 - IQR*rate 보다 작은수\n",
    "#3분위 + IQR*rate 보다 큰수\n",
    "\n",
    "def get_outlier(data, rate=1.5):\n",
    "    q1 = np.quantile(data, q=0.25)\n",
    "    q3 = np.quantile(data, q=0.75)\n",
    "    IQR = q3 - q1\n",
    "    return (data < q1 - IQR * rate) | (data > q3 + IQR * rate)"
   ]
  },
  {
   "cell_type": "code",
   "execution_count": 43,
   "metadata": {},
   "outputs": [],
   "source": [
    "# usd_goal 컬럼 --> outlier 아닌 값들 중 최대값으로 대체\n",
    "max_usd_goal = np.max(meta_dataset.usd_goal[~get_outlier(meta_dataset['usd_goal'])])\n",
    "meta_dataset.loc[meta_dataset['usd_goal']>max_usd_goal, 'usd_goal'] = max_usd_goal"
   ]
  },
  {
   "cell_type": "code",
   "execution_count": 45,
   "metadata": {},
   "outputs": [],
   "source": [
    "# target_goal_period_rate 컬럼 --> outlier 아닌 값들 중 최대값으로 대체\n",
    "max_target_goal_period_rate = np.max(meta_dataset.target_goal_period_rate[~get_outlier(meta_dataset['target_goal_period_rate'])])\n",
    "meta_dataset.loc[meta_dataset['target_goal_period_rate']>max_target_goal_period_rate, 'target_goal_period_rate'] = max_target_goal_period_rate"
   ]
  },
  {
   "cell_type": "code",
   "execution_count": 48,
   "metadata": {},
   "outputs": [
    {
     "data": {
      "text/html": [
       "<div>\n",
       "<style scoped>\n",
       "    .dataframe tbody tr th:only-of-type {\n",
       "        vertical-align: middle;\n",
       "    }\n",
       "\n",
       "    .dataframe tbody tr th {\n",
       "        vertical-align: top;\n",
       "    }\n",
       "\n",
       "    .dataframe thead th {\n",
       "        text-align: right;\n",
       "    }\n",
       "</style>\n",
       "<table border=\"1\" class=\"dataframe\">\n",
       "  <thead>\n",
       "    <tr style=\"text-align: right;\">\n",
       "      <th></th>\n",
       "      <th>category_name</th>\n",
       "      <th>usd_goal</th>\n",
       "      <th>set_fundraising_period</th>\n",
       "      <th>target_goal_period_rate</th>\n",
       "      <th>launching_delay_time</th>\n",
       "      <th>disable_communication</th>\n",
       "      <th>is_starrable</th>\n",
       "      <th>state</th>\n",
       "    </tr>\n",
       "  </thead>\n",
       "  <tbody>\n",
       "    <tr>\n",
       "      <th>0</th>\n",
       "      <td>Graphic Novels</td>\n",
       "      <td>12000.000000</td>\n",
       "      <td>2592000</td>\n",
       "      <td>0.004630</td>\n",
       "      <td>871654</td>\n",
       "      <td>False</td>\n",
       "      <td>False</td>\n",
       "      <td>successful</td>\n",
       "    </tr>\n",
       "    <tr>\n",
       "      <th>1</th>\n",
       "      <td>Architecture</td>\n",
       "      <td>500.000000</td>\n",
       "      <td>2588400</td>\n",
       "      <td>0.000193</td>\n",
       "      <td>1407876</td>\n",
       "      <td>False</td>\n",
       "      <td>False</td>\n",
       "      <td>successful</td>\n",
       "    </tr>\n",
       "    <tr>\n",
       "      <th>2</th>\n",
       "      <td>Gaming Hardware</td>\n",
       "      <td>10000.000000</td>\n",
       "      <td>3884400</td>\n",
       "      <td>0.002574</td>\n",
       "      <td>16110</td>\n",
       "      <td>False</td>\n",
       "      <td>False</td>\n",
       "      <td>successful</td>\n",
       "    </tr>\n",
       "    <tr>\n",
       "      <th>3</th>\n",
       "      <td>Drama</td>\n",
       "      <td>998.226229</td>\n",
       "      <td>2306670</td>\n",
       "      <td>0.000433</td>\n",
       "      <td>8063</td>\n",
       "      <td>False</td>\n",
       "      <td>False</td>\n",
       "      <td>failed</td>\n",
       "    </tr>\n",
       "    <tr>\n",
       "      <th>4</th>\n",
       "      <td>Flight</td>\n",
       "      <td>17500.000000</td>\n",
       "      <td>3020400</td>\n",
       "      <td>0.005794</td>\n",
       "      <td>1965192</td>\n",
       "      <td>False</td>\n",
       "      <td>False</td>\n",
       "      <td>successful</td>\n",
       "    </tr>\n",
       "    <tr>\n",
       "      <th>...</th>\n",
       "      <td>...</td>\n",
       "      <td>...</td>\n",
       "      <td>...</td>\n",
       "      <td>...</td>\n",
       "      <td>...</td>\n",
       "      <td>...</td>\n",
       "      <td>...</td>\n",
       "      <td>...</td>\n",
       "    </tr>\n",
       "    <tr>\n",
       "      <th>153571</th>\n",
       "      <td>Accessories</td>\n",
       "      <td>393.166059</td>\n",
       "      <td>2592000</td>\n",
       "      <td>0.000152</td>\n",
       "      <td>655598</td>\n",
       "      <td>False</td>\n",
       "      <td>False</td>\n",
       "      <td>successful</td>\n",
       "    </tr>\n",
       "    <tr>\n",
       "      <th>153572</th>\n",
       "      <td>Accessories</td>\n",
       "      <td>1305.500070</td>\n",
       "      <td>2592000</td>\n",
       "      <td>0.000504</td>\n",
       "      <td>171726</td>\n",
       "      <td>False</td>\n",
       "      <td>False</td>\n",
       "      <td>successful</td>\n",
       "    </tr>\n",
       "    <tr>\n",
       "      <th>153573</th>\n",
       "      <td>Web</td>\n",
       "      <td>7893.879210</td>\n",
       "      <td>1728000</td>\n",
       "      <td>0.004568</td>\n",
       "      <td>245102</td>\n",
       "      <td>False</td>\n",
       "      <td>False</td>\n",
       "      <td>failed</td>\n",
       "    </tr>\n",
       "    <tr>\n",
       "      <th>153574</th>\n",
       "      <td>Faith</td>\n",
       "      <td>20000.000000</td>\n",
       "      <td>5011887</td>\n",
       "      <td>0.003991</td>\n",
       "      <td>2599879</td>\n",
       "      <td>False</td>\n",
       "      <td>False</td>\n",
       "      <td>failed</td>\n",
       "    </tr>\n",
       "    <tr>\n",
       "      <th>153575</th>\n",
       "      <td>Textiles</td>\n",
       "      <td>700.000000</td>\n",
       "      <td>2657079</td>\n",
       "      <td>0.000263</td>\n",
       "      <td>2568846</td>\n",
       "      <td>False</td>\n",
       "      <td>False</td>\n",
       "      <td>failed</td>\n",
       "    </tr>\n",
       "  </tbody>\n",
       "</table>\n",
       "<p>153576 rows × 8 columns</p>\n",
       "</div>"
      ],
      "text/plain": [
       "          category_name      usd_goal  set_fundraising_period  \\\n",
       "0        Graphic Novels  12000.000000                 2592000   \n",
       "1          Architecture    500.000000                 2588400   \n",
       "2       Gaming Hardware  10000.000000                 3884400   \n",
       "3                 Drama    998.226229                 2306670   \n",
       "4                Flight  17500.000000                 3020400   \n",
       "...                 ...           ...                     ...   \n",
       "153571      Accessories    393.166059                 2592000   \n",
       "153572      Accessories   1305.500070                 2592000   \n",
       "153573              Web   7893.879210                 1728000   \n",
       "153574            Faith  20000.000000                 5011887   \n",
       "153575         Textiles    700.000000                 2657079   \n",
       "\n",
       "        target_goal_period_rate  launching_delay_time  disable_communication  \\\n",
       "0                      0.004630                871654                  False   \n",
       "1                      0.000193               1407876                  False   \n",
       "2                      0.002574                 16110                  False   \n",
       "3                      0.000433                  8063                  False   \n",
       "4                      0.005794               1965192                  False   \n",
       "...                         ...                   ...                    ...   \n",
       "153571                 0.000152                655598                  False   \n",
       "153572                 0.000504                171726                  False   \n",
       "153573                 0.004568                245102                  False   \n",
       "153574                 0.003991               2599879                  False   \n",
       "153575                 0.000263               2568846                  False   \n",
       "\n",
       "        is_starrable       state  \n",
       "0              False  successful  \n",
       "1              False  successful  \n",
       "2              False  successful  \n",
       "3              False      failed  \n",
       "4              False  successful  \n",
       "...              ...         ...  \n",
       "153571         False  successful  \n",
       "153572         False  successful  \n",
       "153573         False      failed  \n",
       "153574         False      failed  \n",
       "153575         False      failed  \n",
       "\n",
       "[153576 rows x 8 columns]"
      ]
     },
     "execution_count": 48,
     "metadata": {},
     "output_type": "execute_result"
    }
   ],
   "source": [
    "# 성공 예측 모델에 사용하지 않을 컬럼 추가적으로 제거\n",
    "metadata = meta_dataset.drop(columns=['location_name','country_displayable_name','date_launched_year','date_launched_month'])\n",
    "metadata"
   ]
  },
  {
   "cell_type": "markdown",
   "metadata": {},
   "source": [
    "## - Encoding & Scaling"
   ]
  },
  {
   "cell_type": "code",
   "execution_count": null,
   "metadata": {},
   "outputs": [],
   "source": [
    "# label encoding : disable_communication, is_starrable, state\n",
    "# one-hot encoding : category_name\n",
    "# standard scaling : usd_goal, set_fundraising_period, target_goal_period_rate, launching_delay_time"
   ]
  },
  {
   "cell_type": "code",
   "execution_count": 14,
   "metadata": {},
   "outputs": [],
   "source": [
    "from sklearn.preprocessing import LabelEncoder, OneHotEncoder, StandardScaler, MinMaxScaler\n",
    "from sklearn.model_selection import train_test_split"
   ]
  },
  {
   "cell_type": "code",
   "execution_count": 15,
   "metadata": {},
   "outputs": [],
   "source": [
    "col_to_label_encode = ['disable_communication', 'is_starrable', 'state']\n",
    "col_to_oh_encode = ['category_name']\n",
    "col_to_scale = ['usd_goal', 'set_fundraising_period', 'target_goal_period_rate', 'launching_delay_time']"
   ]
  },
  {
   "cell_type": "code",
   "execution_count": 16,
   "metadata": {},
   "outputs": [],
   "source": [
    "#Label Encoding\n",
    "\n",
    "def l_encoding(x):\n",
    "    le = LabelEncoder()\n",
    "    le.fit(x)\n",
    "    l_encoded_x = le.transform(x)\n",
    "    return l_encoded_x"
   ]
  },
  {
   "cell_type": "code",
   "execution_count": 49,
   "metadata": {},
   "outputs": [
    {
     "data": {
      "text/html": [
       "<div>\n",
       "<style scoped>\n",
       "    .dataframe tbody tr th:only-of-type {\n",
       "        vertical-align: middle;\n",
       "    }\n",
       "\n",
       "    .dataframe tbody tr th {\n",
       "        vertical-align: top;\n",
       "    }\n",
       "\n",
       "    .dataframe thead th {\n",
       "        text-align: right;\n",
       "    }\n",
       "</style>\n",
       "<table border=\"1\" class=\"dataframe\">\n",
       "  <thead>\n",
       "    <tr style=\"text-align: right;\">\n",
       "      <th></th>\n",
       "      <th>disable_communication</th>\n",
       "      <th>is_starrable</th>\n",
       "      <th>state</th>\n",
       "    </tr>\n",
       "  </thead>\n",
       "  <tbody>\n",
       "    <tr>\n",
       "      <th>0</th>\n",
       "      <td>0</td>\n",
       "      <td>0</td>\n",
       "      <td>1</td>\n",
       "    </tr>\n",
       "    <tr>\n",
       "      <th>1</th>\n",
       "      <td>0</td>\n",
       "      <td>0</td>\n",
       "      <td>1</td>\n",
       "    </tr>\n",
       "    <tr>\n",
       "      <th>2</th>\n",
       "      <td>0</td>\n",
       "      <td>0</td>\n",
       "      <td>1</td>\n",
       "    </tr>\n",
       "    <tr>\n",
       "      <th>3</th>\n",
       "      <td>0</td>\n",
       "      <td>0</td>\n",
       "      <td>0</td>\n",
       "    </tr>\n",
       "    <tr>\n",
       "      <th>4</th>\n",
       "      <td>0</td>\n",
       "      <td>0</td>\n",
       "      <td>1</td>\n",
       "    </tr>\n",
       "    <tr>\n",
       "      <th>...</th>\n",
       "      <td>...</td>\n",
       "      <td>...</td>\n",
       "      <td>...</td>\n",
       "    </tr>\n",
       "    <tr>\n",
       "      <th>153571</th>\n",
       "      <td>0</td>\n",
       "      <td>0</td>\n",
       "      <td>1</td>\n",
       "    </tr>\n",
       "    <tr>\n",
       "      <th>153572</th>\n",
       "      <td>0</td>\n",
       "      <td>0</td>\n",
       "      <td>1</td>\n",
       "    </tr>\n",
       "    <tr>\n",
       "      <th>153573</th>\n",
       "      <td>0</td>\n",
       "      <td>0</td>\n",
       "      <td>0</td>\n",
       "    </tr>\n",
       "    <tr>\n",
       "      <th>153574</th>\n",
       "      <td>0</td>\n",
       "      <td>0</td>\n",
       "      <td>0</td>\n",
       "    </tr>\n",
       "    <tr>\n",
       "      <th>153575</th>\n",
       "      <td>0</td>\n",
       "      <td>0</td>\n",
       "      <td>0</td>\n",
       "    </tr>\n",
       "  </tbody>\n",
       "</table>\n",
       "<p>153576 rows × 3 columns</p>\n",
       "</div>"
      ],
      "text/plain": [
       "        disable_communication  is_starrable  state\n",
       "0                           0             0      1\n",
       "1                           0             0      1\n",
       "2                           0             0      1\n",
       "3                           0             0      0\n",
       "4                           0             0      1\n",
       "...                       ...           ...    ...\n",
       "153571                      0             0      1\n",
       "153572                      0             0      1\n",
       "153573                      0             0      0\n",
       "153574                      0             0      0\n",
       "153575                      0             0      0\n",
       "\n",
       "[153576 rows x 3 columns]"
      ]
     },
     "execution_count": 49,
     "metadata": {},
     "output_type": "execute_result"
    }
   ],
   "source": [
    "col_to_label_encode = ['disable_communication', 'is_starrable', 'state']\n",
    "\n",
    "metadata[col_to_label_encode] = metadata[col_to_label_encode].apply(l_encoding)\n",
    "metadata[col_to_label_encode]"
   ]
  },
  {
   "cell_type": "code",
   "execution_count": 50,
   "metadata": {},
   "outputs": [
    {
     "data": {
      "text/html": [
       "<div>\n",
       "<style scoped>\n",
       "    .dataframe tbody tr th:only-of-type {\n",
       "        vertical-align: middle;\n",
       "    }\n",
       "\n",
       "    .dataframe tbody tr th {\n",
       "        vertical-align: top;\n",
       "    }\n",
       "\n",
       "    .dataframe thead th {\n",
       "        text-align: right;\n",
       "    }\n",
       "</style>\n",
       "<table border=\"1\" class=\"dataframe\">\n",
       "  <thead>\n",
       "    <tr style=\"text-align: right;\">\n",
       "      <th></th>\n",
       "      <th>usd_goal</th>\n",
       "      <th>set_fundraising_period</th>\n",
       "      <th>target_goal_period_rate</th>\n",
       "      <th>launching_delay_time</th>\n",
       "      <th>disable_communication</th>\n",
       "      <th>is_starrable</th>\n",
       "      <th>state</th>\n",
       "      <th>category_name_3D Printing</th>\n",
       "      <th>category_name_Academic</th>\n",
       "      <th>category_name_Accessories</th>\n",
       "      <th>...</th>\n",
       "      <th>category_name_Wearables</th>\n",
       "      <th>category_name_Weaving</th>\n",
       "      <th>category_name_Web</th>\n",
       "      <th>category_name_Webcomics</th>\n",
       "      <th>category_name_Webseries</th>\n",
       "      <th>category_name_Woodworking</th>\n",
       "      <th>category_name_Workshops</th>\n",
       "      <th>category_name_World Music</th>\n",
       "      <th>category_name_Young Adult</th>\n",
       "      <th>category_name_Zines</th>\n",
       "    </tr>\n",
       "  </thead>\n",
       "  <tbody>\n",
       "    <tr>\n",
       "      <th>0</th>\n",
       "      <td>12000.000000</td>\n",
       "      <td>2592000</td>\n",
       "      <td>0.004630</td>\n",
       "      <td>871654</td>\n",
       "      <td>0</td>\n",
       "      <td>0</td>\n",
       "      <td>1</td>\n",
       "      <td>0</td>\n",
       "      <td>0</td>\n",
       "      <td>0</td>\n",
       "      <td>...</td>\n",
       "      <td>0</td>\n",
       "      <td>0</td>\n",
       "      <td>0</td>\n",
       "      <td>0</td>\n",
       "      <td>0</td>\n",
       "      <td>0</td>\n",
       "      <td>0</td>\n",
       "      <td>0</td>\n",
       "      <td>0</td>\n",
       "      <td>0</td>\n",
       "    </tr>\n",
       "    <tr>\n",
       "      <th>1</th>\n",
       "      <td>500.000000</td>\n",
       "      <td>2588400</td>\n",
       "      <td>0.000193</td>\n",
       "      <td>1407876</td>\n",
       "      <td>0</td>\n",
       "      <td>0</td>\n",
       "      <td>1</td>\n",
       "      <td>0</td>\n",
       "      <td>0</td>\n",
       "      <td>0</td>\n",
       "      <td>...</td>\n",
       "      <td>0</td>\n",
       "      <td>0</td>\n",
       "      <td>0</td>\n",
       "      <td>0</td>\n",
       "      <td>0</td>\n",
       "      <td>0</td>\n",
       "      <td>0</td>\n",
       "      <td>0</td>\n",
       "      <td>0</td>\n",
       "      <td>0</td>\n",
       "    </tr>\n",
       "    <tr>\n",
       "      <th>2</th>\n",
       "      <td>10000.000000</td>\n",
       "      <td>3884400</td>\n",
       "      <td>0.002574</td>\n",
       "      <td>16110</td>\n",
       "      <td>0</td>\n",
       "      <td>0</td>\n",
       "      <td>1</td>\n",
       "      <td>0</td>\n",
       "      <td>0</td>\n",
       "      <td>0</td>\n",
       "      <td>...</td>\n",
       "      <td>0</td>\n",
       "      <td>0</td>\n",
       "      <td>0</td>\n",
       "      <td>0</td>\n",
       "      <td>0</td>\n",
       "      <td>0</td>\n",
       "      <td>0</td>\n",
       "      <td>0</td>\n",
       "      <td>0</td>\n",
       "      <td>0</td>\n",
       "    </tr>\n",
       "    <tr>\n",
       "      <th>3</th>\n",
       "      <td>998.226229</td>\n",
       "      <td>2306670</td>\n",
       "      <td>0.000433</td>\n",
       "      <td>8063</td>\n",
       "      <td>0</td>\n",
       "      <td>0</td>\n",
       "      <td>0</td>\n",
       "      <td>0</td>\n",
       "      <td>0</td>\n",
       "      <td>0</td>\n",
       "      <td>...</td>\n",
       "      <td>0</td>\n",
       "      <td>0</td>\n",
       "      <td>0</td>\n",
       "      <td>0</td>\n",
       "      <td>0</td>\n",
       "      <td>0</td>\n",
       "      <td>0</td>\n",
       "      <td>0</td>\n",
       "      <td>0</td>\n",
       "      <td>0</td>\n",
       "    </tr>\n",
       "    <tr>\n",
       "      <th>4</th>\n",
       "      <td>17500.000000</td>\n",
       "      <td>3020400</td>\n",
       "      <td>0.005794</td>\n",
       "      <td>1965192</td>\n",
       "      <td>0</td>\n",
       "      <td>0</td>\n",
       "      <td>1</td>\n",
       "      <td>0</td>\n",
       "      <td>0</td>\n",
       "      <td>0</td>\n",
       "      <td>...</td>\n",
       "      <td>0</td>\n",
       "      <td>0</td>\n",
       "      <td>0</td>\n",
       "      <td>0</td>\n",
       "      <td>0</td>\n",
       "      <td>0</td>\n",
       "      <td>0</td>\n",
       "      <td>0</td>\n",
       "      <td>0</td>\n",
       "      <td>0</td>\n",
       "    </tr>\n",
       "    <tr>\n",
       "      <th>...</th>\n",
       "      <td>...</td>\n",
       "      <td>...</td>\n",
       "      <td>...</td>\n",
       "      <td>...</td>\n",
       "      <td>...</td>\n",
       "      <td>...</td>\n",
       "      <td>...</td>\n",
       "      <td>...</td>\n",
       "      <td>...</td>\n",
       "      <td>...</td>\n",
       "      <td>...</td>\n",
       "      <td>...</td>\n",
       "      <td>...</td>\n",
       "      <td>...</td>\n",
       "      <td>...</td>\n",
       "      <td>...</td>\n",
       "      <td>...</td>\n",
       "      <td>...</td>\n",
       "      <td>...</td>\n",
       "      <td>...</td>\n",
       "      <td>...</td>\n",
       "    </tr>\n",
       "    <tr>\n",
       "      <th>153571</th>\n",
       "      <td>393.166059</td>\n",
       "      <td>2592000</td>\n",
       "      <td>0.000152</td>\n",
       "      <td>655598</td>\n",
       "      <td>0</td>\n",
       "      <td>0</td>\n",
       "      <td>1</td>\n",
       "      <td>0</td>\n",
       "      <td>0</td>\n",
       "      <td>1</td>\n",
       "      <td>...</td>\n",
       "      <td>0</td>\n",
       "      <td>0</td>\n",
       "      <td>0</td>\n",
       "      <td>0</td>\n",
       "      <td>0</td>\n",
       "      <td>0</td>\n",
       "      <td>0</td>\n",
       "      <td>0</td>\n",
       "      <td>0</td>\n",
       "      <td>0</td>\n",
       "    </tr>\n",
       "    <tr>\n",
       "      <th>153572</th>\n",
       "      <td>1305.500070</td>\n",
       "      <td>2592000</td>\n",
       "      <td>0.000504</td>\n",
       "      <td>171726</td>\n",
       "      <td>0</td>\n",
       "      <td>0</td>\n",
       "      <td>1</td>\n",
       "      <td>0</td>\n",
       "      <td>0</td>\n",
       "      <td>1</td>\n",
       "      <td>...</td>\n",
       "      <td>0</td>\n",
       "      <td>0</td>\n",
       "      <td>0</td>\n",
       "      <td>0</td>\n",
       "      <td>0</td>\n",
       "      <td>0</td>\n",
       "      <td>0</td>\n",
       "      <td>0</td>\n",
       "      <td>0</td>\n",
       "      <td>0</td>\n",
       "    </tr>\n",
       "    <tr>\n",
       "      <th>153573</th>\n",
       "      <td>7893.879210</td>\n",
       "      <td>1728000</td>\n",
       "      <td>0.004568</td>\n",
       "      <td>245102</td>\n",
       "      <td>0</td>\n",
       "      <td>0</td>\n",
       "      <td>0</td>\n",
       "      <td>0</td>\n",
       "      <td>0</td>\n",
       "      <td>0</td>\n",
       "      <td>...</td>\n",
       "      <td>0</td>\n",
       "      <td>0</td>\n",
       "      <td>1</td>\n",
       "      <td>0</td>\n",
       "      <td>0</td>\n",
       "      <td>0</td>\n",
       "      <td>0</td>\n",
       "      <td>0</td>\n",
       "      <td>0</td>\n",
       "      <td>0</td>\n",
       "    </tr>\n",
       "    <tr>\n",
       "      <th>153574</th>\n",
       "      <td>20000.000000</td>\n",
       "      <td>5011887</td>\n",
       "      <td>0.003991</td>\n",
       "      <td>2599879</td>\n",
       "      <td>0</td>\n",
       "      <td>0</td>\n",
       "      <td>0</td>\n",
       "      <td>0</td>\n",
       "      <td>0</td>\n",
       "      <td>0</td>\n",
       "      <td>...</td>\n",
       "      <td>0</td>\n",
       "      <td>0</td>\n",
       "      <td>0</td>\n",
       "      <td>0</td>\n",
       "      <td>0</td>\n",
       "      <td>0</td>\n",
       "      <td>0</td>\n",
       "      <td>0</td>\n",
       "      <td>0</td>\n",
       "      <td>0</td>\n",
       "    </tr>\n",
       "    <tr>\n",
       "      <th>153575</th>\n",
       "      <td>700.000000</td>\n",
       "      <td>2657079</td>\n",
       "      <td>0.000263</td>\n",
       "      <td>2568846</td>\n",
       "      <td>0</td>\n",
       "      <td>0</td>\n",
       "      <td>0</td>\n",
       "      <td>0</td>\n",
       "      <td>0</td>\n",
       "      <td>0</td>\n",
       "      <td>...</td>\n",
       "      <td>0</td>\n",
       "      <td>0</td>\n",
       "      <td>0</td>\n",
       "      <td>0</td>\n",
       "      <td>0</td>\n",
       "      <td>0</td>\n",
       "      <td>0</td>\n",
       "      <td>0</td>\n",
       "      <td>0</td>\n",
       "      <td>0</td>\n",
       "    </tr>\n",
       "  </tbody>\n",
       "</table>\n",
       "<p>153576 rows × 167 columns</p>\n",
       "</div>"
      ],
      "text/plain": [
       "            usd_goal  set_fundraising_period  target_goal_period_rate  \\\n",
       "0       12000.000000                 2592000                 0.004630   \n",
       "1         500.000000                 2588400                 0.000193   \n",
       "2       10000.000000                 3884400                 0.002574   \n",
       "3         998.226229                 2306670                 0.000433   \n",
       "4       17500.000000                 3020400                 0.005794   \n",
       "...              ...                     ...                      ...   \n",
       "153571    393.166059                 2592000                 0.000152   \n",
       "153572   1305.500070                 2592000                 0.000504   \n",
       "153573   7893.879210                 1728000                 0.004568   \n",
       "153574  20000.000000                 5011887                 0.003991   \n",
       "153575    700.000000                 2657079                 0.000263   \n",
       "\n",
       "        launching_delay_time  disable_communication  is_starrable  state  \\\n",
       "0                     871654                      0             0      1   \n",
       "1                    1407876                      0             0      1   \n",
       "2                      16110                      0             0      1   \n",
       "3                       8063                      0             0      0   \n",
       "4                    1965192                      0             0      1   \n",
       "...                      ...                    ...           ...    ...   \n",
       "153571                655598                      0             0      1   \n",
       "153572                171726                      0             0      1   \n",
       "153573                245102                      0             0      0   \n",
       "153574               2599879                      0             0      0   \n",
       "153575               2568846                      0             0      0   \n",
       "\n",
       "        category_name_3D Printing  category_name_Academic  \\\n",
       "0                               0                       0   \n",
       "1                               0                       0   \n",
       "2                               0                       0   \n",
       "3                               0                       0   \n",
       "4                               0                       0   \n",
       "...                           ...                     ...   \n",
       "153571                          0                       0   \n",
       "153572                          0                       0   \n",
       "153573                          0                       0   \n",
       "153574                          0                       0   \n",
       "153575                          0                       0   \n",
       "\n",
       "        category_name_Accessories  ...  category_name_Wearables  \\\n",
       "0                               0  ...                        0   \n",
       "1                               0  ...                        0   \n",
       "2                               0  ...                        0   \n",
       "3                               0  ...                        0   \n",
       "4                               0  ...                        0   \n",
       "...                           ...  ...                      ...   \n",
       "153571                          1  ...                        0   \n",
       "153572                          1  ...                        0   \n",
       "153573                          0  ...                        0   \n",
       "153574                          0  ...                        0   \n",
       "153575                          0  ...                        0   \n",
       "\n",
       "        category_name_Weaving  category_name_Web  category_name_Webcomics  \\\n",
       "0                           0                  0                        0   \n",
       "1                           0                  0                        0   \n",
       "2                           0                  0                        0   \n",
       "3                           0                  0                        0   \n",
       "4                           0                  0                        0   \n",
       "...                       ...                ...                      ...   \n",
       "153571                      0                  0                        0   \n",
       "153572                      0                  0                        0   \n",
       "153573                      0                  1                        0   \n",
       "153574                      0                  0                        0   \n",
       "153575                      0                  0                        0   \n",
       "\n",
       "        category_name_Webseries  category_name_Woodworking  \\\n",
       "0                             0                          0   \n",
       "1                             0                          0   \n",
       "2                             0                          0   \n",
       "3                             0                          0   \n",
       "4                             0                          0   \n",
       "...                         ...                        ...   \n",
       "153571                        0                          0   \n",
       "153572                        0                          0   \n",
       "153573                        0                          0   \n",
       "153574                        0                          0   \n",
       "153575                        0                          0   \n",
       "\n",
       "        category_name_Workshops  category_name_World Music  \\\n",
       "0                             0                          0   \n",
       "1                             0                          0   \n",
       "2                             0                          0   \n",
       "3                             0                          0   \n",
       "4                             0                          0   \n",
       "...                         ...                        ...   \n",
       "153571                        0                          0   \n",
       "153572                        0                          0   \n",
       "153573                        0                          0   \n",
       "153574                        0                          0   \n",
       "153575                        0                          0   \n",
       "\n",
       "        category_name_Young Adult  category_name_Zines  \n",
       "0                               0                    0  \n",
       "1                               0                    0  \n",
       "2                               0                    0  \n",
       "3                               0                    0  \n",
       "4                               0                    0  \n",
       "...                           ...                  ...  \n",
       "153571                          0                    0  \n",
       "153572                          0                    0  \n",
       "153573                          0                    0  \n",
       "153574                          0                    0  \n",
       "153575                          0                    0  \n",
       "\n",
       "[153576 rows x 167 columns]"
      ]
     },
     "execution_count": 50,
     "metadata": {},
     "output_type": "execute_result"
    }
   ],
   "source": [
    "#One-Hot Encoding -- Pandas.get_dummies()\n",
    "\n",
    "col_to_oh_encode = ['category_name']\n",
    "\n",
    "metadata = pd.get_dummies(metadata, columns=col_to_oh_encode)\n",
    "metadata"
   ]
  },
  {
   "cell_type": "code",
   "execution_count": 51,
   "metadata": {},
   "outputs": [
    {
     "data": {
      "text/html": [
       "<div>\n",
       "<style scoped>\n",
       "    .dataframe tbody tr th:only-of-type {\n",
       "        vertical-align: middle;\n",
       "    }\n",
       "\n",
       "    .dataframe tbody tr th {\n",
       "        vertical-align: top;\n",
       "    }\n",
       "\n",
       "    .dataframe thead th {\n",
       "        text-align: right;\n",
       "    }\n",
       "</style>\n",
       "<table border=\"1\" class=\"dataframe\">\n",
       "  <thead>\n",
       "    <tr style=\"text-align: right;\">\n",
       "      <th></th>\n",
       "      <th>usd_goal</th>\n",
       "      <th>set_fundraising_period</th>\n",
       "      <th>target_goal_period_rate</th>\n",
       "      <th>launching_delay_time</th>\n",
       "    </tr>\n",
       "  </thead>\n",
       "  <tbody>\n",
       "    <tr>\n",
       "      <th>0</th>\n",
       "      <td>-0.025104</td>\n",
       "      <td>-0.209350</td>\n",
       "      <td>-0.015407</td>\n",
       "      <td>-0.282325</td>\n",
       "    </tr>\n",
       "    <tr>\n",
       "      <th>1</th>\n",
       "      <td>-0.035191</td>\n",
       "      <td>-0.212905</td>\n",
       "      <td>-0.021688</td>\n",
       "      <td>-0.240724</td>\n",
       "    </tr>\n",
       "    <tr>\n",
       "      <th>2</th>\n",
       "      <td>-0.026858</td>\n",
       "      <td>1.066828</td>\n",
       "      <td>-0.018317</td>\n",
       "      <td>-0.348701</td>\n",
       "    </tr>\n",
       "    <tr>\n",
       "      <th>3</th>\n",
       "      <td>-0.034754</td>\n",
       "      <td>-0.491099</td>\n",
       "      <td>-0.021348</td>\n",
       "      <td>-0.349325</td>\n",
       "    </tr>\n",
       "    <tr>\n",
       "      <th>4</th>\n",
       "      <td>-0.020280</td>\n",
       "      <td>0.213672</td>\n",
       "      <td>-0.013759</td>\n",
       "      <td>-0.197485</td>\n",
       "    </tr>\n",
       "    <tr>\n",
       "      <th>...</th>\n",
       "      <td>...</td>\n",
       "      <td>...</td>\n",
       "      <td>...</td>\n",
       "      <td>...</td>\n",
       "    </tr>\n",
       "    <tr>\n",
       "      <th>153571</th>\n",
       "      <td>-0.035284</td>\n",
       "      <td>-0.209350</td>\n",
       "      <td>-0.021746</td>\n",
       "      <td>-0.299088</td>\n",
       "    </tr>\n",
       "    <tr>\n",
       "      <th>153572</th>\n",
       "      <td>-0.034484</td>\n",
       "      <td>-0.209350</td>\n",
       "      <td>-0.021248</td>\n",
       "      <td>-0.336628</td>\n",
       "    </tr>\n",
       "    <tr>\n",
       "      <th>153573</th>\n",
       "      <td>-0.028705</td>\n",
       "      <td>-1.062506</td>\n",
       "      <td>-0.015494</td>\n",
       "      <td>-0.330935</td>\n",
       "    </tr>\n",
       "    <tr>\n",
       "      <th>153574</th>\n",
       "      <td>-0.018087</td>\n",
       "      <td>2.180162</td>\n",
       "      <td>-0.016312</td>\n",
       "      <td>-0.148244</td>\n",
       "    </tr>\n",
       "    <tr>\n",
       "      <th>153575</th>\n",
       "      <td>-0.035015</td>\n",
       "      <td>-0.145088</td>\n",
       "      <td>-0.021588</td>\n",
       "      <td>-0.150652</td>\n",
       "    </tr>\n",
       "  </tbody>\n",
       "</table>\n",
       "<p>153576 rows × 4 columns</p>\n",
       "</div>"
      ],
      "text/plain": [
       "        usd_goal  set_fundraising_period  target_goal_period_rate  \\\n",
       "0      -0.025104               -0.209350                -0.015407   \n",
       "1      -0.035191               -0.212905                -0.021688   \n",
       "2      -0.026858                1.066828                -0.018317   \n",
       "3      -0.034754               -0.491099                -0.021348   \n",
       "4      -0.020280                0.213672                -0.013759   \n",
       "...          ...                     ...                      ...   \n",
       "153571 -0.035284               -0.209350                -0.021746   \n",
       "153572 -0.034484               -0.209350                -0.021248   \n",
       "153573 -0.028705               -1.062506                -0.015494   \n",
       "153574 -0.018087                2.180162                -0.016312   \n",
       "153575 -0.035015               -0.145088                -0.021588   \n",
       "\n",
       "        launching_delay_time  \n",
       "0                  -0.282325  \n",
       "1                  -0.240724  \n",
       "2                  -0.348701  \n",
       "3                  -0.349325  \n",
       "4                  -0.197485  \n",
       "...                      ...  \n",
       "153571             -0.299088  \n",
       "153572             -0.336628  \n",
       "153573             -0.330935  \n",
       "153574             -0.148244  \n",
       "153575             -0.150652  \n",
       "\n",
       "[153576 rows x 4 columns]"
      ]
     },
     "execution_count": 51,
     "metadata": {},
     "output_type": "execute_result"
    }
   ],
   "source": [
    "#Standard Scaling\n",
    "\n",
    "col_to_scale = ['usd_goal', 'set_fundraising_period', 'target_goal_period_rate', 'launching_delay_time']\n",
    "\n",
    "s_scaler = StandardScaler()\n",
    "metadata[col_to_scale] = s_scaler.fit_transform(metadata[col_to_scale])\n",
    "metadata[col_to_scale]"
   ]
  },
  {
   "cell_type": "code",
   "execution_count": 61,
   "metadata": {},
   "outputs": [
    {
     "name": "stdout",
     "output_type": "stream",
     "text": [
      "(153576, 167)\n"
     ]
    },
    {
     "data": {
      "text/html": [
       "<div>\n",
       "<style scoped>\n",
       "    .dataframe tbody tr th:only-of-type {\n",
       "        vertical-align: middle;\n",
       "    }\n",
       "\n",
       "    .dataframe tbody tr th {\n",
       "        vertical-align: top;\n",
       "    }\n",
       "\n",
       "    .dataframe thead th {\n",
       "        text-align: right;\n",
       "    }\n",
       "</style>\n",
       "<table border=\"1\" class=\"dataframe\">\n",
       "  <thead>\n",
       "    <tr style=\"text-align: right;\">\n",
       "      <th></th>\n",
       "      <th>usd_goal</th>\n",
       "      <th>set_fundraising_period</th>\n",
       "      <th>target_goal_period_rate</th>\n",
       "      <th>launching_delay_time</th>\n",
       "      <th>disable_communication</th>\n",
       "      <th>is_starrable</th>\n",
       "      <th>state</th>\n",
       "      <th>category_name_3D Printing</th>\n",
       "      <th>category_name_Academic</th>\n",
       "      <th>category_name_Accessories</th>\n",
       "      <th>...</th>\n",
       "      <th>category_name_Wearables</th>\n",
       "      <th>category_name_Weaving</th>\n",
       "      <th>category_name_Web</th>\n",
       "      <th>category_name_Webcomics</th>\n",
       "      <th>category_name_Webseries</th>\n",
       "      <th>category_name_Woodworking</th>\n",
       "      <th>category_name_Workshops</th>\n",
       "      <th>category_name_World Music</th>\n",
       "      <th>category_name_Young Adult</th>\n",
       "      <th>category_name_Zines</th>\n",
       "    </tr>\n",
       "  </thead>\n",
       "  <tbody>\n",
       "    <tr>\n",
       "      <th>0</th>\n",
       "      <td>-0.025104</td>\n",
       "      <td>-0.209350</td>\n",
       "      <td>-0.015407</td>\n",
       "      <td>-0.282325</td>\n",
       "      <td>0</td>\n",
       "      <td>0</td>\n",
       "      <td>1</td>\n",
       "      <td>0</td>\n",
       "      <td>0</td>\n",
       "      <td>0</td>\n",
       "      <td>...</td>\n",
       "      <td>0</td>\n",
       "      <td>0</td>\n",
       "      <td>0</td>\n",
       "      <td>0</td>\n",
       "      <td>0</td>\n",
       "      <td>0</td>\n",
       "      <td>0</td>\n",
       "      <td>0</td>\n",
       "      <td>0</td>\n",
       "      <td>0</td>\n",
       "    </tr>\n",
       "    <tr>\n",
       "      <th>1</th>\n",
       "      <td>-0.035191</td>\n",
       "      <td>-0.212905</td>\n",
       "      <td>-0.021688</td>\n",
       "      <td>-0.240724</td>\n",
       "      <td>0</td>\n",
       "      <td>0</td>\n",
       "      <td>1</td>\n",
       "      <td>0</td>\n",
       "      <td>0</td>\n",
       "      <td>0</td>\n",
       "      <td>...</td>\n",
       "      <td>0</td>\n",
       "      <td>0</td>\n",
       "      <td>0</td>\n",
       "      <td>0</td>\n",
       "      <td>0</td>\n",
       "      <td>0</td>\n",
       "      <td>0</td>\n",
       "      <td>0</td>\n",
       "      <td>0</td>\n",
       "      <td>0</td>\n",
       "    </tr>\n",
       "    <tr>\n",
       "      <th>2</th>\n",
       "      <td>-0.026858</td>\n",
       "      <td>1.066828</td>\n",
       "      <td>-0.018317</td>\n",
       "      <td>-0.348701</td>\n",
       "      <td>0</td>\n",
       "      <td>0</td>\n",
       "      <td>1</td>\n",
       "      <td>0</td>\n",
       "      <td>0</td>\n",
       "      <td>0</td>\n",
       "      <td>...</td>\n",
       "      <td>0</td>\n",
       "      <td>0</td>\n",
       "      <td>0</td>\n",
       "      <td>0</td>\n",
       "      <td>0</td>\n",
       "      <td>0</td>\n",
       "      <td>0</td>\n",
       "      <td>0</td>\n",
       "      <td>0</td>\n",
       "      <td>0</td>\n",
       "    </tr>\n",
       "    <tr>\n",
       "      <th>3</th>\n",
       "      <td>-0.034754</td>\n",
       "      <td>-0.491099</td>\n",
       "      <td>-0.021348</td>\n",
       "      <td>-0.349325</td>\n",
       "      <td>0</td>\n",
       "      <td>0</td>\n",
       "      <td>0</td>\n",
       "      <td>0</td>\n",
       "      <td>0</td>\n",
       "      <td>0</td>\n",
       "      <td>...</td>\n",
       "      <td>0</td>\n",
       "      <td>0</td>\n",
       "      <td>0</td>\n",
       "      <td>0</td>\n",
       "      <td>0</td>\n",
       "      <td>0</td>\n",
       "      <td>0</td>\n",
       "      <td>0</td>\n",
       "      <td>0</td>\n",
       "      <td>0</td>\n",
       "    </tr>\n",
       "    <tr>\n",
       "      <th>4</th>\n",
       "      <td>-0.020280</td>\n",
       "      <td>0.213672</td>\n",
       "      <td>-0.013759</td>\n",
       "      <td>-0.197485</td>\n",
       "      <td>0</td>\n",
       "      <td>0</td>\n",
       "      <td>1</td>\n",
       "      <td>0</td>\n",
       "      <td>0</td>\n",
       "      <td>0</td>\n",
       "      <td>...</td>\n",
       "      <td>0</td>\n",
       "      <td>0</td>\n",
       "      <td>0</td>\n",
       "      <td>0</td>\n",
       "      <td>0</td>\n",
       "      <td>0</td>\n",
       "      <td>0</td>\n",
       "      <td>0</td>\n",
       "      <td>0</td>\n",
       "      <td>0</td>\n",
       "    </tr>\n",
       "  </tbody>\n",
       "</table>\n",
       "<p>5 rows × 167 columns</p>\n",
       "</div>"
      ],
      "text/plain": [
       "   usd_goal  set_fundraising_period  target_goal_period_rate  \\\n",
       "0 -0.025104               -0.209350                -0.015407   \n",
       "1 -0.035191               -0.212905                -0.021688   \n",
       "2 -0.026858                1.066828                -0.018317   \n",
       "3 -0.034754               -0.491099                -0.021348   \n",
       "4 -0.020280                0.213672                -0.013759   \n",
       "\n",
       "   launching_delay_time  disable_communication  is_starrable  state  \\\n",
       "0             -0.282325                      0             0      1   \n",
       "1             -0.240724                      0             0      1   \n",
       "2             -0.348701                      0             0      1   \n",
       "3             -0.349325                      0             0      0   \n",
       "4             -0.197485                      0             0      1   \n",
       "\n",
       "   category_name_3D Printing  category_name_Academic  \\\n",
       "0                          0                       0   \n",
       "1                          0                       0   \n",
       "2                          0                       0   \n",
       "3                          0                       0   \n",
       "4                          0                       0   \n",
       "\n",
       "   category_name_Accessories  ...  category_name_Wearables  \\\n",
       "0                          0  ...                        0   \n",
       "1                          0  ...                        0   \n",
       "2                          0  ...                        0   \n",
       "3                          0  ...                        0   \n",
       "4                          0  ...                        0   \n",
       "\n",
       "   category_name_Weaving  category_name_Web  category_name_Webcomics  \\\n",
       "0                      0                  0                        0   \n",
       "1                      0                  0                        0   \n",
       "2                      0                  0                        0   \n",
       "3                      0                  0                        0   \n",
       "4                      0                  0                        0   \n",
       "\n",
       "   category_name_Webseries  category_name_Woodworking  \\\n",
       "0                        0                          0   \n",
       "1                        0                          0   \n",
       "2                        0                          0   \n",
       "3                        0                          0   \n",
       "4                        0                          0   \n",
       "\n",
       "   category_name_Workshops  category_name_World Music  \\\n",
       "0                        0                          0   \n",
       "1                        0                          0   \n",
       "2                        0                          0   \n",
       "3                        0                          0   \n",
       "4                        0                          0   \n",
       "\n",
       "   category_name_Young Adult  category_name_Zines  \n",
       "0                          0                    0  \n",
       "1                          0                    0  \n",
       "2                          0                    0  \n",
       "3                          0                    0  \n",
       "4                          0                    0  \n",
       "\n",
       "[5 rows x 167 columns]"
      ]
     },
     "execution_count": 61,
     "metadata": {},
     "output_type": "execute_result"
    }
   ],
   "source": [
    "print(metadata.shape)\n",
    "metadata.head()"
   ]
  },
  {
   "cell_type": "code",
   "execution_count": null,
   "metadata": {},
   "outputs": [],
   "source": [
    "# 파일 중간저장\n",
    "# metadata.to_csv('metadata_encoded_scaled.csv', index=False, encoding='utf-8')"
   ]
  },
  {
   "cell_type": "markdown",
   "metadata": {},
   "source": [
    "## - Encoding 및 Scaling 후 예측변수 데이터 탐색"
   ]
  },
  {
   "cell_type": "code",
   "execution_count": 109,
   "metadata": {},
   "outputs": [
    {
     "data": {
      "text/html": [
       "<div>\n",
       "<style scoped>\n",
       "    .dataframe tbody tr th:only-of-type {\n",
       "        vertical-align: middle;\n",
       "    }\n",
       "\n",
       "    .dataframe tbody tr th {\n",
       "        vertical-align: top;\n",
       "    }\n",
       "\n",
       "    .dataframe thead th {\n",
       "        text-align: right;\n",
       "    }\n",
       "</style>\n",
       "<table border=\"1\" class=\"dataframe\">\n",
       "  <thead>\n",
       "    <tr style=\"text-align: right;\">\n",
       "      <th>column_scaled</th>\n",
       "      <th>usd_goal</th>\n",
       "      <th>set_fundraising_period</th>\n",
       "      <th>target_goal_period_rate</th>\n",
       "      <th>launching_delay_time</th>\n",
       "    </tr>\n",
       "  </thead>\n",
       "  <tbody>\n",
       "    <tr>\n",
       "      <th>count</th>\n",
       "      <td>153576</td>\n",
       "      <td>153576</td>\n",
       "      <td>153576</td>\n",
       "      <td>153576</td>\n",
       "    </tr>\n",
       "    <tr>\n",
       "      <th>mean</th>\n",
       "      <td>1.4781e-15</td>\n",
       "      <td>3.93822e-15</td>\n",
       "      <td>1.34052e-15</td>\n",
       "      <td>1.24227e-16</td>\n",
       "    </tr>\n",
       "    <tr>\n",
       "      <th>median</th>\n",
       "      <td>-0.0312436</td>\n",
       "      <td>-0.20935</td>\n",
       "      <td>-0.019366</td>\n",
       "      <td>-0.270573</td>\n",
       "    </tr>\n",
       "    <tr>\n",
       "      <th>mode</th>\n",
       "      <td>0   -0.031244\n",
       "dtype: float64</td>\n",
       "      <td>0   -0.20935\n",
       "dtype: float64</td>\n",
       "      <td>0   -0.01923\n",
       "dtype: float64</td>\n",
       "      <td>0   -0.349718\n",
       "1   -0.349700\n",
       "2   -0.349613\n",
       "3   ...</td>\n",
       "    </tr>\n",
       "    <tr>\n",
       "      <th>std</th>\n",
       "      <td>1</td>\n",
       "      <td>1</td>\n",
       "      <td>1</td>\n",
       "      <td>1</td>\n",
       "    </tr>\n",
       "    <tr>\n",
       "      <th>min</th>\n",
       "      <td>-0.0356286</td>\n",
       "      <td>-2.6835</td>\n",
       "      <td>-0.0219608</td>\n",
       "      <td>-0.349928</td>\n",
       "    </tr>\n",
       "    <tr>\n",
       "      <th>25%</th>\n",
       "      <td>-0.0343924</td>\n",
       "      <td>-0.212905</td>\n",
       "      <td>-0.0211619</td>\n",
       "      <td>-0.330289</td>\n",
       "    </tr>\n",
       "    <tr>\n",
       "      <th>50%</th>\n",
       "      <td>-0.0312436</td>\n",
       "      <td>-0.20935</td>\n",
       "      <td>-0.019366</td>\n",
       "      <td>-0.270573</td>\n",
       "    </tr>\n",
       "    <tr>\n",
       "      <th>75%</th>\n",
       "      <td>-0.0238255</td>\n",
       "      <td>0.131912</td>\n",
       "      <td>-0.0150038</td>\n",
       "      <td>-0.0880043</td>\n",
       "    </tr>\n",
       "    <tr>\n",
       "      <th>max</th>\n",
       "      <td>133.589</td>\n",
       "      <td>5.57349</td>\n",
       "      <td>224.818</td>\n",
       "      <td>21.7945</td>\n",
       "    </tr>\n",
       "    <tr>\n",
       "      <th>nan</th>\n",
       "      <td>0</td>\n",
       "      <td>0</td>\n",
       "      <td>0</td>\n",
       "      <td>0</td>\n",
       "    </tr>\n",
       "  </tbody>\n",
       "</table>\n",
       "</div>"
      ],
      "text/plain": [
       "column_scaled                      usd_goal       set_fundraising_period  \\\n",
       "count                                153576                       153576   \n",
       "mean                             1.4781e-15                  3.93822e-15   \n",
       "median                           -0.0312436                     -0.20935   \n",
       "mode           0   -0.031244\n",
       "dtype: float64  0   -0.20935\n",
       "dtype: float64   \n",
       "std                                       1                            1   \n",
       "min                              -0.0356286                      -2.6835   \n",
       "25%                              -0.0343924                    -0.212905   \n",
       "50%                              -0.0312436                     -0.20935   \n",
       "75%                              -0.0238255                     0.131912   \n",
       "max                                 133.589                      5.57349   \n",
       "nan                                       0                            0   \n",
       "\n",
       "column_scaled      target_goal_period_rate  \\\n",
       "count                               153576   \n",
       "mean                           1.34052e-15   \n",
       "median                           -0.019366   \n",
       "mode           0   -0.01923\n",
       "dtype: float64   \n",
       "std                                      1   \n",
       "min                             -0.0219608   \n",
       "25%                             -0.0211619   \n",
       "50%                              -0.019366   \n",
       "75%                             -0.0150038   \n",
       "max                                224.818   \n",
       "nan                                      0   \n",
       "\n",
       "column_scaled                               launching_delay_time  \n",
       "count                                                     153576  \n",
       "mean                                                 1.24227e-16  \n",
       "median                                                 -0.270573  \n",
       "mode           0   -0.349718\n",
       "1   -0.349700\n",
       "2   -0.349613\n",
       "3   ...  \n",
       "std                                                            1  \n",
       "min                                                    -0.349928  \n",
       "25%                                                    -0.330289  \n",
       "50%                                                    -0.270573  \n",
       "75%                                                   -0.0880043  \n",
       "max                                                      21.7945  \n",
       "nan                                                            0  "
      ]
     },
     "execution_count": 109,
     "metadata": {},
     "output_type": "execute_result"
    }
   ],
   "source": [
    "# 연속형 변수 기본 통계 집계\n",
    "# count, mean, median, mode, standard deviation, min, max, quantile 25%, 50%, 75%, nan/null\n",
    "\n",
    "columns_scaled = metadata[col_scaled]\n",
    "list_for_df = []\n",
    "for column_to_look in columns_scaled:\n",
    "    basic_stat = {\"column_scaled\":column_to_look, \"count\":metadata[column_to_look].count(), \"mean\":metadata[column_to_look].mean(), \n",
    "                  \"median\":metadata[column_to_look].median(), \"mode\":metadata[column_to_look].mode(), \"std\":metadata[column_to_look].std(),\n",
    "                  \"min\":metadata[column_to_look].min(), \"25%\":metadata[column_to_look].quantile(0.25),\n",
    "                  \"50%\":metadata[column_to_look].quantile(0.5), \"75%\":metadata[column_to_look].quantile(0.75),\n",
    "                  \"max\":metadata[column_to_look].max(), \"nan\":metadata[column_to_look].isna().sum()}\n",
    "    list_for_df.append(basic_stat)\n",
    "\n",
    "pd.DataFrame(list_for_df).set_index('column_scaled').T"
   ]
  },
  {
   "cell_type": "code",
   "execution_count": 53,
   "metadata": {},
   "outputs": [
    {
     "data": {
      "text/html": [
       "<div>\n",
       "<style scoped>\n",
       "    .dataframe tbody tr th:only-of-type {\n",
       "        vertical-align: middle;\n",
       "    }\n",
       "\n",
       "    .dataframe tbody tr th {\n",
       "        vertical-align: top;\n",
       "    }\n",
       "\n",
       "    .dataframe thead th {\n",
       "        text-align: right;\n",
       "    }\n",
       "</style>\n",
       "<table border=\"1\" class=\"dataframe\">\n",
       "  <thead>\n",
       "    <tr style=\"text-align: right;\">\n",
       "      <th></th>\n",
       "      <th>usd_goal</th>\n",
       "      <th>set_fundraising_period</th>\n",
       "      <th>target_goal_period_rate</th>\n",
       "      <th>launching_delay_time</th>\n",
       "    </tr>\n",
       "  </thead>\n",
       "  <tbody>\n",
       "    <tr>\n",
       "      <th>usd_goal</th>\n",
       "      <td>1.000000</td>\n",
       "      <td>0.028899</td>\n",
       "      <td>0.604225</td>\n",
       "      <td>0.000988</td>\n",
       "    </tr>\n",
       "    <tr>\n",
       "      <th>set_fundraising_period</th>\n",
       "      <td>0.028899</td>\n",
       "      <td>1.000000</td>\n",
       "      <td>-0.004025</td>\n",
       "      <td>0.025013</td>\n",
       "    </tr>\n",
       "    <tr>\n",
       "      <th>target_goal_period_rate</th>\n",
       "      <td>0.604225</td>\n",
       "      <td>-0.004025</td>\n",
       "      <td>1.000000</td>\n",
       "      <td>-0.000688</td>\n",
       "    </tr>\n",
       "    <tr>\n",
       "      <th>launching_delay_time</th>\n",
       "      <td>0.000988</td>\n",
       "      <td>0.025013</td>\n",
       "      <td>-0.000688</td>\n",
       "      <td>1.000000</td>\n",
       "    </tr>\n",
       "  </tbody>\n",
       "</table>\n",
       "</div>"
      ],
      "text/plain": [
       "                         usd_goal  set_fundraising_period  \\\n",
       "usd_goal                 1.000000                0.028899   \n",
       "set_fundraising_period   0.028899                1.000000   \n",
       "target_goal_period_rate  0.604225               -0.004025   \n",
       "launching_delay_time     0.000988                0.025013   \n",
       "\n",
       "                         target_goal_period_rate  launching_delay_time  \n",
       "usd_goal                                0.604225              0.000988  \n",
       "set_fundraising_period                 -0.004025              0.025013  \n",
       "target_goal_period_rate                 1.000000             -0.000688  \n",
       "launching_delay_time                   -0.000688              1.000000  "
      ]
     },
     "execution_count": 53,
     "metadata": {},
     "output_type": "execute_result"
    }
   ],
   "source": [
    "# 연속형 변수 상관관계 분석\n",
    "col_scaled = ['usd_goal', 'set_fundraising_period', 'target_goal_period_rate', 'launching_delay_time']\n",
    "corr_df = metadata[col_scaled].corr()\n",
    "corr_df"
   ]
  },
  {
   "cell_type": "code",
   "execution_count": 72,
   "metadata": {},
   "outputs": [
    {
     "data": {
      "image/png": "[encoded data removed]",
      "text/plain": [
       "<Figure size 504x360 with 2 Axes>"
      ]
     },
     "metadata": {},
     "output_type": "display_data"
    }
   ],
   "source": [
    "# 연속형 변수 상관관계 히트맵 그래프\n",
    "mask = np.zeros_like(corr_df)\n",
    "mask[np.triu_indices_from(mask)] = True\n",
    "with sns.axes_style(\"white\"):\n",
    "    f, ax = plt.subplots(figsize=(7, 5))\n",
    "    ax = sns.heatmap(corr_df, vmin=-1, vmax=1, cmap=\"YlGnBu\", annot=True, square=True, linewidth=0.5, mask=mask)\n",
    "plt.xticks(rotation=10)\n",
    "plt.show()"
   ]
  },
  {
   "cell_type": "code",
   "execution_count": 78,
   "metadata": {
    "scrolled": false
   },
   "outputs": [
    {
     "name": "stdout",
     "output_type": "stream",
     "text": [
      "1    93112\n",
      "0    60464\n",
      "Name: state, dtype: int64\n",
      "1    0.606293\n",
      "0    0.393707\n",
      "Name: state, dtype: float64\n"
     ]
    },
    {
     "data": {
      "image/png": "[encoded data removed]",
      "text/plain": [
       "<Figure size 432x288 with 1 Axes>"
      ]
     },
     "metadata": {
      "needs_background": "light"
     },
     "output_type": "display_data"
    }
   ],
   "source": [
    "# 타깃('state') 분포 재확인\n",
    "print(metadata['state'].value_counts())\n",
    "print(metadata['state'].value_counts(normalize=True))\n",
    "sns.countplot(metadata['state'])\n",
    "plt.show()"
   ]
  },
  {
   "cell_type": "code",
   "execution_count": null,
   "metadata": {},
   "outputs": [],
   "source": [
    "# Again, 데이터 불균형은 크지 않지만 이후 학습과 검증을 진행하면서 문제가 된다고 판단시 해결"
   ]
  },
  {
   "cell_type": "markdown",
   "metadata": {},
   "source": []
  },
  {
   "cell_type": "markdown",
   "metadata": {},
   "source": [
    "# 3. 이미지 데이터 처리 - 전이 학습 및 특성 추출<a class=\"anchor\" id = \"c3\"> </a>\n",
    "- 이미지, 텍스트, 메타 데이터 각각 처리하고 합친 후 예측 모델을 돌려야 하기에, 이미지 특성만을 미리 뽑아내야 함\n",
    "---"
   ]
  },
  {
   "cell_type": "code",
   "execution_count": 1,
   "metadata": {},
   "outputs": [],
   "source": [
    "import pandas as pd\n",
    "import numpy as np\n",
    "import matplotlib.pyplot as plt\n",
    "import seaborn as sns\n",
    "import pickle\n",
    "import h5py\n",
    "import time\n",
    "import random\n",
    "import os\n",
    "from datetime import datetime, timedelta\n",
    "np.random.seed(1)"
   ]
  },
  {
   "cell_type": "code",
   "execution_count": 2,
   "metadata": {},
   "outputs": [],
   "source": [
    "import tensorflow as tf"
   ]
  },
  {
   "cell_type": "code",
   "execution_count": 3,
   "metadata": {},
   "outputs": [
    {
     "data": {
      "text/plain": [
       "'2.1.0'"
      ]
     },
     "execution_count": 3,
     "metadata": {},
     "output_type": "execute_result"
    }
   ],
   "source": [
    "# Tensorflow 버전 확인\n",
    "tf.__version__"
   ]
  },
  {
   "cell_type": "code",
   "execution_count": 4,
   "metadata": {},
   "outputs": [
    {
     "name": "stdout",
     "output_type": "stream",
     "text": [
      "True\n",
      "[PhysicalDevice(name='/physical_device:GPU:0', device_type='GPU')]\n"
     ]
    }
   ],
   "source": [
    "# GPU 사용 여부 확인\n",
    "print(tf.test.is_built_with_cuda())\n",
    "print(tf.config.list_physical_devices('GPU'))"
   ]
  },
  {
   "cell_type": "markdown",
   "metadata": {},
   "source": [
    "## - 이미 훈련된 VGG16 모델을 사용한 전이 학습"
   ]
  },
  {
   "cell_type": "code",
   "execution_count": 5,
   "metadata": {},
   "outputs": [],
   "source": [
    "from PIL import Image\n",
    "from tensorflow.keras import Input\n",
    "from tensorflow.keras import models\n",
    "from tensorflow.keras import layers\n",
    "from tensorflow.keras import optimizers, initializers, regularizers, metrics\n",
    "from tensorflow.keras.models import Sequential\n",
    "from tensorflow.keras.layers import Conv2D, MaxPool2D, Flatten, Dense, Dropout"
   ]
  },
  {
   "cell_type": "code",
   "execution_count": 6,
   "metadata": {},
   "outputs": [],
   "source": [
    "from tensorflow.keras.applications import VGG16\n",
    "conv_base = VGG16(weights='imagenet',\n",
    "                  include_top=False,\n",
    "                  input_shape=(150, 150, 3))"
   ]
  },
  {
   "cell_type": "code",
   "execution_count": 7,
   "metadata": {
    "scrolled": true
   },
   "outputs": [
    {
     "name": "stdout",
     "output_type": "stream",
     "text": [
      "Model: \"vgg16\"\n",
      "_________________________________________________________________\n",
      "Layer (type)                 Output Shape              Param #   \n",
      "=================================================================\n",
      "input_1 (InputLayer)         [(None, 150, 150, 3)]     0         \n",
      "_________________________________________________________________\n",
      "block1_conv1 (Conv2D)        (None, 150, 150, 64)      1792      \n",
      "_________________________________________________________________\n",
      "block1_conv2 (Conv2D)        (None, 150, 150, 64)      36928     \n",
      "_________________________________________________________________\n",
      "block1_pool (MaxPooling2D)   (None, 75, 75, 64)        0         \n",
      "_________________________________________________________________\n",
      "block2_conv1 (Conv2D)        (None, 75, 75, 128)       73856     \n",
      "_________________________________________________________________\n",
      "block2_conv2 (Conv2D)        (None, 75, 75, 128)       147584    \n",
      "_________________________________________________________________\n",
      "block2_pool (MaxPooling2D)   (None, 37, 37, 128)       0         \n",
      "_________________________________________________________________\n",
      "block3_conv1 (Conv2D)        (None, 37, 37, 256)       295168    \n",
      "_________________________________________________________________\n",
      "block3_conv2 (Conv2D)        (None, 37, 37, 256)       590080    \n",
      "_________________________________________________________________\n",
      "block3_conv3 (Conv2D)        (None, 37, 37, 256)       590080    \n",
      "_________________________________________________________________\n",
      "block3_pool (MaxPooling2D)   (None, 18, 18, 256)       0         \n",
      "_________________________________________________________________\n",
      "block4_conv1 (Conv2D)        (None, 18, 18, 512)       1180160   \n",
      "_________________________________________________________________\n",
      "block4_conv2 (Conv2D)        (None, 18, 18, 512)       2359808   \n",
      "_________________________________________________________________\n",
      "block4_conv3 (Conv2D)        (None, 18, 18, 512)       2359808   \n",
      "_________________________________________________________________\n",
      "block4_pool (MaxPooling2D)   (None, 9, 9, 512)         0         \n",
      "_________________________________________________________________\n",
      "block5_conv1 (Conv2D)        (None, 9, 9, 512)         2359808   \n",
      "_________________________________________________________________\n",
      "block5_conv2 (Conv2D)        (None, 9, 9, 512)         2359808   \n",
      "_________________________________________________________________\n",
      "block5_conv3 (Conv2D)        (None, 9, 9, 512)         2359808   \n",
      "_________________________________________________________________\n",
      "block5_pool (MaxPooling2D)   (None, 4, 4, 512)         0         \n",
      "=================================================================\n",
      "Total params: 14,714,688\n",
      "Trainable params: 14,714,688\n",
      "Non-trainable params: 0\n",
      "_________________________________________________________________\n"
     ]
    }
   ],
   "source": [
    "conv_base.summary()"
   ]
  },
  {
   "cell_type": "code",
   "execution_count": 10,
   "metadata": {},
   "outputs": [],
   "source": [
    "# 수집된 총 이미지 개수 : 153,576\n",
    "# 이미지가 존재하지 않는 이미지 파일 : 1\n",
    "# 제거 후 총 이미지 개수 : 153,575\n",
    "# 데이터 양이 충분히 많기에 image augmentation은 할 필요가 없다고 판단\n",
    "# 특성추출이 수집된 이미지 데이터에 더 적합하도록 맞추기 위해 fine-tuning방식 사용"
   ]
  },
  {
   "cell_type": "code",
   "execution_count": 8,
   "metadata": {},
   "outputs": [
    {
     "data": {
      "text/plain": [
       "[<tensorflow.python.keras.engine.input_layer.InputLayer at 0x7fcb84d71c90>,\n",
       " <tensorflow.python.keras.layers.convolutional.Conv2D at 0x7fcbb43b9ad0>,\n",
       " <tensorflow.python.keras.layers.convolutional.Conv2D at 0x7fcb0abde950>,\n",
       " <tensorflow.python.keras.layers.pooling.MaxPooling2D at 0x7fcb0abdeed0>,\n",
       " <tensorflow.python.keras.layers.convolutional.Conv2D at 0x7fcb00120710>,\n",
       " <tensorflow.python.keras.layers.convolutional.Conv2D at 0x7fcb00120110>,\n",
       " <tensorflow.python.keras.layers.pooling.MaxPooling2D at 0x7fcb001339d0>,\n",
       " <tensorflow.python.keras.layers.convolutional.Conv2D at 0x7fcb00139890>,\n",
       " <tensorflow.python.keras.layers.convolutional.Conv2D at 0x7fcb00144f90>,\n",
       " <tensorflow.python.keras.layers.convolutional.Conv2D at 0x7fcb0014ac50>,\n",
       " <tensorflow.python.keras.layers.pooling.MaxPooling2D at 0x7fcb0014ffd0>,\n",
       " <tensorflow.python.keras.layers.convolutional.Conv2D at 0x7fcb00156e50>,\n",
       " <tensorflow.python.keras.layers.convolutional.Conv2D at 0x7fcb000e2d50>,\n",
       " <tensorflow.python.keras.layers.convolutional.Conv2D at 0x7fcb000e5cd0>,\n",
       " <tensorflow.python.keras.layers.pooling.MaxPooling2D at 0x7fcb000eba50>,\n",
       " <tensorflow.python.keras.layers.convolutional.Conv2D at 0x7fcb000efc50>,\n",
       " <tensorflow.python.keras.layers.convolutional.Conv2D at 0x7fcb000fbb50>,\n",
       " <tensorflow.python.keras.layers.convolutional.Conv2D at 0x7fcb000feb10>,\n",
       " <tensorflow.python.keras.layers.pooling.MaxPooling2D at 0x7fcb00105c50>]"
      ]
     },
     "execution_count": 8,
     "metadata": {},
     "output_type": "execute_result"
    }
   ],
   "source": [
    "# 미세조정(fine-tuning) 시도\n",
    "\n",
    "conv_base.layers"
   ]
  },
  {
   "cell_type": "code",
   "execution_count": 9,
   "metadata": {},
   "outputs": [],
   "source": [
    "# block5_conv1, block5_conv2, block5_conv3 --> fine-tuning\n",
    "conv_base.trainable = True\n",
    "\n",
    "set_trainable = False\n",
    "for layer in conv_base.layers:\n",
    "    if layer.name == 'block5_conv1':\n",
    "        set_trainable = True\n",
    "    if set_trainable:\n",
    "        layer.trainable = True\n",
    "    else:\n",
    "        layer.trainable = False"
   ]
  },
  {
   "cell_type": "code",
   "execution_count": 10,
   "metadata": {
    "scrolled": true
   },
   "outputs": [
    {
     "name": "stdout",
     "output_type": "stream",
     "text": [
      "Model: \"vgg16\"\n",
      "_________________________________________________________________\n",
      "Layer (type)                 Output Shape              Param #   \n",
      "=================================================================\n",
      "input_1 (InputLayer)         [(None, 150, 150, 3)]     0         \n",
      "_________________________________________________________________\n",
      "block1_conv1 (Conv2D)        (None, 150, 150, 64)      1792      \n",
      "_________________________________________________________________\n",
      "block1_conv2 (Conv2D)        (None, 150, 150, 64)      36928     \n",
      "_________________________________________________________________\n",
      "block1_pool (MaxPooling2D)   (None, 75, 75, 64)        0         \n",
      "_________________________________________________________________\n",
      "block2_conv1 (Conv2D)        (None, 75, 75, 128)       73856     \n",
      "_________________________________________________________________\n",
      "block2_conv2 (Conv2D)        (None, 75, 75, 128)       147584    \n",
      "_________________________________________________________________\n",
      "block2_pool (MaxPooling2D)   (None, 37, 37, 128)       0         \n",
      "_________________________________________________________________\n",
      "block3_conv1 (Conv2D)        (None, 37, 37, 256)       295168    \n",
      "_________________________________________________________________\n",
      "block3_conv2 (Conv2D)        (None, 37, 37, 256)       590080    \n",
      "_________________________________________________________________\n",
      "block3_conv3 (Conv2D)        (None, 37, 37, 256)       590080    \n",
      "_________________________________________________________________\n",
      "block3_pool (MaxPooling2D)   (None, 18, 18, 256)       0         \n",
      "_________________________________________________________________\n",
      "block4_conv1 (Conv2D)        (None, 18, 18, 512)       1180160   \n",
      "_________________________________________________________________\n",
      "block4_conv2 (Conv2D)        (None, 18, 18, 512)       2359808   \n",
      "_________________________________________________________________\n",
      "block4_conv3 (Conv2D)        (None, 18, 18, 512)       2359808   \n",
      "_________________________________________________________________\n",
      "block4_pool (MaxPooling2D)   (None, 9, 9, 512)         0         \n",
      "_________________________________________________________________\n",
      "block5_conv1 (Conv2D)        (None, 9, 9, 512)         2359808   \n",
      "_________________________________________________________________\n",
      "block5_conv2 (Conv2D)        (None, 9, 9, 512)         2359808   \n",
      "_________________________________________________________________\n",
      "block5_conv3 (Conv2D)        (None, 9, 9, 512)         2359808   \n",
      "_________________________________________________________________\n",
      "block5_pool (MaxPooling2D)   (None, 4, 4, 512)         0         \n",
      "=================================================================\n",
      "Total params: 14,714,688\n",
      "Trainable params: 7,079,424\n",
      "Non-trainable params: 7,635,264\n",
      "_________________________________________________________________\n"
     ]
    }
   ],
   "source": [
    "conv_base.summary()"
   ]
  },
  {
   "cell_type": "markdown",
   "metadata": {},
   "source": [
    "## - 크롤링으로 수집한 이미지들의 특성 추출 "
   ]
  },
  {
   "cell_type": "code",
   "execution_count": 11,
   "metadata": {},
   "outputs": [],
   "source": [
    "#디렉토리에서 이미지 로드 및 generator 생성\n",
    "from tensorflow.keras.preprocessing.image import ImageDataGenerator\n",
    "\n",
    "datagen = ImageDataGenerator(rescale=1./255)\n",
    "batch_size = 512\n",
    "\n",
    "def extract_features(directory, sample_count):\n",
    "    \"\"\"\n",
    "    디렉토리로 부터 Image들을 읽어 들여 VGG16의 특성추출 레이어를 이용해 이미지 특성 추출\n",
    "    directory: 이미지를 가져올 디렉토리\n",
    "    sample_count: 학습시킬 이미지 개수 (이걸로 총 몇개의 이미지를 만들지)\n",
    "    \"\"\"\n",
    "    #추출된 이미지 특성들을 저장할 ndarray변수.  array 크기: (개수, conv_base의 출력 shape)\n",
    "    features = np.zeros(shape=(sample_count, 4, 4, 512))\n",
    "\n",
    "    #ImageDataGenerator를 이용해 이미지 가져오기.\n",
    "    generator = datagen.flow_from_directory(directory, #디렉토리로부터 이미지를 읽어와서\n",
    "                                        target_size=(150, 150), #모든 이미지들 사이즈를 150, 150으로 맞출거다\n",
    "                                        batch_size=batch_size, #한번에 몇장 만들지\n",
    "                                        class_mode=None)\n",
    "    \n",
    "    \n",
    "    i = 0  #predict한 이미지 수를 저장해 sample_count보다 커지면 break 한다.\n",
    "    for inputs_batch in generator: #input data와 label이 나올거잖아, 고양이 관련 데이터면 그게 고양이다라는 것도 같이 나오니까\n",
    "        #VGG16을 통해 나오는 특성맵을 저장\n",
    "        feature_map_batch = conv_base.predict(inputs_batch)\n",
    "        features[i * batch_size : (i + 1) * batch_size] = feature_map_batch #index\n",
    "        \n",
    "        i += 1\n",
    "        if i * batch_size >= sample_count:\n",
    "            break\n",
    "    return features, generator.filenames #수집한 이미지들이 VGG16 layer를 통과하고 거쳐 나온 feature map들이 들어있다"
   ]
  },
  {
   "cell_type": "code",
   "execution_count": null,
   "metadata": {},
   "outputs": [
    {
     "name": "stdout",
     "output_type": "stream",
     "text": [
      "Found 153575 images belonging to 1 classes.\n"
     ]
    },
    {
     "name": "stderr",
     "output_type": "stream",
     "text": [
      "/home/eodud0582/anaconda3/envs/tensorflow/lib/python3.7/site-packages/PIL/Image.py:932: UserWarning: Palette images with Transparency expressed in bytes should be converted to RGBA images\n",
      "  \"Palette images with Transparency expressed in bytes should be \"\n"
     ]
    }
   ],
   "source": [
    "# image feature extraction\n",
    "# 이미지 특성 추출\n",
    "try:\n",
    "    image_dir = './image_2015_2019_folder'\n",
    "    features, filenames = extract_features(image_dir, 153575)\n",
    "    #features.shape\n",
    "    image_data = features.reshape(153575, 4*4*512)\n",
    "    #image_data.shape\n",
    "    df_image = pd.DataFrame(image_data)\n",
    "    try:\n",
    "        df_image['index'] = [filename.split('/')[1].split('.')[0] for filename in filenames]\n",
    "        df_image['index'] = df_image['index'].astype('int64')\n",
    "        df_image = df_image.set_index('index').sort_index().reset_index()\n",
    "        df_image.to_pickle('image_feature_df.pkl')\n",
    "    except Exception as e:\n",
    "        df_image['index'] = filenames\n",
    "        df_image.to_pickle('image_feature_df.pkl')\n",
    "        \n",
    "        filename_split_error = []\n",
    "        filename_split_error.append(e)\n",
    "        split_error = pd.DataFrame(filename_split_error, columns=['error'])\n",
    "        split_error.to_csv('filename_split_error.csv', index=False)\n",
    "\n",
    "except Exception as ex:\n",
    "    error_list = []\n",
    "    error_list.append(ex)\n",
    "    error = pd.DataFrame(error_list, columns=['error'])\n",
    "    error.to_csv('image_feature_extraction_failed.csv', index=False)"
   ]
  },
  {
   "cell_type": "markdown",
   "metadata": {},
   "source": [
    "## - 이미지 데이터 처리 결과\n",
    "- Shape : (153575, 8192)\n",
    "- 다른 데이터셋과의 결합을 위해 Index 번호 추가 : (153575, 8193)"
   ]
  },
  {
   "cell_type": "markdown",
   "metadata": {},
   "source": []
  },
  {
   "cell_type": "markdown",
   "metadata": {},
   "source": [
    "# 4. 텍스트 데이터 처리 - 데이터 수집/크롤링<a class=\"anchor\" id = \"c4\"> </a>"
   ]
  },
  {
   "cell_type": "markdown",
   "metadata": {
    "colab": {},
    "colab_type": "code",
    "id": "eNMdmkGZDcD2"
   },
   "source": [
    "- Kickstarter 사이트 각 펀딩 페이지의 content 및 risk and challenges 내용 수집 \n",
    "- 2015년~2019년 데이터만 수집\n",
    "- 2015~2019년 각 연도별로 나누어 텍스트 데이터 수집 진행\n",
    "- Kickstarter의 펀딩 페이지는 javascript를 통해 동적으로 텍스트 내용이 불러와지기에 Requests가 아닌 Selenium 사용\n",
    "- 웹크롤링으로 데이터 수집 중 지속적으로 차단을 당하여 여러번의 수정을 거쳤다\n",
    "    1. 오류가 발생하면 크롤링이 중단되고 그 중단 지점(index)이 csv에 저장되어 그 지점부터 manually 다시 크롤링을 시작\n",
    "    2. 오류 발생시 크롤링을 중단하지 않고 계속 진행하되 오류가 난 지점들을 csv에 저장하고, 각 연도에 대한 크롤링이 완료되면 한꺼번에 오류가 난 부분들을 다시 크롤링\n",
    "    3. 크롤링이 차단 당하거나 오류가 날시, continue 하여 다음 url로 바로 넘어가는게 아니라 n분 간격으로 n번까지 더 시도해서 scrape해보고 그럼에도 계속 오류가 발생하면 그 지점은 나중에 한꺼번에 재크롤링 할 수 있게 저장하고, 다음 url로 넘어가 이어서 scrape하도록 설계\n",
    "    4. 최종적으로는, 로봇처럼 여겨지지 않도록, 위 3번 방법에 랜덤한 time.sleep을 추가하고 다양한 범위 시도 끝에 많이 느리지 않으면서도 오류가 거의 발생하지 않는 최적의 알고리즘 생성\n",
    "---"
   ]
  },
  {
   "cell_type": "code",
   "execution_count": 1,
   "metadata": {},
   "outputs": [],
   "source": [
    "import pandas as pd\n",
    "import numpy as np\n",
    "import matplotlib.pyplot as plt\n",
    "import seaborn as sns\n",
    "import os\n",
    "import json\n",
    "from datetime import datetime\n",
    "np.random.seed(1)"
   ]
  },
  {
   "cell_type": "code",
   "execution_count": 2,
   "metadata": {
    "scrolled": true
   },
   "outputs": [],
   "source": [
    "# 2015~2019년 연도별로 나누어 크롤링 진행\n",
    "# 여기선 예시로 2019년 과정만 포함\n",
    "\n",
    "ks_2019 = pd.read_csv('./kickstarter_2019.csv')"
   ]
  },
  {
   "cell_type": "code",
   "execution_count": 13,
   "metadata": {
    "scrolled": true
   },
   "outputs": [
    {
     "name": "stdout",
     "output_type": "stream",
     "text": [
      "<class 'pandas.core.frame.DataFrame'>\n",
      "RangeIndex: 44158 entries, 0 to 44157\n",
      "Data columns (total 50 columns):\n",
      "backers_count               44158 non-null int64\n",
      "blurb                       44158 non-null object\n",
      "category                    44158 non-null object\n",
      "category_name               44158 non-null object\n",
      "category_specific           44158 non-null object\n",
      "converted_pledged_amount    44158 non-null int64\n",
      "country                     44158 non-null object\n",
      "country_displayable_name    44158 non-null object\n",
      "created_at                  44158 non-null int64\n",
      "date_created                44158 non-null object\n",
      "creator                     44158 non-null object\n",
      "currency                    44158 non-null object\n",
      "currency_symbol             44158 non-null object\n",
      "currency_trailing_code      44158 non-null bool\n",
      "current_currency            44158 non-null object\n",
      "deadline                    44158 non-null int64\n",
      "date_deadline               44158 non-null object\n",
      "disable_communication       44158 non-null bool\n",
      "friends                     252 non-null object\n",
      "fx_rate                     44158 non-null float64\n",
      "goal                        44158 non-null float64\n",
      "id                          44158 non-null int64\n",
      "is_backing                  252 non-null object\n",
      "is_starrable                44158 non-null bool\n",
      "is_starred                  252 non-null object\n",
      "launched_at                 44158 non-null int64\n",
      "date_launched               44158 non-null object\n",
      "date_launched_year          44158 non-null int64\n",
      "location                    44158 non-null object\n",
      "location_name               44158 non-null object\n",
      "name                        44158 non-null object\n",
      "permissions                 252 non-null object\n",
      "photo                       44158 non-null object\n",
      "photo_link                  44158 non-null object\n",
      "pledged                     44158 non-null float64\n",
      "profile                     44158 non-null object\n",
      "slug                        44158 non-null object\n",
      "source_url                  44158 non-null object\n",
      "spotlight                   44158 non-null bool\n",
      "staff_pick                  44158 non-null bool\n",
      "state                       44158 non-null object\n",
      "state_changed_at            44158 non-null int64\n",
      "date_ended                  44158 non-null object\n",
      "static_usd_rate             44158 non-null float64\n",
      "urls                        44158 non-null object\n",
      "urls_web                    44158 non-null object\n",
      "url_project                 44158 non-null object\n",
      "url_reward                  44158 non-null object\n",
      "usd_pledged                 44158 non-null float64\n",
      "usd_type                    44014 non-null object\n",
      "dtypes: bool(5), float64(5), int64(8), object(32)\n",
      "memory usage: 15.4+ MB\n"
     ]
    }
   ],
   "source": [
    "ks_2019.info()"
   ]
  },
  {
   "cell_type": "code",
   "execution_count": 4,
   "metadata": {
    "scrolled": true
   },
   "outputs": [
    {
     "data": {
      "text/plain": [
       "successful    30002\n",
       "failed         7201\n",
       "live           6063\n",
       "canceled        845\n",
       "suspended        47\n",
       "Name: state, dtype: int64"
      ]
     },
     "execution_count": 4,
     "metadata": {},
     "output_type": "execute_result"
    }
   ],
   "source": [
    "ks_2019['state'].value_counts()"
   ]
  },
  {
   "cell_type": "code",
   "execution_count": 5,
   "metadata": {},
   "outputs": [
    {
     "data": {
      "text/plain": [
       "(37203, 50)"
      ]
     },
     "execution_count": 5,
     "metadata": {},
     "output_type": "execute_result"
    }
   ],
   "source": [
    "# state가 '성공', '실패'인 프로젝트 데이터들만 가져오기\n",
    "success_failed_ks_2019 = ks_2019.loc[ks_2019['state'].isin(['successful','failed'])] \n",
    "success_failed_ks_2019.shape"
   ]
  },
  {
   "cell_type": "code",
   "execution_count": 6,
   "metadata": {},
   "outputs": [
    {
     "data": {
      "text/plain": [
       "0    https://www.kickstarter.com/projects/469036700...\n",
       "1    https://www.kickstarter.com/projects/gplive/gp...\n",
       "2    https://www.kickstarter.com/projects/281093153...\n",
       "3    https://www.kickstarter.com/projects/genesisfi...\n",
       "5    https://www.kickstarter.com/projects/gtsa/free...\n",
       "Name: url_project, dtype: object"
      ]
     },
     "execution_count": 6,
     "metadata": {},
     "output_type": "execute_result"
    }
   ],
   "source": [
    "success_failed_ks_2019['url_project'].head()"
   ]
  },
  {
   "cell_type": "code",
   "execution_count": 8,
   "metadata": {},
   "outputs": [
    {
     "data": {
      "text/plain": [
       "'https://www.kickstarter.com/projects/469036700/louli-a-lecole?ref=discovery_category_newest'"
      ]
     },
     "execution_count": 8,
     "metadata": {},
     "output_type": "execute_result"
    }
   ],
   "source": [
    "success_failed_url = success_failed_ks_2019['url_project']\n",
    "success_failed_url[0]"
   ]
  },
  {
   "cell_type": "code",
   "execution_count": 9,
   "metadata": {},
   "outputs": [
    {
     "data": {
      "text/plain": [
       "pandas.core.series.Series"
      ]
     },
     "execution_count": 9,
     "metadata": {},
     "output_type": "execute_result"
    }
   ],
   "source": [
    "type(success_failed_url)"
   ]
  },
  {
   "cell_type": "code",
   "execution_count": null,
   "metadata": {},
   "outputs": [],
   "source": [
    "# 크롤링 진행\n",
    "\n",
    "import pandas as pd\n",
    "import numpy as np\n",
    "import matplotlib.pyplot as plt\n",
    "import seaborn as sns\n",
    "\n",
    "import os\n",
    "import json\n",
    "from datetime import datetime, timedelta\n",
    "\n",
    "import time\n",
    "import random\n",
    "import requests\n",
    "from bs4 import BeautifulSoup\n",
    "from selenium import webdriver\n",
    "from selenium.webdriver import Chrome\n",
    "from selenium.webdriver import ChromeOptions\n",
    "from selenium.webdriver.common.by import By\n",
    "from selenium.webdriver.support.ui import WebDriverWait\n",
    "from selenium.webdriver.support import expected_conditions as EC\n",
    "\n",
    "options = ChromeOptions()\n",
    "options.add_argument('headless')\n",
    "options.add_argument(\"--user-agent=Mozilla/5.0 (Windows NT 10.0; Win64; x64) AppleWebKit/537.36 (KHTML, like Gecko) Chrome/79.0.3945.117 Safari/537.36\")\n",
    "#path = '/Users/Python/chromedriver'\n",
    "#driver = Chrome(executable_path=path, options=options)\n",
    "driver = Chrome(options=options)\n",
    "\n",
    "filename_contents = 'crawled_content_2019.csv' # 크롤링 성공한 텍스트 데이터 저장할 파일\n",
    "filename_errors = 'ks_middle_errors_2019.csv' # 크롤링 실패한 지점의 데이터 저장할 파일\n",
    "#content_list = []\n",
    "\n",
    "for idx, url in enumerate(url_list):\n",
    "    driver.get(url)\n",
    "    time.sleep(random.uniform(8,20))\n",
    "    req = driver.page_source\n",
    "    soup = BeautifulSoup(req, 'lxml')\n",
    "    try:\n",
    "        # content 텍스트 데이터 수집\n",
    "        content_tag = soup.select_one('div.rte__content')\n",
    "        contents = content_tag.select('p')\n",
    "        contents_collected = []\n",
    "        for c in contents:\n",
    "            content = c.get_text().strip()\n",
    "            contents_collected.append(content) #한 프로젝트의 페이지 내 모든 설명/내용들을 하나로 모으고\n",
    "        # risk and challenge 텍스트 데이터 수집\n",
    "        try:\n",
    "            risk_challenge_tag = soup.select_one('div#risksAndChallenges')\n",
    "            risk_challenge_list = risk_challenge_tag.select('p.js-risks-text.text-preline')\n",
    "            for rc in risk_challenge_list:\n",
    "                risk_challenge = rc.get_text().strip()\n",
    "        except:\n",
    "            risk_challenge=\" \"\n",
    "        \n",
    "        # content_list.append([idx, contents_collected, risk_challenge]) # 크롤링 된 펀딩 내용(텍스트)도 변수에 저장 \n",
    "        \n",
    "        #오류 이후 다음 url로 이어서 크롤링 할 때, index 순서 관계없이 일단 csv파일에 바로 이어서 한줄씩 append (이후 최종 취합 후 index 번호로 정렬)\n",
    "        content_list_since_error = []\n",
    "        content_list_since_error.append([idx, contents_collected, risk_challenge])\n",
    "        pd.DataFrame(content_list_since_error, columns=['index','content','risk_challenge']).to_csv(filename_contents, index=False, header=False, mode='a', encoding='UTF-8')\n",
    "        print(idx) #한 url에 대한 크롤링이 끝날 때마다 해당 index번호 출력\n",
    "    \n",
    "    # 오류 발생시 10번 재시도 \n",
    "    except Exception as ex:\n",
    "        print(\"Unexpected error at {}\".format(idx), ex) #오류 지점 출력\n",
    "        error_url = url\n",
    "        count = 0\n",
    "        while count < 11:\n",
    "            print(\"Retrying:\", count)\n",
    "            driver.get(error_url)\n",
    "            time.sleep(random.uniform(8,20))\n",
    "            req = driver.page_source\n",
    "            soup = BeautifulSoup(req, 'lxml')\n",
    "            try:\n",
    "                content_tag = soup.select_one('div.rte__content')\n",
    "                contents = content_tag.select('p')\n",
    "                contents_collected = []\n",
    "                for c in contents:\n",
    "                    content = c.get_text().strip()\n",
    "                    contents_collected.append(content)\n",
    "                \n",
    "                try:\n",
    "                    risk_challenge_tag = soup.select_one('div#risksAndChallenges')\n",
    "                    risk_challenge_list = risk_challenge_tag.select('p.js-risks-text.text-preline')\n",
    "                    for rc in risk_challenge_list:\n",
    "                        risk_challenge = rc.get_text().strip()\n",
    "                except:\n",
    "                    risk_challenge=\" \"\n",
    "                \n",
    "                #오류 건에 대한 크롤링 재시도에서 크롤링 성공한 텍스트 데이터 csv에 추가/저장\n",
    "                content_list_since_error = [] \n",
    "                content_list_since_error.append([idx, contents_collected, risk_challenge])\n",
    "                pd.DataFrame(content_list_since_error, columns=['index','content','risk_challenge']).to_csv(filename_contents, index=False, header=False, mode='a', encoding='UTF-8')\n",
    "                print(idx)\n",
    "                break\n",
    "                \n",
    "            except Exception as et:\n",
    "                print(\"Error while retrying:\", et)\n",
    "                time.sleep(random.uniform(100,130))\n",
    "                count += 1\n",
    "                continue\n",
    "        \n",
    "        #만약 재시도를 10번 했는데도 크롤링에 실패한다면, 원래 했던대로 오류 index, url, nan값을 csv파일들에 저장\n",
    "        if count == 11:\n",
    "            # content_list.append([idx, error_url, np.nan])\n",
    "            \n",
    "            # 오류 index, url 별도 오류 csv에 저장\n",
    "            error_list = []\n",
    "            error_list.append([idx, error_url])\n",
    "            pd.DataFrame(error_list, columns=['index','error_url']).to_csv(filename_errors, index=False, header=False, mode='a', encoding='UTF-8')\n",
    "            \n",
    "            #오류난 지점에 대한 index, url도 일단은 텍스트 데이터 쌓고있는 csv 파일에 저장 (이후 재크롤링 후 대체)\n",
    "            error_into_saved_csv = []\n",
    "            error_into_saved_csv.append([idx, error_url, np.nan]) # risk_challenge 컬럼에 대한 값은 null로 지정\n",
    "            pd.DataFrame(error_into_saved_csv, columns=['index','content','risk_challenge']).to_csv(filename_contents, index=False, header=False, mode='a', encoding='UTF-8')\n",
    "        \n",
    "        continue\n",
    "    \n",
    "driver.close()"
   ]
  },
  {
   "cell_type": "markdown",
   "metadata": {},
   "source": [
    "### 오류 발생한 건들 다시 크롤링\n",
    "- error index들 다 제거한 crawled content csv파일을 새로 생성했으며, error난 url 데이터 불러와 해당 url들은 다시 크롤링하여 crawled content csv에 append 진행\n",
    "- 다시 크롤링 진행 중 또 발생한 오류는 반복하여 다시 크롤링"
   ]
  },
  {
   "cell_type": "markdown",
   "metadata": {},
   "source": [
    "## 텍스트 데이터 수집 결과\n",
    "- 이러한 과정을 거쳐 각 연도별 텍스트 데이터 수집 완료\n",
    "- 총 수집된 데이터 수/행 : 153,576 (608.5MB)"
   ]
  },
  {
   "cell_type": "code",
   "execution_count": null,
   "metadata": {},
   "outputs": [],
   "source": []
  },
  {
   "cell_type": "markdown",
   "metadata": {},
   "source": [
    "# 5. 데이터셋 정리 - 텍스트 데이터 분리 및 결합<a class=\"anchor\" id = \"c5\"> </a>\n",
    "- 메타 데이터의 텍스트 데이터와 크롤링한 프로젝트 컨텐츠/내용 텍스트 데이터를 같이 처리하기 위함\n",
    "---"
   ]
  },
  {
   "cell_type": "code",
   "execution_count": 2,
   "metadata": {},
   "outputs": [],
   "source": [
    "import pandas as pd\n",
    "import numpy as np\n",
    "import matplotlib.pyplot as plt\n",
    "import seaborn as sns\n",
    "import os\n",
    "import time\n",
    "import random\n",
    "from datetime import datetime, timedelta\n",
    "np.random.seed(1)"
   ]
  },
  {
   "cell_type": "code",
   "execution_count": 3,
   "metadata": {},
   "outputs": [],
   "source": [
    "# 처리한 메타 이터에 name,blurb,photo_url 컬럼 추가를 위한 작업\n",
    "parse_dates=['date_created','date_deadline','date_launched']\n",
    "ks_dataset = pd.read_csv('./ks_overall_dataset.csv', parse_dates=parse_dates)"
   ]
  },
  {
   "cell_type": "code",
   "execution_count": 10,
   "metadata": {
    "scrolled": true
   },
   "outputs": [
    {
     "data": {
      "text/html": [
       "<div>\n",
       "<style scoped>\n",
       "    .dataframe tbody tr th:only-of-type {\n",
       "        vertical-align: middle;\n",
       "    }\n",
       "\n",
       "    .dataframe tbody tr th {\n",
       "        vertical-align: top;\n",
       "    }\n",
       "\n",
       "    .dataframe thead th {\n",
       "        text-align: right;\n",
       "    }\n",
       "</style>\n",
       "<table border=\"1\" class=\"dataframe\">\n",
       "  <thead>\n",
       "    <tr style=\"text-align: right;\">\n",
       "      <th></th>\n",
       "      <th>name</th>\n",
       "      <th>blurb</th>\n",
       "      <th>photo_link</th>\n",
       "    </tr>\n",
       "  </thead>\n",
       "  <tbody>\n",
       "    <tr>\n",
       "      <th>0</th>\n",
       "      <td>Louli à l’école</td>\n",
       "      <td>Un livre enfant pour l’apprentissage des émoti...</td>\n",
       "      <td>https://ksr-ugc.imgix.net/assets/025/618/188/1...</td>\n",
       "    </tr>\n",
       "    <tr>\n",
       "      <th>1</th>\n",
       "      <td>Strange Wit, an original graphic novel about J...</td>\n",
       "      <td>The true biography of the historical figure, w...</td>\n",
       "      <td>https://ksr-ugc.imgix.net/assets/012/216/438/f...</td>\n",
       "    </tr>\n",
       "    <tr>\n",
       "      <th>2</th>\n",
       "      <td>FAM - FIND A MOTIVE MOBILE APP</td>\n",
       "      <td>FAM is the new mobile app which combines event...</td>\n",
       "      <td>https://ksr-ugc.imgix.net/assets/021/506/749/1...</td>\n",
       "    </tr>\n",
       "    <tr>\n",
       "      <th>3</th>\n",
       "      <td>Destiny, NY - FINAL HOURS!</td>\n",
       "      <td>A graphic novel about two magical ladies in love.</td>\n",
       "      <td>https://ksr-ugc.imgix.net/assets/013/616/177/6...</td>\n",
       "    </tr>\n",
       "    <tr>\n",
       "      <th>4</th>\n",
       "      <td>Publishing Magus Magazine</td>\n",
       "      <td>We are publishing a magazine that focuses on t...</td>\n",
       "      <td>https://ksr-ugc.imgix.net/assets/011/292/182/9...</td>\n",
       "    </tr>\n",
       "    <tr>\n",
       "      <th>...</th>\n",
       "      <td>...</td>\n",
       "      <td>...</td>\n",
       "      <td>...</td>\n",
       "    </tr>\n",
       "    <tr>\n",
       "      <th>200227</th>\n",
       "      <td>Making Jenna Bialostosky's awesome debut album.</td>\n",
       "      <td>I'm raising money to make my debut, self-relea...</td>\n",
       "      <td>https://ksr-ugc.imgix.net/assets/011/264/421/7...</td>\n",
       "    </tr>\n",
       "    <tr>\n",
       "      <th>200228</th>\n",
       "      <td>Hoerner Bros Hot Sauce Company startup with a ...</td>\n",
       "      <td>We are starting a hot sauce company from the g...</td>\n",
       "      <td>https://ksr-ugc.imgix.net/assets/021/869/677/f...</td>\n",
       "    </tr>\n",
       "    <tr>\n",
       "      <th>200229</th>\n",
       "      <td>Unpacked Urban Tote</td>\n",
       "      <td>Artist Designed Urban Tote\\nPunKin Apparel by ...</td>\n",
       "      <td>https://ksr-ugc.imgix.net/assets/025/451/684/5...</td>\n",
       "    </tr>\n",
       "    <tr>\n",
       "      <th>200230</th>\n",
       "      <td>The Pumpkin Roll Express/Mean Bean Cafe Express</td>\n",
       "      <td>Looking to expand my pumpkin roll sales to a m...</td>\n",
       "      <td>https://ksr-ugc.imgix.net/assets/011/756/585/c...</td>\n",
       "    </tr>\n",
       "    <tr>\n",
       "      <th>200231</th>\n",
       "      <td>ECO-FRIENDLY MOBILE FARM STAND FOR URBAN FOOD ...</td>\n",
       "      <td>All-electric mobile farm stand for transportin...</td>\n",
       "      <td>https://ksr-ugc.imgix.net/assets/011/534/972/8...</td>\n",
       "    </tr>\n",
       "  </tbody>\n",
       "</table>\n",
       "<p>200232 rows × 3 columns</p>\n",
       "</div>"
      ],
      "text/plain": [
       "                                                     name  \\\n",
       "0                                         Louli à l’école   \n",
       "1       Strange Wit, an original graphic novel about J...   \n",
       "2                          FAM - FIND A MOTIVE MOBILE APP   \n",
       "3                              Destiny, NY - FINAL HOURS!   \n",
       "4                               Publishing Magus Magazine   \n",
       "...                                                   ...   \n",
       "200227    Making Jenna Bialostosky's awesome debut album.   \n",
       "200228  Hoerner Bros Hot Sauce Company startup with a ...   \n",
       "200229                                Unpacked Urban Tote   \n",
       "200230    The Pumpkin Roll Express/Mean Bean Cafe Express   \n",
       "200231  ECO-FRIENDLY MOBILE FARM STAND FOR URBAN FOOD ...   \n",
       "\n",
       "                                                    blurb  \\\n",
       "0       Un livre enfant pour l’apprentissage des émoti...   \n",
       "1       The true biography of the historical figure, w...   \n",
       "2       FAM is the new mobile app which combines event...   \n",
       "3       A graphic novel about two magical ladies in love.   \n",
       "4       We are publishing a magazine that focuses on t...   \n",
       "...                                                   ...   \n",
       "200227  I'm raising money to make my debut, self-relea...   \n",
       "200228  We are starting a hot sauce company from the g...   \n",
       "200229  Artist Designed Urban Tote\\nPunKin Apparel by ...   \n",
       "200230  Looking to expand my pumpkin roll sales to a m...   \n",
       "200231  All-electric mobile farm stand for transportin...   \n",
       "\n",
       "                                               photo_link  \n",
       "0       https://ksr-ugc.imgix.net/assets/025/618/188/1...  \n",
       "1       https://ksr-ugc.imgix.net/assets/012/216/438/f...  \n",
       "2       https://ksr-ugc.imgix.net/assets/021/506/749/1...  \n",
       "3       https://ksr-ugc.imgix.net/assets/013/616/177/6...  \n",
       "4       https://ksr-ugc.imgix.net/assets/011/292/182/9...  \n",
       "...                                                   ...  \n",
       "200227  https://ksr-ugc.imgix.net/assets/011/264/421/7...  \n",
       "200228  https://ksr-ugc.imgix.net/assets/021/869/677/f...  \n",
       "200229  https://ksr-ugc.imgix.net/assets/025/451/684/5...  \n",
       "200230  https://ksr-ugc.imgix.net/assets/011/756/585/c...  \n",
       "200231  https://ksr-ugc.imgix.net/assets/011/534/972/8...  \n",
       "\n",
       "[200232 rows x 3 columns]"
      ]
     },
     "execution_count": 10,
     "metadata": {},
     "output_type": "execute_result"
    }
   ],
   "source": [
    "ks_dataset[['name','blurb','photo_link']]\n",
    "# 추가) photo 2015~2019년 다시 크롤링 하기위해 'photo_link' 컬럼 가져오기"
   ]
  },
  {
   "cell_type": "code",
   "execution_count": 19,
   "metadata": {},
   "outputs": [],
   "source": [
    "# meta dataset에 name, blurb 컬럼 추가\n",
    "ks_meta = pd.read_csv('./ks_meta_dataset.csv')\n",
    "ks_meta[['name','blurb','photo_url']] = ks_dataset[['name','blurb','photo_link']]"
   ]
  },
  {
   "cell_type": "code",
   "execution_count": 20,
   "metadata": {},
   "outputs": [
    {
     "name": "stdout",
     "output_type": "stream",
     "text": [
      "<class 'pandas.core.frame.DataFrame'>\n",
      "RangeIndex: 200232 entries, 0 to 200231\n",
      "Data columns (total 15 columns):\n",
      "category_name               200232 non-null object\n",
      "location_name               200025 non-null object\n",
      "country_displayable_name    200232 non-null object\n",
      "usd_goal                    200232 non-null float64\n",
      "set_fundraising_period      200232 non-null int64\n",
      "target_goal_period_rate     200232 non-null float64\n",
      "date_launched_year          200232 non-null int64\n",
      "date_launched_month         200232 non-null int64\n",
      "launching_delay_time        200232 non-null int64\n",
      "disable_communication       200232 non-null bool\n",
      "is_starrable                200232 non-null bool\n",
      "state                       200232 non-null object\n",
      "name                        200232 non-null object\n",
      "blurb                       200230 non-null object\n",
      "photo_url                   200232 non-null object\n",
      "dtypes: bool(2), float64(2), int64(4), object(7)\n",
      "memory usage: 20.2+ MB\n"
     ]
    }
   ],
   "source": [
    "ks_meta.info()"
   ]
  },
  {
   "cell_type": "code",
   "execution_count": 21,
   "metadata": {
    "scrolled": true
   },
   "outputs": [
    {
     "data": {
      "text/html": [
       "<div>\n",
       "<style scoped>\n",
       "    .dataframe tbody tr th:only-of-type {\n",
       "        vertical-align: middle;\n",
       "    }\n",
       "\n",
       "    .dataframe tbody tr th {\n",
       "        vertical-align: top;\n",
       "    }\n",
       "\n",
       "    .dataframe thead th {\n",
       "        text-align: right;\n",
       "    }\n",
       "</style>\n",
       "<table border=\"1\" class=\"dataframe\">\n",
       "  <thead>\n",
       "    <tr style=\"text-align: right;\">\n",
       "      <th></th>\n",
       "      <th>category_name</th>\n",
       "      <th>location_name</th>\n",
       "      <th>country_displayable_name</th>\n",
       "      <th>usd_goal</th>\n",
       "      <th>set_fundraising_period</th>\n",
       "      <th>target_goal_period_rate</th>\n",
       "      <th>date_launched_year</th>\n",
       "      <th>date_launched_month</th>\n",
       "      <th>launching_delay_time</th>\n",
       "      <th>disable_communication</th>\n",
       "      <th>is_starrable</th>\n",
       "      <th>state</th>\n",
       "      <th>name</th>\n",
       "      <th>blurb</th>\n",
       "      <th>photo_url</th>\n",
       "    </tr>\n",
       "  </thead>\n",
       "  <tbody>\n",
       "    <tr>\n",
       "      <th>0</th>\n",
       "      <td>Children's Books</td>\n",
       "      <td>Ste.-Maxime</td>\n",
       "      <td>France</td>\n",
       "      <td>684.396336</td>\n",
       "      <td>5184000</td>\n",
       "      <td>0.000132</td>\n",
       "      <td>2019</td>\n",
       "      <td>6</td>\n",
       "      <td>5548</td>\n",
       "      <td>False</td>\n",
       "      <td>False</td>\n",
       "      <td>successful</td>\n",
       "      <td>Louli à l’école</td>\n",
       "      <td>Un livre enfant pour l’apprentissage des émoti...</td>\n",
       "      <td>https://ksr-ugc.imgix.net/assets/025/618/188/1...</td>\n",
       "    </tr>\n",
       "    <tr>\n",
       "      <th>1</th>\n",
       "      <td>Graphic Novels</td>\n",
       "      <td>Minneapolis</td>\n",
       "      <td>the United States</td>\n",
       "      <td>12000.000000</td>\n",
       "      <td>2592000</td>\n",
       "      <td>0.004630</td>\n",
       "      <td>2015</td>\n",
       "      <td>8</td>\n",
       "      <td>871654</td>\n",
       "      <td>False</td>\n",
       "      <td>False</td>\n",
       "      <td>successful</td>\n",
       "      <td>Strange Wit, an original graphic novel about J...</td>\n",
       "      <td>The true biography of the historical figure, w...</td>\n",
       "      <td>https://ksr-ugc.imgix.net/assets/012/216/438/f...</td>\n",
       "    </tr>\n",
       "    <tr>\n",
       "      <th>2</th>\n",
       "      <td>Apps</td>\n",
       "      <td>London</td>\n",
       "      <td>the United Kingdom</td>\n",
       "      <td>132713.121000</td>\n",
       "      <td>5184000</td>\n",
       "      <td>0.025601</td>\n",
       "      <td>2018</td>\n",
       "      <td>6</td>\n",
       "      <td>1021832</td>\n",
       "      <td>False</td>\n",
       "      <td>False</td>\n",
       "      <td>failed</td>\n",
       "      <td>FAM - FIND A MOTIVE MOBILE APP</td>\n",
       "      <td>FAM is the new mobile app which combines event...</td>\n",
       "      <td>https://ksr-ugc.imgix.net/assets/021/506/749/1...</td>\n",
       "    </tr>\n",
       "    <tr>\n",
       "      <th>3</th>\n",
       "      <td>Graphic Novels</td>\n",
       "      <td>New York</td>\n",
       "      <td>the United States</td>\n",
       "      <td>20000.000000</td>\n",
       "      <td>2565470</td>\n",
       "      <td>0.007796</td>\n",
       "      <td>2016</td>\n",
       "      <td>10</td>\n",
       "      <td>2414894</td>\n",
       "      <td>False</td>\n",
       "      <td>False</td>\n",
       "      <td>successful</td>\n",
       "      <td>Destiny, NY - FINAL HOURS!</td>\n",
       "      <td>A graphic novel about two magical ladies in love.</td>\n",
       "      <td>https://ksr-ugc.imgix.net/assets/013/616/177/6...</td>\n",
       "    </tr>\n",
       "    <tr>\n",
       "      <th>4</th>\n",
       "      <td>Periodicals</td>\n",
       "      <td>Logan</td>\n",
       "      <td>the United States</td>\n",
       "      <td>5000.000000</td>\n",
       "      <td>2592000</td>\n",
       "      <td>0.001929</td>\n",
       "      <td>2011</td>\n",
       "      <td>9</td>\n",
       "      <td>4453735</td>\n",
       "      <td>False</td>\n",
       "      <td>False</td>\n",
       "      <td>failed</td>\n",
       "      <td>Publishing Magus Magazine</td>\n",
       "      <td>We are publishing a magazine that focuses on t...</td>\n",
       "      <td>https://ksr-ugc.imgix.net/assets/011/292/182/9...</td>\n",
       "    </tr>\n",
       "    <tr>\n",
       "      <th>...</th>\n",
       "      <td>...</td>\n",
       "      <td>...</td>\n",
       "      <td>...</td>\n",
       "      <td>...</td>\n",
       "      <td>...</td>\n",
       "      <td>...</td>\n",
       "      <td>...</td>\n",
       "      <td>...</td>\n",
       "      <td>...</td>\n",
       "      <td>...</td>\n",
       "      <td>...</td>\n",
       "      <td>...</td>\n",
       "      <td>...</td>\n",
       "      <td>...</td>\n",
       "      <td>...</td>\n",
       "    </tr>\n",
       "    <tr>\n",
       "      <th>200227</th>\n",
       "      <td>Jazz</td>\n",
       "      <td>Glendale</td>\n",
       "      <td>the United States</td>\n",
       "      <td>3000.000000</td>\n",
       "      <td>4664051</td>\n",
       "      <td>0.000643</td>\n",
       "      <td>2010</td>\n",
       "      <td>7</td>\n",
       "      <td>7533</td>\n",
       "      <td>False</td>\n",
       "      <td>False</td>\n",
       "      <td>failed</td>\n",
       "      <td>Making Jenna Bialostosky's awesome debut album.</td>\n",
       "      <td>I'm raising money to make my debut, self-relea...</td>\n",
       "      <td>https://ksr-ugc.imgix.net/assets/011/264/421/7...</td>\n",
       "    </tr>\n",
       "    <tr>\n",
       "      <th>200228</th>\n",
       "      <td>Small Batch</td>\n",
       "      <td>Tampa</td>\n",
       "      <td>the United States</td>\n",
       "      <td>5000.000000</td>\n",
       "      <td>3888000</td>\n",
       "      <td>0.001286</td>\n",
       "      <td>2018</td>\n",
       "      <td>7</td>\n",
       "      <td>93710</td>\n",
       "      <td>False</td>\n",
       "      <td>False</td>\n",
       "      <td>failed</td>\n",
       "      <td>Hoerner Bros Hot Sauce Company startup with a ...</td>\n",
       "      <td>We are starting a hot sauce company from the g...</td>\n",
       "      <td>https://ksr-ugc.imgix.net/assets/021/869/677/f...</td>\n",
       "    </tr>\n",
       "    <tr>\n",
       "      <th>200229</th>\n",
       "      <td>Textiles</td>\n",
       "      <td>Seattle</td>\n",
       "      <td>the United States</td>\n",
       "      <td>700.000000</td>\n",
       "      <td>2657079</td>\n",
       "      <td>0.000263</td>\n",
       "      <td>2019</td>\n",
       "      <td>6</td>\n",
       "      <td>2568846</td>\n",
       "      <td>False</td>\n",
       "      <td>False</td>\n",
       "      <td>failed</td>\n",
       "      <td>Unpacked Urban Tote</td>\n",
       "      <td>Artist Designed Urban Tote\\nPunKin Apparel by ...</td>\n",
       "      <td>https://ksr-ugc.imgix.net/assets/025/451/684/5...</td>\n",
       "    </tr>\n",
       "    <tr>\n",
       "      <th>200230</th>\n",
       "      <td>Food Trucks</td>\n",
       "      <td>Locust Grove</td>\n",
       "      <td>the United States</td>\n",
       "      <td>20000.000000</td>\n",
       "      <td>3551605</td>\n",
       "      <td>0.005631</td>\n",
       "      <td>2014</td>\n",
       "      <td>7</td>\n",
       "      <td>1113986</td>\n",
       "      <td>False</td>\n",
       "      <td>False</td>\n",
       "      <td>failed</td>\n",
       "      <td>The Pumpkin Roll Express/Mean Bean Cafe Express</td>\n",
       "      <td>Looking to expand my pumpkin roll sales to a m...</td>\n",
       "      <td>https://ksr-ugc.imgix.net/assets/011/756/585/c...</td>\n",
       "    </tr>\n",
       "    <tr>\n",
       "      <th>200231</th>\n",
       "      <td>Farmer's Markets</td>\n",
       "      <td>Chicago</td>\n",
       "      <td>the United States</td>\n",
       "      <td>19000.000000</td>\n",
       "      <td>2592000</td>\n",
       "      <td>0.007330</td>\n",
       "      <td>2015</td>\n",
       "      <td>3</td>\n",
       "      <td>55220829</td>\n",
       "      <td>False</td>\n",
       "      <td>False</td>\n",
       "      <td>failed</td>\n",
       "      <td>ECO-FRIENDLY MOBILE FARM STAND FOR URBAN FOOD ...</td>\n",
       "      <td>All-electric mobile farm stand for transportin...</td>\n",
       "      <td>https://ksr-ugc.imgix.net/assets/011/534/972/8...</td>\n",
       "    </tr>\n",
       "  </tbody>\n",
       "</table>\n",
       "<p>200232 rows × 15 columns</p>\n",
       "</div>"
      ],
      "text/plain": [
       "           category_name location_name country_displayable_name  \\\n",
       "0       Children's Books   Ste.-Maxime                   France   \n",
       "1         Graphic Novels   Minneapolis        the United States   \n",
       "2                   Apps        London       the United Kingdom   \n",
       "3         Graphic Novels      New York        the United States   \n",
       "4            Periodicals         Logan        the United States   \n",
       "...                  ...           ...                      ...   \n",
       "200227              Jazz      Glendale        the United States   \n",
       "200228       Small Batch         Tampa        the United States   \n",
       "200229          Textiles       Seattle        the United States   \n",
       "200230       Food Trucks  Locust Grove        the United States   \n",
       "200231  Farmer's Markets       Chicago        the United States   \n",
       "\n",
       "             usd_goal  set_fundraising_period  target_goal_period_rate  \\\n",
       "0          684.396336                 5184000                 0.000132   \n",
       "1        12000.000000                 2592000                 0.004630   \n",
       "2       132713.121000                 5184000                 0.025601   \n",
       "3        20000.000000                 2565470                 0.007796   \n",
       "4         5000.000000                 2592000                 0.001929   \n",
       "...               ...                     ...                      ...   \n",
       "200227    3000.000000                 4664051                 0.000643   \n",
       "200228    5000.000000                 3888000                 0.001286   \n",
       "200229     700.000000                 2657079                 0.000263   \n",
       "200230   20000.000000                 3551605                 0.005631   \n",
       "200231   19000.000000                 2592000                 0.007330   \n",
       "\n",
       "        date_launched_year  date_launched_month  launching_delay_time  \\\n",
       "0                     2019                    6                  5548   \n",
       "1                     2015                    8                871654   \n",
       "2                     2018                    6               1021832   \n",
       "3                     2016                   10               2414894   \n",
       "4                     2011                    9               4453735   \n",
       "...                    ...                  ...                   ...   \n",
       "200227                2010                    7                  7533   \n",
       "200228                2018                    7                 93710   \n",
       "200229                2019                    6               2568846   \n",
       "200230                2014                    7               1113986   \n",
       "200231                2015                    3              55220829   \n",
       "\n",
       "        disable_communication  is_starrable       state  \\\n",
       "0                       False         False  successful   \n",
       "1                       False         False  successful   \n",
       "2                       False         False      failed   \n",
       "3                       False         False  successful   \n",
       "4                       False         False      failed   \n",
       "...                       ...           ...         ...   \n",
       "200227                  False         False      failed   \n",
       "200228                  False         False      failed   \n",
       "200229                  False         False      failed   \n",
       "200230                  False         False      failed   \n",
       "200231                  False         False      failed   \n",
       "\n",
       "                                                     name  \\\n",
       "0                                         Louli à l’école   \n",
       "1       Strange Wit, an original graphic novel about J...   \n",
       "2                          FAM - FIND A MOTIVE MOBILE APP   \n",
       "3                              Destiny, NY - FINAL HOURS!   \n",
       "4                               Publishing Magus Magazine   \n",
       "...                                                   ...   \n",
       "200227    Making Jenna Bialostosky's awesome debut album.   \n",
       "200228  Hoerner Bros Hot Sauce Company startup with a ...   \n",
       "200229                                Unpacked Urban Tote   \n",
       "200230    The Pumpkin Roll Express/Mean Bean Cafe Express   \n",
       "200231  ECO-FRIENDLY MOBILE FARM STAND FOR URBAN FOOD ...   \n",
       "\n",
       "                                                    blurb  \\\n",
       "0       Un livre enfant pour l’apprentissage des émoti...   \n",
       "1       The true biography of the historical figure, w...   \n",
       "2       FAM is the new mobile app which combines event...   \n",
       "3       A graphic novel about two magical ladies in love.   \n",
       "4       We are publishing a magazine that focuses on t...   \n",
       "...                                                   ...   \n",
       "200227  I'm raising money to make my debut, self-relea...   \n",
       "200228  We are starting a hot sauce company from the g...   \n",
       "200229  Artist Designed Urban Tote\\nPunKin Apparel by ...   \n",
       "200230  Looking to expand my pumpkin roll sales to a m...   \n",
       "200231  All-electric mobile farm stand for transportin...   \n",
       "\n",
       "                                                photo_url  \n",
       "0       https://ksr-ugc.imgix.net/assets/025/618/188/1...  \n",
       "1       https://ksr-ugc.imgix.net/assets/012/216/438/f...  \n",
       "2       https://ksr-ugc.imgix.net/assets/021/506/749/1...  \n",
       "3       https://ksr-ugc.imgix.net/assets/013/616/177/6...  \n",
       "4       https://ksr-ugc.imgix.net/assets/011/292/182/9...  \n",
       "...                                                   ...  \n",
       "200227  https://ksr-ugc.imgix.net/assets/011/264/421/7...  \n",
       "200228  https://ksr-ugc.imgix.net/assets/021/869/677/f...  \n",
       "200229  https://ksr-ugc.imgix.net/assets/025/451/684/5...  \n",
       "200230  https://ksr-ugc.imgix.net/assets/011/756/585/c...  \n",
       "200231  https://ksr-ugc.imgix.net/assets/011/534/972/8...  \n",
       "\n",
       "[200232 rows x 15 columns]"
      ]
     },
     "execution_count": 21,
     "metadata": {},
     "output_type": "execute_result"
    }
   ],
   "source": [
    "ks_meta"
   ]
  },
  {
   "cell_type": "markdown",
   "metadata": {},
   "source": [
    "## - 2015~2019년 meta data만 가져오기"
   ]
  },
  {
   "cell_type": "code",
   "execution_count": 22,
   "metadata": {
    "scrolled": true
   },
   "outputs": [
    {
     "data": {
      "text/html": [
       "<div>\n",
       "<style scoped>\n",
       "    .dataframe tbody tr th:only-of-type {\n",
       "        vertical-align: middle;\n",
       "    }\n",
       "\n",
       "    .dataframe tbody tr th {\n",
       "        vertical-align: top;\n",
       "    }\n",
       "\n",
       "    .dataframe thead th {\n",
       "        text-align: right;\n",
       "    }\n",
       "</style>\n",
       "<table border=\"1\" class=\"dataframe\">\n",
       "  <thead>\n",
       "    <tr style=\"text-align: right;\">\n",
       "      <th></th>\n",
       "      <th>category_name</th>\n",
       "      <th>location_name</th>\n",
       "      <th>country_displayable_name</th>\n",
       "      <th>usd_goal</th>\n",
       "      <th>set_fundraising_period</th>\n",
       "      <th>target_goal_period_rate</th>\n",
       "      <th>date_launched_year</th>\n",
       "      <th>date_launched_month</th>\n",
       "      <th>launching_delay_time</th>\n",
       "      <th>disable_communication</th>\n",
       "      <th>is_starrable</th>\n",
       "      <th>state</th>\n",
       "      <th>name</th>\n",
       "      <th>blurb</th>\n",
       "      <th>photo_url</th>\n",
       "    </tr>\n",
       "  </thead>\n",
       "  <tbody>\n",
       "    <tr>\n",
       "      <th>0</th>\n",
       "      <td>Children's Books</td>\n",
       "      <td>Ste.-Maxime</td>\n",
       "      <td>France</td>\n",
       "      <td>684.396336</td>\n",
       "      <td>5184000</td>\n",
       "      <td>0.000132</td>\n",
       "      <td>2019</td>\n",
       "      <td>6</td>\n",
       "      <td>5548</td>\n",
       "      <td>False</td>\n",
       "      <td>False</td>\n",
       "      <td>successful</td>\n",
       "      <td>Louli à l’école</td>\n",
       "      <td>Un livre enfant pour l’apprentissage des émoti...</td>\n",
       "      <td>https://ksr-ugc.imgix.net/assets/025/618/188/1...</td>\n",
       "    </tr>\n",
       "    <tr>\n",
       "      <th>1</th>\n",
       "      <td>Graphic Novels</td>\n",
       "      <td>Minneapolis</td>\n",
       "      <td>the United States</td>\n",
       "      <td>12000.000000</td>\n",
       "      <td>2592000</td>\n",
       "      <td>0.004630</td>\n",
       "      <td>2015</td>\n",
       "      <td>8</td>\n",
       "      <td>871654</td>\n",
       "      <td>False</td>\n",
       "      <td>False</td>\n",
       "      <td>successful</td>\n",
       "      <td>Strange Wit, an original graphic novel about J...</td>\n",
       "      <td>The true biography of the historical figure, w...</td>\n",
       "      <td>https://ksr-ugc.imgix.net/assets/012/216/438/f...</td>\n",
       "    </tr>\n",
       "    <tr>\n",
       "      <th>2</th>\n",
       "      <td>Apps</td>\n",
       "      <td>London</td>\n",
       "      <td>the United Kingdom</td>\n",
       "      <td>132713.121000</td>\n",
       "      <td>5184000</td>\n",
       "      <td>0.025601</td>\n",
       "      <td>2018</td>\n",
       "      <td>6</td>\n",
       "      <td>1021832</td>\n",
       "      <td>False</td>\n",
       "      <td>False</td>\n",
       "      <td>failed</td>\n",
       "      <td>FAM - FIND A MOTIVE MOBILE APP</td>\n",
       "      <td>FAM is the new mobile app which combines event...</td>\n",
       "      <td>https://ksr-ugc.imgix.net/assets/021/506/749/1...</td>\n",
       "    </tr>\n",
       "    <tr>\n",
       "      <th>3</th>\n",
       "      <td>Graphic Novels</td>\n",
       "      <td>New York</td>\n",
       "      <td>the United States</td>\n",
       "      <td>20000.000000</td>\n",
       "      <td>2565470</td>\n",
       "      <td>0.007796</td>\n",
       "      <td>2016</td>\n",
       "      <td>10</td>\n",
       "      <td>2414894</td>\n",
       "      <td>False</td>\n",
       "      <td>False</td>\n",
       "      <td>successful</td>\n",
       "      <td>Destiny, NY - FINAL HOURS!</td>\n",
       "      <td>A graphic novel about two magical ladies in love.</td>\n",
       "      <td>https://ksr-ugc.imgix.net/assets/013/616/177/6...</td>\n",
       "    </tr>\n",
       "    <tr>\n",
       "      <th>5</th>\n",
       "      <td>Drama</td>\n",
       "      <td>Sydney</td>\n",
       "      <td>Australia</td>\n",
       "      <td>72438.903150</td>\n",
       "      <td>2592000</td>\n",
       "      <td>0.027947</td>\n",
       "      <td>2016</td>\n",
       "      <td>8</td>\n",
       "      <td>1698096</td>\n",
       "      <td>False</td>\n",
       "      <td>False</td>\n",
       "      <td>failed</td>\n",
       "      <td>The Fishbowl</td>\n",
       "      <td>A dark and magical film set in a brothel, an u...</td>\n",
       "      <td>https://ksr-ugc.imgix.net/assets/013/261/634/e...</td>\n",
       "    </tr>\n",
       "    <tr>\n",
       "      <th>...</th>\n",
       "      <td>...</td>\n",
       "      <td>...</td>\n",
       "      <td>...</td>\n",
       "      <td>...</td>\n",
       "      <td>...</td>\n",
       "      <td>...</td>\n",
       "      <td>...</td>\n",
       "      <td>...</td>\n",
       "      <td>...</td>\n",
       "      <td>...</td>\n",
       "      <td>...</td>\n",
       "      <td>...</td>\n",
       "      <td>...</td>\n",
       "      <td>...</td>\n",
       "      <td>...</td>\n",
       "    </tr>\n",
       "    <tr>\n",
       "      <th>200225</th>\n",
       "      <td>Metal</td>\n",
       "      <td>Victoria</td>\n",
       "      <td>Canada</td>\n",
       "      <td>2993.848400</td>\n",
       "      <td>5184000</td>\n",
       "      <td>0.000578</td>\n",
       "      <td>2015</td>\n",
       "      <td>12</td>\n",
       "      <td>339075</td>\n",
       "      <td>False</td>\n",
       "      <td>False</td>\n",
       "      <td>successful</td>\n",
       "      <td>Torrefy's new full length album \"The Infinity ...</td>\n",
       "      <td>Torrefy needs your help printing the first run...</td>\n",
       "      <td>https://ksr-ugc.imgix.net/assets/012/323/157/e...</td>\n",
       "    </tr>\n",
       "    <tr>\n",
       "      <th>200226</th>\n",
       "      <td>Faith</td>\n",
       "      <td>Washington</td>\n",
       "      <td>the United States</td>\n",
       "      <td>20000.000000</td>\n",
       "      <td>5011887</td>\n",
       "      <td>0.003991</td>\n",
       "      <td>2019</td>\n",
       "      <td>4</td>\n",
       "      <td>2599879</td>\n",
       "      <td>False</td>\n",
       "      <td>False</td>\n",
       "      <td>failed</td>\n",
       "      <td>Giving hope to people across the globe through...</td>\n",
       "      <td>God has blessed me with more than 60,000 downl...</td>\n",
       "      <td>https://ksr-ugc.imgix.net/assets/024/571/820/2...</td>\n",
       "    </tr>\n",
       "    <tr>\n",
       "      <th>200228</th>\n",
       "      <td>Small Batch</td>\n",
       "      <td>Tampa</td>\n",
       "      <td>the United States</td>\n",
       "      <td>5000.000000</td>\n",
       "      <td>3888000</td>\n",
       "      <td>0.001286</td>\n",
       "      <td>2018</td>\n",
       "      <td>7</td>\n",
       "      <td>93710</td>\n",
       "      <td>False</td>\n",
       "      <td>False</td>\n",
       "      <td>failed</td>\n",
       "      <td>Hoerner Bros Hot Sauce Company startup with a ...</td>\n",
       "      <td>We are starting a hot sauce company from the g...</td>\n",
       "      <td>https://ksr-ugc.imgix.net/assets/021/869/677/f...</td>\n",
       "    </tr>\n",
       "    <tr>\n",
       "      <th>200229</th>\n",
       "      <td>Textiles</td>\n",
       "      <td>Seattle</td>\n",
       "      <td>the United States</td>\n",
       "      <td>700.000000</td>\n",
       "      <td>2657079</td>\n",
       "      <td>0.000263</td>\n",
       "      <td>2019</td>\n",
       "      <td>6</td>\n",
       "      <td>2568846</td>\n",
       "      <td>False</td>\n",
       "      <td>False</td>\n",
       "      <td>failed</td>\n",
       "      <td>Unpacked Urban Tote</td>\n",
       "      <td>Artist Designed Urban Tote\\nPunKin Apparel by ...</td>\n",
       "      <td>https://ksr-ugc.imgix.net/assets/025/451/684/5...</td>\n",
       "    </tr>\n",
       "    <tr>\n",
       "      <th>200231</th>\n",
       "      <td>Farmer's Markets</td>\n",
       "      <td>Chicago</td>\n",
       "      <td>the United States</td>\n",
       "      <td>19000.000000</td>\n",
       "      <td>2592000</td>\n",
       "      <td>0.007330</td>\n",
       "      <td>2015</td>\n",
       "      <td>3</td>\n",
       "      <td>55220829</td>\n",
       "      <td>False</td>\n",
       "      <td>False</td>\n",
       "      <td>failed</td>\n",
       "      <td>ECO-FRIENDLY MOBILE FARM STAND FOR URBAN FOOD ...</td>\n",
       "      <td>All-electric mobile farm stand for transportin...</td>\n",
       "      <td>https://ksr-ugc.imgix.net/assets/011/534/972/8...</td>\n",
       "    </tr>\n",
       "  </tbody>\n",
       "</table>\n",
       "<p>153576 rows × 15 columns</p>\n",
       "</div>"
      ],
      "text/plain": [
       "           category_name location_name country_displayable_name  \\\n",
       "0       Children's Books   Ste.-Maxime                   France   \n",
       "1         Graphic Novels   Minneapolis        the United States   \n",
       "2                   Apps        London       the United Kingdom   \n",
       "3         Graphic Novels      New York        the United States   \n",
       "5                  Drama        Sydney                Australia   \n",
       "...                  ...           ...                      ...   \n",
       "200225             Metal      Victoria                   Canada   \n",
       "200226             Faith    Washington        the United States   \n",
       "200228       Small Batch         Tampa        the United States   \n",
       "200229          Textiles       Seattle        the United States   \n",
       "200231  Farmer's Markets       Chicago        the United States   \n",
       "\n",
       "             usd_goal  set_fundraising_period  target_goal_period_rate  \\\n",
       "0          684.396336                 5184000                 0.000132   \n",
       "1        12000.000000                 2592000                 0.004630   \n",
       "2       132713.121000                 5184000                 0.025601   \n",
       "3        20000.000000                 2565470                 0.007796   \n",
       "5        72438.903150                 2592000                 0.027947   \n",
       "...               ...                     ...                      ...   \n",
       "200225    2993.848400                 5184000                 0.000578   \n",
       "200226   20000.000000                 5011887                 0.003991   \n",
       "200228    5000.000000                 3888000                 0.001286   \n",
       "200229     700.000000                 2657079                 0.000263   \n",
       "200231   19000.000000                 2592000                 0.007330   \n",
       "\n",
       "        date_launched_year  date_launched_month  launching_delay_time  \\\n",
       "0                     2019                    6                  5548   \n",
       "1                     2015                    8                871654   \n",
       "2                     2018                    6               1021832   \n",
       "3                     2016                   10               2414894   \n",
       "5                     2016                    8               1698096   \n",
       "...                    ...                  ...                   ...   \n",
       "200225                2015                   12                339075   \n",
       "200226                2019                    4               2599879   \n",
       "200228                2018                    7                 93710   \n",
       "200229                2019                    6               2568846   \n",
       "200231                2015                    3              55220829   \n",
       "\n",
       "        disable_communication  is_starrable       state  \\\n",
       "0                       False         False  successful   \n",
       "1                       False         False  successful   \n",
       "2                       False         False      failed   \n",
       "3                       False         False  successful   \n",
       "5                       False         False      failed   \n",
       "...                       ...           ...         ...   \n",
       "200225                  False         False  successful   \n",
       "200226                  False         False      failed   \n",
       "200228                  False         False      failed   \n",
       "200229                  False         False      failed   \n",
       "200231                  False         False      failed   \n",
       "\n",
       "                                                     name  \\\n",
       "0                                         Louli à l’école   \n",
       "1       Strange Wit, an original graphic novel about J...   \n",
       "2                          FAM - FIND A MOTIVE MOBILE APP   \n",
       "3                              Destiny, NY - FINAL HOURS!   \n",
       "5                                            The Fishbowl   \n",
       "...                                                   ...   \n",
       "200225  Torrefy's new full length album \"The Infinity ...   \n",
       "200226  Giving hope to people across the globe through...   \n",
       "200228  Hoerner Bros Hot Sauce Company startup with a ...   \n",
       "200229                                Unpacked Urban Tote   \n",
       "200231  ECO-FRIENDLY MOBILE FARM STAND FOR URBAN FOOD ...   \n",
       "\n",
       "                                                    blurb  \\\n",
       "0       Un livre enfant pour l’apprentissage des émoti...   \n",
       "1       The true biography of the historical figure, w...   \n",
       "2       FAM is the new mobile app which combines event...   \n",
       "3       A graphic novel about two magical ladies in love.   \n",
       "5       A dark and magical film set in a brothel, an u...   \n",
       "...                                                   ...   \n",
       "200225  Torrefy needs your help printing the first run...   \n",
       "200226  God has blessed me with more than 60,000 downl...   \n",
       "200228  We are starting a hot sauce company from the g...   \n",
       "200229  Artist Designed Urban Tote\\nPunKin Apparel by ...   \n",
       "200231  All-electric mobile farm stand for transportin...   \n",
       "\n",
       "                                                photo_url  \n",
       "0       https://ksr-ugc.imgix.net/assets/025/618/188/1...  \n",
       "1       https://ksr-ugc.imgix.net/assets/012/216/438/f...  \n",
       "2       https://ksr-ugc.imgix.net/assets/021/506/749/1...  \n",
       "3       https://ksr-ugc.imgix.net/assets/013/616/177/6...  \n",
       "5       https://ksr-ugc.imgix.net/assets/013/261/634/e...  \n",
       "...                                                   ...  \n",
       "200225  https://ksr-ugc.imgix.net/assets/012/323/157/e...  \n",
       "200226  https://ksr-ugc.imgix.net/assets/024/571/820/2...  \n",
       "200228  https://ksr-ugc.imgix.net/assets/021/869/677/f...  \n",
       "200229  https://ksr-ugc.imgix.net/assets/025/451/684/5...  \n",
       "200231  https://ksr-ugc.imgix.net/assets/011/534/972/8...  \n",
       "\n",
       "[153576 rows x 15 columns]"
      ]
     },
     "execution_count": 22,
     "metadata": {},
     "output_type": "execute_result"
    }
   ],
   "source": [
    "ks_meta_2015_2019 = ks_meta[ks_meta['date_launched_year'].isin([2015,2016,2017,2018,2019])]\n",
    "ks_meta_2015_2019"
   ]
  },
  {
   "cell_type": "code",
   "execution_count": 23,
   "metadata": {},
   "outputs": [],
   "source": [
    "ks_meta_2015_2019.to_csv('./data_2015_2019/ks_meta_2015_2019_with_name_blurb_photo_url.csv', index=False, encoding='utf-8')\n",
    "# ks_meta_2015_2019_indexed.to_csv('ks_meta_2015_2019_with_index.csv', index=False, encoding='utf-8')"
   ]
  },
  {
   "cell_type": "code",
   "execution_count": 24,
   "metadata": {},
   "outputs": [
    {
     "data": {
      "text/plain": [
       "successful    93112\n",
       "failed        60464\n",
       "Name: state, dtype: int64"
      ]
     },
     "execution_count": 24,
     "metadata": {},
     "output_type": "execute_result"
    }
   ],
   "source": [
    "ks_meta_2015_2019['state'].value_counts()"
   ]
  },
  {
   "cell_type": "code",
   "execution_count": null,
   "metadata": {},
   "outputs": [],
   "source": [
    "# 일단 각 년도별 메타데이터셋에 content crawl한거 붙이고 (index에 맞춰서)\n",
    "# 그리고 그것들을 concat해버리기\n",
    "# 굳이 원래 큰 데이터셋에 맞출필요 없잖아?"
   ]
  },
  {
   "cell_type": "markdown",
   "metadata": {},
   "source": [
    "## - 2015~2019 연도별 메타 데이터 저장"
   ]
  },
  {
   "cell_type": "code",
   "execution_count": 34,
   "metadata": {},
   "outputs": [],
   "source": [
    "ks_meta_2015 = ks_meta_2015_2019[ks_meta_2015_2019['date_launched_year'] == 2015]\n",
    "ks_meta_2015.reset_index(drop=True, inplace=True) # index 재정렬\n",
    "\n",
    "ks_meta_2016 = ks_meta_2015_2019[ks_meta_2015_2019['date_launched_year'] == 2016]\n",
    "ks_meta_2016.reset_index(drop=True, inplace=True)\n",
    "\n",
    "ks_meta_2017 = ks_meta_2015_2019[ks_meta_2015_2019['date_launched_year'] == 2017]\n",
    "ks_meta_2017.reset_index(drop=True, inplace=True)\n",
    "\n",
    "ks_meta_2018 = ks_meta_2015_2019[ks_meta_2015_2019['date_launched_year'] == 2018]\n",
    "ks_meta_2018.reset_index(drop=True, inplace=True)\n",
    "\n",
    "ks_meta_2019 = ks_meta_2015_2019[ks_meta_2015_2019['date_launched_year'] == 2019]\n",
    "ks_meta_2019.reset_index(drop=True, inplace=True)"
   ]
  },
  {
   "cell_type": "markdown",
   "metadata": {},
   "source": [
    "##### 연도별 meta dataset 각각 저장"
   ]
  },
  {
   "cell_type": "code",
   "execution_count": 70,
   "metadata": {},
   "outputs": [],
   "source": [
    "# ks_meta_2015.to_csv('./data_2015/ks_meta_2015.csv', index=False, encoding='utf-8')\n",
    "# ks_meta_2016.to_csv('./data_2016/ks_meta_2016.csv', index=False, encoding='utf-8')\n",
    "# ks_meta_2017.to_csv('./data_2017/ks_meta_2017.csv', index=False, encoding='utf-8')\n",
    "# ks_meta_2018.to_csv('./data_2018/ks_meta_2018.csv', index=False, encoding='utf-8')\n",
    "# ks_meta_2019.to_csv('./data_2019/ks_meta_2019.csv', index=False, encoding='utf-8')"
   ]
  },
  {
   "cell_type": "markdown",
   "metadata": {},
   "source": [
    "## - crawled된 text파일들 불러오기"
   ]
  },
  {
   "cell_type": "code",
   "execution_count": 35,
   "metadata": {},
   "outputs": [],
   "source": [
    "ks_text_2015 = pd.read_csv('./data_2015/ks_content_2015_recrawled_0_34695.csv')\n",
    "ks_text_2016 = pd.read_csv('./data_2016/ks_content_2016_recrawled_0_27412.csv')\n",
    "ks_text_2017 = pd.read_csv('./data_2017/ks_content_2017_recrawled_0_26865.csv')\n",
    "ks_text_2018 = pd.read_csv('./data_2018/ks_content_2018_recrawled_0_27397.csv')\n",
    "ks_text_2019 = pd.read_csv('./data_2019/ks_content_2019_recrawled_0_37202.csv')"
   ]
  },
  {
   "cell_type": "markdown",
   "metadata": {},
   "source": [
    "## - 각 연도별로 meta data와 text data 병합하기\n",
    "- ex) ks_meta_2015 + ks_text_2015"
   ]
  },
  {
   "cell_type": "code",
   "execution_count": 116,
   "metadata": {},
   "outputs": [],
   "source": [
    "meta_text_merged_2015 = pd.concat([ks_meta_2015, ks_text_2015.set_index('index')], axis=1) # 2015년 병합\n",
    "meta_text_merged_2015.to_csv('./data_2015/meta_text_merged_2015.csv', index=False, encoding='utf-8')\n",
    "\n",
    "meta_text_merged_2016 = pd.concat([ks_meta_2016, ks_text_2016.set_index('index')], axis=1) # 2016년 병합\n",
    "meta_text_merged_2016.to_csv('./data_2016/meta_text_merged_2016.csv', index=False, encoding='utf-8')\n",
    "\n",
    "meta_text_merged_2017 = pd.concat([ks_meta_2017, ks_text_2017.set_index('index')], axis=1) # 2017년 병합\n",
    "meta_text_merged_2017.to_csv('./data_2017/meta_text_merged_2017.csv', index=False, encoding='utf-8')\n",
    "\n",
    "meta_text_merged_2018 = pd.concat([ks_meta_2018, ks_text_2018.set_index('index')], axis=1) # 2018년 병합\n",
    "meta_text_merged_2018.to_csv('./data_2018/meta_text_merged_2018.csv', index=False, encoding='utf-8')\n",
    "\n",
    "meta_text_merged_2019 = pd.concat([ks_meta_2019, ks_text_2019.set_index('index')], axis=1) # 2019년 병합\n",
    "meta_text_merged_2019.to_csv('./data_2019/meta_text_merged_2019.csv', index=False, encoding='utf-8')"
   ]
  },
  {
   "cell_type": "markdown",
   "metadata": {},
   "source": [
    "## - meta data 그리고 text data 병합한 연도별 파일들 세로로 병합(concat)"
   ]
  },
  {
   "cell_type": "code",
   "execution_count": 52,
   "metadata": {
    "scrolled": true
   },
   "outputs": [
    {
     "data": {
      "text/html": [
       "<div>\n",
       "<style scoped>\n",
       "    .dataframe tbody tr th:only-of-type {\n",
       "        vertical-align: middle;\n",
       "    }\n",
       "\n",
       "    .dataframe tbody tr th {\n",
       "        vertical-align: top;\n",
       "    }\n",
       "\n",
       "    .dataframe thead th {\n",
       "        text-align: right;\n",
       "    }\n",
       "</style>\n",
       "<table border=\"1\" class=\"dataframe\">\n",
       "  <thead>\n",
       "    <tr style=\"text-align: right;\">\n",
       "      <th></th>\n",
       "      <th>category_name</th>\n",
       "      <th>location_name</th>\n",
       "      <th>country_displayable_name</th>\n",
       "      <th>usd_goal</th>\n",
       "      <th>set_fundraising_period</th>\n",
       "      <th>target_goal_period_rate</th>\n",
       "      <th>date_launched_year</th>\n",
       "      <th>date_launched_month</th>\n",
       "      <th>launching_delay_time</th>\n",
       "      <th>disable_communication</th>\n",
       "      <th>is_starrable</th>\n",
       "      <th>state</th>\n",
       "      <th>name</th>\n",
       "      <th>blurb</th>\n",
       "      <th>photo_url</th>\n",
       "      <th>content</th>\n",
       "      <th>risk_challenge</th>\n",
       "    </tr>\n",
       "  </thead>\n",
       "  <tbody>\n",
       "    <tr>\n",
       "      <th>0</th>\n",
       "      <td>Graphic Novels</td>\n",
       "      <td>Minneapolis</td>\n",
       "      <td>the United States</td>\n",
       "      <td>12000.000000</td>\n",
       "      <td>2592000</td>\n",
       "      <td>0.004630</td>\n",
       "      <td>2015</td>\n",
       "      <td>8</td>\n",
       "      <td>871654</td>\n",
       "      <td>False</td>\n",
       "      <td>False</td>\n",
       "      <td>successful</td>\n",
       "      <td>Strange Wit, an original graphic novel about J...</td>\n",
       "      <td>The true biography of the historical figure, w...</td>\n",
       "      <td>https://ksr-ugc.imgix.net/assets/012/216/438/f...</td>\n",
       "      <td>['Meet Jane Bowles: incredible author, inspiri...</td>\n",
       "      <td>The main obstacles this book faces are the siz...</td>\n",
       "    </tr>\n",
       "    <tr>\n",
       "      <th>1</th>\n",
       "      <td>Architecture</td>\n",
       "      <td>New York</td>\n",
       "      <td>the United States</td>\n",
       "      <td>500.000000</td>\n",
       "      <td>2588400</td>\n",
       "      <td>0.000193</td>\n",
       "      <td>2015</td>\n",
       "      <td>2</td>\n",
       "      <td>1407876</td>\n",
       "      <td>False</td>\n",
       "      <td>False</td>\n",
       "      <td>successful</td>\n",
       "      <td>Living Life Tiny</td>\n",
       "      <td>Educating my community about self-sufficiency ...</td>\n",
       "      <td>https://ksr-ugc.imgix.net/assets/012/012/272/7...</td>\n",
       "      <td>[\"I've always been passionate about efficiency...</td>\n",
       "      <td>The biggest challenge in completing this proje...</td>\n",
       "    </tr>\n",
       "    <tr>\n",
       "      <th>2</th>\n",
       "      <td>Gaming Hardware</td>\n",
       "      <td>Oshkosh</td>\n",
       "      <td>the United States</td>\n",
       "      <td>10000.000000</td>\n",
       "      <td>3884400</td>\n",
       "      <td>0.002574</td>\n",
       "      <td>2015</td>\n",
       "      <td>2</td>\n",
       "      <td>16110</td>\n",
       "      <td>False</td>\n",
       "      <td>False</td>\n",
       "      <td>successful</td>\n",
       "      <td>Billet Dice</td>\n",
       "      <td>CNC Crafted out of billet aluminum.  Unique, s...</td>\n",
       "      <td>https://ksr-ugc.imgix.net/assets/012/045/417/b...</td>\n",
       "      <td>['Billet Dice', 'Billet Dice are made from bil...</td>\n",
       "      <td>The international shipping is a worry but I wa...</td>\n",
       "    </tr>\n",
       "    <tr>\n",
       "      <th>3</th>\n",
       "      <td>Drama</td>\n",
       "      <td>Manchester</td>\n",
       "      <td>the United Kingdom</td>\n",
       "      <td>998.226229</td>\n",
       "      <td>2306670</td>\n",
       "      <td>0.000433</td>\n",
       "      <td>2015</td>\n",
       "      <td>3</td>\n",
       "      <td>8063</td>\n",
       "      <td>False</td>\n",
       "      <td>False</td>\n",
       "      <td>failed</td>\n",
       "      <td>Required Revenge (Action/Drama/Comedy)</td>\n",
       "      <td>After being kicked out of his gang for murderi...</td>\n",
       "      <td>https://ksr-ugc.imgix.net/assets/012/059/698/3...</td>\n",
       "      <td>['With this film we want to entertain you in a...</td>\n",
       "      <td>We will be using the money to prevent any prob...</td>\n",
       "    </tr>\n",
       "    <tr>\n",
       "      <th>4</th>\n",
       "      <td>Flight</td>\n",
       "      <td>South Florida</td>\n",
       "      <td>the United States</td>\n",
       "      <td>17500.000000</td>\n",
       "      <td>3020400</td>\n",
       "      <td>0.005794</td>\n",
       "      <td>2015</td>\n",
       "      <td>3</td>\n",
       "      <td>1965192</td>\n",
       "      <td>False</td>\n",
       "      <td>False</td>\n",
       "      <td>successful</td>\n",
       "      <td>Splash Drone a Waterproof Drone with Autonomou...</td>\n",
       "      <td>Splash Drone a waterproof drone with live vide...</td>\n",
       "      <td>https://ksr-ugc.imgix.net/assets/012/031/702/5...</td>\n",
       "      <td>['The Splash Drone is a fully waterproof quad ...</td>\n",
       "      <td>We have spent countless hours and many months ...</td>\n",
       "    </tr>\n",
       "    <tr>\n",
       "      <th>...</th>\n",
       "      <td>...</td>\n",
       "      <td>...</td>\n",
       "      <td>...</td>\n",
       "      <td>...</td>\n",
       "      <td>...</td>\n",
       "      <td>...</td>\n",
       "      <td>...</td>\n",
       "      <td>...</td>\n",
       "      <td>...</td>\n",
       "      <td>...</td>\n",
       "      <td>...</td>\n",
       "      <td>...</td>\n",
       "      <td>...</td>\n",
       "      <td>...</td>\n",
       "      <td>...</td>\n",
       "      <td>...</td>\n",
       "      <td>...</td>\n",
       "    </tr>\n",
       "    <tr>\n",
       "      <th>153571</th>\n",
       "      <td>Accessories</td>\n",
       "      <td>Sydney</td>\n",
       "      <td>Australia</td>\n",
       "      <td>393.166059</td>\n",
       "      <td>2592000</td>\n",
       "      <td>0.000152</td>\n",
       "      <td>2019</td>\n",
       "      <td>3</td>\n",
       "      <td>655598</td>\n",
       "      <td>False</td>\n",
       "      <td>False</td>\n",
       "      <td>successful</td>\n",
       "      <td>Crystal Cats — Enamel Pin Collection</td>\n",
       "      <td>Adorable cat enamel pins for crazy cat ladies.</td>\n",
       "      <td>https://ksr-ugc.imgix.net/assets/024/490/499/5...</td>\n",
       "      <td>['Hello there! My name is Chloe and I’m the ar...</td>\n",
       "      <td>• The finished product’s colours may appear di...</td>\n",
       "    </tr>\n",
       "    <tr>\n",
       "      <th>153572</th>\n",
       "      <td>Accessories</td>\n",
       "      <td>London</td>\n",
       "      <td>the United Kingdom</td>\n",
       "      <td>1305.500070</td>\n",
       "      <td>2592000</td>\n",
       "      <td>0.000504</td>\n",
       "      <td>2019</td>\n",
       "      <td>4</td>\n",
       "      <td>171726</td>\n",
       "      <td>False</td>\n",
       "      <td>False</td>\n",
       "      <td>successful</td>\n",
       "      <td>Rainbow Pins</td>\n",
       "      <td>LGBTQ Rainbow Enamel Pins</td>\n",
       "      <td>https://ksr-ugc.imgix.net/assets/024/714/339/b...</td>\n",
       "      <td>[\"For the relaunch of the Beastly Boutique, I ...</td>\n",
       "      <td>Once funded, if there are any delays in produc...</td>\n",
       "    </tr>\n",
       "    <tr>\n",
       "      <th>153573</th>\n",
       "      <td>Web</td>\n",
       "      <td>Prague</td>\n",
       "      <td>Germany</td>\n",
       "      <td>7893.879210</td>\n",
       "      <td>1728000</td>\n",
       "      <td>0.004568</td>\n",
       "      <td>2019</td>\n",
       "      <td>4</td>\n",
       "      <td>245102</td>\n",
       "      <td>False</td>\n",
       "      <td>False</td>\n",
       "      <td>failed</td>\n",
       "      <td>Social Media Producing Studio</td>\n",
       "      <td>Do you want to create social media content abo...</td>\n",
       "      <td>https://ksr-ugc.imgix.net/assets/024/708/588/9...</td>\n",
       "      <td>['Your application to become a Produce Social ...</td>\n",
       "      <td>This project depends on fundraising. We need t...</td>\n",
       "    </tr>\n",
       "    <tr>\n",
       "      <th>153574</th>\n",
       "      <td>Faith</td>\n",
       "      <td>Washington</td>\n",
       "      <td>the United States</td>\n",
       "      <td>20000.000000</td>\n",
       "      <td>5011887</td>\n",
       "      <td>0.003991</td>\n",
       "      <td>2019</td>\n",
       "      <td>4</td>\n",
       "      <td>2599879</td>\n",
       "      <td>False</td>\n",
       "      <td>False</td>\n",
       "      <td>failed</td>\n",
       "      <td>Giving hope to people across the globe through...</td>\n",
       "      <td>God has blessed me with more than 60,000 downl...</td>\n",
       "      <td>https://ksr-ugc.imgix.net/assets/024/571/820/2...</td>\n",
       "      <td>[\"I'm a Contemporary Christian artist. I want ...</td>\n",
       "      <td>The only risk I would anticipate is an untimel...</td>\n",
       "    </tr>\n",
       "    <tr>\n",
       "      <th>153575</th>\n",
       "      <td>Textiles</td>\n",
       "      <td>Seattle</td>\n",
       "      <td>the United States</td>\n",
       "      <td>700.000000</td>\n",
       "      <td>2657079</td>\n",
       "      <td>0.000263</td>\n",
       "      <td>2019</td>\n",
       "      <td>6</td>\n",
       "      <td>2568846</td>\n",
       "      <td>False</td>\n",
       "      <td>False</td>\n",
       "      <td>failed</td>\n",
       "      <td>Unpacked Urban Tote</td>\n",
       "      <td>Artist Designed Urban Tote\\nPunKin Apparel by ...</td>\n",
       "      <td>https://ksr-ugc.imgix.net/assets/025/451/684/5...</td>\n",
       "      <td>[]</td>\n",
       "      <td>Any potential risks or challenges to this camp...</td>\n",
       "    </tr>\n",
       "  </tbody>\n",
       "</table>\n",
       "<p>153576 rows × 17 columns</p>\n",
       "</div>"
      ],
      "text/plain": [
       "          category_name  location_name country_displayable_name      usd_goal  \\\n",
       "0        Graphic Novels    Minneapolis        the United States  12000.000000   \n",
       "1          Architecture       New York        the United States    500.000000   \n",
       "2       Gaming Hardware        Oshkosh        the United States  10000.000000   \n",
       "3                 Drama     Manchester       the United Kingdom    998.226229   \n",
       "4                Flight  South Florida        the United States  17500.000000   \n",
       "...                 ...            ...                      ...           ...   \n",
       "153571      Accessories         Sydney                Australia    393.166059   \n",
       "153572      Accessories         London       the United Kingdom   1305.500070   \n",
       "153573              Web         Prague                  Germany   7893.879210   \n",
       "153574            Faith     Washington        the United States  20000.000000   \n",
       "153575         Textiles        Seattle        the United States    700.000000   \n",
       "\n",
       "        set_fundraising_period  target_goal_period_rate  date_launched_year  \\\n",
       "0                      2592000                 0.004630                2015   \n",
       "1                      2588400                 0.000193                2015   \n",
       "2                      3884400                 0.002574                2015   \n",
       "3                      2306670                 0.000433                2015   \n",
       "4                      3020400                 0.005794                2015   \n",
       "...                        ...                      ...                 ...   \n",
       "153571                 2592000                 0.000152                2019   \n",
       "153572                 2592000                 0.000504                2019   \n",
       "153573                 1728000                 0.004568                2019   \n",
       "153574                 5011887                 0.003991                2019   \n",
       "153575                 2657079                 0.000263                2019   \n",
       "\n",
       "        date_launched_month  launching_delay_time  disable_communication  \\\n",
       "0                         8                871654                  False   \n",
       "1                         2               1407876                  False   \n",
       "2                         2                 16110                  False   \n",
       "3                         3                  8063                  False   \n",
       "4                         3               1965192                  False   \n",
       "...                     ...                   ...                    ...   \n",
       "153571                    3                655598                  False   \n",
       "153572                    4                171726                  False   \n",
       "153573                    4                245102                  False   \n",
       "153574                    4               2599879                  False   \n",
       "153575                    6               2568846                  False   \n",
       "\n",
       "        is_starrable       state  \\\n",
       "0              False  successful   \n",
       "1              False  successful   \n",
       "2              False  successful   \n",
       "3              False      failed   \n",
       "4              False  successful   \n",
       "...              ...         ...   \n",
       "153571         False  successful   \n",
       "153572         False  successful   \n",
       "153573         False      failed   \n",
       "153574         False      failed   \n",
       "153575         False      failed   \n",
       "\n",
       "                                                     name  \\\n",
       "0       Strange Wit, an original graphic novel about J...   \n",
       "1                                        Living Life Tiny   \n",
       "2                                             Billet Dice   \n",
       "3                  Required Revenge (Action/Drama/Comedy)   \n",
       "4       Splash Drone a Waterproof Drone with Autonomou...   \n",
       "...                                                   ...   \n",
       "153571               Crystal Cats — Enamel Pin Collection   \n",
       "153572                                       Rainbow Pins   \n",
       "153573                      Social Media Producing Studio   \n",
       "153574  Giving hope to people across the globe through...   \n",
       "153575                                Unpacked Urban Tote   \n",
       "\n",
       "                                                    blurb  \\\n",
       "0       The true biography of the historical figure, w...   \n",
       "1       Educating my community about self-sufficiency ...   \n",
       "2       CNC Crafted out of billet aluminum.  Unique, s...   \n",
       "3       After being kicked out of his gang for murderi...   \n",
       "4       Splash Drone a waterproof drone with live vide...   \n",
       "...                                                   ...   \n",
       "153571     Adorable cat enamel pins for crazy cat ladies.   \n",
       "153572                          LGBTQ Rainbow Enamel Pins   \n",
       "153573  Do you want to create social media content abo...   \n",
       "153574  God has blessed me with more than 60,000 downl...   \n",
       "153575  Artist Designed Urban Tote\\nPunKin Apparel by ...   \n",
       "\n",
       "                                                photo_url  \\\n",
       "0       https://ksr-ugc.imgix.net/assets/012/216/438/f...   \n",
       "1       https://ksr-ugc.imgix.net/assets/012/012/272/7...   \n",
       "2       https://ksr-ugc.imgix.net/assets/012/045/417/b...   \n",
       "3       https://ksr-ugc.imgix.net/assets/012/059/698/3...   \n",
       "4       https://ksr-ugc.imgix.net/assets/012/031/702/5...   \n",
       "...                                                   ...   \n",
       "153571  https://ksr-ugc.imgix.net/assets/024/490/499/5...   \n",
       "153572  https://ksr-ugc.imgix.net/assets/024/714/339/b...   \n",
       "153573  https://ksr-ugc.imgix.net/assets/024/708/588/9...   \n",
       "153574  https://ksr-ugc.imgix.net/assets/024/571/820/2...   \n",
       "153575  https://ksr-ugc.imgix.net/assets/025/451/684/5...   \n",
       "\n",
       "                                                  content  \\\n",
       "0       ['Meet Jane Bowles: incredible author, inspiri...   \n",
       "1       [\"I've always been passionate about efficiency...   \n",
       "2       ['Billet Dice', 'Billet Dice are made from bil...   \n",
       "3       ['With this film we want to entertain you in a...   \n",
       "4       ['The Splash Drone is a fully waterproof quad ...   \n",
       "...                                                   ...   \n",
       "153571  ['Hello there! My name is Chloe and I’m the ar...   \n",
       "153572  [\"For the relaunch of the Beastly Boutique, I ...   \n",
       "153573  ['Your application to become a Produce Social ...   \n",
       "153574  [\"I'm a Contemporary Christian artist. I want ...   \n",
       "153575                                                 []   \n",
       "\n",
       "                                           risk_challenge  \n",
       "0       The main obstacles this book faces are the siz...  \n",
       "1       The biggest challenge in completing this proje...  \n",
       "2       The international shipping is a worry but I wa...  \n",
       "3       We will be using the money to prevent any prob...  \n",
       "4       We have spent countless hours and many months ...  \n",
       "...                                                   ...  \n",
       "153571  • The finished product’s colours may appear di...  \n",
       "153572  Once funded, if there are any delays in produc...  \n",
       "153573  This project depends on fundraising. We need t...  \n",
       "153574  The only risk I would anticipate is an untimel...  \n",
       "153575  Any potential risks or challenges to this camp...  \n",
       "\n",
       "[153576 rows x 17 columns]"
      ]
     },
     "execution_count": 52,
     "metadata": {},
     "output_type": "execute_result"
    }
   ],
   "source": [
    "meta_text_dataset = pd.concat([meta_text_merged_2015, meta_text_merged_2016, meta_text_merged_2017, meta_text_merged_2018, meta_text_merged_2019], ignore_index=True)\n",
    "meta_text_dataset"
   ]
  },
  {
   "cell_type": "code",
   "execution_count": 53,
   "metadata": {},
   "outputs": [
    {
     "data": {
      "text/plain": [
       "153576"
      ]
     },
     "execution_count": 53,
     "metadata": {},
     "output_type": "execute_result"
    }
   ],
   "source": [
    "len(ks_meta_2015_2019) # 데이터 수 일치 확인"
   ]
  },
  {
   "cell_type": "code",
   "execution_count": 54,
   "metadata": {},
   "outputs": [],
   "source": [
    "# meta_text_dataset.to_csv('./data_2015_2019/meta_text_dataset_2015_2019.csv', index=False, encoding='utf-8')\n",
    "meta_text_dataset.to_csv('./data_2015_2019/meta_text_dataset_ordered_2015_2019_with_photo_url.csv', index=False, encoding='utf-8')"
   ]
  },
  {
   "cell_type": "markdown",
   "metadata": {},
   "source": [
    "## - meta와 text(name, blurb 포함) 분리"
   ]
  },
  {
   "cell_type": "code",
   "execution_count": 128,
   "metadata": {},
   "outputs": [],
   "source": [
    "text_dataset = meta_text_dataset[['name','blurb','content','risk_challenge']]\n",
    "# text_dataset.to_csv('./data_2015_2019/text_dataset.csv', index=False, encoding='utf-8')"
   ]
  },
  {
   "cell_type": "code",
   "execution_count": 132,
   "metadata": {},
   "outputs": [],
   "source": [
    "meta_dataset = meta_text_dataset.drop(columns=['name','blurb','content','risk_challenge'])\n",
    "# meta_dataset.to_csv('./data_2015_2019/meta_dataset.csv', index=False, encoding='utf-8')"
   ]
  },
  {
   "cell_type": "markdown",
   "metadata": {},
   "source": []
  },
  {
   "cell_type": "markdown",
   "metadata": {},
   "source": [
    "# 6. 자연어 처리 - 수집한 텍스트 데이터 처리/가공<a class=\"anchor\" id = \"c6\"> </a>\n",
    "- 전처리, 패딩, 임베딩, Convolution, MaxPooling, DropOut\n",
    "---"
   ]
  },
  {
   "cell_type": "markdown",
   "metadata": {},
   "source": [
    "## - 수집한 텍스트 데이터 불러오기"
   ]
  },
  {
   "cell_type": "code",
   "execution_count": 1,
   "metadata": {},
   "outputs": [],
   "source": [
    "import pandas as pd\n",
    "import numpy as np\n",
    "import matplotlib.pyplot as plt\n",
    "import seaborn as sns\n",
    "from datetime import datetime, timedelta\n",
    "np.random.seed(1)"
   ]
  },
  {
   "cell_type": "code",
   "execution_count": 216,
   "metadata": {},
   "outputs": [],
   "source": [
    "text_dataset = pd.read_csv('./data_2015_2019/text_dataset_2015_2019.csv')"
   ]
  },
  {
   "cell_type": "code",
   "execution_count": 217,
   "metadata": {},
   "outputs": [
    {
     "name": "stdout",
     "output_type": "stream",
     "text": [
      "<class 'pandas.core.frame.DataFrame'>\n",
      "RangeIndex: 153576 entries, 0 to 153575\n",
      "Data columns (total 4 columns):\n",
      "name              153576 non-null object\n",
      "blurb             153574 non-null object\n",
      "content           153549 non-null object\n",
      "risk_challenge    153387 non-null object\n",
      "dtypes: object(4)\n",
      "memory usage: 4.7+ MB\n"
     ]
    }
   ],
   "source": [
    "text_dataset.info()"
   ]
  },
  {
   "cell_type": "code",
   "execution_count": null,
   "metadata": {},
   "outputs": [],
   "source": [
    "# name 컬럼 : 펀딩 제목\n",
    "# blurb 컬럼 : 펀딩 부제목; 펀딩에 대한 간략한 소개글\n",
    "# content 컬럼 : 펀딩에 대한 설명/본문\n",
    "# risk_challenge : 펀딩 관련 리스크나 위험 요소"
   ]
  },
  {
   "cell_type": "code",
   "execution_count": 218,
   "metadata": {},
   "outputs": [],
   "source": [
    "text_dataset.reset_index(inplace=True)"
   ]
  },
  {
   "cell_type": "code",
   "execution_count": 219,
   "metadata": {},
   "outputs": [
    {
     "data": {
      "text/html": [
       "<div>\n",
       "<style scoped>\n",
       "    .dataframe tbody tr th:only-of-type {\n",
       "        vertical-align: middle;\n",
       "    }\n",
       "\n",
       "    .dataframe tbody tr th {\n",
       "        vertical-align: top;\n",
       "    }\n",
       "\n",
       "    .dataframe thead th {\n",
       "        text-align: right;\n",
       "    }\n",
       "</style>\n",
       "<table border=\"1\" class=\"dataframe\">\n",
       "  <thead>\n",
       "    <tr style=\"text-align: right;\">\n",
       "      <th></th>\n",
       "      <th>index</th>\n",
       "      <th>name</th>\n",
       "      <th>blurb</th>\n",
       "      <th>content</th>\n",
       "      <th>risk_challenge</th>\n",
       "    </tr>\n",
       "  </thead>\n",
       "  <tbody>\n",
       "    <tr>\n",
       "      <th>0</th>\n",
       "      <td>0</td>\n",
       "      <td>Strange Wit, an original graphic novel about J...</td>\n",
       "      <td>The true biography of the historical figure, w...</td>\n",
       "      <td>['Meet Jane Bowles: incredible author, inspiri...</td>\n",
       "      <td>The main obstacles this book faces are the siz...</td>\n",
       "    </tr>\n",
       "  </tbody>\n",
       "</table>\n",
       "</div>"
      ],
      "text/plain": [
       "   index                                               name  \\\n",
       "0      0  Strange Wit, an original graphic novel about J...   \n",
       "\n",
       "                                               blurb  \\\n",
       "0  The true biography of the historical figure, w...   \n",
       "\n",
       "                                             content  \\\n",
       "0  ['Meet Jane Bowles: incredible author, inspiri...   \n",
       "\n",
       "                                      risk_challenge  \n",
       "0  The main obstacles this book faces are the siz...  "
      ]
     },
     "execution_count": 219,
     "metadata": {},
     "output_type": "execute_result"
    }
   ],
   "source": [
    "text_dataset.head(1)"
   ]
  },
  {
   "cell_type": "code",
   "execution_count": 220,
   "metadata": {},
   "outputs": [
    {
     "data": {
      "text/plain": [
       "index               0\n",
       "name                0\n",
       "blurb               2\n",
       "content            27\n",
       "risk_challenge    189\n",
       "dtype: int64"
      ]
     },
     "execution_count": 220,
     "metadata": {},
     "output_type": "execute_result"
    }
   ],
   "source": [
    "# 결측치 조회\n",
    "text_dataset.isna().sum()"
   ]
  },
  {
   "cell_type": "markdown",
   "metadata": {},
   "source": [
    "## - 텍스트 데이터 결측치 및 잡음(노이즈) 처리\n",
    "- 공백이나 특수문자만 있는 데이터 조회 및 처리"
   ]
  },
  {
   "cell_type": "code",
   "execution_count": 221,
   "metadata": {},
   "outputs": [
    {
     "data": {
      "text/html": [
       "<div>\n",
       "<style scoped>\n",
       "    .dataframe tbody tr th:only-of-type {\n",
       "        vertical-align: middle;\n",
       "    }\n",
       "\n",
       "    .dataframe tbody tr th {\n",
       "        vertical-align: top;\n",
       "    }\n",
       "\n",
       "    .dataframe thead th {\n",
       "        text-align: right;\n",
       "    }\n",
       "</style>\n",
       "<table border=\"1\" class=\"dataframe\">\n",
       "  <thead>\n",
       "    <tr style=\"text-align: right;\">\n",
       "      <th></th>\n",
       "      <th>index</th>\n",
       "      <th>name</th>\n",
       "      <th>blurb</th>\n",
       "      <th>content</th>\n",
       "      <th>risk_challenge</th>\n",
       "    </tr>\n",
       "  </thead>\n",
       "  <tbody>\n",
       "  </tbody>\n",
       "</table>\n",
       "</div>"
      ],
      "text/plain": [
       "Empty DataFrame\n",
       "Columns: [index, name, blurb, content, risk_challenge]\n",
       "Index: []"
      ]
     },
     "execution_count": 221,
     "metadata": {},
     "output_type": "execute_result"
    }
   ],
   "source": [
    "# name 컬럼 조회\n",
    "noise_list = [\"[ ]\", \"[]\", \"['']\", '[\\\\]', '[|]', '[?]', '[/]', '[=]', '[+]', '[_]', '[~]', '[`]', '[-]', '[,]', '[.]', \"''\", \"\", \" \", \".\", \"..\", \"...\", \"......\", \"-\", \"_\", \"\\'\", \"\\\"\", \"=\", \"+\", \"()\", \"{}\", \"\\\\\", \"|\", \",\", \"/\", \"~\", \"`\", \"!\", \"@\", \"#\", \"$\", \"%\", \"^\", \"^^\", \"&\", \"*\", \"<\", \">\"]\n",
    "text_dataset[text_dataset['name'].isin(noise_list)]"
   ]
  },
  {
   "cell_type": "code",
   "execution_count": 222,
   "metadata": {
    "scrolled": true
   },
   "outputs": [
    {
     "data": {
      "text/html": [
       "<div>\n",
       "<style scoped>\n",
       "    .dataframe tbody tr th:only-of-type {\n",
       "        vertical-align: middle;\n",
       "    }\n",
       "\n",
       "    .dataframe tbody tr th {\n",
       "        vertical-align: top;\n",
       "    }\n",
       "\n",
       "    .dataframe thead th {\n",
       "        text-align: right;\n",
       "    }\n",
       "</style>\n",
       "<table border=\"1\" class=\"dataframe\">\n",
       "  <thead>\n",
       "    <tr style=\"text-align: right;\">\n",
       "      <th></th>\n",
       "      <th>index</th>\n",
       "      <th>name</th>\n",
       "      <th>blurb</th>\n",
       "      <th>content</th>\n",
       "      <th>risk_challenge</th>\n",
       "    </tr>\n",
       "  </thead>\n",
       "  <tbody>\n",
       "    <tr>\n",
       "      <th>59131</th>\n",
       "      <td>59131</td>\n",
       "      <td>Cancelled</td>\n",
       "      <td>-</td>\n",
       "      <td>[\"II'm raising funds to be able to create 2 cu...</td>\n",
       "      <td>The challenges I face during this project is m...</td>\n",
       "    </tr>\n",
       "    <tr>\n",
       "      <th>77435</th>\n",
       "      <td>77435</td>\n",
       "      <td>XXX</td>\n",
       "      <td>-</td>\n",
       "      <td>['xxxxxx']</td>\n",
       "      <td>xxxxx</td>\n",
       "    </tr>\n",
       "    <tr>\n",
       "      <th>89219</th>\n",
       "      <td>89219</td>\n",
       "      <td>Kicked Out</td>\n",
       "      <td>.</td>\n",
       "      <td>['The winner gets a once in a lifetime chance ...</td>\n",
       "      <td>.</td>\n",
       "    </tr>\n",
       "    <tr>\n",
       "      <th>92414</th>\n",
       "      <td>92414</td>\n",
       "      <td>Beacons To Guide Me Home - a new album by Gayl...</td>\n",
       "      <td>.</td>\n",
       "      <td>[\"So ... I've got this new album and I'd reall...</td>\n",
       "      <td>I don't foresee any risks to this project.  Al...</td>\n",
       "    </tr>\n",
       "    <tr>\n",
       "      <th>92450</th>\n",
       "      <td>92450</td>\n",
       "      <td>B1</td>\n",
       "      <td>.</td>\n",
       "      <td>['.']</td>\n",
       "      <td>You can download now narrator in app store.</td>\n",
       "    </tr>\n",
       "    <tr>\n",
       "      <th>110374</th>\n",
       "      <td>110374</td>\n",
       "      <td>Beacons To Guide Me Home - a new album by Gayl...</td>\n",
       "      <td>.</td>\n",
       "      <td>[\"So ... I've got this new album and I'd reall...</td>\n",
       "      <td>I don't foresee any risks to this project.  Al...</td>\n",
       "    </tr>\n",
       "  </tbody>\n",
       "</table>\n",
       "</div>"
      ],
      "text/plain": [
       "         index                                               name blurb  \\\n",
       "59131    59131                                          Cancelled     -   \n",
       "77435    77435                                                XXX     -   \n",
       "89219    89219                                         Kicked Out     .   \n",
       "92414    92414  Beacons To Guide Me Home - a new album by Gayl...     .   \n",
       "92450    92450                                                 B1     .   \n",
       "110374  110374  Beacons To Guide Me Home - a new album by Gayl...     .   \n",
       "\n",
       "                                                  content  \\\n",
       "59131   [\"II'm raising funds to be able to create 2 cu...   \n",
       "77435                                          ['xxxxxx']   \n",
       "89219   ['The winner gets a once in a lifetime chance ...   \n",
       "92414   [\"So ... I've got this new album and I'd reall...   \n",
       "92450                                               ['.']   \n",
       "110374  [\"So ... I've got this new album and I'd reall...   \n",
       "\n",
       "                                           risk_challenge  \n",
       "59131   The challenges I face during this project is m...  \n",
       "77435                                               xxxxx  \n",
       "89219                                                   .  \n",
       "92414   I don't foresee any risks to this project.  Al...  \n",
       "92450         You can download now narrator in app store.  \n",
       "110374  I don't foresee any risks to this project.  Al...  "
      ]
     },
     "execution_count": 222,
     "metadata": {},
     "output_type": "execute_result"
    }
   ],
   "source": [
    "# blurb 컬럼 조회\n",
    "noise_list = [\"[ ]\", \"[]\", \"['']\", '[\\\\]', '[|]', '[?]', '[/]', '[=]', '[+]', '[_]', '[~]', '[`]', '[-]', '[,]', '[.]', \"''\", \"\", \" \", \".\", \"..\", \"...\", \"......\", \"-\", \"_\", \"\\'\", \"\\\"\", \"=\", \"+\", \"()\", \"{}\", \"\\\\\", \"|\", \",\", \"/\", \"~\", \"`\", \"!\", \"@\", \"#\", \"$\", \"%\", \"^\", \"^^\", \"&\", \"*\", \"<\", \">\"]\n",
    "blurb_noise = text_dataset[text_dataset['blurb'].isin(noise_list)]\n",
    "blurb_noise"
   ]
  },
  {
   "cell_type": "code",
   "execution_count": 223,
   "metadata": {},
   "outputs": [
    {
     "name": "stdout",
     "output_type": "stream",
     "text": [
      "6\n"
     ]
    },
    {
     "data": {
      "text/plain": [
       "Int64Index([59131, 77435, 89219, 92414, 92450, 110374], dtype='int64')"
      ]
     },
     "execution_count": 223,
     "metadata": {},
     "output_type": "execute_result"
    }
   ],
   "source": [
    "print(len(blurb_noise))\n",
    "blurb_noise.index"
   ]
  },
  {
   "cell_type": "code",
   "execution_count": 121,
   "metadata": {},
   "outputs": [],
   "source": [
    "# blurb 컬럼\n",
    "# 결측치 (2) --> 공백으로 변경\n",
    "# 특수문자 (6) --> 공백"
   ]
  },
  {
   "cell_type": "code",
   "execution_count": 224,
   "metadata": {},
   "outputs": [],
   "source": [
    "# 결측치 처리\n",
    "text_dataset['blurb'].fillna(' ', inplace=True)"
   ]
  },
  {
   "cell_type": "code",
   "execution_count": 225,
   "metadata": {},
   "outputs": [],
   "source": [
    "# 잡음 처리\n",
    "text_dataset.loc[blurb_noise.index, 'blurb'] = ' '"
   ]
  },
  {
   "cell_type": "code",
   "execution_count": 234,
   "metadata": {},
   "outputs": [
    {
     "name": "stdout",
     "output_type": "stream",
     "text": [
      "결측치: 0\n",
      "False    150944\n",
      "True          8\n",
      "Name: blurb, dtype: int64\n"
     ]
    },
    {
     "data": {
      "text/html": [
       "<div>\n",
       "<style scoped>\n",
       "    .dataframe tbody tr th:only-of-type {\n",
       "        vertical-align: middle;\n",
       "    }\n",
       "\n",
       "    .dataframe tbody tr th {\n",
       "        vertical-align: top;\n",
       "    }\n",
       "\n",
       "    .dataframe thead th {\n",
       "        text-align: right;\n",
       "    }\n",
       "</style>\n",
       "<table border=\"1\" class=\"dataframe\">\n",
       "  <thead>\n",
       "    <tr style=\"text-align: right;\">\n",
       "      <th></th>\n",
       "      <th>index</th>\n",
       "      <th>name</th>\n",
       "      <th>blurb</th>\n",
       "      <th>content</th>\n",
       "      <th>risk_challenge</th>\n",
       "    </tr>\n",
       "  </thead>\n",
       "  <tbody>\n",
       "    <tr>\n",
       "      <th>59131</th>\n",
       "      <td>59131</td>\n",
       "      <td>Cancelled</td>\n",
       "      <td></td>\n",
       "      <td>[\"II'm raising funds to be able to create 2 cu...</td>\n",
       "      <td>The challenges I face during this project is m...</td>\n",
       "    </tr>\n",
       "    <tr>\n",
       "      <th>77435</th>\n",
       "      <td>77435</td>\n",
       "      <td>XXX</td>\n",
       "      <td></td>\n",
       "      <td>['xxxxxx']</td>\n",
       "      <td>xxxxx</td>\n",
       "    </tr>\n",
       "    <tr>\n",
       "      <th>87701</th>\n",
       "      <td>87701</td>\n",
       "      <td>awlsies</td>\n",
       "      <td></td>\n",
       "      <td>['n/a']</td>\n",
       "      <td>NaN</td>\n",
       "    </tr>\n",
       "    <tr>\n",
       "      <th>88902</th>\n",
       "      <td>88902</td>\n",
       "      <td>Ready to wear</td>\n",
       "      <td></td>\n",
       "      <td>['Sorry, due to some issues I had to delete th...</td>\n",
       "      <td>&lt;N/A&gt;</td>\n",
       "    </tr>\n",
       "    <tr>\n",
       "      <th>89219</th>\n",
       "      <td>89219</td>\n",
       "      <td>Kicked Out</td>\n",
       "      <td></td>\n",
       "      <td>['The winner gets a once in a lifetime chance ...</td>\n",
       "      <td>.</td>\n",
       "    </tr>\n",
       "  </tbody>\n",
       "</table>\n",
       "</div>"
      ],
      "text/plain": [
       "       index           name blurb  \\\n",
       "59131  59131      Cancelled         \n",
       "77435  77435            XXX         \n",
       "87701  87701        awlsies         \n",
       "88902  88902  Ready to wear         \n",
       "89219  89219     Kicked Out         \n",
       "\n",
       "                                                 content  \\\n",
       "59131  [\"II'm raising funds to be able to create 2 cu...   \n",
       "77435                                         ['xxxxxx']   \n",
       "87701                                            ['n/a']   \n",
       "88902  ['Sorry, due to some issues I had to delete th...   \n",
       "89219  ['The winner gets a once in a lifetime chance ...   \n",
       "\n",
       "                                          risk_challenge  \n",
       "59131  The challenges I face during this project is m...  \n",
       "77435                                              xxxxx  \n",
       "87701                                                NaN  \n",
       "88902                                              <N/A>  \n",
       "89219                                                  .  "
      ]
     },
     "execution_count": 234,
     "metadata": {},
     "output_type": "execute_result"
    }
   ],
   "source": [
    "# 변경 확인\n",
    "print(\"결측치:\", text_dataset['blurb'].isna().sum())\n",
    "noise_list = [\"[ ]\", \"[]\", \"['']\", '[\\\\]', '[|]', '[?]', '[/]', '[=]', '[+]', '[_]', '[~]', '[`]', '[-]', '[,]', '[.]', \"''\", \"\", \" \", \".\", \"..\", \"...\", \"......\", \"-\", \"_\", \"\\'\", \"\\\"\", \"=\", \"+\", \"()\", \"{}\", \"\\\\\", \"|\", \",\", \"/\", \"~\", \"`\", \"!\", \"@\", \"#\", \"$\", \"%\", \"^\", \"^^\", \"&\", \"*\", \"<\", \">\"]\n",
    "print(text_dataset['blurb'].isin(noise_list).value_counts())\n",
    "    # 총 8개를 ' '로 변경했으니 맞음\n",
    "blurb_processed = text_dataset[text_dataset['blurb'].isin(noise_list)]\n",
    "blurb_processed.head()"
   ]
  },
  {
   "cell_type": "code",
   "execution_count": 227,
   "metadata": {
    "scrolled": true
   },
   "outputs": [
    {
     "data": {
      "text/html": [
       "<div>\n",
       "<style scoped>\n",
       "    .dataframe tbody tr th:only-of-type {\n",
       "        vertical-align: middle;\n",
       "    }\n",
       "\n",
       "    .dataframe tbody tr th {\n",
       "        vertical-align: top;\n",
       "    }\n",
       "\n",
       "    .dataframe thead th {\n",
       "        text-align: right;\n",
       "    }\n",
       "</style>\n",
       "<table border=\"1\" class=\"dataframe\">\n",
       "  <thead>\n",
       "    <tr style=\"text-align: right;\">\n",
       "      <th></th>\n",
       "      <th>index</th>\n",
       "      <th>name</th>\n",
       "      <th>blurb</th>\n",
       "      <th>content</th>\n",
       "      <th>risk_challenge</th>\n",
       "    </tr>\n",
       "  </thead>\n",
       "  <tbody>\n",
       "    <tr>\n",
       "      <th>34</th>\n",
       "      <td>34</td>\n",
       "      <td>HELPING PETEY NATURE GET TO THE NEXT LEVEL</td>\n",
       "      <td>HELP A NEW NATIONAL RECORDING ARTIST OF FAITH ...</td>\n",
       "      <td>[]</td>\n",
       "      <td>No challenges and no obstacles\\r\\nThis is very...</td>\n",
       "    </tr>\n",
       "    <tr>\n",
       "      <th>44</th>\n",
       "      <td>44</td>\n",
       "      <td>Remote Island Fish Camp</td>\n",
       "      <td>Rooting our children in their native culture b...</td>\n",
       "      <td>[]</td>\n",
       "      <td>Challenges:\\r\\n\\r\\nFinding a suitable parcel o...</td>\n",
       "    </tr>\n",
       "    <tr>\n",
       "      <th>85</th>\n",
       "      <td>85</td>\n",
       "      <td>Guns &amp; Grams</td>\n",
       "      <td>A story about the Sicilian Mob coming to the u...</td>\n",
       "      <td>[]</td>\n",
       "      <td>I am a member Of the Screen Actors Union and a...</td>\n",
       "    </tr>\n",
       "    <tr>\n",
       "      <th>172</th>\n",
       "      <td>172</td>\n",
       "      <td>Travel to Italy with Michael Belardo</td>\n",
       "      <td>DON'T MISS THIS OPPORTUNITY TO BACK THIS BOOK....</td>\n",
       "      <td>[]</td>\n",
       "      <td>After a lifetime of travel in Italy, 25 years ...</td>\n",
       "    </tr>\n",
       "    <tr>\n",
       "      <th>195</th>\n",
       "      <td>195</td>\n",
       "      <td>\"A Favor for A Favor\" by Vincent VenaCava</td>\n",
       "      <td>After his wife's infidelity, Jacob resolves to...</td>\n",
       "      <td>[]</td>\n",
       "      <td>The only risks that we really face are technol...</td>\n",
       "    </tr>\n",
       "    <tr>\n",
       "      <th>...</th>\n",
       "      <td>...</td>\n",
       "      <td>...</td>\n",
       "      <td>...</td>\n",
       "      <td>...</td>\n",
       "      <td>...</td>\n",
       "    </tr>\n",
       "    <tr>\n",
       "      <th>153489</th>\n",
       "      <td>153489</td>\n",
       "      <td>Get us back into the studio to Record Souls Ta...</td>\n",
       "      <td>Blood Luxury will be recording their ep ... wh...</td>\n",
       "      <td>[]</td>\n",
       "      <td>This wont be an ongoing diatripe, I need the h...</td>\n",
       "    </tr>\n",
       "    <tr>\n",
       "      <th>153498</th>\n",
       "      <td>153498</td>\n",
       "      <td>WAO NYLONG SHOES</td>\n",
       "      <td>Transforming Trash into Treasure</td>\n",
       "      <td>[]</td>\n",
       "      <td>Our bigger challenge is to reach the minimum a...</td>\n",
       "    </tr>\n",
       "    <tr>\n",
       "      <th>153499</th>\n",
       "      <td>153499</td>\n",
       "      <td>Adventures in RandyLand</td>\n",
       "      <td>A travel adventure documentary series for YouT...</td>\n",
       "      <td>[]</td>\n",
       "      <td>Some locations will be more difficult to acces...</td>\n",
       "    </tr>\n",
       "    <tr>\n",
       "      <th>153500</th>\n",
       "      <td>153500</td>\n",
       "      <td>Ento Superfoods</td>\n",
       "      <td>We farm healthy and sustainable protein for th...</td>\n",
       "      <td>[]</td>\n",
       "      <td>Ento has worked extremely hard to reduce as mu...</td>\n",
       "    </tr>\n",
       "    <tr>\n",
       "      <th>153575</th>\n",
       "      <td>153575</td>\n",
       "      <td>Unpacked Urban Tote</td>\n",
       "      <td>Artist Designed Urban Tote\\nPunKin Apparel by ...</td>\n",
       "      <td>[]</td>\n",
       "      <td>Any potential risks or challenges to this camp...</td>\n",
       "    </tr>\n",
       "  </tbody>\n",
       "</table>\n",
       "<p>2597 rows × 5 columns</p>\n",
       "</div>"
      ],
      "text/plain": [
       "         index                                               name  \\\n",
       "34          34         HELPING PETEY NATURE GET TO THE NEXT LEVEL   \n",
       "44          44                            Remote Island Fish Camp   \n",
       "85          85                                       Guns & Grams   \n",
       "172        172               Travel to Italy with Michael Belardo   \n",
       "195        195          \"A Favor for A Favor\" by Vincent VenaCava   \n",
       "...        ...                                                ...   \n",
       "153489  153489  Get us back into the studio to Record Souls Ta...   \n",
       "153498  153498                                   WAO NYLONG SHOES   \n",
       "153499  153499                            Adventures in RandyLand   \n",
       "153500  153500                                    Ento Superfoods   \n",
       "153575  153575                                Unpacked Urban Tote   \n",
       "\n",
       "                                                    blurb content  \\\n",
       "34      HELP A NEW NATIONAL RECORDING ARTIST OF FAITH ...      []   \n",
       "44      Rooting our children in their native culture b...      []   \n",
       "85      A story about the Sicilian Mob coming to the u...      []   \n",
       "172     DON'T MISS THIS OPPORTUNITY TO BACK THIS BOOK....      []   \n",
       "195     After his wife's infidelity, Jacob resolves to...      []   \n",
       "...                                                   ...     ...   \n",
       "153489  Blood Luxury will be recording their ep ... wh...      []   \n",
       "153498                   Transforming Trash into Treasure      []   \n",
       "153499  A travel adventure documentary series for YouT...      []   \n",
       "153500  We farm healthy and sustainable protein for th...      []   \n",
       "153575  Artist Designed Urban Tote\\nPunKin Apparel by ...      []   \n",
       "\n",
       "                                           risk_challenge  \n",
       "34      No challenges and no obstacles\\r\\nThis is very...  \n",
       "44      Challenges:\\r\\n\\r\\nFinding a suitable parcel o...  \n",
       "85      I am a member Of the Screen Actors Union and a...  \n",
       "172     After a lifetime of travel in Italy, 25 years ...  \n",
       "195     The only risks that we really face are technol...  \n",
       "...                                                   ...  \n",
       "153489  This wont be an ongoing diatripe, I need the h...  \n",
       "153498  Our bigger challenge is to reach the minimum a...  \n",
       "153499  Some locations will be more difficult to acces...  \n",
       "153500  Ento has worked extremely hard to reduce as mu...  \n",
       "153575  Any potential risks or challenges to this camp...  \n",
       "\n",
       "[2597 rows x 5 columns]"
      ]
     },
     "execution_count": 227,
     "metadata": {},
     "output_type": "execute_result"
    }
   ],
   "source": [
    "# content 컬럼 조회\n",
    "noise_list = [\"[ ]\", \"[]\", \"['']\", '[\\\\]', '[|]', '[?]', '[/]', '[=]', '[+]', '[_]', '[~]', '[`]', '[-]', '[,]', '[.]', \"''\", \"\", \" \", \".\", \"..\", \"...\", \"......\", \"-\", \"_\", \"\\'\", \"\\\"\", \"=\", \"+\", \"()\", \"{}\", \"\\\\\", \"|\", \",\", \"/\", \"~\", \"`\", \"!\", \"@\", \"#\", \"$\", \"%\", \"^\", \"^^\", \"&\", \"*\", \"<\", \">\"]\n",
    "content_noise = text_dataset[text_dataset['content'].isin(noise_list)]\n",
    "content_noise"
   ]
  },
  {
   "cell_type": "code",
   "execution_count": 228,
   "metadata": {},
   "outputs": [
    {
     "name": "stdout",
     "output_type": "stream",
     "text": [
      "2597\n"
     ]
    },
    {
     "data": {
      "text/plain": [
       "Int64Index([    34,     44,     85,    172,    195,    219,    245,    301,\n",
       "               370,    374,\n",
       "            ...\n",
       "            153375, 153419, 153426, 153427, 153441, 153489, 153498, 153499,\n",
       "            153500, 153575],\n",
       "           dtype='int64', length=2597)"
      ]
     },
     "execution_count": 228,
     "metadata": {},
     "output_type": "execute_result"
    }
   ],
   "source": [
    "print(len(content_noise))\n",
    "content_noise.index"
   ]
  },
  {
   "cell_type": "code",
   "execution_count": null,
   "metadata": {},
   "outputs": [],
   "source": [
    "# content 컬럼\n",
    "# 결측치 (27) --> 제거\n",
    "# 특수문자 (2597) --> 제거\n",
    "# 153576 - (27+2597)"
   ]
  },
  {
   "cell_type": "code",
   "execution_count": 229,
   "metadata": {},
   "outputs": [],
   "source": [
    "# 결측치 처리\n",
    "text_dataset.dropna(axis=0, subset=['content'], inplace=True)"
   ]
  },
  {
   "cell_type": "code",
   "execution_count": 230,
   "metadata": {},
   "outputs": [],
   "source": [
    "# 잡음 처리\n",
    "text_dataset.drop(index=content_noise.index, inplace=True)"
   ]
  },
  {
   "cell_type": "code",
   "execution_count": 204,
   "metadata": {},
   "outputs": [
    {
     "name": "stdout",
     "output_type": "stream",
     "text": [
      "2624\n"
     ]
    },
    {
     "data": {
      "text/plain": [
       "150952"
      ]
     },
     "execution_count": 204,
     "metadata": {},
     "output_type": "execute_result"
    }
   ],
   "source": [
    "print(27+2597)\n",
    "153576 - (27+2597)"
   ]
  },
  {
   "cell_type": "code",
   "execution_count": 235,
   "metadata": {},
   "outputs": [
    {
     "name": "stdout",
     "output_type": "stream",
     "text": [
      "결측치: 0\n",
      "False    150952\n",
      "Name: content, dtype: int64\n"
     ]
    },
    {
     "data": {
      "text/html": [
       "<div>\n",
       "<style scoped>\n",
       "    .dataframe tbody tr th:only-of-type {\n",
       "        vertical-align: middle;\n",
       "    }\n",
       "\n",
       "    .dataframe tbody tr th {\n",
       "        vertical-align: top;\n",
       "    }\n",
       "\n",
       "    .dataframe thead th {\n",
       "        text-align: right;\n",
       "    }\n",
       "</style>\n",
       "<table border=\"1\" class=\"dataframe\">\n",
       "  <thead>\n",
       "    <tr style=\"text-align: right;\">\n",
       "      <th></th>\n",
       "      <th>index</th>\n",
       "      <th>name</th>\n",
       "      <th>blurb</th>\n",
       "      <th>content</th>\n",
       "      <th>risk_challenge</th>\n",
       "    </tr>\n",
       "  </thead>\n",
       "  <tbody>\n",
       "  </tbody>\n",
       "</table>\n",
       "</div>"
      ],
      "text/plain": [
       "Empty DataFrame\n",
       "Columns: [index, name, blurb, content, risk_challenge]\n",
       "Index: []"
      ]
     },
     "execution_count": 235,
     "metadata": {},
     "output_type": "execute_result"
    }
   ],
   "source": [
    "# 변경 확인\n",
    "print(\"결측치:\", text_dataset['content'].isna().sum())\n",
    "noise_list = [\"[ ]\", \"[]\", \"['']\", '[\\\\]', '[|]', '[?]', '[/]', '[=]', '[+]', '[_]', '[~]', '[`]', '[-]', '[,]', '[.]', \"''\", \"\", \" \", \".\", \"..\", \"...\", \"......\", \"-\", \"_\", \"\\'\", \"\\\"\", \"=\", \"+\", \"()\", \"{}\", \"\\\\\", \"|\", \",\", \"/\", \"~\", \"`\", \"!\", \"@\", \"#\", \"$\", \"%\", \"^\", \"^^\", \"&\", \"*\", \"<\", \">\"]\n",
    "print(text_dataset['content'].isin(noise_list).value_counts())\n",
    "content_processed = text_dataset[text_dataset['content'].isin(noise_list)]\n",
    "content_processed.head()"
   ]
  },
  {
   "cell_type": "code",
   "execution_count": 236,
   "metadata": {
    "scrolled": true
   },
   "outputs": [
    {
     "data": {
      "text/html": [
       "<div>\n",
       "<style scoped>\n",
       "    .dataframe tbody tr th:only-of-type {\n",
       "        vertical-align: middle;\n",
       "    }\n",
       "\n",
       "    .dataframe tbody tr th {\n",
       "        vertical-align: top;\n",
       "    }\n",
       "\n",
       "    .dataframe thead th {\n",
       "        text-align: right;\n",
       "    }\n",
       "</style>\n",
       "<table border=\"1\" class=\"dataframe\">\n",
       "  <thead>\n",
       "    <tr style=\"text-align: right;\">\n",
       "      <th></th>\n",
       "      <th>index</th>\n",
       "      <th>name</th>\n",
       "      <th>blurb</th>\n",
       "      <th>content</th>\n",
       "      <th>risk_challenge</th>\n",
       "    </tr>\n",
       "  </thead>\n",
       "  <tbody>\n",
       "    <tr>\n",
       "      <th>1349</th>\n",
       "      <td>1349</td>\n",
       "      <td>Geschichten sollen leben</td>\n",
       "      <td>19 Theaterstücke des Schnuppe Figurentheaters ...</td>\n",
       "      <td>['Hallo liebe Interessierte,', 'mein Name ist ...</td>\n",
       "      <td>-</td>\n",
       "    </tr>\n",
       "    <tr>\n",
       "      <th>3311</th>\n",
       "      <td>3311</td>\n",
       "      <td>Wotever DIY Film Festival</td>\n",
       "      <td>WDIYFF is a London based film festival by and ...</td>\n",
       "      <td>[\"Started in 2012 as a one evening event, the ...</td>\n",
       "      <td>.</td>\n",
       "    </tr>\n",
       "    <tr>\n",
       "      <th>4207</th>\n",
       "      <td>4207</td>\n",
       "      <td>ORCA LEATHERCRAFT :  Handcrafted Leather Boots...</td>\n",
       "      <td>A versatile, durable, and waterproof premium f...</td>\n",
       "      <td>['The Orca Leathercraft footwear\\xa0is traditi...</td>\n",
       "      <td>.</td>\n",
       "    </tr>\n",
       "    <tr>\n",
       "      <th>4575</th>\n",
       "      <td>4575</td>\n",
       "      <td>Dunλmis BackPack</td>\n",
       "      <td>No more worrying about being disconnected from...</td>\n",
       "      <td>['How is that ?', 'It is a BackPack manufactur...</td>\n",
       "      <td>.</td>\n",
       "    </tr>\n",
       "    <tr>\n",
       "      <th>5034</th>\n",
       "      <td>5034</td>\n",
       "      <td>New York Symphony Orchestra: Concert</td>\n",
       "      <td>The concert will take place on Nov 7, 2015 at ...</td>\n",
       "      <td>['In\\xa0Beethoven Symphony No. 6, a contrast i...</td>\n",
       "      <td>.</td>\n",
       "    </tr>\n",
       "    <tr>\n",
       "      <th>...</th>\n",
       "      <td>...</td>\n",
       "      <td>...</td>\n",
       "      <td>...</td>\n",
       "      <td>...</td>\n",
       "      <td>...</td>\n",
       "    </tr>\n",
       "    <tr>\n",
       "      <th>152672</th>\n",
       "      <td>152672</td>\n",
       "      <td>THE ETERNAL CALENDAR</td>\n",
       "      <td>Beauty and sustainability meets in the design ...</td>\n",
       "      <td>['The ETERNAL CALENDAR is an  architecturally ...</td>\n",
       "      <td></td>\n",
       "    </tr>\n",
       "    <tr>\n",
       "      <th>152873</th>\n",
       "      <td>152873</td>\n",
       "      <td>ROMBO Picks - The new generation of guitar picks</td>\n",
       "      <td>eco-conscious. stylish. functional.</td>\n",
       "      <td>['Guitar picks are the bridge between you and ...</td>\n",
       "      <td></td>\n",
       "    </tr>\n",
       "    <tr>\n",
       "      <th>153043</th>\n",
       "      <td>153043</td>\n",
       "      <td>FAEMARKET - A Fantasy RPG Anthology</td>\n",
       "      <td>Faemarket is a collaborative anthology with fi...</td>\n",
       "      <td>['You arrive in the first town you’ve seen all...</td>\n",
       "      <td>-</td>\n",
       "    </tr>\n",
       "    <tr>\n",
       "      <th>153073</th>\n",
       "      <td>153073</td>\n",
       "      <td>Euphoria</td>\n",
       "      <td>Euphoria is a short ﬁlm documenting the life o...</td>\n",
       "      <td>['Euphoria is a short ﬁlm documenting the life...</td>\n",
       "      <td>.</td>\n",
       "    </tr>\n",
       "    <tr>\n",
       "      <th>153339</th>\n",
       "      <td>153339</td>\n",
       "      <td>FunTooth | Bottle Cap Catapults</td>\n",
       "      <td>Open bottles and flip off the caps for outrage...</td>\n",
       "      <td>['FunTooth Bottle Cap Catapults are the best w...</td>\n",
       "      <td></td>\n",
       "    </tr>\n",
       "  </tbody>\n",
       "</table>\n",
       "<p>4143 rows × 5 columns</p>\n",
       "</div>"
      ],
      "text/plain": [
       "         index                                               name  \\\n",
       "1349      1349                           Geschichten sollen leben   \n",
       "3311      3311                          Wotever DIY Film Festival   \n",
       "4207      4207  ORCA LEATHERCRAFT :  Handcrafted Leather Boots...   \n",
       "4575      4575                                   Dunλmis BackPack   \n",
       "5034      5034               New York Symphony Orchestra: Concert   \n",
       "...        ...                                                ...   \n",
       "152672  152672                               THE ETERNAL CALENDAR   \n",
       "152873  152873   ROMBO Picks - The new generation of guitar picks   \n",
       "153043  153043                FAEMARKET - A Fantasy RPG Anthology   \n",
       "153073  153073                                           Euphoria   \n",
       "153339  153339                    FunTooth | Bottle Cap Catapults   \n",
       "\n",
       "                                                    blurb  \\\n",
       "1349    19 Theaterstücke des Schnuppe Figurentheaters ...   \n",
       "3311    WDIYFF is a London based film festival by and ...   \n",
       "4207    A versatile, durable, and waterproof premium f...   \n",
       "4575    No more worrying about being disconnected from...   \n",
       "5034    The concert will take place on Nov 7, 2015 at ...   \n",
       "...                                                   ...   \n",
       "152672  Beauty and sustainability meets in the design ...   \n",
       "152873                eco-conscious. stylish. functional.   \n",
       "153043  Faemarket is a collaborative anthology with fi...   \n",
       "153073  Euphoria is a short ﬁlm documenting the life o...   \n",
       "153339  Open bottles and flip off the caps for outrage...   \n",
       "\n",
       "                                                  content risk_challenge  \n",
       "1349    ['Hallo liebe Interessierte,', 'mein Name ist ...              -  \n",
       "3311    [\"Started in 2012 as a one evening event, the ...              .  \n",
       "4207    ['The Orca Leathercraft footwear\\xa0is traditi...              .  \n",
       "4575    ['How is that ?', 'It is a BackPack manufactur...              .  \n",
       "5034    ['In\\xa0Beethoven Symphony No. 6, a contrast i...              .  \n",
       "...                                                   ...            ...  \n",
       "152672  ['The ETERNAL CALENDAR is an  architecturally ...                 \n",
       "152873  ['Guitar picks are the bridge between you and ...                 \n",
       "153043  ['You arrive in the first town you’ve seen all...              -  \n",
       "153073  ['Euphoria is a short ﬁlm documenting the life...              .  \n",
       "153339  ['FunTooth Bottle Cap Catapults are the best w...                 \n",
       "\n",
       "[4143 rows x 5 columns]"
      ]
     },
     "execution_count": 236,
     "metadata": {},
     "output_type": "execute_result"
    }
   ],
   "source": [
    "# risk_challenge 컬럼 조회\n",
    "noise_list = [\"[ ]\", \"[]\", \"['']\", '[\\\\]', '[|]', '[?]', '[/]', '[=]', '[+]', '[_]', '[~]', '[`]', '[-]', '[,]', '[.]', \"''\", \"\", \" \", \".\", \"..\", \"...\", \"......\", \"-\", \"_\", \"\\'\", \"\\\"\", \"=\", \"+\", \"()\", \"{}\", \"\\\\\", \"|\", \",\", \"/\", \"~\", \"`\", \"!\", \"@\", \"#\", \"$\", \"%\", \"^\", \"^^\", \"&\", \"*\", \"<\", \">\"]\n",
    "risk_noise = text_dataset[text_dataset['risk_challenge'].isin(noise_list)]\n",
    "risk_noise"
   ]
  },
  {
   "cell_type": "code",
   "execution_count": 237,
   "metadata": {},
   "outputs": [
    {
     "name": "stdout",
     "output_type": "stream",
     "text": [
      "4143\n"
     ]
    },
    {
     "data": {
      "text/plain": [
       "Int64Index([  1349,   3311,   4207,   4575,   5034,   5178,  10258,  10947,\n",
       "             11387,  12544,\n",
       "            ...\n",
       "            152079, 152088, 152432, 152636, 152644, 152672, 152873, 153043,\n",
       "            153073, 153339],\n",
       "           dtype='int64', length=4143)"
      ]
     },
     "execution_count": 237,
     "metadata": {},
     "output_type": "execute_result"
    }
   ],
   "source": [
    "print(len(risk_noise))\n",
    "risk_noise.index"
   ]
  },
  {
   "cell_type": "code",
   "execution_count": null,
   "metadata": {},
   "outputs": [],
   "source": [
    "# risk_challenge 컬럼\n",
    "# 결측치 (189) --> 공백\n",
    "# 특수문자 (4143) --> 공백"
   ]
  },
  {
   "cell_type": "code",
   "execution_count": 238,
   "metadata": {},
   "outputs": [],
   "source": [
    "# 결측치 처리\n",
    "text_dataset['risk_challenge'].fillna(' ', inplace=True)"
   ]
  },
  {
   "cell_type": "code",
   "execution_count": 239,
   "metadata": {},
   "outputs": [],
   "source": [
    "# 잡음 처리\n",
    "text_dataset.loc[risk_noise.index, 'risk_challenge'] = ' '"
   ]
  },
  {
   "cell_type": "code",
   "execution_count": 240,
   "metadata": {},
   "outputs": [
    {
     "name": "stdout",
     "output_type": "stream",
     "text": [
      "결측치: 0\n",
      "False    146651\n",
      "True       4301\n",
      "Name: risk_challenge, dtype: int64\n"
     ]
    },
    {
     "data": {
      "text/html": [
       "<div>\n",
       "<style scoped>\n",
       "    .dataframe tbody tr th:only-of-type {\n",
       "        vertical-align: middle;\n",
       "    }\n",
       "\n",
       "    .dataframe tbody tr th {\n",
       "        vertical-align: top;\n",
       "    }\n",
       "\n",
       "    .dataframe thead th {\n",
       "        text-align: right;\n",
       "    }\n",
       "</style>\n",
       "<table border=\"1\" class=\"dataframe\">\n",
       "  <thead>\n",
       "    <tr style=\"text-align: right;\">\n",
       "      <th></th>\n",
       "      <th>index</th>\n",
       "      <th>name</th>\n",
       "      <th>blurb</th>\n",
       "      <th>content</th>\n",
       "      <th>risk_challenge</th>\n",
       "    </tr>\n",
       "  </thead>\n",
       "  <tbody>\n",
       "    <tr>\n",
       "      <th>420</th>\n",
       "      <td>420</td>\n",
       "      <td>PALS MAGAZINE</td>\n",
       "      <td>PALS MAGAZINE is an ode to the beauty of frien...</td>\n",
       "      <td>[\"WHAT IS PALS MAGAZINE?It will be published e...</td>\n",
       "      <td></td>\n",
       "    </tr>\n",
       "    <tr>\n",
       "      <th>596</th>\n",
       "      <td>596</td>\n",
       "      <td>Sochi 2014</td>\n",
       "      <td>Sacked. Arrested. Beaten. Kidnapped. Tortured....</td>\n",
       "      <td>[\"A play directed by Josh Whatsize for IYAF in...</td>\n",
       "      <td></td>\n",
       "    </tr>\n",
       "    <tr>\n",
       "      <th>1349</th>\n",
       "      <td>1349</td>\n",
       "      <td>Geschichten sollen leben</td>\n",
       "      <td>19 Theaterstücke des Schnuppe Figurentheaters ...</td>\n",
       "      <td>['Hallo liebe Interessierte,', 'mein Name ist ...</td>\n",
       "      <td></td>\n",
       "    </tr>\n",
       "    <tr>\n",
       "      <th>1616</th>\n",
       "      <td>1616</td>\n",
       "      <td>High in Shanghai: business, blogging, exploring</td>\n",
       "      <td>Greek student in Germany gonna be in Shanghai ...</td>\n",
       "      <td>[\"Ladies and Gent's,\", \"As we know - time is m...</td>\n",
       "      <td></td>\n",
       "    </tr>\n",
       "    <tr>\n",
       "      <th>3311</th>\n",
       "      <td>3311</td>\n",
       "      <td>Wotever DIY Film Festival</td>\n",
       "      <td>WDIYFF is a London based film festival by and ...</td>\n",
       "      <td>[\"Started in 2012 as a one evening event, the ...</td>\n",
       "      <td></td>\n",
       "    </tr>\n",
       "  </tbody>\n",
       "</table>\n",
       "</div>"
      ],
      "text/plain": [
       "      index                                             name  \\\n",
       "420     420                                    PALS MAGAZINE   \n",
       "596     596                                       Sochi 2014   \n",
       "1349   1349                         Geschichten sollen leben   \n",
       "1616   1616  High in Shanghai: business, blogging, exploring   \n",
       "3311   3311                        Wotever DIY Film Festival   \n",
       "\n",
       "                                                  blurb  \\\n",
       "420   PALS MAGAZINE is an ode to the beauty of frien...   \n",
       "596   Sacked. Arrested. Beaten. Kidnapped. Tortured....   \n",
       "1349  19 Theaterstücke des Schnuppe Figurentheaters ...   \n",
       "1616  Greek student in Germany gonna be in Shanghai ...   \n",
       "3311  WDIYFF is a London based film festival by and ...   \n",
       "\n",
       "                                                content risk_challenge  \n",
       "420   [\"WHAT IS PALS MAGAZINE?It will be published e...                 \n",
       "596   [\"A play directed by Josh Whatsize for IYAF in...                 \n",
       "1349  ['Hallo liebe Interessierte,', 'mein Name ist ...                 \n",
       "1616  [\"Ladies and Gent's,\", \"As we know - time is m...                 \n",
       "3311  [\"Started in 2012 as a one evening event, the ...                 "
      ]
     },
     "execution_count": 240,
     "metadata": {},
     "output_type": "execute_result"
    }
   ],
   "source": [
    "# 변경 확인\n",
    "print(\"결측치:\", text_dataset['risk_challenge'].isna().sum())\n",
    "noise_list = [\"[ ]\", \"[]\", \"['']\", '[\\\\]', '[|]', '[?]', '[/]', '[=]', '[+]', '[_]', '[~]', '[`]', '[-]', '[,]', '[.]', \"''\", \"\", \" \", \".\", \"..\", \"...\", \"......\", \"-\", \"_\", \"\\'\", \"\\\"\", \"=\", \"+\", \"()\", \"{}\", \"\\\\\", \"|\", \",\", \"/\", \"~\", \"`\", \"!\", \"@\", \"#\", \"$\", \"%\", \"^\", \"^^\", \"&\", \"*\", \"<\", \">\"]\n",
    "print(text_dataset['risk_challenge'].isin(noise_list).value_counts())\n",
    "    # 총 4301개 ' '로 변환\n",
    "risk_processed = text_dataset[text_dataset['risk_challenge'].isin(noise_list)]\n",
    "risk_processed.head()"
   ]
  },
  {
   "cell_type": "code",
   "execution_count": 242,
   "metadata": {},
   "outputs": [
    {
     "data": {
      "text/plain": [
       "index             0\n",
       "name              0\n",
       "blurb             0\n",
       "content           0\n",
       "risk_challenge    0\n",
       "dtype: int64"
      ]
     },
     "execution_count": 242,
     "metadata": {},
     "output_type": "execute_result"
    }
   ],
   "source": [
    "# 결측치 처리 후 조회\n",
    "text_dataset.isna().sum()"
   ]
  },
  {
   "cell_type": "code",
   "execution_count": 244,
   "metadata": {},
   "outputs": [
    {
     "data": {
      "text/plain": [
       "(150952, 5)"
      ]
     },
     "execution_count": 244,
     "metadata": {},
     "output_type": "execute_result"
    }
   ],
   "source": [
    "# 결측치 및 잡음 처리후 데이터 수\n",
    "text_dataset.shape"
   ]
  },
  {
   "cell_type": "code",
   "execution_count": 260,
   "metadata": {},
   "outputs": [
    {
     "name": "stdout",
     "output_type": "stream",
     "text": [
      "['Meet Jan\n"
     ]
    }
   ],
   "source": [
    "# conent 컬럼 데이터는 웹크롤링 시 리스트([ ])로 묶어서 가져왔기에\n",
    "# 모든 content 컬럼 데이터는 [ ]에 쌓여 있다\n",
    "print(text_dataset['content'][0][:10])"
   ]
  },
  {
   "cell_type": "code",
   "execution_count": 267,
   "metadata": {},
   "outputs": [],
   "source": [
    "# content 컬럼 --> 대괄호 [ ] 제거\n",
    "text_dataset['content'] = text_dataset['content'].apply(lambda x: x.replace('[', '').replace(']', ''))"
   ]
  },
  {
   "cell_type": "code",
   "execution_count": 268,
   "metadata": {},
   "outputs": [
    {
     "name": "stdout",
     "output_type": "stream",
     "text": [
      "'Meet Jane\n",
      "kstarter.\"\n"
     ]
    }
   ],
   "source": [
    "# 변경 확인\n",
    "print(text_dataset['content'][0][:10])\n",
    "print(text_dataset['content'][0][-10:])"
   ]
  },
  {
   "cell_type": "code",
   "execution_count": 270,
   "metadata": {},
   "outputs": [
    {
     "data": {
      "text/html": [
       "<div>\n",
       "<style scoped>\n",
       "    .dataframe tbody tr th:only-of-type {\n",
       "        vertical-align: middle;\n",
       "    }\n",
       "\n",
       "    .dataframe tbody tr th {\n",
       "        vertical-align: top;\n",
       "    }\n",
       "\n",
       "    .dataframe thead th {\n",
       "        text-align: right;\n",
       "    }\n",
       "</style>\n",
       "<table border=\"1\" class=\"dataframe\">\n",
       "  <thead>\n",
       "    <tr style=\"text-align: right;\">\n",
       "      <th></th>\n",
       "      <th>index</th>\n",
       "      <th>name</th>\n",
       "      <th>blurb</th>\n",
       "      <th>content</th>\n",
       "      <th>risk_challenge</th>\n",
       "    </tr>\n",
       "  </thead>\n",
       "  <tbody>\n",
       "    <tr>\n",
       "      <th>0</th>\n",
       "      <td>0</td>\n",
       "      <td>Strange Wit, an original graphic novel about J...</td>\n",
       "      <td>The true biography of the historical figure, w...</td>\n",
       "      <td>'Meet Jane Bowles: incredible author, inspirin...</td>\n",
       "      <td>The main obstacles this book faces are the siz...</td>\n",
       "    </tr>\n",
       "  </tbody>\n",
       "</table>\n",
       "</div>"
      ],
      "text/plain": [
       "   index                                               name  \\\n",
       "0      0  Strange Wit, an original graphic novel about J...   \n",
       "\n",
       "                                               blurb  \\\n",
       "0  The true biography of the historical figure, w...   \n",
       "\n",
       "                                             content  \\\n",
       "0  'Meet Jane Bowles: incredible author, inspirin...   \n",
       "\n",
       "                                      risk_challenge  \n",
       "0  The main obstacles this book faces are the siz...  "
      ]
     },
     "execution_count": 270,
     "metadata": {},
     "output_type": "execute_result"
    }
   ],
   "source": [
    "text_dataset.head(1)"
   ]
  },
  {
   "cell_type": "code",
   "execution_count": 271,
   "metadata": {},
   "outputs": [],
   "source": [
    "#text_dataset.to_csv('./data_2015_2019/text_dataset_cleaned.csv', index=False, encoding='utf-8')"
   ]
  },
  {
   "cell_type": "code",
   "execution_count": null,
   "metadata": {},
   "outputs": [],
   "source": [
    "# content 컬럼과 risk_challenge 컬럼의 택스트 데이터를 합치고, 그 합쳐진 것으로 전처리 및 모델에 적용\n",
    "# content 컬럼 + risk_challenge 컬럼 결합 후 따로 DataFrame으로 만들어 저장"
   ]
  },
  {
   "cell_type": "code",
   "execution_count": 284,
   "metadata": {},
   "outputs": [
    {
     "data": {
      "text/html": [
       "<div>\n",
       "<style scoped>\n",
       "    .dataframe tbody tr th:only-of-type {\n",
       "        vertical-align: middle;\n",
       "    }\n",
       "\n",
       "    .dataframe tbody tr th {\n",
       "        vertical-align: top;\n",
       "    }\n",
       "\n",
       "    .dataframe thead th {\n",
       "        text-align: right;\n",
       "    }\n",
       "</style>\n",
       "<table border=\"1\" class=\"dataframe\">\n",
       "  <thead>\n",
       "    <tr style=\"text-align: right;\">\n",
       "      <th></th>\n",
       "      <th>index</th>\n",
       "      <th>content_risk_merged</th>\n",
       "    </tr>\n",
       "  </thead>\n",
       "  <tbody>\n",
       "    <tr>\n",
       "      <th>0</th>\n",
       "      <td>0</td>\n",
       "      <td>'Meet Jane Bowles: incredible author, inspirin...</td>\n",
       "    </tr>\n",
       "    <tr>\n",
       "      <th>1</th>\n",
       "      <td>1</td>\n",
       "      <td>\"I've always been passionate about efficiency,...</td>\n",
       "    </tr>\n",
       "    <tr>\n",
       "      <th>2</th>\n",
       "      <td>2</td>\n",
       "      <td>'Billet Dice', 'Billet Dice are made from bill...</td>\n",
       "    </tr>\n",
       "    <tr>\n",
       "      <th>3</th>\n",
       "      <td>3</td>\n",
       "      <td>'With this film we want to entertain you in an...</td>\n",
       "    </tr>\n",
       "    <tr>\n",
       "      <th>4</th>\n",
       "      <td>4</td>\n",
       "      <td>'The Splash Drone is a fully waterproof quad c...</td>\n",
       "    </tr>\n",
       "    <tr>\n",
       "      <th>...</th>\n",
       "      <td>...</td>\n",
       "      <td>...</td>\n",
       "    </tr>\n",
       "    <tr>\n",
       "      <th>150947</th>\n",
       "      <td>153570</td>\n",
       "      <td>'Vivian is a New York–based design label start...</td>\n",
       "    </tr>\n",
       "    <tr>\n",
       "      <th>150948</th>\n",
       "      <td>153571</td>\n",
       "      <td>'Hello there! My name is Chloe and I’m the art...</td>\n",
       "    </tr>\n",
       "    <tr>\n",
       "      <th>150949</th>\n",
       "      <td>153572</td>\n",
       "      <td>\"For the relaunch of the Beastly Boutique, I w...</td>\n",
       "    </tr>\n",
       "    <tr>\n",
       "      <th>150950</th>\n",
       "      <td>153573</td>\n",
       "      <td>'Your application to become a Produce Social M...</td>\n",
       "    </tr>\n",
       "    <tr>\n",
       "      <th>150951</th>\n",
       "      <td>153574</td>\n",
       "      <td>\"I'm a Contemporary Christian artist. I want m...</td>\n",
       "    </tr>\n",
       "  </tbody>\n",
       "</table>\n",
       "<p>150952 rows × 2 columns</p>\n",
       "</div>"
      ],
      "text/plain": [
       "         index                                content_risk_merged\n",
       "0            0  'Meet Jane Bowles: incredible author, inspirin...\n",
       "1            1  \"I've always been passionate about efficiency,...\n",
       "2            2  'Billet Dice', 'Billet Dice are made from bill...\n",
       "3            3  'With this film we want to entertain you in an...\n",
       "4            4  'The Splash Drone is a fully waterproof quad c...\n",
       "...        ...                                                ...\n",
       "150947  153570  'Vivian is a New York–based design label start...\n",
       "150948  153571  'Hello there! My name is Chloe and I’m the art...\n",
       "150949  153572  \"For the relaunch of the Beastly Boutique, I w...\n",
       "150950  153573  'Your application to become a Produce Social M...\n",
       "150951  153574  \"I'm a Contemporary Christian artist. I want m...\n",
       "\n",
       "[150952 rows x 2 columns]"
      ]
     },
     "execution_count": 284,
     "metadata": {},
     "output_type": "execute_result"
    }
   ],
   "source": [
    "content_risk_merged = text_dataset['content']+text_dataset['risk_challenge']\n",
    "content_risk_merged_df = pd.DataFrame(content_risk_merged, columns=['content_risk_merged']).reset_index()\n",
    "content_risk_merged_df"
   ]
  },
  {
   "cell_type": "code",
   "execution_count": 285,
   "metadata": {},
   "outputs": [],
   "source": [
    "#content_risk_merged_df.to_csv('./data_2015_2019/content_risk_merged.csv', index=False, encoding='utf-8')"
   ]
  },
  {
   "cell_type": "markdown",
   "metadata": {},
   "source": [
    "## - 추가 전처리 및 토큰화"
   ]
  },
  {
   "cell_type": "code",
   "execution_count": 1,
   "metadata": {},
   "outputs": [],
   "source": [
    "import pandas as pd\n",
    "import numpy as np\n",
    "import nltk\n",
    "from nltk.corpus import stopwords\n",
    "from nltk.stem import PorterStemmer, LancasterStemmer, SnowballStemmer\n",
    "from nltk.stem import WordNetLemmatizer\n",
    "from nltk.tokenize import word_tokenize\n",
    "from nltk.tokenize import sent_tokenize\n",
    "from nltk import Text, FreqDist\n",
    "import tensorflow as tf\n",
    "from tensorflow.keras.preprocessing.text import Tokenizer\n",
    "from tensorflow.keras.utils import to_categorical\n",
    "import sklearn\n",
    "import string\n",
    "import re"
   ]
  },
  {
   "cell_type": "code",
   "execution_count": 4,
   "metadata": {},
   "outputs": [
    {
     "data": {
      "text/plain": [
       "'2.1.0'"
      ]
     },
     "execution_count": 4,
     "metadata": {},
     "output_type": "execute_result"
    }
   ],
   "source": [
    "tf.__version__"
   ]
  },
  {
   "cell_type": "code",
   "execution_count": 6,
   "metadata": {},
   "outputs": [
    {
     "name": "stdout",
     "output_type": "stream",
     "text": [
      "True\n",
      "[PhysicalDevice(name='/physical_device:GPU:0', device_type='GPU')]\n"
     ]
    }
   ],
   "source": [
    "# GPU 사용 여부 확인\n",
    "print(tf.test.is_built_with_cuda())\n",
    "print(tf.config.list_physical_devices('GPU'))"
   ]
  },
  {
   "cell_type": "code",
   "execution_count": 1,
   "metadata": {},
   "outputs": [],
   "source": [
    "import pandas as pd\n",
    "import numpy as np\n",
    "\n",
    "content_risk_merged_df = pd.read_csv('./content_risk_merged.csv')"
   ]
  },
  {
   "cell_type": "code",
   "execution_count": 2,
   "metadata": {},
   "outputs": [
    {
     "data": {
      "text/plain": [
       "(150952, 2)"
      ]
     },
     "execution_count": 2,
     "metadata": {},
     "output_type": "execute_result"
    }
   ],
   "source": [
    "content_risk_merged_df.shape"
   ]
  },
  {
   "cell_type": "code",
   "execution_count": 5,
   "metadata": {},
   "outputs": [
    {
     "data": {
      "text/html": [
       "<div>\n",
       "<style scoped>\n",
       "    .dataframe tbody tr th:only-of-type {\n",
       "        vertical-align: middle;\n",
       "    }\n",
       "\n",
       "    .dataframe tbody tr th {\n",
       "        vertical-align: top;\n",
       "    }\n",
       "\n",
       "    .dataframe thead th {\n",
       "        text-align: right;\n",
       "    }\n",
       "</style>\n",
       "<table border=\"1\" class=\"dataframe\">\n",
       "  <thead>\n",
       "    <tr style=\"text-align: right;\">\n",
       "      <th></th>\n",
       "      <th>index</th>\n",
       "      <th>content_risk_merged</th>\n",
       "    </tr>\n",
       "  </thead>\n",
       "  <tbody>\n",
       "    <tr>\n",
       "      <th>0</th>\n",
       "      <td>0</td>\n",
       "      <td>'Meet Jane Bowles: incredible author, inspirin...</td>\n",
       "    </tr>\n",
       "    <tr>\n",
       "      <th>1</th>\n",
       "      <td>1</td>\n",
       "      <td>\"I've always been passionate about efficiency,...</td>\n",
       "    </tr>\n",
       "    <tr>\n",
       "      <th>2</th>\n",
       "      <td>2</td>\n",
       "      <td>'Billet Dice', 'Billet Dice are made from bill...</td>\n",
       "    </tr>\n",
       "    <tr>\n",
       "      <th>3</th>\n",
       "      <td>3</td>\n",
       "      <td>'With this film we want to entertain you in an...</td>\n",
       "    </tr>\n",
       "    <tr>\n",
       "      <th>4</th>\n",
       "      <td>4</td>\n",
       "      <td>'The Splash Drone is a fully waterproof quad c...</td>\n",
       "    </tr>\n",
       "  </tbody>\n",
       "</table>\n",
       "</div>"
      ],
      "text/plain": [
       "   index                                content_risk_merged\n",
       "0      0  'Meet Jane Bowles: incredible author, inspirin...\n",
       "1      1  \"I've always been passionate about efficiency,...\n",
       "2      2  'Billet Dice', 'Billet Dice are made from bill...\n",
       "3      3  'With this film we want to entertain you in an...\n",
       "4      4  'The Splash Drone is a fully waterproof quad c..."
      ]
     },
     "execution_count": 5,
     "metadata": {},
     "output_type": "execute_result"
    }
   ],
   "source": [
    "content_risk_merged_df.head()"
   ]
  },
  {
   "cell_type": "code",
   "execution_count": 7,
   "metadata": {},
   "outputs": [
    {
     "data": {
      "text/plain": [
       "Index                        128\n",
       "index                    1207616\n",
       "content_risk_merged    975025472\n",
       "dtype: int64"
      ]
     },
     "execution_count": 7,
     "metadata": {},
     "output_type": "execute_result"
    }
   ],
   "source": [
    "content_risk_merged_df.memory_usage(deep=True)"
   ]
  },
  {
   "cell_type": "code",
   "execution_count": 8,
   "metadata": {},
   "outputs": [
    {
     "name": "stderr",
     "output_type": "stream",
     "text": [
      "[nltk_data] Downloading package punkt to /home/eodud0582/nltk_data...\n",
      "[nltk_data]   Unzipping tokenizers/punkt.zip.\n",
      "[nltk_data] Downloading package stopwords to\n",
      "[nltk_data]     /home/eodud0582/nltk_data...\n",
      "[nltk_data]   Unzipping corpora/stopwords.zip.\n",
      "[nltk_data] Downloading package wordnet to\n",
      "[nltk_data]     /home/eodud0582/nltk_data...\n",
      "[nltk_data]   Unzipping corpora/wordnet.zip.\n",
      "[nltk_data] Downloading package tagsets to\n",
      "[nltk_data]     /home/eodud0582/nltk_data...\n",
      "[nltk_data]   Unzipping help/tagsets.zip.\n",
      "[nltk_data] Downloading package averaged_perceptron_tagger to\n",
      "[nltk_data]     /home/eodud0582/nltk_data...\n",
      "[nltk_data]   Unzipping taggers/averaged_perceptron_tagger.zip.\n"
     ]
    },
    {
     "data": {
      "text/plain": [
       "True"
      ]
     },
     "execution_count": 8,
     "metadata": {},
     "output_type": "execute_result"
    }
   ],
   "source": [
    "#nltk.download('추가패키지명')\n",
    "\n",
    "nltk.download('punkt')\n",
    "nltk.download('stopwords')\n",
    "nltk.download('wordnet')\n",
    "nltk.download('tagsets')\n",
    "nltk.download('averaged_perceptron_tagger')"
   ]
  },
  {
   "cell_type": "code",
   "execution_count": null,
   "metadata": {},
   "outputs": [],
   "source": [
    "nltk.sent_tokenize(text) #문장 단위 토큰화\n",
    "nltk.word_tokenize(text) #단어 단위 토큰화\n",
    "nltk.regexp_tokenize(text, '\\d') #숫자만 토큰화\n",
    "nltk.regexp_tokenize(text, '\\w') #철자/글자(letter) 단위 토큰화\n",
    "nltk.regexp_tokenize(text, r'\\w+') #단어 단위 토큰화"
   ]
  },
  {
   "cell_type": "code",
   "execution_count": null,
   "metadata": {},
   "outputs": [],
   "source": [
    "stopwords.fileids() #nltk가 지원하는 stopword 언어 조회\n",
    "'''\n",
    "['arabic','azerbaijani','danish','dutch','english','finnish',\n",
    "'french','german','greek','hungarian','indonesian','italian',\n",
    "'kazakh','nepali','norwegian','portuguese','romanian','russian',\n",
    "'slovene','spanish','swedish','tajik','turkish']\n",
    "'''\n",
    "stopwords.words('언어') #지원되는 언어의 stopwords 조회"
   ]
  },
  {
   "cell_type": "code",
   "execution_count": null,
   "metadata": {},
   "outputs": [],
   "source": [
    "content_risk_merged_df['content_risk_merged'][0]"
   ]
  },
  {
   "cell_type": "code",
   "execution_count": 335,
   "metadata": {},
   "outputs": [
    {
     "data": {
      "text/plain": [
       "True"
      ]
     },
     "execution_count": 335,
     "metadata": {},
     "output_type": "execute_result"
    }
   ],
   "source": [
    "'\\\\xa0' in content_risk_merged_df['content_risk_merged'][0] "
   ]
  },
  {
   "cell_type": "code",
   "execution_count": 338,
   "metadata": {},
   "outputs": [
    {
     "data": {
      "text/plain": [
       "True"
      ]
     },
     "execution_count": 338,
     "metadata": {},
     "output_type": "execute_result"
    }
   ],
   "source": [
    "'\\\\t' in content_risk_merged_df['content_risk_merged'][0]"
   ]
  },
  {
   "cell_type": "code",
   "execution_count": 324,
   "metadata": {},
   "outputs": [
    {
     "data": {
      "text/plain": [
       "'!\"#$%&\\'()*+,-./:;<=>?@[\\\\]^_`{|}~'"
      ]
     },
     "execution_count": 324,
     "metadata": {},
     "output_type": "execute_result"
    }
   ],
   "source": [
    "string.punctuation"
   ]
  },
  {
   "cell_type": "code",
   "execution_count": 329,
   "metadata": {},
   "outputs": [
    {
     "data": {
      "text/plain": [
       "True"
      ]
     },
     "execution_count": 329,
     "metadata": {},
     "output_type": "execute_result"
    }
   ],
   "source": [
    "'\\\\' in string.punctuation"
   ]
  },
  {
   "cell_type": "code",
   "execution_count": 10,
   "metadata": {},
   "outputs": [
    {
     "data": {
      "text/plain": [
       "6800"
      ]
     },
     "execution_count": 10,
     "metadata": {},
     "output_type": "execute_result"
    }
   ],
   "source": [
    "# Kickstarter 크라우드펀딩은 국가 분포는 영어권이 다수이지만, 다른 언어권의 펀딩들도 있기에 \n",
    "# nltk가 지원하는 stopword 언어의 모든 stopwords를 사용할 것이다\n",
    "len(stopwords.words(stopwords.fileids()))"
   ]
  },
  {
   "cell_type": "code",
   "execution_count": 71,
   "metadata": {},
   "outputs": [
    {
     "data": {
      "text/plain": [
       "'0123456789'"
      ]
     },
     "execution_count": 71,
     "metadata": {},
     "output_type": "execute_result"
    }
   ],
   "source": [
    "string.digits"
   ]
  },
  {
   "cell_type": "code",
   "execution_count": 3,
   "metadata": {},
   "outputs": [],
   "source": [
    "# 텍스트 전처리 함수\n",
    "def text_preprocessing(document):\n",
    "    #소문자 변환\n",
    "    document = document.lower()\n",
    "    \n",
    "    #추가로 발견한 노이즈 제거\n",
    "    document = document.replace('\\\\xa0', ' ')\n",
    "    document = document.replace('\\\\t', ' ')\n",
    "    document = document.replace('\\\\n', ' ')\n",
    "    \n",
    "    #특수문자 제거\n",
    "    punct_pattern = '[{}]'.format(string.punctuation)\n",
    "    document = re.sub(punct_pattern, ' ', document)\n",
    "    \n",
    "    #숫자 제거\n",
    "    document = re.sub(r'\\d+', ' ', document)\n",
    "        #digit_pattern = '[{}]'.format(string.digits)\n",
    "        #document = re.sub(digit_pattern, ' ', document)\n",
    "    \n",
    "    #stopword 제거, stemming 처리 및 토큰화\n",
    "    stop_words = stopwords.words(stopwords.fileids()) #지원되는 모든 stopwords\n",
    "    stop_words.extend(['“','”','‘','’','•']) #추가로 발견한 특수문자\n",
    "    stemmer = PorterStemmer() #어간 추출\n",
    "    word_token = nltk.word_tokenize(document)\n",
    "    result_token = [stemmer.stem(word) for word in word_token if word not in stop_words and len(word) > 2]\n",
    "        # 불용어이고 문자/철자 수가 2개 이하인 단어는 제거\n",
    "    \n",
    "    return result_token # ' '.join(result_token)"
   ]
  },
  {
   "cell_type": "code",
   "execution_count": null,
   "metadata": {},
   "outputs": [],
   "source": [
    "# 토크나이즈\n",
    "preprocessed_result_token = content_risk_merged_df['content_risk_merged'].apply(text_preprocessing)"
   ]
  },
  {
   "cell_type": "code",
   "execution_count": null,
   "metadata": {},
   "outputs": [],
   "source": [
    "#preprocessed_result_token.to_pickle('preprocessed_result_token.pkl')"
   ]
  },
  {
   "cell_type": "code",
   "execution_count": 1,
   "metadata": {},
   "outputs": [
    {
     "data": {
      "text/html": [
       "<div>\n",
       "<style scoped>\n",
       "    .dataframe tbody tr th:only-of-type {\n",
       "        vertical-align: middle;\n",
       "    }\n",
       "\n",
       "    .dataframe tbody tr th {\n",
       "        vertical-align: top;\n",
       "    }\n",
       "\n",
       "    .dataframe thead th {\n",
       "        text-align: right;\n",
       "    }\n",
       "</style>\n",
       "<table border=\"1\" class=\"dataframe\">\n",
       "  <thead>\n",
       "    <tr style=\"text-align: right;\">\n",
       "      <th></th>\n",
       "      <th>index</th>\n",
       "      <th>result_token</th>\n",
       "    </tr>\n",
       "  </thead>\n",
       "  <tbody>\n",
       "    <tr>\n",
       "      <th>0</th>\n",
       "      <td>0</td>\n",
       "      <td>[meet, jane, bowl, incred, author, inspir, wom...</td>\n",
       "    </tr>\n",
       "    <tr>\n",
       "      <th>1</th>\n",
       "      <td>1</td>\n",
       "      <td>[alway, passion, effici, sinc, discov, tini, h...</td>\n",
       "    </tr>\n",
       "    <tr>\n",
       "      <th>2</th>\n",
       "      <td>2</td>\n",
       "      <td>[billet, dice, billet, dice, made, billet, alu...</td>\n",
       "    </tr>\n",
       "    <tr>\n",
       "      <th>3</th>\n",
       "      <td>3</td>\n",
       "      <td>[film, entertain, entic, film, see, show, dire...</td>\n",
       "    </tr>\n",
       "    <tr>\n",
       "      <th>4</th>\n",
       "      <td>4</td>\n",
       "      <td>[splash, drone, fulli, waterproof, quad, copte...</td>\n",
       "    </tr>\n",
       "    <tr>\n",
       "      <th>...</th>\n",
       "      <td>...</td>\n",
       "      <td>...</td>\n",
       "    </tr>\n",
       "    <tr>\n",
       "      <th>150947</th>\n",
       "      <td>153570</td>\n",
       "      <td>[vivian, new, york–bas, design, label, start, ...</td>\n",
       "    </tr>\n",
       "    <tr>\n",
       "      <th>150948</th>\n",
       "      <td>153571</td>\n",
       "      <td>[hello, chloe, artist, behind, plant, suppli, ...</td>\n",
       "    </tr>\n",
       "    <tr>\n",
       "      <th>150949</th>\n",
       "      <td>153572</td>\n",
       "      <td>[relaunch, beastli, boutiqu, want, someth, spe...</td>\n",
       "    </tr>\n",
       "    <tr>\n",
       "      <th>150950</th>\n",
       "      <td>153573</td>\n",
       "      <td>[applic, becom, produc, social, media, social,...</td>\n",
       "    </tr>\n",
       "    <tr>\n",
       "      <th>150951</th>\n",
       "      <td>153574</td>\n",
       "      <td>[contemporari, christian, artist, music, creat...</td>\n",
       "    </tr>\n",
       "  </tbody>\n",
       "</table>\n",
       "<p>150952 rows × 2 columns</p>\n",
       "</div>"
      ],
      "text/plain": [
       "         index                                       result_token\n",
       "0            0  [meet, jane, bowl, incred, author, inspir, wom...\n",
       "1            1  [alway, passion, effici, sinc, discov, tini, h...\n",
       "2            2  [billet, dice, billet, dice, made, billet, alu...\n",
       "3            3  [film, entertain, entic, film, see, show, dire...\n",
       "4            4  [splash, drone, fulli, waterproof, quad, copte...\n",
       "...        ...                                                ...\n",
       "150947  153570  [vivian, new, york–bas, design, label, start, ...\n",
       "150948  153571  [hello, chloe, artist, behind, plant, suppli, ...\n",
       "150949  153572  [relaunch, beastli, boutiqu, want, someth, spe...\n",
       "150950  153573  [applic, becom, produc, social, media, social,...\n",
       "150951  153574  [contemporari, christian, artist, music, creat...\n",
       "\n",
       "[150952 rows x 2 columns]"
      ]
     },
     "execution_count": 1,
     "metadata": {},
     "output_type": "execute_result"
    }
   ],
   "source": [
    "# 불러온 (토큰화 완료된) result_token --> 우선 원본 DataFrame에 한 컬럼으로 추가 한 후 (index 번호를 가지기 위해) 토큰화 하기 전의 텍스트 컬럼은 제거\n",
    "import pandas as pd\n",
    "import numpy as np\n",
    "\n",
    "content_risk_merged_df = pd.read_csv('./content_risk_merged.csv')\n",
    "preprocessed_result_token = pd.read_pickle('preprocessed_result_token.pkl')\n",
    "content_risk_merged_df['result_token'] = preprocessed_result_token\n",
    "df_result_token = content_risk_merged_df.drop(columns=['content_risk_merged'])\n",
    "df_result_token"
   ]
  },
  {
   "cell_type": "code",
   "execution_count": 2,
   "metadata": {},
   "outputs": [],
   "source": [
    "# 피클로 저장\n",
    "df_result_token.to_pickle('preprocessed_result_token.pkl')"
   ]
  },
  {
   "cell_type": "markdown",
   "metadata": {},
   "source": [
    "## - 데이터 사이즈 문제로 우선 사이즈를 줄여서 진행\n",
    "- Google Cloud --> CPU 16개로 맞추고, 메모리도 배로 더 키우고, GPU도 한 단계 더 좋은 것으로 선택하였지만, CNN단계로 넘어가 convolution layer 처리 하기도 전에 임베딩 단계에서 메모리 오류 지속 발생\n",
    "- 데이터 양을 대폭 줄이고 임베딩 겨우 성공해도 CNN단계의 convolution layer에서 또 메모리 오류"
   ]
  },
  {
   "cell_type": "code",
   "execution_count": 33,
   "metadata": {},
   "outputs": [
    {
     "data": {
      "text/plain": [
       "36141     4277\n",
       "97891     3048\n",
       "130653    3046\n",
       "17821     2995\n",
       "67256     2926\n",
       "          ... \n",
       "96568     1545\n",
       "117532    1545\n",
       "104905    1544\n",
       "121145    1544\n",
       "12758     1544\n",
       "Name: content_risk_merged, Length: 1000, dtype: int64"
      ]
     },
     "execution_count": 33,
     "metadata": {},
     "output_type": "execute_result"
    }
   ],
   "source": [
    "# 분포 확인\n",
    "token_length = df_result_token['content_risk_merged'].apply(lambda x: len(x)) # lambda 사용\n",
    "token_length.sort_values(ascending=False)[:1000]\n",
    "#오름차순으로 1000개까지 확인 결과 상대적으로 작은 길이의 doc이 많은 듯\n",
    "#내림차순으로 조회시 길이가 2000 이상인 doc은 300여개 정도 있음"
   ]
  },
  {
   "cell_type": "code",
   "execution_count": 21,
   "metadata": {},
   "outputs": [
    {
     "name": "stdout",
     "output_type": "stream",
     "text": [
      "29091\n",
      "1375\n"
     ]
    }
   ],
   "source": [
    "print(len(df_result_token[(df_result_token['result_token'].map(len) > 500)])) # map(len) 사용\n",
    "print(len(df_result_token[(df_result_token['result_token'].map(len) < 30)]))"
   ]
  },
  {
   "cell_type": "code",
   "execution_count": 2,
   "metadata": {},
   "outputs": [
    {
     "data": {
      "text/plain": [
       "120486"
      ]
     },
     "execution_count": 2,
     "metadata": {},
     "output_type": "execute_result"
    }
   ],
   "source": [
    "# 토큰 개수가/길이를 조건으로 하여 데이터셋 규모 줄이기\n",
    "df_result_token_reduced = df_result_token[(df_result_token['result_token'].map(len) < 501) & \\\n",
    "                                          (df_result_token['result_token'].map(len) > 29)]\n",
    "len(df_result_token_reduced)\n",
    "# 길이가 1000 이하, 50 이상인 doc만 가져와 DataFrame 생성"
   ]
  },
  {
   "cell_type": "code",
   "execution_count": 5,
   "metadata": {},
   "outputs": [
    {
     "data": {
      "text/html": [
       "<div>\n",
       "<style scoped>\n",
       "    .dataframe tbody tr th:only-of-type {\n",
       "        vertical-align: middle;\n",
       "    }\n",
       "\n",
       "    .dataframe tbody tr th {\n",
       "        vertical-align: top;\n",
       "    }\n",
       "\n",
       "    .dataframe thead th {\n",
       "        text-align: right;\n",
       "    }\n",
       "</style>\n",
       "<table border=\"1\" class=\"dataframe\">\n",
       "  <thead>\n",
       "    <tr style=\"text-align: right;\">\n",
       "      <th></th>\n",
       "      <th>index</th>\n",
       "      <th>content_risk_merged</th>\n",
       "    </tr>\n",
       "  </thead>\n",
       "  <tbody>\n",
       "    <tr>\n",
       "      <th>1</th>\n",
       "      <td>1</td>\n",
       "      <td>[alway, passion, effici, sinc, discov, tini, h...</td>\n",
       "    </tr>\n",
       "    <tr>\n",
       "      <th>2</th>\n",
       "      <td>2</td>\n",
       "      <td>[billet, dice, billet, dice, made, billet, alu...</td>\n",
       "    </tr>\n",
       "    <tr>\n",
       "      <th>3</th>\n",
       "      <td>3</td>\n",
       "      <td>[film, entertain, entic, film, see, show, dire...</td>\n",
       "    </tr>\n",
       "    <tr>\n",
       "      <th>5</th>\n",
       "      <td>5</td>\n",
       "      <td>[writer, sinc, could, hold, crayon, like, brea...</td>\n",
       "    </tr>\n",
       "    <tr>\n",
       "      <th>7</th>\n",
       "      <td>7</td>\n",
       "      <td>[year, flagship, magazin, bunburi, magazin, tu...</td>\n",
       "    </tr>\n",
       "    <tr>\n",
       "      <th>...</th>\n",
       "      <td>...</td>\n",
       "      <td>...</td>\n",
       "    </tr>\n",
       "    <tr>\n",
       "      <th>150947</th>\n",
       "      <td>150947</td>\n",
       "      <td>[vivian, new, york–bas, design, label, start, ...</td>\n",
       "    </tr>\n",
       "    <tr>\n",
       "      <th>150948</th>\n",
       "      <td>150948</td>\n",
       "      <td>[hello, chloe, artist, behind, plant, suppli, ...</td>\n",
       "    </tr>\n",
       "    <tr>\n",
       "      <th>150949</th>\n",
       "      <td>150949</td>\n",
       "      <td>[relaunch, beastli, boutiqu, want, someth, spe...</td>\n",
       "    </tr>\n",
       "    <tr>\n",
       "      <th>150950</th>\n",
       "      <td>150950</td>\n",
       "      <td>[applic, becom, produc, social, media, social,...</td>\n",
       "    </tr>\n",
       "    <tr>\n",
       "      <th>150951</th>\n",
       "      <td>150951</td>\n",
       "      <td>[contemporari, christian, artist, music, creat...</td>\n",
       "    </tr>\n",
       "  </tbody>\n",
       "</table>\n",
       "<p>87681 rows × 2 columns</p>\n",
       "</div>"
      ],
      "text/plain": [
       "         index                                content_risk_merged\n",
       "1            1  [alway, passion, effici, sinc, discov, tini, h...\n",
       "2            2  [billet, dice, billet, dice, made, billet, alu...\n",
       "3            3  [film, entertain, entic, film, see, show, dire...\n",
       "5            5  [writer, sinc, could, hold, crayon, like, brea...\n",
       "7            7  [year, flagship, magazin, bunburi, magazin, tu...\n",
       "...        ...                                                ...\n",
       "150947  150947  [vivian, new, york–bas, design, label, start, ...\n",
       "150948  150948  [hello, chloe, artist, behind, plant, suppli, ...\n",
       "150949  150949  [relaunch, beastli, boutiqu, want, someth, spe...\n",
       "150950  150950  [applic, becom, produc, social, media, social,...\n",
       "150951  150951  [contemporari, christian, artist, music, creat...\n",
       "\n",
       "[87681 rows x 2 columns]"
      ]
     },
     "execution_count": 5,
     "metadata": {},
     "output_type": "execute_result"
    }
   ],
   "source": [
    "df_result_token_reduced"
   ]
  },
  {
   "cell_type": "code",
   "execution_count": 40,
   "metadata": {},
   "outputs": [
    {
     "data": {
      "text/plain": [
       "Int64Index([0, 2, 3, 4, 5, 6, 7, 11, 13, 14], dtype='int64')"
      ]
     },
     "execution_count": 40,
     "metadata": {},
     "output_type": "execute_result"
    }
   ],
   "source": [
    "# 인덱스 번호는 따로 뽑아 놓았다가 나중에 텍스트 처리 과정이 다 끝나고 이미지 데이터와 메타 데이터와 합칠 때, 이 인덱스를 base로 --> 이 인덱스의 행들만 남겨두고 나머지는 다 지워야 함\n",
    "df_result_token_reduced.index[0:10]"
   ]
  },
  {
   "cell_type": "code",
   "execution_count": 3,
   "metadata": {},
   "outputs": [
    {
     "data": {
      "text/html": [
       "<div>\n",
       "<style scoped>\n",
       "    .dataframe tbody tr th:only-of-type {\n",
       "        vertical-align: middle;\n",
       "    }\n",
       "\n",
       "    .dataframe tbody tr th {\n",
       "        vertical-align: top;\n",
       "    }\n",
       "\n",
       "    .dataframe thead th {\n",
       "        text-align: right;\n",
       "    }\n",
       "</style>\n",
       "<table border=\"1\" class=\"dataframe\">\n",
       "  <thead>\n",
       "    <tr style=\"text-align: right;\">\n",
       "      <th></th>\n",
       "      <th>index</th>\n",
       "      <th>result_token</th>\n",
       "    </tr>\n",
       "  </thead>\n",
       "  <tbody>\n",
       "    <tr>\n",
       "      <th>73097</th>\n",
       "      <td>74306</td>\n",
       "      <td>[gelant, sinnvollen, ide, bereit, prototyp, re...</td>\n",
       "    </tr>\n",
       "    <tr>\n",
       "      <th>73098</th>\n",
       "      <td>74307</td>\n",
       "      <td>[hallo, freund, ide, einfach, simpl, gilt, web...</td>\n",
       "    </tr>\n",
       "    <tr>\n",
       "      <th>73099</th>\n",
       "      <td>74308</td>\n",
       "      <td>[gypsi, fur, brother, jake, shi, want, quietli...</td>\n",
       "    </tr>\n",
       "    <tr>\n",
       "      <th>73100</th>\n",
       "      <td>74309</td>\n",
       "      <td>[self, publish, self, design, go, self, print,...</td>\n",
       "    </tr>\n",
       "    <tr>\n",
       "      <th>73101</th>\n",
       "      <td>74310</td>\n",
       "      <td>[project, updat, final, stretch, hey, friend, ...</td>\n",
       "    </tr>\n",
       "    <tr>\n",
       "      <th>...</th>\n",
       "      <td>...</td>\n",
       "      <td>...</td>\n",
       "    </tr>\n",
       "    <tr>\n",
       "      <th>150947</th>\n",
       "      <td>153570</td>\n",
       "      <td>[vivian, new, york–bas, design, label, start, ...</td>\n",
       "    </tr>\n",
       "    <tr>\n",
       "      <th>150948</th>\n",
       "      <td>153571</td>\n",
       "      <td>[hello, chloe, artist, behind, plant, suppli, ...</td>\n",
       "    </tr>\n",
       "    <tr>\n",
       "      <th>150949</th>\n",
       "      <td>153572</td>\n",
       "      <td>[relaunch, beastli, boutiqu, want, someth, spe...</td>\n",
       "    </tr>\n",
       "    <tr>\n",
       "      <th>150950</th>\n",
       "      <td>153573</td>\n",
       "      <td>[applic, becom, produc, social, media, social,...</td>\n",
       "    </tr>\n",
       "    <tr>\n",
       "      <th>150951</th>\n",
       "      <td>153574</td>\n",
       "      <td>[contemporari, christian, artist, music, creat...</td>\n",
       "    </tr>\n",
       "  </tbody>\n",
       "</table>\n",
       "<p>60486 rows × 2 columns</p>\n",
       "</div>"
      ],
      "text/plain": [
       "         index                                       result_token\n",
       "73097    74306  [gelant, sinnvollen, ide, bereit, prototyp, re...\n",
       "73098    74307  [hallo, freund, ide, einfach, simpl, gilt, web...\n",
       "73099    74308  [gypsi, fur, brother, jake, shi, want, quietli...\n",
       "73100    74309  [self, publish, self, design, go, self, print,...\n",
       "73101    74310  [project, updat, final, stretch, hey, friend, ...\n",
       "...        ...                                                ...\n",
       "150947  153570  [vivian, new, york–bas, design, label, start, ...\n",
       "150948  153571  [hello, chloe, artist, behind, plant, suppli, ...\n",
       "150949  153572  [relaunch, beastli, boutiqu, want, someth, spe...\n",
       "150950  153573  [applic, becom, produc, social, media, social,...\n",
       "150951  153574  [contemporari, christian, artist, music, creat...\n",
       "\n",
       "[60486 rows x 2 columns]"
      ]
     },
     "execution_count": 3,
     "metadata": {},
     "output_type": "execute_result"
    }
   ],
   "source": [
    "# 60000개 제거...\n",
    "df_result_token_reduced_more = df_result_token_reduced.drop(df_result_token_reduced.index[0:60000])\n",
    "df_result_token_reduced_more"
   ]
  },
  {
   "cell_type": "code",
   "execution_count": 3,
   "metadata": {},
   "outputs": [
    {
     "data": {
      "text/plain": [
       "(60952, 2)"
      ]
     },
     "execution_count": 3,
     "metadata": {},
     "output_type": "execute_result"
    }
   ],
   "source": [
    "# token length를 줄이지 말고 데이터 양(행 수)를 줄여야 할까?\n",
    "df_result_token_reduced = df_result_token.drop(df_result_token.index[0:90000])\n",
    "df_result_token_reduced.shape"
   ]
  },
  {
   "cell_type": "code",
   "execution_count": null,
   "metadata": {},
   "outputs": [],
   "source": [
    "# 위 DataFrame으로 정수 인코딩 다시 실행"
   ]
  },
  {
   "cell_type": "markdown",
   "metadata": {},
   "source": [
    "## - 정수 인코딩(Integer Encoding)"
   ]
  },
  {
   "cell_type": "code",
   "execution_count": 4,
   "metadata": {},
   "outputs": [],
   "source": [
    "import tensorflow as tf\n",
    "from tensorflow.keras.preprocessing.text import Tokenizer\n",
    "from tensorflow.keras.preprocessing.sequence import pad_sequences\n",
    "from tensorflow.keras.models import Sequential\n",
    "from tensorflow.keras.layers import Conv1D, SeparableConv1D, MaxPooling1D, GlobalMaxPooling1D, GlobalAveragePooling1D\n",
    "from tensorflow.keras.layers import Embedding, Dropout, Flatten, Dense"
   ]
  },
  {
   "cell_type": "code",
   "execution_count": 5,
   "metadata": {},
   "outputs": [],
   "source": [
    "# 메모리 부족 문제 해결을 위한 Tensorflow GPU 사용 설정 변경\n",
    "import tensorflow as tf\n",
    "\n",
    "config = tf.compat.v1.ConfigProto()\n",
    "config.gpu_options.allow_growth = True\n",
    "sess = tf.compat.v1.Session(config=config)"
   ]
  },
  {
   "cell_type": "code",
   "execution_count": 6,
   "metadata": {},
   "outputs": [
    {
     "name": "stdout",
     "output_type": "stream",
     "text": [
      "<class 'pandas.core.series.Series'>\n",
      "(60486,)\n",
      "73097    [gelant, sinnvollen, ide, bereit, prototyp, re...\n",
      "73098    [hallo, freund, ide, einfach, simpl, gilt, web...\n",
      "73099    [gypsi, fur, brother, jake, shi, want, quietli...\n",
      "73100    [self, publish, self, design, go, self, print,...\n",
      "73101    [project, updat, final, stretch, hey, friend, ...\n",
      "Name: result_token, dtype: object\n"
     ]
    }
   ],
   "source": [
    "# 정수 인코딩\n",
    "# 우선 데이터 프레임에서 인덱스 컬럼은 두고 토큰 컬럼만 가져오기\n",
    "result_token = df_result_token_reduced_more['result_token']\n",
    "print(type(result_token))\n",
    "print(result_token.shape)\n",
    "print(result_token.head())"
   ]
  },
  {
   "cell_type": "code",
   "execution_count": 7,
   "metadata": {},
   "outputs": [],
   "source": [
    "# define documents\n",
    "docs = result_token.tolist() # nltk tokenizer로 토큰화한 각 document/행별 단어 토큰 리스트를 하나의 큰 리스트로 묶었다"
   ]
  },
  {
   "cell_type": "code",
   "execution_count": 8,
   "metadata": {},
   "outputs": [
    {
     "name": "stdout",
     "output_type": "stream",
     "text": [
      "210164\n"
     ]
    }
   ],
   "source": [
    "# Keras의 Tokenizer() 사용\n",
    "t = Tokenizer()\n",
    "t.fit_on_texts(docs) # 코퍼스(리스트)를 입력으로 하면 빈도수를 기준으로 단어 집합을 생성\n",
    "    # ([docs]) -- 만약 전 단계에서 list로 안 만들었다면 리스트 []로\n",
    "vocab_size = len(t.word_index) + 1 \n",
    "print(vocab_size) # 각 단어 index\n",
    "#print(t.word_index) # 각 단어에 대한 (index)인코딩 결과 출력\n",
    "#print(t.word_counts) # 각 단어 개수 (문서별))\n",
    "\n",
    "# 각 문장에 대해 정수 인코딩 수행 (integer encode the documents)\n",
    "encoded_docs = t.texts_to_sequences(docs)\n",
    "#print(encoded_docs[0][:10])"
   ]
  },
  {
   "cell_type": "code",
   "execution_count": 9,
   "metadata": {},
   "outputs": [
    {
     "name": "stdout",
     "output_type": "stream",
     "text": [
      "3048\n"
     ]
    }
   ],
   "source": [
    "# 가장 길이가 긴 doc의 길이\n",
    "max_length = max(len(l) for l in encoded_docs)\n",
    "print(max_length) #문서 중에서 가장 길이가 긴 문서의 길이는 1188"
   ]
  },
  {
   "cell_type": "code",
   "execution_count": 9,
   "metadata": {},
   "outputs": [],
   "source": [
    "max_length = 500 #(바로 위의 과정을 생략하고) 메모리를 아끼기 위해 그냥 직접 변수 설정"
   ]
  },
  {
   "cell_type": "code",
   "execution_count": 10,
   "metadata": {},
   "outputs": [
    {
     "name": "stdout",
     "output_type": "stream",
     "text": [
      "(60486, 500)\n"
     ]
    }
   ],
   "source": [
    "# 모든 문서 패딩하여 max_length(가장 길이가 긴 문서 길이)에 길이 맞추기 (pad documents to the max length)\n",
    "padded_docs = pad_sequences(encoded_docs, maxlen=max_length, padding='post')\n",
    "print(padded_docs.shape)\n",
    "#print(padded_docs)\n",
    "\n",
    "# 텍스트 데이터에 대한 전처리(토큰화,패딩)는 완료"
   ]
  },
  {
   "cell_type": "code",
   "execution_count": 13,
   "metadata": {},
   "outputs": [
    {
     "name": "stdout",
     "output_type": "stream",
     "text": [
      "[[   91   220  1199 ...     0     0     0]\n",
      " [12817  1427 12817 ...     0     0     0]\n",
      " [   25   640  4975 ...     0     0     0]\n",
      " [  490   151    94 ...     0     0     0]\n",
      " [   11  5620   521 ...     0     0     0]]\n"
     ]
    }
   ],
   "source": [
    "print(padded_docs[0:5])"
   ]
  },
  {
   "cell_type": "code",
   "execution_count": null,
   "metadata": {},
   "outputs": [],
   "source": [
    "# [Test] 원-핫 인코딩 (One-hot encoding)\n",
    "one_hot_docs = to_categorical(padded_docs)\n",
    "print(one_hot_docs.shape)\n",
    "#print(one_hot_docs)\n",
    "#print(one_hot_docs.flatten()) \n",
    "#print(len(one_hot_docs.flatten())) "
   ]
  },
  {
   "cell_type": "code",
   "execution_count": null,
   "metadata": {},
   "outputs": [],
   "source": [
    "# 단어의 잠재 의미를 반영하여 다차원 공간에 벡터화 하는 기법 중\n",
    "# 단어를 밀집 벡터(dense vector)의 형태로 표현하는 방법인 워드 임베딩 사용"
   ]
  },
  {
   "cell_type": "markdown",
   "metadata": {},
   "source": [
    "## - 임베딩(Embedding)\n",
    "### Pre-trained GloVe 사용\n",
    "- 일반적으로 임베딩이란 X, y 값이 있을 때 훈련시킬 데이터인 X와 target인 y를 이용해 훈련하며 임베딩이 되는 방식 -- 예를들어, Word2Vec, GloVe 등 학습시킬 model을 만들면서 (model = Sequential() 이런 식으로) Embedding()을 함께 넣어서 돌리는 방식\n",
    "- 임베딩은 target이 있어야 하지만 이 모델링에선 이미지, 텍스트, 메타 데이터 처리한 것을 다 결합한 다음 X, y를 나눌 계획, 즉, y 없이 임베딩을 시켜야 한다는 것\n",
    "- 따라서, X, y 나누는 것 없이 임베딩을 할 수 있는 Pre-trained된 GloVe를 가져왔고, Embedding()을 directly 적용"
   ]
  },
  {
   "cell_type": "code",
   "execution_count": 11,
   "metadata": {},
   "outputs": [
    {
     "name": "stdout",
     "output_type": "stream",
     "text": [
      "Loaded embedding vectors: 400000\n"
     ]
    }
   ],
   "source": [
    "# Pre-trained Glove 읽어오기\n",
    "# Load all the word embeddings from the pre-trained GloVe\n",
    "\n",
    "embedding_dict = dict()\n",
    "\n",
    "f = open('./glove.6B.50d.txt', encoding='utf-8')\n",
    "for line in f:\n",
    "    word_vector = line.split()  # 각 줄을 읽어와서 word_vector에 저장\n",
    "    #print(word_vector) # 각 줄을 출력\n",
    "    word = word_vector[0] # word_vector에서 첫번째 값만 저장 -- 단어\n",
    "    #print(word) # word_vector의 첫번째 값만 출력\n",
    "    word_vector_arr = np.asarray(word_vector[1:], dtype='float32') # -- 임베딩 벡터\n",
    "    embedding_dict[word] = word_vector_arr\n",
    "    #break\n",
    "f.close()\n",
    "\n",
    "print(\"Loaded embedding vectors:\", len(embedding_dict))"
   ]
  },
  {
   "cell_type": "code",
   "execution_count": null,
   "metadata": {},
   "outputs": [],
   "source": [
    "# 잠깐 GloVe 벡터 구경을 해보자"
   ]
  },
  {
   "cell_type": "code",
   "execution_count": 21,
   "metadata": {},
   "outputs": [
    {
     "name": "stdout",
     "output_type": "stream",
     "text": [
      "[-0.049773   0.19903    0.10585    0.1391    -0.32395    0.44053\n",
      "  0.3947    -0.22805   -0.25793    0.49768    0.15384   -0.08831\n",
      "  0.0782    -0.8299    -0.037788   0.16772   -0.45197   -0.17085\n",
      "  0.74756    0.98256    0.81872    0.28507    0.16178   -0.48626\n",
      " -0.006265  -0.92469   -0.30625   -0.067318  -0.046762  -0.76291\n",
      " -0.0025264 -0.018795   0.12882   -0.52457    0.3586     0.43119\n",
      " -0.89477   -0.057421  -0.53724    0.25587    0.55195    0.44698\n",
      " -0.24252    0.29946    0.25776   -0.8717     0.68426   -0.05688\n",
      " -0.1848    -0.59352   -0.11227   -0.57692   -0.013593   0.18488\n",
      " -0.32507   -0.90171    0.17672    0.075601   0.54896   -0.21488\n",
      " -0.54018   -0.45882   -0.79536    0.26331    0.18879   -0.16363\n",
      "  0.3975     0.1099     0.1164    -0.083499   0.50159    0.35802\n",
      "  0.25677    0.088546   0.42108    0.28674   -0.71285   -0.82915\n",
      "  0.15297   -0.82712    0.022112   1.067     -0.31776    0.1211\n",
      " -0.069755  -0.61327    0.27308   -0.42638   -0.085084  -0.17694\n",
      " -0.0090944  0.1109     0.62543   -0.23682   -0.44928   -0.3667\n",
      " -0.21616   -0.19187   -0.032502   0.38025  ]\n",
      "100\n"
     ]
    }
   ],
   "source": [
    "# 임의의 단어 'respectable'에 대한 임베딩 벡터 출력\n",
    "print(embedding_dict['respectable'])\n",
    "print(len(embedding_dict['respectable']))"
   ]
  },
  {
   "cell_type": "code",
   "execution_count": null,
   "metadata": {},
   "outputs": [],
   "source": [
    "# 벡터값이 출력 되면서 길이는 100인 것 확인"
   ]
  },
  {
   "cell_type": "code",
   "execution_count": null,
   "metadata": {},
   "outputs": [],
   "source": [
    "print(t.word_index.items()) # 모든 단어와 해당 index의 집합\n",
    "'''\n",
    "dict_items([('http', 1), ('garner', 2), ('eric', 3), ('famili', 4), ('end', 5), ('today', 6), \n",
    "('www', 7), ('song', 8), ('releas', 9), ('2015', 10), ('make', 11), ...])\n",
    "'''"
   ]
  },
  {
   "cell_type": "code",
   "execution_count": 35,
   "metadata": {},
   "outputs": [
    {
     "data": {
      "image/png": "[encoded data removed]",
      "text/plain": [
       "<Figure size 720x720 with 1 Axes>"
      ]
     },
     "metadata": {
      "needs_background": "light"
     },
     "output_type": "display_data"
    }
   ],
   "source": [
    "# Pre-trained GloVe 임베딩 벡터 시각화 : sklearn의 TSNE 사용\n",
    "\n",
    "tsne = TSNE(n_components=2, random_state=0)\n",
    "words = list(embedding_dict.keys())\n",
    "vectors = [embedding_dict[word] for word in words]\n",
    "\n",
    "Y = tsne.fit_transform(vectors[:500]) #400,000개 중 500개만 조회\n",
    "plt.figure(figsize=(10,10))\n",
    "plt.scatter(Y[:, 0], Y[:, 1])\n",
    "for label, x, y in zip(words, Y[:, 0], Y[:, 1]):\n",
    "    plt.annotate(label, xy=(x, y), xytext=(0, 0), textcoords=\"offset points\")\n",
    "plt.show()"
   ]
  },
  {
   "cell_type": "code",
   "execution_count": null,
   "metadata": {},
   "outputs": [],
   "source": [
    "# 다시 임베딩 과정 계속"
   ]
  },
  {
   "cell_type": "code",
   "execution_count": 12,
   "metadata": {},
   "outputs": [],
   "source": [
    "# Create a weight matrix for words in docs\n",
    "# 훈련 데이터의 단어 집합의 모든 단어에 대해서 사전 훈련된 GloVe의 임베딩 벡터들을 맵핑\n",
    "# 단어의 index 부분에 해당 vector 값을 꺼내어 넣어주기\n",
    "embedding_matrix = np.zeros((vocab_size, 50)) # 단어 집합 크기의 행과 100개의 열을 가지는 행렬 생성; 값은 전부 0으로 채워진다\n",
    "\n",
    "for word, index in t.word_index.items(): # 훈련 데이터의 단어 집합에서 단어를 1개씩 꺼내온다.\n",
    "    if index > vocab_size - 1:\n",
    "        break\n",
    "    else:\n",
    "        embedding_vector = embedding_dict.get(word) # 단어(key)에 해당되는 임베딩 벡터의 100개의 값(value)를 임시 변수에 저장\n",
    "        if embedding_vector is not None: # 만약 임시 변수(임베딩 벡터) 값이 있다면\n",
    "            embedding_matrix[index] = embedding_vector # 임시 변수의 값을 단어와 맵핑되는 인덱스의 행에 삽입"
   ]
  },
  {
   "cell_type": "code",
   "execution_count": 13,
   "metadata": {},
   "outputs": [],
   "source": [
    "# 임베딩 1 -- Keras의 Embedding() 사용\n",
    "from tensorflow.keras.layers import Embedding\n",
    "\n",
    "embedding = Embedding(vocab_size, 50, weights=[embedding_matrix], input_length=max_length, trainable=False)\n",
    "    # input_dim = vocab_size; output_dim = 100; input_length는 최대 문장 길이;\n",
    "    # trainable false인 경우에는 pre-trained된 vector값이 변하지 않음 (사전 훈련된 워드 임베딩을 그대로 사용할 것이므로, 별도로 더 이상 훈련을 하지 않는다는 옵션)"
   ]
  },
  {
   "cell_type": "code",
   "execution_count": null,
   "metadata": {},
   "outputs": [],
   "source": [
    "# nvidia-smi\n",
    "# watch -n 0.1 nvidia-smi"
   ]
  },
  {
   "cell_type": "code",
   "execution_count": 19,
   "metadata": {},
   "outputs": [
    {
     "data": {
      "text/plain": [
       "(80952, 3048)"
      ]
     },
     "execution_count": 19,
     "metadata": {},
     "output_type": "execute_result"
    }
   ],
   "source": [
    "padded_docs.shape"
   ]
  },
  {
   "cell_type": "code",
   "execution_count": 20,
   "metadata": {},
   "outputs": [
    {
     "name": "stdout",
     "output_type": "stream",
     "text": [
      "Failed copying input tensor from /job:localhost/replica:0/task:0/device:CPU:0 to /job:localhost/replica:0/task:0/device:GPU:0 in order to run Identity: Dst tensor is not initialized. [Op:Identity]\n"
     ]
    }
   ],
   "source": [
    "try:\n",
    "    embedding_result = embedding(tf.constant(padded_docs))\n",
    "    print(embedding_result.shape)\n",
    "except Exception as ex:\n",
    "    print(ex)\n",
    "\n",
    "# 메모리 오류가 났다"
   ]
  },
  {
   "cell_type": "code",
   "execution_count": 14,
   "metadata": {},
   "outputs": [
    {
     "name": "stdout",
     "output_type": "stream",
     "text": [
      "(60486, 500, 50)\n"
     ]
    }
   ],
   "source": [
    "# 데이터 양을 대폭 줄인 것으로 다시 임베딩\n",
    "try:\n",
    "    embedding_result = embedding(tf.constant(padded_docs))\n",
    "    print(embedding_result.shape)\n",
    "except Exception as ex:\n",
    "    print(ex)\n",
    "    \n",
    "# 겨우 성공..."
   ]
  },
  {
   "cell_type": "markdown",
   "metadata": {},
   "source": [
    "## - CNN 사용\n",
    "- CNN은 보통 image에서 많이 사용된다고 알려져 있지만, 텍스트에서도 좋은 효과를 낼 수 있다는 것을 “Convolutional Neural Network for Sentence Classification” (Yoon Kim, NYU, 2014) 에서 입증\n",
    "- RNN이 단어의 입력 순서를 중요하게 반영한다면, CNN은 문장의 지역정보를 보존하면서 각 문장 성분(단어/표현)의 등장(순서) 정보를 학습에 반영하는 구조로 풀어간다; 학습할 때 각 필터 크기를 조절하면서 언어의 특징 값을 추출\n",
    "- RNN은 계산량이 너무 많음; 텍스트 분류나 시계열 예측 같은 간단한 문제에는 1D convnet이 RNN을 대신하여 더 적은 비용으로 빠르게 처리 가능; 전반적 순서가 의미가 없다면 1D convnet이 적어도 동일한 성능을 내면서 비용도 적음\n",
    "- 1D convnet과 RNN 결합 --> CNN읜 속도와 경량함을 RNN의 순서 감지 능력과 결합하여, CNN을 RNN 이전에 전처리 단계로 사용하고 수천 개의 step을 가지는 긴 시퀀스를 다룰 때 경제적이면서도 빠른 응답 속도를 가지게 할 수 있음"
   ]
  },
  {
   "cell_type": "code",
   "execution_count": null,
   "metadata": {},
   "outputs": [],
   "source": [
    "# 자연어 처리 분야에선 합성곱 연산의 경우 주로 케라스 모듈 중 Conv1D를 사용\n",
    "# MaxPooling1D 함께 활용\n",
    "# 합성곱의 방향 : 한 방향(가로); 출력값 : 1-D Array(Vector)\n",
    "# 일렬로 쭉 늘어졌기 때문에"
   ]
  },
  {
   "cell_type": "code",
   "execution_count": null,
   "metadata": {},
   "outputs": [],
   "source": [
    "# label/target을 아직 여기선 사용하지 않을 것이기에 훈련을 시킬 수 없다\n",
    "# 그렇기에 이런 식의 layer을 쌓아 model 생성 X\n",
    "model = Sequential()\n",
    "model.add(Conv1D(64, 5, activation='relu'))\n",
    "model.add(MaxPooling1D(pool_size=4))\n",
    "model.add(Dropout(0.2))\n",
    "model.add(LSTM(100))\n",
    "model.compile()\n",
    "model.fit()"
   ]
  },
  {
   "cell_type": "code",
   "execution_count": 1,
   "metadata": {},
   "outputs": [],
   "source": [
    "import pandas as pd\n",
    "import numpy as np\n",
    "import pickle\n",
    "\n",
    "import tensorflow as tf\n",
    "from tensorflow.keras.models import Sequential\n",
    "from tensorflow.keras.layers import Conv1D, SeparableConv1D, MaxPooling1D, GlobalMaxPooling1D, GlobalAveragePooling1D\n",
    "from tensorflow.keras.layers import Embedding, Dropout, Flatten, Dense\n",
    "from tensorflow.keras.layers import LSTM, GRU\n",
    "from tensorflow.keras.utils import to_categorical\n",
    "from sklearn.manifold import TSNE"
   ]
  },
  {
   "cell_type": "code",
   "execution_count": 3,
   "metadata": {},
   "outputs": [],
   "source": [
    "#config = tf.compat.v1.ConfigProto()\n",
    "#config.gpu_options.allow_growth = True\n",
    "#sess = tf.compat.v1.Session(config=config)"
   ]
  },
  {
   "cell_type": "code",
   "execution_count": null,
   "metadata": {},
   "outputs": [],
   "source": [
    "# Keras 딥러닝 layer에서 사용 가능한 기능들을 manually 적용"
   ]
  },
  {
   "cell_type": "markdown",
   "metadata": {},
   "source": [
    "### Conv1D + MaxPooling1D"
   ]
  },
  {
   "cell_type": "code",
   "execution_count": 22,
   "metadata": {},
   "outputs": [
    {
     "name": "stdout",
     "output_type": "stream",
     "text": [
      "(10, 272, 64)\n",
      "(10, 67, 128)\n",
      "(10, 15, 256)\n",
      "(10, 3840)\n",
      "tf.Tensor(\n",
      "[[0.1820065  0.         0.         ... 0.         0.         0.        ]\n",
      " [0.         0.         0.         ... 0.         0.         0.        ]\n",
      " [0.31844628 0.         0.         ... 0.         0.         0.        ]\n",
      " ...\n",
      " [0.26216236 0.         0.         ... 0.         0.         0.        ]\n",
      " [0.34001914 0.         0.         ... 0.84466124 0.2953177  0.        ]\n",
      " [0.04820913 0.         0.04454558 ... 0.         0.         0.        ]], shape=(10, 3840), dtype=float32)\n"
     ]
    }
   ],
   "source": [
    "# CNN 적용 : Conv1D + MaxPooling1D\n",
    "\n",
    "# 1번째 layer\n",
    "first_conv_applied = Conv1D(64, 5, activation='relu')(test_embedding_result)\n",
    "    # filters=64: 필터 갯수, 출력의 차원수를 의미\n",
    "    # kernel_size=5: 필터의 크기; 리스트 혹은 튜플 형태로 지정; 합성곱이 적용되는 윈도우의 길이를 나타냄\n",
    "first_max_pool_applied = MaxPooling1D(pool_size=4)(first_conv_applied)\n",
    "first_drop_out_applied = Dropout(0.3)(first_max_pool_applied)\n",
    "print(first_drop_out_applied.shape)\n",
    "#print(first_drop_out_applied)\n",
    "\n",
    "# 2번째 layer\n",
    "second_conv_applied = Conv1D(128, 5, activation='relu')(first_drop_out_applied)\n",
    "second_max_pool_applied = MaxPooling1D(pool_size=4)(second_conv_applied)\n",
    "second_drop_out_applied = Dropout(0.3)(second_max_pool_applied)\n",
    "print(second_drop_out_applied.shape)\n",
    "#print(second_drop_out_applied)\n",
    "\n",
    "# 3번째 layer\n",
    "third_conv_applied = Conv1D(256, 5, activation='relu')(second_drop_out_applied)\n",
    "third_max_pool_applied = MaxPooling1D(pool_size=4)(third_conv_applied)\n",
    "third_drop_out_applied = Dropout(0.3)(third_max_pool_applied)\n",
    "print(third_drop_out_applied.shape)\n",
    "#print(third_drop_out_applied)\n",
    "\n",
    "# CNN은 전역풀링층(Global Average/Max Pooling) 또는 Flatten()으로 마무리\n",
    "# Flatten() 사용하여 1차원으로 펴주기\n",
    "text_data_flattened = Flatten()(third_drop_out_applied)\n",
    "print(text_data_flattened.shape)\n",
    "print(text_data_flattened)"
   ]
  },
  {
   "cell_type": "markdown",
   "metadata": {},
   "source": [
    "### SeparableConv1D"
   ]
  },
  {
   "cell_type": "code",
   "execution_count": 23,
   "metadata": {},
   "outputs": [
    {
     "name": "stdout",
     "output_type": "stream",
     "text": [
      "(10, 272, 64)\n",
      "(10, 67, 128)\n",
      "(10, 15, 256)\n",
      "(10, 3840)\n",
      "tf.Tensor(\n",
      "[[1.5234390e-03 0.0000000e+00 0.0000000e+00 ... 0.0000000e+00\n",
      "  0.0000000e+00 0.0000000e+00]\n",
      " [7.8502035e-04 2.4610682e-04 0.0000000e+00 ... 0.0000000e+00\n",
      "  0.0000000e+00 0.0000000e+00]\n",
      " [1.7211036e-03 0.0000000e+00 0.0000000e+00 ... 0.0000000e+00\n",
      "  0.0000000e+00 0.0000000e+00]\n",
      " ...\n",
      " [1.4059035e-03 0.0000000e+00 0.0000000e+00 ... 0.0000000e+00\n",
      "  0.0000000e+00 0.0000000e+00]\n",
      " [1.1366272e-03 0.0000000e+00 0.0000000e+00 ... 1.0796952e-03\n",
      "  0.0000000e+00 5.7935624e-05]\n",
      " [9.0714160e-04 2.0068536e-04 0.0000000e+00 ... 0.0000000e+00\n",
      "  0.0000000e+00 0.0000000e+00]], shape=(10, 3840), dtype=float32)\n"
     ]
    }
   ],
   "source": [
    "# SeparableConv1D 사용\n",
    "# 일반적인 합성곱이 동일하지만 더 빠르고 가볍고 효율적으로 표현을 학습하는 깊이별 분할 합성곱(depthwise separable convolution)\n",
    "# 입력 채널별로 따로따로 공간 방향의 합성곱을 수행\n",
    "\n",
    "from tensorflow.keras.layers import SeparableConv1D, MaxPooling1D, Dropout, Flatten\n",
    "\n",
    "# 1번째 layer\n",
    "first_conv_applied = SeparableConv1D(64, 5, activation='relu')(test_embedding_result)\n",
    "first_max_pool_applied = MaxPooling1D(pool_size=4)(first_conv_applied)\n",
    "first_drop_out_applied = Dropout(0.3)(first_max_pool_applied)\n",
    "print(first_drop_out_applied.shape)\n",
    "\n",
    "# 2번째 layer\n",
    "second_conv_applied = SeparableConv1D(128, 5, activation='relu')(first_drop_out_applied)\n",
    "second_max_pool_applied = MaxPooling1D(pool_size=4)(second_conv_applied)\n",
    "second_drop_out_applied = Dropout(0.3)(second_max_pool_applied)\n",
    "print(second_drop_out_applied.shape)\n",
    "\n",
    "# 3번째 layer\n",
    "third_conv_applied = SeparableConv1D(256, 5, activation='relu')(second_drop_out_applied)\n",
    "third_max_pool_applied = MaxPooling1D(pool_size=4)(third_conv_applied)\n",
    "third_drop_out_applied = Dropout(0.3)(third_max_pool_applied)\n",
    "print(third_drop_out_applied.shape)\n",
    "\n",
    "# 전역풀링층(Global Average/Max Pooling) 또는 Flatten()으로 마무리\n",
    "# Flatten() 사용하여 1차원으로 펴주기\n",
    "text_data_flattened = Flatten()(third_drop_out_applied)\n",
    "print(text_data_flattened.shape)\n",
    "print(text_data_flattened)"
   ]
  },
  {
   "cell_type": "markdown",
   "metadata": {},
   "source": [
    "### Global Average/Max Pooling (전역 풀링)"
   ]
  },
  {
   "cell_type": "code",
   "execution_count": 20,
   "metadata": {},
   "outputs": [
    {
     "name": "stdout",
     "output_type": "stream",
     "text": [
      "(10, 272, 64)\n",
      "(10, 67, 128)\n",
      "(10, 256)\n",
      "(10, 256)\n"
     ]
    }
   ],
   "source": [
    "# Global Average/Max Pooling (전역 풀링) 사용\n",
    "\n",
    "# 1번째 layer\n",
    "first_conv_applied = SeparableConv1D(64, 5, activation='relu')(test_embedding_result)\n",
    "first_max_pool_applied = MaxPooling1D(pool_size=4)(first_conv_applied)\n",
    "first_drop_out_applied = Dropout(0.3)(first_max_pool_applied)\n",
    "print(first_drop_out_applied.shape)\n",
    "\n",
    "# 2번째 layer\n",
    "second_conv_applied = SeparableConv1D(128, 5, activation='relu')(first_drop_out_applied)\n",
    "second_max_pool_applied = MaxPooling1D(pool_size=4)(second_conv_applied)\n",
    "second_drop_out_applied = Dropout(0.3)(second_max_pool_applied)\n",
    "print(second_drop_out_applied.shape)\n",
    "\n",
    "# 3번째 layer\n",
    "third_conv_applied = SeparableConv1D(256, 5, activation='relu')(second_drop_out_applied)\n",
    "\n",
    "# GlobalMaxPooling1D()\n",
    "glob_max_pool_applied = GlobalMaxPooling1D()(third_conv_applied)\n",
    "print(glob_max_pool_applied.shape)\n",
    "# GlobalAveragePooling1D()\n",
    "glob_avg_pool_applied = GlobalAveragePooling1D()(third_conv_applied)\n",
    "print(glob_avg_pool_applied.shape)"
   ]
  },
  {
   "cell_type": "markdown",
   "metadata": {},
   "source": [
    "### CNN + Recurrent Neural Network(RNN)"
   ]
  },
  {
   "cell_type": "code",
   "execution_count": 148,
   "metadata": {},
   "outputs": [
    {
     "name": "stdout",
     "output_type": "stream",
     "text": [
      "(10, 272, 64)\n",
      "(10, 67, 128)\n",
      "(10, 15, 256)\n",
      "(10, 256)\n",
      "tf.Tensor(\n",
      "[[-8.0843289e-05 -3.6791270e-04 -6.4249733e-05 ... -9.0546535e-05\n",
      "   1.9519238e-04  2.2823896e-04]\n",
      " [-1.8632451e-06 -1.3478514e-05 -2.8256502e-06 ... -6.8535737e-06\n",
      "   4.0166401e-06  1.3835316e-05]\n",
      " [-1.2373234e-05 -5.5111785e-05 -1.9395839e-05 ... -1.8369885e-05\n",
      "   2.8549550e-05  3.7947448e-05]\n",
      " ...\n",
      " [-1.1913069e-05 -7.4201555e-05 -2.3536721e-05 ... -1.8782310e-05\n",
      "   3.7651029e-05  4.0657756e-05]\n",
      " [-4.2961264e-04 -1.0359280e-03 -5.8856835e-06 ... -2.3490742e-04\n",
      "   1.0445771e-03  7.7025243e-04]\n",
      " [-4.2689721e-06 -1.0308417e-05 -4.8424795e-06 ... -4.3052778e-06\n",
      "   3.2704640e-06  1.0627952e-05]], shape=(10, 256), dtype=float32)\n",
      "(10, 256)\n",
      "tf.Tensor(\n",
      "[[ 3.13869641e-05 -7.74973068e-06 -4.09812455e-05 ... -3.52541292e-07\n",
      "   2.04782937e-05  2.06051282e-05]\n",
      " [-1.24546249e-08  1.48813740e-07 -8.24400530e-08 ...  1.30438735e-07\n",
      "   8.62759748e-08  1.92516580e-07]\n",
      " [ 4.46658362e-07  6.88172804e-07 -9.00181988e-07 ...  1.46629404e-07\n",
      "   1.17761749e-06  6.79096615e-07]\n",
      " ...\n",
      " [ 9.67839014e-07  5.48755622e-07 -1.38348855e-06 ...  7.59092487e-08\n",
      "   1.13404587e-06  1.16904857e-06]\n",
      " [-5.14777435e-04 -8.72660195e-04 -7.39187119e-04 ...  5.26100979e-04\n",
      "   4.27892955e-04  1.21686244e-04]\n",
      " [ 3.25174199e-08  1.63533528e-07  5.08897990e-09 ...  1.21701589e-07\n",
      "   2.22413775e-07  1.99634272e-07]], shape=(10, 256), dtype=float32)\n"
     ]
    }
   ],
   "source": [
    "# CNN + Recurrent Neural Network(RNN) 사용\n",
    "\n",
    "# 1번째 layer\n",
    "first_conv_applied = SeparableConv1D(64, 5, activation='relu')(test_embedding_result)\n",
    "first_max_pool_applied = MaxPooling1D(pool_size=4)(first_conv_applied)\n",
    "first_drop_out_applied = Dropout(0.3)(first_max_pool_applied)\n",
    "print(first_drop_out_applied.shape)\n",
    "\n",
    "# 2번째 layer\n",
    "second_conv_applied = SeparableConv1D(128, 5, activation='relu')(first_drop_out_applied)\n",
    "second_max_pool_applied = MaxPooling1D(pool_size=4)(second_conv_applied)\n",
    "second_drop_out_applied = Dropout(0.3)(second_max_pool_applied)\n",
    "print(second_drop_out_applied.shape)\n",
    "\n",
    "# 3번째 layer\n",
    "third_conv_applied = SeparableConv1D(256, 5, activation='relu')(second_drop_out_applied)\n",
    "third_max_pool_applied = MaxPooling1D(pool_size=4)(third_conv_applied)\n",
    "third_drop_out_applied = Dropout(0.3)(third_max_pool_applied)\n",
    "print(third_drop_out_applied.shape)\n",
    "\n",
    "# Recurrent Neural Network(RNN)\n",
    "# Long Short Term Memory(LSTM) 사용\n",
    "lstm_applied = LSTM(256)(third_drop_out_applied)\n",
    "print(lstm_applied.shape)\n",
    "print(lstm_applied)\n",
    "# Gated Recurrent Unit(Gated Recurrent Unit) 사용\n",
    "gru_applied = GRU(256)(third_drop_out_applied)\n",
    "print(gru_applied.shape)\n",
    "print(gru_applied)"
   ]
  },
  {
   "cell_type": "markdown",
   "metadata": {},
   "source": [
    "## - 처리한 데이터셋 모델 적용\n",
    "- 그나마 가벼운 것으로 보이는 SeparableConv1D 사용"
   ]
  },
  {
   "cell_type": "code",
   "execution_count": 15,
   "metadata": {
    "scrolled": true
   },
   "outputs": [
    {
     "ename": "ResourceExhaustedError",
     "evalue": "OOM when allocating tensor with shape[60486,1,498,32] and type float on /job:localhost/replica:0/task:0/device:GPU:0 by allocator GPU_0_bfc [Op:Conv2D] name: separable_conv1d/separable_conv2d/",
     "output_type": "error",
     "traceback": [
      "\u001b[0;31m---------------------------------------------------------------------------\u001b[0m",
      "\u001b[0;31mResourceExhaustedError\u001b[0m                    Traceback (most recent call last)",
      "\u001b[0;32m<ipython-input-15-4b572eae6b1f>\u001b[0m in \u001b[0;36m<module>\u001b[0;34m\u001b[0m\n\u001b[1;32m      1\u001b[0m \u001b[0;31m# [실제 적용] 불러온 임베딩 벡터 데이터 적용\u001b[0m\u001b[0;34m\u001b[0m\u001b[0;34m\u001b[0m\u001b[0;34m\u001b[0m\u001b[0m\n\u001b[1;32m      2\u001b[0m \u001b[0;31m# 1번째 layer\u001b[0m\u001b[0;34m\u001b[0m\u001b[0;34m\u001b[0m\u001b[0;34m\u001b[0m\u001b[0m\n\u001b[0;32m----> 3\u001b[0;31m \u001b[0mfirst_conv_applied\u001b[0m \u001b[0;34m=\u001b[0m \u001b[0mSeparableConv1D\u001b[0m\u001b[0;34m(\u001b[0m\u001b[0;36m32\u001b[0m\u001b[0;34m,\u001b[0m \u001b[0;36m3\u001b[0m\u001b[0;34m,\u001b[0m \u001b[0mactivation\u001b[0m\u001b[0;34m=\u001b[0m\u001b[0;34m'relu'\u001b[0m\u001b[0;34m)\u001b[0m\u001b[0;34m(\u001b[0m\u001b[0membedding_result\u001b[0m\u001b[0;34m)\u001b[0m\u001b[0;34m\u001b[0m\u001b[0;34m\u001b[0m\u001b[0m\n\u001b[0m\u001b[1;32m      4\u001b[0m \u001b[0mfirst_max_pool_applied\u001b[0m \u001b[0;34m=\u001b[0m \u001b[0mMaxPooling1D\u001b[0m\u001b[0;34m(\u001b[0m\u001b[0mpool_size\u001b[0m\u001b[0;34m=\u001b[0m\u001b[0;36m2\u001b[0m\u001b[0;34m)\u001b[0m\u001b[0;34m(\u001b[0m\u001b[0mfirst_conv_applied\u001b[0m\u001b[0;34m)\u001b[0m\u001b[0;34m\u001b[0m\u001b[0;34m\u001b[0m\u001b[0m\n\u001b[1;32m      5\u001b[0m \u001b[0mfirst_drop_out_applied\u001b[0m \u001b[0;34m=\u001b[0m \u001b[0mDropout\u001b[0m\u001b[0;34m(\u001b[0m\u001b[0;36m0.3\u001b[0m\u001b[0;34m)\u001b[0m\u001b[0;34m(\u001b[0m\u001b[0mfirst_max_pool_applied\u001b[0m\u001b[0;34m)\u001b[0m\u001b[0;34m\u001b[0m\u001b[0;34m\u001b[0m\u001b[0m\n",
      "\u001b[0;32m~/anaconda3/envs/tensorflow/lib/python3.7/site-packages/tensorflow_core/python/keras/engine/base_layer.py\u001b[0m in \u001b[0;36m__call__\u001b[0;34m(self, inputs, *args, **kwargs)\u001b[0m\n\u001b[1;32m    820\u001b[0m           with base_layer_utils.autocast_context_manager(\n\u001b[1;32m    821\u001b[0m               self._compute_dtype):\n\u001b[0;32m--> 822\u001b[0;31m             \u001b[0moutputs\u001b[0m \u001b[0;34m=\u001b[0m \u001b[0mself\u001b[0m\u001b[0;34m.\u001b[0m\u001b[0mcall\u001b[0m\u001b[0;34m(\u001b[0m\u001b[0mcast_inputs\u001b[0m\u001b[0;34m,\u001b[0m \u001b[0;34m*\u001b[0m\u001b[0margs\u001b[0m\u001b[0;34m,\u001b[0m \u001b[0;34m**\u001b[0m\u001b[0mkwargs\u001b[0m\u001b[0;34m)\u001b[0m\u001b[0;34m\u001b[0m\u001b[0;34m\u001b[0m\u001b[0m\n\u001b[0m\u001b[1;32m    823\u001b[0m           \u001b[0mself\u001b[0m\u001b[0;34m.\u001b[0m\u001b[0m_handle_activity_regularization\u001b[0m\u001b[0;34m(\u001b[0m\u001b[0minputs\u001b[0m\u001b[0;34m,\u001b[0m \u001b[0moutputs\u001b[0m\u001b[0;34m)\u001b[0m\u001b[0;34m\u001b[0m\u001b[0;34m\u001b[0m\u001b[0m\n\u001b[1;32m    824\u001b[0m           \u001b[0mself\u001b[0m\u001b[0;34m.\u001b[0m\u001b[0m_set_mask_metadata\u001b[0m\u001b[0;34m(\u001b[0m\u001b[0minputs\u001b[0m\u001b[0;34m,\u001b[0m \u001b[0moutputs\u001b[0m\u001b[0;34m,\u001b[0m \u001b[0minput_masks\u001b[0m\u001b[0;34m)\u001b[0m\u001b[0;34m\u001b[0m\u001b[0;34m\u001b[0m\u001b[0m\n",
      "\u001b[0;32m~/anaconda3/envs/tensorflow/lib/python3.7/site-packages/tensorflow_core/python/keras/layers/convolutional.py\u001b[0m in \u001b[0;36mcall\u001b[0;34m(self, inputs)\u001b[0m\n\u001b[1;32m   1536\u001b[0m         \u001b[0mpadding\u001b[0m\u001b[0;34m=\u001b[0m\u001b[0mop_padding\u001b[0m\u001b[0;34m.\u001b[0m\u001b[0mupper\u001b[0m\u001b[0;34m(\u001b[0m\u001b[0;34m)\u001b[0m\u001b[0;34m,\u001b[0m\u001b[0;34m\u001b[0m\u001b[0;34m\u001b[0m\u001b[0m\n\u001b[1;32m   1537\u001b[0m         \u001b[0mrate\u001b[0m\u001b[0;34m=\u001b[0m\u001b[0mdilation_rate\u001b[0m\u001b[0;34m,\u001b[0m\u001b[0;34m\u001b[0m\u001b[0;34m\u001b[0m\u001b[0m\n\u001b[0;32m-> 1538\u001b[0;31m         data_format=conv_utils.convert_data_format(self.data_format, ndim=4))\n\u001b[0m\u001b[1;32m   1539\u001b[0m \u001b[0;34m\u001b[0m\u001b[0m\n\u001b[1;32m   1540\u001b[0m     \u001b[0;32mif\u001b[0m \u001b[0mself\u001b[0m\u001b[0;34m.\u001b[0m\u001b[0muse_bias\u001b[0m\u001b[0;34m:\u001b[0m\u001b[0;34m\u001b[0m\u001b[0;34m\u001b[0m\u001b[0m\n",
      "\u001b[0;32m~/anaconda3/envs/tensorflow/lib/python3.7/site-packages/tensorflow_core/python/ops/nn_impl.py\u001b[0m in \u001b[0;36mseparable_conv2d\u001b[0;34m(input, depthwise_filter, pointwise_filter, strides, padding, rate, name, data_format, dilations)\u001b[0m\n\u001b[1;32m    978\u001b[0m         \u001b[0mpadding\u001b[0m\u001b[0;34m=\u001b[0m\u001b[0;34m\"VALID\"\u001b[0m\u001b[0;34m,\u001b[0m\u001b[0;34m\u001b[0m\u001b[0;34m\u001b[0m\u001b[0m\n\u001b[1;32m    979\u001b[0m         \u001b[0mdata_format\u001b[0m\u001b[0;34m=\u001b[0m\u001b[0mdata_format\u001b[0m\u001b[0;34m,\u001b[0m\u001b[0;34m\u001b[0m\u001b[0;34m\u001b[0m\u001b[0m\n\u001b[0;32m--> 980\u001b[0;31m         name=name)\n\u001b[0m\u001b[1;32m    981\u001b[0m \u001b[0;34m\u001b[0m\u001b[0m\n\u001b[1;32m    982\u001b[0m \u001b[0;34m\u001b[0m\u001b[0m\n",
      "\u001b[0;32m~/anaconda3/envs/tensorflow/lib/python3.7/site-packages/tensorflow_core/python/ops/nn_ops.py\u001b[0m in \u001b[0;36mconv2d\u001b[0;34m(input, filter, strides, padding, use_cudnn_on_gpu, data_format, dilations, name, filters)\u001b[0m\n\u001b[1;32m   2009\u001b[0m                            \u001b[0mdata_format\u001b[0m\u001b[0;34m=\u001b[0m\u001b[0mdata_format\u001b[0m\u001b[0;34m,\u001b[0m\u001b[0;34m\u001b[0m\u001b[0;34m\u001b[0m\u001b[0m\n\u001b[1;32m   2010\u001b[0m                            \u001b[0mdilations\u001b[0m\u001b[0;34m=\u001b[0m\u001b[0mdilations\u001b[0m\u001b[0;34m,\u001b[0m\u001b[0;34m\u001b[0m\u001b[0;34m\u001b[0m\u001b[0m\n\u001b[0;32m-> 2011\u001b[0;31m                            name=name)\n\u001b[0m\u001b[1;32m   2012\u001b[0m \u001b[0;34m\u001b[0m\u001b[0m\n\u001b[1;32m   2013\u001b[0m \u001b[0;34m\u001b[0m\u001b[0m\n",
      "\u001b[0;32m~/anaconda3/envs/tensorflow/lib/python3.7/site-packages/tensorflow_core/python/ops/gen_nn_ops.py\u001b[0m in \u001b[0;36mconv2d\u001b[0;34m(input, filter, strides, padding, use_cudnn_on_gpu, explicit_paddings, data_format, dilations, name)\u001b[0m\n\u001b[1;32m    935\u001b[0m         \u001b[0;32mpass\u001b[0m  \u001b[0;31m# Add nodes to the TensorFlow graph.\u001b[0m\u001b[0;34m\u001b[0m\u001b[0;34m\u001b[0m\u001b[0m\n\u001b[1;32m    936\u001b[0m     \u001b[0;32mexcept\u001b[0m \u001b[0m_core\u001b[0m\u001b[0;34m.\u001b[0m\u001b[0m_NotOkStatusException\u001b[0m \u001b[0;32mas\u001b[0m \u001b[0me\u001b[0m\u001b[0;34m:\u001b[0m\u001b[0;34m\u001b[0m\u001b[0;34m\u001b[0m\u001b[0m\n\u001b[0;32m--> 937\u001b[0;31m       \u001b[0m_ops\u001b[0m\u001b[0;34m.\u001b[0m\u001b[0mraise_from_not_ok_status\u001b[0m\u001b[0;34m(\u001b[0m\u001b[0me\u001b[0m\u001b[0;34m,\u001b[0m \u001b[0mname\u001b[0m\u001b[0;34m)\u001b[0m\u001b[0;34m\u001b[0m\u001b[0;34m\u001b[0m\u001b[0m\n\u001b[0m\u001b[1;32m    938\u001b[0m   \u001b[0;31m# Add nodes to the TensorFlow graph.\u001b[0m\u001b[0;34m\u001b[0m\u001b[0;34m\u001b[0m\u001b[0;34m\u001b[0m\u001b[0m\n\u001b[1;32m    939\u001b[0m   \u001b[0;32mif\u001b[0m \u001b[0;32mnot\u001b[0m \u001b[0misinstance\u001b[0m\u001b[0;34m(\u001b[0m\u001b[0mstrides\u001b[0m\u001b[0;34m,\u001b[0m \u001b[0;34m(\u001b[0m\u001b[0mlist\u001b[0m\u001b[0;34m,\u001b[0m \u001b[0mtuple\u001b[0m\u001b[0;34m)\u001b[0m\u001b[0;34m)\u001b[0m\u001b[0;34m:\u001b[0m\u001b[0;34m\u001b[0m\u001b[0;34m\u001b[0m\u001b[0m\n",
      "\u001b[0;32m~/anaconda3/envs/tensorflow/lib/python3.7/site-packages/tensorflow_core/python/framework/ops.py\u001b[0m in \u001b[0;36mraise_from_not_ok_status\u001b[0;34m(e, name)\u001b[0m\n\u001b[1;32m   6604\u001b[0m   \u001b[0mmessage\u001b[0m \u001b[0;34m=\u001b[0m \u001b[0me\u001b[0m\u001b[0;34m.\u001b[0m\u001b[0mmessage\u001b[0m \u001b[0;34m+\u001b[0m \u001b[0;34m(\u001b[0m\u001b[0;34m\" name: \"\u001b[0m \u001b[0;34m+\u001b[0m \u001b[0mname\u001b[0m \u001b[0;32mif\u001b[0m \u001b[0mname\u001b[0m \u001b[0;32mis\u001b[0m \u001b[0;32mnot\u001b[0m \u001b[0;32mNone\u001b[0m \u001b[0;32melse\u001b[0m \u001b[0;34m\"\"\u001b[0m\u001b[0;34m)\u001b[0m\u001b[0;34m\u001b[0m\u001b[0;34m\u001b[0m\u001b[0m\n\u001b[1;32m   6605\u001b[0m   \u001b[0;31m# pylint: disable=protected-access\u001b[0m\u001b[0;34m\u001b[0m\u001b[0;34m\u001b[0m\u001b[0;34m\u001b[0m\u001b[0m\n\u001b[0;32m-> 6606\u001b[0;31m   \u001b[0msix\u001b[0m\u001b[0;34m.\u001b[0m\u001b[0mraise_from\u001b[0m\u001b[0;34m(\u001b[0m\u001b[0mcore\u001b[0m\u001b[0;34m.\u001b[0m\u001b[0m_status_to_exception\u001b[0m\u001b[0;34m(\u001b[0m\u001b[0me\u001b[0m\u001b[0;34m.\u001b[0m\u001b[0mcode\u001b[0m\u001b[0;34m,\u001b[0m \u001b[0mmessage\u001b[0m\u001b[0;34m)\u001b[0m\u001b[0;34m,\u001b[0m \u001b[0;32mNone\u001b[0m\u001b[0;34m)\u001b[0m\u001b[0;34m\u001b[0m\u001b[0;34m\u001b[0m\u001b[0m\n\u001b[0m\u001b[1;32m   6607\u001b[0m   \u001b[0;31m# pylint: enable=protected-access\u001b[0m\u001b[0;34m\u001b[0m\u001b[0;34m\u001b[0m\u001b[0;34m\u001b[0m\u001b[0m\n\u001b[1;32m   6608\u001b[0m \u001b[0;34m\u001b[0m\u001b[0m\n",
      "\u001b[0;32m~/anaconda3/envs/tensorflow/lib/python3.7/site-packages/six.py\u001b[0m in \u001b[0;36mraise_from\u001b[0;34m(value, from_value)\u001b[0m\n",
      "\u001b[0;31mResourceExhaustedError\u001b[0m: OOM when allocating tensor with shape[60486,1,498,32] and type float on /job:localhost/replica:0/task:0/device:GPU:0 by allocator GPU_0_bfc [Op:Conv2D] name: separable_conv1d/separable_conv2d/"
     ]
    }
   ],
   "source": [
    "# [실제 적용] 불러온 임베딩 벡터 데이터 적용\n",
    "# 1번째 layer\n",
    "first_conv_applied = SeparableConv1D(32, 3, activation='relu')(embedding_result)\n",
    "first_max_pool_applied = MaxPooling1D(pool_size=2)(first_conv_applied)\n",
    "first_drop_out_applied = Dropout(0.3)(first_max_pool_applied)\n",
    "print(first_drop_out_applied.shape)\n",
    "\n",
    "# 2번째 layer\n",
    "second_conv_applied = SeparableConv1D(32, 3, activation='relu')(first_drop_out_applied)\n",
    "second_max_pool_applied = MaxPooling1D(pool_size=2)(second_conv_applied)\n",
    "second_drop_out_applied = Dropout(0.3)(second_max_pool_applied)\n",
    "print(second_drop_out_applied.shape)\n",
    "\n",
    "# 3번째 layer\n",
    "third_conv_applied = SeparableConv1D(32, 3, activation='relu')(second_drop_out_applied)\n",
    "\n",
    "# GlobalMaxPooling1D()\n",
    "#glob_max_pool_applied = GlobalMaxPooling1D()(third_conv_applied)\n",
    "#print(glob_max_pool_applied.shape)\n",
    "\n",
    "# GlobalAveragePooling1D()\n",
    "glob_avg_pool_applied = GlobalAveragePooling1D()(third_conv_applied)\n",
    "print(glob_avg_pool_applied.shape)"
   ]
  },
  {
   "cell_type": "code",
   "execution_count": null,
   "metadata": {},
   "outputs": [],
   "source": [
    "# 다양한 시도에도 불구하고, 메모리 오류 지속 발생"
   ]
  },
  {
   "cell_type": "markdown",
   "metadata": {},
   "source": [
    "## - 향후 과제\n",
    "- 너무 큰 데이터 사이즈로 지속적인 메모리 오류 발생\n",
    "- 해결 방안:\n",
    "    - 1.Google Cloud 메모리 대폭 증가 및 GPU 단계 대폭 업그레이드 하여 진행\n",
    "    - 2.데이터 양 대폭 감소; 텍스트 데이터 처리를 위해서도, 마지막의 딥러닝 단계를 위해서도 데이터 양 감소가 필요할 것으로 생각됨\n",
    "    - 3 텍스트 데이터 처리 방식을 바꾸는 것도 고려; 임베딩(Word2Vec, GloVe 등)을 쓰기 위해서는 X, y가 필요하지만 분류는 마지막에 다 합치고 나서야 할 수 있음. 그렇다는건 Word2Vec이나 GloVe 같은 것들을 이용해서 훈련을 시키는 것에 어려움이 있음. 그나마 이미 훈련된 벡터를 가져와 쓸 수 있는 것 정도. 사실 불러오는데 용량도 많이 차지하고 메모리 소요도 꽤 크지 않을까 생각이 되는데, 그렇다면, Tfidf 같은 y 값도 필요없고 좀 더 간단하고 좀 더 가벼운 방법들을 쓰는게 메모리 사용에 있어 더 효율적이지 않을까 생각됨.하지만 모델 성능이 떨어질 리스크가 큼."
   ]
  },
  {
   "cell_type": "code",
   "execution_count": null,
   "metadata": {},
   "outputs": [],
   "source": []
  },
  {
   "cell_type": "markdown",
   "metadata": {},
   "source": [
    "# 7. (문제 해결 후) 처리된 메타, 이미지, 텍스트 데이터 결합 및 딥러닝 예측 모델링<a class=\"anchor\" id = \"c7\"> </a>\n",
    "---"
   ]
  },
  {
   "cell_type": "code",
   "execution_count": null,
   "metadata": {},
   "outputs": [],
   "source": [
    "# 처리한 텍스트 데이터를 처리한 메타 데이터와 이미지 데이터와 다 결합\n",
    "# 만약 텍스트 데이터 처리 과정에서 데이터 양을 줄였다면, 텍스트 데이터셋은 행이 감소했을 텐데\n",
    "# 하지만 고유 index 번호를 남겨 놓았으니, 이미지 데이터와 메타 데이터 index에 맞게 결합하고\n",
    "# 결합 후엔 이미지 데이터와 메타 데이터의 결측치가 있는 행들은 다 제거하면 됨"
   ]
  },
  {
   "cell_type": "code",
   "execution_count": null,
   "metadata": {},
   "outputs": [],
   "source": [
    "model = Sequential()\n",
    "#model.add(Dense(256, activation='relu', input_shape=(4*4*512)))\n",
    "model.add(Dense(1, activation='sigmoid'))"
   ]
  },
  {
   "cell_type": "code",
   "execution_count": null,
   "metadata": {},
   "outputs": [],
   "source": [
    "model.compile(loss='binary_crossentropy',\n",
    "              optimizer=optimizers.Adam(lr=0.0001),\n",
    "              metrics=['accuracy'])\n",
    "\n",
    "history = model.fit_generator(\n",
    "          train_generator,\n",
    "          steps_per_epoch=200,\n",
    "          epochs=30,\n",
    "          validation_data=validation_generator,\n",
    "          validation_steps=50)"
   ]
  },
  {
   "cell_type": "code",
   "execution_count": null,
   "metadata": {},
   "outputs": [],
   "source": []
  }
 ],
 "metadata": {
  "colab": {
   "collapsed_sections": [],
   "name": "Kickstarter.ipynb",
   "provenance": []
  },
  "kernelspec": {
   "display_name": "Python 3",
   "language": "python",
   "name": "python3"
  },
  "language_info": {
   "codemirror_mode": {
    "name": "ipython",
    "version": 3
   },
   "file_extension": ".py",
   "mimetype": "text/x-python",
   "name": "python",
   "nbconvert_exporter": "python",
   "pygments_lexer": "ipython3",
   "version": "3.8.10"
  }
 },
 "nbformat": 4,
 "nbformat_minor": 4
}
