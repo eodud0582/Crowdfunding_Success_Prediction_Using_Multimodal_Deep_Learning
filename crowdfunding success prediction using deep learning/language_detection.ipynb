{
 "cells": [
  {
   "cell_type": "code",
   "execution_count": null,
   "metadata": {},
   "outputs": [],
   "source": [
    "#language detect"
   ]
  },
  {
   "cell_type": "code",
   "execution_count": null,
   "metadata": {},
   "outputs": [],
   "source": [
    "# https://pypi.org/project/langdetect/\n",
    "# pip install langdetect \n",
    "# \n",
    "# https://en.wikipedia.org/wiki/List_of_ISO_639-1_codes\n",
    "# af, ar, bg, bn, ca, cs, cy, da, de, el, en, es, et, fa, fi, fr, gu, \n",
    "# he, hi, hr, hu, id, it, ja, kn, ko, lt, lv, mk, ml, mr, ne, nl, no, pa, pl, pt, ro, ru, sk, sl, so, sq, sv, sw, ta, te, th, tl, tr, uk, ur, vi, zh-cn, zh-tw\n",
    "​\n",
    "from langdetect import detect\n",
    "lang = detect('The sharp exchanges in the Nevada debate reflected the urgency of the moment as Michael Bloomberg, in his first presidential debate, was sharply criticized in personal terms.')\n",
    "print(lang)\n",
    "lang = detect('新型コロナウイルスの感染症が集団発生したクルーズ船「ダイヤモンド・プリンセス」の乗客で、感染が確認され入院中だった80代の男女2人が死亡したことが、関係者への取材で明らかになった。クルーズ船の乗客の死亡が確認されたのは初めて。厚生労働省などが2人が感染した経緯などを調べている。')\n",
    "print(lang)\n",
    "lang = detect('Elle l’a dans la foulée accusé d’avoir « soutenu des politiques racistes », en référence notamment aux interpellations et fouilles arbitraires (« stop-and-frisk »), accusées d’avoir suscité une explosion des contrôles au faciès à New York lorsqu’il était maire de la ville.')\n",
    "print(lang)\n",
    "lang = detect('他们是两个年幼孩子的父母，这个春节，却没能陪孩子们吃过一顿团圆饭；他们在同一座城市，自抗击新冠病毒这场战“疫”打响以来，却很久没能见上一面；他们都是共产党员，战斗在疾控一线的特殊岗位上，也是距离病毒最近的地方')\n",
    "print(lang)\n",
    "lang = detect('류현진은 20일(한국시각) 토론토 블루제이스 캠프가 진행중인 플로리다 TD볼파크 인근 바비 매틱 컴플렉스에서 첫 라이브 피칭을 소화했다. 25구 정도 몸을 가볍게 푼 류현진은 이후 타자를 상대로 30구 정도를 던졌다. 이후 불펜 피칭을 10개 넘게 소화했다.')\n",
    "print(lang)\n",
    "lang = detect('류현진은 20일(한국시각) toronto blue jays 캠프가 他们是两个年幼孩子的父母 플로리다 TD볼파크 인근 바비 매틱 컴플렉스에서 첫 라이브 피칭을 소화했다. 25구 정도 몸을 가볍게 푼 류현진은 이후 타자를 상대로 30구 정도를 던졌다. 이후 불펜 피칭을 10개 넘게 소화했다.')\n",
    "print(lang)"
   ]
  }
 ],
 "metadata": {
  "kernelspec": {
   "display_name": "Python 3",
   "language": "python",
   "name": "python3"
  },
  "language_info": {
   "codemirror_mode": {
    "name": "ipython",
    "version": 3
   },
   "file_extension": ".py",
   "mimetype": "text/x-python",
   "name": "python",
   "nbconvert_exporter": "python",
   "pygments_lexer": "ipython3",
   "version": "3.8.10"
  }
 },
 "nbformat": 4,
 "nbformat_minor": 4
}
